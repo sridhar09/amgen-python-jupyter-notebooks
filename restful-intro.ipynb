{
 "cells": [
  {
   "cell_type": "markdown",
   "metadata": {
    "slideshow": {
     "slide_type": "slide"
    }
   },
   "source": [
    "# Intro to REST APIs\n",
    "\n",
    " - What is a REST API?\n",
    " - What is HATEOS, and why is it important?\n",
    " - How does the HTTP request/response cycle work?\n",
    " - What are the HTTP verbs, and how do they work?\n",
    " - How can we map create-read-update-delete (CRUD) operations onto the HTTP verbs?\n",
    " - What are some common HTTP response codes and what do they mean?"
   ]
  },
  {
   "cell_type": "markdown",
   "metadata": {
    "slideshow": {
     "slide_type": "slide"
    }
   },
   "source": [
    "# What is REST, anyway?\n",
    "\n",
    "**Re**presentational **S**tate **T**ransfer, from Roy Fielding's Thesis: https://www.ics.uci.edu/~fielding/pubs/dissertation/rest_arch_style.htm\n",
    "\n",
    " - Architectural style that embraces the basic technologies of the web (HTTP and hyptertext)\n",
    " - *Not* a specification like SOAP, XMLRPC, or others\n"
   ]
  },
  {
   "cell_type": "markdown",
   "metadata": {
    "slideshow": {
     "slide_type": "slide"
    }
   },
   "source": [
    "## Main characteristics of REST\n",
    "\n",
    " - There are some abstract _resources_ that you wish to expose to the web\n",
    " - Those _resources_ have one or more _representations_ (HTML, JSON, and XML are common)\n",
    " - Resources are unambiguously identified by a _resource identifier_ (URL)\n",
    " - _Hypermedia_ is used to link resources to one another using their URLs"
   ]
  },
  {
   "cell_type": "markdown",
   "metadata": {
    "slideshow": {
     "slide_type": "slide"
    }
   },
   "source": [
    "# HATEOAS\n",
    "\n",
    "**H**ypertext **a**s **t**he **e**ngine **o**f **a**pplication **s**tate\n",
    "\n",
    " - Applications can use the API without any prior knowledge of its URL structure\n",
    " - All resources are located using URLs that are present in other resources\n",
    " - There is an initial URL / resource from which you can discover all other URLs / resources in the API\n",
    " - Your client code and your server code can evolve independently"
   ]
  },
  {
   "cell_type": "markdown",
   "metadata": {
    "slideshow": {
     "slide_type": "slide"
    }
   },
   "source": [
    "# REST and HTTP\n",
    "\n",
    "(**H**yper**t**ext **t**ransfer **p**rotocol, for those who were wondering)\n",
    "\n",
    "The web, as it's used by web browsers and random folks, is more or less a REST API.\n",
    "\n",
    " - You use a small number of entry points\n",
    " - All resources are fetched using URLs, usually by following a link in another resource\n",
    " - Your browser negotiates the exact representation of each resource, but generally fetches HTML and images"
   ]
  },
  {
   "cell_type": "markdown",
   "metadata": {
    "slideshow": {
     "slide_type": "slide"
    }
   },
   "source": [
    "# HTTP Overview: The request\n",
    "\n",
    "At a conceptual level, HTTP is just a series of requests and responses. An HTTP request consists of:\n",
    "\n",
    " - The request line (e.g. `GET / HTTP/1.1`)\n",
    "   - Verb: `GET`\n",
    "   - URL: `/`\n",
    "   - HTTP version: `HTTP/1.1`\n",
    " - Headers for metadata about the request (e.g. `Host: www.cnn.com` or `Authorization: basic foobarbaz`)\n",
    " - (sometimes) a body containing a representation"
   ]
  },
  {
   "cell_type": "markdown",
   "metadata": {
    "slideshow": {
     "slide_type": "slide"
    }
   },
   "source": [
    "# HTTP Overview: The verbs\n",
    "\n",
    " - GET - retrieve a resource by URL\n",
    " - PUT - replace a resource at a given URL with the content of this request\n",
    " - DELETE - delete the resource at this URL\n",
    " - POST - do something else\n",
    " - PATCH (proposed but not yet standard) - update the resource at a given URL with the content of this request"
   ]
  },
  {
   "cell_type": "markdown",
   "metadata": {
    "slideshow": {
     "slide_type": "slide"
    }
   },
   "source": [
    "# HTTP Overview: The verbs\n",
    "\n",
    "- Safe: does it leave the resource unmodified?\n",
    "- Idempotent: if you issue the request a single time, is the resource the same as if you issue the request multiple times?\n",
    "- Body: does the request include a resource representation in the body?\n",
    "\n",
    "\n",
    "| Verb   | Safe? | Idempotent? | Body? |\n",
    "|--------|-------|-------------|-------|\n",
    "| GET    | yes   | yes         | no    |\n",
    "| PUT    | no    | yes         | yes   |\n",
    "| POST   | no    | no          | yes   |\n",
    "| DELETE | no    | yes         | maybe |\n",
    "| PATCH  | no    | no          | yes   |"
   ]
  },
  {
   "cell_type": "markdown",
   "metadata": {
    "slideshow": {
     "slide_type": "slide"
    }
   },
   "source": [
    "# JSON: Javascript Object Notation\n",
    "\n",
    "```json\n",
    "{\"JSON\": {\n",
    "    \"can_contain\": {\n",
    "        \"integers\": 3, \n",
    "        \"floating_point\": 3.14,\n",
    "        \"strings\": \"foobar\",\n",
    "        \"boolean\": [true, false],\n",
    "        \"arrays\": [],\n",
    "        \"sub-objects\": {},\n",
    "        \"null\": null\n",
    "    }\n",
    "}}\n",
    "```"
   ]
  },
  {
   "cell_type": "code",
   "execution_count": 1,
   "metadata": {},
   "outputs": [],
   "source": [
    "import json\n",
    "s='''{\"JSON\": {\n",
    "    \"can_contain\": {\n",
    "        \"integers\": 3, \n",
    "        \"floating_point\": 3.14,\n",
    "        \"strings\": \"foobar\",\n",
    "        \"boolean\": [true, false],\n",
    "        \"arrays\": [],\n",
    "        \"sub-objects\": {},\n",
    "        \"null\": null\n",
    "    }\n",
    "}}\n",
    "'''"
   ]
  },
  {
   "cell_type": "code",
   "execution_count": 2,
   "metadata": {},
   "outputs": [
    {
     "data": {
      "text/plain": [
       "{'JSON': {'can_contain': {'integers': 3,\n",
       "   'floating_point': 3.14,\n",
       "   'strings': 'foobar',\n",
       "   'boolean': [True, False],\n",
       "   'arrays': [],\n",
       "   'sub-objects': {},\n",
       "   'null': None}}}"
      ]
     },
     "execution_count": 2,
     "metadata": {},
     "output_type": "execute_result"
    }
   ],
   "source": [
    "json.loads(s)"
   ]
  },
  {
   "cell_type": "code",
   "execution_count": 3,
   "metadata": {},
   "outputs": [
    {
     "data": {
      "text/plain": [
       "'{\"foo\": \"bar\"}'"
      ]
     },
     "execution_count": 3,
     "metadata": {},
     "output_type": "execute_result"
    }
   ],
   "source": [
    "json.dumps({'foo': 'bar'})"
   ]
  },
  {
   "cell_type": "code",
   "execution_count": 4,
   "metadata": {},
   "outputs": [
    {
     "data": {
      "text/plain": [
       "{'foo': 'bar'}"
      ]
     },
     "execution_count": 4,
     "metadata": {},
     "output_type": "execute_result"
    }
   ],
   "source": [
    "json.loads(json.dumps({'foo': 'bar'}))"
   ]
  },
  {
   "cell_type": "markdown",
   "metadata": {
    "slideshow": {
     "slide_type": "slide"
    }
   },
   "source": [
    "# One more acronym: CRUD\n",
    "\n",
    "**C**reate, **R**ead, **U**pdate, **D**elete: how we deal with data\n",
    "\n",
    "A common pattern, and one we'll use in the REST APIs we create, is to map CRUD onto the HTTP verbs as follows:\n",
    "\n",
    "| CRUD   | HTTP        |\n",
    "|--------|-------------|\n",
    "| Create | POST        |\n",
    "| Read   | GET         |\n",
    "| Update | PUT / PATCH |\n",
    "| Delete | DELETE      |"
   ]
  },
  {
   "cell_type": "markdown",
   "metadata": {
    "slideshow": {
     "slide_type": "slide"
    }
   },
   "source": [
    "# HTTP Overview: The response\n",
    "\n",
    " - The response line (e.g. `HTTP/1.1 200 OK`)\n",
    "   - HTTP Version: `HTTP/1.1`\n",
    "   - Response code: `200 OK`\n",
    " - Headers (e.g. `Cache-Control: max-age=60`)\n",
    " - (sometimes) a body containing a representation\n"
   ]
  },
  {
   "cell_type": "markdown",
   "metadata": {
    "slideshow": {
     "slide_type": "slide"
    }
   },
   "source": [
    "# HTTP Overview: Response Codes\n",
    "\n",
    "There are a lot of them. Below are the more common ones you'll use/see.\n",
    "\n",
    " - 1xx - Informational - you won't need to worry much about these\n",
    " - 2xx - Everything's OK!\n",
    "   - 200 OK\n",
    "   - 201 Created\n",
    "   - 202 Accepted\n",
    "   - 204 No Content\n",
    " - 3xx - Redirection\n",
    "   - 301 Moved Permanently\n",
    "   - 302 Found ('temporary redirect')\n",
    "   - 303 See Other (another 'temporary redirect' -- this one is \"more correct\" than 302)\n"
   ]
  },
  {
   "cell_type": "markdown",
   "metadata": {
    "slideshow": {
     "slide_type": "slide"
    }
   },
   "source": [
    "# HTTP Overview: Response Codes (error)\n",
    "\n",
    " - 4xx - There was a problem with the *client*\n",
    "   - 400 Bad Request\n",
    "   - 401 Unauthorized\n",
    "   - 403 Forbidden\n",
    "   - 404 Not Found\n",
    "   - 405 Method Not Allowed\n",
    "   - 409 Conflict\n",
    "   - 410 Gone\n",
    "   - 422 Unprocessable Entity\n",
    " - 5xx - There was a problem with the *server*\n",
    "   - 500 Internal Server Error\n",
    "   - 502 Bad Gateway\n",
    "   - 503 Service Unavailable\n",
    "   - 504 Gateway Timeout"
   ]
  },
  {
   "cell_type": "markdown",
   "metadata": {},
   "source": [
    "# HTTP/1.1 418 I'm a teapot\n",
    "\n",
    "https://tools.ietf.org/html/rfc2324#section-2.3.2"
   ]
  }
 ],
 "metadata": {
  "kernelspec": {
   "display_name": "Python 3",
   "language": "python",
   "name": "python3"
  },
  "language_info": {
   "codemirror_mode": {
    "name": "ipython",
    "version": 3
   },
   "file_extension": ".py",
   "mimetype": "text/x-python",
   "name": "python",
   "nbconvert_exporter": "python",
   "pygments_lexer": "ipython3",
   "version": "3.8.5"
  }
 },
 "nbformat": 4,
 "nbformat_minor": 2
}
