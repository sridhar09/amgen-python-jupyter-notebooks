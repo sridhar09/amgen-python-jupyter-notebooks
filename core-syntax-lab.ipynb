{
 "cells": [
  {
   "cell_type": "markdown",
   "metadata": {},
   "source": [
    "# Lab: Python Core Syntax"
   ]
  },
  {
   "cell_type": "markdown",
   "metadata": {},
   "source": [
    "## Stock \"simulator\"\n",
    "\n",
    "- Write a function `should_delist(price)` that takes a stock's share price and returns `True` if the stock should be de-listed for falling below $1.00\n",
    "- Write a function `simulate(initial_price)` that simulates a stock declining in value by 10% daily until it is de-listed. The function should print out the price for each day. "
   ]
  },
  {
   "cell_type": "code",
   "execution_count": null,
   "metadata": {},
   "outputs": [],
   "source": [
    "def should_delist(price):\n",
    "    '''YOUR CODE HERE'''\n",
    "\n",
    "def simulate(initial_price):\n",
    "    '''YOUR CODE HERE'''"
   ]
  },
  {
   "cell_type": "code",
   "execution_count": null,
   "metadata": {},
   "outputs": [],
   "source": []
  },
  {
   "cell_type": "markdown",
   "metadata": {},
   "source": [
    "## Directory\n",
    "\n",
    "Write some functions to maintain a list of mappings between names and IP addresses.\n",
    "\n",
    "Use a dictionary that maps a name to a set of strings which represent IP addresses for that name:\n",
    "\n",
    "```python\n",
    "directory = {\n",
    "    'swim': {'123.45.67.89'},\n",
    "    'bike': {'123.45.67.88', '123.45.67.80'},\n",
    "    'run': {'123.45.67.87'},\n",
    "}\n",
    "```\n"
   ]
  },
  {
   "cell_type": "code",
   "execution_count": 1,
   "metadata": {},
   "outputs": [],
   "source": [
    "def create_directory():\n",
    "    return {}\n",
    "    \n",
    "def add_ip(directory, name, address):\n",
    "    '''YOUR CODE HERE'''\n",
    "    \n",
    "def resolve(directory, name):\n",
    "    '''YOUR CODE HERE (return 'NXDOMAIN' if name not found)'''"
   ]
  },
  {
   "cell_type": "code",
   "execution_count": null,
   "metadata": {},
   "outputs": [],
   "source": []
  }
 ],
 "metadata": {
  "kernelspec": {
   "display_name": "Python 3",
   "language": "python",
   "name": "python3"
  },
  "language_info": {
   "codemirror_mode": {
    "name": "ipython",
    "version": 3
   },
   "file_extension": ".py",
   "mimetype": "text/x-python",
   "name": "python",
   "nbconvert_exporter": "python",
   "pygments_lexer": "ipython3",
   "version": "3.8.5"
  }
 },
 "nbformat": 4,
 "nbformat_minor": 2
}
