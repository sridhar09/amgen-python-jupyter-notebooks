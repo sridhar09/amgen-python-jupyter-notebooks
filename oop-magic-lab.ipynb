{
 "cells": [
  {
   "cell_type": "markdown",
   "metadata": {},
   "source": [
    "# OOP Magic Methods Lab"
   ]
  },
  {
   "cell_type": "markdown",
   "metadata": {},
   "source": [
    "```int(x) ==> x.__int__()```\n"
   ]
  },
  {
   "cell_type": "markdown",
   "metadata": {},
   "source": [
    "Create a class `Card` which inherits from a `namedtuple` but provides an `__int__` method which returns the 'score' of a card and  `__add__` and `__radd__` methods which will add the scores of two cards together and return the total score:\n",
    "\n",
    "- A => 11\n",
    "- J => 10\n",
    "- Q => 10\n",
    "- K => 10\n",
    "- 2-10 => numeric value"
   ]
  },
  {
   "cell_type": "markdown",
   "metadata": {},
   "source": [
    "```python\n",
    "Card() + 5 # Card.__add__(self, 5)\n",
    "5 + Card() # Card.__radd__(self, 5) b/c int.__add__ doesn't know how to deal with Cards\n",
    "```"
   ]
  },
  {
   "cell_type": "markdown",
   "metadata": {},
   "source": [
    "Python psuedocode:\n",
    "\n",
    "```python\n",
    "A + B\n",
    "\n",
    "if A.__add__ works:\n",
    "    return A.__add__(B)\n",
    "elif B.__radd__ works:\n",
    "    return B.__radd__(A)\n",
    "else:\n",
    "    raise TypeError\n",
    "```"
   ]
  },
  {
   "cell_type": "code",
   "execution_count": 1,
   "metadata": {},
   "outputs": [],
   "source": [
    "from collections import namedtuple\n",
    "\n",
    "_Card = namedtuple('_Card', 'rank suit')\n",
    "\n",
    "class Card(_Card): \n",
    "    def __int__(self):\n",
    "        ...\n",
    "        \n",
    "    def __add__(self, other):\n",
    "        ...\n",
    "        \n",
    "    def __radd__(self, other):\n",
    "        ...\n",
    "        "
   ]
  },
  {
   "cell_type": "markdown",
   "metadata": {},
   "source": [
    "Select 5 cards from a shuffled `Deck` of cards. What happens when you `sum` them?"
   ]
  },
  {
   "cell_type": "code",
   "execution_count": null,
   "metadata": {},
   "outputs": [],
   "source": [
    "class Deck():\n",
    "    ranks = '2 3 4 5 6 7 8 9 10 J Q K A'.split()\n",
    "    suits = 'clubs diamonds hearts spades'.split()\n",
    "\n",
    "    def __init__(self):\n",
    "        self._cards = [Card(rank, suit) for suit in self.suits\n",
    "                                        for rank in self.ranks]\n",
    "    def __len__(self):\n",
    "        return len(self._cards)\n",
    "\n",
    "    def __getitem__(self, position):\n",
    "        # implements self[position]\n",
    "        return self._cards[position]\n",
    "    \n",
    "    def __setitem__(self, position, value):\n",
    "        # implements self[position] = value\n",
    "        self._cards[position] = value"
   ]
  },
  {
   "cell_type": "code",
   "execution_count": null,
   "metadata": {},
   "outputs": [],
   "source": []
  },
  {
   "cell_type": "markdown",
   "metadata": {},
   "source": [
    "# Building a proxy object\n",
    "\n",
    "But a class which acts as a global 'proxy' object `Proxy`:\n",
    "\n",
    "- your class should have a `set_value()` method to set the object that it is proxying\n",
    "- your class should use `__getattr__` to forward attribute access to its underlying object\n"
   ]
  },
  {
   "cell_type": "code",
   "execution_count": null,
   "metadata": {},
   "outputs": [],
   "source": []
  },
  {
   "cell_type": "markdown",
   "metadata": {},
   "source": [
    "Test your class with the following code:"
   ]
  },
  {
   "cell_type": "code",
   "execution_count": null,
   "metadata": {},
   "outputs": [],
   "source": [
    "p = Proxy()\n",
    "p.set_value('foo')\n",
    "print(p)       # __repr__\n",
    "\n",
    "p.set_value(5)\n",
    "print(p + 10)  # __add__"
   ]
  },
  {
   "cell_type": "markdown",
   "metadata": {},
   "source": [
    "# Javascript-like `dict` subclass\n",
    "\n",
    "Build a class which inherits from `dict` but allows you to look up items in the dictionary with attribute access:\n",
    "\n",
    "```python\n",
    "\n",
    "d = AttrDict(a=5, b=10)\n",
    "assert d.a == d['a'], 'Not equal'\n",
    "```"
   ]
  },
  {
   "cell_type": "code",
   "execution_count": null,
   "metadata": {},
   "outputs": [],
   "source": [
    "class AttrDict(dict): \n",
    "    ..."
   ]
  }
 ],
 "metadata": {
  "kernelspec": {
   "display_name": "Python 3",
   "language": "python",
   "name": "python3"
  },
  "language_info": {
   "codemirror_mode": {
    "name": "ipython",
    "version": 3
   },
   "file_extension": ".py",
   "mimetype": "text/x-python",
   "name": "python",
   "nbconvert_exporter": "python",
   "pygments_lexer": "ipython3",
   "version": "3.8.5"
  }
 },
 "nbformat": 4,
 "nbformat_minor": 2
}
