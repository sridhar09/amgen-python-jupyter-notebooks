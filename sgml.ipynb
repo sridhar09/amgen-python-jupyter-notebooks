{
 "cells": [
  {
   "cell_type": "markdown",
   "metadata": {},
   "source": [
    "# Parsing HTML and XML"
   ]
  },
  {
   "cell_type": "code",
   "execution_count": 1,
   "metadata": {},
   "outputs": [],
   "source": [
    "import requests"
   ]
  },
  {
   "cell_type": "code",
   "execution_count": 2,
   "metadata": {},
   "outputs": [],
   "source": [
    "resp_h5 = requests.get('https://www.google.com')\n",
    "resp_h4 = requests.get('http://www.duckduckgo.com', allow_redirects=False)   # 301 redirect"
   ]
  },
  {
   "cell_type": "code",
   "execution_count": 3,
   "metadata": {},
   "outputs": [],
   "source": [
    "html5_content = resp_h5.content\n",
    "html4_content = resp_h4.content"
   ]
  },
  {
   "cell_type": "code",
   "execution_count": 4,
   "metadata": {},
   "outputs": [
    {
     "data": {
      "text/plain": [
       "b'<html>\\r\\n<head><title>301 Moved Permanently</title></head>\\r\\n<body>\\r\\n<center><h1>301 Moved Permanently</h1></center>\\r\\n<hr><center>nginx</center>\\r\\n</body>\\r\\n</html>\\r\\n'"
      ]
     },
     "execution_count": 4,
     "metadata": {},
     "output_type": "execute_result"
    }
   ],
   "source": [
    "html4_content"
   ]
  },
  {
   "cell_type": "code",
   "execution_count": 5,
   "metadata": {},
   "outputs": [
    {
     "data": {
      "text/plain": [
       "b'<!doctype html><html itemscope=\"\" itemtype=\"http://schema.org/WebPage\" lang=\"en\"><head><meta content=\"Search the world\\'s information, including webpages, images, videos and more. Google has many special features to help you find exactly what you\\'re looking for.\" name=\"description\"><meta content=\"noodp\" name=\"robots\"><meta content=\"text/html; charset=UTF-8\" http-equiv=\"Content-Type\"><meta content=\"/logos/doodles/2021/day-of-the-dead-2021-6753651837109263-law.gif\" itemprop=\"image\"><meta content=\"Day of the Dead 2021\" property=\"twitter:title\"><meta content=\"Happy Day of the Dead 2021! #GoogleDoodle\" property=\"twitter:description\"><meta content=\"Happy Day of the Dead 2021! #GoogleDoodle\" property=\"og:description\"><meta content=\"summary_large_image\" property=\"twitter:card\"><meta content=\"@GoogleDoodles\" property=\"twitter:site\"><meta content=\"https://www.google.com/logos/doodles/2021/day-of-the-dead-2021-6753651837109263-2xa.gif\" property=\"twitter:image\"><meta content=\"https://www.google.com/logos/doodles/2021/day-of-the-dead-2021-6753651837109263-2xa.gif\" property=\"og:image\"><meta content=\"1200\" property=\"og:image:width\"><meta content=\"440\" property=\"og:image:height\"><meta content=\"https://www.google.com/logos/doodles/2021/day-of-the-dead-2021-6753651837109263-2xa.gif\" property=\"og:url\"><meta content=\"video.other\" property=\"og:type\"><title>Google</title><script nonce=\"n/jl15sJF+McrrMe+CN8Xw==\">(function(){window.google={kEI:\\'i7CBYbygFOGvqtsP-YG7iAU\\',kEXPI:\\'0,1302536,56873,6058,207,4804,926,1390,383,246,5,1354,4936,314,1122516,1197736,633,42,328856,51223,16115,17444,1954,9286,17572,4859,1361,9291,3024,2820,9923,4841,4020,978,13122,106,3847,10622,1142,13621,7059,919,5970,704,1279,2212,241,289,149,1103,842,1981,214,4100,109,3405,606,2023,2297,14670,3227,1990,855,7,12354,5096,14396,1924,908,2,16265,432,3,1590,1,5444,804,10668,2652,4,1528,2304,1236,5227,576,74,1983,2626,2013,11503,3824,3050,2658,7355,32,5616,8012,1591,714,639,37,1456,12852,2499,1435,5815,2542,4094,3139,5,908,3,3541,1,14710,1,1813,283,912,5992,1161,13517,746,1,22,1281,1715,2,3357,5855,627,4,32,4,4143,1244,4,683,442,342,255,55,4,2813,121,285,2015,5853,9320,1143,1160,6700,2380,2718,3709,2,1479,4832,8257,1,8,137,2,4763,2834,2124,2443,2578,3132,278,265,4020,1,2,2,305,2308,85,1,3779,3,2934,1502,3692,3802,444,545,462,5395,1,8,759,1625,4,504,1601,290,651,6,237,535,1103,969,702,68,1701,1222,829,426,129,371,2,1036,262,371,785,285,1257,870,1623,146,3,2,20,3,2,121,64,277,410,1453,341,225,137,146,40,839,463,121,161,405,1007,58,3,187,604,237,192,4,7,37,497,14,2,2,1,917,2,488,355,435,526,584,2035,5,2,341,309,384,512,267,2,446,3138,142,205,673,578,155,585,293,596,49,192,2,789,5540104,3905,100,346,315,5996553,2800697,882,444,1,2,80,1,1796,1,9,2553,1,748,141,795,563,1,4265,1,1,2,1331,4142,2609,155,17,13,72,139,4,2,20,2,169,13,19,46,5,39,96,548,29,2,2,1,2,1,2,2,7,4,1,2,2,2,2,2,2,353,513,186,1,1,158,3,2,2,2,2,2,4,2,3,3,269,1033,23,1,160,2,11,9,1,6,1,6,2,2,10,12,5,1,1,3,8,35,27,2,17,6,9,23953330,4041351,338,3,2414,1007,484,9,1435,1517,287,92,27,1154,1662,339,1524,567,635\\',kBL:\\'A88h\\'};google.sn=\\'webhp\\';google.kHL=\\'en\\';})();(function(){\\nvar f=this||self;var h,k=[];function l(a){for(var b;a&&(!a.getAttribute||!(b=a.getAttribute(\"eid\")));)a=a.parentNode;return b||h}function m(a){for(var b=null;a&&(!a.getAttribute||!(b=a.getAttribute(\"leid\")));)a=a.parentNode;return b}\\nfunction n(a,b,c,d,g){var e=\"\";c||-1!==b.search(\"&ei=\")||(e=\"&ei=\"+l(d),-1===b.search(\"&lei=\")&&(d=m(d))&&(e+=\"&lei=\"+d));d=\"\";!c&&f._cshid&&-1===b.search(\"&cshid=\")&&\"slh\"!==a&&(d=\"&cshid=\"+f._cshid);c=c||\"/\"+(g||\"gen_204\")+\"?atyp=i&ct=\"+a+\"&cad=\"+b+e+\"&zx=\"+Date.now()+d;/^http:/i.test(c)&&\"https:\"===window.location.protocol&&(google.ml&&google.ml(Error(\"a\"),!1,{src:c,glmm:1}),c=\"\");return c};h=google.kEI;google.getEI=l;google.getLEI=m;google.ml=function(){return null};google.log=function(a,b,c,d,g){if(c=n(a,b,c,d,g)){a=new Image;var e=k.length;k[e]=a;a.onerror=a.onload=a.onabort=function(){delete k[e]};a.src=c}};google.logUrl=n;}).call(this);(function(){\\ngoogle.y={};google.sy=[];google.x=function(a,b){if(a)var c=a.id;else{do c=Math.random();while(google.y[c])}google.y[c]=[a,b];return!1};google.sx=function(a){google.sy.push(a)};google.lm=[];google.plm=function(a){google.lm.push.apply(google.lm,a)};google.lq=[];google.load=function(a,b,c){google.lq.push([[a],b,c])};google.loadAll=function(a,b){google.lq.push([a,b])};google.bx=!1;google.lx=function(){};}).call(this);google.f={};(function(){\\ndocument.documentElement.addEventListener(\"submit\",function(b){var a;if(a=b.target){var c=a.getAttribute(\"data-submitfalse\");a=\"1\"===c||\"q\"===c&&!a.elements.q.value?!0:!1}else a=!1;a&&(b.preventDefault(),b.stopPropagation())},!0);document.documentElement.addEventListener(\"click\",function(b){var a;a:{for(a=b.target;a&&a!==document.documentElement;a=a.parentElement)if(\"A\"===a.tagName){a=\"1\"===a.getAttribute(\"data-nohref\");break a}a=!1}a&&b.preventDefault()},!0);}).call(this);</script><style>#gbar,#guser{font-size:13px;padding-top:1px !important;}#gbar{height:22px}#guser{padding-bottom:7px !important;text-align:right}.gbh,.gbd{border-top:1px solid #c9d7f1;font-size:1px}.gbh{height:0;position:absolute;top:24px;width:100%}@media all{.gb1{height:22px;margin-right:.5em;vertical-align:top}#gbar{float:left}}a.gb1,a.gb4{text-decoration:underline !important}a.gb1,a.gb4{color:#00c !important}.gbi .gb4{color:#dd8e27 !important}.gbf .gb4{color:#900 !important}\\n</style><style>body,td,a,p,.h{font-family:arial,sans-serif}body{margin:0;overflow-y:scroll}#gog{padding:3px 8px 0}td{line-height:.8em}.gac_m td{line-height:17px}form{margin-bottom:20px}.h{color:#1558d6}em{font-weight:bold;font-style:normal}.lst{height:25px;width:496px}.gsfi,.lst{font:18px arial,sans-serif}.gsfs{font:17px arial,sans-serif}.ds{display:inline-box;display:inline-block;margin:3px 0 4px;margin-left:4px}input{font-family:inherit}body{background:#fff;color:#000}a{color:#4b11a8;text-decoration:none}a:hover,a:active{text-decoration:underline}.fl a{color:#1558d6}a:visited{color:#4b11a8}.sblc{padding-top:5px}.sblc a{display:block;margin:2px 0;margin-left:13px;font-size:11px}.lsbb{background:#f8f9fa;border:solid 1px;border-color:#dadce0 #70757a #70757a #dadce0;height:30px}.lsbb{display:block}#WqQANb a{display:inline-block;margin:0 12px}.lsb{background:url(/images/nav_logo229.png) 0 -261px repeat-x;border:none;color:#000;cursor:pointer;height:30px;margin:0;outline:0;font:15px arial,sans-serif;vertical-align:top}.lsb:active{background:#dadce0}.lst:focus{outline:none}</style><script nonce=\"n/jl15sJF+McrrMe+CN8Xw==\">(function(){window.google.erd={sp:\\'hp\\',jsr:0,bv:1469,de:true};\\nvar f=this||self;var g,h,k=null!==(g=f.mei)&&void 0!==g?g:1,l=null!==(h=f.sdo)&&void 0!==h?h:!0,n=0,p,q=google.erd,t=q.jsr;google.ml=function(a,b,e,m,d){d=void 0===d?2:d;b&&(p=a&&a.message);if(google.dl)return google.dl(a,d,e),null;if(0>t){window.console&&console.error(a,e);if(-2===t)throw a;b=!1}else b=!a||!a.message||\"Error loading script\"===a.message||n>=k&&!m?!1:!0;if(!b)return null;n++;e=e||{};b=encodeURIComponent;var c=\"/gen_204?atyp=i&ei=\"+b(google.kEI);google.kEXPI&&(c+=\"&jexpid=\"+b(google.kEXPI));c+=\"&srcpg=\"+b(google.sn)+\"&jsr=\"+b(q.jsr)+\"&bver=\"+b(q.bv)+(\"&jsel=\"+d);for(var r in e)c+=\"&\",c+=b(r),c+=\"=\",c+=\\nb(e[r]);c=c+\"&emsg=\"+b(a.name+\": \"+a.message);c=c+\"&jsst=\"+b(a.stack||\"N/A\");12288<=c.length&&(c=c.substr(0,12288));a=c;m||google.log(0,\"\",a);return a};window.onerror=function(a,b,e,m,d){p!==a&&google.ml(d instanceof Error?d:Error(a),!1,void 0,!1,!d||d instanceof SyntaxError?2:0);p=null;l&&n>=k&&(window.onerror=null)};})();</script></head><body bgcolor=\"#fff\"><script nonce=\"n/jl15sJF+McrrMe+CN8Xw==\">(function(){var src=\\'/images/nav_logo229.png\\';var iesg=false;document.body.onload = function(){window.n && window.n();if (document.images){new Image().src=src;}\\nif (!iesg){document.f&&document.f.q.focus();document.gbqf&&document.gbqf.q.focus();}\\n}\\n})();</script><div id=\"mngb\"><div id=gbar><nobr><b class=gb1>Search</b> <a class=gb1 href=\"https://www.google.com/imghp?hl=en&tab=wi\">Images</a> <a class=gb1 href=\"https://maps.google.com/maps?hl=en&tab=wl\">Maps</a> <a class=gb1 href=\"https://play.google.com/?hl=en&tab=w8\">Play</a> <a class=gb1 href=\"https://www.youtube.com/?gl=US&tab=w1\">YouTube</a> <a class=gb1 href=\"https://news.google.com/?tab=wn\">News</a> <a class=gb1 href=\"https://mail.google.com/mail/?tab=wm\">Gmail</a> <a class=gb1 href=\"https://drive.google.com/?tab=wo\">Drive</a> <a class=gb1 style=\"text-decoration:none\" href=\"https://www.google.com/intl/en/about/products?tab=wh\"><u>More</u> &raquo;</a></nobr></div><div id=guser width=100%><nobr><span id=gbn class=gbi></span><span id=gbf class=gbf></span><span id=gbe></span><a href=\"http://www.google.com/history/optout?hl=en\" class=gb4>Web History</a> | <a  href=\"/preferences?hl=en\" class=gb4>Settings</a> | <a target=_top id=gb_70 href=\"https://accounts.google.com/ServiceLogin?hl=en&passive=true&continue=https://www.google.com/&ec=GAZAAQ\" class=gb4>Sign in</a></nobr></div><div class=gbh style=left:0></div><div class=gbh style=right:0></div></div><center><br clear=\"all\" id=\"lgpd\"><div id=\"lga\"><a href=\"/search?ie=UTF-8&amp;q=Day+of+the+Dead&amp;oi=ddle&amp;ct=183975246&amp;hl=en&amp;si=AHuW2sT-QI6yLdyEfUBJHlK3UbYl5IMFaEVy5cpr0uPqDA9_orItmtK-RUDMXW2jBrveUiOs-PG0zrdB142sdd5j99n3k78UmE9HWvg4y2oq-n40RJasTX0%3D&amp;sa=X&amp;ved=0ahUKEwj8kejA0vrzAhXhl2oFHfnADlEQPQgD\"><img alt=\"Day of the Dead 2021\" border=\"0\" height=\"210\" src=\"/logos/doodles/2021/day-of-the-dead-2021-6753651837109263-law.gif\" title=\"Day of the Dead 2021\" width=\"573\" id=\"hplogo\"><br></a><br></div><form action=\"/search\" name=\"f\"><table cellpadding=\"0\" cellspacing=\"0\"><tr valign=\"top\"><td width=\"25%\">&nbsp;</td><td align=\"center\" nowrap=\"\"><input name=\"ie\" value=\"ISO-8859-1\" type=\"hidden\"><input value=\"en\" name=\"hl\" type=\"hidden\"><input name=\"source\" type=\"hidden\" value=\"hp\"><input name=\"biw\" type=\"hidden\"><input name=\"bih\" type=\"hidden\"><div class=\"ds\" style=\"height:32px;margin:4px 0\"><input class=\"lst\" style=\"margin:0;padding:5px 8px 0 6px;vertical-align:top;color:#000\" autocomplete=\"off\" value=\"\" title=\"Google Search\" maxlength=\"2048\" name=\"q\" size=\"57\"></div><br style=\"line-height:0\"><span class=\"ds\"><span class=\"lsbb\"><input class=\"lsb\" value=\"Google Search\" name=\"btnG\" type=\"submit\"></span></span><span class=\"ds\"><span class=\"lsbb\"><input class=\"lsb\" id=\"tsuid1\" value=\"I\\'m Feeling Lucky\" name=\"btnI\" type=\"submit\"><script nonce=\"n/jl15sJF+McrrMe+CN8Xw==\">(function(){var id=\\'tsuid1\\';document.getElementById(id).onclick = function(){if (this.form.q.value){this.checked = 1;if (this.form.iflsig)this.form.iflsig.disabled = false;}\\nelse top.location=\\'/doodles/\\';};})();</script><input value=\"ALs-wAMAAAAAYYG-m4VE8qJXuy5u45DfUc2jlXuLXuJP\" name=\"iflsig\" type=\"hidden\"></span></span></td><td class=\"fl sblc\" align=\"left\" nowrap=\"\" width=\"25%\"><a href=\"/advanced_search?hl=en&amp;authuser=0\">Advanced search</a></td></tr></table><input id=\"gbv\" name=\"gbv\" type=\"hidden\" value=\"1\"><script nonce=\"n/jl15sJF+McrrMe+CN8Xw==\">(function(){\\nvar a,b=\"1\";if(document&&document.getElementById)if(\"undefined\"!=typeof XMLHttpRequest)b=\"2\";else if(\"undefined\"!=typeof ActiveXObject){var c,d,e=[\"MSXML2.XMLHTTP.6.0\",\"MSXML2.XMLHTTP.3.0\",\"MSXML2.XMLHTTP\",\"Microsoft.XMLHTTP\"];for(c=0;d=e[c++];)try{new ActiveXObject(d),b=\"2\"}catch(h){}}a=b;if(\"2\"==a&&-1==location.search.indexOf(\"&gbv=2\")){var f=google.gbvu,g=document.getElementById(\"gbv\");g&&(g.value=a);f&&window.setTimeout(function(){location.href=f},0)};}).call(this);</script></form><div id=\"gac_scont\"></div><div style=\"font-size:83%;min-height:3.5em\"><br></div><span id=\"footer\"><div style=\"font-size:10pt\"><div style=\"margin:19px auto;text-align:center\" id=\"WqQANb\"><a href=\"/intl/en/ads/\">Advertising\\xa0Programs</a><a href=\"/services/\">Business Solutions</a><a href=\"/intl/en/about.html\">About Google</a></div></div><p style=\"font-size:8pt;color:#70757a\">&copy; 2021 - <a href=\"/intl/en/policies/privacy/\">Privacy</a> - <a href=\"/intl/en/policies/terms/\">Terms</a></p></span></center><script nonce=\"n/jl15sJF+McrrMe+CN8Xw==\">(function(){window.google.cdo={height:757,width:1440};(function(){\\nvar a=window.innerWidth,b=window.innerHeight;if(!a||!b){var c=window.document,d=\"CSS1Compat\"==c.compatMode?c.documentElement:c.body;a=d.clientWidth;b=d.clientHeight}a&&b&&(a!=google.cdo.width||b!=google.cdo.height)&&google.log(\"\",\"\",\"/client_204?&atyp=i&biw=\"+a+\"&bih=\"+b+\"&ei=\"+google.kEI);}).call(this);})();</script> <script nonce=\"n/jl15sJF+McrrMe+CN8Xw==\">(function(){google.xjs={ck:\\'\\',cs:\\'\\',excm:[]};})();</script>  <script nonce=\"n/jl15sJF+McrrMe+CN8Xw==\">(function(){var u=\\'/xjs/_/js/k\\\\x3dxjs.hp.en_US.UJPQB9jBRu0.O/am\\\\x3dAJ8ACw/d\\\\x3d1/ed\\\\x3d1/rs\\\\x3dACT90oEAkz4xEkHWsx7LZfV73lNdiTUwFg/m\\\\x3dsb_he,d\\';\\nvar e=this||self,f=function(a){return a};var g;var l=function(a,b){this.g=b===h?a:\"\"};l.prototype.toString=function(){return this.g+\"\"};var h={};\\nfunction m(){var a=u;google.lx=function(){n(a);google.lx=function(){}};google.bx||google.lx()}\\nfunction n(a){google.timers&&google.timers.load&&google.tick&&google.tick(\"load\",\"xjsls\");var b=document;var c=\"SCRIPT\";\"application/xhtml+xml\"===b.contentType&&(c=c.toLowerCase());c=b.createElement(c);if(void 0===g){b=null;var k=e.trustedTypes;if(k&&k.createPolicy){try{b=k.createPolicy(\"goog#html\",{createHTML:f,createScript:f,createScriptURL:f})}catch(p){e.console&&e.console.error(p.message)}g=b}else g=b}a=(b=g)?b.createScriptURL(a):a;a=new l(a,h);c.src=a instanceof l&&a.constructor===l?a.g:\"type_error:TrustedResourceUrl\";var d;a=(c.ownerDocument&&c.ownerDocument.defaultView||window).document;(d=(b=null===(d=a.querySelector)||void 0===d?void 0:d.call(a,\"script[nonce]\"))?b.nonce||b.getAttribute(\"nonce\")||\"\":\"\")&&c.setAttribute(\"nonce\",d);document.body.appendChild(c);google.psa=!0};setTimeout(function(){m()},0);})();(function(){window.google.xjsu=\\'/xjs/_/js/k\\\\x3dxjs.hp.en_US.UJPQB9jBRu0.O/am\\\\x3dAJ8ACw/d\\\\x3d1/ed\\\\x3d1/rs\\\\x3dACT90oEAkz4xEkHWsx7LZfV73lNdiTUwFg/m\\\\x3dsb_he,d\\';})();function _DumpException(e){throw e;}\\nfunction _F_installCss(c){}\\n(function(){google.jl={attn:false,blt:\\'none\\',chnk:0,dw:false,dwu:true,emtn:0,end:0,ine:false,lls:\\'default\\',pdt:0,rep:0,snet:true,strt:0,ubm:false,uwp:true};})();(function(){var pmc=\\'{\\\\x22d\\\\x22:{},\\\\x22sb_he\\\\x22:{\\\\x22agen\\\\x22:true,\\\\x22cgen\\\\x22:true,\\\\x22client\\\\x22:\\\\x22heirloom-hp\\\\x22,\\\\x22dh\\\\x22:true,\\\\x22dhqt\\\\x22:true,\\\\x22ds\\\\x22:\\\\x22\\\\x22,\\\\x22ffql\\\\x22:\\\\x22en\\\\x22,\\\\x22fl\\\\x22:true,\\\\x22host\\\\x22:\\\\x22google.com\\\\x22,\\\\x22isbh\\\\x22:28,\\\\x22jsonp\\\\x22:true,\\\\x22msgs\\\\x22:{\\\\x22cibl\\\\x22:\\\\x22Clear Search\\\\x22,\\\\x22dym\\\\x22:\\\\x22Did you mean:\\\\x22,\\\\x22lcky\\\\x22:\\\\x22I\\\\\\\\u0026#39;m Feeling Lucky\\\\x22,\\\\x22lml\\\\x22:\\\\x22Learn more\\\\x22,\\\\x22oskt\\\\x22:\\\\x22Input tools\\\\x22,\\\\x22psrc\\\\x22:\\\\x22This search was removed from your \\\\\\\\u003Ca href\\\\x3d\\\\\\\\\\\\x22/history\\\\\\\\\\\\x22\\\\\\\\u003EWeb History\\\\\\\\u003C/a\\\\\\\\u003E\\\\x22,\\\\x22psrl\\\\x22:\\\\x22Remove\\\\x22,\\\\x22sbit\\\\x22:\\\\x22Search by image\\\\x22,\\\\x22srch\\\\x22:\\\\x22Google Search\\\\x22},\\\\x22ovr\\\\x22:{},\\\\x22pq\\\\x22:\\\\x22\\\\x22,\\\\x22refpd\\\\x22:true,\\\\x22rfs\\\\x22:[],\\\\x22sbas\\\\x22:\\\\x220 3px 8px 0 rgba(0,0,0,0.2),0 0 0 1px rgba(0,0,0,0.08)\\\\x22,\\\\x22sbpl\\\\x22:16,\\\\x22sbpr\\\\x22:16,\\\\x22scd\\\\x22:10,\\\\x22stok\\\\x22:\\\\x2244NFQjkjBJbR8swhl7XTxyJvZ4c\\\\x22,\\\\x22uhde\\\\x22:false}}\\';google.pmc=JSON.parse(pmc);})();</script>        </body></html>'"
      ]
     },
     "execution_count": 5,
     "metadata": {},
     "output_type": "execute_result"
    }
   ],
   "source": [
    "html5_content"
   ]
  },
  {
   "cell_type": "markdown",
   "metadata": {},
   "source": [
    "## Parsing HTML using HTMLParser"
   ]
  },
  {
   "cell_type": "code",
   "execution_count": 6,
   "metadata": {},
   "outputs": [],
   "source": [
    "from html.parser import HTMLParser\n",
    "\n",
    "# create a subclass and override the handler methods\n",
    "class MyHTMLParser(HTMLParser):\n",
    "    def handle_starttag(self, tag, attrs):\n",
    "        print(\"Encountered a start tag: {} (attrs {})\".format(tag, attrs))\n",
    "\n",
    "    def handle_endtag(self, tag):\n",
    "        print(\"Encountered a end tag: {}\".format(tag))\n",
    "\n",
    "    def handle_data(self, data):\n",
    "        '''Do nothing here'''"
   ]
  },
  {
   "cell_type": "code",
   "execution_count": 7,
   "metadata": {
    "scrolled": true
   },
   "outputs": [
    {
     "name": "stdout",
     "output_type": "stream",
     "text": [
      "Encountered a start tag: html (attrs [])\n",
      "Encountered a start tag: head (attrs [])\n",
      "Encountered a start tag: title (attrs [])\n",
      "Encountered a end tag: title\n",
      "Encountered a end tag: head\n",
      "Encountered a start tag: body (attrs [])\n",
      "Encountered a start tag: center (attrs [])\n",
      "Encountered a start tag: h1 (attrs [])\n",
      "Encountered a end tag: h1\n",
      "Encountered a end tag: center\n",
      "Encountered a start tag: hr (attrs [])\n",
      "Encountered a start tag: center (attrs [])\n",
      "Encountered a end tag: center\n",
      "Encountered a end tag: body\n",
      "Encountered a end tag: html\n"
     ]
    }
   ],
   "source": [
    "parser = MyHTMLParser()\n",
    "parser.feed(str(html4_content))"
   ]
  },
  {
   "cell_type": "code",
   "execution_count": 8,
   "metadata": {
    "scrolled": true
   },
   "outputs": [
    {
     "name": "stdout",
     "output_type": "stream",
     "text": [
      "Encountered a start tag: html (attrs [('itemscope', ''), ('itemtype', 'http://schema.org/WebPage'), ('lang', 'en')])\n",
      "Encountered a start tag: head (attrs [])\n",
      "Encountered a start tag: meta (attrs [('content', \"Search the world\\\\'s information, including webpages, images, videos and more. Google has many special features to help you find exactly what you\\\\'re looking for.\"), ('name', 'description')])\n",
      "Encountered a start tag: meta (attrs [('content', 'noodp'), ('name', 'robots')])\n",
      "Encountered a start tag: meta (attrs [('content', 'text/html; charset=UTF-8'), ('http-equiv', 'Content-Type')])\n",
      "Encountered a start tag: meta (attrs [('content', '/logos/doodles/2021/day-of-the-dead-2021-6753651837109263-law.gif'), ('itemprop', 'image')])\n",
      "Encountered a start tag: meta (attrs [('content', 'Day of the Dead 2021'), ('property', 'twitter:title')])\n",
      "Encountered a start tag: meta (attrs [('content', 'Happy Day of the Dead 2021! #GoogleDoodle'), ('property', 'twitter:description')])\n",
      "Encountered a start tag: meta (attrs [('content', 'Happy Day of the Dead 2021! #GoogleDoodle'), ('property', 'og:description')])\n",
      "Encountered a start tag: meta (attrs [('content', 'summary_large_image'), ('property', 'twitter:card')])\n",
      "Encountered a start tag: meta (attrs [('content', '@GoogleDoodles'), ('property', 'twitter:site')])\n",
      "Encountered a start tag: meta (attrs [('content', 'https://www.google.com/logos/doodles/2021/day-of-the-dead-2021-6753651837109263-2xa.gif'), ('property', 'twitter:image')])\n",
      "Encountered a start tag: meta (attrs [('content', 'https://www.google.com/logos/doodles/2021/day-of-the-dead-2021-6753651837109263-2xa.gif'), ('property', 'og:image')])\n",
      "Encountered a start tag: meta (attrs [('content', '1200'), ('property', 'og:image:width')])\n",
      "Encountered a start tag: meta (attrs [('content', '440'), ('property', 'og:image:height')])\n",
      "Encountered a start tag: meta (attrs [('content', 'https://www.google.com/logos/doodles/2021/day-of-the-dead-2021-6753651837109263-2xa.gif'), ('property', 'og:url')])\n",
      "Encountered a start tag: meta (attrs [('content', 'video.other'), ('property', 'og:type')])\n",
      "Encountered a start tag: title (attrs [])\n",
      "Encountered a end tag: title\n",
      "Encountered a start tag: script (attrs [('nonce', 'n/jl15sJF+McrrMe+CN8Xw==')])\n",
      "Encountered a end tag: script\n",
      "Encountered a start tag: style (attrs [])\n",
      "Encountered a end tag: style\n",
      "Encountered a start tag: style (attrs [])\n",
      "Encountered a end tag: style\n",
      "Encountered a start tag: script (attrs [('nonce', 'n/jl15sJF+McrrMe+CN8Xw==')])\n",
      "Encountered a end tag: script\n",
      "Encountered a end tag: head\n",
      "Encountered a start tag: body (attrs [('bgcolor', '#fff')])\n",
      "Encountered a start tag: script (attrs [('nonce', 'n/jl15sJF+McrrMe+CN8Xw==')])\n",
      "Encountered a end tag: script\n",
      "Encountered a start tag: div (attrs [('id', 'mngb')])\n",
      "Encountered a start tag: div (attrs [('id', 'gbar')])\n",
      "Encountered a start tag: nobr (attrs [])\n",
      "Encountered a start tag: b (attrs [('class', 'gb1')])\n",
      "Encountered a end tag: b\n",
      "Encountered a start tag: a (attrs [('class', 'gb1'), ('href', 'https://www.google.com/imghp?hl=en&tab=wi')])\n",
      "Encountered a end tag: a\n",
      "Encountered a start tag: a (attrs [('class', 'gb1'), ('href', 'https://maps.google.com/maps?hl=en&tab=wl')])\n",
      "Encountered a end tag: a\n",
      "Encountered a start tag: a (attrs [('class', 'gb1'), ('href', 'https://play.google.com/?hl=en&tab=w8')])\n",
      "Encountered a end tag: a\n",
      "Encountered a start tag: a (attrs [('class', 'gb1'), ('href', 'https://www.youtube.com/?gl=US&tab=w1')])\n",
      "Encountered a end tag: a\n",
      "Encountered a start tag: a (attrs [('class', 'gb1'), ('href', 'https://news.google.com/?tab=wn')])\n",
      "Encountered a end tag: a\n",
      "Encountered a start tag: a (attrs [('class', 'gb1'), ('href', 'https://mail.google.com/mail/?tab=wm')])\n",
      "Encountered a end tag: a\n",
      "Encountered a start tag: a (attrs [('class', 'gb1'), ('href', 'https://drive.google.com/?tab=wo')])\n",
      "Encountered a end tag: a\n",
      "Encountered a start tag: a (attrs [('class', 'gb1'), ('style', 'text-decoration:none'), ('href', 'https://www.google.com/intl/en/about/products?tab=wh')])\n",
      "Encountered a start tag: u (attrs [])\n",
      "Encountered a end tag: u\n",
      "Encountered a end tag: a\n",
      "Encountered a end tag: nobr\n",
      "Encountered a end tag: div\n",
      "Encountered a start tag: div (attrs [('id', 'guser'), ('width', '100%')])\n",
      "Encountered a start tag: nobr (attrs [])\n",
      "Encountered a start tag: span (attrs [('id', 'gbn'), ('class', 'gbi')])\n",
      "Encountered a end tag: span\n",
      "Encountered a start tag: span (attrs [('id', 'gbf'), ('class', 'gbf')])\n",
      "Encountered a end tag: span\n",
      "Encountered a start tag: span (attrs [('id', 'gbe')])\n",
      "Encountered a end tag: span\n",
      "Encountered a start tag: a (attrs [('href', 'http://www.google.com/history/optout?hl=en'), ('class', 'gb4')])\n",
      "Encountered a end tag: a\n",
      "Encountered a start tag: a (attrs [('href', '/preferences?hl=en'), ('class', 'gb4')])\n",
      "Encountered a end tag: a\n",
      "Encountered a start tag: a (attrs [('target', '_top'), ('id', 'gb_70'), ('href', 'https://accounts.google.com/ServiceLogin?hl=en&passive=true&continue=https://www.google.com/&ec=GAZAAQ'), ('class', 'gb4')])\n",
      "Encountered a end tag: a\n",
      "Encountered a end tag: nobr\n",
      "Encountered a end tag: div\n",
      "Encountered a start tag: div (attrs [('class', 'gbh'), ('style', 'left:0')])\n",
      "Encountered a end tag: div\n",
      "Encountered a start tag: div (attrs [('class', 'gbh'), ('style', 'right:0')])\n",
      "Encountered a end tag: div\n",
      "Encountered a end tag: div\n",
      "Encountered a start tag: center (attrs [])\n",
      "Encountered a start tag: br (attrs [('clear', 'all'), ('id', 'lgpd')])\n",
      "Encountered a start tag: div (attrs [('id', 'lga')])\n",
      "Encountered a start tag: a (attrs [('href', '/search?ie=UTF-8&q=Day+of+the+Dead&oi=ddle&ct=183975246&hl=en&si=AHuW2sT-QI6yLdyEfUBJHlK3UbYl5IMFaEVy5cpr0uPqDA9_orItmtK-RUDMXW2jBrveUiOs-PG0zrdB142sdd5j99n3k78UmE9HWvg4y2oq-n40RJasTX0%3D&sa=X&ved=0ahUKEwj8kejA0vrzAhXhl2oFHfnADlEQPQgD')])\n",
      "Encountered a start tag: img (attrs [('alt', 'Day of the Dead 2021'), ('border', '0'), ('height', '210'), ('src', '/logos/doodles/2021/day-of-the-dead-2021-6753651837109263-law.gif'), ('title', 'Day of the Dead 2021'), ('width', '573'), ('id', 'hplogo')])\n",
      "Encountered a start tag: br (attrs [])\n",
      "Encountered a end tag: a\n",
      "Encountered a start tag: br (attrs [])\n",
      "Encountered a end tag: div\n",
      "Encountered a start tag: form (attrs [('action', '/search'), ('name', 'f')])\n",
      "Encountered a start tag: table (attrs [('cellpadding', '0'), ('cellspacing', '0')])\n",
      "Encountered a start tag: tr (attrs [('valign', 'top')])\n",
      "Encountered a start tag: td (attrs [('width', '25%')])\n",
      "Encountered a end tag: td\n",
      "Encountered a start tag: td (attrs [('align', 'center'), ('nowrap', '')])\n",
      "Encountered a start tag: input (attrs [('name', 'ie'), ('value', 'ISO-8859-1'), ('type', 'hidden')])\n",
      "Encountered a start tag: input (attrs [('value', 'en'), ('name', 'hl'), ('type', 'hidden')])\n",
      "Encountered a start tag: input (attrs [('name', 'source'), ('type', 'hidden'), ('value', 'hp')])\n",
      "Encountered a start tag: input (attrs [('name', 'biw'), ('type', 'hidden')])\n",
      "Encountered a start tag: input (attrs [('name', 'bih'), ('type', 'hidden')])\n",
      "Encountered a start tag: div (attrs [('class', 'ds'), ('style', 'height:32px;margin:4px 0')])\n",
      "Encountered a start tag: input (attrs [('class', 'lst'), ('style', 'margin:0;padding:5px 8px 0 6px;vertical-align:top;color:#000'), ('autocomplete', 'off'), ('value', ''), ('title', 'Google Search'), ('maxlength', '2048'), ('name', 'q'), ('size', '57')])\n",
      "Encountered a end tag: div\n",
      "Encountered a start tag: br (attrs [('style', 'line-height:0')])\n",
      "Encountered a start tag: span (attrs [('class', 'ds')])\n",
      "Encountered a start tag: span (attrs [('class', 'lsbb')])\n",
      "Encountered a start tag: input (attrs [('class', 'lsb'), ('value', 'Google Search'), ('name', 'btnG'), ('type', 'submit')])\n",
      "Encountered a end tag: span\n",
      "Encountered a end tag: span\n",
      "Encountered a start tag: span (attrs [('class', 'ds')])\n",
      "Encountered a start tag: span (attrs [('class', 'lsbb')])\n",
      "Encountered a start tag: input (attrs [('class', 'lsb'), ('id', 'tsuid1'), ('value', \"I\\\\'m Feeling Lucky\"), ('name', 'btnI'), ('type', 'submit')])\n",
      "Encountered a start tag: script (attrs [('nonce', 'n/jl15sJF+McrrMe+CN8Xw==')])\n",
      "Encountered a end tag: script\n",
      "Encountered a start tag: input (attrs [('value', 'ALs-wAMAAAAAYYG-m4VE8qJXuy5u45DfUc2jlXuLXuJP'), ('name', 'iflsig'), ('type', 'hidden')])\n",
      "Encountered a end tag: span\n",
      "Encountered a end tag: span\n",
      "Encountered a end tag: td\n",
      "Encountered a start tag: td (attrs [('class', 'fl sblc'), ('align', 'left'), ('nowrap', ''), ('width', '25%')])\n",
      "Encountered a start tag: a (attrs [('href', '/advanced_search?hl=en&authuser=0')])\n",
      "Encountered a end tag: a\n",
      "Encountered a end tag: td\n",
      "Encountered a end tag: tr\n",
      "Encountered a end tag: table\n",
      "Encountered a start tag: input (attrs [('id', 'gbv'), ('name', 'gbv'), ('type', 'hidden'), ('value', '1')])\n",
      "Encountered a start tag: script (attrs [('nonce', 'n/jl15sJF+McrrMe+CN8Xw==')])\n",
      "Encountered a end tag: script\n",
      "Encountered a end tag: form\n",
      "Encountered a start tag: div (attrs [('id', 'gac_scont')])\n",
      "Encountered a end tag: div\n",
      "Encountered a start tag: div (attrs [('style', 'font-size:83%;min-height:3.5em')])\n",
      "Encountered a start tag: br (attrs [])\n",
      "Encountered a end tag: div\n",
      "Encountered a start tag: span (attrs [('id', 'footer')])\n",
      "Encountered a start tag: div (attrs [('style', 'font-size:10pt')])\n",
      "Encountered a start tag: div (attrs [('style', 'margin:19px auto;text-align:center'), ('id', 'WqQANb')])\n",
      "Encountered a start tag: a (attrs [('href', '/intl/en/ads/')])\n",
      "Encountered a end tag: a\n",
      "Encountered a start tag: a (attrs [('href', '/services/')])\n",
      "Encountered a end tag: a\n",
      "Encountered a start tag: a (attrs [('href', '/intl/en/about.html')])\n",
      "Encountered a end tag: a\n",
      "Encountered a end tag: div\n",
      "Encountered a end tag: div\n",
      "Encountered a start tag: p (attrs [('style', 'font-size:8pt;color:#70757a')])\n",
      "Encountered a start tag: a (attrs [('href', '/intl/en/policies/privacy/')])\n",
      "Encountered a end tag: a\n",
      "Encountered a start tag: a (attrs [('href', '/intl/en/policies/terms/')])\n",
      "Encountered a end tag: a\n",
      "Encountered a end tag: p\n",
      "Encountered a end tag: span\n",
      "Encountered a end tag: center\n",
      "Encountered a start tag: script (attrs [('nonce', 'n/jl15sJF+McrrMe+CN8Xw==')])\n",
      "Encountered a end tag: script\n",
      "Encountered a start tag: script (attrs [('nonce', 'n/jl15sJF+McrrMe+CN8Xw==')])\n",
      "Encountered a end tag: script\n",
      "Encountered a start tag: script (attrs [('nonce', 'n/jl15sJF+McrrMe+CN8Xw==')])\n",
      "Encountered a end tag: script\n",
      "Encountered a end tag: body\n",
      "Encountered a end tag: html\n"
     ]
    }
   ],
   "source": [
    "parser.feed(str(html5_content))"
   ]
  },
  {
   "cell_type": "markdown",
   "metadata": {},
   "source": [
    "## Parsing (bad) HTML using BeautifulSoup"
   ]
  },
  {
   "cell_type": "code",
   "execution_count": 9,
   "metadata": {},
   "outputs": [
    {
     "name": "stdout",
     "output_type": "stream",
     "text": [
      "Looking in links: /home/rick446/src/wheelhouse\n",
      "Collecting beautifulsoup4\n",
      "  Downloading beautifulsoup4-4.10.0-py3-none-any.whl (97 kB)\n",
      "\u001b[K     |████████████████████████████████| 97 kB 3.9 MB/s eta 0:00:011\n",
      "\u001b[?25hRequirement already satisfied, skipping upgrade: soupsieve>1.2 in /home/rick446/.virtualenvs/classes/lib/python3.8/site-packages (from beautifulsoup4) (2.0.1)\n",
      "Installing collected packages: beautifulsoup4\n",
      "  Attempting uninstall: beautifulsoup4\n",
      "    Found existing installation: beautifulsoup4 4.9.3\n",
      "    Uninstalling beautifulsoup4-4.9.3:\n",
      "      Successfully uninstalled beautifulsoup4-4.9.3\n",
      "Successfully installed beautifulsoup4-4.10.0\n",
      "\u001b[33mWARNING: You are using pip version 20.2.3; however, version 21.3.1 is available.\n",
      "You should consider upgrading via the '/home/rick446/.virtualenvs/classes/bin/python -m pip install --upgrade pip' command.\u001b[0m\n"
     ]
    }
   ],
   "source": [
    "!pip install -U beautifulsoup4"
   ]
  },
  {
   "cell_type": "code",
   "execution_count": 10,
   "metadata": {},
   "outputs": [],
   "source": [
    "from bs4 import BeautifulSoup\n",
    "soup = BeautifulSoup(html4_content, 'html.parser')"
   ]
  },
  {
   "cell_type": "code",
   "execution_count": 11,
   "metadata": {},
   "outputs": [
    {
     "data": {
      "text/plain": [
       "<head><title>301 Moved Permanently</title></head>"
      ]
     },
     "execution_count": 11,
     "metadata": {},
     "output_type": "execute_result"
    }
   ],
   "source": [
    "soup.find('head')"
   ]
  },
  {
   "cell_type": "code",
   "execution_count": 12,
   "metadata": {},
   "outputs": [
    {
     "data": {
      "text/plain": [
       "bs4.element.Tag"
      ]
     },
     "execution_count": 12,
     "metadata": {},
     "output_type": "execute_result"
    }
   ],
   "source": [
    "type(_)"
   ]
  },
  {
   "cell_type": "code",
   "execution_count": 13,
   "metadata": {},
   "outputs": [
    {
     "data": {
      "text/plain": [
       "[<center><h1>301 Moved Permanently</h1></center>, <center>nginx</center>]"
      ]
     },
     "execution_count": 13,
     "metadata": {},
     "output_type": "execute_result"
    }
   ],
   "source": [
    "soup.findAll('center')"
   ]
  },
  {
   "cell_type": "code",
   "execution_count": 14,
   "metadata": {},
   "outputs": [
    {
     "data": {
      "text/plain": [
       "[<title>301 Moved Permanently</title>]"
      ]
     },
     "execution_count": 14,
     "metadata": {},
     "output_type": "execute_result"
    }
   ],
   "source": [
    "soup.select('head > title')"
   ]
  },
  {
   "cell_type": "code",
   "execution_count": 15,
   "metadata": {},
   "outputs": [
    {
     "name": "stdout",
     "output_type": "stream",
     "text": [
      "Looking in links: /home/rick446/src/wheelhouse\n",
      "Requirement already satisfied: html5lib in /home/rick446/.virtualenvs/classes/lib/python3.8/site-packages (1.1)\n",
      "Requirement already satisfied: webencodings in /home/rick446/.virtualenvs/classes/lib/python3.8/site-packages (from html5lib) (0.5.1)\n",
      "Requirement already satisfied: six>=1.9 in /home/rick446/.virtualenvs/classes/lib/python3.8/site-packages (from html5lib) (1.15.0)\n",
      "\u001b[33mWARNING: You are using pip version 20.2.3; however, version 21.3.1 is available.\n",
      "You should consider upgrading via the '/home/rick446/.virtualenvs/classes/bin/python -m pip install --upgrade pip' command.\u001b[0m\n"
     ]
    }
   ],
   "source": [
    "!pip install html5lib"
   ]
  },
  {
   "cell_type": "code",
   "execution_count": 16,
   "metadata": {},
   "outputs": [],
   "source": [
    "soup = BeautifulSoup(html5_content, 'html5lib')"
   ]
  },
  {
   "cell_type": "code",
   "execution_count": 17,
   "metadata": {},
   "outputs": [
    {
     "data": {
      "text/plain": [
       "[<div id=\"mngb\"><div id=\"gbar\"><nobr><b class=\"gb1\">Search</b> <a class=\"gb1\" href=\"https://www.google.com/imghp?hl=en&amp;tab=wi\">Images</a> <a class=\"gb1\" href=\"https://maps.google.com/maps?hl=en&amp;tab=wl\">Maps</a> <a class=\"gb1\" href=\"https://play.google.com/?hl=en&amp;tab=w8\">Play</a> <a class=\"gb1\" href=\"https://www.youtube.com/?gl=US&amp;tab=w1\">YouTube</a> <a class=\"gb1\" href=\"https://news.google.com/?tab=wn\">News</a> <a class=\"gb1\" href=\"https://mail.google.com/mail/?tab=wm\">Gmail</a> <a class=\"gb1\" href=\"https://drive.google.com/?tab=wo\">Drive</a> <a class=\"gb1\" href=\"https://www.google.com/intl/en/about/products?tab=wh\" style=\"text-decoration:none\"><u>More</u> »</a></nobr></div><div id=\"guser\" width=\"100%\"><nobr><span class=\"gbi\" id=\"gbn\"></span><span class=\"gbf\" id=\"gbf\"></span><span id=\"gbe\"></span><a class=\"gb4\" href=\"http://www.google.com/history/optout?hl=en\">Web History</a> | <a class=\"gb4\" href=\"/preferences?hl=en\">Settings</a> | <a class=\"gb4\" href=\"https://accounts.google.com/ServiceLogin?hl=en&amp;passive=true&amp;continue=https://www.google.com/&amp;ec=GAZAAQ\" id=\"gb_70\" target=\"_top\">Sign in</a></nobr></div><div class=\"gbh\" style=\"left:0\"></div><div class=\"gbh\" style=\"right:0\"></div></div>,\n",
       " <div id=\"gbar\"><nobr><b class=\"gb1\">Search</b> <a class=\"gb1\" href=\"https://www.google.com/imghp?hl=en&amp;tab=wi\">Images</a> <a class=\"gb1\" href=\"https://maps.google.com/maps?hl=en&amp;tab=wl\">Maps</a> <a class=\"gb1\" href=\"https://play.google.com/?hl=en&amp;tab=w8\">Play</a> <a class=\"gb1\" href=\"https://www.youtube.com/?gl=US&amp;tab=w1\">YouTube</a> <a class=\"gb1\" href=\"https://news.google.com/?tab=wn\">News</a> <a class=\"gb1\" href=\"https://mail.google.com/mail/?tab=wm\">Gmail</a> <a class=\"gb1\" href=\"https://drive.google.com/?tab=wo\">Drive</a> <a class=\"gb1\" href=\"https://www.google.com/intl/en/about/products?tab=wh\" style=\"text-decoration:none\"><u>More</u> »</a></nobr></div>,\n",
       " <div id=\"guser\" width=\"100%\"><nobr><span class=\"gbi\" id=\"gbn\"></span><span class=\"gbf\" id=\"gbf\"></span><span id=\"gbe\"></span><a class=\"gb4\" href=\"http://www.google.com/history/optout?hl=en\">Web History</a> | <a class=\"gb4\" href=\"/preferences?hl=en\">Settings</a> | <a class=\"gb4\" href=\"https://accounts.google.com/ServiceLogin?hl=en&amp;passive=true&amp;continue=https://www.google.com/&amp;ec=GAZAAQ\" id=\"gb_70\" target=\"_top\">Sign in</a></nobr></div>,\n",
       " <div class=\"gbh\" style=\"left:0\"></div>,\n",
       " <div class=\"gbh\" style=\"right:0\"></div>,\n",
       " <div id=\"lga\"><a href=\"/search?ie=UTF-8&amp;q=Day+of+the+Dead&amp;oi=ddle&amp;ct=183975246&amp;hl=en&amp;si=AHuW2sT-QI6yLdyEfUBJHlK3UbYl5IMFaEVy5cpr0uPqDA9_orItmtK-RUDMXW2jBrveUiOs-PG0zrdB142sdd5j99n3k78UmE9HWvg4y2oq-n40RJasTX0%3D&amp;sa=X&amp;ved=0ahUKEwj8kejA0vrzAhXhl2oFHfnADlEQPQgD\"><img alt=\"Day of the Dead 2021\" border=\"0\" height=\"210\" id=\"hplogo\" src=\"/logos/doodles/2021/day-of-the-dead-2021-6753651837109263-law.gif\" title=\"Day of the Dead 2021\" width=\"573\"/><br/></a><br/></div>,\n",
       " <div class=\"ds\" style=\"height:32px;margin:4px 0\"><input autocomplete=\"off\" class=\"lst\" maxlength=\"2048\" name=\"q\" size=\"57\" style=\"margin:0;padding:5px 8px 0 6px;vertical-align:top;color:#000\" title=\"Google Search\" value=\"\"/></div>,\n",
       " <div id=\"gac_scont\"></div>,\n",
       " <div style=\"font-size:83%;min-height:3.5em\"><br/></div>,\n",
       " <div style=\"font-size:10pt\"><div id=\"WqQANb\" style=\"margin:19px auto;text-align:center\"><a href=\"/intl/en/ads/\">Advertising�Programs</a><a href=\"/services/\">Business Solutions</a><a href=\"/intl/en/about.html\">About Google</a></div></div>,\n",
       " <div id=\"WqQANb\" style=\"margin:19px auto;text-align:center\"><a href=\"/intl/en/ads/\">Advertising�Programs</a><a href=\"/services/\">Business Solutions</a><a href=\"/intl/en/about.html\">About Google</a></div>]"
      ]
     },
     "execution_count": 17,
     "metadata": {},
     "output_type": "execute_result"
    }
   ],
   "source": [
    "soup.findAll('div')"
   ]
  },
  {
   "cell_type": "code",
   "execution_count": 18,
   "metadata": {},
   "outputs": [
    {
     "data": {
      "text/plain": [
       "[<span id=\"footer\"><div style=\"font-size:10pt\"><div id=\"WqQANb\" style=\"margin:19px auto;text-align:center\"><a href=\"/intl/en/ads/\">Advertising�Programs</a><a href=\"/services/\">Business Solutions</a><a href=\"/intl/en/about.html\">About Google</a></div></div><p style=\"font-size:8pt;color:#70757a\">© 2021 - <a href=\"/intl/en/policies/privacy/\">Privacy</a> - <a href=\"/intl/en/policies/terms/\">Terms</a></p></span>]"
      ]
     },
     "execution_count": 18,
     "metadata": {},
     "output_type": "execute_result"
    }
   ],
   "source": [
    "soup.find_all(attrs={'id': 'footer'})"
   ]
  },
  {
   "cell_type": "code",
   "execution_count": 19,
   "metadata": {},
   "outputs": [
    {
     "data": {
      "text/plain": [
       "[<a href=\"/intl/en/ads/\">Advertising�Programs</a>,\n",
       " <a href=\"/services/\">Business Solutions</a>,\n",
       " <a href=\"/intl/en/about.html\">About Google</a>,\n",
       " <a href=\"/intl/en/policies/privacy/\">Privacy</a>,\n",
       " <a href=\"/intl/en/policies/terms/\">Terms</a>]"
      ]
     },
     "execution_count": 19,
     "metadata": {},
     "output_type": "execute_result"
    }
   ],
   "source": [
    "soup.select('span#footer a')"
   ]
  },
  {
   "cell_type": "code",
   "execution_count": 20,
   "metadata": {},
   "outputs": [
    {
     "data": {
      "text/plain": [
       "[<span id=\"footer\"><div style=\"font-size:10pt\"><div id=\"WqQANb\" style=\"margin:19px auto;text-align:center\"><a href=\"/intl/en/ads/\">Advertising�Programs</a><a href=\"/services/\">Business Solutions</a><a href=\"/intl/en/about.html\">About Google</a></div></div><p style=\"font-size:8pt;color:#70757a\">© 2021 - <a href=\"/intl/en/policies/privacy/\">Privacy</a> - <a href=\"/intl/en/policies/terms/\">Terms</a></p></span>]"
      ]
     },
     "execution_count": 20,
     "metadata": {},
     "output_type": "execute_result"
    }
   ],
   "source": [
    "soup.select('#footer')"
   ]
  },
  {
   "cell_type": "code",
   "execution_count": 21,
   "metadata": {},
   "outputs": [
    {
     "data": {
      "text/plain": [
       "<title>Google</title>"
      ]
     },
     "execution_count": 21,
     "metadata": {},
     "output_type": "execute_result"
    }
   ],
   "source": [
    "soup.title"
   ]
  },
  {
   "cell_type": "code",
   "execution_count": 22,
   "metadata": {},
   "outputs": [
    {
     "data": {
      "text/plain": [
       "['/advanced_search?hl=en&authuser=0',\n",
       " '/intl/en/about.html',\n",
       " '/intl/en/ads/',\n",
       " '/intl/en/policies/privacy/',\n",
       " '/intl/en/policies/terms/',\n",
       " '/preferences?hl=en',\n",
       " '/search?ie=UTF-8&q=Day+of+the+Dead&oi=ddle&ct=183975246&hl=en&si=AHuW2sT-QI6yLdyEfUBJHlK3UbYl5IMFaEVy5cpr0uPqDA9_orItmtK-RUDMXW2jBrveUiOs-PG0zrdB142sdd5j99n3k78UmE9HWvg4y2oq-n40RJasTX0%3D&sa=X&ved=0ahUKEwj8kejA0vrzAhXhl2oFHfnADlEQPQgD',\n",
       " '/services/',\n",
       " 'http://www.google.com/history/optout?hl=en',\n",
       " 'https://accounts.google.com/ServiceLogin?hl=en&passive=true&continue=https://www.google.com/&ec=GAZAAQ']"
      ]
     },
     "execution_count": 22,
     "metadata": {},
     "output_type": "execute_result"
    }
   ],
   "source": [
    "links = {link.get('href') for link in soup.find_all('a')}\n",
    "#links = set(link for link in links if link)\n",
    "sorted(list(links))[:10]"
   ]
  },
  {
   "cell_type": "markdown",
   "metadata": {},
   "source": [
    "## Parsing HTML using lxml\n",
    "\n",
    "`lxml` is a (very) fast HTML and XML parser. \n",
    "\n",
    "*possibly obsolete*: Unfortunately, it is sometimes difficult to install. Here are the [installation instructions](http://lxml.de/installation.html) for the intrepid.\n",
    "\n",
    "If you're feeling lucky and have a C compiler installed, you can try:\n",
    "\n",
    "```\n",
    "STATIC_DEPS=true sudo pip install lxml\n",
    "```"
   ]
  },
  {
   "cell_type": "code",
   "execution_count": 23,
   "metadata": {},
   "outputs": [
    {
     "name": "stdout",
     "output_type": "stream",
     "text": [
      "Looking in links: /home/rick446/src/wheelhouse\n",
      "Collecting lxml\n",
      "  Downloading lxml-4.6.4-cp38-cp38-manylinux_2_17_x86_64.manylinux2014_x86_64.manylinux_2_24_x86_64.whl (6.9 MB)\n",
      "\u001b[K     |████████████████████████████████| 6.9 MB 8.6 MB/s eta 0:00:01     |█████████████████████▌          | 4.6 MB 8.6 MB/s eta 0:00:01\n",
      "\u001b[?25hInstalling collected packages: lxml\n",
      "  Attempting uninstall: lxml\n",
      "    Found existing installation: lxml 4.6.3\n",
      "    Uninstalling lxml-4.6.3:\n",
      "      Successfully uninstalled lxml-4.6.3\n",
      "Successfully installed lxml-4.6.4\n",
      "\u001b[33mWARNING: You are using pip version 20.2.3; however, version 21.3.1 is available.\n",
      "You should consider upgrading via the '/home/rick446/.virtualenvs/classes/bin/python -m pip install --upgrade pip' command.\u001b[0m\n"
     ]
    }
   ],
   "source": [
    "!pip install -U lxml"
   ]
  },
  {
   "cell_type": "code",
   "execution_count": 24,
   "metadata": {},
   "outputs": [],
   "source": [
    "# Easy: use BeautifulSoup\n",
    "from bs4 import BeautifulSoup\n",
    "soup = BeautifulSoup(html4_content, 'lxml')"
   ]
  },
  {
   "cell_type": "code",
   "execution_count": 25,
   "metadata": {},
   "outputs": [
    {
     "data": {
      "text/plain": [
       "<title>301 Moved Permanently</title>"
      ]
     },
     "execution_count": 25,
     "metadata": {},
     "output_type": "execute_result"
    }
   ],
   "source": [
    "soup.title"
   ]
  },
  {
   "cell_type": "code",
   "execution_count": 26,
   "metadata": {},
   "outputs": [],
   "source": [
    "soup = BeautifulSoup(html5_content, 'lxml')"
   ]
  },
  {
   "cell_type": "code",
   "execution_count": 27,
   "metadata": {},
   "outputs": [
    {
     "data": {
      "text/plain": [
       "<title>Google</title>"
      ]
     },
     "execution_count": 27,
     "metadata": {},
     "output_type": "execute_result"
    }
   ],
   "source": [
    "soup.title"
   ]
  },
  {
   "cell_type": "markdown",
   "metadata": {},
   "source": [
    "You can also use lxml directly:"
   ]
  },
  {
   "cell_type": "code",
   "execution_count": 28,
   "metadata": {},
   "outputs": [],
   "source": [
    "from lxml import etree\n",
    "from io import StringIO"
   ]
  },
  {
   "cell_type": "code",
   "execution_count": 29,
   "metadata": {},
   "outputs": [],
   "source": [
    "parser = etree.HTMLParser()\n",
    "tree = etree.parse(StringIO(str(html5_content)), parser)"
   ]
  },
  {
   "cell_type": "code",
   "execution_count": 30,
   "metadata": {},
   "outputs": [],
   "source": [
    "root = tree.getroot()"
   ]
  },
  {
   "cell_type": "code",
   "execution_count": 31,
   "metadata": {},
   "outputs": [
    {
     "data": {
      "text/plain": [
       "'html'"
      ]
     },
     "execution_count": 31,
     "metadata": {},
     "output_type": "execute_result"
    }
   ],
   "source": [
    "root.tag"
   ]
  },
  {
   "cell_type": "code",
   "execution_count": 32,
   "metadata": {},
   "outputs": [
    {
     "data": {
      "text/plain": [
       "[<Element body at 0x7f5bbc92f180>]"
      ]
     },
     "execution_count": 32,
     "metadata": {},
     "output_type": "execute_result"
    }
   ],
   "source": [
    "list(root)"
   ]
  },
  {
   "cell_type": "code",
   "execution_count": 33,
   "metadata": {
    "scrolled": false
   },
   "outputs": [
    {
     "name": "stdout",
     "output_type": "stream",
     "text": [
      "https://www.google.com/imghp?hl=en&tab=wi\n",
      "https://maps.google.com/maps?hl=en&tab=wl\n",
      "https://play.google.com/?hl=en&tab=w8\n",
      "https://www.youtube.com/?gl=US&tab=w1\n",
      "https://news.google.com/?tab=wn\n",
      "https://mail.google.com/mail/?tab=wm\n",
      "https://drive.google.com/?tab=wo\n",
      "https://www.google.com/intl/en/about/products?tab=wh\n",
      "http://www.google.com/history/optout?hl=en\n",
      "/preferences?hl=en\n"
     ]
    }
   ],
   "source": [
    "for link in tree.findall('.//a')[:10]:\n",
    "    print(link.attrib['href'])"
   ]
  },
  {
   "cell_type": "markdown",
   "metadata": {},
   "source": [
    "## Parsing XML using SAX"
   ]
  },
  {
   "cell_type": "code",
   "execution_count": 34,
   "metadata": {},
   "outputs": [],
   "source": [
    "xml_content = requests.get('http://feed.thisamericanlife.org/talpodcast').content"
   ]
  },
  {
   "cell_type": "code",
   "execution_count": 35,
   "metadata": {},
   "outputs": [
    {
     "name": "stdout",
     "output_type": "stream",
     "text": [
      "b'<?xml version=\"1.0\" encoding=\"UTF-8\"?>\\r\\n<?xml-stylesheet type=\"text/xsl\" media=\"screen\" href=\"/~d/styles/rss2enclosuresfull.xsl\"?><?xml-stylesheet type=\"text/css\" media=\"screen\" href=\"http://feed.thisamericanlife.org/~d/styles/itemcontent.css\"?><rss xmlns:dc=\"http://purl.org/dc/elements/1.1/\" xmlns:itunes=\"http://www.itunes.com/dtds/podcast-1.0.dtd\" xmlns:feedburner=\"http://rssnamespace.org/feedburner/ext/1.0\" version=\"2.0\" xml:base=\"https://www.thisamericanlife.org\">\\r\\n<channel>\\r\\n <title>This American Life</title>\\r\\n <link>https://www.thisamericanlife.org</link>\\r\\n <description>This American Life is a weekly public radio show, heard by 2.2 million people on more than 500 stations. Another 2.5 million people download the weekly podcast. It is hosted by Ira Glass, produced in collaboration with Chicago Public Media, delivered to stations by PRX The Public Radio Exchange, and has won all of the major broadcasting awards.</description>\\r\\n <language>en</language>\\r\\n <copyright>Copyright 1995-20'\n"
     ]
    }
   ],
   "source": [
    "print(xml_content[:1000])"
   ]
  },
  {
   "cell_type": "code",
   "execution_count": 36,
   "metadata": {},
   "outputs": [],
   "source": [
    "import xml.sax"
   ]
  },
  {
   "cell_type": "code",
   "execution_count": 37,
   "metadata": {},
   "outputs": [],
   "source": [
    "class RSSHandler(xml.sax.ContentHandler):\n",
    "    def __init__(self):\n",
    "        self.in_link = False\n",
    "        self.link = None\n",
    "        super().__init__()\n",
    "        #xml.sax.ContentHandler.__init__(self)\n",
    "    def startElement(self, name, attrs):\n",
    "        if name == 'link':\n",
    "            self.in_link = True\n",
    "            self.link = ''\n",
    "    def endElement(self, name):\n",
    "        if name == 'link':\n",
    "            self.in_link = False\n",
    "            print(self.link.strip())\n",
    "            self.link = None\n",
    "    def characters(self, content):\n",
    "        if self.in_link:\n",
    "            self.link += content"
   ]
  },
  {
   "cell_type": "code",
   "execution_count": 38,
   "metadata": {},
   "outputs": [
    {
     "name": "stdout",
     "output_type": "stream",
     "text": [
      "https://www.thisamericanlife.org\n",
      "http://feed.thisamericanlife.org/~r/talpodcast/~3/C5f3oKxcJY0/an-invitation-to-tea\n",
      "http://feed.thisamericanlife.org/~r/talpodcast/~3/lcq4nXWZcXo/audience-of-one\n",
      "http://feed.thisamericanlife.org/~r/talpodcast/~3/K2FV8ELmBHA/the-ferryman\n",
      "http://feed.thisamericanlife.org/~r/talpodcast/~3/DrsRiVRDOe0/recordings-for-someone\n",
      "http://feed.thisamericanlife.org/~r/talpodcast/~3/q8IuT3Ub28k/my-bad\n",
      "http://feed.thisamericanlife.org/~r/talpodcast/~3/_KDozKOQf4s/the-end-of-the-world-as-we-know-it\n",
      "http://feed.thisamericanlife.org/~r/talpodcast/~3/LPqZkwRXTAI/suitable-for-children\n",
      "http://feed.thisamericanlife.org/~r/talpodcast/~3/fGbHAZF0phM/this-is-just-some-songs\n",
      "http://feed.thisamericanlife.org/~r/talpodcast/~3/v4ChAcYYNOI/getting-out\n",
      "http://feed.thisamericanlife.org/~r/talpodcast/~3/oY0USTfxlQg/essential\n"
     ]
    }
   ],
   "source": [
    "parser = xml.sax.make_parser()\n",
    "parser.setContentHandler(RSSHandler())\n",
    "parser.parse(StringIO(str(xml_content, 'utf-8')))"
   ]
  },
  {
   "cell_type": "markdown",
   "metadata": {},
   "source": [
    "## Parsing XML using minidom"
   ]
  },
  {
   "cell_type": "code",
   "execution_count": 39,
   "metadata": {},
   "outputs": [],
   "source": [
    "import xml.dom.minidom"
   ]
  },
  {
   "cell_type": "code",
   "execution_count": 40,
   "metadata": {},
   "outputs": [],
   "source": [
    "dom = xml.dom.minidom.parseString(xml_content)"
   ]
  },
  {
   "cell_type": "code",
   "execution_count": 41,
   "metadata": {},
   "outputs": [
    {
     "data": {
      "text/plain": [
       "[<DOM Text node \"'\\n '\">,\n",
       " <DOM Element: title at 0x7f5bbc953790>,\n",
       " <DOM Text node \"'\\n '\">,\n",
       " <DOM Element: link at 0x7f5bbc953820>,\n",
       " <DOM Text node \"'\\n '\">,\n",
       " <DOM Element: description at 0x7f5bbc9538b0>,\n",
       " <DOM Text node \"'\\n '\">,\n",
       " <DOM Element: language at 0x7f5bbc953940>,\n",
       " <DOM Text node \"'\\n '\">,\n",
       " <DOM Element: copyright at 0x7f5bbc9539d0>,\n",
       " <DOM Text node \"'\\n '\">,\n",
       " <DOM Element: itunes:author at 0x7f5bbc953a60>,\n",
       " <DOM Text node \"'\\n '\">,\n",
       " <DOM Element: itunes:subtitle at 0x7f5bbc953af0>,\n",
       " <DOM Text node \"'\\n '\">,\n",
       " <DOM Element: itunes:owner at 0x7f5bbc953b80>,\n",
       " <DOM Text node \"'\\n '\">,\n",
       " <DOM Element: itunes:category at 0x7f5bbc953ca0>,\n",
       " <DOM Text node \"'\\n '\">,\n",
       " <DOM Element: itunes:category at 0x7f5bbc953d30>,\n",
       " <DOM Text node \"'\\n '\">,\n",
       " <DOM Element: itunes:category at 0x7f5bbc953dc0>,\n",
       " <DOM Text node \"'\\n '\">,\n",
       " <DOM Element: itunes:image at 0x7f5bbc953f70>,\n",
       " <DOM Text node \"'\\n'\">,\n",
       " <DOM Element: atom10:link at 0x7f5bbc8dc040>,\n",
       " <DOM Element: feedburner:info at 0x7f5bbc8dc0d0>,\n",
       " <DOM Element: atom10:link at 0x7f5bbc8dc160>,\n",
       " <DOM Element: feedburner:feedFlare at 0x7f5bbc8dc280>,\n",
       " <DOM Element: feedburner:feedFlare at 0x7f5bbc8dc3a0>,\n",
       " <DOM Element: feedburner:feedFlare at 0x7f5bbc8dc4c0>,\n",
       " <DOM Element: feedburner:feedFlare at 0x7f5bbc8dc5e0>,\n",
       " <DOM Element: feedburner:feedFlare at 0x7f5bbc8dc700>,\n",
       " <DOM Element: feedburner:feedFlare at 0x7f5bbc8dc820>,\n",
       " <DOM Element: item at 0x7f5bbc8dc8b0>,\n",
       " <DOM Text node \"'\\n'\">,\n",
       " <DOM Element: item at 0x7f5bbc8df0d0>,\n",
       " <DOM Text node \"'\\n'\">,\n",
       " <DOM Element: item at 0x7f5bbc8df820>,\n",
       " <DOM Text node \"'\\n'\">,\n",
       " <DOM Element: item at 0x7f5bbc8dff70>,\n",
       " <DOM Text node \"'\\n'\">,\n",
       " <DOM Element: item at 0x7f5bbc8e3790>,\n",
       " <DOM Text node \"'\\n'\">,\n",
       " <DOM Element: item at 0x7f5bbc8e3ee0>,\n",
       " <DOM Text node \"'\\n'\">,\n",
       " <DOM Element: item at 0x7f5bbc8e9670>,\n",
       " <DOM Text node \"'\\n'\">,\n",
       " <DOM Element: item at 0x7f5bbc8e9e50>,\n",
       " <DOM Text node \"'\\n'\">,\n",
       " <DOM Element: item at 0x7f5bbc8ee670>,\n",
       " <DOM Text node \"'\\n'\">,\n",
       " <DOM Element: item at 0x7f5bbc8eedc0>,\n",
       " <DOM Text node \"'\\n'\">]"
      ]
     },
     "execution_count": 41,
     "metadata": {},
     "output_type": "execute_result"
    }
   ],
   "source": [
    "dom.childNodes[2].childNodes[1].childNodes"
   ]
  },
  {
   "cell_type": "markdown",
   "metadata": {},
   "source": [
    "## Parsing XML using ElementTree"
   ]
  },
  {
   "cell_type": "code",
   "execution_count": 42,
   "metadata": {},
   "outputs": [],
   "source": [
    "from xml.etree import ElementTree"
   ]
  },
  {
   "cell_type": "code",
   "execution_count": 43,
   "metadata": {},
   "outputs": [],
   "source": [
    "tree = ElementTree.parse(StringIO(str(xml_content, 'utf-8')))"
   ]
  },
  {
   "cell_type": "code",
   "execution_count": 44,
   "metadata": {},
   "outputs": [
    {
     "data": {
      "text/plain": [
       "<Element 'rss' at 0x7f5bbc8f55e0>"
      ]
     },
     "execution_count": 44,
     "metadata": {},
     "output_type": "execute_result"
    }
   ],
   "source": [
    "tree.getroot()"
   ]
  },
  {
   "cell_type": "code",
   "execution_count": 45,
   "metadata": {},
   "outputs": [
    {
     "name": "stdout",
     "output_type": "stream",
     "text": [
      "https://www.thisamericanlife.org\n",
      "http://feed.thisamericanlife.org/~r/talpodcast/~3/C5f3oKxcJY0/an-invitation-to-tea\n",
      "http://feed.thisamericanlife.org/~r/talpodcast/~3/lcq4nXWZcXo/audience-of-one\n",
      "http://feed.thisamericanlife.org/~r/talpodcast/~3/K2FV8ELmBHA/the-ferryman\n",
      "http://feed.thisamericanlife.org/~r/talpodcast/~3/DrsRiVRDOe0/recordings-for-someone\n",
      "http://feed.thisamericanlife.org/~r/talpodcast/~3/q8IuT3Ub28k/my-bad\n",
      "http://feed.thisamericanlife.org/~r/talpodcast/~3/_KDozKOQf4s/the-end-of-the-world-as-we-know-it\n",
      "http://feed.thisamericanlife.org/~r/talpodcast/~3/LPqZkwRXTAI/suitable-for-children\n",
      "http://feed.thisamericanlife.org/~r/talpodcast/~3/fGbHAZF0phM/this-is-just-some-songs\n",
      "http://feed.thisamericanlife.org/~r/talpodcast/~3/v4ChAcYYNOI/getting-out\n",
      "http://feed.thisamericanlife.org/~r/talpodcast/~3/oY0USTfxlQg/essential\n"
     ]
    }
   ],
   "source": [
    "for link in tree.findall('.//link'):\n",
    "    print(link.text)"
   ]
  },
  {
   "cell_type": "markdown",
   "metadata": {},
   "source": [
    "## Parsing XML using lxml"
   ]
  },
  {
   "cell_type": "code",
   "execution_count": 46,
   "metadata": {},
   "outputs": [],
   "source": [
    "soup = BeautifulSoup(xml_content, 'lxml-xml')"
   ]
  },
  {
   "cell_type": "code",
   "execution_count": 47,
   "metadata": {},
   "outputs": [
    {
     "data": {
      "text/plain": [
       "[<link>https://www.thisamericanlife.org</link>,\n",
       " <atom10:link href=\"http://feed.thisamericanlife.org/talpodcast\" rel=\"self\" type=\"application/rss+xml\" xmlns:atom10=\"http://www.w3.org/2005/Atom\"/>,\n",
       " <atom10:link href=\"http://pubsubhubbub.appspot.com/\" rel=\"hub\" xmlns:atom10=\"http://www.w3.org/2005/Atom\"/>,\n",
       " <link>http://feed.thisamericanlife.org/~r/talpodcast/~3/C5f3oKxcJY0/an-invitation-to-tea</link>,\n",
       " <link>http://feed.thisamericanlife.org/~r/talpodcast/~3/lcq4nXWZcXo/audience-of-one</link>,\n",
       " <link>http://feed.thisamericanlife.org/~r/talpodcast/~3/K2FV8ELmBHA/the-ferryman</link>,\n",
       " <link>http://feed.thisamericanlife.org/~r/talpodcast/~3/DrsRiVRDOe0/recordings-for-someone</link>,\n",
       " <link>http://feed.thisamericanlife.org/~r/talpodcast/~3/q8IuT3Ub28k/my-bad</link>,\n",
       " <link>http://feed.thisamericanlife.org/~r/talpodcast/~3/_KDozKOQf4s/the-end-of-the-world-as-we-know-it</link>,\n",
       " <link>http://feed.thisamericanlife.org/~r/talpodcast/~3/LPqZkwRXTAI/suitable-for-children</link>,\n",
       " <link>http://feed.thisamericanlife.org/~r/talpodcast/~3/fGbHAZF0phM/this-is-just-some-songs</link>,\n",
       " <link>http://feed.thisamericanlife.org/~r/talpodcast/~3/v4ChAcYYNOI/getting-out</link>,\n",
       " <link>http://feed.thisamericanlife.org/~r/talpodcast/~3/oY0USTfxlQg/essential</link>]"
      ]
     },
     "execution_count": 47,
     "metadata": {},
     "output_type": "execute_result"
    }
   ],
   "source": [
    "soup.find_all('link')"
   ]
  },
  {
   "cell_type": "code",
   "execution_count": 48,
   "metadata": {},
   "outputs": [
    {
     "data": {
      "text/plain": [
       "[<link>https://www.thisamericanlife.org</link>,\n",
       " <atom10:link href=\"http://feed.thisamericanlife.org/talpodcast\" rel=\"self\" type=\"application/rss+xml\" xmlns:atom10=\"http://www.w3.org/2005/Atom\"/>,\n",
       " <atom10:link href=\"http://pubsubhubbub.appspot.com/\" rel=\"hub\" xmlns:atom10=\"http://www.w3.org/2005/Atom\"/>,\n",
       " <link>http://feed.thisamericanlife.org/~r/talpodcast/~3/C5f3oKxcJY0/an-invitation-to-tea</link>,\n",
       " <link>http://feed.thisamericanlife.org/~r/talpodcast/~3/lcq4nXWZcXo/audience-of-one</link>,\n",
       " <link>http://feed.thisamericanlife.org/~r/talpodcast/~3/K2FV8ELmBHA/the-ferryman</link>,\n",
       " <link>http://feed.thisamericanlife.org/~r/talpodcast/~3/DrsRiVRDOe0/recordings-for-someone</link>,\n",
       " <link>http://feed.thisamericanlife.org/~r/talpodcast/~3/q8IuT3Ub28k/my-bad</link>,\n",
       " <link>http://feed.thisamericanlife.org/~r/talpodcast/~3/_KDozKOQf4s/the-end-of-the-world-as-we-know-it</link>,\n",
       " <link>http://feed.thisamericanlife.org/~r/talpodcast/~3/LPqZkwRXTAI/suitable-for-children</link>,\n",
       " <link>http://feed.thisamericanlife.org/~r/talpodcast/~3/fGbHAZF0phM/this-is-just-some-songs</link>,\n",
       " <link>http://feed.thisamericanlife.org/~r/talpodcast/~3/v4ChAcYYNOI/getting-out</link>,\n",
       " <link>http://feed.thisamericanlife.org/~r/talpodcast/~3/oY0USTfxlQg/essential</link>]"
      ]
     },
     "execution_count": 48,
     "metadata": {},
     "output_type": "execute_result"
    }
   ],
   "source": [
    "soup.select(\"rss link\")"
   ]
  },
  {
   "cell_type": "markdown",
   "metadata": {},
   "source": [
    "To use lxml directly:"
   ]
  },
  {
   "cell_type": "code",
   "execution_count": 49,
   "metadata": {},
   "outputs": [],
   "source": [
    "from io import BytesIO\n",
    "parser = etree.XMLParser()\n",
    "tree = etree.parse(BytesIO(xml_content), parser)"
   ]
  },
  {
   "cell_type": "code",
   "execution_count": 50,
   "metadata": {},
   "outputs": [
    {
     "data": {
      "text/plain": [
       "<Element rss at 0x7f5bbc8b6040>"
      ]
     },
     "execution_count": 50,
     "metadata": {},
     "output_type": "execute_result"
    }
   ],
   "source": [
    "tree.getroot()"
   ]
  },
  {
   "cell_type": "code",
   "execution_count": 51,
   "metadata": {},
   "outputs": [
    {
     "data": {
      "text/plain": [
       "[<Element link at 0x7f5bbc8b7bc0>,\n",
       " <Element link at 0x7f5bbc8b7b80>,\n",
       " <Element link at 0x7f5bbc8b7c00>,\n",
       " <Element link at 0x7f5bbc8b7c80>,\n",
       " <Element link at 0x7f5bbc8b7cc0>,\n",
       " <Element link at 0x7f5bbc8b7d00>,\n",
       " <Element link at 0x7f5bbc8b7d40>,\n",
       " <Element link at 0x7f5bbc8b7d80>,\n",
       " <Element link at 0x7f5bbc8b7dc0>,\n",
       " <Element link at 0x7f5bbc8b7e00>,\n",
       " <Element link at 0x7f5bbc8b7e40>]"
      ]
     },
     "execution_count": 51,
     "metadata": {},
     "output_type": "execute_result"
    }
   ],
   "source": [
    "tree.findall('.//link')"
   ]
  },
  {
   "cell_type": "markdown",
   "metadata": {},
   "source": [
    "Open the [sgml-lab][sgml-lab]\n",
    "\n",
    "[sgml-lab]: ./sgml-lab.ipynb"
   ]
  },
  {
   "cell_type": "code",
   "execution_count": null,
   "metadata": {},
   "outputs": [],
   "source": []
  }
 ],
 "metadata": {
  "kernelspec": {
   "display_name": "Python 3",
   "language": "python",
   "name": "python3"
  },
  "language_info": {
   "codemirror_mode": {
    "name": "ipython",
    "version": 3
   },
   "file_extension": ".py",
   "mimetype": "text/x-python",
   "name": "python",
   "nbconvert_exporter": "python",
   "pygments_lexer": "ipython3",
   "version": "3.8.5"
  }
 },
 "nbformat": 4,
 "nbformat_minor": 1
}
