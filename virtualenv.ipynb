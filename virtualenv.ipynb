{
 "cells": [
  {
   "cell_type": "markdown",
   "metadata": {},
   "source": [
    "# Using Virtual Environments\n",
    "\n",
    "- Difference between virtual environments (virtualenv or venv), containers, and virtual machines\n",
    "- Creating a virtual environment\n",
    "- Activating and deactivating virtualenvs\n",
    "- Installing packages in a virtual environment\n",
    "- Using requirements.txt files for reproducability\n",
    "- Using wheels for faster installations\n",
    "- Cleaning up virtualenvs"
   ]
  },
  {
   "cell_type": "markdown",
   "metadata": {},
   "source": [
    "# Virtual Machines, Containers, and Virtualenvs\n",
    "\n",
    "## Virtual Machine\n",
    "\n",
    "- Isolated image (\"guest\") of a computer running its own operating system\n",
    "- Can have different OS than the host\n",
    "- Examples: vmware, virtualbox, Amazon EC2\n",
    "\n",
    "## Container\n",
    "\n",
    "- Partially isolated environment that shares the operating system with the host\n",
    "- Same OS kernel as host, but with potentially different users/libraries/networks/etc. and system limits\n",
    "- Examples: Docker, Heroku, Amazon ECS\n",
    "\n",
    "## Virtualenv\n",
    "\n",
    "- Partially isolated **python** environment running in the same OS as the 'host'\n",
    "- **Only** Python packages and environment are isolated:  basically a \"private copy of Python\"\n",
    "- No _security_ isolation from host OS: a program running inside a virtualenv can do whatever a program running outside a virtualenv can do\n",
    "- Similar to local `node_modules` subfolder in a project for Javascript developers"
   ]
  },
  {
   "cell_type": "markdown",
   "metadata": {},
   "source": [
    "# Why Virtualenvs?\n",
    "\n",
    "- **Dependency management** - If two different Python applications require two different versions of the same package, running each app in its own virtualenv allows both versions to be available to their respective applications\n",
    "- **Keeps your system Python pristine** - Many OSes use Python to implement some of the OS tooling (RedHat in particular). This often results in an older version of Python, or particular versions of Python packages installed globally that you *should not modify* if you want your system tools to keep working.\n",
    "- **Helps with reproducibility** - Virtualenvs allow you to note the versions of all packages installed in your venv in order to recreate the virtualenv on another machine. This prevents the \"Works on My Machine\" certification."
   ]
  },
  {
   "cell_type": "markdown",
   "metadata": {},
   "source": [
    "# Creating a virtualenv\n",
    "\n",
    "\n",
    "## Installing virtualenv\n",
    "\n",
    "Since Python 3.3, Python has included a tool to create virtual environments called `venv` in the standard library. \n",
    "\n",
    "If, however, you are developing on Ubuntu, you must separately install it anyway with `apt-get install python-venv`.\n",
    "\n"
   ]
  },
  {
   "cell_type": "markdown",
   "metadata": {},
   "source": [
    "## Creating the virtualenv\n",
    "\n",
    "To create a virtual environment, you invoke the `venv` module with the virtualenv name:\n",
    "\n",
    "```shell\n",
    "$ python -m venv env-folder\n",
    "```\n",
    "\n",
    "This command\n",
    "\n",
    "- creates a folder named `env-folder`\n",
    "- copies the Python you used to invoke `venv` into that folder\n",
    "- creates a couple of helper scripts inside env-folder to activate/deactivate the virtualenv"
   ]
  },
  {
   "cell_type": "code",
   "execution_count": 1,
   "metadata": {},
   "outputs": [],
   "source": [
    "!/usr/bin/python -m venv data/env-folder"
   ]
  },
  {
   "cell_type": "markdown",
   "metadata": {},
   "source": [
    "We can see the directory structure that the virtual environment created with the `tree` command. If you don't have `tree`, you can install it on a Mac using homebrew:\n",
    "\n",
    "```bash\n",
    "$ brew install tree\n",
    "```"
   ]
  },
  {
   "cell_type": "code",
   "execution_count": 2,
   "metadata": {
    "scrolled": true
   },
   "outputs": [
    {
     "name": "stdout",
     "output_type": "stream",
     "text": [
      "\u001b[01;34mdata/env-folder\u001b[00m\r\n",
      "├── \u001b[01;34mbin\u001b[00m\r\n",
      "├── \u001b[01;34minclude\u001b[00m\r\n",
      "├── \u001b[01;34mlib\u001b[00m\r\n",
      "│   └── \u001b[01;34mpython3.8\u001b[00m\r\n",
      "│       └── \u001b[01;34msite-packages\u001b[00m\r\n",
      "│           ├── \u001b[01;34m__pycache__\u001b[00m\r\n",
      "│           ├── \u001b[01;34mpip\u001b[00m\r\n",
      "│           │   ├── \u001b[01;34m__pycache__\u001b[00m\r\n",
      "│           │   ├── \u001b[01;34m_internal\u001b[00m\r\n",
      "│           │   │   ├── \u001b[01;34m__pycache__\u001b[00m\r\n",
      "│           │   │   ├── \u001b[01;34mcli\u001b[00m\r\n",
      "│           │   │   │   └── \u001b[01;34m__pycache__\u001b[00m\r\n",
      "│           │   │   ├── \u001b[01;34mcommands\u001b[00m\r\n",
      "│           │   │   │   └── \u001b[01;34m__pycache__\u001b[00m\r\n",
      "│           │   │   ├── \u001b[01;34mdistributions\u001b[00m\r\n",
      "│           │   │   │   └── \u001b[01;34m__pycache__\u001b[00m\r\n",
      "│           │   │   ├── \u001b[01;34mindex\u001b[00m\r\n",
      "│           │   │   │   └── \u001b[01;34m__pycache__\u001b[00m\r\n",
      "│           │   │   ├── \u001b[01;34mmodels\u001b[00m\r\n",
      "│           │   │   │   └── \u001b[01;34m__pycache__\u001b[00m\r\n",
      "│           │   │   ├── \u001b[01;34mnetwork\u001b[00m\r\n",
      "│           │   │   │   └── \u001b[01;34m__pycache__\u001b[00m\r\n",
      "│           │   │   ├── \u001b[01;34moperations\u001b[00m\r\n",
      "│           │   │   │   ├── \u001b[01;34m__pycache__\u001b[00m\r\n",
      "│           │   │   │   ├── \u001b[01;34mbuild\u001b[00m\r\n",
      "│           │   │   │   │   └── \u001b[01;34m__pycache__\u001b[00m\r\n",
      "│           │   │   │   └── \u001b[01;34minstall\u001b[00m\r\n",
      "│           │   │   │       └── \u001b[01;34m__pycache__\u001b[00m\r\n",
      "│           │   │   ├── \u001b[01;34mreq\u001b[00m\r\n",
      "│           │   │   │   └── \u001b[01;34m__pycache__\u001b[00m\r\n",
      "│           │   │   ├── \u001b[01;34mutils\u001b[00m\r\n",
      "│           │   │   │   └── \u001b[01;34m__pycache__\u001b[00m\r\n",
      "│           │   │   └── \u001b[01;34mvcs\u001b[00m\r\n",
      "│           │   │       └── \u001b[01;34m__pycache__\u001b[00m\r\n",
      "│           │   └── \u001b[01;34m_vendor\u001b[00m\r\n",
      "│           │       └── \u001b[01;34m__pycache__\u001b[00m\r\n",
      "│           ├── \u001b[01;34mpip-20.0.2.dist-info\u001b[00m\r\n",
      "│           ├── \u001b[01;34mpkg_resources\u001b[00m\r\n",
      "│           │   ├── \u001b[01;34m__pycache__\u001b[00m\r\n",
      "│           │   ├── \u001b[01;34m_vendor\u001b[00m\r\n",
      "│           │   │   ├── \u001b[01;34m__pycache__\u001b[00m\r\n",
      "│           │   │   └── \u001b[01;34mpackaging\u001b[00m\r\n",
      "│           │   │       └── \u001b[01;34m__pycache__\u001b[00m\r\n",
      "│           │   └── \u001b[01;34mextern\u001b[00m\r\n",
      "│           │       └── \u001b[01;34m__pycache__\u001b[00m\r\n",
      "│           ├── \u001b[01;34mpkg_resources-0.0.0.dist-info\u001b[00m\r\n",
      "│           ├── \u001b[01;34msetuptools\u001b[00m\r\n",
      "│           │   ├── \u001b[01;34m__pycache__\u001b[00m\r\n",
      "│           │   ├── \u001b[01;34m_vendor\u001b[00m\r\n",
      "│           │   │   ├── \u001b[01;34m__pycache__\u001b[00m\r\n",
      "│           │   │   └── \u001b[01;34mpackaging\u001b[00m\r\n",
      "│           │   │       └── \u001b[01;34m__pycache__\u001b[00m\r\n",
      "│           │   ├── \u001b[01;34mcommand\u001b[00m\r\n",
      "│           │   │   └── \u001b[01;34m__pycache__\u001b[00m\r\n",
      "│           │   └── \u001b[01;34mextern\u001b[00m\r\n",
      "│           │       └── \u001b[01;34m__pycache__\u001b[00m\r\n",
      "│           └── \u001b[01;34msetuptools-44.0.0.dist-info\u001b[00m\r\n",
      "├── \u001b[01;36mlib64\u001b[00m -> \u001b[01;34mlib\u001b[00m\r\n",
      "└── \u001b[01;34mshare\u001b[00m\r\n",
      "    └── \u001b[01;34mpython-wheels\u001b[00m\r\n",
      "\r\n",
      "60 directories\r\n"
     ]
    }
   ],
   "source": [
    "!tree -d data/env-folder"
   ]
  },
  {
   "cell_type": "code",
   "execution_count": 3,
   "metadata": {},
   "outputs": [
    {
     "name": "stdout",
     "output_type": "stream",
     "text": [
      "total 44\r\n",
      "-rw-r--r-- 1 rick446 rick446 8834 Jan 21 13:11 Activate.ps1\r\n",
      "-rw-r--r-- 1 rick446 rick446 2246 Jan 21 13:11 activate\r\n",
      "-rw-r--r-- 1 rick446 rick446 1298 Jan 21 13:11 activate.csh\r\n",
      "-rw-r--r-- 1 rick446 rick446 2450 Jan 21 13:11 activate.fish\r\n",
      "-rwxr-xr-x 1 rick446 rick446  279 Jan 21 13:11 easy_install\r\n",
      "-rwxr-xr-x 1 rick446 rick446  279 Jan 21 13:11 easy_install-3.8\r\n",
      "-rwxr-xr-x 1 rick446 rick446  270 Jan 21 13:11 pip\r\n",
      "-rwxr-xr-x 1 rick446 rick446  270 Jan 21 13:11 pip3\r\n",
      "-rwxr-xr-x 1 rick446 rick446  270 Jan 21 13:11 pip3.8\r\n",
      "lrwxrwxrwx 1 rick446 rick446   15 Jan 21 13:11 python -> /usr/bin/python\r\n",
      "lrwxrwxrwx 1 rick446 rick446    6 Jan 21 13:11 python3 -> python\r\n"
     ]
    }
   ],
   "source": [
    "!ls -l data/env-folder/bin"
   ]
  },
  {
   "cell_type": "markdown",
   "metadata": {},
   "source": [
    "### (windows note)\n",
    "\n",
    "If you are using Windows, there should be a `Scripts` folder under the environment folder instead of `bin`, and it should contain an `activate.bat` file."
   ]
  },
  {
   "cell_type": "markdown",
   "metadata": {},
   "source": [
    "You can invoke the Python in your new virtualenv by specifying the full path:"
   ]
  },
  {
   "cell_type": "code",
   "execution_count": 4,
   "metadata": {},
   "outputs": [
    {
     "name": "stdout",
     "output_type": "stream",
     "text": [
      "Python 3.8.5\r\n"
     ]
    }
   ],
   "source": [
    "!data/env-folder/bin/python --version"
   ]
  },
  {
   "cell_type": "code",
   "execution_count": 5,
   "metadata": {},
   "outputs": [
    {
     "name": "stdout",
     "output_type": "stream",
     "text": [
      "/home/rick446/src/arborian-classes/src/data/env-folder/bin/python\r\n"
     ]
    }
   ],
   "source": [
    "!data/env-folder/bin/python -c 'import sys; print(sys.executable)'"
   ]
  },
  {
   "cell_type": "code",
   "execution_count": 6,
   "metadata": {},
   "outputs": [
    {
     "name": "stdout",
     "output_type": "stream",
     "text": [
      "['', '/usr/lib/python38.zip', '/usr/lib/python3.8', '/usr/lib/python3.8/lib-dynload', '/home/rick446/src/arborian-classes/src/data/env-folder/lib/python3.8/site-packages']\r\n"
     ]
    }
   ],
   "source": [
    "!data/env-folder/bin/python -c 'import sys; print(sys.path)'"
   ]
  },
  {
   "cell_type": "markdown",
   "metadata": {},
   "source": [
    "## Activating virtual environments\n",
    "\n",
    "More commonly, we will *activate* the virtualenv for our current shell by `source`-ing the `activate` script\n",
    "\n",
    "### Linux\n",
    "\n",
    "```shell\n",
    "$ source env-folder/bin/activate\n",
    "(env-folder) $\n",
    "```\n",
    "\n",
    "or\n",
    "\n",
    "```shell\n",
    "$ . env-folder/bin/activate\n",
    "(env-folder) $\n",
    "```\n",
    "\n",
    "### Windows\n",
    "\n",
    "```shell\n",
    "c:\\...> env-folder\\Scripts\\activate.bat\n",
    "(env-folder) c:\\...>\n",
    "```\n",
    "\n",
    "Activating the virtualenv does a few things to your *current shell/terminal window only*:\n",
    "\n",
    "- Puts the virtualenv's executable folder (`bin` or `Scripts`) at the beginning of your path so the virtualenv python will be picked up automatically\n",
    "- Changes your prompt so you see that you are in the virtualenv\n",
    "- Makes a `deactivate` command available to undo the changes"
   ]
  },
  {
   "cell_type": "markdown",
   "metadata": {},
   "source": [
    "## Deactivating virtual environments\n",
    "\n",
    "### Linux\n",
    "\n",
    "```shell\n",
    "(env-folder) $ deactivate\n",
    "$\n",
    "```\n",
    "\n",
    "### Windows\n",
    "\n",
    "```shell\n",
    "(env-folder) c:\\...> deactivate\n",
    "c:\\...> \n",
    "```\n"
   ]
  },
  {
   "cell_type": "code",
   "execution_count": 7,
   "metadata": {},
   "outputs": [
    {
     "name": "stdout",
     "output_type": "stream",
     "text": [
      "ACTIVATE\n",
      "/home/rick446/src/arborian-classes/src/data/env-folder/bin/python\n",
      "My prompt is now (env-folder)\n",
      "/home/rick446/src/arborian-classes/src/data/env-folder/bin/python\n",
      "DEACTIVATE\n",
      "/home/rick446/.virtualenvs/classes/bin/python\n",
      "/home/rick446/.virtualenvs/classes/bin/python\n"
     ]
    }
   ],
   "source": [
    "%%bash\n",
    "echo \"ACTIVATE\"\n",
    "source data/env-folder/bin/activate\n",
    "which python\n",
    "echo My prompt is now $PS1\n",
    "python -c 'import sys; print(sys.executable)'\n",
    "echo \"DEACTIVATE\"\n",
    "deactivate\n",
    "which python\n",
    "python -c 'import sys; print(sys.executable)'"
   ]
  },
  {
   "cell_type": "markdown",
   "metadata": {},
   "source": [
    "# Installing packages in virtual environments\n",
    "\n",
    "When the virtual environment is activated, or when you invoke the version of Python in the virtualenv, you can install third-party packages into the virtualenv without modifying your system Python:"
   ]
  },
  {
   "cell_type": "code",
   "execution_count": 8,
   "metadata": {},
   "outputs": [
    {
     "name": "stdout",
     "output_type": "stream",
     "text": [
      "/home/rick446/src/arborian-classes/src/data/env-folder/bin/python\n",
      "Looking in links: /home/rick446/src/wheelhouse\n",
      "Collecting pip\n",
      "  Using cached pip-20.3.3-py2.py3-none-any.whl (1.5 MB)\n",
      "Installing collected packages: pip\n",
      "  Attempting uninstall: pip\n",
      "    Found existing installation: pip 20.0.2\n",
      "    Uninstalling pip-20.0.2:\n",
      "      Successfully uninstalled pip-20.0.2\n",
      "Successfully installed pip-20.3.3\n",
      "Looking in links: /home/rick446/src/wheelhouse\n",
      "Collecting numpy\n",
      "  Downloading numpy-1.19.5-cp38-cp38-manylinux2010_x86_64.whl (14.9 MB)\n",
      "Installing collected packages: numpy\n",
      "Successfully installed numpy-1.19.5\n",
      "<module 'numpy' from '/home/rick446/src/arborian-classes/src/data/env-folder/lib/python3.8/site-packages/numpy/__init__.py'>\n"
     ]
    }
   ],
   "source": [
    "%%bash\n",
    "set -e\n",
    "source data/env-folder/bin/activate\n",
    "which python\n",
    "pip install -U pip\n",
    "pip install numpy\n",
    "python -c 'import numpy; print(numpy)'"
   ]
  },
  {
   "cell_type": "markdown",
   "metadata": {},
   "source": [
    "# Using requirements.txt for reproducibility\n",
    "\n",
    "Once you have your app in your virtualenv running, you may need to reproduce the virtualenv on another machine. \n",
    "`pip` has a command `freeze` which outputs the exact versions of all packages installed in a virtualenv:"
   ]
  },
  {
   "cell_type": "code",
   "execution_count": 10,
   "metadata": {
    "scrolled": true
   },
   "outputs": [
    {
     "name": "stdout",
     "output_type": "stream",
     "text": [
      "-f /home/rick446/src/wheelhouse\n",
      "numpy==1.19.5\n",
      "pkg-resources==0.0.0\n"
     ]
    },
    {
     "name": "stderr",
     "output_type": "stream",
     "text": [
      "DEPRECATION: --find-links option in pip freeze is deprecated. pip 21.2 will remove support for this functionality. You can find discussion regarding this at https://github.com/pypa/pip/issues/9069.\n"
     ]
    }
   ],
   "source": [
    "%%bash\n",
    "set -e\n",
    "source data/env-folder/bin/activate\n",
    "data/env-folder/bin/pip freeze"
   ]
  },
  {
   "cell_type": "markdown",
   "metadata": {},
   "source": [
    "Normally, we'll put this into a file `requirements.txt` that we check into source control and distribute with our project:"
   ]
  },
  {
   "cell_type": "code",
   "execution_count": 11,
   "metadata": {},
   "outputs": [
    {
     "name": "stderr",
     "output_type": "stream",
     "text": [
      "DEPRECATION: --find-links option in pip freeze is deprecated. pip 21.2 will remove support for this functionality. You can find discussion regarding this at https://github.com/pypa/pip/issues/9069.\n"
     ]
    }
   ],
   "source": [
    "%%bash\n",
    "set -e\n",
    "source data/env-folder/bin/activate\n",
    "pip freeze > data/requirements.txt"
   ]
  },
  {
   "cell_type": "code",
   "execution_count": 12,
   "metadata": {},
   "outputs": [
    {
     "name": "stdout",
     "output_type": "stream",
     "text": [
      "-f /home/rick446/src/wheelhouse\r\n",
      "numpy==1.19.5\r\n",
      "pkg-resources==0.0.0\r\n"
     ]
    }
   ],
   "source": [
    "cat data/requirements.txt"
   ]
  },
  {
   "cell_type": "markdown",
   "metadata": {},
   "source": [
    "Once we have the requirements.txt file, we can create a new virtualenv and install all the same versions of packages into it:"
   ]
  },
  {
   "cell_type": "code",
   "execution_count": 13,
   "metadata": {},
   "outputs": [
    {
     "name": "stdout",
     "output_type": "stream",
     "text": [
      "Looking in links: /home/rick446/src/wheelhouse, /home/rick446/src/wheelhouse\n",
      "Collecting numpy==1.19.5\n",
      "  Using cached numpy-1.19.5-cp38-cp38-manylinux2010_x86_64.whl (14.9 MB)\n",
      "Requirement already satisfied: pkg-resources==0.0.0 in /home/rick446/src/arborian-classes/data/env-folder-2/lib/python3.8/site-packages (from -r data/requirements.txt (line 3)) (0.0.0)\n",
      "Installing collected packages: numpy\n",
      "Successfully installed numpy-1.19.5\n"
     ]
    }
   ],
   "source": [
    "%%bash\n",
    "set -e\n",
    "python -m venv data/env-folder-2\n",
    "source data/env-folder-2/bin/activate\n",
    "python -m pip install -r data/requirements.txt"
   ]
  },
  {
   "cell_type": "markdown",
   "metadata": {},
   "source": [
    "# Using wheels for faster installations\n",
    "\n",
    "While `pip` tries to cache as much data as possible, we can do even better by using \"wheels.\" \n",
    "\n",
    "Wheels are Python packages that have been compiled (if necessary) for a particular target architecture and are thus much faster to install. \n",
    "\n",
    "If you're moving to a new machine (for instance, when deploying to production) it can also be useful to have the wheels cached locally so `pip` doesn't try to download the packages from the Python Package Index."
   ]
  },
  {
   "cell_type": "code",
   "execution_count": 14,
   "metadata": {},
   "outputs": [
    {
     "name": "stdout",
     "output_type": "stream",
     "text": [
      "Looking in links: /home/rick446/src/wheelhouse\n",
      "Collecting boto3\n",
      "  Downloading boto3-1.16.58-py2.py3-none-any.whl (130 kB)\n",
      "Collecting botocore<1.20.0,>=1.19.58\n",
      "  Downloading botocore-1.19.58-py2.py3-none-any.whl (7.2 MB)\n",
      "Collecting jmespath<1.0.0,>=0.7.1\n",
      "  Using cached jmespath-0.10.0-py2.py3-none-any.whl (24 kB)\n",
      "Collecting python-dateutil<3.0.0,>=2.1\n",
      "  Using cached python_dateutil-2.8.1-py2.py3-none-any.whl (227 kB)\n",
      "Collecting s3transfer<0.4.0,>=0.3.0\n",
      "  Downloading s3transfer-0.3.4-py2.py3-none-any.whl (69 kB)\n",
      "Collecting six>=1.5\n",
      "  Using cached six-1.15.0-py2.py3-none-any.whl (10 kB)\n",
      "Collecting urllib3<1.27,>=1.25.4\n",
      "  Using cached urllib3-1.26.2-py2.py3-none-any.whl (136 kB)\n",
      "Collecting jupyter\n",
      "  Using cached jupyter-1.0.0-py2.py3-none-any.whl (2.7 kB)\n",
      "Collecting pymongo\n",
      "  Using cached pymongo-3.11.2-cp38-cp38-manylinux2014_x86_64.whl (531 kB)\n",
      "Collecting scikit-learn\n",
      "  Downloading scikit_learn-0.24.1-cp38-cp38-manylinux2010_x86_64.whl (24.9 MB)\n",
      "Requirement already satisfied: numpy>=1.13.3 in /home/rick446/src/arborian-classes/data/env-folder/lib/python3.8/site-packages (from scikit-learn) (1.19.5)\n",
      "Collecting scipy\n",
      "  Downloading scipy-1.6.0-cp38-cp38-manylinux1_x86_64.whl (27.2 MB)\n",
      "Collecting joblib>=0.11\n",
      "  Using cached joblib-1.0.0-py3-none-any.whl (302 kB)\n",
      "Collecting threadpoolctl>=2.0.0\n",
      "  Using cached threadpoolctl-2.1.0-py3-none-any.whl (12 kB)\n",
      "Collecting simplejson\n",
      "  Using cached simplejson-3.17.2-cp38-cp38-manylinux2010_x86_64.whl (137 kB)\n",
      "Collecting wheel\n",
      "  Using cached wheel-0.36.2-py2.py3-none-any.whl (35 kB)\n",
      "Collecting ipykernel\n",
      "  Downloading ipykernel-5.4.3-py3-none-any.whl (120 kB)\n",
      "Collecting ipython>=5.0.0\n",
      "  Using cached ipython-7.19.0-py3-none-any.whl (784 kB)\n",
      "Requirement already satisfied: setuptools>=18.5 in /home/rick446/src/arborian-classes/data/env-folder/lib/python3.8/site-packages (from ipython>=5.0.0->ipykernel->jupyter) (44.0.0)\n",
      "Collecting jedi>=0.10\n",
      "  Downloading jedi-0.18.0-py2.py3-none-any.whl (1.4 MB)\n",
      "Collecting parso<0.9.0,>=0.8.0\n",
      "  Downloading parso-0.8.1-py2.py3-none-any.whl (93 kB)\n",
      "Collecting pexpect>4.3\n",
      "  Using cached pexpect-4.8.0-py2.py3-none-any.whl (59 kB)\n",
      "Collecting prompt-toolkit!=3.0.0,!=3.0.1,<3.1.0,>=2.0.0\n",
      "  Downloading prompt_toolkit-3.0.11-py3-none-any.whl (358 kB)\n",
      "Collecting ptyprocess>=0.5\n",
      "  Downloading ptyprocess-0.7.0-py2.py3-none-any.whl (13 kB)\n",
      "Collecting tornado>=4.2\n",
      "  Using cached tornado-6.1-cp38-cp38-manylinux2010_x86_64.whl (427 kB)\n",
      "Collecting traitlets>=4.1.0\n",
      "  Using cached traitlets-5.0.5-py3-none-any.whl (100 kB)\n",
      "Collecting backcall\n",
      "  Using cached backcall-0.2.0-py2.py3-none-any.whl (11 kB)\n",
      "Collecting decorator\n",
      "  Using cached decorator-4.4.2-py2.py3-none-any.whl (9.2 kB)\n",
      "Collecting ipython-genutils\n",
      "  Using cached ipython_genutils-0.2.0-py2.py3-none-any.whl (26 kB)\n",
      "Collecting ipywidgets\n",
      "  Downloading ipywidgets-7.6.3-py2.py3-none-any.whl (121 kB)\n",
      "Collecting jupyterlab-widgets>=1.0.0\n",
      "  Downloading jupyterlab_widgets-1.0.0-py3-none-any.whl (243 kB)\n",
      "Collecting nbformat>=4.2.0\n",
      "  Downloading nbformat-5.1.2-py3-none-any.whl (113 kB)\n",
      "Collecting jsonschema!=2.5.0,>=2.4\n",
      "  Using cached jsonschema-3.2.0-py2.py3-none-any.whl (56 kB)\n",
      "Collecting attrs>=17.4.0\n",
      "  Using cached attrs-20.3.0-py2.py3-none-any.whl (49 kB)\n",
      "Collecting pyrsistent>=0.14.0\n",
      "  Using cached pyrsistent-0.17.3-cp38-cp38-linux_x86_64.whl\n",
      "Collecting widgetsnbextension~=3.5.0\n",
      "  Using cached widgetsnbextension-3.5.1-py2.py3-none-any.whl (2.2 MB)\n",
      "Collecting notebook\n",
      "  Downloading notebook-6.2.0-py3-none-any.whl (9.5 MB)\n",
      "Collecting jupyter-client\n",
      "  Downloading jupyter_client-6.1.11-py3-none-any.whl (108 kB)\n",
      "Collecting jupyter-core\n",
      "  Using cached jupyter_core-4.7.0-py3-none-any.whl (82 kB)\n",
      "Collecting pyzmq>=17\n",
      "  Downloading pyzmq-21.0.1-cp38-cp38-manylinux2010_x86_64.whl (8.9 MB)\n",
      "Collecting Send2Trash>=1.5.0\n",
      "  Using cached Send2Trash-1.5.0-py3-none-any.whl (12 kB)\n",
      "Collecting terminado>=0.8.3\n",
      "  Downloading terminado-0.9.2-py3-none-any.whl (14 kB)\n",
      "Processing /home/rick446/src/wheelhouse/argon2_cffi-20.1.0-cp37-abi3-linux_x86_64.whl\n",
      "Collecting cffi>=1.0.0\n",
      "  Using cached cffi-1.14.4-cp38-cp38-manylinux1_x86_64.whl (411 kB)\n",
      "Collecting jinja2\n",
      "  Using cached Jinja2-2.11.2-py2.py3-none-any.whl (125 kB)\n",
      "Collecting MarkupSafe>=0.23\n",
      "  Using cached MarkupSafe-1.1.1-cp38-cp38-manylinux1_x86_64.whl (32 kB)\n",
      "Collecting jupyter-console\n",
      "  Using cached jupyter_console-6.2.0-py3-none-any.whl (22 kB)\n",
      "Collecting nbconvert\n",
      "  Using cached nbconvert-6.0.7-py3-none-any.whl (552 kB)\n",
      "Collecting entrypoints>=0.2.2\n",
      "  Using cached entrypoints-0.3-py2.py3-none-any.whl (11 kB)\n",
      "Collecting mistune<2,>=0.8.1\n",
      "  Using cached mistune-0.8.4-py2.py3-none-any.whl (16 kB)\n",
      "Collecting nbclient<0.6.0,>=0.5.0\n",
      "  Using cached nbclient-0.5.1-py3-none-any.whl (65 kB)\n",
      "Processing /home/rick446/src/wheelhouse/pandocfilters-1.4.3-py3-none-any.whl\n",
      "Collecting pygments\n",
      "  Downloading Pygments-2.7.4-py3-none-any.whl (950 kB)\n",
      "Collecting async-generator\n",
      "  Using cached async_generator-1.10-py3-none-any.whl (18 kB)\n",
      "Collecting bleach\n",
      "  Downloading bleach-3.2.2-py2.py3-none-any.whl (146 kB)\n",
      "Collecting defusedxml\n",
      "  Using cached defusedxml-0.6.0-py2.py3-none-any.whl (23 kB)\n",
      "Collecting jupyterlab-pygments\n",
      "  Using cached jupyterlab_pygments-0.1.2-py2.py3-none-any.whl (4.6 kB)\n",
      "Collecting nest-asyncio\n",
      "  Using cached nest_asyncio-1.4.3-py3-none-any.whl (5.3 kB)\n",
      "Collecting packaging\n",
      "  Using cached packaging-20.8-py2.py3-none-any.whl (39 kB)\n",
      "Collecting pyparsing>=2.0.2\n",
      "  Using cached pyparsing-2.4.7-py2.py3-none-any.whl (67 kB)\n",
      "Collecting pickleshare\n",
      "  Using cached pickleshare-0.7.5-py2.py3-none-any.whl (6.9 kB)\n",
      "Collecting prometheus-client\n",
      "  Using cached prometheus_client-0.9.0-py2.py3-none-any.whl (53 kB)\n",
      "Collecting pycparser\n",
      "  Using cached pycparser-2.20-py2.py3-none-any.whl (112 kB)\n",
      "Collecting qtconsole\n",
      "  Downloading qtconsole-5.0.2-py3-none-any.whl (119 kB)\n",
      "Collecting qtpy\n",
      "  Using cached QtPy-1.9.0-py2.py3-none-any.whl (54 kB)\n",
      "Collecting testpath\n",
      "  Using cached testpath-0.4.4-py2.py3-none-any.whl (163 kB)\n",
      "Collecting wcwidth\n",
      "  Using cached wcwidth-0.2.5-py2.py3-none-any.whl (30 kB)\n",
      "Collecting webencodings\n",
      "  Using cached webencodings-0.5.1-py2.py3-none-any.whl (11 kB)\n",
      "Installing collected packages: ipython-genutils, traitlets, six, pyrsistent, attrs, wcwidth, tornado, pyzmq, python-dateutil, pyparsing, ptyprocess, parso, jupyter-core, jsonschema, webencodings, pygments, pycparser, prompt-toolkit, pickleshare, pexpect, packaging, nest-asyncio, nbformat, MarkupSafe, jupyter-client, jedi, decorator, backcall, async-generator, testpath, pandocfilters, nbclient, mistune, jupyterlab-pygments, jinja2, ipython, entrypoints, defusedxml, cffi, bleach, terminado, Send2Trash, prometheus-client, nbconvert, ipykernel, argon2-cffi, urllib3, notebook, jmespath, widgetsnbextension, qtpy, jupyterlab-widgets, botocore, threadpoolctl, scipy, s3transfer, qtconsole, jupyter-console, joblib, ipywidgets, wheel, simplejson, scikit-learn, pymongo, jupyter, boto3\n",
      "Successfully installed MarkupSafe-1.1.1 Send2Trash-1.5.0 argon2-cffi-20.1.0 async-generator-1.10 attrs-20.3.0 backcall-0.2.0 bleach-3.2.2 boto3-1.16.58 botocore-1.19.58 cffi-1.14.4 decorator-4.4.2 defusedxml-0.6.0 entrypoints-0.3 ipykernel-5.4.3 ipython-7.19.0 ipython-genutils-0.2.0 ipywidgets-7.6.3 jedi-0.18.0 jinja2-2.11.2 jmespath-0.10.0 joblib-1.0.0 jsonschema-3.2.0 jupyter-1.0.0 jupyter-client-6.1.11 jupyter-console-6.2.0 jupyter-core-4.7.0 jupyterlab-pygments-0.1.2 jupyterlab-widgets-1.0.0 mistune-0.8.4 nbclient-0.5.1 nbconvert-6.0.7 nbformat-5.1.2 nest-asyncio-1.4.3 notebook-6.2.0 packaging-20.8 pandocfilters-1.4.3 parso-0.8.1 pexpect-4.8.0 pickleshare-0.7.5 prometheus-client-0.9.0 prompt-toolkit-3.0.11 ptyprocess-0.7.0 pycparser-2.20 pygments-2.7.4 pymongo-3.11.2 pyparsing-2.4.7 pyrsistent-0.17.3 python-dateutil-2.8.1 pyzmq-21.0.1 qtconsole-5.0.2 qtpy-1.9.0 s3transfer-0.3.4 scikit-learn-0.24.1 scipy-1.6.0 simplejson-3.17.2 six-1.15.0 terminado-0.9.2 testpath-0.4.4 threadpoolctl-2.1.0 tornado-6.1 traitlets-5.0.5 urllib3-1.26.2 wcwidth-0.2.5 webencodings-0.5.1 wheel-0.36.2 widgetsnbextension-3.5.1\n"
     ]
    },
    {
     "name": "stderr",
     "output_type": "stream",
     "text": [
      "DEPRECATION: --find-links option in pip freeze is deprecated. pip 21.2 will remove support for this functionality. You can find discussion regarding this at https://github.com/pypa/pip/issues/9069.\n"
     ]
    }
   ],
   "source": [
    "%%bash\n",
    "set -e\n",
    "source data/env-folder/bin/activate\n",
    "pip install scipy scikit-learn jupyter simplejson pymongo boto3 wheel\n",
    "pip freeze > data/requirements.txt"
   ]
  },
  {
   "cell_type": "code",
   "execution_count": 15,
   "metadata": {
    "scrolled": true
   },
   "outputs": [
    {
     "name": "stdout",
     "output_type": "stream",
     "text": [
      "-f /home/rick446/src/wheelhouse\r\n",
      "argon2-cffi==20.1.0\r\n",
      "async-generator==1.10\r\n",
      "attrs==20.3.0\r\n",
      "backcall==0.2.0\r\n",
      "bleach==3.2.2\r\n",
      "boto3==1.16.58\r\n",
      "botocore==1.19.58\r\n",
      "cffi==1.14.4\r\n",
      "decorator==4.4.2\r\n",
      "defusedxml==0.6.0\r\n",
      "entrypoints==0.3\r\n",
      "ipykernel==5.4.3\r\n",
      "ipython==7.19.0\r\n",
      "ipython-genutils==0.2.0\r\n",
      "ipywidgets==7.6.3\r\n",
      "jedi==0.18.0\r\n",
      "Jinja2==2.11.2\r\n",
      "jmespath==0.10.0\r\n",
      "joblib==1.0.0\r\n",
      "jsonschema==3.2.0\r\n",
      "jupyter==1.0.0\r\n",
      "jupyter-client==6.1.11\r\n",
      "jupyter-console==6.2.0\r\n",
      "jupyter-core==4.7.0\r\n",
      "jupyterlab-pygments==0.1.2\r\n",
      "jupyterlab-widgets==1.0.0\r\n",
      "MarkupSafe==1.1.1\r\n",
      "mistune==0.8.4\r\n",
      "nbclient==0.5.1\r\n",
      "nbconvert==6.0.7\r\n",
      "nbformat==5.1.2\r\n",
      "nest-asyncio==1.4.3\r\n",
      "notebook==6.2.0\r\n",
      "numpy==1.19.5\r\n",
      "packaging==20.8\r\n",
      "pandocfilters==1.4.3\r\n",
      "parso==0.8.1\r\n",
      "pexpect==4.8.0\r\n",
      "pickleshare==0.7.5\r\n",
      "pkg-resources==0.0.0\r\n",
      "prometheus-client==0.9.0\r\n",
      "prompt-toolkit==3.0.11\r\n",
      "ptyprocess==0.7.0\r\n",
      "pycparser==2.20\r\n",
      "Pygments==2.7.4\r\n",
      "pymongo==3.11.2\r\n",
      "pyparsing==2.4.7\r\n",
      "pyrsistent==0.17.3\r\n",
      "python-dateutil==2.8.1\r\n",
      "pyzmq==21.0.1\r\n",
      "qtconsole==5.0.2\r\n",
      "QtPy==1.9.0\r\n",
      "s3transfer==0.3.4\r\n",
      "scikit-learn==0.24.1\r\n",
      "scipy==1.6.0\r\n",
      "Send2Trash==1.5.0\r\n",
      "simplejson==3.17.2\r\n",
      "six==1.15.0\r\n",
      "terminado==0.9.2\r\n",
      "testpath==0.4.4\r\n",
      "threadpoolctl==2.1.0\r\n",
      "tornado==6.1\r\n",
      "traitlets==5.0.5\r\n",
      "urllib3==1.26.2\r\n",
      "wcwidth==0.2.5\r\n",
      "webencodings==0.5.1\r\n",
      "widgetsnbextension==3.5.1\r\n"
     ]
    }
   ],
   "source": [
    "cat data/requirements.txt"
   ]
  },
  {
   "cell_type": "code",
   "execution_count": 17,
   "metadata": {},
   "outputs": [
    {
     "name": "stdout",
     "output_type": "stream",
     "text": [
      "Looking in links: /home/rick446/src/wheelhouse, /home/rick446/src/wheelhouse\n",
      "Processing /home/rick446/src/wheelhouse/argon2_cffi-20.1.0-cp37-abi3-linux_x86_64.whl\n",
      "Collecting async-generator==1.10\n",
      "  Using cached async_generator-1.10-py3-none-any.whl (18 kB)\n",
      "Collecting attrs==20.3.0\n",
      "  Using cached attrs-20.3.0-py2.py3-none-any.whl (49 kB)\n",
      "Collecting backcall==0.2.0\n",
      "  Using cached backcall-0.2.0-py2.py3-none-any.whl (11 kB)\n",
      "Collecting bleach==3.2.2\n",
      "  Using cached bleach-3.2.2-py2.py3-none-any.whl (146 kB)\n",
      "Collecting boto3==1.16.58\n",
      "  Using cached boto3-1.16.58-py2.py3-none-any.whl (130 kB)\n",
      "Collecting botocore==1.19.58\n",
      "  Using cached botocore-1.19.58-py2.py3-none-any.whl (7.2 MB)\n",
      "Collecting cffi==1.14.4\n",
      "  Using cached cffi-1.14.4-cp38-cp38-manylinux1_x86_64.whl (411 kB)\n",
      "Collecting decorator==4.4.2\n",
      "  Using cached decorator-4.4.2-py2.py3-none-any.whl (9.2 kB)\n",
      "Collecting defusedxml==0.6.0\n",
      "  Using cached defusedxml-0.6.0-py2.py3-none-any.whl (23 kB)\n",
      "Collecting entrypoints==0.3\n",
      "  Using cached entrypoints-0.3-py2.py3-none-any.whl (11 kB)\n",
      "Collecting ipykernel==5.4.3\n",
      "  Using cached ipykernel-5.4.3-py3-none-any.whl (120 kB)\n",
      "Collecting ipython==7.19.0\n",
      "  Using cached ipython-7.19.0-py3-none-any.whl (784 kB)\n",
      "Collecting ipython-genutils==0.2.0\n",
      "  Using cached ipython_genutils-0.2.0-py2.py3-none-any.whl (26 kB)\n",
      "Collecting ipywidgets==7.6.3\n",
      "  Using cached ipywidgets-7.6.3-py2.py3-none-any.whl (121 kB)\n",
      "Collecting jedi==0.18.0\n",
      "  Using cached jedi-0.18.0-py2.py3-none-any.whl (1.4 MB)\n",
      "Collecting Jinja2==2.11.2\n",
      "  Using cached Jinja2-2.11.2-py2.py3-none-any.whl (125 kB)\n",
      "Collecting jmespath==0.10.0\n",
      "  Using cached jmespath-0.10.0-py2.py3-none-any.whl (24 kB)\n",
      "Collecting joblib==1.0.0\n",
      "  Using cached joblib-1.0.0-py3-none-any.whl (302 kB)\n",
      "Collecting jsonschema==3.2.0\n",
      "  Using cached jsonschema-3.2.0-py2.py3-none-any.whl (56 kB)\n",
      "Collecting jupyter==1.0.0\n",
      "  Using cached jupyter-1.0.0-py2.py3-none-any.whl (2.7 kB)\n",
      "Collecting jupyter-client==6.1.11\n",
      "  Using cached jupyter_client-6.1.11-py3-none-any.whl (108 kB)\n",
      "Collecting jupyter-console==6.2.0\n",
      "  Using cached jupyter_console-6.2.0-py3-none-any.whl (22 kB)\n",
      "Collecting jupyter-core==4.7.0\n",
      "  Using cached jupyter_core-4.7.0-py3-none-any.whl (82 kB)\n",
      "Collecting jupyterlab-pygments==0.1.2\n",
      "  Using cached jupyterlab_pygments-0.1.2-py2.py3-none-any.whl (4.6 kB)\n",
      "Collecting jupyterlab-widgets==1.0.0\n",
      "  Using cached jupyterlab_widgets-1.0.0-py3-none-any.whl (243 kB)\n",
      "Collecting MarkupSafe==1.1.1\n",
      "  Using cached MarkupSafe-1.1.1-cp38-cp38-manylinux1_x86_64.whl (32 kB)\n",
      "Collecting mistune==0.8.4\n",
      "  Using cached mistune-0.8.4-py2.py3-none-any.whl (16 kB)\n",
      "Collecting nbclient==0.5.1\n",
      "  Using cached nbclient-0.5.1-py3-none-any.whl (65 kB)\n",
      "Collecting nbconvert==6.0.7\n",
      "  Using cached nbconvert-6.0.7-py3-none-any.whl (552 kB)\n",
      "Collecting nbformat==5.1.2\n",
      "  Using cached nbformat-5.1.2-py3-none-any.whl (113 kB)\n",
      "Collecting nest-asyncio==1.4.3\n",
      "  Using cached nest_asyncio-1.4.3-py3-none-any.whl (5.3 kB)\n",
      "Collecting notebook==6.2.0\n",
      "  Using cached notebook-6.2.0-py3-none-any.whl (9.5 MB)\n",
      "Collecting numpy==1.19.5\n",
      "  Using cached numpy-1.19.5-cp38-cp38-manylinux2010_x86_64.whl (14.9 MB)\n",
      "Collecting packaging==20.8\n",
      "  Using cached packaging-20.8-py2.py3-none-any.whl (39 kB)\n",
      "Processing /home/rick446/src/wheelhouse/pandocfilters-1.4.3-py3-none-any.whl\n",
      "Collecting parso==0.8.1\n",
      "  Using cached parso-0.8.1-py2.py3-none-any.whl (93 kB)\n",
      "Collecting pexpect==4.8.0\n",
      "  Using cached pexpect-4.8.0-py2.py3-none-any.whl (59 kB)\n",
      "Collecting pickleshare==0.7.5\n",
      "  Using cached pickleshare-0.7.5-py2.py3-none-any.whl (6.9 kB)\n",
      "Collecting prometheus-client==0.9.0\n",
      "  Using cached prometheus_client-0.9.0-py2.py3-none-any.whl (53 kB)\n",
      "Collecting prompt-toolkit==3.0.11\n",
      "  Using cached prompt_toolkit-3.0.11-py3-none-any.whl (358 kB)\n",
      "Collecting ptyprocess==0.7.0\n",
      "  Using cached ptyprocess-0.7.0-py2.py3-none-any.whl (13 kB)\n",
      "Collecting pycparser==2.20\n",
      "  Using cached pycparser-2.20-py2.py3-none-any.whl (112 kB)\n",
      "Collecting Pygments==2.7.4\n",
      "  Using cached Pygments-2.7.4-py3-none-any.whl (950 kB)\n",
      "Collecting pymongo==3.11.2\n",
      "  Using cached pymongo-3.11.2-cp38-cp38-manylinux2014_x86_64.whl (531 kB)\n",
      "Collecting pyparsing==2.4.7\n",
      "  Using cached pyparsing-2.4.7-py2.py3-none-any.whl (67 kB)\n",
      "Collecting pyrsistent==0.17.3\n",
      "  Using cached pyrsistent-0.17.3-cp38-cp38-linux_x86_64.whl\n",
      "Collecting python-dateutil==2.8.1\n",
      "  Using cached python_dateutil-2.8.1-py2.py3-none-any.whl (227 kB)\n",
      "Collecting pyzmq==21.0.1\n",
      "  Using cached pyzmq-21.0.1-cp38-cp38-manylinux2010_x86_64.whl (8.9 MB)\n",
      "Collecting qtconsole==5.0.2\n",
      "  Using cached qtconsole-5.0.2-py3-none-any.whl (119 kB)\n",
      "Collecting QtPy==1.9.0\n",
      "  Using cached QtPy-1.9.0-py2.py3-none-any.whl (54 kB)\n",
      "Collecting s3transfer==0.3.4\n",
      "  Using cached s3transfer-0.3.4-py2.py3-none-any.whl (69 kB)\n",
      "Collecting scikit-learn==0.24.1\n",
      "  Using cached scikit_learn-0.24.1-cp38-cp38-manylinux2010_x86_64.whl (24.9 MB)\n",
      "Collecting scipy==1.6.0\n",
      "  Using cached scipy-1.6.0-cp38-cp38-manylinux1_x86_64.whl (27.2 MB)\n",
      "Collecting Send2Trash==1.5.0\n",
      "  Using cached Send2Trash-1.5.0-py3-none-any.whl (12 kB)\n",
      "Collecting simplejson==3.17.2\n",
      "  Using cached simplejson-3.17.2-cp38-cp38-manylinux2010_x86_64.whl (137 kB)\n",
      "Collecting six==1.15.0\n",
      "  Using cached six-1.15.0-py2.py3-none-any.whl (10 kB)\n",
      "Collecting terminado==0.9.2\n",
      "  Using cached terminado-0.9.2-py3-none-any.whl (14 kB)\n",
      "Collecting testpath==0.4.4\n",
      "  Using cached testpath-0.4.4-py2.py3-none-any.whl (163 kB)\n",
      "Collecting threadpoolctl==2.1.0\n",
      "  Using cached threadpoolctl-2.1.0-py3-none-any.whl (12 kB)\n",
      "Collecting tornado==6.1\n",
      "  Using cached tornado-6.1-cp38-cp38-manylinux2010_x86_64.whl (427 kB)\n",
      "Collecting traitlets==5.0.5\n",
      "  Using cached traitlets-5.0.5-py3-none-any.whl (100 kB)\n",
      "Collecting urllib3==1.26.2\n",
      "  Using cached urllib3-1.26.2-py2.py3-none-any.whl (136 kB)\n",
      "Collecting wcwidth==0.2.5\n",
      "  Using cached wcwidth-0.2.5-py2.py3-none-any.whl (30 kB)\n",
      "Collecting webencodings==0.5.1\n",
      "  Using cached webencodings-0.5.1-py2.py3-none-any.whl (11 kB)\n",
      "Collecting widgetsnbextension==3.5.1\n",
      "  Using cached widgetsnbextension-3.5.1-py2.py3-none-any.whl (2.2 MB)\n",
      "Collecting setuptools>=18.5\n",
      "  Downloading setuptools-51.3.3-py3-none-any.whl (786 kB)\n",
      "Saved /home/rick446/src/arborian-classes/data/wheelhouse/argon2_cffi-20.1.0-cp37-abi3-linux_x86_64.whl\n",
      "Saved /home/rick446/src/arborian-classes/data/wheelhouse/async_generator-1.10-py3-none-any.whl\n",
      "Saved /home/rick446/src/arborian-classes/data/wheelhouse/attrs-20.3.0-py2.py3-none-any.whl\n",
      "Saved /home/rick446/src/arborian-classes/data/wheelhouse/backcall-0.2.0-py2.py3-none-any.whl\n",
      "Saved /home/rick446/src/arborian-classes/data/wheelhouse/bleach-3.2.2-py2.py3-none-any.whl\n",
      "Saved /home/rick446/src/arborian-classes/data/wheelhouse/boto3-1.16.58-py2.py3-none-any.whl\n",
      "Saved /home/rick446/src/arborian-classes/data/wheelhouse/botocore-1.19.58-py2.py3-none-any.whl\n",
      "Saved /home/rick446/src/arborian-classes/data/wheelhouse/cffi-1.14.4-cp38-cp38-manylinux1_x86_64.whl\n",
      "Saved /home/rick446/src/arborian-classes/data/wheelhouse/decorator-4.4.2-py2.py3-none-any.whl\n",
      "Saved /home/rick446/src/arborian-classes/data/wheelhouse/defusedxml-0.6.0-py2.py3-none-any.whl\n",
      "Saved /home/rick446/src/arborian-classes/data/wheelhouse/entrypoints-0.3-py2.py3-none-any.whl\n",
      "Saved /home/rick446/src/arborian-classes/data/wheelhouse/ipykernel-5.4.3-py3-none-any.whl\n",
      "Saved /home/rick446/src/arborian-classes/data/wheelhouse/ipython-7.19.0-py3-none-any.whl\n",
      "Saved /home/rick446/src/arborian-classes/data/wheelhouse/ipython_genutils-0.2.0-py2.py3-none-any.whl\n",
      "Saved /home/rick446/src/arborian-classes/data/wheelhouse/ipywidgets-7.6.3-py2.py3-none-any.whl\n",
      "Saved /home/rick446/src/arborian-classes/data/wheelhouse/jedi-0.18.0-py2.py3-none-any.whl\n",
      "Saved /home/rick446/src/arborian-classes/data/wheelhouse/Jinja2-2.11.2-py2.py3-none-any.whl\n",
      "Saved /home/rick446/src/arborian-classes/data/wheelhouse/jmespath-0.10.0-py2.py3-none-any.whl\n",
      "Saved /home/rick446/src/arborian-classes/data/wheelhouse/joblib-1.0.0-py3-none-any.whl\n",
      "Saved /home/rick446/src/arborian-classes/data/wheelhouse/jsonschema-3.2.0-py2.py3-none-any.whl\n",
      "Saved /home/rick446/src/arborian-classes/data/wheelhouse/jupyter-1.0.0-py2.py3-none-any.whl\n",
      "Saved /home/rick446/src/arborian-classes/data/wheelhouse/jupyter_client-6.1.11-py3-none-any.whl\n",
      "Saved /home/rick446/src/arborian-classes/data/wheelhouse/jupyter_console-6.2.0-py3-none-any.whl\n",
      "Saved /home/rick446/src/arborian-classes/data/wheelhouse/jupyter_core-4.7.0-py3-none-any.whl\n",
      "Saved /home/rick446/src/arborian-classes/data/wheelhouse/jupyterlab_pygments-0.1.2-py2.py3-none-any.whl\n",
      "Saved /home/rick446/src/arborian-classes/data/wheelhouse/jupyterlab_widgets-1.0.0-py3-none-any.whl\n",
      "Saved /home/rick446/src/arborian-classes/data/wheelhouse/MarkupSafe-1.1.1-cp38-cp38-manylinux1_x86_64.whl\n",
      "Saved /home/rick446/src/arborian-classes/data/wheelhouse/mistune-0.8.4-py2.py3-none-any.whl\n",
      "Saved /home/rick446/src/arborian-classes/data/wheelhouse/nbclient-0.5.1-py3-none-any.whl\n",
      "Saved /home/rick446/src/arborian-classes/data/wheelhouse/nbconvert-6.0.7-py3-none-any.whl\n",
      "Saved /home/rick446/src/arborian-classes/data/wheelhouse/nbformat-5.1.2-py3-none-any.whl\n",
      "Saved /home/rick446/src/arborian-classes/data/wheelhouse/nest_asyncio-1.4.3-py3-none-any.whl\n",
      "Saved /home/rick446/src/arborian-classes/data/wheelhouse/notebook-6.2.0-py3-none-any.whl\n",
      "Saved /home/rick446/src/arborian-classes/data/wheelhouse/numpy-1.19.5-cp38-cp38-manylinux2010_x86_64.whl\n",
      "Saved /home/rick446/src/arborian-classes/data/wheelhouse/packaging-20.8-py2.py3-none-any.whl\n",
      "Saved /home/rick446/src/arborian-classes/data/wheelhouse/pandocfilters-1.4.3-py3-none-any.whl\n",
      "Saved /home/rick446/src/arborian-classes/data/wheelhouse/parso-0.8.1-py2.py3-none-any.whl\n",
      "Saved /home/rick446/src/arborian-classes/data/wheelhouse/pexpect-4.8.0-py2.py3-none-any.whl\n",
      "Saved /home/rick446/src/arborian-classes/data/wheelhouse/pickleshare-0.7.5-py2.py3-none-any.whl\n",
      "Saved /home/rick446/src/arborian-classes/data/wheelhouse/prometheus_client-0.9.0-py2.py3-none-any.whl\n",
      "Saved /home/rick446/src/arborian-classes/data/wheelhouse/prompt_toolkit-3.0.11-py3-none-any.whl\n",
      "Saved /home/rick446/src/arborian-classes/data/wheelhouse/ptyprocess-0.7.0-py2.py3-none-any.whl\n",
      "Saved /home/rick446/src/arborian-classes/data/wheelhouse/pycparser-2.20-py2.py3-none-any.whl\n",
      "Saved /home/rick446/src/arborian-classes/data/wheelhouse/Pygments-2.7.4-py3-none-any.whl\n",
      "Saved /home/rick446/src/arborian-classes/data/wheelhouse/pymongo-3.11.2-cp38-cp38-manylinux2014_x86_64.whl\n",
      "Saved /home/rick446/src/arborian-classes/data/wheelhouse/pyparsing-2.4.7-py2.py3-none-any.whl\n",
      "Saved /home/rick446/src/arborian-classes/data/wheelhouse/pyrsistent-0.17.3-cp38-cp38-linux_x86_64.whl\n",
      "Saved /home/rick446/src/arborian-classes/data/wheelhouse/python_dateutil-2.8.1-py2.py3-none-any.whl\n",
      "Saved /home/rick446/src/arborian-classes/data/wheelhouse/pyzmq-21.0.1-cp38-cp38-manylinux2010_x86_64.whl\n",
      "Saved /home/rick446/src/arborian-classes/data/wheelhouse/qtconsole-5.0.2-py3-none-any.whl\n",
      "Saved /home/rick446/src/arborian-classes/data/wheelhouse/QtPy-1.9.0-py2.py3-none-any.whl\n",
      "Saved /home/rick446/src/arborian-classes/data/wheelhouse/s3transfer-0.3.4-py2.py3-none-any.whl\n",
      "Saved /home/rick446/src/arborian-classes/data/wheelhouse/scikit_learn-0.24.1-cp38-cp38-manylinux2010_x86_64.whl\n",
      "Saved /home/rick446/src/arborian-classes/data/wheelhouse/scipy-1.6.0-cp38-cp38-manylinux1_x86_64.whl\n",
      "Saved /home/rick446/src/arborian-classes/data/wheelhouse/Send2Trash-1.5.0-py3-none-any.whl\n",
      "Saved /home/rick446/src/arborian-classes/data/wheelhouse/simplejson-3.17.2-cp38-cp38-manylinux2010_x86_64.whl\n",
      "Saved /home/rick446/src/arborian-classes/data/wheelhouse/six-1.15.0-py2.py3-none-any.whl\n",
      "Saved /home/rick446/src/arborian-classes/data/wheelhouse/terminado-0.9.2-py3-none-any.whl\n",
      "Saved /home/rick446/src/arborian-classes/data/wheelhouse/testpath-0.4.4-py2.py3-none-any.whl\n",
      "Saved /home/rick446/src/arborian-classes/data/wheelhouse/threadpoolctl-2.1.0-py3-none-any.whl\n",
      "Saved /home/rick446/src/arborian-classes/data/wheelhouse/tornado-6.1-cp38-cp38-manylinux2010_x86_64.whl\n",
      "Saved /home/rick446/src/arborian-classes/data/wheelhouse/traitlets-5.0.5-py3-none-any.whl\n",
      "Saved /home/rick446/src/arborian-classes/data/wheelhouse/urllib3-1.26.2-py2.py3-none-any.whl\n",
      "Saved /home/rick446/src/arborian-classes/data/wheelhouse/wcwidth-0.2.5-py2.py3-none-any.whl\n",
      "Saved /home/rick446/src/arborian-classes/data/wheelhouse/webencodings-0.5.1-py2.py3-none-any.whl\n",
      "Saved /home/rick446/src/arborian-classes/data/wheelhouse/widgetsnbextension-3.5.1-py2.py3-none-any.whl\n",
      "Saved /home/rick446/src/arborian-classes/data/wheelhouse/setuptools-51.3.3-py3-none-any.whl\n"
     ]
    }
   ],
   "source": [
    "%%bash\n",
    "set -e\n",
    "source data/env-folder/bin/activate\n",
    "pip wheel -w data/wheelhouse -r data/requirements.txt"
   ]
  },
  {
   "cell_type": "code",
   "execution_count": 18,
   "metadata": {
    "scrolled": true
   },
   "outputs": [
    {
     "name": "stdout",
     "output_type": "stream",
     "text": [
      "Jinja2-2.11.2-py2.py3-none-any.whl\r\n",
      "MarkupSafe-1.1.1-cp38-cp38-manylinux1_x86_64.whl\r\n",
      "Pygments-2.7.4-py3-none-any.whl\r\n",
      "QtPy-1.9.0-py2.py3-none-any.whl\r\n",
      "Send2Trash-1.5.0-py3-none-any.whl\r\n",
      "argon2_cffi-20.1.0-cp37-abi3-linux_x86_64.whl\r\n",
      "async_generator-1.10-py3-none-any.whl\r\n",
      "attrs-20.3.0-py2.py3-none-any.whl\r\n",
      "backcall-0.2.0-py2.py3-none-any.whl\r\n",
      "bleach-3.2.2-py2.py3-none-any.whl\r\n",
      "boto3-1.16.58-py2.py3-none-any.whl\r\n",
      "botocore-1.19.58-py2.py3-none-any.whl\r\n",
      "cffi-1.14.4-cp38-cp38-manylinux1_x86_64.whl\r\n",
      "decorator-4.4.2-py2.py3-none-any.whl\r\n",
      "defusedxml-0.6.0-py2.py3-none-any.whl\r\n",
      "entrypoints-0.3-py2.py3-none-any.whl\r\n",
      "ipykernel-5.4.3-py3-none-any.whl\r\n",
      "ipython-7.19.0-py3-none-any.whl\r\n",
      "ipython_genutils-0.2.0-py2.py3-none-any.whl\r\n",
      "ipywidgets-7.6.3-py2.py3-none-any.whl\r\n",
      "jedi-0.18.0-py2.py3-none-any.whl\r\n",
      "jmespath-0.10.0-py2.py3-none-any.whl\r\n",
      "joblib-1.0.0-py3-none-any.whl\r\n",
      "jsonschema-3.2.0-py2.py3-none-any.whl\r\n",
      "jupyter-1.0.0-py2.py3-none-any.whl\r\n",
      "jupyter_client-6.1.11-py3-none-any.whl\r\n",
      "jupyter_console-6.2.0-py3-none-any.whl\r\n",
      "jupyter_core-4.7.0-py3-none-any.whl\r\n",
      "jupyterlab_pygments-0.1.2-py2.py3-none-any.whl\r\n",
      "jupyterlab_widgets-1.0.0-py3-none-any.whl\r\n",
      "mistune-0.8.4-py2.py3-none-any.whl\r\n",
      "nbclient-0.5.1-py3-none-any.whl\r\n",
      "nbconvert-6.0.7-py3-none-any.whl\r\n",
      "nbformat-5.1.2-py3-none-any.whl\r\n",
      "nest_asyncio-1.4.3-py3-none-any.whl\r\n",
      "notebook-6.2.0-py3-none-any.whl\r\n",
      "numpy-1.19.5-cp38-cp38-manylinux2010_x86_64.whl\r\n",
      "packaging-20.8-py2.py3-none-any.whl\r\n",
      "pandocfilters-1.4.3-py3-none-any.whl\r\n",
      "parso-0.8.1-py2.py3-none-any.whl\r\n",
      "pexpect-4.8.0-py2.py3-none-any.whl\r\n",
      "pickleshare-0.7.5-py2.py3-none-any.whl\r\n",
      "prometheus_client-0.9.0-py2.py3-none-any.whl\r\n",
      "prompt_toolkit-3.0.11-py3-none-any.whl\r\n",
      "ptyprocess-0.7.0-py2.py3-none-any.whl\r\n",
      "pycparser-2.20-py2.py3-none-any.whl\r\n",
      "pymongo-3.11.2-cp38-cp38-manylinux2014_x86_64.whl\r\n",
      "pyparsing-2.4.7-py2.py3-none-any.whl\r\n",
      "pyrsistent-0.17.3-cp38-cp38-linux_x86_64.whl\r\n",
      "python_dateutil-2.8.1-py2.py3-none-any.whl\r\n",
      "pyzmq-21.0.1-cp38-cp38-manylinux2010_x86_64.whl\r\n",
      "qtconsole-5.0.2-py3-none-any.whl\r\n",
      "s3transfer-0.3.4-py2.py3-none-any.whl\r\n",
      "scikit_learn-0.24.1-cp38-cp38-manylinux2010_x86_64.whl\r\n",
      "scipy-1.6.0-cp38-cp38-manylinux1_x86_64.whl\r\n",
      "setuptools-51.3.3-py3-none-any.whl\r\n",
      "simplejson-3.17.2-cp38-cp38-manylinux2010_x86_64.whl\r\n",
      "six-1.15.0-py2.py3-none-any.whl\r\n",
      "terminado-0.9.2-py3-none-any.whl\r\n",
      "testpath-0.4.4-py2.py3-none-any.whl\r\n",
      "threadpoolctl-2.1.0-py3-none-any.whl\r\n",
      "tornado-6.1-cp38-cp38-manylinux2010_x86_64.whl\r\n",
      "traitlets-5.0.5-py3-none-any.whl\r\n",
      "urllib3-1.26.2-py2.py3-none-any.whl\r\n",
      "wcwidth-0.2.5-py2.py3-none-any.whl\r\n",
      "webencodings-0.5.1-py2.py3-none-any.whl\r\n",
      "widgetsnbextension-3.5.1-py2.py3-none-any.whl\r\n"
     ]
    }
   ],
   "source": [
    "ls data/wheelhouse"
   ]
  },
  {
   "cell_type": "markdown",
   "metadata": {},
   "source": [
    "Now we can distribute the `data/wheelhouse` directory with our project and install everything from the wheelhouse and not fetch from PyPI:"
   ]
  },
  {
   "cell_type": "code",
   "execution_count": 19,
   "metadata": {
    "scrolled": true
   },
   "outputs": [
    {
     "name": "stdout",
     "output_type": "stream",
     "text": [
      "Looking in links: /home/rick446/src/wheelhouse, data/wheelhouse, /home/rick446/src/wheelhouse\n",
      "Processing /home/rick446/src/wheelhouse/argon2_cffi-20.1.0-cp37-abi3-linux_x86_64.whl\n",
      "Processing /home/rick446/src/wheelhouse/async_generator-1.10-py3-none-any.whl\n",
      "Processing /home/rick446/src/wheelhouse/attrs-20.3.0-py2.py3-none-any.whl\n",
      "Processing /home/rick446/src/wheelhouse/backcall-0.2.0-py2.py3-none-any.whl\n",
      "Processing /home/rick446/src/arborian-classes/data/wheelhouse/bleach-3.2.2-py2.py3-none-any.whl\n",
      "Processing /home/rick446/src/arborian-classes/data/wheelhouse/boto3-1.16.58-py2.py3-none-any.whl\n",
      "Processing /home/rick446/src/arborian-classes/data/wheelhouse/botocore-1.19.58-py2.py3-none-any.whl\n",
      "Processing /home/rick446/src/arborian-classes/data/wheelhouse/cffi-1.14.4-cp38-cp38-manylinux1_x86_64.whl\n",
      "Processing /home/rick446/src/wheelhouse/decorator-4.4.2-py2.py3-none-any.whl\n",
      "Processing /home/rick446/src/wheelhouse/defusedxml-0.6.0-py2.py3-none-any.whl\n",
      "Processing /home/rick446/src/wheelhouse/entrypoints-0.3-py2.py3-none-any.whl\n",
      "Processing /home/rick446/src/arborian-classes/data/wheelhouse/ipykernel-5.4.3-py3-none-any.whl\n",
      "Processing /home/rick446/src/wheelhouse/ipython-7.19.0-py3-none-any.whl\n",
      "Processing /home/rick446/src/wheelhouse/ipython_genutils-0.2.0-py2.py3-none-any.whl\n",
      "Processing /home/rick446/src/arborian-classes/data/wheelhouse/ipywidgets-7.6.3-py2.py3-none-any.whl\n",
      "Processing /home/rick446/src/wheelhouse/jedi-0.18.0-py2.py3-none-any.whl\n",
      "Processing /home/rick446/src/wheelhouse/Jinja2-2.11.2-py2.py3-none-any.whl\n",
      "Processing /home/rick446/src/wheelhouse/jmespath-0.10.0-py2.py3-none-any.whl\n",
      "Processing /home/rick446/src/arborian-classes/data/wheelhouse/joblib-1.0.0-py3-none-any.whl\n",
      "Processing /home/rick446/src/wheelhouse/jsonschema-3.2.0-py2.py3-none-any.whl\n",
      "Processing /home/rick446/src/wheelhouse/jupyter-1.0.0-py2.py3-none-any.whl\n",
      "Processing /home/rick446/src/arborian-classes/data/wheelhouse/jupyter_client-6.1.11-py3-none-any.whl\n",
      "Processing /home/rick446/src/wheelhouse/jupyter_console-6.2.0-py3-none-any.whl\n",
      "Processing /home/rick446/src/wheelhouse/jupyter_core-4.7.0-py3-none-any.whl\n",
      "Processing /home/rick446/src/wheelhouse/jupyterlab_pygments-0.1.2-py2.py3-none-any.whl\n",
      "Processing /home/rick446/src/wheelhouse/jupyterlab_widgets-1.0.0-py3-none-any.whl\n",
      "Processing /home/rick446/src/wheelhouse/MarkupSafe-1.1.1-cp38-cp38-manylinux1_x86_64.whl\n",
      "Processing /home/rick446/src/wheelhouse/mistune-0.8.4-py2.py3-none-any.whl\n",
      "Processing /home/rick446/src/wheelhouse/nbclient-0.5.1-py3-none-any.whl\n",
      "Processing /home/rick446/src/wheelhouse/nbconvert-6.0.7-py3-none-any.whl\n",
      "Processing /home/rick446/src/arborian-classes/data/wheelhouse/nbformat-5.1.2-py3-none-any.whl\n",
      "Processing /home/rick446/src/wheelhouse/nest_asyncio-1.4.3-py3-none-any.whl\n",
      "Processing /home/rick446/src/arborian-classes/data/wheelhouse/notebook-6.2.0-py3-none-any.whl\n",
      "Requirement already satisfied: numpy==1.19.5 in /home/rick446/src/arborian-classes/data/env-folder-2/lib/python3.8/site-packages (from -r data/requirements.txt (line 35)) (1.19.5)\n",
      "Processing /home/rick446/src/wheelhouse/packaging-20.8-py2.py3-none-any.whl\n",
      "Processing /home/rick446/src/wheelhouse/pandocfilters-1.4.3-py3-none-any.whl\n",
      "Processing /home/rick446/src/wheelhouse/parso-0.8.1-py2.py3-none-any.whl\n",
      "Processing /home/rick446/src/wheelhouse/pexpect-4.8.0-py2.py3-none-any.whl\n",
      "Processing /home/rick446/src/wheelhouse/pickleshare-0.7.5-py2.py3-none-any.whl\n",
      "Processing /home/rick446/src/wheelhouse/prometheus_client-0.9.0-py2.py3-none-any.whl\n",
      "Processing /home/rick446/src/arborian-classes/data/wheelhouse/prompt_toolkit-3.0.11-py3-none-any.whl\n",
      "Processing /home/rick446/src/wheelhouse/ptyprocess-0.7.0-py2.py3-none-any.whl\n",
      "Processing /home/rick446/src/wheelhouse/pycparser-2.20-py2.py3-none-any.whl\n",
      "Processing /home/rick446/src/wheelhouse/Pygments-2.7.4-py3-none-any.whl\n",
      "Processing /home/rick446/src/arborian-classes/data/wheelhouse/pymongo-3.11.2-cp38-cp38-manylinux2014_x86_64.whl\n",
      "Processing /home/rick446/src/wheelhouse/pyparsing-2.4.7-py2.py3-none-any.whl\n",
      "Processing /home/rick446/src/arborian-classes/data/wheelhouse/pyrsistent-0.17.3-cp38-cp38-linux_x86_64.whl\n",
      "Processing /home/rick446/src/wheelhouse/python_dateutil-2.8.1-py2.py3-none-any.whl\n",
      "Processing /home/rick446/src/arborian-classes/data/wheelhouse/pyzmq-21.0.1-cp38-cp38-manylinux2010_x86_64.whl\n",
      "Processing /home/rick446/src/arborian-classes/data/wheelhouse/qtconsole-5.0.2-py3-none-any.whl\n",
      "Processing /home/rick446/src/wheelhouse/QtPy-1.9.0-py2.py3-none-any.whl\n",
      "Processing /home/rick446/src/arborian-classes/data/wheelhouse/s3transfer-0.3.4-py2.py3-none-any.whl\n",
      "Processing /home/rick446/src/arborian-classes/data/wheelhouse/scikit_learn-0.24.1-cp38-cp38-manylinux2010_x86_64.whl\n",
      "Processing /home/rick446/src/arborian-classes/data/wheelhouse/scipy-1.6.0-cp38-cp38-manylinux1_x86_64.whl\n",
      "Processing /home/rick446/src/wheelhouse/Send2Trash-1.5.0-py3-none-any.whl\n",
      "Processing /home/rick446/src/arborian-classes/data/wheelhouse/simplejson-3.17.2-cp38-cp38-manylinux2010_x86_64.whl\n",
      "Processing /home/rick446/src/wheelhouse/six-1.15.0-py2.py3-none-any.whl\n",
      "Processing /home/rick446/src/wheelhouse/terminado-0.9.2-py3-none-any.whl\n",
      "Processing /home/rick446/src/wheelhouse/testpath-0.4.4-py2.py3-none-any.whl\n",
      "Processing /home/rick446/src/arborian-classes/data/wheelhouse/threadpoolctl-2.1.0-py3-none-any.whl\n",
      "Processing /home/rick446/src/arborian-classes/data/wheelhouse/tornado-6.1-cp38-cp38-manylinux2010_x86_64.whl\n",
      "Processing /home/rick446/src/wheelhouse/traitlets-5.0.5-py3-none-any.whl\n",
      "Processing /home/rick446/src/wheelhouse/urllib3-1.26.2-py2.py3-none-any.whl\n",
      "Processing /home/rick446/src/wheelhouse/wcwidth-0.2.5-py2.py3-none-any.whl\n",
      "Processing /home/rick446/src/wheelhouse/webencodings-0.5.1-py2.py3-none-any.whl\n",
      "Processing /home/rick446/src/wheelhouse/widgetsnbextension-3.5.1-py2.py3-none-any.whl\n",
      "Requirement already satisfied: setuptools>=18.5 in /home/rick446/src/arborian-classes/data/env-folder-2/lib/python3.8/site-packages (from ipython==7.19.0->-r data/requirements.txt (line 14)) (44.0.0)\n",
      "Installing collected packages: six, pycparser, cffi, argon2-cffi, async-generator, attrs, backcall, pyparsing, packaging, webencodings, bleach, urllib3, python-dateutil, jmespath, botocore, s3transfer, boto3, decorator, defusedxml, entrypoints, ipython-genutils, traitlets, tornado, Pygments, pickleshare, parso, jedi, wcwidth, prompt-toolkit, ptyprocess, pexpect, ipython, pyzmq, jupyter-core, jupyter-client, ipykernel, jupyterlab-widgets, pyrsistent, jsonschema, nbformat, terminado, Send2Trash, MarkupSafe, Jinja2, pandocfilters, jupyterlab-pygments, nest-asyncio, nbclient, testpath, mistune, nbconvert, prometheus-client, notebook, widgetsnbextension, ipywidgets, joblib, jupyter-console, QtPy, qtconsole, jupyter, pymongo, scipy, threadpoolctl, scikit-learn, simplejson\n",
      "Successfully installed Jinja2-2.11.2 MarkupSafe-1.1.1 Pygments-2.7.4 QtPy-1.9.0 Send2Trash-1.5.0 argon2-cffi-20.1.0 async-generator-1.10 attrs-20.3.0 backcall-0.2.0 bleach-3.2.2 boto3-1.16.58 botocore-1.19.58 cffi-1.14.4 decorator-4.4.2 defusedxml-0.6.0 entrypoints-0.3 ipykernel-5.4.3 ipython-7.19.0 ipython-genutils-0.2.0 ipywidgets-7.6.3 jedi-0.18.0 jmespath-0.10.0 joblib-1.0.0 jsonschema-3.2.0 jupyter-1.0.0 jupyter-client-6.1.11 jupyter-console-6.2.0 jupyter-core-4.7.0 jupyterlab-pygments-0.1.2 jupyterlab-widgets-1.0.0 mistune-0.8.4 nbclient-0.5.1 nbconvert-6.0.7 nbformat-5.1.2 nest-asyncio-1.4.3 notebook-6.2.0 packaging-20.8 pandocfilters-1.4.3 parso-0.8.1 pexpect-4.8.0 pickleshare-0.7.5 prometheus-client-0.9.0 prompt-toolkit-3.0.11 ptyprocess-0.7.0 pycparser-2.20 pymongo-3.11.2 pyparsing-2.4.7 pyrsistent-0.17.3 python-dateutil-2.8.1 pyzmq-21.0.1 qtconsole-5.0.2 s3transfer-0.3.4 scikit-learn-0.24.1 scipy-1.6.0 simplejson-3.17.2 six-1.15.0 terminado-0.9.2 testpath-0.4.4 threadpoolctl-2.1.0 tornado-6.1 traitlets-5.0.5 urllib3-1.26.2 wcwidth-0.2.5 webencodings-0.5.1 widgetsnbextension-3.5.1\n"
     ]
    }
   ],
   "source": [
    "%%bash\n",
    "set -e\n",
    "source data/env-folder-2/bin/activate\n",
    "pip install --no-index -f data/wheelhouse -r data/requirements.txt"
   ]
  },
  {
   "cell_type": "markdown",
   "metadata": {},
   "source": [
    "# Cleaning up virtualenvs\n",
    "\n",
    "Since a virtualenv is just a directory, we can 'clean it up' by removing the directory:"
   ]
  },
  {
   "cell_type": "code",
   "execution_count": 20,
   "metadata": {},
   "outputs": [],
   "source": [
    "!rm -r data/env-folder data/env-folder-2 data/wheelhouse data/requirements.txt"
   ]
  },
  {
   "cell_type": "code",
   "execution_count": 21,
   "metadata": {
    "scrolled": false
   },
   "outputs": [
    {
     "name": "stdout",
     "output_type": "stream",
     "text": [
      "usage: venv [-h] [--system-site-packages] [--symlinks | --copies] [--clear]\r\n",
      "            [--upgrade] [--without-pip] [--prompt PROMPT]\r\n",
      "            ENV_DIR [ENV_DIR ...]\r\n",
      "\r\n",
      "Creates virtual Python environments in one or more target directories.\r\n",
      "\r\n",
      "positional arguments:\r\n",
      "  ENV_DIR               A directory to create the environment in.\r\n",
      "\r\n",
      "optional arguments:\r\n",
      "  -h, --help            show this help message and exit\r\n",
      "  --system-site-packages\r\n",
      "                        Give the virtual environment access to the system\r\n",
      "                        site-packages dir.\r\n",
      "  --symlinks            Try to use symlinks rather than copies, when symlinks\r\n",
      "                        are not the default for the platform.\r\n",
      "  --copies              Try to use copies rather than symlinks, even when\r\n",
      "                        symlinks are the default for the platform.\r\n",
      "  --clear               Delete the contents of the environment directory if it\r\n",
      "                        already exists, before environment creation.\r\n",
      "  --upgrade             Upgrade the environment directory to use this version\r\n",
      "                        of Python, assuming Python has been upgraded in-place.\r\n",
      "  --without-pip         Skips installing or upgrading pip in the virtual\r\n",
      "                        environment (pip is bootstrapped by default)\r\n",
      "  --prompt PROMPT       Provides an alternative prompt prefix for this\r\n",
      "                        environment.\r\n",
      "\r\n",
      "Once an environment has been created, you may wish to activate it, e.g. by\r\n",
      "sourcing an activate script in its bin directory.\r\n"
     ]
    }
   ],
   "source": [
    "!python -m venv --help"
   ]
  },
  {
   "cell_type": "markdown",
   "metadata": {},
   "source": [
    "# Lab\n",
    "\n",
    "Open [virtualenv lab][virtualenv-lab]\n",
    "\n",
    "[virtualenv-lab]: ./virtualenv-lab.ipynb"
   ]
  },
  {
   "cell_type": "code",
   "execution_count": null,
   "metadata": {},
   "outputs": [],
   "source": []
  }
 ],
 "metadata": {
  "kernelspec": {
   "display_name": "Python 3",
   "language": "python",
   "name": "python3"
  },
  "language_info": {
   "codemirror_mode": {
    "name": "ipython",
    "version": 3
   },
   "file_extension": ".py",
   "mimetype": "text/x-python",
   "name": "python",
   "nbconvert_exporter": "python",
   "pygments_lexer": "ipython3",
   "version": "3.8.5"
  }
 },
 "nbformat": 4,
 "nbformat_minor": 2
}
