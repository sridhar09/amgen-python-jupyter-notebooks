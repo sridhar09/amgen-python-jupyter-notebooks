{
 "cells": [
  {
   "cell_type": "markdown",
   "metadata": {},
   "source": [
    "# Micro-benchmarks and timeit"
   ]
  },
  {
   "cell_type": "code",
   "execution_count": 1,
   "metadata": {},
   "outputs": [],
   "source": [
    "import io\n",
    "\n",
    "def build_concat(strings):\n",
    "    result = ''\n",
    "    for s in strings:\n",
    "        result += s\n",
    "    return result\n",
    "\n",
    "def build_join(strings):\n",
    "    return ''.join(strings)\n",
    "\n",
    "def build_sio(strings):\n",
    "    sio = io.StringIO()\n",
    "    for s in strings:\n",
    "        sio.write(s)\n",
    "    return sio.getvalue()\n",
    "\n",
    "strings = [str(i) for i in range(1000)]"
   ]
  },
  {
   "cell_type": "code",
   "execution_count": 2,
   "metadata": {},
   "outputs": [
    {
     "data": {
      "text/plain": [
       "True"
      ]
     },
     "execution_count": 2,
     "metadata": {},
     "output_type": "execute_result"
    }
   ],
   "source": [
    "build_concat(strings) == build_join(strings) == build_sio(strings) "
   ]
  },
  {
   "cell_type": "code",
   "execution_count": 3,
   "metadata": {},
   "outputs": [],
   "source": [
    "import timeit"
   ]
  },
  {
   "cell_type": "code",
   "execution_count": 9,
   "metadata": {},
   "outputs": [
    {
     "name": "stdout",
     "output_type": "stream",
     "text": [
      "concat 0.5870490000233985\n",
      "join 0.06981250003445894\n",
      "sio 0.6017359999823384\n"
     ]
    }
   ],
   "source": [
    "for fname in ('concat', 'join', 'sio'):\n",
    "    elapsed = timeit.timeit(\n",
    "        'build_%s(strings)' % fname, \n",
    "        globals=globals(),\n",
    "        number=10_000)\n",
    "    print(fname, elapsed)"
   ]
  },
  {
   "cell_type": "markdown",
   "metadata": {},
   "source": [
    "## Jupyter Notebook (and IPython) provide a nice helper\n",
    "\n",
    "We can use `%timeit` (or usually just `timeit`) to run a version of `timeit` in IPython"
   ]
  },
  {
   "cell_type": "code",
   "execution_count": 5,
   "metadata": {},
   "outputs": [
    {
     "name": "stdout",
     "output_type": "stream",
     "text": [
      "56.4 µs ± 1.95 µs per loop (mean ± std. dev. of 7 runs, 10000 loops each)\n"
     ]
    }
   ],
   "source": [
    "%%timeit \n",
    "build_concat(strings)"
   ]
  },
  {
   "cell_type": "code",
   "execution_count": 6,
   "metadata": {},
   "outputs": [
    {
     "name": "stdout",
     "output_type": "stream",
     "text": [
      "7.06 µs ± 126 ns per loop (mean ± std. dev. of 7 runs, 100000 loops each)\n"
     ]
    }
   ],
   "source": [
    "%timeit build_join(strings)"
   ]
  },
  {
   "cell_type": "code",
   "execution_count": 7,
   "metadata": {},
   "outputs": [
    {
     "name": "stdout",
     "output_type": "stream",
     "text": [
      "63.8 µs ± 1.49 µs per loop (mean ± std. dev. of 7 runs, 10000 loops each)\n"
     ]
    }
   ],
   "source": [
    "%timeit build_sio(strings)"
   ]
  },
  {
   "cell_type": "markdown",
   "metadata": {},
   "source": [
    "## Results of our microbenchmark\n",
    "\n",
    "- `''.join()` is the fastest, around 10x faster than concatenating strings\n",
    "- You should use `''.join` when you need to build a big string from a list of strings"
   ]
  },
  {
   "cell_type": "markdown",
   "metadata": {},
   "source": [
    "# Profiling Python Code\n",
    "\n",
    "You can profile an entire script by running it via `python -m cProfile` to get summary information about the whole thing:"
   ]
  },
  {
   "cell_type": "code",
   "execution_count": 10,
   "metadata": {},
   "outputs": [
    {
     "data": {
      "text/plain": [
       "'/home/rick446/src/arborian-classes/src'"
      ]
     },
     "execution_count": 10,
     "metadata": {},
     "output_type": "execute_result"
    }
   ],
   "source": [
    "pwd"
   ]
  },
  {
   "cell_type": "code",
   "execution_count": 11,
   "metadata": {},
   "outputs": [
    {
     "name": "stdout",
     "output_type": "stream",
     "text": [
      "Overwriting data/profiling/profiletest.py\n"
     ]
    }
   ],
   "source": [
    "%%file data/profiling/profiletest.py\n",
    "import re\n",
    "\n",
    "text = '''The quick brown fox jumps over the lazy dog'''\n",
    "for x in range(10_000):\n",
    "    re.search('fox', text)"
   ]
  },
  {
   "cell_type": "code",
   "execution_count": 12,
   "metadata": {
    "scrolled": true
   },
   "outputs": [
    {
     "name": "stdout",
     "output_type": "stream",
     "text": [
      "         40096 function calls (40095 primitive calls) in 0.009 seconds\r\n",
      "\r\n",
      "   Ordered by: standard name\r\n",
      "\r\n",
      "   ncalls  tottime  percall  cumtime  percall filename:lineno(function)\r\n",
      "        2    0.000    0.000    0.000    0.000 enum.py:283(__call__)\r\n",
      "        2    0.000    0.000    0.000    0.000 enum.py:562(__new__)\r\n",
      "        1    0.000    0.000    0.000    0.000 enum.py:833(__and__)\r\n",
      "        1    0.002    0.002    0.009    0.009 profiletest.py:1(<module>)\r\n",
      "    10000    0.002    0.000    0.007    0.000 re.py:198(search)\r\n",
      "    10000    0.002    0.000    0.003    0.000 re.py:289(_compile)\r\n",
      "        1    0.000    0.000    0.000    0.000 sre_compile.py:432(_generate_overlap_table)\r\n",
      "        1    0.000    0.000    0.000    0.000 sre_compile.py:453(_get_iscased)\r\n",
      "        1    0.000    0.000    0.000    0.000 sre_compile.py:461(_get_literal_prefix)\r\n",
      "        1    0.000    0.000    0.000    0.000 sre_compile.py:536(_compile_info)\r\n",
      "        2    0.000    0.000    0.000    0.000 sre_compile.py:595(isstring)\r\n",
      "        1    0.000    0.000    0.000    0.000 sre_compile.py:598(_code)\r\n",
      "        1    0.000    0.000    0.000    0.000 sre_compile.py:71(_compile)\r\n",
      "        1    0.000    0.000    0.000    0.000 sre_compile.py:759(compile)\r\n",
      "        1    0.000    0.000    0.000    0.000 sre_parse.py:111(__init__)\r\n",
      "        1    0.000    0.000    0.000    0.000 sre_parse.py:160(__len__)\r\n",
      "        3    0.000    0.000    0.000    0.000 sre_parse.py:164(__getitem__)\r\n",
      "        3    0.000    0.000    0.000    0.000 sre_parse.py:172(append)\r\n",
      "        1    0.000    0.000    0.000    0.000 sre_parse.py:174(getwidth)\r\n",
      "        1    0.000    0.000    0.000    0.000 sre_parse.py:224(__init__)\r\n",
      "        4    0.000    0.000    0.000    0.000 sre_parse.py:233(__next)\r\n",
      "        1    0.000    0.000    0.000    0.000 sre_parse.py:249(match)\r\n",
      "        3    0.000    0.000    0.000    0.000 sre_parse.py:254(get)\r\n",
      "        1    0.000    0.000    0.000    0.000 sre_parse.py:286(tell)\r\n",
      "        1    0.000    0.000    0.000    0.000 sre_parse.py:435(_parse_sub)\r\n",
      "        1    0.000    0.000    0.000    0.000 sre_parse.py:493(_parse)\r\n",
      "        1    0.000    0.000    0.000    0.000 sre_parse.py:76(__init__)\r\n",
      "        2    0.000    0.000    0.000    0.000 sre_parse.py:81(groups)\r\n",
      "        1    0.000    0.000    0.000    0.000 sre_parse.py:921(fix_flags)\r\n",
      "        1    0.000    0.000    0.000    0.000 sre_parse.py:937(parse)\r\n",
      "        1    0.000    0.000    0.000    0.000 {built-in method _sre.compile}\r\n",
      "        1    0.000    0.000    0.009    0.009 {built-in method builtins.exec}\r\n",
      "    10009    0.001    0.000    0.001    0.000 {built-in method builtins.isinstance}\r\n",
      "    13/12    0.000    0.000    0.000    0.000 {built-in method builtins.len}\r\n",
      "        3    0.000    0.000    0.000    0.000 {built-in method builtins.min}\r\n",
      "        3    0.000    0.000    0.000    0.000 {built-in method builtins.ord}\r\n",
      "       21    0.000    0.000    0.000    0.000 {method 'append' of 'list' objects}\r\n",
      "        1    0.000    0.000    0.000    0.000 {method 'disable' of '_lsprof.Profiler' objects}\r\n",
      "        2    0.000    0.000    0.000    0.000 {method 'extend' of 'list' objects}\r\n",
      "        1    0.000    0.000    0.000    0.000 {method 'items' of 'dict' objects}\r\n",
      "    10000    0.001    0.000    0.001    0.000 {method 'search' of 're.Pattern' objects}\r\n",
      "\r\n",
      "\r\n"
     ]
    }
   ],
   "source": [
    "!python -m cProfile data/profiling/profiletest.py"
   ]
  },
  {
   "cell_type": "code",
   "execution_count": 13,
   "metadata": {},
   "outputs": [
    {
     "name": "stdout",
     "output_type": "stream",
     "text": [
      "Usage: cProfile.py [-o output_file_path] [-s sort] [-m module | scriptfile] [arg] ...\r\n",
      "\r\n",
      "Options:\r\n",
      "  -h, --help            show this help message and exit\r\n",
      "  -o OUTFILE, --outfile=OUTFILE\r\n",
      "                        Save stats to <outfile>\r\n",
      "  -s SORT, --sort=SORT  Sort order when printing to stdout, based on\r\n",
      "                        pstats.Stats class\r\n",
      "  -m                    Profile a library module\r\n"
     ]
    }
   ],
   "source": [
    "!python -m cProfile --help"
   ]
  },
  {
   "cell_type": "code",
   "execution_count": 14,
   "metadata": {
    "scrolled": true
   },
   "outputs": [
    {
     "name": "stdout",
     "output_type": "stream",
     "text": [
      "         40096 function calls (40095 primitive calls) in 0.010 seconds\r\n",
      "\r\n",
      "   Ordered by: internal time\r\n",
      "\r\n",
      "   ncalls  tottime  percall  cumtime  percall filename:lineno(function)\r\n",
      "    10000    0.003    0.000    0.008    0.000 re.py:198(search)\r\n",
      "    10000    0.003    0.000    0.004    0.000 re.py:289(_compile)\r\n",
      "        1    0.002    0.002    0.010    0.010 profiletest.py:1(<module>)\r\n",
      "    10000    0.001    0.000    0.001    0.000 {method 'search' of 're.Pattern' objects}\r\n",
      "    10009    0.001    0.000    0.001    0.000 {built-in method builtins.isinstance}\r\n",
      "        1    0.000    0.000    0.000    0.000 sre_parse.py:493(_parse)\r\n",
      "        1    0.000    0.000    0.000    0.000 sre_compile.py:759(compile)\r\n",
      "        1    0.000    0.000    0.000    0.000 sre_compile.py:536(_compile_info)\r\n",
      "        1    0.000    0.000    0.000    0.000 sre_parse.py:937(parse)\r\n",
      "        3    0.000    0.000    0.000    0.000 sre_parse.py:172(append)\r\n",
      "        1    0.000    0.000    0.000    0.000 sre_parse.py:174(getwidth)\r\n",
      "        1    0.000    0.000    0.000    0.000 enum.py:833(__and__)\r\n",
      "        1    0.000    0.000    0.000    0.000 sre_parse.py:224(__init__)\r\n",
      "        4    0.000    0.000    0.000    0.000 sre_parse.py:233(__next)\r\n",
      "        1    0.000    0.000    0.000    0.000 sre_parse.py:435(_parse_sub)\r\n",
      "        1    0.000    0.000    0.010    0.010 {built-in method builtins.exec}\r\n",
      "       21    0.000    0.000    0.000    0.000 {method 'append' of 'list' objects}\r\n",
      "        1    0.000    0.000    0.000    0.000 sre_compile.py:432(_generate_overlap_table)\r\n",
      "        1    0.000    0.000    0.000    0.000 sre_compile.py:71(_compile)\r\n",
      "    13/12    0.000    0.000    0.000    0.000 {built-in method builtins.len}\r\n",
      "        1    0.000    0.000    0.000    0.000 sre_compile.py:461(_get_literal_prefix)\r\n",
      "        1    0.000    0.000    0.000    0.000 sre_compile.py:598(_code)\r\n",
      "        1    0.000    0.000    0.000    0.000 sre_parse.py:286(tell)\r\n",
      "        2    0.000    0.000    0.000    0.000 enum.py:283(__call__)\r\n",
      "        3    0.000    0.000    0.000    0.000 sre_parse.py:164(__getitem__)\r\n",
      "        3    0.000    0.000    0.000    0.000 sre_parse.py:254(get)\r\n",
      "        3    0.000    0.000    0.000    0.000 {built-in method builtins.min}\r\n",
      "        2    0.000    0.000    0.000    0.000 sre_compile.py:595(isstring)\r\n",
      "        1    0.000    0.000    0.000    0.000 sre_parse.py:76(__init__)\r\n",
      "        2    0.000    0.000    0.000    0.000 enum.py:562(__new__)\r\n",
      "        1    0.000    0.000    0.000    0.000 sre_parse.py:921(fix_flags)\r\n",
      "        1    0.000    0.000    0.000    0.000 {built-in method _sre.compile}\r\n",
      "        2    0.000    0.000    0.000    0.000 sre_parse.py:81(groups)\r\n",
      "        1    0.000    0.000    0.000    0.000 {method 'disable' of '_lsprof.Profiler' objects}\r\n",
      "        1    0.000    0.000    0.000    0.000 sre_parse.py:111(__init__)\r\n",
      "        1    0.000    0.000    0.000    0.000 sre_parse.py:160(__len__)\r\n",
      "        3    0.000    0.000    0.000    0.000 {built-in method builtins.ord}\r\n",
      "        2    0.000    0.000    0.000    0.000 {method 'extend' of 'list' objects}\r\n",
      "        1    0.000    0.000    0.000    0.000 sre_parse.py:249(match)\r\n",
      "        1    0.000    0.000    0.000    0.000 {method 'items' of 'dict' objects}\r\n",
      "        1    0.000    0.000    0.000    0.000 sre_compile.py:453(_get_iscased)\r\n",
      "\r\n",
      "\r\n"
     ]
    }
   ],
   "source": [
    "!python -m cProfile -s time data/profiling/profiletest.py"
   ]
  },
  {
   "cell_type": "code",
   "execution_count": 15,
   "metadata": {},
   "outputs": [
    {
     "name": "stdout",
     "output_type": "stream",
     "text": [
      "Overwriting data/profiling/profiletest.py\n"
     ]
    }
   ],
   "source": [
    "%%file data/profiling/profiletest.py\n",
    "import re\n",
    "\n",
    "text = '''The quick brown fox jumps over the lazy dog'''\n",
    "my_regex = re.compile('fox')\n",
    "for x in range(10_000):\n",
    "    my_regex.search(text)"
   ]
  },
  {
   "cell_type": "code",
   "execution_count": 16,
   "metadata": {
    "scrolled": true
   },
   "outputs": [
    {
     "name": "stdout",
     "output_type": "stream",
     "text": [
      "         10099 function calls (10098 primitive calls) in 0.002 seconds\r\n",
      "\r\n",
      "   Ordered by: internal time\r\n",
      "\r\n",
      "   ncalls  tottime  percall  cumtime  percall filename:lineno(function)\r\n",
      "        1    0.001    0.001    0.002    0.002 profiletest.py:1(<module>)\r\n",
      "    10000    0.001    0.000    0.001    0.000 {method 'search' of 're.Pattern' objects}\r\n",
      "        1    0.000    0.000    0.000    0.000 sre_parse.py:493(_parse)\r\n",
      "        1    0.000    0.000    0.000    0.000 re.py:289(_compile)\r\n",
      "        1    0.000    0.000    0.000    0.000 sre_compile.py:759(compile)\r\n",
      "        3    0.000    0.000    0.000    0.000 sre_parse.py:172(append)\r\n",
      "        1    0.000    0.000    0.000    0.000 sre_compile.py:536(_compile_info)\r\n",
      "        1    0.000    0.000    0.000    0.000 sre_parse.py:174(getwidth)\r\n",
      "        1    0.000    0.000    0.000    0.000 sre_parse.py:937(parse)\r\n",
      "        4    0.000    0.000    0.000    0.000 sre_parse.py:233(__next)\r\n",
      "        1    0.000    0.000    0.000    0.000 sre_parse.py:435(_parse_sub)\r\n",
      "       21    0.000    0.000    0.000    0.000 {method 'append' of 'list' objects}\r\n",
      "       10    0.000    0.000    0.000    0.000 {built-in method builtins.isinstance}\r\n",
      "        1    0.000    0.000    0.000    0.000 enum.py:833(__and__)\r\n",
      "        1    0.000    0.000    0.000    0.000 sre_compile.py:432(_generate_overlap_table)\r\n",
      "    13/12    0.000    0.000    0.000    0.000 {built-in method builtins.len}\r\n",
      "        1    0.000    0.000    0.000    0.000 sre_compile.py:71(_compile)\r\n",
      "        1    0.000    0.000    0.002    0.002 {built-in method builtins.exec}\r\n",
      "        1    0.000    0.000    0.000    0.000 sre_compile.py:461(_get_literal_prefix)\r\n",
      "        1    0.000    0.000    0.000    0.000 sre_compile.py:598(_code)\r\n",
      "        1    0.000    0.000    0.000    0.000 sre_parse.py:224(__init__)\r\n",
      "        2    0.000    0.000    0.000    0.000 enum.py:283(__call__)\r\n",
      "        1    0.000    0.000    0.000    0.000 sre_parse.py:286(tell)\r\n",
      "        3    0.000    0.000    0.000    0.000 sre_parse.py:254(get)\r\n",
      "        2    0.000    0.000    0.000    0.000 enum.py:562(__new__)\r\n",
      "        3    0.000    0.000    0.000    0.000 {built-in method builtins.min}\r\n",
      "        3    0.000    0.000    0.000    0.000 sre_parse.py:164(__getitem__)\r\n",
      "        1    0.000    0.000    0.000    0.000 sre_parse.py:921(fix_flags)\r\n",
      "        2    0.000    0.000    0.000    0.000 sre_compile.py:595(isstring)\r\n",
      "        1    0.000    0.000    0.000    0.000 {built-in method _sre.compile}\r\n",
      "        1    0.000    0.000    0.000    0.000 sre_parse.py:76(__init__)\r\n",
      "        2    0.000    0.000    0.000    0.000 sre_parse.py:81(groups)\r\n",
      "        1    0.000    0.000    0.000    0.000 sre_parse.py:160(__len__)\r\n",
      "        1    0.000    0.000    0.000    0.000 sre_parse.py:111(__init__)\r\n",
      "        1    0.000    0.000    0.000    0.000 re.py:250(compile)\r\n",
      "        3    0.000    0.000    0.000    0.000 {built-in method builtins.ord}\r\n",
      "        2    0.000    0.000    0.000    0.000 {method 'extend' of 'list' objects}\r\n",
      "        1    0.000    0.000    0.000    0.000 sre_parse.py:249(match)\r\n",
      "        1    0.000    0.000    0.000    0.000 {method 'disable' of '_lsprof.Profiler' objects}\r\n",
      "        1    0.000    0.000    0.000    0.000 sre_compile.py:453(_get_iscased)\r\n",
      "        1    0.000    0.000    0.000    0.000 {method 'items' of 'dict' objects}\r\n",
      "\r\n",
      "\r\n"
     ]
    }
   ],
   "source": [
    "!python -m cProfile -s time data/profiling/profiletest.py "
   ]
  },
  {
   "cell_type": "code",
   "execution_count": 17,
   "metadata": {},
   "outputs": [
    {
     "name": "stdout",
     "output_type": "stream",
     "text": [
      " "
     ]
    }
   ],
   "source": [
    "%run -p data/profiling/profiletest.py"
   ]
  },
  {
   "cell_type": "code",
   "execution_count": 18,
   "metadata": {},
   "outputs": [],
   "source": [
    "!python -m cProfile -s time -o profile-stats data/profiling/profiletest.py"
   ]
  },
  {
   "cell_type": "markdown",
   "metadata": {},
   "source": [
    "### Direct profiling\n",
    "\n",
    "We can also profile just a few Python statements or a function:"
   ]
  },
  {
   "cell_type": "code",
   "execution_count": 19,
   "metadata": {},
   "outputs": [],
   "source": [
    "import re\n",
    "import cProfile"
   ]
  },
  {
   "cell_type": "code",
   "execution_count": 20,
   "metadata": {
    "scrolled": true
   },
   "outputs": [
    {
     "name": "stdout",
     "output_type": "stream",
     "text": [
      "         214 function calls (207 primitive calls) in 0.000 seconds\n",
      "\n",
      "   Ordered by: internal time\n",
      "\n",
      "   ncalls  tottime  percall  cumtime  percall filename:lineno(function)\n",
      "        2    0.000    0.000    0.000    0.000 sre_parse.py:493(_parse)\n",
      "        1    0.000    0.000    0.000    0.000 {built-in method builtins.exec}\n",
      "        1    0.000    0.000    0.000    0.000 re.py:289(_compile)\n",
      "      3/1    0.000    0.000    0.000    0.000 sre_compile.py:71(_compile)\n",
      "        1    0.000    0.000    0.000    0.000 sre_compile.py:536(_compile_info)\n",
      "        1    0.000    0.000    0.000    0.000 sre_compile.py:759(compile)\n",
      "        1    0.000    0.000    0.000    0.000 sre_parse.py:937(parse)\n",
      "        1    0.000    0.000    0.000    0.000 sre_parse.py:435(_parse_sub)\n",
      "        1    0.000    0.000    0.000    0.000 sre_compile.py:276(_optimize_charset)\n",
      "      3/1    0.000    0.000    0.000    0.000 sre_parse.py:174(getwidth)\n",
      "       18    0.000    0.000    0.000    0.000 sre_parse.py:164(__getitem__)\n",
      "       48    0.000    0.000    0.000    0.000 {method 'append' of 'list' objects}\n",
      "        1    0.000    0.000    0.000    0.000 sre_parse.py:286(tell)\n",
      "        8    0.000    0.000    0.000    0.000 sre_parse.py:233(__next)\n",
      "        1    0.000    0.000    0.000    0.000 sre_parse.py:224(__init__)\n",
      "    29/26    0.000    0.000    0.000    0.000 {built-in method builtins.len}\n",
      "        1    0.000    0.000    0.000    0.000 sre_compile.py:492(_get_charset_prefix)\n",
      "        7    0.000    0.000    0.000    0.000 sre_parse.py:160(__len__)\n",
      "        7    0.000    0.000    0.000    0.000 sre_parse.py:172(append)\n",
      "        1    0.000    0.000    0.000    0.000 sre_compile.py:249(_compile_charset)\n",
      "       25    0.000    0.000    0.000    0.000 {built-in method builtins.isinstance}\n",
      "        1    0.000    0.000    0.000    0.000 enum.py:833(__and__)\n",
      "        1    0.000    0.000    0.000    0.000 sre_compile.py:598(_code)\n",
      "        6    0.000    0.000    0.000    0.000 sre_parse.py:254(get)\n",
      "        9    0.000    0.000    0.000    0.000 {built-in method builtins.min}\n",
      "        1    0.000    0.000    0.000    0.000 sre_parse.py:76(__init__)\n",
      "        2    0.000    0.000    0.000    0.000 enum.py:283(__call__)\n",
      "        5    0.000    0.000    0.000    0.000 {method 'find' of 'bytearray' objects}\n",
      "        2    0.000    0.000    0.000    0.000 enum.py:562(__new__)\n",
      "        1    0.000    0.000    0.000    0.000 sre_compile.py:461(_get_literal_prefix)\n",
      "        3    0.000    0.000    0.000    0.000 sre_parse.py:111(__init__)\n",
      "        1    0.000    0.000    0.000    0.000 {built-in method _sre.compile}\n",
      "        2    0.000    0.000    0.000    0.000 sre_compile.py:595(isstring)\n",
      "        1    0.000    0.000    0.000    0.000 sre_parse.py:921(fix_flags)\n",
      "        1    0.000    0.000    0.000    0.000 <string>:1(<module>)\n",
      "        2    0.000    0.000    0.000    0.000 sre_parse.py:249(match)\n",
      "        1    0.000    0.000    0.000    0.000 re.py:250(compile)\n",
      "        2    0.000    0.000    0.000    0.000 sre_parse.py:81(groups)\n",
      "        2    0.000    0.000    0.000    0.000 {built-in method builtins.max}\n",
      "        6    0.000    0.000    0.000    0.000 {built-in method builtins.ord}\n",
      "        2    0.000    0.000    0.000    0.000 sre_compile.py:453(_get_iscased)\n",
      "        1    0.000    0.000    0.000    0.000 {method 'items' of 'dict' objects}\n",
      "        1    0.000    0.000    0.000    0.000 {method 'disable' of '_lsprof.Profiler' objects}\n",
      "\n",
      "\n"
     ]
    }
   ],
   "source": [
    "cProfile.run('re.compile(\"foo|bar\")', sort='time')"
   ]
  },
  {
   "cell_type": "markdown",
   "metadata": {},
   "source": [
    "We can also save the statistics to a file for analysis later:"
   ]
  },
  {
   "cell_type": "code",
   "execution_count": 21,
   "metadata": {},
   "outputs": [],
   "source": [
    "cProfile.run('re.compile(\"foo|bar\")', 're-stats')"
   ]
  },
  {
   "cell_type": "markdown",
   "metadata": {},
   "source": [
    "For analysis, we use the `pstats` module:"
   ]
  },
  {
   "cell_type": "code",
   "execution_count": 22,
   "metadata": {},
   "outputs": [],
   "source": [
    "import pstats"
   ]
  },
  {
   "cell_type": "code",
   "execution_count": 23,
   "metadata": {},
   "outputs": [],
   "source": [
    "p = pstats.Stats('profile-stats')"
   ]
  },
  {
   "cell_type": "code",
   "execution_count": 24,
   "metadata": {
    "scrolled": true
   },
   "outputs": [
    {
     "name": "stdout",
     "output_type": "stream",
     "text": [
      "Tue Jul 13 17:21:15 2021    profile-stats\n",
      "\n",
      "         10099 function calls (10098 primitive calls) in 0.002 seconds\n",
      "\n",
      "   Random listing order was used\n",
      "\n",
      "   ncalls  tottime  percall  cumtime  percall filename:lineno(function)\n",
      "       21    0.000    0.000    0.000    0.000 {method 'append' of 'list' objects}\n",
      "        2    0.000    0.000    0.000    0.000 {method 'extend' of 'list' objects}\n",
      "        1    0.000    0.000    0.000    0.000 {method 'items' of 'dict' objects}\n",
      "        1    0.000    0.000    0.002    0.002 {built-in method builtins.exec}\n",
      "       10    0.000    0.000    0.000    0.000 {built-in method builtins.isinstance}\n",
      "    13/12    0.000    0.000    0.000    0.000 {built-in method builtins.len}\n",
      "        3    0.000    0.000    0.000    0.000 {built-in method builtins.min}\n",
      "        3    0.000    0.000    0.000    0.000 {built-in method builtins.ord}\n",
      "        1    0.000    0.000    0.000    0.000 {built-in method _sre.compile}\n",
      "    10000    0.001    0.000    0.001    0.000 {method 'search' of 're.Pattern' objects}\n",
      "        1    0.001    0.001    0.002    0.002 data/profiling/profiletest.py:1(<module>)\n",
      "        1    0.000    0.000    0.000    0.000 /usr/lib/python3.8/sre_compile.py:759(compile)\n",
      "        1    0.000    0.000    0.000    0.000 /usr/lib/python3.8/sre_parse.py:76(__init__)\n",
      "        2    0.000    0.000    0.000    0.000 /usr/lib/python3.8/sre_parse.py:81(groups)\n",
      "        1    0.000    0.000    0.000    0.000 /usr/lib/python3.8/sre_parse.py:111(__init__)\n",
      "        1    0.000    0.000    0.000    0.000 /usr/lib/python3.8/sre_parse.py:160(__len__)\n",
      "        3    0.000    0.000    0.000    0.000 /usr/lib/python3.8/sre_parse.py:164(__getitem__)\n",
      "        3    0.000    0.000    0.000    0.000 /usr/lib/python3.8/sre_parse.py:172(append)\n",
      "        1    0.000    0.000    0.000    0.000 /usr/lib/python3.8/sre_parse.py:174(getwidth)\n",
      "        1    0.000    0.000    0.000    0.000 /usr/lib/python3.8/sre_parse.py:224(__init__)\n",
      "        4    0.000    0.000    0.000    0.000 /usr/lib/python3.8/sre_parse.py:233(__next)\n",
      "        1    0.000    0.000    0.000    0.000 /usr/lib/python3.8/sre_parse.py:249(match)\n",
      "        3    0.000    0.000    0.000    0.000 /usr/lib/python3.8/sre_parse.py:254(get)\n",
      "        1    0.000    0.000    0.000    0.000 /usr/lib/python3.8/sre_parse.py:286(tell)\n",
      "        1    0.000    0.000    0.000    0.000 /usr/lib/python3.8/sre_parse.py:435(_parse_sub)\n",
      "        1    0.000    0.000    0.000    0.000 /usr/lib/python3.8/sre_parse.py:493(_parse)\n",
      "        1    0.000    0.000    0.000    0.000 /usr/lib/python3.8/sre_parse.py:921(fix_flags)\n",
      "        1    0.000    0.000    0.000    0.000 /usr/lib/python3.8/sre_parse.py:937(parse)\n",
      "        1    0.000    0.000    0.000    0.000 {method 'disable' of '_lsprof.Profiler' objects}\n",
      "        1    0.000    0.000    0.000    0.000 /usr/lib/python3.8/re.py:250(compile)\n",
      "        1    0.000    0.000    0.000    0.000 /usr/lib/python3.8/re.py:289(_compile)\n",
      "        2    0.000    0.000    0.000    0.000 /usr/lib/python3.8/enum.py:283(__call__)\n",
      "        2    0.000    0.000    0.000    0.000 /usr/lib/python3.8/enum.py:562(__new__)\n",
      "        1    0.000    0.000    0.000    0.000 /usr/lib/python3.8/enum.py:833(__and__)\n",
      "        1    0.000    0.000    0.000    0.000 /usr/lib/python3.8/sre_compile.py:71(_compile)\n",
      "        1    0.000    0.000    0.000    0.000 /usr/lib/python3.8/sre_compile.py:432(_generate_overlap_table)\n",
      "        1    0.000    0.000    0.000    0.000 /usr/lib/python3.8/sre_compile.py:453(_get_iscased)\n",
      "        1    0.000    0.000    0.000    0.000 /usr/lib/python3.8/sre_compile.py:461(_get_literal_prefix)\n",
      "        1    0.000    0.000    0.000    0.000 /usr/lib/python3.8/sre_compile.py:536(_compile_info)\n",
      "        2    0.000    0.000    0.000    0.000 /usr/lib/python3.8/sre_compile.py:595(isstring)\n",
      "        1    0.000    0.000    0.000    0.000 /usr/lib/python3.8/sre_compile.py:598(_code)\n",
      "\n",
      "\n"
     ]
    },
    {
     "data": {
      "text/plain": [
       "<pstats.Stats at 0x7f2db27d8fa0>"
      ]
     },
     "execution_count": 24,
     "metadata": {},
     "output_type": "execute_result"
    }
   ],
   "source": [
    "p.print_stats()"
   ]
  },
  {
   "cell_type": "code",
   "execution_count": 25,
   "metadata": {
    "scrolled": true
   },
   "outputs": [
    {
     "name": "stdout",
     "output_type": "stream",
     "text": [
      "Tue Jul 13 17:21:15 2021    profile-stats\n",
      "\n",
      "         10099 function calls (10098 primitive calls) in 0.002 seconds\n",
      "\n",
      "   Random listing order was used\n",
      "\n",
      "   ncalls  tottime  percall  cumtime  percall filename:lineno(function)\n",
      "       21    0.000    0.000    0.000    0.000 {method 'append' of 'list' objects}\n",
      "        2    0.000    0.000    0.000    0.000 {method 'extend' of 'list' objects}\n",
      "        1    0.000    0.000    0.000    0.000 {method 'items' of 'dict' objects}\n",
      "        1    0.000    0.000    0.002    0.002 {built-in method builtins.exec}\n",
      "       10    0.000    0.000    0.000    0.000 {built-in method builtins.isinstance}\n",
      "    13/12    0.000    0.000    0.000    0.000 {built-in method builtins.len}\n",
      "        3    0.000    0.000    0.000    0.000 {built-in method builtins.min}\n",
      "        3    0.000    0.000    0.000    0.000 {built-in method builtins.ord}\n",
      "        1    0.000    0.000    0.000    0.000 {built-in method _sre.compile}\n",
      "    10000    0.001    0.000    0.001    0.000 {method 'search' of 're.Pattern' objects}\n",
      "        1    0.001    0.001    0.002    0.002 profiletest.py:1(<module>)\n",
      "        1    0.000    0.000    0.000    0.000 sre_compile.py:759(compile)\n",
      "        1    0.000    0.000    0.000    0.000 sre_parse.py:76(__init__)\n",
      "        2    0.000    0.000    0.000    0.000 sre_parse.py:81(groups)\n",
      "        1    0.000    0.000    0.000    0.000 sre_parse.py:111(__init__)\n",
      "        1    0.000    0.000    0.000    0.000 sre_parse.py:160(__len__)\n",
      "        3    0.000    0.000    0.000    0.000 sre_parse.py:164(__getitem__)\n",
      "        3    0.000    0.000    0.000    0.000 sre_parse.py:172(append)\n",
      "        1    0.000    0.000    0.000    0.000 sre_parse.py:174(getwidth)\n",
      "        1    0.000    0.000    0.000    0.000 sre_parse.py:224(__init__)\n",
      "        4    0.000    0.000    0.000    0.000 sre_parse.py:233(__next)\n",
      "        1    0.000    0.000    0.000    0.000 sre_parse.py:249(match)\n",
      "        3    0.000    0.000    0.000    0.000 sre_parse.py:254(get)\n",
      "        1    0.000    0.000    0.000    0.000 sre_parse.py:286(tell)\n",
      "        1    0.000    0.000    0.000    0.000 sre_parse.py:435(_parse_sub)\n",
      "        1    0.000    0.000    0.000    0.000 sre_parse.py:493(_parse)\n",
      "        1    0.000    0.000    0.000    0.000 sre_parse.py:921(fix_flags)\n",
      "        1    0.000    0.000    0.000    0.000 sre_parse.py:937(parse)\n",
      "        1    0.000    0.000    0.000    0.000 {method 'disable' of '_lsprof.Profiler' objects}\n",
      "        1    0.000    0.000    0.000    0.000 re.py:250(compile)\n",
      "        1    0.000    0.000    0.000    0.000 re.py:289(_compile)\n",
      "        2    0.000    0.000    0.000    0.000 enum.py:283(__call__)\n",
      "        2    0.000    0.000    0.000    0.000 enum.py:562(__new__)\n",
      "        1    0.000    0.000    0.000    0.000 enum.py:833(__and__)\n",
      "        1    0.000    0.000    0.000    0.000 sre_compile.py:71(_compile)\n",
      "        1    0.000    0.000    0.000    0.000 sre_compile.py:432(_generate_overlap_table)\n",
      "        1    0.000    0.000    0.000    0.000 sre_compile.py:453(_get_iscased)\n",
      "        1    0.000    0.000    0.000    0.000 sre_compile.py:461(_get_literal_prefix)\n",
      "        1    0.000    0.000    0.000    0.000 sre_compile.py:536(_compile_info)\n",
      "        2    0.000    0.000    0.000    0.000 sre_compile.py:595(isstring)\n",
      "        1    0.000    0.000    0.000    0.000 sre_compile.py:598(_code)\n",
      "\n",
      "\n"
     ]
    },
    {
     "data": {
      "text/plain": [
       "<pstats.Stats at 0x7f2db27d8fa0>"
      ]
     },
     "execution_count": 25,
     "metadata": {},
     "output_type": "execute_result"
    }
   ],
   "source": [
    "p.strip_dirs()\n",
    "p.print_stats()"
   ]
  },
  {
   "cell_type": "code",
   "execution_count": 26,
   "metadata": {},
   "outputs": [
    {
     "data": {
      "text/plain": [
       "<pstats.Stats at 0x7f2db27d8fa0>"
      ]
     },
     "execution_count": 26,
     "metadata": {},
     "output_type": "execute_result"
    }
   ],
   "source": [
    "p.sort_stats('time')"
   ]
  },
  {
   "cell_type": "code",
   "execution_count": 27,
   "metadata": {},
   "outputs": [
    {
     "name": "stdout",
     "output_type": "stream",
     "text": [
      "Tue Jul 13 17:21:15 2021    profile-stats\n",
      "\n",
      "         10099 function calls (10098 primitive calls) in 0.002 seconds\n",
      "\n",
      "   Ordered by: internal time\n",
      "   List reduced from 41 to 10 due to restriction <10>\n",
      "\n",
      "   ncalls  tottime  percall  cumtime  percall filename:lineno(function)\n",
      "        1    0.001    0.001    0.002    0.002 profiletest.py:1(<module>)\n",
      "    10000    0.001    0.000    0.001    0.000 {method 'search' of 're.Pattern' objects}\n",
      "        1    0.000    0.000    0.000    0.000 sre_parse.py:493(_parse)\n",
      "        1    0.000    0.000    0.000    0.000 sre_compile.py:536(_compile_info)\n",
      "        1    0.000    0.000    0.000    0.000 re.py:289(_compile)\n",
      "        1    0.000    0.000    0.000    0.000 sre_compile.py:759(compile)\n",
      "        1    0.000    0.000    0.002    0.002 {built-in method builtins.exec}\n",
      "        3    0.000    0.000    0.000    0.000 sre_parse.py:172(append)\n",
      "        1    0.000    0.000    0.000    0.000 sre_parse.py:174(getwidth)\n",
      "        1    0.000    0.000    0.000    0.000 sre_parse.py:435(_parse_sub)\n",
      "\n",
      "\n"
     ]
    },
    {
     "data": {
      "text/plain": [
       "<pstats.Stats at 0x7f2db27d8fa0>"
      ]
     },
     "execution_count": 27,
     "metadata": {},
     "output_type": "execute_result"
    }
   ],
   "source": [
    "p.print_stats(10)"
   ]
  },
  {
   "cell_type": "markdown",
   "metadata": {},
   "source": [
    "Jupyter / IPython also has a magic function to help us here, as well:"
   ]
  },
  {
   "cell_type": "code",
   "execution_count": 28,
   "metadata": {},
   "outputs": [
    {
     "name": "stdout",
     "output_type": "stream",
     "text": [
      " "
     ]
    }
   ],
   "source": [
    "%prun for x in range(10000): re.compile('foo|bar')"
   ]
  },
  {
   "cell_type": "code",
   "execution_count": 29,
   "metadata": {},
   "outputs": [
    {
     "name": "stdout",
     "output_type": "stream",
     "text": [
      " "
     ]
    }
   ],
   "source": [
    "%%prun \n",
    "for x in range(10000): \n",
    "    re.compile('foo|bar')"
   ]
  },
  {
   "cell_type": "markdown",
   "metadata": {},
   "source": [
    "# Instrumentation "
   ]
  },
  {
   "cell_type": "code",
   "execution_count": 30,
   "metadata": {},
   "outputs": [],
   "source": [
    "p = cProfile.Profile()"
   ]
  },
  {
   "cell_type": "code",
   "execution_count": 31,
   "metadata": {},
   "outputs": [],
   "source": [
    "p.enable()\n",
    "for x in range(10000):\n",
    "    re.compile('re|foo')\n",
    "    lst0 = range(100)\n",
    "    lst1 = list(range(100))\n",
    "p.disable()"
   ]
  },
  {
   "cell_type": "code",
   "execution_count": 32,
   "metadata": {
    "scrolled": true
   },
   "outputs": [
    {
     "name": "stdout",
     "output_type": "stream",
     "text": [
      "         30242 function calls (30235 primitive calls) in 0.021 seconds\n",
      "\n",
      "   Ordered by: internal time\n",
      "\n",
      "   ncalls  tottime  percall  cumtime  percall filename:lineno(function)\n",
      "        1    0.014    0.014    0.020    0.020 <ipython-input-31-97b44869a5b7>:2(<module>)\n",
      "    10000    0.003    0.000    0.004    0.000 re.py:289(_compile)\n",
      "    10000    0.002    0.000    0.006    0.000 re.py:250(compile)\n",
      "    10022    0.001    0.000    0.001    0.000 {built-in method builtins.isinstance}\n",
      "        2    0.000    0.000    0.000    0.000 {built-in method builtins.compile}\n",
      "        2    0.000    0.000    0.021    0.010 interactiveshell.py:3376(run_code)\n",
      "        1    0.000    0.000    0.000    0.000 <ipython-input-31-97b44869a5b7>:6(<module>)\n",
      "      3/1    0.000    0.000    0.000    0.000 sre_parse.py:174(getwidth)\n",
      "        2    0.000    0.000    0.000    0.000 sre_parse.py:493(_parse)\n",
      "        1    0.000    0.000    0.000    0.000 sre_parse.py:921(fix_flags)\n",
      "      3/1    0.000    0.000    0.000    0.000 sre_compile.py:71(_compile)\n",
      "        1    0.000    0.000    0.000    0.000 sre_parse.py:435(_parse_sub)\n",
      "        1    0.000    0.000    0.000    0.000 sre_compile.py:536(_compile_info)\n",
      "        2    0.000    0.000    0.000    0.000 contextlib.py:117(__exit__)\n",
      "        1    0.000    0.000    0.000    0.000 sre_compile.py:759(compile)\n",
      "        1    0.000    0.000    0.000    0.000 sre_compile.py:276(_optimize_charset)\n",
      "        2    0.000    0.000    0.000    0.000 codeop.py:140(__call__)\n",
      "        2    0.000    0.000    0.000    0.000 contextlib.py:82(__init__)\n",
      "        1    0.000    0.000    0.000    0.000 sre_parse.py:937(parse)\n",
      "       16    0.000    0.000    0.000    0.000 sre_parse.py:164(__getitem__)\n",
      "        2    0.000    0.000    0.000    0.000 hooks.py:103(__call__)\n",
      "    29/26    0.000    0.000    0.000    0.000 {built-in method builtins.len}\n",
      "        2    0.000    0.000    0.020    0.010 {built-in method builtins.exec}\n",
      "        4    0.000    0.000    0.000    0.000 compilerop.py:138(extra_flags)\n",
      "        7    0.000    0.000    0.000    0.000 sre_parse.py:233(__next)\n",
      "        1    0.000    0.000    0.000    0.000 enum.py:833(__and__)\n",
      "        6    0.000    0.000    0.000    0.000 sre_parse.py:172(append)\n",
      "        2    0.000    0.000    0.000    0.000 sre_compile.py:595(isstring)\n",
      "       45    0.000    0.000    0.000    0.000 {method 'append' of 'list' objects}\n",
      "        1    0.000    0.000    0.000    0.000 sre_parse.py:224(__init__)\n",
      "        1    0.000    0.000    0.000    0.000 sre_compile.py:598(_code)\n",
      "        1    0.000    0.000    0.000    0.000 sre_compile.py:492(_get_charset_prefix)\n",
      "        7    0.000    0.000    0.000    0.000 sre_parse.py:160(__len__)\n",
      "        2    0.000    0.000    0.000    0.000 contextlib.py:238(helper)\n",
      "        2    0.000    0.000    0.000    0.000 contextlib.py:108(__enter__)\n",
      "        2    0.000    0.000    0.000    0.000 traitlets.py:564(__get__)\n",
      "        2    0.000    0.000    0.000    0.000 traitlets.py:533(get)\n",
      "        2    0.000    0.000    0.000    0.000 enum.py:283(__call__)\n",
      "        9    0.000    0.000    0.000    0.000 {built-in method builtins.min}\n",
      "        4    0.000    0.000    0.000    0.000 {built-in method builtins.next}\n",
      "        2    0.000    0.000    0.000    0.000 interactiveshell.py:3314(compare)\n",
      "        2    0.000    0.000    0.000    0.000 enum.py:562(__new__)\n",
      "        5    0.000    0.000    0.000    0.000 sre_parse.py:254(get)\n",
      "        5    0.000    0.000    0.000    0.000 {method 'find' of 'bytearray' objects}\n",
      "        1    0.000    0.000    0.000    0.000 sre_compile.py:461(_get_literal_prefix)\n",
      "        3    0.000    0.000    0.000    0.000 sre_parse.py:111(__init__)\n",
      "        1    0.000    0.000    0.000    0.000 sre_parse.py:286(tell)\n",
      "        4    0.000    0.000    0.000    0.000 {built-in method builtins.getattr}\n",
      "        2    0.000    0.000    0.000    0.000 interactiveshell.py:1276(user_global_ns)\n",
      "        2    0.000    0.000    0.000    0.000 ipstruct.py:125(__getattr__)\n",
      "        1    0.000    0.000    0.000    0.000 sre_compile.py:249(_compile_charset)\n",
      "        1    0.000    0.000    0.000    0.000 {built-in method _sre.compile}\n",
      "        1    0.000    0.000    0.000    0.000 sre_parse.py:76(__init__)\n",
      "        2    0.000    0.000    0.000    0.000 sre_parse.py:249(match)\n",
      "        5    0.000    0.000    0.000    0.000 {built-in method builtins.ord}\n",
      "        2    0.000    0.000    0.000    0.000 hooks.py:168(pre_run_code_hook)\n",
      "        2    0.000    0.000    0.000    0.000 sre_compile.py:453(_get_iscased)\n",
      "        2    0.000    0.000    0.000    0.000 sre_parse.py:81(groups)\n",
      "        2    0.000    0.000    0.000    0.000 {built-in method builtins.max}\n",
      "        1    0.000    0.000    0.000    0.000 {method 'disable' of '_lsprof.Profiler' objects}\n",
      "        1    0.000    0.000    0.000    0.000 {method 'items' of 'dict' objects}\n",
      "\n",
      "\n"
     ]
    }
   ],
   "source": [
    "p.print_stats(sort='time')"
   ]
  },
  {
   "cell_type": "code",
   "execution_count": 33,
   "metadata": {
    "scrolled": true
   },
   "outputs": [
    {
     "name": "stdout",
     "output_type": "stream",
     "text": [
      "         30247 function calls (30240 primitive calls) in 0.021 seconds\n",
      "\n",
      "   Ordered by: internal time\n",
      "\n",
      "   ncalls  tottime  percall  cumtime  percall filename:lineno(function)\n",
      "        1    0.014    0.014    0.020    0.020 <ipython-input-31-97b44869a5b7>:2(<module>)\n",
      "    10001    0.003    0.000    0.004    0.000 re.py:289(_compile)\n",
      "    10001    0.002    0.000    0.006    0.000 re.py:250(compile)\n",
      "    10023    0.001    0.000    0.001    0.000 {built-in method builtins.isinstance}\n",
      "        2    0.000    0.000    0.000    0.000 {built-in method builtins.compile}\n",
      "        2    0.000    0.000    0.021    0.010 interactiveshell.py:3376(run_code)\n",
      "        1    0.000    0.000    0.000    0.000 <ipython-input-31-97b44869a5b7>:6(<module>)\n",
      "      3/1    0.000    0.000    0.000    0.000 sre_parse.py:174(getwidth)\n",
      "        2    0.000    0.000    0.000    0.000 sre_parse.py:493(_parse)\n",
      "        1    0.000    0.000    0.000    0.000 sre_parse.py:921(fix_flags)\n",
      "      3/1    0.000    0.000    0.000    0.000 sre_compile.py:71(_compile)\n",
      "        1    0.000    0.000    0.000    0.000 sre_parse.py:435(_parse_sub)\n",
      "        1    0.000    0.000    0.000    0.000 sre_compile.py:536(_compile_info)\n",
      "        2    0.000    0.000    0.000    0.000 contextlib.py:117(__exit__)\n",
      "        1    0.000    0.000    0.000    0.000 sre_compile.py:759(compile)\n",
      "        1    0.000    0.000    0.000    0.000 sre_compile.py:276(_optimize_charset)\n",
      "        2    0.000    0.000    0.000    0.000 codeop.py:140(__call__)\n",
      "        2    0.000    0.000    0.000    0.000 contextlib.py:82(__init__)\n",
      "        1    0.000    0.000    0.000    0.000 sre_parse.py:937(parse)\n",
      "       16    0.000    0.000    0.000    0.000 sre_parse.py:164(__getitem__)\n",
      "        2    0.000    0.000    0.000    0.000 hooks.py:103(__call__)\n",
      "    29/26    0.000    0.000    0.000    0.000 {built-in method builtins.len}\n",
      "        2    0.000    0.000    0.020    0.010 {built-in method builtins.exec}\n",
      "        4    0.000    0.000    0.000    0.000 compilerop.py:138(extra_flags)\n",
      "        7    0.000    0.000    0.000    0.000 sre_parse.py:233(__next)\n",
      "        1    0.000    0.000    0.000    0.000 enum.py:833(__and__)\n",
      "        6    0.000    0.000    0.000    0.000 sre_parse.py:172(append)\n",
      "        2    0.000    0.000    0.000    0.000 sre_compile.py:595(isstring)\n",
      "       45    0.000    0.000    0.000    0.000 {method 'append' of 'list' objects}\n",
      "        1    0.000    0.000    0.000    0.000 sre_parse.py:224(__init__)\n",
      "        1    0.000    0.000    0.000    0.000 sre_compile.py:598(_code)\n",
      "        1    0.000    0.000    0.000    0.000 sre_compile.py:492(_get_charset_prefix)\n",
      "        7    0.000    0.000    0.000    0.000 sre_parse.py:160(__len__)\n",
      "        2    0.000    0.000    0.000    0.000 contextlib.py:238(helper)\n",
      "        2    0.000    0.000    0.000    0.000 contextlib.py:108(__enter__)\n",
      "        2    0.000    0.000    0.000    0.000 traitlets.py:564(__get__)\n",
      "        2    0.000    0.000    0.000    0.000 traitlets.py:533(get)\n",
      "        2    0.000    0.000    0.000    0.000 enum.py:283(__call__)\n",
      "        9    0.000    0.000    0.000    0.000 {built-in method builtins.min}\n",
      "        4    0.000    0.000    0.000    0.000 {built-in method builtins.next}\n",
      "        2    0.000    0.000    0.000    0.000 interactiveshell.py:3314(compare)\n",
      "        2    0.000    0.000    0.000    0.000 enum.py:562(__new__)\n",
      "        5    0.000    0.000    0.000    0.000 sre_parse.py:254(get)\n",
      "        5    0.000    0.000    0.000    0.000 {method 'find' of 'bytearray' objects}\n",
      "        1    0.000    0.000    0.000    0.000 sre_compile.py:461(_get_literal_prefix)\n",
      "        3    0.000    0.000    0.000    0.000 sre_parse.py:111(__init__)\n",
      "        1    0.000    0.000    0.000    0.000 sre_parse.py:286(tell)\n",
      "        4    0.000    0.000    0.000    0.000 {built-in method builtins.getattr}\n",
      "        2    0.000    0.000    0.000    0.000 interactiveshell.py:1276(user_global_ns)\n",
      "        2    0.000    0.000    0.000    0.000 ipstruct.py:125(__getattr__)\n",
      "        1    0.000    0.000    0.000    0.000 sre_compile.py:249(_compile_charset)\n",
      "        1    0.000    0.000    0.000    0.000 {built-in method _sre.compile}\n",
      "        1    0.000    0.000    0.000    0.000 cProfile.py:133(__exit__)\n",
      "        1    0.000    0.000    0.000    0.000 sre_parse.py:76(__init__)\n",
      "        2    0.000    0.000    0.000    0.000 sre_parse.py:249(match)\n",
      "        5    0.000    0.000    0.000    0.000 {built-in method builtins.ord}\n",
      "        2    0.000    0.000    0.000    0.000 {method 'disable' of '_lsprof.Profiler' objects}\n",
      "        2    0.000    0.000    0.000    0.000 hooks.py:168(pre_run_code_hook)\n",
      "        2    0.000    0.000    0.000    0.000 sre_compile.py:453(_get_iscased)\n",
      "        2    0.000    0.000    0.000    0.000 sre_parse.py:81(groups)\n",
      "        2    0.000    0.000    0.000    0.000 {built-in method builtins.max}\n",
      "        1    0.000    0.000    0.000    0.000 {method 'items' of 'dict' objects}\n",
      "\n",
      "\n"
     ]
    }
   ],
   "source": [
    "with p:\n",
    "    re.compile('re|foo')\n",
    "    lst0 = range(100)\n",
    "    lst1 = list(range(100))\n",
    "p.print_stats(sort='time')"
   ]
  },
  {
   "cell_type": "markdown",
   "metadata": {},
   "source": [
    "(Profilers are already context managers in Python 3.8)"
   ]
  },
  {
   "cell_type": "code",
   "execution_count": 34,
   "metadata": {},
   "outputs": [],
   "source": [
    "from contextlib import contextmanager\n",
    "\n",
    "@contextmanager\n",
    "def profiler(p):\n",
    "    p.enable()\n",
    "    try:\n",
    "        yield p\n",
    "    finally:\n",
    "        p.disable()"
   ]
  },
  {
   "cell_type": "code",
   "execution_count": 35,
   "metadata": {},
   "outputs": [],
   "source": [
    "with profiler(p):\n",
    "    for x in range(10000):\n",
    "        re.compile('re|foo')\n",
    "        lst0 = range(100)\n",
    "        lst1 = list(range(100))"
   ]
  },
  {
   "cell_type": "code",
   "execution_count": 36,
   "metadata": {
    "scrolled": true
   },
   "outputs": [
    {
     "name": "stdout",
     "output_type": "stream",
     "text": [
      "         60251 function calls (60244 primitive calls) in 0.027 seconds\n",
      "\n",
      "   Ordered by: internal time\n",
      "\n",
      "   ncalls  tottime  percall  cumtime  percall filename:lineno(function)\n",
      "        1    0.014    0.014    0.020    0.020 <ipython-input-31-97b44869a5b7>:2(<module>)\n",
      "    20001    0.006    0.000    0.009    0.000 re.py:289(_compile)\n",
      "    20001    0.004    0.000    0.013    0.000 re.py:250(compile)\n",
      "    20023    0.003    0.000    0.003    0.000 {built-in method builtins.isinstance}\n",
      "        2    0.000    0.000    0.000    0.000 {built-in method builtins.compile}\n",
      "        2    0.000    0.000    0.021    0.010 interactiveshell.py:3376(run_code)\n",
      "        1    0.000    0.000    0.000    0.000 <ipython-input-31-97b44869a5b7>:6(<module>)\n",
      "      3/1    0.000    0.000    0.000    0.000 sre_parse.py:174(getwidth)\n",
      "        2    0.000    0.000    0.000    0.000 sre_parse.py:493(_parse)\n",
      "        1    0.000    0.000    0.000    0.000 sre_parse.py:921(fix_flags)\n",
      "        3    0.000    0.000    0.000    0.000 contextlib.py:117(__exit__)\n",
      "      3/1    0.000    0.000    0.000    0.000 sre_compile.py:71(_compile)\n",
      "        1    0.000    0.000    0.000    0.000 sre_parse.py:435(_parse_sub)\n",
      "        1    0.000    0.000    0.000    0.000 sre_compile.py:536(_compile_info)\n",
      "        1    0.000    0.000    0.000    0.000 sre_compile.py:759(compile)\n",
      "        1    0.000    0.000    0.000    0.000 sre_compile.py:276(_optimize_charset)\n",
      "        2    0.000    0.000    0.000    0.000 codeop.py:140(__call__)\n",
      "        2    0.000    0.000    0.000    0.000 contextlib.py:82(__init__)\n",
      "        1    0.000    0.000    0.000    0.000 sre_parse.py:937(parse)\n",
      "       16    0.000    0.000    0.000    0.000 sre_parse.py:164(__getitem__)\n",
      "        2    0.000    0.000    0.000    0.000 hooks.py:103(__call__)\n",
      "    29/26    0.000    0.000    0.000    0.000 {built-in method builtins.len}\n",
      "        2    0.000    0.000    0.020    0.010 {built-in method builtins.exec}\n",
      "        4    0.000    0.000    0.000    0.000 compilerop.py:138(extra_flags)\n",
      "        5    0.000    0.000    0.000    0.000 {built-in method builtins.next}\n",
      "        7    0.000    0.000    0.000    0.000 sre_parse.py:233(__next)\n",
      "        1    0.000    0.000    0.000    0.000 enum.py:833(__and__)\n",
      "        6    0.000    0.000    0.000    0.000 sre_parse.py:172(append)\n",
      "        2    0.000    0.000    0.000    0.000 sre_compile.py:595(isstring)\n",
      "       45    0.000    0.000    0.000    0.000 {method 'append' of 'list' objects}\n",
      "        1    0.000    0.000    0.000    0.000 sre_parse.py:224(__init__)\n",
      "        1    0.000    0.000    0.000    0.000 sre_compile.py:598(_code)\n",
      "        1    0.000    0.000    0.000    0.000 <ipython-input-34-895d91f6eefa>:3(profiler)\n",
      "        1    0.000    0.000    0.000    0.000 sre_compile.py:492(_get_charset_prefix)\n",
      "        7    0.000    0.000    0.000    0.000 sre_parse.py:160(__len__)\n",
      "        2    0.000    0.000    0.000    0.000 contextlib.py:238(helper)\n",
      "        2    0.000    0.000    0.000    0.000 contextlib.py:108(__enter__)\n",
      "        2    0.000    0.000    0.000    0.000 traitlets.py:564(__get__)\n",
      "        2    0.000    0.000    0.000    0.000 traitlets.py:533(get)\n",
      "        2    0.000    0.000    0.000    0.000 enum.py:283(__call__)\n",
      "        9    0.000    0.000    0.000    0.000 {built-in method builtins.min}\n",
      "        2    0.000    0.000    0.000    0.000 interactiveshell.py:3314(compare)\n",
      "        2    0.000    0.000    0.000    0.000 enum.py:562(__new__)\n",
      "        5    0.000    0.000    0.000    0.000 sre_parse.py:254(get)\n",
      "        5    0.000    0.000    0.000    0.000 {method 'find' of 'bytearray' objects}\n",
      "        1    0.000    0.000    0.000    0.000 sre_compile.py:461(_get_literal_prefix)\n",
      "        3    0.000    0.000    0.000    0.000 sre_parse.py:111(__init__)\n",
      "        1    0.000    0.000    0.000    0.000 sre_parse.py:286(tell)\n",
      "        4    0.000    0.000    0.000    0.000 {built-in method builtins.getattr}\n",
      "        2    0.000    0.000    0.000    0.000 interactiveshell.py:1276(user_global_ns)\n",
      "        2    0.000    0.000    0.000    0.000 ipstruct.py:125(__getattr__)\n",
      "        3    0.000    0.000    0.000    0.000 {method 'disable' of '_lsprof.Profiler' objects}\n",
      "        1    0.000    0.000    0.000    0.000 sre_compile.py:249(_compile_charset)\n",
      "        1    0.000    0.000    0.000    0.000 {built-in method _sre.compile}\n",
      "        1    0.000    0.000    0.000    0.000 cProfile.py:133(__exit__)\n",
      "        1    0.000    0.000    0.000    0.000 sre_parse.py:76(__init__)\n",
      "        2    0.000    0.000    0.000    0.000 sre_parse.py:249(match)\n",
      "        5    0.000    0.000    0.000    0.000 {built-in method builtins.ord}\n",
      "        2    0.000    0.000    0.000    0.000 hooks.py:168(pre_run_code_hook)\n",
      "        2    0.000    0.000    0.000    0.000 sre_compile.py:453(_get_iscased)\n",
      "        2    0.000    0.000    0.000    0.000 sre_parse.py:81(groups)\n",
      "        2    0.000    0.000    0.000    0.000 {built-in method builtins.max}\n",
      "        1    0.000    0.000    0.000    0.000 {method 'items' of 'dict' objects}\n",
      "\n",
      "\n"
     ]
    }
   ],
   "source": [
    "p.print_stats(sort='time')"
   ]
  },
  {
   "cell_type": "markdown",
   "metadata": {},
   "source": [
    "# Instrumenting high-performance code\n",
    "\n",
    "There are times when we want to profile, but we don't want to incur the performance penalty. For instance, we might want to see the profile of a running production system, without impacting its performance in a major way.\n",
    "\n",
    "For that, we can profile a _sample_ of the calls to a function."
   ]
  },
  {
   "cell_type": "code",
   "execution_count": 37,
   "metadata": {},
   "outputs": [],
   "source": [
    "import random\n",
    "import functools\n",
    "\n",
    "def instrument(profiler, probability=0.10):\n",
    "    '''Profile some of the calls to the decorated function.\n",
    "    \n",
    "    The default probability of profiling a call is 10%.\n",
    "    '''\n",
    "    def decorator(func):\n",
    "        @functools.wraps(func)\n",
    "        def wrapper(*args, **kwargs):\n",
    "            if random.random() < probability:\n",
    "#                 with profiler:  #if py38+\n",
    "#                     return func(*args, **kwargs)\n",
    "                try:\n",
    "                    profiler.enable()\n",
    "                    return func(*args, **kwargs)\n",
    "                finally:\n",
    "                    profiler.disable()\n",
    "            else:\n",
    "                return func(*args, **kwargs)\n",
    "        return wrapper\n",
    "    return decorator"
   ]
  },
  {
   "cell_type": "code",
   "execution_count": 38,
   "metadata": {},
   "outputs": [],
   "source": [
    "import cProfile\n",
    "prof = cProfile.Profile()"
   ]
  },
  {
   "cell_type": "code",
   "execution_count": 39,
   "metadata": {},
   "outputs": [],
   "source": [
    "@instrument(prof, 0.2)\n",
    "def build_join(strings):\n",
    "    return ''.join(strings)"
   ]
  },
  {
   "cell_type": "code",
   "execution_count": 40,
   "metadata": {},
   "outputs": [],
   "source": [
    "for x in range(10_000): \n",
    "    build_join(strings)"
   ]
  },
  {
   "cell_type": "code",
   "execution_count": 41,
   "metadata": {},
   "outputs": [
    {
     "name": "stdout",
     "output_type": "stream",
     "text": [
      "         5847 function calls in 0.015 seconds\n",
      "\n",
      "   Ordered by: internal time\n",
      "\n",
      "   ncalls  tottime  percall  cumtime  percall filename:lineno(function)\n",
      "     1949    0.014    0.000    0.014    0.000 {method 'join' of 'str' objects}\n",
      "     1949    0.001    0.000    0.015    0.000 <ipython-input-39-4e16200570cb>:1(build_join)\n",
      "     1949    0.000    0.000    0.000    0.000 {method 'disable' of '_lsprof.Profiler' objects}\n",
      "\n",
      "\n"
     ]
    }
   ],
   "source": [
    "prof.print_stats(sort='time')"
   ]
  },
  {
   "cell_type": "code",
   "execution_count": 42,
   "metadata": {},
   "outputs": [],
   "source": [
    "from contextlib import contextmanager\n",
    "\n",
    "@contextmanager\n",
    "def profiling(profiler, probability=0.10):\n",
    "    if random.random() < probability:\n",
    "#         with profiler:\n",
    "#             yield profiler\n",
    "        try:\n",
    "            profiler.enable()\n",
    "            yield profiler\n",
    "        finally:\n",
    "            profiler.disable()\n",
    "    else:\n",
    "        yield None"
   ]
  },
  {
   "cell_type": "code",
   "execution_count": 43,
   "metadata": {},
   "outputs": [
    {
     "name": "stdout",
     "output_type": "stream",
     "text": [
      "74.5 ns ± 1.54 ns per loop (mean ± std. dev. of 7 runs, 10000000 loops each)\n"
     ]
    }
   ],
   "source": [
    "%timeit random.random() < 0.10"
   ]
  },
  {
   "cell_type": "code",
   "execution_count": 45,
   "metadata": {},
   "outputs": [
    {
     "name": "stdout",
     "output_type": "stream",
     "text": [
      "         2343 function calls in 0.002 seconds\n",
      "\n",
      "   Ordered by: internal time\n",
      "\n",
      "   ncalls  tottime  percall  cumtime  percall filename:lineno(function)\n",
      "       96    0.001    0.000    0.001    0.000 {method 'enable' of '_lsprof.Profiler' objects}\n",
      "      105    0.001    0.000    0.001    0.000 {method 'join' of 'str' objects}\n",
      "      411    0.000    0.000    0.001    0.000 <ipython-input-42-549dd9f2ece6>:3(profiling)\n",
      "      201    0.000    0.000    0.000    0.000 contextlib.py:82(__init__)\n",
      "      210    0.000    0.000    0.000    0.000 contextlib.py:117(__exit__)\n",
      "      201    0.000    0.000    0.000    0.000 contextlib.py:238(helper)\n",
      "      411    0.000    0.000    0.001    0.000 {built-in method builtins.next}\n",
      "      201    0.000    0.000    0.001    0.000 contextlib.py:108(__enter__)\n",
      "      201    0.000    0.000    0.000    0.000 {built-in method builtins.getattr}\n",
      "      201    0.000    0.000    0.000    0.000 {method 'random' of '_random.Random' objects}\n",
      "      105    0.000    0.000    0.000    0.000 {method 'disable' of '_lsprof.Profiler' objects}\n",
      "\n",
      "\n"
     ]
    }
   ],
   "source": [
    "prof = cProfile.Profile()\n",
    "prof1 = cProfile.Profile()\n",
    "\n",
    "num_profiles = 0\n",
    "for x in range(10_000): \n",
    "    with profiling(prof, 0.02) as as_value:\n",
    "        with profiling(prof1, 0.5) as as_value1:\n",
    "            # If profiling, as_value == prof\n",
    "            # If NOT profiling, as_value == None\n",
    "            if as_value:\n",
    "                num_profiles += 1\n",
    "            ''.join(strings)\n",
    "\n",
    "prof.print_stats(sort='time')"
   ]
  },
  {
   "cell_type": "code",
   "execution_count": 49,
   "metadata": {},
   "outputs": [
    {
     "name": "stdout",
     "output_type": "stream",
     "text": [
      "         25435 function calls in 0.038 seconds\n",
      "\n",
      "   Ordered by: internal time\n",
      "\n",
      "   ncalls  tottime  percall  cumtime  percall filename:lineno(function)\n",
      "     5087    0.035    0.000    0.035    0.000 {method 'join' of 'str' objects}\n",
      "     5087    0.001    0.000    0.003    0.000 contextlib.py:117(__exit__)\n",
      "     5087    0.001    0.000    0.002    0.000 <ipython-input-42-549dd9f2ece6>:3(profiling)\n",
      "     5087    0.001    0.000    0.002    0.000 {built-in method builtins.next}\n",
      "     5087    0.000    0.000    0.000    0.000 {method 'disable' of '_lsprof.Profiler' objects}\n",
      "\n",
      "\n"
     ]
    }
   ],
   "source": [
    "prof1.print_stats(sort='time')"
   ]
  },
  {
   "cell_type": "code",
   "execution_count": 47,
   "metadata": {
    "scrolled": true
   },
   "outputs": [
    {
     "data": {
      "text/plain": [
       "201"
      ]
     },
     "execution_count": 47,
     "metadata": {},
     "output_type": "execute_result"
    }
   ],
   "source": [
    "num_profiles"
   ]
  },
  {
   "cell_type": "markdown",
   "metadata": {},
   "source": [
    "# Lab\n",
    "\n",
    "Open the [profiling lab][profiling_lab]\n",
    "\n",
    "[profiling_lab]: ./profiling-lab.ipynb"
   ]
  },
  {
   "cell_type": "code",
   "execution_count": null,
   "metadata": {},
   "outputs": [],
   "source": []
  }
 ],
 "metadata": {
  "kernelspec": {
   "display_name": "Python 3",
   "language": "python",
   "name": "python3"
  },
  "language_info": {
   "codemirror_mode": {
    "name": "ipython",
    "version": 3
   },
   "file_extension": ".py",
   "mimetype": "text/x-python",
   "name": "python",
   "nbconvert_exporter": "python",
   "pygments_lexer": "ipython3",
   "version": "3.8.5"
  }
 },
 "nbformat": 4,
 "nbformat_minor": 1
}
