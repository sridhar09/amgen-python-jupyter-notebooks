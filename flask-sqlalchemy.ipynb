{
 "cells": [
  {
   "cell_type": "markdown",
   "metadata": {},
   "source": [
    "# Flask-SQLAlchemy\n",
    "\n",
    "Flask itself does not come with any database backend, but the Flask-SQLAlchemy plugin provides database access via the SQLAlchemy database toolkit.\n",
    "\n"
   ]
  },
  {
   "cell_type": "code",
   "execution_count": 1,
   "metadata": {},
   "outputs": [
    {
     "name": "stdout",
     "output_type": "stream",
     "text": [
      "Looking in links: /home/rick446/src/wheelhouse\n",
      "Requirement already satisfied: flask-sqlalchemy in /home/rick446/.virtualenvs/classes/lib/python3.8/site-packages (2.4.4)\n",
      "Requirement already satisfied: SQLAlchemy>=0.8.0 in /home/rick446/.virtualenvs/classes/lib/python3.8/site-packages (from flask-sqlalchemy) (1.3.19)\n",
      "Requirement already satisfied: Flask>=0.10 in /home/rick446/.virtualenvs/classes/lib/python3.8/site-packages (from flask-sqlalchemy) (2.0.1)\n",
      "Requirement already satisfied: Werkzeug>=2.0 in /home/rick446/.virtualenvs/classes/lib/python3.8/site-packages (from Flask>=0.10->flask-sqlalchemy) (2.0.1)\n",
      "Requirement already satisfied: click>=7.1.2 in /home/rick446/.virtualenvs/classes/lib/python3.8/site-packages (from Flask>=0.10->flask-sqlalchemy) (7.1.2)\n",
      "Requirement already satisfied: Jinja2>=3.0 in /home/rick446/.virtualenvs/classes/lib/python3.8/site-packages (from Flask>=0.10->flask-sqlalchemy) (3.0.1)\n",
      "Requirement already satisfied: itsdangerous>=2.0 in /home/rick446/.virtualenvs/classes/lib/python3.8/site-packages (from Flask>=0.10->flask-sqlalchemy) (2.0.1)\n",
      "Requirement already satisfied: MarkupSafe>=2.0 in /home/rick446/.virtualenvs/classes/lib/python3.8/site-packages (from Jinja2>=3.0->Flask>=0.10->flask-sqlalchemy) (2.0.1)\n",
      "\u001b[33mWARNING: You are using pip version 20.2.3; however, version 21.3.1 is available.\n",
      "You should consider upgrading via the '/home/rick446/.virtualenvs/classes/bin/python -m pip install --upgrade pip' command.\u001b[0m\n"
     ]
    }
   ],
   "source": [
    "!pip install flask-sqlalchemy"
   ]
  },
  {
   "cell_type": "code",
   "execution_count": 2,
   "metadata": {},
   "outputs": [],
   "source": [
    "import sys\n",
    "sys.path.append('./data/flask-examples')"
   ]
  },
  {
   "cell_type": "code",
   "execution_count": 3,
   "metadata": {},
   "outputs": [
    {
     "name": "stdout",
     "output_type": "stream",
     "text": [
      "Overwriting data/flask-examples/sa_model.py\n"
     ]
    }
   ],
   "source": [
    "%%file data/flask-examples/sa_model.py\n",
    "from flask_sqlalchemy import SQLAlchemy\n",
    "\n",
    "db = SQLAlchemy()\n",
    "\n",
    "class Post(db.Model):\n",
    "    id = db.Column(db.Integer, primary_key=True)\n",
    "    postedDate = db.Column(db.DateTime)\n",
    "    authorName = db.Column(db.String)\n",
    "    title = db.Column(db.String)\n",
    "    content = db.Column(db.String)\n",
    "    \n",
    "class Comment(db.Model):\n",
    "    id = db.Column(db.Integer, primary_key=True)\n",
    "    post_id = db.Column(db.Integer, db.ForeignKey('post.id'), nullable=False)\n",
    "    postedDate = db.Column(db.DateTime)\n",
    "    authorName = db.Column(db.String)\n",
    "    content = db.Column(db.String)\n",
    "    \n",
    "    post = db.relationship('Post', backref=db.backref('comments', lazy=True))\n"
   ]
  },
  {
   "cell_type": "code",
   "execution_count": 4,
   "metadata": {},
   "outputs": [
    {
     "name": "stdout",
     "output_type": "stream",
     "text": [
      "Overwriting data/flask-examples/sa-app.py\n"
     ]
    }
   ],
   "source": [
    "%%file data/flask-examples/sa-app.py\n",
    "from datetime import datetime\n",
    "\n",
    "from flask import Flask, url_for, jsonify, request, abort\n",
    "\n",
    "from .sa_model import db, Post, Comment\n",
    "\n",
    "app = Flask(__name__)\n",
    "app.config['SQLALCHEMY_DATABASE_URI'] = 'sqlite:///blog.db'\n",
    "#app.config['SQLALCHEMY_TRACK_MODIFICATIONS'] = False\n",
    "db.init_app(app)\n",
    "# db = SQLAlchemy(app)\n",
    "\n",
    "\n",
    "@app.route('/')\n",
    "def get_root():\n",
    "    return jsonify(_links={'posts': url_for('get_posts', _external=True)})\n",
    "\n",
    "\n",
    "@app.route('/post')\n",
    "def get_posts():\n",
    "    post_links = [\n",
    "        url_for('get_post', post_id=post.id, _external=True) \n",
    "        for post in Post.query]\n",
    "    return jsonify(\n",
    "        _links={'self': url_for('get_posts', _external=True)},\n",
    "        posts=[dict(_links=dict(self=link)) for link in post_links])\n",
    "\n",
    "@app.route('/post', methods=['POST'])\n",
    "def create_post():\n",
    "    post = Post(\n",
    "        authorName=request.authorization.username,\n",
    "        postedDate=datetime.utcnow(),\n",
    "        title=request.json['title'],\n",
    "        content=request.json['content'],\n",
    "    )\n",
    "    db.session.add(post)\n",
    "    db.session.commit()\n",
    "    result = jsonify_post(post)\n",
    "    result.headers['Location'] = url_for('get_post', post_id=post.id, _external=True)\n",
    "    return result, 201\n",
    "\n",
    "@app.route('/post/<int:post_id>')\n",
    "def get_post(post_id):\n",
    "    post = Post.query.get(post_id)\n",
    "    if not post:\n",
    "        abort(404)\n",
    "    return jsonify_post(post)\n",
    "\n",
    "@app.route('/post/<int:post_id>', methods=['PUT'])\n",
    "def update_post(post_id):\n",
    "    post = Post.query.get(post_id)\n",
    "    if not post:\n",
    "        abort(404)\n",
    "    post.authorName = request.authorization.username\n",
    "    post.postedDate = datetime.utcnow()\n",
    "    post.title = request.json['title']\n",
    "    post.content = request.json['content']\n",
    "    db.session.commit()\n",
    "    return jsonify_post(post)\n",
    "\n",
    "@app.route('/post/<int:post_id>', methods=['DELETE'])\n",
    "def delete_post(post_id):\n",
    "    post = Post.query.get(post_id)\n",
    "    if not post:\n",
    "        abort(404)\n",
    "    db.session.delete(post)\n",
    "    db.session.commit()\n",
    "    return '', 204\n",
    "\n",
    "def jsonify_post(post):\n",
    "    return jsonify(\n",
    "        _links={'self': url_for('get_post', post_id=post.id, _external=True)},\n",
    "        postedDate=post.postedDate.isoformat(),\n",
    "        authorName=post.authorName,\n",
    "        title=post.title,\n",
    "        content=post.content,\n",
    "    )"
   ]
  },
  {
   "cell_type": "code",
   "execution_count": 5,
   "metadata": {},
   "outputs": [],
   "source": [
    "import sqlite3\n",
    "conn = sqlite3.connect('data/flask-examples/blog.db')\n",
    "with conn as c:\n",
    "    c.execute('DELETE FROM comment')\n",
    "    c.execute('DELETE FROM post')\n",
    "\n"
   ]
  },
  {
   "cell_type": "code",
   "execution_count": 6,
   "metadata": {},
   "outputs": [],
   "source": [
    "import requests\n",
    "sess = requests.Session()\n",
    "sess.auth = ('rick', 'password')"
   ]
  },
  {
   "cell_type": "code",
   "execution_count": 16,
   "metadata": {},
   "outputs": [
    {
     "data": {
      "text/plain": [
       "<Response [201]>"
      ]
     },
     "execution_count": 16,
     "metadata": {},
     "output_type": "execute_result"
    }
   ],
   "source": [
    "resp = sess.post('http://localhost:5012/post', json={\n",
    "    'title': 'First post!',\n",
    "    'content': 'This is the first post, does it work?',\n",
    "})\n",
    "resp"
   ]
  },
  {
   "cell_type": "code",
   "execution_count": 8,
   "metadata": {},
   "outputs": [
    {
     "data": {
      "text/plain": [
       "{'_links': {'self': 'http://localhost:5012/post/1'},\n",
       " 'authorName': 'rick',\n",
       " 'content': 'This is the first post, does it work?',\n",
       " 'postedDate': '2021-11-03T15:40:56.258415',\n",
       " 'title': 'First post!'}"
      ]
     },
     "execution_count": 8,
     "metadata": {},
     "output_type": "execute_result"
    }
   ],
   "source": [
    "resp.json()"
   ]
  },
  {
   "cell_type": "code",
   "execution_count": 9,
   "metadata": {},
   "outputs": [
    {
     "data": {
      "text/plain": [
       "{'Content-Type': 'application/json', 'Content-Length': '185', 'Location': 'http://localhost:5012/post/1', 'Server': 'Werkzeug/2.0.1 Python/3.8.5', 'Date': 'Wed, 03 Nov 2021 15:40:56 GMT'}"
      ]
     },
     "execution_count": 9,
     "metadata": {},
     "output_type": "execute_result"
    }
   ],
   "source": [
    "resp.headers"
   ]
  },
  {
   "cell_type": "code",
   "execution_count": 10,
   "metadata": {},
   "outputs": [
    {
     "name": "stdout",
     "output_type": "stream",
     "text": [
      "(1, '2021-11-03 15:40:56.258415', 'rick', 'First post!', 'This is the first post, does it work?')\n"
     ]
    }
   ],
   "source": [
    "for row in conn.execute('SELECT * FROM post'):\n",
    "    print(row)"
   ]
  },
  {
   "cell_type": "code",
   "execution_count": 11,
   "metadata": {},
   "outputs": [
    {
     "data": {
      "text/plain": [
       "{'_links': {'posts': 'http://localhost:5012/post'}}"
      ]
     },
     "execution_count": 11,
     "metadata": {},
     "output_type": "execute_result"
    }
   ],
   "source": [
    "sess.get('http://localhost:5012').json()"
   ]
  },
  {
   "cell_type": "code",
   "execution_count": 18,
   "metadata": {},
   "outputs": [
    {
     "data": {
      "text/plain": [
       "{'_links': {'self': 'http://localhost:5012/post'},\n",
       " 'posts': [{'_links': {'self': 'http://localhost:5012/post/1'}},\n",
       "  {'_links': {'self': 'http://localhost:5012/post/2'}},\n",
       "  {'_links': {'self': 'http://localhost:5012/post/3'}},\n",
       "  {'_links': {'self': 'http://localhost:5012/post/4'}}]}"
      ]
     },
     "execution_count": 18,
     "metadata": {},
     "output_type": "execute_result"
    }
   ],
   "source": [
    "resp = sess.get('http://localhost:5012/post')\n",
    "resp.raise_for_status()\n",
    "resp.json()"
   ]
  },
  {
   "cell_type": "code",
   "execution_count": 19,
   "metadata": {},
   "outputs": [
    {
     "name": "stdout",
     "output_type": "stream",
     "text": [
      "Post\n",
      "{'_links': {'self': 'http://localhost:5012/post/1'}, 'authorName': 'rick', 'content': 'This is the first post, does it work?', 'postedDate': '2021-11-03T15:40:56.258415', 'title': 'First post!'}\n",
      "Post\n",
      "{'_links': {'self': 'http://localhost:5012/post/2'}, 'authorName': 'rick', 'content': 'This is the first post, does it work?', 'postedDate': '2021-11-03T15:43:12.271584', 'title': 'First post!'}\n",
      "Post\n",
      "{'_links': {'self': 'http://localhost:5012/post/3'}, 'authorName': 'rick', 'content': 'This is the first post, does it work?', 'postedDate': '2021-11-03T15:43:13.144921', 'title': 'First post!'}\n",
      "Post\n",
      "{'_links': {'self': 'http://localhost:5012/post/4'}, 'authorName': 'rick', 'content': 'This is the first post, does it work?', 'postedDate': '2021-11-03T15:43:13.939265', 'title': 'First post!'}\n"
     ]
    }
   ],
   "source": [
    "for post in resp.json()['posts']:\n",
    "    print('Post')\n",
    "    r = sess.get(post['_links']['self'])\n",
    "    r.raise_for_status()\n",
    "    print(r.json())"
   ]
  },
  {
   "cell_type": "code",
   "execution_count": 20,
   "metadata": {},
   "outputs": [
    {
     "name": "stdout",
     "output_type": "stream",
     "text": [
      "<Response [204]>\n",
      "<Response [204]>\n",
      "<Response [204]>\n",
      "<Response [204]>\n"
     ]
    }
   ],
   "source": [
    "for post in resp.json()['posts']:\n",
    "    print(sess.delete(post['_links']['self']))"
   ]
  },
  {
   "cell_type": "code",
   "execution_count": 21,
   "metadata": {},
   "outputs": [],
   "source": [
    "for row in conn.execute('SELECT * FROM post'):\n",
    "    print(row)"
   ]
  },
  {
   "cell_type": "markdown",
   "metadata": {},
   "source": [
    "Open the [Flask-SQLAlchemy lab](./flask-sqlalchemy-lab.ipynb)"
   ]
  },
  {
   "cell_type": "code",
   "execution_count": 22,
   "metadata": {},
   "outputs": [],
   "source": [
    "from flask import g"
   ]
  },
  {
   "cell_type": "code",
   "execution_count": null,
   "metadata": {},
   "outputs": [],
   "source": [
    "g.user = determine_user_from_request(request)"
   ]
  }
 ],
 "metadata": {
  "kernelspec": {
   "display_name": "Python 3",
   "language": "python",
   "name": "python3"
  },
  "language_info": {
   "codemirror_mode": {
    "name": "ipython",
    "version": 3
   },
   "file_extension": ".py",
   "mimetype": "text/x-python",
   "name": "python",
   "nbconvert_exporter": "python",
   "pygments_lexer": "ipython3",
   "version": "3.8.5"
  }
 },
 "nbformat": 4,
 "nbformat_minor": 2
}
