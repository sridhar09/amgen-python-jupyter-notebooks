{
 "cells": [
  {
   "cell_type": "markdown",
   "metadata": {},
   "source": [
    "# MongoDB and Python\n",
    "\n",
    "MongoDB is a 'NoSQL database' with support for high-performance document-oriented storage and queries, sharding, and replication.\n",
    "\n",
    "Terminology:\n",
    "\n",
    "- A **document** is a single JSON-like object stored in MongoDB\n",
    "- A **collection** is a respository of documents which may have one or more indexes on them\n",
    "- A **database** is a group of collections and indexes \n"
   ]
  },
  {
   "cell_type": "markdown",
   "metadata": {},
   "source": [
    "To get started, we'll install the `pymongo` driver and the `dnspython` modules to allow us to use the \"mongodb+srv://\" URLs to connect to MongoDB:"
   ]
  },
  {
   "cell_type": "code",
   "execution_count": 1,
   "metadata": {},
   "outputs": [
    {
     "name": "stdout",
     "output_type": "stream",
     "text": [
      "Error processing line 1 of /Users/sridharmundra/Library/Python/3.8/lib/python/site-packages/pyston_autoload.pth:\n",
      "\n",
      "  Traceback (most recent call last):\n",
      "    File \"/Library/Developer/CommandLineTools/Library/Frameworks/Python3.framework/Versions/3.8/lib/python3.8/site.py\", line 169, in addpackage\n",
      "      exec(line)\n",
      "    File \"<string>\", line 1, in <module>\n",
      "    File \"<string>\", line 1, in <module>\n",
      "  ImportError: dlopen(/Users/sridharmundra/Library/Python/3.8/lib/python/site-packages/pyston.cpython-38-darwin.so, 0x0002): symbol not found in flat namespace (__PyAsyncGenValueWrapperNew)\n",
      "\n",
      "Remainder of file ignored\n",
      "Defaulting to user installation because normal site-packages is not writeable\n",
      "Requirement already satisfied: pymongo in /Users/sridharmundra/Library/Python/3.8/lib/python/site-packages (4.3.3)\n",
      "Requirement already satisfied: dnspython in /Users/sridharmundra/Library/Python/3.8/lib/python/site-packages (2.2.1)\n",
      "\n",
      "\u001b[1m[\u001b[0m\u001b[34;49mnotice\u001b[0m\u001b[1;39;49m]\u001b[0m\u001b[39;49m A new release of pip available: \u001b[0m\u001b[31;49m22.2.2\u001b[0m\u001b[39;49m -> \u001b[0m\u001b[32;49m22.3.1\u001b[0m\n",
      "\u001b[1m[\u001b[0m\u001b[34;49mnotice\u001b[0m\u001b[1;39;49m]\u001b[0m\u001b[39;49m To update, run: \u001b[0m\u001b[32;49m/Library/Developer/CommandLineTools/usr/bin/python3 -m pip install --upgrade pip\u001b[0m\n"
     ]
    }
   ],
   "source": [
    "!pip install -U pymongo dnspython"
   ]
  },
  {
   "cell_type": "markdown",
   "metadata": {},
   "source": [
    "## Connecting and accessing databases and collections"
   ]
  },
  {
   "cell_type": "code",
   "execution_count": 5,
   "metadata": {},
   "outputs": [
    {
     "ename": "ModuleNotFoundError",
     "evalue": "No module named 'pymongo'",
     "output_type": "error",
     "traceback": [
      "\u001b[0;31m---------------------------------------------------------------------------\u001b[0m",
      "\u001b[0;31mModuleNotFoundError\u001b[0m                       Traceback (most recent call last)",
      "Cell \u001b[0;32mIn [5], line 1\u001b[0m\n\u001b[0;32m----> 1\u001b[0m \u001b[38;5;28;01mimport\u001b[39;00m \u001b[38;5;21;01mpymongo\u001b[39;00m\n\u001b[1;32m      2\u001b[0m username \u001b[38;5;241m=\u001b[39m \u001b[38;5;124m'\u001b[39m\u001b[38;5;124mclass\u001b[39m\u001b[38;5;124m'\u001b[39m\n\u001b[1;32m      3\u001b[0m password \u001b[38;5;241m=\u001b[39m \u001b[38;5;124m'\u001b[39m\u001b[38;5;124mclassword\u001b[39m\u001b[38;5;124m'\u001b[39m\n",
      "\u001b[0;31mModuleNotFoundError\u001b[0m: No module named 'pymongo'"
     ]
    }
   ],
   "source": [
    "import pymongo\n",
    "username = 'class'\n",
    "password = 'classword'\n",
    "host = 'cluster0.bpduwlt.mongodb.net'\n",
    "dbname = 'training'\n",
    "cli = pymongo.MongoClient(\n",
    "    f'mongodb+srv://{username}:{password}@{host}'#'/{dbname}'\n",
    ")\n",
    "#cli = pymongo.MongoClient('mongodb://localhost:27017/class')"
   ]
  },
  {
   "cell_type": "code",
   "execution_count": 3,
   "metadata": {},
   "outputs": [
    {
     "ename": "NameError",
     "evalue": "name 'cli' is not defined",
     "output_type": "error",
     "traceback": [
      "\u001b[0;31m---------------------------------------------------------------------------\u001b[0m",
      "\u001b[0;31mNameError\u001b[0m                                 Traceback (most recent call last)",
      "Cell \u001b[0;32mIn [3], line 1\u001b[0m\n\u001b[0;32m----> 1\u001b[0m \u001b[43mcli\u001b[49m\n",
      "\u001b[0;31mNameError\u001b[0m: name 'cli' is not defined"
     ]
    }
   ],
   "source": [
    "cli"
   ]
  },
  {
   "cell_type": "code",
   "execution_count": null,
   "metadata": {},
   "outputs": [],
   "source": [
    "db = cli['training']\n",
    "db"
   ]
  },
  {
   "cell_type": "code",
   "execution_count": null,
   "metadata": {},
   "outputs": [],
   "source": [
    "cli.training"
   ]
  },
  {
   "cell_type": "code",
   "execution_count": null,
   "metadata": {},
   "outputs": [],
   "source": [
    "for cname in db.list_collection_names():\n",
    "    db[cname].drop()"
   ]
  },
  {
   "cell_type": "markdown",
   "metadata": {},
   "source": [
    "## Inserting data\n",
    "\n",
    "https://pymongo.readthedocs.io/en/stable/api/pymongo/collection.html"
   ]
  },
  {
   "cell_type": "code",
   "execution_count": null,
   "metadata": {},
   "outputs": [],
   "source": [
    "res = db.roster.insert_one({\n",
    "    'name': 'Rick Copeland',\n",
    "    'email': 'rick@arborian.com',\n",
    "    'role': 'Instructor',\n",
    "})\n",
    "res"
   ]
  },
  {
   "cell_type": "code",
   "execution_count": null,
   "metadata": {},
   "outputs": [],
   "source": [
    "res.inserted_id"
   ]
  },
  {
   "cell_type": "markdown",
   "metadata": {},
   "source": [
    "## Querying data\n",
    "\n",
    "[Additional documentation: query operators](https://docs.mongodb.com/manual/reference/operator/query/)\n",
    "\n",
    "[Additional documentation: find](http://api.mongodb.com/python/current/api/pymongo/collection.html#pymongo.collection.Collection.find)\n",
    "\n",
    "[Additional documentation: find_one](http://api.mongodb.com/python/current/api/pymongo/collection.html#pymongo.collection.Collection.find_one)"
   ]
  },
  {
   "cell_type": "code",
   "execution_count": null,
   "metadata": {},
   "outputs": [],
   "source": [
    "cursor = db.roster.find({'name': 'Rick Copeland'})\n",
    "cursor"
   ]
  },
  {
   "cell_type": "code",
   "execution_count": null,
   "metadata": {},
   "outputs": [],
   "source": [
    "list(cursor)"
   ]
  },
  {
   "cell_type": "code",
   "execution_count": null,
   "metadata": {},
   "outputs": [],
   "source": [
    "for doc in db.roster.find({'name': {'$eq': 'Rick Copeland'}}):\n",
    "    print(doc)"
   ]
  },
  {
   "cell_type": "code",
   "execution_count": null,
   "metadata": {},
   "outputs": [],
   "source": [
    "for item in db.roster.find({'name': {'$gte': 'Rick Copeland'}}):\n",
    "    print(item)"
   ]
  },
  {
   "cell_type": "code",
   "execution_count": null,
   "metadata": {},
   "outputs": [],
   "source": [
    "doc = db.roster.find_one({'_id': item['_id']})\n",
    "doc"
   ]
  },
  {
   "cell_type": "code",
   "execution_count": null,
   "metadata": {},
   "outputs": [],
   "source": [
    "import re\n",
    "db.roster.find_one({'role': re.compile('^Ins')})  # SQL equivalent: LIKE 'Ins%'"
   ]
  },
  {
   "cell_type": "markdown",
   "metadata": {},
   "source": [
    "## Updating data\n",
    "\n",
    "[Additonal documentation: update operators](https://docs.mongodb.com/manual/reference/operator/update/)\n",
    "\n",
    "[Additional documentation: replace](http://api.mongodb.com/python/current/api/pymongo/collection.html#pymongo.collection.Collection.replace_one)\n",
    "\n",
    "[Additional documentation: update](http://api.mongodb.com/python/current/api/pymongo/collection.html#pymongo.collection.Collection.update_one)"
   ]
  },
  {
   "cell_type": "code",
   "execution_count": null,
   "metadata": {},
   "outputs": [],
   "source": [
    "doc['email'] = 'rick446@arborian.com'\n",
    "db.roster.replace_one(\n",
    "    {'_id': doc['_id']},\n",
    "    doc\n",
    ")"
   ]
  },
  {
   "cell_type": "code",
   "execution_count": null,
   "metadata": {},
   "outputs": [],
   "source": [
    "doc = db.roster.find_one()\n",
    "doc"
   ]
  },
  {
   "cell_type": "code",
   "execution_count": null,
   "metadata": {},
   "outputs": [],
   "source": [
    "db.roster.update_one(\n",
    "    {'_id': doc['_id']},\n",
    "    {'$set': {'email': 'rick@arborian.com'}}\n",
    ")"
   ]
  },
  {
   "cell_type": "code",
   "execution_count": null,
   "metadata": {},
   "outputs": [],
   "source": [
    "doc = db.roster.find_one()\n",
    "doc"
   ]
  },
  {
   "cell_type": "markdown",
   "metadata": {},
   "source": [
    "## Atomic find/modify"
   ]
  },
  {
   "cell_type": "code",
   "execution_count": null,
   "metadata": {},
   "outputs": [],
   "source": [
    "coll = db.roster\n",
    "doc = coll.find_one_and_update(\n",
    "    {'name': 'Rick Copeland'},\n",
    "    {'$inc': {'classes': 1}},\n",
    "    return_document=pymongo.ReturnDocument.AFTER,\n",
    "    upsert=True,\n",
    ")\n",
    "doc"
   ]
  },
  {
   "cell_type": "code",
   "execution_count": null,
   "metadata": {},
   "outputs": [],
   "source": [
    "coll = db.roster\n",
    "doc = coll.find_one_and_update(\n",
    "    {'name': 'Richard Copeland'},\n",
    "    {'$inc': {'classes': 1}},\n",
    "    return_document=pymongo.ReturnDocument.AFTER,\n",
    "    upsert=True,\n",
    ")\n",
    "doc"
   ]
  },
  {
   "cell_type": "code",
   "execution_count": null,
   "metadata": {},
   "outputs": [],
   "source": [
    "list(db.roster.find())"
   ]
  },
  {
   "cell_type": "markdown",
   "metadata": {},
   "source": [
    "Psuedocode for locking using MongoDB\n",
    "\n",
    "```python\n",
    "\n",
    "{\n",
    "    waiters: [\n",
    "        ...\n",
    "    ]\n",
    "}\n",
    "\n",
    "lock = db.lock.find_one_and_update(\n",
    "    {_id: 'mylock'},\n",
    "    {'$push': {'waiters': my_unique_id}}\n",
    "    return_document=pymongo.ReturnDocument.AFTER\n",
    ")\n",
    "\n",
    "if lock.waiters[0] == my_id:\n",
    "    I got it!\n",
    "```"
   ]
  },
  {
   "cell_type": "markdown",
   "metadata": {},
   "source": [
    "## Delete"
   ]
  },
  {
   "cell_type": "code",
   "execution_count": null,
   "metadata": {},
   "outputs": [],
   "source": [
    "import re\n",
    "\n",
    "res = coll.delete_one({'name': re.compile(r'^Ri')})\n",
    "res"
   ]
  },
  {
   "cell_type": "code",
   "execution_count": null,
   "metadata": {},
   "outputs": [],
   "source": [
    "list(coll.find())"
   ]
  },
  {
   "cell_type": "code",
   "execution_count": null,
   "metadata": {},
   "outputs": [],
   "source": [
    "second_res = coll.delete_many({'name': re.compile(r'^Ri')})"
   ]
  },
  {
   "cell_type": "code",
   "execution_count": null,
   "metadata": {},
   "outputs": [],
   "source": [
    "res.deleted_count"
   ]
  },
  {
   "cell_type": "code",
   "execution_count": null,
   "metadata": {},
   "outputs": [],
   "source": [
    "second_res.deleted_count"
   ]
  },
  {
   "cell_type": "code",
   "execution_count": null,
   "metadata": {},
   "outputs": [],
   "source": [
    "list(coll.find())"
   ]
  },
  {
   "cell_type": "code",
   "execution_count": null,
   "metadata": {},
   "outputs": [],
   "source": [
    "import pandas as pd\n",
    "stock = pd.read_csv('data/closing-prices.csv', parse_dates=[0])\n",
    "stock.head()"
   ]
  },
  {
   "cell_type": "code",
   "execution_count": null,
   "metadata": {},
   "outputs": [],
   "source": [
    "records = stock.to_dict(orient='records')"
   ]
  },
  {
   "cell_type": "code",
   "execution_count": null,
   "metadata": {},
   "outputs": [],
   "source": [
    "records[0]"
   ]
  },
  {
   "cell_type": "code",
   "execution_count": null,
   "metadata": {},
   "outputs": [],
   "source": [
    "db.stock.insert_many(records)"
   ]
  },
  {
   "cell_type": "code",
   "execution_count": null,
   "metadata": {},
   "outputs": [],
   "source": [
    "len(_36.inserted_ids)"
   ]
  },
  {
   "cell_type": "code",
   "execution_count": null,
   "metadata": {},
   "outputs": [],
   "source": [
    "db.stock.find_one()"
   ]
  },
  {
   "cell_type": "code",
   "execution_count": null,
   "metadata": {},
   "outputs": [],
   "source": [
    "from datetime import datetime\n",
    "db.stock.find_one({'Unnamed: 0': datetime(2014,1,2)})"
   ]
  },
  {
   "cell_type": "markdown",
   "metadata": {},
   "source": [
    "Open [PyMongo Lab](./pymongo-lab.ipynb)"
   ]
  }
 ],
 "metadata": {
  "kernelspec": {
   "display_name": "Python 3 (ipykernel)",
   "language": "python",
   "name": "python3"
  },
  "language_info": {
   "codemirror_mode": {
    "name": "ipython",
    "version": 3
   },
   "file_extension": ".py",
   "mimetype": "text/x-python",
   "name": "python",
   "nbconvert_exporter": "python",
   "pygments_lexer": "ipython3",
   "version": "3.10.8"
  }
 },
 "nbformat": 4,
 "nbformat_minor": 4
}
