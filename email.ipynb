{
 "cells": [
  {
   "cell_type": "markdown",
   "metadata": {},
   "source": [
    "# Handling Email (sending / receiving)"
   ]
  },
  {
   "cell_type": "code",
   "execution_count": 1,
   "metadata": {},
   "outputs": [],
   "source": [
    "import smtplib"
   ]
  },
  {
   "cell_type": "markdown",
   "metadata": {},
   "source": [
    "Most of the time, you'll be connecting to either your ISP's SMTP server, or some other server with authentication. In order to avoid exposing my password and such, I'll just use a local proxy server to print some debugging information:\n",
    "\n",
    "(You can run the proxy with `python -m smtpd -n -c DebuggingServer`)"
   ]
  },
  {
   "cell_type": "code",
   "execution_count": 2,
   "metadata": {},
   "outputs": [
    {
     "name": "stdout",
     "output_type": "stream",
     "text": [
      "Subject: This is a test\n",
      "From: <rick@arborian.com>\n",
      "To: <rick446@usa.net>\n",
      "\n",
      "Test message\n",
      "\n"
     ]
    }
   ],
   "source": [
    "addr_from = 'rick@arborian.com'\n",
    "addr_to = 'rick446@usa.net'\n",
    "msg = '''Subject: This is a test\n",
    "From: <{}>\n",
    "To: <{}>\n",
    "\n",
    "Test message\n",
    "'''.format(addr_from, addr_to)\n",
    "\n",
    "print(msg)"
   ]
  },
  {
   "cell_type": "code",
   "execution_count": 3,
   "metadata": {},
   "outputs": [
    {
     "name": "stderr",
     "output_type": "stream",
     "text": [
      "send: 'ehlo theodin.localdomain\\r\\n'\n",
      "reply: b'250-theodin.localdomain\\r\\n'\n",
      "reply: b'250-8BITMIME\\r\\n'\n",
      "reply: b'250 HELP\\r\\n'\n",
      "reply: retcode (250); Msg: b'theodin.localdomain\\n8BITMIME\\nHELP'\n",
      "send: 'mail FROM:<rick@arborian.com>\\r\\n'\n",
      "reply: b'250 OK\\r\\n'\n",
      "reply: retcode (250); Msg: b'OK'\n",
      "send: 'rcpt TO:<rick446@usa.net>\\r\\n'\n",
      "reply: b'250 OK\\r\\n'\n",
      "reply: retcode (250); Msg: b'OK'\n",
      "send: 'data\\r\\n'\n",
      "reply: b'354 End data with <CR><LF>.<CR><LF>\\r\\n'\n",
      "reply: retcode (354); Msg: b'End data with <CR><LF>.<CR><LF>'\n",
      "data: (354, b'End data with <CR><LF>.<CR><LF>')\n",
      "send: b'Subject: This is a test\\r\\nFrom: <rick@arborian.com>\\r\\nTo: <rick446@usa.net>\\r\\n\\r\\nTest message\\r\\n.\\r\\n'\n",
      "reply: b'250 OK\\r\\n'\n",
      "reply: retcode (250); Msg: b'OK'\n",
      "data: (250, b'OK')\n"
     ]
    },
    {
     "data": {
      "text/plain": [
       "{}"
      ]
     },
     "execution_count": 3,
     "metadata": {},
     "output_type": "execute_result"
    }
   ],
   "source": [
    "conn = smtplib.SMTP('localhost', 8025)\n",
    "conn.set_debuglevel(1)\n",
    "# conn.login(username, password)\n",
    "conn.sendmail(addr_from, [addr_to], msg)"
   ]
  },
  {
   "cell_type": "markdown",
   "metadata": {},
   "source": [
    "## Creating and parsing email messages\n",
    "\n",
    "If you're going to be putting together more complicated emails, the `email` module is extremely useful (for multipart messages, attachments, etc.):"
   ]
  },
  {
   "cell_type": "code",
   "execution_count": 4,
   "metadata": {},
   "outputs": [],
   "source": [
    "from email.mime.text import MIMEText"
   ]
  },
  {
   "cell_type": "code",
   "execution_count": 5,
   "metadata": {},
   "outputs": [
    {
     "name": "stdout",
     "output_type": "stream",
     "text": [
      "Content-Type: text/plain; charset=\"us-ascii\"\n",
      "MIME-Version: 1.0\n",
      "Content-Transfer-Encoding: 7bit\n",
      "Subject: This is a test message\n",
      "From: rick@arborian.com\n",
      "To: rick446@usa.net\n",
      "\n",
      "This is a text message\n"
     ]
    }
   ],
   "source": [
    "msg = MIMEText('This is a text message')\n",
    "msg['Subject'] = 'This is a test message'\n",
    "msg['From'] = addr_from\n",
    "msg['To'] = addr_to\n",
    "print(msg.as_string())"
   ]
  },
  {
   "cell_type": "code",
   "execution_count": 6,
   "metadata": {},
   "outputs": [
    {
     "name": "stderr",
     "output_type": "stream",
     "text": [
      "send: 'mail FROM:<rick@arborian.com>\\r\\n'\n",
      "reply: b'250 OK\\r\\n'\n",
      "reply: retcode (250); Msg: b'OK'\n",
      "send: 'rcpt TO:<rick446@usa.net>\\r\\n'\n",
      "reply: b'250 OK\\r\\n'\n",
      "reply: retcode (250); Msg: b'OK'\n",
      "send: 'data\\r\\n'\n",
      "reply: b'354 End data with <CR><LF>.<CR><LF>\\r\\n'\n",
      "reply: retcode (354); Msg: b'End data with <CR><LF>.<CR><LF>'\n",
      "data: (354, b'End data with <CR><LF>.<CR><LF>')\n",
      "send: b'Content-Type: text/plain; charset=\"us-ascii\"\\r\\nMIME-Version: 1.0\\r\\nContent-Transfer-Encoding: 7bit\\r\\nSubject: This is a test message\\r\\nFrom: rick@arborian.com\\r\\nTo: rick446@usa.net\\r\\n\\r\\nThis is a text message\\r\\n.\\r\\n'\n",
      "reply: b'250 OK\\r\\n'\n",
      "reply: retcode (250); Msg: b'OK'\n",
      "data: (250, b'OK')\n"
     ]
    },
    {
     "data": {
      "text/plain": [
       "{}"
      ]
     },
     "execution_count": 6,
     "metadata": {},
     "output_type": "execute_result"
    }
   ],
   "source": [
    "conn.sendmail(addr_from, [addr_to], msg.as_string())"
   ]
  },
  {
   "cell_type": "code",
   "execution_count": 8,
   "metadata": {},
   "outputs": [],
   "source": [
    "from email.mime.multipart import MIMEMultipart"
   ]
  },
  {
   "cell_type": "code",
   "execution_count": 9,
   "metadata": {},
   "outputs": [
    {
     "name": "stdout",
     "output_type": "stream",
     "text": [
      "Content-Type: multipart/mixed; boundary=\"===============5420140365372035895==\"\n",
      "MIME-Version: 1.0\n",
      "Subject: This is a test message\n",
      "From: rick@arborian.com\n",
      "To: rick446@usa.net\n",
      "\n",
      "--===============5420140365372035895==\n",
      "Content-Type: text/plain; charset=\"us-ascii\"\n",
      "MIME-Version: 1.0\n",
      "Content-Transfer-Encoding: 7bit\n",
      "\n",
      "This is a text message\n",
      "--===============5420140365372035895==\n",
      "Content-Type: text/html; charset=\"us-ascii\"\n",
      "MIME-Version: 1.0\n",
      "Content-Transfer-Encoding: 7bit\n",
      "\n",
      "<h1>This is an HTML message</h1>\n",
      "--===============5420140365372035895==--\n",
      "\n"
     ]
    }
   ],
   "source": [
    "msg = MIMEMultipart()\n",
    "msg['Subject'] = 'This is a test message'\n",
    "msg['From'] = addr_from\n",
    "msg['To'] = addr_to\n",
    "text_part = MIMEText('This is a text message', 'plain')\n",
    "html_part = MIMEText('<h1>This is an HTML message</h1>', 'html')\n",
    "msg.attach(text_part)\n",
    "msg.attach(html_part)\n",
    "print(msg.as_string())"
   ]
  },
  {
   "cell_type": "code",
   "execution_count": 11,
   "metadata": {
    "scrolled": false
   },
   "outputs": [
    {
     "name": "stderr",
     "output_type": "stream",
     "text": [
      "send: 'mail FROM:<rick@arborian.com>\\r\\n'\n",
      "reply: b'250 OK\\r\\n'\n",
      "reply: retcode (250); Msg: b'OK'\n",
      "send: 'rcpt TO:<rick446@usa.net>\\r\\n'\n",
      "reply: b'250 OK\\r\\n'\n",
      "reply: retcode (250); Msg: b'OK'\n",
      "send: 'data\\r\\n'\n",
      "reply: b'354 End data with <CR><LF>.<CR><LF>\\r\\n'\n",
      "reply: retcode (354); Msg: b'End data with <CR><LF>.<CR><LF>'\n",
      "data: (354, b'End data with <CR><LF>.<CR><LF>')\n",
      "send: b'Content-Type: multipart/mixed; boundary=\"===============5420140365372035895==\"\\r\\nMIME-Version: 1.0\\r\\nSubject: This is a test message\\r\\nFrom: rick@arborian.com\\r\\nTo: rick446@usa.net\\r\\n\\r\\n--===============5420140365372035895==\\r\\nContent-Type: text/plain; charset=\"us-ascii\"\\r\\nMIME-Version: 1.0\\r\\nContent-Transfer-Encoding: 7bit\\r\\n\\r\\nThis is a text message\\r\\n--===============5420140365372035895==\\r\\nContent-Type: text/html; charset=\"us-ascii\"\\r\\nMIME-Version: 1.0\\r\\nContent-Transfer-Encoding: 7bit\\r\\n\\r\\n<h1>This is an HTML message</h1>\\r\\n--===============5420140365372035895==--\\r\\n.\\r\\n'\n",
      "reply: b'250 OK\\r\\n'\n",
      "reply: retcode (250); Msg: b'OK'\n",
      "data: (250, b'OK')\n"
     ]
    },
    {
     "data": {
      "text/plain": [
       "{}"
      ]
     },
     "execution_count": 11,
     "metadata": {},
     "output_type": "execute_result"
    }
   ],
   "source": [
    "conn.sendmail(addr_from, [addr_to], msg.as_string())"
   ]
  },
  {
   "cell_type": "code",
   "execution_count": 12,
   "metadata": {},
   "outputs": [],
   "source": [
    "from email.parser import Parser"
   ]
  },
  {
   "cell_type": "code",
   "execution_count": 13,
   "metadata": {},
   "outputs": [],
   "source": [
    "parsed = Parser().parsestr(msg.as_string())"
   ]
  },
  {
   "cell_type": "code",
   "execution_count": 14,
   "metadata": {},
   "outputs": [
    {
     "data": {
      "text/plain": [
       "<email.message.Message at 0x7f7f1fa72730>"
      ]
     },
     "execution_count": 14,
     "metadata": {},
     "output_type": "execute_result"
    }
   ],
   "source": [
    "parsed"
   ]
  },
  {
   "cell_type": "code",
   "execution_count": 15,
   "metadata": {},
   "outputs": [
    {
     "data": {
      "text/plain": [
       "{'Content-Type': 'multipart/mixed; boundary=\"===============5420140365372035895==\"',\n",
       " 'MIME-Version': '1.0',\n",
       " 'Subject': 'This is a test message',\n",
       " 'From': 'rick@arborian.com',\n",
       " 'To': 'rick446@usa.net'}"
      ]
     },
     "execution_count": 15,
     "metadata": {},
     "output_type": "execute_result"
    }
   ],
   "source": [
    "headers = dict(parsed)\n",
    "headers"
   ]
  },
  {
   "cell_type": "code",
   "execution_count": 16,
   "metadata": {
    "scrolled": false
   },
   "outputs": [
    {
     "name": "stdout",
     "output_type": "stream",
     "text": [
      ">>> Begin part (class = <class 'email.message.Message'>) <<<\n",
      "{'Content-Type': 'text/plain; charset=\"us-ascii\"', 'MIME-Version': '1.0', 'Content-Transfer-Encoding': '7bit'}\n",
      "Content-Type: text/plain; charset=\"us-ascii\"\n",
      "MIME-Version: 1.0\n",
      "Content-Transfer-Encoding: 7bit\n",
      "\n",
      "This is a text message\n",
      ">>> End part <<<\n",
      "\n",
      ">>> Begin part (class = <class 'email.message.Message'>) <<<\n",
      "{'Content-Type': 'text/html; charset=\"us-ascii\"', 'MIME-Version': '1.0', 'Content-Transfer-Encoding': '7bit'}\n",
      "Content-Type: text/html; charset=\"us-ascii\"\n",
      "MIME-Version: 1.0\n",
      "Content-Transfer-Encoding: 7bit\n",
      "\n",
      "<h1>This is an HTML message</h1>\n",
      ">>> End part <<<\n",
      "\n"
     ]
    }
   ],
   "source": [
    "for part in parsed.walk():\n",
    "    if part.is_multipart():\n",
    "        continue\n",
    "    print('>>> Begin part (class = {}) <<<'.format(part.__class__))\n",
    "    print(dict(part))\n",
    "    print(part)\n",
    "    print('>>> End part <<<')\n",
    "    print('')"
   ]
  },
  {
   "cell_type": "code",
   "execution_count": 17,
   "metadata": {},
   "outputs": [
    {
     "data": {
      "text/plain": [
       "'<h1>This is an HTML message</h1>'"
      ]
     },
     "execution_count": 17,
     "metadata": {},
     "output_type": "execute_result"
    }
   ],
   "source": [
    "part.get_payload()"
   ]
  },
  {
   "cell_type": "markdown",
   "metadata": {},
   "source": [
    "## Accessing email on the server using `imaplib`"
   ]
  },
  {
   "cell_type": "code",
   "execution_count": 20,
   "metadata": {},
   "outputs": [
    {
     "data": {
      "text/plain": [
       "('OK', [b'class@arborian.com authenticated (Success)'])"
      ]
     },
     "execution_count": 20,
     "metadata": {},
     "output_type": "execute_result"
    }
   ],
   "source": [
    "import imaplib\n",
    "server = imaplib.IMAP4_SSL('imap.gmail.com', 993)\n",
    "server.login('class@arborian.com', 'class-test1')"
   ]
  },
  {
   "cell_type": "code",
   "execution_count": 21,
   "metadata": {},
   "outputs": [
    {
     "name": "stdout",
     "output_type": "stream",
     "text": [
      "Message b'1'\n",
      "{'MIME-Version': '1.0', 'x-no-auto-attachment': '1', 'Received': 'by 2002:a05:651c:235:0:0:0:0; Thu, 21 May 2020 15:14:57 -0700 (PDT)', 'Date': 'Thu, 21 May 2020 15:14:57 -0700', 'Message-ID': '<CAArXQHG3_OtZwKvjuBysFvxxx5Xmf4=ZSdur_wnq4OhoN42YDA@mail.gmail.com>', 'Subject': 'Get the official Gmail app', 'From': 'Gmail Team <mail-noreply@google.com>', 'To': 'Class Account <class@arborian.com>', 'Content-Type': 'multipart/alternative; boundary=\"000000000000cb37c305a62fd7ea\"'}\n",
      "\n",
      "Message b'2'\n",
      "{'MIME-Version': '1.0', 'x-no-auto-attachment': '1', 'Received': 'by 2002:a05:651c:235:0:0:0:0; Thu, 21 May 2020 15:14:57 -0700 (PDT)', 'Date': 'Thu, 21 May 2020 15:14:57 -0700', 'Message-ID': '<CAArXQHGAOt+Mq-Q=8Est6TcjkLg0WXO1uVJB34+qNNRBVYY1wA@mail.gmail.com>', 'Subject': 'Tips for using your new inbox', 'From': 'Gmail Team <mail-noreply@google.com>', 'To': 'Class Account <class@arborian.com>', 'Content-Type': 'multipart/alternative; boundary=\"000000000000cff9ba05a62fd760\"'}\n",
      "\n",
      "Message b'3'\n",
      "{'Delivered-To': 'class@arborian.com', 'Received': 'by 2002:a2e:5049:0:0:0:0:0 with SMTP id v9csp1674362ljd;\\r\\n        Thu, 21 May 2020 15:16:22 -0700 (PDT)', 'X-Received': 'by 2002:a67:8bc5:: with SMTP id n188mr8841865vsd.78.1590099382357;\\r\\n        Thu, 21 May 2020 15:16:22 -0700 (PDT)', 'ARC-Seal': 'i=1; a=rsa-sha256; t=1590099382; cv=none;\\r\\n        d=google.com; s=arc-20160816;\\r\\n        b=x7EsyT6v+OHrRYUZBZf99D2RJdP3STt4zE52iAnNOeyWBJvE/x/YVpf99en6AlHN21\\r\\n         CDdzpipGpjT+JCnBZv4q1hEyXN7yzkL4WUIagczGxY6vkiQKX6v66haWn9VBUcfYUIBq\\r\\n         7H47wPmqF4BLsxsWIrdM6Rb9X8e4h5lGd5R599IdK11R5PlFsLxpoZxpcMi0j8Bc1UTY\\r\\n         1s05CcPWKzMH5wPgDx2ijKI2eA5CWFtcID0ZRxt3ZLzx9JosTe5k1MpciRRvCRPwBms3\\r\\n         rWTclz3oyFdIpZQHx1NGRF2azra5GzK3WKJBJjrG+SfqN9xOsuu55JgVwOmMN0ULW+L2\\r\\n         Ijow==', 'ARC-Message-Signature': 'i=1; a=rsa-sha256; c=relaxed/relaxed; d=google.com; s=arc-20160816;\\r\\n        h=to:from:subject:message-id:feedback-id:date:mime-version\\r\\n         :dkim-signature;\\r\\n        bh=CRSgyEN4IlK0RuOT6Knv0kwtoI/xGEy83/oNjTErfLc=;\\r\\n        b=wwBVTnHXysVYK3rQ+QT/S7AWM5t0/FPXhB0sr3GRqkBcBpsHfHiYIj43U7HwK0UprK\\r\\n         +aY0nLiFfpO90MYm0J3g0qTdg1zb4nfXScJToEiz/d4+V7UtERI7+VuG8MiUWBJZiOi4\\r\\n         35WREHsAuFjmCPP4u2W2DHNGydW/4VUp0MhQlH4XgWO+gca8ari2zhymN/GS92id3uZ3\\r\\n         thb8Sh2C8cN3LTZdVa396Rl5kEguOR1mWjF29v7vWxO+9gTu46PdmcsmhuI87UiZ5S6e\\r\\n         O48UcTUuMg/tY8ikZzLgoHDr+W3ttW7URekuKXuQ9FOg7fLXfSgqiO5rx0s47mttQI8L\\r\\n         yLzQ==', 'ARC-Authentication-Results': 'i=1; mx.google.com;\\r\\n       dkim=pass header.i=@accounts.google.com header.s=20161025 header.b=v2V1KM+Y;\\r\\n       spf=pass (google.com: domain of 3tf3gxggtbcg12-5s3zcoqq28176.u22uzs.q20qzo66o5p25wo1.q20@gaia.bounces.google.com designates 209.85.220.73 as permitted sender) smtp.mailfrom=3tf3GXggTBcg12-5s3zCoqq28176.u22uzs.q20qzo66o5p25wo1.q20@gaia.bounces.google.com;\\r\\n       dmarc=pass (p=REJECT sp=REJECT dis=NONE) header.from=accounts.google.com', 'Return-Path': '<3tf3GXggTBcg12-5s3zCoqq28176.u22uzs.q20qzo66o5p25wo1.q20@gaia.bounces.google.com>', 'Received-SPF': 'pass (google.com: domain of 3tf3gxggtbcg12-5s3zcoqq28176.u22uzs.q20qzo66o5p25wo1.q20@gaia.bounces.google.com designates 209.85.220.73 as permitted sender) client-ip=209.85.220.73;', 'Authentication-Results': 'mx.google.com;\\r\\n       dkim=pass header.i=@accounts.google.com header.s=20161025 header.b=v2V1KM+Y;\\r\\n       spf=pass (google.com: domain of 3tf3gxggtbcg12-5s3zcoqq28176.u22uzs.q20qzo66o5p25wo1.q20@gaia.bounces.google.com designates 209.85.220.73 as permitted sender) smtp.mailfrom=3tf3GXggTBcg12-5s3zCoqq28176.u22uzs.q20qzo66o5p25wo1.q20@gaia.bounces.google.com;\\r\\n       dmarc=pass (p=REJECT sp=REJECT dis=NONE) header.from=accounts.google.com', 'DKIM-Signature': 'v=1; a=rsa-sha256; c=relaxed/relaxed;\\r\\n        d=accounts.google.com; s=20161025;\\r\\n        h=mime-version:date:feedback-id:message-id:subject:from:to;\\r\\n        bh=CRSgyEN4IlK0RuOT6Knv0kwtoI/xGEy83/oNjTErfLc=;\\r\\n        b=v2V1KM+YFXA5hjO99+FYIiyDr2fRBJNMw7RauZ4EuRWnW7LQ1frkhUxJZvi4/sGGIy\\r\\n         ad+PaWqGjISm3VXtMDLgP9NHQyXSDMcsIEJMl/6oOT256UME97Bgh22sg+0XpOr16fvX\\r\\n         FeO50RtwzkcjouGlHc6HS5UBJo4SsCeC6SPP6q8iDJJzcg7fHb+uuS7US9Xx43WgXOcT\\r\\n         z6td8HFoqEAf6HeHlDk8Ojs96DVY9D6OEhtY4Efwhh+noiJNv8F27JZSXRwZdYdHFTJY\\r\\n         yV3U+NJpxGQMaQTpMh6orNNx+sfSbAZeBGCcmMP0CWyBTAX7yGrfcMYu155s6QrDgixr\\r\\n         h40Q==', 'X-Google-DKIM-Signature': 'v=1; a=rsa-sha256; c=relaxed/relaxed;\\r\\n        d=1e100.net; s=20161025;\\r\\n        h=x-gm-message-state:mime-version:date:feedback-id:message-id:subject\\r\\n         :from:to;\\r\\n        bh=CRSgyEN4IlK0RuOT6Knv0kwtoI/xGEy83/oNjTErfLc=;\\r\\n        b=tR2yrJ3UbWJwbt7XCLz2a0kjTrrnvVaoDi5cOSGs1B+Lk0On8nsDdkFPsZQ5vBhVpT\\r\\n         FAs0sC8NKKWa5j3nqxyGtsgoGICzefdNM713fjLyTctb9+orTQjEI/0ww/YM8xZiCdQC\\r\\n         CZ1KItzHRhcSzra0p5bIofUoP4S7Zat2WwYJ8w4HhAxrHSAmM3VB7+4nms3YlaEPLuFz\\r\\n         m83WIIjCCRvgjO2+WnOqXjPH+Gh7KHKchbmD/n2sMpYuVQmuHKwHEad6LCWSQvAxd40B\\r\\n         UKgDaxglLD9ggKW2jzQUf2SSX2zG9Ap/VVnJ87sSeU3C3/F4TjWQqsJ+SsPLFUg9xlFk\\r\\n         5t+Q==', 'X-Gm-Message-State': 'AOAM532rR0tVr1jZATnGsoKWn3IDLZzCnvJ+jUgrZZml8oWyiWlmw3Os\\r\\n\\te2TM49jE45umhXdTUTmIH8whP/OL+tPO', 'X-Google-Smtp-Source': 'ABdhPJzX5q02tqJosOyFTEcxeIb1jakwxoN8vk9VUmHGOTM9UCenhcrY+6MqbcMQtArpIj8Ll25X/QZR4iYHe+S1OSIQ6g==', 'MIME-Version': '1.0', 'Date': 'Thu, 21 May 2020 22:16:20 GMT', 'X-Account-Notification-Type': '27', 'Feedback-ID': '27:account-notifier', 'X-Notifications': '188b8113ac400000', 'Message-ID': '<wnehksHF3rr7VVhKZ9SCFA.0@notifications.google.com>', 'Subject': 'Critical security alert', 'From': 'Google <no-reply@accounts.google.com>', 'To': 'class@arborian.com', 'Content-Type': 'multipart/alternative; boundary=\"000000000000d1287a05a62fdc14\"'}\n",
      "\n",
      "Message b'4'\n",
      "{'Delivered-To': 'class@arborian.com', 'Received': 'by 2002:a02:c88e:0:0:0:0:0 with SMTP id m14csp29495jao;\\r\\n        Tue, 30 Jun 2020 15:45:09 -0700 (PDT)', 'X-Received': 'by 2002:a17:90a:4d87:: with SMTP id m7mr23153543pjh.26.1593557109359;\\r\\n        Tue, 30 Jun 2020 15:45:09 -0700 (PDT)', 'ARC-Seal': 'i=1; a=rsa-sha256; t=1593557109; cv=none;\\r\\n        d=google.com; s=arc-20160816;\\r\\n        b=DoBZOIaWc0uWotveCwjf2VBe84+81JcNchDOuvUzt/7jiejal7nb/AEwoYvpUmHMmi\\r\\n         LO7xgY224gDE8NZbPC/vh/2pD6d3i9O434jC0Z+S44kV3NrME3l6ZtyAjXa2z+PBYxQH\\r\\n         K3ZiBGmJDkH63k3vVgqOjTBF895WJCJ2pPZN35F4gC8lccv6pk76arm+Votpv19WOaa4\\r\\n         yCEbhROzGJS7uXYA6y56lCyuyo2EFrRy8ilp5VVVsKMNxUriGz7+GnU+TGhNYjY9g0NK\\r\\n         jiR1OmuafpAn8i31UJIfeo6/prbNzP/VNSB50Ph9y3iYxhLlHdUBzgAmUo7VOETx/f9o\\r\\n         Xs7w==', 'ARC-Message-Signature': 'i=1; a=rsa-sha256; c=relaxed/relaxed; d=google.com; s=arc-20160816;\\r\\n        h=to:from:subject:message-id:feedback-id:date:mime-version\\r\\n         :dkim-signature;\\r\\n        bh=4PoHEm3286ZcLs/Yy1lK4Nu7elqryFquaq25FGWXSJc=;\\r\\n        b=h64Bku66jBfO5BPF/iAc9EQ4Df2g079c419pEYlmUAUHvncxHyvkHENID3lBE15Bbu\\r\\n         GvRrx/rgpVa7/jr39gSu6VFb8tqpC25RiVFtczsHG9F3btR+yjEAp4JxWTOWNQivS2+b\\r\\n         eiZD53rr0cgH2s00DqEA83y+wpGcZhcnUHlyeZspoDjBk1pJGoxhsnxrZYS2+InyUOJT\\r\\n         TO67XYkQtGufFI/HmkJC7p7IUvCS8uSXaGtuR9AMgR5YG9jLwaszUUTQGDZdLtRfKWTw\\r\\n         rsCGWS0phHVCRkOzJ+BvVNRTuDnOE2vT7RRzFsqHKSyfOX/n6NHFi0e7nNOmCjAazdCg\\r\\n         TWdQ==', 'ARC-Authentication-Results': 'i=1; mx.google.com;\\r\\n       dkim=pass header.i=@accounts.google.com header.s=20161025 header.b=E8xJgGWd;\\r\\n       spf=pass (google.com: domain of 3dmd7xggtbeeqr-uhsobdffrxqwv.jrrjoh.frpfodvvdueruldq.frp@gaia.bounces.google.com designates 209.85.220.73 as permitted sender) smtp.mailfrom=3dMD7XggTBeEQR-UHSObDFFRXQWV.JRRJOH.FRPFODVVDUERULDQ.FRP@gaia.bounces.google.com;\\r\\n       dmarc=pass (p=REJECT sp=REJECT dis=NONE) header.from=accounts.google.com', 'Return-Path': '<3dMD7XggTBeEQR-UHSObDFFRXQWV.JRRJOH.FRPFODVVDUERULDQ.FRP@gaia.bounces.google.com>', 'Received-SPF': 'pass (google.com: domain of 3dmd7xggtbeeqr-uhsobdffrxqwv.jrrjoh.frpfodvvdueruldq.frp@gaia.bounces.google.com designates 209.85.220.73 as permitted sender) client-ip=209.85.220.73;', 'Authentication-Results': 'mx.google.com;\\r\\n       dkim=pass header.i=@accounts.google.com header.s=20161025 header.b=E8xJgGWd;\\r\\n       spf=pass (google.com: domain of 3dmd7xggtbeeqr-uhsobdffrxqwv.jrrjoh.frpfodvvdueruldq.frp@gaia.bounces.google.com designates 209.85.220.73 as permitted sender) smtp.mailfrom=3dMD7XggTBeEQR-UHSObDFFRXQWV.JRRJOH.FRPFODVVDUERULDQ.FRP@gaia.bounces.google.com;\\r\\n       dmarc=pass (p=REJECT sp=REJECT dis=NONE) header.from=accounts.google.com', 'DKIM-Signature': 'v=1; a=rsa-sha256; c=relaxed/relaxed;\\r\\n        d=accounts.google.com; s=20161025;\\r\\n        h=mime-version:date:feedback-id:message-id:subject:from:to;\\r\\n        bh=4PoHEm3286ZcLs/Yy1lK4Nu7elqryFquaq25FGWXSJc=;\\r\\n        b=E8xJgGWdI2wdfbwQR79OCdp/PNwBM1dlqn6U42mTknqr5+t3IyidSs4xEvPBd2nmVM\\r\\n         Zb1qxdrt/4tOKZbkWzQf/vAb0UwDEjKKyoMuV/ELYEppYq4Mon/QPzt1XhsLgAptUao9\\r\\n         S+aLupdpKe5engpaXObFwB2fhamh2BvRAG4TPC9C3elbjVz3MyLOevlUZZwBK3qHgRn9\\r\\n         6svX0uytSR/T6tHCDzds3GjCNV8efMeYGqr30rpZzR281zO0Qo/lwzMNVFxWlCiKaJf8\\r\\n         PfDlD+/RMLPQRZGxRjqPiqe4hO1L1U7McGEEdW/xPN37JFaWJM1CJV9oyd1yr/nOohMW\\r\\n         QtyQ==', 'X-Google-DKIM-Signature': 'v=1; a=rsa-sha256; c=relaxed/relaxed;\\r\\n        d=1e100.net; s=20161025;\\r\\n        h=x-gm-message-state:mime-version:date:feedback-id:message-id:subject\\r\\n         :from:to;\\r\\n        bh=4PoHEm3286ZcLs/Yy1lK4Nu7elqryFquaq25FGWXSJc=;\\r\\n        b=jrbKmjxqR8szPIcY09lBINckDU+43YK5d44DdJw+th34PryUqjJfLZMoPZ7g1teWyI\\r\\n         fXWMDOalOQimKrG6/IQOu2HchcgWX/+oWyt6BIFn46AEXBymFVUJ/oa4LHaLMv1wvYpN\\r\\n         W2+KJaAD43kuVa6UBKcIBvmbfc3JCBMRz33C+bp5lAHCe6JGjh03nFHCSuDAEpaB/9Uw\\r\\n         ZI48KnsYOeUU4tTYY0MUJP11EHf0AMl3DZqlOV+1rez5TuOZ4vTvgQcScyKC8h0A3dIv\\r\\n         YxMXL24re+1RnYytk7oAx3N6IKih7F6x4HZYHnmJpO61Zy5GVluIdz6Yd4ijVIGT1kuU\\r\\n         MW/g==', 'X-Gm-Message-State': 'AOAM5325JzdOLWpgYSlqLKgP3HPXNHW6wIbp8S95koBt/3vb6fJ5eORU\\r\\n\\tk89nnlnlNjd+mWOlqZWwCt/zQoTmV+KV', 'X-Google-Smtp-Source': 'ABdhPJzmYHQUINt+y7pbsfiByMRXxPUOpe6eXYwwbQ9kf49uDPLBuQTtZ0Ar0I7EHaJI+QdFgGvAiyZSpwdcNMApjAS41g==', 'MIME-Version': '1.0', 'Date': 'Tue, 30 Jun 2020 22:45:07 GMT', 'X-Account-Notification-Type': '27', 'Feedback-ID': '27:account-notifier', 'X-Notifications': '88b53dbf26400000', 'Message-ID': '<fxQIip7vKGeGmty4_IokEA.0@notifications.google.com>', 'Subject': 'Critical security alert', 'From': 'Google <no-reply@accounts.google.com>', 'To': 'class@arborian.com', 'Content-Type': 'multipart/alternative; boundary=\"00000000000067fc2605a954ed4c\"'}\n",
      "\n",
      "Message b'5'\n",
      "{'Delivered-To': 'class@arborian.com', 'Received': 'by 2002:a02:c88e:0:0:0:0:0 with SMTP id m14csp55349jao;\\r\\n        Tue, 30 Jun 2020 16:14:17 -0700 (PDT)', 'X-Received': 'by 2002:ac8:3528:: with SMTP id y37mr23196109qtb.308.1593558443024;\\r\\n        Tue, 30 Jun 2020 16:07:23 -0700 (PDT)', 'ARC-Seal': 'i=1; a=rsa-sha256; t=1593558443; cv=none;\\r\\n        d=google.com; s=arc-20160816;\\r\\n        b=rKdUVoUKXAtcDBNmD+QXzmZtlbaHu5DnXFKnYxHhlXGL2lNy5orxVpyPuZ747OqiBC\\r\\n         C5CtotFJN6TRqDNuuXQAD4Wi8JdLAHPc2ee+hfvcOotJeI88P3SJeNPmBV6owrRxHpxk\\r\\n         oPjLMHbUfbZEGeG6VtF97pBSO8Sy7tbWuyZqaItLwUxaLPoo753GzMYz6D9gTNdYz756\\r\\n         cAz69JjjENdNoPPTBJBnmbcmR9TT/QbvHiL8UyLp2WLs5duImwnLagxx9/bCQrYiZ5H/\\r\\n         BBh47vN8QzqftjngOOihwoFr2CfuP+6UWj9NTp2sBnmxKrCz0b7bw69ZCt3Y7hd8bqri\\r\\n         QkcQ==', 'ARC-Message-Signature': 'i=1; a=rsa-sha256; c=relaxed/relaxed; d=google.com; s=arc-20160816;\\r\\n        h=to:from:subject:message-id:feedback-id:date:mime-version\\r\\n         :dkim-signature;\\r\\n        bh=wwHe7HoL3K3SMbIO/UCDk1ymEiJHF7Npik0zlDCB2J4=;\\r\\n        b=HVRv+1FopvJNelpWStMXGtDDDTZADb/4XCanRAJp/cFuQz7SELQj3TUca4B2ZO+i4J\\r\\n         fsFLe89bjQVJQIj4k6gORD3M5z1qKT3Awwi4zKYYGNJ1WAEtbba1BFWdCQ37sVUPIi1p\\r\\n         mvP8GS1sFFw6uwD25UmJzmHil3fVWbG8YoasllGbpmhE/K9sOSKcD9O3VDON6qntAQt5\\r\\n         iiSwWGzfm1gWPEdHT545Vr0PSEQBJb97//ttnAJqU8ArvzNvIQ2vmV3ioz1uduvulxgy\\r\\n         hJD//yyUefHkdHOPPayUk7X0s+HqJPQjOwxONTGxSldwl0++zV41Ci7ctEruZNzT8eNy\\r\\n         1gcQ==', 'ARC-Authentication-Results': 'i=1; mx.google.com;\\r\\n       dkim=pass header.i=@accounts.google.com header.s=20161025 header.b=mdUnAmYC;\\r\\n       spf=pass (google.com: domain of 3qsx7xggtbsmmn-qdokx9bbntmsr.fnnfkd.bnlbk9rr9qanqh9m.bnl@gaia.bounces.google.com designates 209.85.220.73 as permitted sender) smtp.mailfrom=3qsX7XggTBSMMN-QDOKX9BBNTMSR.FNNFKD.BNLBK9RR9QANQH9M.BNL@gaia.bounces.google.com;\\r\\n       dmarc=pass (p=REJECT sp=REJECT dis=NONE) header.from=accounts.google.com', 'Return-Path': '<3qsX7XggTBSMMN-QDOKX9BBNTMSR.FNNFKD.BNLBK9RR9QANQH9M.BNL@gaia.bounces.google.com>', 'Received-SPF': 'pass (google.com: domain of 3qsx7xggtbsmmn-qdokx9bbntmsr.fnnfkd.bnlbk9rr9qanqh9m.bnl@gaia.bounces.google.com designates 209.85.220.73 as permitted sender) client-ip=209.85.220.73;', 'Authentication-Results': 'mx.google.com;\\r\\n       dkim=pass header.i=@accounts.google.com header.s=20161025 header.b=mdUnAmYC;\\r\\n       spf=pass (google.com: domain of 3qsx7xggtbsmmn-qdokx9bbntmsr.fnnfkd.bnlbk9rr9qanqh9m.bnl@gaia.bounces.google.com designates 209.85.220.73 as permitted sender) smtp.mailfrom=3qsX7XggTBSMMN-QDOKX9BBNTMSR.FNNFKD.BNLBK9RR9QANQH9M.BNL@gaia.bounces.google.com;\\r\\n       dmarc=pass (p=REJECT sp=REJECT dis=NONE) header.from=accounts.google.com', 'DKIM-Signature': 'v=1; a=rsa-sha256; c=relaxed/relaxed;\\r\\n        d=accounts.google.com; s=20161025;\\r\\n        h=mime-version:date:feedback-id:message-id:subject:from:to;\\r\\n        bh=wwHe7HoL3K3SMbIO/UCDk1ymEiJHF7Npik0zlDCB2J4=;\\r\\n        b=mdUnAmYCZL2oVZ9eYRFA2PlxNvCRMmjNVPqiPktCM+KFAtgBgD0tCSxfV5nMIL5AeW\\r\\n         DI/FIfytGbWPDsMifOYxgE64VHd3MlxsPwD0BYtBZZHur9AUwE6VFzFyyuh3u+dQn/Vl\\r\\n         8GYTADNV96V/MpSapIpCrXnsJovz5HfVoqQIWH9cmGwVGNZaE8Cdr64duH2CODaMcypi\\r\\n         DFw8WImx/DFML6uGunAHrEXpuV8+YxhjLQcwVnvVK6l8FyiASNII3qFHuHW0+bjGTcIz\\r\\n         P9Iu+0AUmYmgZBnzeGNgXg7rfny0xVHF8sodzYW/0jRE9CXItRCPUMzO89HbMkdjjwqF\\r\\n         yxrg==', 'X-Google-DKIM-Signature': 'v=1; a=rsa-sha256; c=relaxed/relaxed;\\r\\n        d=1e100.net; s=20161025;\\r\\n        h=x-gm-message-state:mime-version:date:feedback-id:message-id:subject\\r\\n         :from:to;\\r\\n        bh=wwHe7HoL3K3SMbIO/UCDk1ymEiJHF7Npik0zlDCB2J4=;\\r\\n        b=f1rf/7uZ0Xaztzmm87U8Yj/k8gwoy1ExTsK8uYFG8KOkmw4G/eNkCo3UfqntFJqgd+\\r\\n         Ib+JH4dTtXrxe9DWn+As0UPwrbvmHuAWxKlRhKUnmhR+Gc7rb7b3L6KBbAwVlKCzjmOe\\r\\n         FEWczzVKxjhou9yhvJyseEbd9ll/W0fxnzkFAZhtYPNEtOM/a3dA2/2vYPobBhl0lf7N\\r\\n         XSx8A4Yfu2cAnytCF3FUscFt002YLRxMKB/esl6fmwb7yGkmtNkA+cIKufPu+Ten6bwj\\r\\n         Gh9ZYbUUFKSpC1xyiCzMoXu9BZ6turKR/xq2ZmFsGtOuDbW6O5Xz/VNX9ntltzPB3SrN\\r\\n         94fQ==', 'X-Gm-Message-State': 'AOAM5319EUg/YsPGJ2vjnaU+7D7hwNuddSlCLgmOcNYuoVufuHALlF9z\\r\\n\\tFohckotjbvYgGmPwrGVGJdSGIaRnmJ7N', 'X-Google-Smtp-Source': 'ABdhPJyEh0UQqKJ9h1QPBw5K1F+m6oS7v5Y9jxgj0qX2YuuYoR71eJfzZ2bExmAydyAJd9YBx0e+vCO12DkWFBfW2/r1Tw==', 'MIME-Version': '1.0', 'Date': 'Tue, 30 Jun 2020 23:07:21 GMT', 'X-Account-Notification-Type': '31-anexp#hsc-control_b', 'Feedback-ID': '31-anexp#hsc-control_b:account-notifier', 'X-Notifications': '2a2dad8d2a400000', 'Message-ID': '<GSa0JoPh8UKg11MZmvhrpQ.0@notifications.google.com>', 'Subject': 'Security alert', 'From': 'Google <no-reply@accounts.google.com>', 'To': 'class@arborian.com', 'Content-Type': 'multipart/alternative; boundary=\"000000000000e587c405a9553c9a\"'}\n",
      "\n"
     ]
    },
    {
     "name": "stdout",
     "output_type": "stream",
     "text": [
      "Message b'6'\n",
      "{'Delivered-To': 'class@arborian.com', 'Received': 'by 2002:a05:6638:1b0:0:0:0:0 with SMTP id b16csp472832jaq;\\r\\n        Wed, 16 Dec 2020 10:15:08 -0800 (PST)', 'X-Received': 'by 2002:a67:ef03:: with SMTP id j3mr32738626vsr.26.1608142507920;\\r\\n        Wed, 16 Dec 2020 10:15:07 -0800 (PST)', 'ARC-Seal': 'i=1; a=rsa-sha256; t=1608142507; cv=none;\\r\\n        d=google.com; s=arc-20160816;\\r\\n        b=ZqkAaZD+OWY84sSmD7oHPDISt1aa39NblthoFtpJsB72+tqEibPuZmY0KqhvXTNAEJ\\r\\n         Yrkep7xv6QhPqTo24Fjt3TUSz8i85p9Wd3E3o5LadEW+NnzGQNS2Znh8T4zhCAR6HCqT\\r\\n         NA5snF10FT/onE7lNg1U8myPC6UTSFXahPNwEtrS4cEghUI1hWa2wku7PJvECEwmv5dX\\r\\n         pOk1pT6OLqf24nvRrCJamVyoIqiM/+t3Bf6bSjG4YSBZZGAbh9XfivHo8gnkCpUQe0ld\\r\\n         XAYMB/KFQ0uSQPwtWJqa+4Bz9i/Mr1NgxaAIT1Hgm7NsiRQhccx+608egF0xKh8iPxfo\\r\\n         Mmbw==', 'ARC-Message-Signature': 'i=1; a=rsa-sha256; c=relaxed/relaxed; d=google.com; s=arc-20160816;\\r\\n        h=to:from:subject:message-id:feedback-id:date:mime-version\\r\\n         :dkim-signature;\\r\\n        bh=p2DHhz6viWidtlyQJQ1UmEwnarhUfr0oyIGHQ7QamF0=;\\r\\n        b=X3EeKyeMgugKOhi34YxT1l42f4790XztmOEHeSXEZiU6pdzeodSmntmAyXJqJbtLb0\\r\\n         SCsuTDyg5CcZwUmqaiYDUjt7JCH2MUSYntrVknWnuTJez45WtVUKNAkR3AyWhPJ4amr3\\r\\n         IwTgZrQI/7scdTI/U2y5uzfV2ncntDr/06wFCS7nEB6zBqQVrROWjHA1zeahZ9Lm/J0s\\r\\n         gBeQNjEztSFEP3pGeqIh8p848w3yOwltvYt27ocr5rR9OKfYHJk6w4ffg/TJC8upnBb6\\r\\n         gTY1KvnO/o2/vVWbCLzE8ErleciRaaZiXRUPJ4+YFvEVkYd9U5+bBNMv9WTlIeud8Ane\\r\\n         Yp6w==', 'ARC-Authentication-Results': 'i=1; mx.google.com;\\r\\n       dkim=pass header.i=@accounts.google.com header.s=20161025 header.b=jBDgiDaw;\\r\\n       spf=pass (google.com: domain of 3q07axwgtbbyjk-nalhuwyykqjpo.ckkcha.ykiyhwoownxknewj.yki@gaia.bounces.google.com designates 209.85.220.73 as permitted sender) smtp.mailfrom=3q07aXwgTBbYjk-nalhuWYYkqjpo.ckkcha.YkiYhWooWnXkneWj.Yki@gaia.bounces.google.com;\\r\\n       dmarc=pass (p=REJECT sp=REJECT dis=NONE) header.from=accounts.google.com', 'Return-Path': '<3q07aXwgTBbYjk-nalhuWYYkqjpo.ckkcha.YkiYhWooWnXkneWj.Yki@gaia.bounces.google.com>', 'Received-SPF': 'pass (google.com: domain of 3q07axwgtbbyjk-nalhuwyykqjpo.ckkcha.ykiyhwoownxknewj.yki@gaia.bounces.google.com designates 209.85.220.73 as permitted sender) client-ip=209.85.220.73;', 'Authentication-Results': 'mx.google.com;\\r\\n       dkim=pass header.i=@accounts.google.com header.s=20161025 header.b=jBDgiDaw;\\r\\n       spf=pass (google.com: domain of 3q07axwgtbbyjk-nalhuwyykqjpo.ckkcha.ykiyhwoownxknewj.yki@gaia.bounces.google.com designates 209.85.220.73 as permitted sender) smtp.mailfrom=3q07aXwgTBbYjk-nalhuWYYkqjpo.ckkcha.YkiYhWooWnXkneWj.Yki@gaia.bounces.google.com;\\r\\n       dmarc=pass (p=REJECT sp=REJECT dis=NONE) header.from=accounts.google.com', 'DKIM-Signature': 'v=1; a=rsa-sha256; c=relaxed/relaxed;\\r\\n        d=accounts.google.com; s=20161025;\\r\\n        h=mime-version:date:feedback-id:message-id:subject:from:to;\\r\\n        bh=p2DHhz6viWidtlyQJQ1UmEwnarhUfr0oyIGHQ7QamF0=;\\r\\n        b=jBDgiDawOqCacdzeM7Y6Ek6zLimT3uMS5L5vHyvWBH49ZEJ8TfRRNxXnTa5e2i3bD3\\r\\n         QCycIbtzmx1tRLcvfPGUagHVDGFBtfASAt6vQsyaUQCtnWNzugQ19sTnPQniCDQnOgiN\\r\\n         6/qoiap7vt/PKdJ5vsZPCWx50eCRHcQ17r3aA3vAJcsGpq3+WCPTM79hIRLzIWKDFSri\\r\\n         Gw9RxT14ujY82CaApC+068f8I4Jxf/3IvlE2Vz32/g7EmpPxaKkCqx5smJN4ZvxUe1E4\\r\\n         Fadt/3/kuk34/H0C8vDUzM3/tDN73mt4Kb98dUOENQqJRBsSc/nisgIb5wWogiCdK95C\\r\\n         2VQg==', 'X-Google-DKIM-Signature': 'v=1; a=rsa-sha256; c=relaxed/relaxed;\\r\\n        d=1e100.net; s=20161025;\\r\\n        h=x-gm-message-state:mime-version:date:feedback-id:message-id:subject\\r\\n         :from:to;\\r\\n        bh=p2DHhz6viWidtlyQJQ1UmEwnarhUfr0oyIGHQ7QamF0=;\\r\\n        b=YFJziHxPPZ91PZoitOn7EvTu7nRXViYNY3uMC/n8xKHpRIfrYFeB7jsY3zwScqVadt\\r\\n         Qlan7tTqKmx71lie0t5NsliX+IyWAN3YdYws+XXDqY2De23H2CN/2vrGAfCYhFQMikdq\\r\\n         m96YCbf+NsCRSNpf5MexATUUViS3/iGfsveftHZwafr83vlEl8r2OZ3Ap4dX9pbQHKeX\\r\\n         4+3YugcSicbtpp3Bo4PZRiIOWNKIWFpxlARUaN0NxACWZcuO5r/VWFhn9TVoivXtd+ve\\r\\n         tOTvwauwGnmDeHfF/KnvVKUUEN5My1108Z8RKY/RIhDz1MwUpoBrudCTzpGdYbprxa3Y\\r\\n         ttoQ==', 'X-Gm-Message-State': 'AOAM530J1k3acQBT7sUW3mOYmUtgRa7aDDBrzAo4j2WHRI3QIOx4td9Z\\r\\n\\thpU4jMU+FR8FHnjeUyP0uqqa3VwR0crjpD4mXmM+MQ==', 'X-Google-Smtp-Source': 'ABdhPJzfXJ6F1PHG6qdC+qT5BkUCm9j+MikPWn0pgSSOn0glM0g3bJ2PULYgl8LlZGRbIGDHxZmYNOu/hqpWYMLDJi1qqA==', 'MIME-Version': '1.0', 'Date': 'Wed, 16 Dec 2020 18:15:07 GMT', 'X-Account-Notification-Type': '27', 'Feedback-ID': '27:account-notifier', 'X-Notifications': 'd0cdb29c82c00000', 'Message-ID': '<iEZPODnoupWfXMpCsWTPCA@notifications.google.com>', 'Subject': 'Critical security alert', 'From': 'Google <no-reply@accounts.google.com>', 'To': 'class@arborian.com', 'Content-Type': 'multipart/alternative; boundary=\"000000000000eafb6d05b698da1a\"'}\n",
      "\n",
      "Message b'7'\n",
      "{'Delivered-To': 'class@arborian.com', 'Received': 'by 2002:a05:6638:1b0:0:0:0:0 with SMTP id b16csp478784jaq;\\r\\n        Wed, 16 Dec 2020 10:21:33 -0800 (PST)', 'X-Received': 'by 2002:ab0:2e99:: with SMTP id f25mr32932439uaa.104.1608142893409;\\r\\n        Wed, 16 Dec 2020 10:21:33 -0800 (PST)', 'ARC-Seal': 'i=1; a=rsa-sha256; t=1608142893; cv=none;\\r\\n        d=google.com; s=arc-20160816;\\r\\n        b=Ar4CjWbbL/4LMAxe9VI4HWVP4xCaGuKJJ4Ju/gIhcQDroQWucKIRaAeWBOKAlyHOkM\\r\\n         G5Gw9WA+NDCsk+j7H8tL4OvyhajDyuvDiN748eELu/w+O6vaWwMYZIeVz5ZIB1+pXeEm\\r\\n         aNUEqDVsXwVkBxXEyszc3ZbUJf2FYyLE24SzOYqlS0/5XUqu38CkDtSm4uXlk725F/Dk\\r\\n         T0zrKpVfJVDr7W7LdVKVQMR8HMcEe4EWcyJbM8tISxNRS8K+wWLX+sYJUdTdg68mbtVM\\r\\n         ru9XlYUEJK1Tr9bSZ36uHsck/31qIF6XGxEE3xPIJ/DmOW4+vGg+f0xa7cl+o8fPwor9\\r\\n         QHaw==', 'ARC-Message-Signature': 'i=1; a=rsa-sha256; c=relaxed/relaxed; d=google.com; s=arc-20160816;\\r\\n        h=to:from:subject:message-id:feedback-id:date:mime-version\\r\\n         :dkim-signature;\\r\\n        bh=rGPprmuTR44+eD/smRdoLgXcJOpn+jii8clJ+tv91I4=;\\r\\n        b=ruoZVWcCsNqTyIDYvU6WSd0XWdU9cPfgNzlOHETF1rWbv6Zw9MiEjn+ZSguKz2CvYI\\r\\n         PHTtvvPDyCKBudtirN/Kdi/wfZPEkkapZ51CaP0lbfKvcl6XdDTmXsa5LvO1LJWm2bkw\\r\\n         rryqJLrcm2syIZnjTTkNFAlJ77DnLEf4Wo6alinu8Vk62zF0ecf/RllyOoIKTSVUuE1Q\\r\\n         6nFzER5lsWWf0V0EAB+5ggNGmrFnAnA812KhytHNjKTCppLd3OtBBbQ50a1nQXYzBdJ8\\r\\n         mv6k/LUs5RUVWjkXAY5dKj+MfHWR0k21Fdl4DvUafBTYW3UfAlxQ+4n+JrWNAHURMlLS\\r\\n         GV5A==', 'ARC-Authentication-Results': 'i=1; mx.google.com;\\r\\n       dkim=pass header.i=@accounts.google.com header.s=20161025 header.b=\"kuCV//N2\";\\r\\n       spf=pass (google.com: domain of 3lvdaxwgtbtwlm-pcnjwyaamslrq.emmejc.amkajyqqypzmpgyl.amk@gaia.bounces.google.com designates 209.85.220.73 as permitted sender) smtp.mailfrom=3LVDaXwgTBTwlm-pcnjwYaamslrq.emmejc.amkajYqqYpZmpgYl.amk@gaia.bounces.google.com;\\r\\n       dmarc=pass (p=REJECT sp=REJECT dis=NONE) header.from=accounts.google.com', 'Return-Path': '<3LVDaXwgTBTwlm-pcnjwYaamslrq.emmejc.amkajYqqYpZmpgYl.amk@gaia.bounces.google.com>', 'Received-SPF': 'pass (google.com: domain of 3lvdaxwgtbtwlm-pcnjwyaamslrq.emmejc.amkajyqqypzmpgyl.amk@gaia.bounces.google.com designates 209.85.220.73 as permitted sender) client-ip=209.85.220.73;', 'Authentication-Results': 'mx.google.com;\\r\\n       dkim=pass header.i=@accounts.google.com header.s=20161025 header.b=\"kuCV//N2\";\\r\\n       spf=pass (google.com: domain of 3lvdaxwgtbtwlm-pcnjwyaamslrq.emmejc.amkajyqqypzmpgyl.amk@gaia.bounces.google.com designates 209.85.220.73 as permitted sender) smtp.mailfrom=3LVDaXwgTBTwlm-pcnjwYaamslrq.emmejc.amkajYqqYpZmpgYl.amk@gaia.bounces.google.com;\\r\\n       dmarc=pass (p=REJECT sp=REJECT dis=NONE) header.from=accounts.google.com', 'DKIM-Signature': 'v=1; a=rsa-sha256; c=relaxed/relaxed;\\r\\n        d=accounts.google.com; s=20161025;\\r\\n        h=mime-version:date:feedback-id:message-id:subject:from:to;\\r\\n        bh=rGPprmuTR44+eD/smRdoLgXcJOpn+jii8clJ+tv91I4=;\\r\\n        b=kuCV//N2MszZBH/pyXeZnrUvQ44ip0cS8qslBZTMajFAYe6barDt/0d+4Tl/Cmh3TH\\r\\n         IXTsd7fohZGRZEGTkn3K+MwaT+gmIgXl43BhnEpqMZblD7hlsjDH02A1ub+/jBTmJy29\\r\\n         ouaeRNoc6qX+TLCZYxEvNHD7RlKtDfrffs4tI/1Ojfam+6ldEGY3BKtUx+ygZDdJgOQ/\\r\\n         2H9gvVvyrPQ1G1aRcFsu5dj2FHI5mrZKEWLHvlbtXVZZGSHohs6ofQRUZUm7nndKYuQz\\r\\n         sdYdFMcBzB4xThMaEt2T1ClU+teXZyT/UEioGyAxMgDjMSKNc4uHvO18bzCx9dqxkxey\\r\\n         bRaw==', 'X-Google-DKIM-Signature': 'v=1; a=rsa-sha256; c=relaxed/relaxed;\\r\\n        d=1e100.net; s=20161025;\\r\\n        h=x-gm-message-state:mime-version:date:feedback-id:message-id:subject\\r\\n         :from:to;\\r\\n        bh=rGPprmuTR44+eD/smRdoLgXcJOpn+jii8clJ+tv91I4=;\\r\\n        b=KqvylQkJJWk1H/3mAIoaGYfW4pT64T91bYEvpnyaEGE22dQg4sM7riQni2HK4zu/bS\\r\\n         kBW4s34S5Hwe3HVNdee25UecSCYV1NjF1LF4Fa5KQNcOWoZqOro8vnmeuboUyESPOPkp\\r\\n         9s+Jl/CnwL5yZ03bmJE6Ivfi/Dkl9aveeHxZCcmSQjrwMbI4YJdmAz/aZi3iqAzBDgWc\\r\\n         8V+HMzT+qUNBKB77zCPrrGT3M7JEXK344sgWHlIOFdM8ieNzwgpx1n0AmVIZ7tjlaLOn\\r\\n         b4VNhJvzcuw788SLHOdpVY0B1x5hxsPx842grlJ4YxpXlx/h99GmYnzCC4PAd3ZmCC+f\\r\\n         qhZQ==', 'X-Gm-Message-State': 'AOAM5300T5YY18NmnFQ74zlwW7G+WsK3TKl0M9UPyoQp3GHX7xn5NRmF\\r\\n\\twtYFWUjV/3Qa5kpY62o4tikaQIRstpo3YaNYwX+Tgw==', 'X-Google-Smtp-Source': 'ABdhPJxSaGfR3AQkv/GMQbWECTLn/gcVQ3w/YiavdcqS4xQP51cuQLC3XGmYT/eZ6iZci3uB1ydG+ktjGJeC4jCgfPxgHw==', 'MIME-Version': '1.0', 'Date': 'Wed, 16 Dec 2020 18:21:32 GMT', 'X-Account-Notification-Type': '31', 'Feedback-ID': '31:account-notifier', 'X-Notifications': '9ab6be5c82c00000', 'Message-ID': '<BAOxICnmrjQMA_jOUYGGaw@notifications.google.com>', 'Subject': 'Security alert', 'From': 'Google <no-reply@accounts.google.com>', 'To': 'class@arborian.com', 'Content-Type': 'multipart/alternative; boundary=\"000000000000e5ed6e05b698f1aa\"'}\n",
      "\n"
     ]
    }
   ],
   "source": [
    "server.select()\n",
    "typ, data = server.search(None, 'ALL')\n",
    "for num in data[0].split():\n",
    "    typ, data = server.fetch(num, '(RFC822)')\n",
    "    msg = Parser().parsestr(str(data[0][1], 'utf-8'))\n",
    "    print('Message {}\\n{}\\n'.format(num, dict(msg)))"
   ]
  },
  {
   "cell_type": "code",
   "execution_count": 22,
   "metadata": {},
   "outputs": [
    {
     "data": {
      "text/plain": [
       "('BYE', [b'LOGOUT Requested'])"
      ]
     },
     "execution_count": 22,
     "metadata": {},
     "output_type": "execute_result"
    }
   ],
   "source": [
    "server.close()\n",
    "server.logout()"
   ]
  },
  {
   "cell_type": "markdown",
   "metadata": {},
   "source": [
    "# Lab\n",
    "\n",
    "Open [Email Lab](./email-lab.ipynb)"
   ]
  }
 ],
 "metadata": {
  "kernelspec": {
   "display_name": "Python 3",
   "language": "python",
   "name": "python3"
  },
  "language_info": {
   "codemirror_mode": {
    "name": "ipython",
    "version": 3
   },
   "file_extension": ".py",
   "mimetype": "text/x-python",
   "name": "python",
   "nbconvert_exporter": "python",
   "pygments_lexer": "ipython3",
   "version": "3.8.5"
  }
 },
 "nbformat": 4,
 "nbformat_minor": 1
}
