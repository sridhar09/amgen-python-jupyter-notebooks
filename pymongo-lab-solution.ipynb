{
 "cells": [
  {
   "cell_type": "markdown",
   "metadata": {},
   "source": [
    "# Lab: Python and MongoDB"
   ]
  },
  {
   "cell_type": "markdown",
   "metadata": {},
   "source": [
    "Install the appropriate modules if they're not already installed (pymongo and dnspython)"
   ]
  },
  {
   "cell_type": "code",
   "execution_count": null,
   "metadata": {},
   "outputs": [],
   "source": []
  },
  {
   "cell_type": "markdown",
   "metadata": {},
   "source": [
    "Connect to the class database with the password shown in the demo:"
   ]
  },
  {
   "cell_type": "code",
   "execution_count": 1,
   "metadata": {},
   "outputs": [],
   "source": [
    "import pymongo\n",
    "username = 'class'\n",
    "password = 'classword'\n",
    "host = 'training.i7auh.mongodb.net'\n",
    "dbname = 'class'\n",
    "cli = pymongo.MongoClient(\n",
    "    f'mongodb+srv://class:{password}@{host}' # '/class?retryWrites=true'\n",
    ")"
   ]
  },
  {
   "cell_type": "code",
   "execution_count": 2,
   "metadata": {},
   "outputs": [
    {
     "data": {
      "text/plain": [
       "['class', 'training', 'admin', 'local']"
      ]
     },
     "execution_count": 2,
     "metadata": {},
     "output_type": "execute_result"
    }
   ],
   "source": [
    "cli.list_database_names()"
   ]
  },
  {
   "cell_type": "markdown",
   "metadata": {},
   "source": [
    "Insert an entry into the 'roster' collection with your information"
   ]
  },
  {
   "cell_type": "code",
   "execution_count": 3,
   "metadata": {},
   "outputs": [
    {
     "data": {
      "text/plain": [
       "<pymongo.results.InsertOneResult at 0x7ff55db32d80>"
      ]
     },
     "execution_count": 3,
     "metadata": {},
     "output_type": "execute_result"
    }
   ],
   "source": [
    "db = cli['training']\n",
    "db.roster.insert_one({\n",
    "    'name': 'Rick Copeland',\n",
    "    'email': 'rick@arborian.com',\n",
    "    'role': 'Instructor',\n",
    "})"
   ]
  },
  {
   "cell_type": "code",
   "execution_count": 4,
   "metadata": {},
   "outputs": [
    {
     "data": {
      "text/plain": [
       "ObjectId('6182a601cfe5ae4d1c9a5b39')"
      ]
     },
     "execution_count": 4,
     "metadata": {},
     "output_type": "execute_result"
    }
   ],
   "source": [
    "_3.inserted_id   # Out[3].inserted_id"
   ]
  },
  {
   "cell_type": "markdown",
   "metadata": {},
   "source": [
    "Retrieve the document you just inserted"
   ]
  },
  {
   "cell_type": "code",
   "execution_count": 5,
   "metadata": {},
   "outputs": [
    {
     "data": {
      "text/plain": [
       "{'_id': ObjectId('6182a601cfe5ae4d1c9a5b39'),\n",
       " 'name': 'Rick Copeland',\n",
       " 'email': 'rick@arborian.com',\n",
       " 'role': 'Instructor'}"
      ]
     },
     "execution_count": 5,
     "metadata": {},
     "output_type": "execute_result"
    }
   ],
   "source": [
    "db.roster.find_one({'email': 'rick@arborian.com'})"
   ]
  },
  {
   "cell_type": "code",
   "execution_count": 6,
   "metadata": {},
   "outputs": [
    {
     "data": {
      "text/plain": [
       "{'_id': ObjectId('6182a601cfe5ae4d1c9a5b39'),\n",
       " 'name': 'Rick Copeland',\n",
       " 'email': 'rick@arborian.com',\n",
       " 'role': 'Instructor'}"
      ]
     },
     "execution_count": 6,
     "metadata": {},
     "output_type": "execute_result"
    }
   ],
   "source": [
    "db.roster.find_one({'_id': _3.inserted_id})"
   ]
  },
  {
   "cell_type": "code",
   "execution_count": 7,
   "metadata": {},
   "outputs": [
    {
     "data": {
      "text/plain": [
       "[{'_id': ObjectId('6182a601cfe5ae4d1c9a5b39'),\n",
       "  'name': 'Rick Copeland',\n",
       "  'email': 'rick@arborian.com',\n",
       "  'role': 'Instructor'}]"
      ]
     },
     "execution_count": 7,
     "metadata": {},
     "output_type": "execute_result"
    }
   ],
   "source": [
    "list(db.roster.find({'email': 'rick@arborian.com'}))"
   ]
  },
  {
   "cell_type": "code",
   "execution_count": 9,
   "metadata": {},
   "outputs": [
    {
     "data": {
      "text/plain": [
       "[{'_id': ObjectId('6182a601cfe5ae4d1c9a5b39'),\n",
       "  'name': 'Rick Copeland',\n",
       "  'email': 'rick@arborian.com',\n",
       "  'role': 'Instructor'}]"
      ]
     },
     "execution_count": 9,
     "metadata": {},
     "output_type": "execute_result"
    }
   ],
   "source": [
    "list(db.roster.find())"
   ]
  },
  {
   "cell_type": "code",
   "execution_count": 10,
   "metadata": {},
   "outputs": [
    {
     "data": {
      "text/plain": [
       "<pymongo.results.DeleteResult at 0x7ff55db3f5c0>"
      ]
     },
     "execution_count": 10,
     "metadata": {},
     "output_type": "execute_result"
    }
   ],
   "source": [
    "db.roster.delete_many({})"
   ]
  },
  {
   "cell_type": "markdown",
   "metadata": {},
   "source": [
    "In the 'stock' collection, retrieve the closing price of TSLA on 2016-06-03 (you will need to pass in a Python `datetime` object)"
   ]
  },
  {
   "cell_type": "code",
   "execution_count": 11,
   "metadata": {},
   "outputs": [
    {
     "data": {
      "text/plain": [
       "Collection(Database(MongoClient(host=['training-shard-00-01.i7auh.mongodb.net:27017', 'training-shard-00-00.i7auh.mongodb.net:27017', 'training-shard-00-02.i7auh.mongodb.net:27017'], document_class=dict, tz_aware=False, connect=True, authsource='admin', replicaset='atlas-119b6t-shard-0', ssl=True), 'training'), 'stock')"
      ]
     },
     "execution_count": 11,
     "metadata": {},
     "output_type": "execute_result"
    }
   ],
   "source": [
    "db.stock"
   ]
  },
  {
   "cell_type": "code",
   "execution_count": 12,
   "metadata": {},
   "outputs": [
    {
     "data": {
      "text/plain": [
       "{'_id': ObjectId('6181bf6f7bc72272a4280c2e'),\n",
       " 'Unnamed: 0': datetime.datetime(2014, 1, 2, 0, 0),\n",
       " 'F': 12.089,\n",
       " 'TSLA': 150.1,\n",
       " 'GOOG': nan,\n",
       " 'IBM': 157.6001,\n",
       " 'AAPL': 72.7741}"
      ]
     },
     "execution_count": 12,
     "metadata": {},
     "output_type": "execute_result"
    }
   ],
   "source": [
    "# Find out structure of collection:\n",
    "db.stock.find_one()"
   ]
  },
  {
   "cell_type": "code",
   "execution_count": 13,
   "metadata": {
    "scrolled": true
   },
   "outputs": [
    {
     "data": {
      "text/plain": [
       "218.99"
      ]
     },
     "execution_count": 13,
     "metadata": {},
     "output_type": "execute_result"
    }
   ],
   "source": [
    "from datetime import datetime\n",
    "db.stock.find_one({\n",
    "    'Unnamed: 0': datetime(2016,6,3)\n",
    "})['TSLA']"
   ]
  },
  {
   "cell_type": "code",
   "execution_count": 14,
   "metadata": {},
   "outputs": [
    {
     "data": {
      "text/plain": [
       "[(datetime.datetime(2016, 6, 1, 0, 0), 219.56),\n",
       " (datetime.datetime(2016, 6, 2, 0, 0), 218.96),\n",
       " (datetime.datetime(2016, 6, 3, 0, 0), 218.99),\n",
       " (datetime.datetime(2016, 6, 6, 0, 0), 220.68),\n",
       " (datetime.datetime(2016, 6, 7, 0, 0), 232.34),\n",
       " (datetime.datetime(2016, 6, 8, 0, 0), 235.52),\n",
       " (datetime.datetime(2016, 6, 9, 0, 0), 229.36),\n",
       " (datetime.datetime(2016, 6, 10, 0, 0), 218.79),\n",
       " (datetime.datetime(2016, 6, 13, 0, 0), 217.87),\n",
       " (datetime.datetime(2016, 6, 14, 0, 0), 214.96),\n",
       " (datetime.datetime(2016, 6, 15, 0, 0), 217.7),\n",
       " (datetime.datetime(2016, 6, 16, 0, 0), 217.93),\n",
       " (datetime.datetime(2016, 6, 17, 0, 0), 215.47),\n",
       " (datetime.datetime(2016, 6, 20, 0, 0), 219.7),\n",
       " (datetime.datetime(2016, 6, 21, 0, 0), 219.61),\n",
       " (datetime.datetime(2016, 6, 22, 0, 0), 196.66),\n",
       " (datetime.datetime(2016, 6, 23, 0, 0), 196.4),\n",
       " (datetime.datetime(2016, 6, 24, 0, 0), 193.15),\n",
       " (datetime.datetime(2016, 6, 27, 0, 0), 198.55),\n",
       " (datetime.datetime(2016, 6, 28, 0, 0), 201.79),\n",
       " (datetime.datetime(2016, 6, 29, 0, 0), 210.19),\n",
       " (datetime.datetime(2016, 6, 30, 0, 0), 212.28)]"
      ]
     },
     "execution_count": 14,
     "metadata": {},
     "output_type": "execute_result"
    }
   ],
   "source": [
    "[ (doc['Unnamed: 0'], doc['TSLA']) for doc in db.stock.find({\n",
    "    'Unnamed: 0': {\n",
    "        '$gte': datetime(2016,6,1),\n",
    "        '$lt': datetime(2016,7,1),\n",
    "    }\n",
    "})]"
   ]
  },
  {
   "cell_type": "code",
   "execution_count": null,
   "metadata": {},
   "outputs": [],
   "source": []
  }
 ],
 "metadata": {
  "kernelspec": {
   "display_name": "Python 3",
   "language": "python",
   "name": "python3"
  },
  "language_info": {
   "codemirror_mode": {
    "name": "ipython",
    "version": 3
   },
   "file_extension": ".py",
   "mimetype": "text/x-python",
   "name": "python",
   "nbconvert_exporter": "python",
   "pygments_lexer": "ipython3",
   "version": "3.8.5"
  }
 },
 "nbformat": 4,
 "nbformat_minor": 2
}
