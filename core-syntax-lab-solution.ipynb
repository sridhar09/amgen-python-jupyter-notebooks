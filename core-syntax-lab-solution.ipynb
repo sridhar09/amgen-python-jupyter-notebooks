{
 "cells": [
  {
   "cell_type": "markdown",
   "metadata": {},
   "source": [
    "# Lab: Python Core Syntax"
   ]
  },
  {
   "cell_type": "markdown",
   "metadata": {},
   "source": [
    "## Stock \"simulator\"\n",
    "\n",
    "- Write a function `should_delist(price)` that takes a stock's share price and returns `True` if the stock should be de-listed for falling below $1.00\n",
    "- Write a function `simulate(initial_price)` that simulates a stock declining in value by 10% daily until it is de-listed. The function should print out the price for each day. "
   ]
  },
  {
   "cell_type": "code",
   "execution_count": 1,
   "metadata": {},
   "outputs": [],
   "source": [
    "def should_delist(price):\n",
    "    '''YOUR CODE HERE'''\n",
    "    return price < 1\n",
    "#     if price < 1.0:\n",
    "#         return True\n",
    "#     else:\n",
    "#         return False\n",
    "\n",
    "def simulate(initial_price):\n",
    "    '''YOUR CODE HERE'''\n",
    "    price = initial_price\n",
    "    while not should_delist(price):\n",
    "        print('price is', price)\n",
    "        price *= 0.9\n",
    "        # price = price * 0.9\n",
    "        # price = price - (0.1 * price)\n",
    "    print('delisted at', price)"
   ]
  },
  {
   "cell_type": "code",
   "execution_count": 4,
   "metadata": {},
   "outputs": [
    {
     "name": "stdout",
     "output_type": "stream",
     "text": [
      "price is 5\n",
      "price is 4.5\n",
      "price is 4.05\n",
      "price is 3.645\n",
      "price is 3.2805\n",
      "price is 2.9524500000000002\n",
      "price is 2.6572050000000003\n",
      "price is 2.3914845000000002\n",
      "price is 2.15233605\n",
      "price is 1.9371024450000003\n",
      "price is 1.7433922005000002\n",
      "price is 1.5690529804500002\n",
      "price is 1.412147682405\n",
      "price is 1.2709329141645\n",
      "price is 1.14383962274805\n",
      "price is 1.029455660473245\n",
      "delisted at 0.9265100944259205\n"
     ]
    }
   ],
   "source": [
    "simulate(5)"
   ]
  },
  {
   "cell_type": "markdown",
   "metadata": {},
   "source": [
    "## Directory\n",
    "\n",
    "Write some functions to maintain a list of mappings between names and IP addresses.\n",
    "\n",
    "Use a dictionary that maps a name to a set of strings which represent IP addresses for that name:\n",
    "\n",
    "```python\n",
    "directory = {\n",
    "    'swim': {'123.45.67.89'},\n",
    "    'bike': {'123.45.67.88', '123.45.67.80'},\n",
    "    'run': {'123.45.67.87'},\n",
    "}\n",
    "```\n"
   ]
  },
  {
   "cell_type": "code",
   "execution_count": 6,
   "metadata": {},
   "outputs": [],
   "source": [
    "def create_directory():\n",
    "    return {}\n",
    "    \n",
    "def add_ip(directory, name, address):\n",
    "    '''YOUR CODE HERE'''\n",
    "    if name not in directory:\n",
    "        directory[name] = set()\n",
    "        # directory.update({name: set()})\n",
    "    addrs = directory[name]   # addrs is a set of strings\n",
    "    addrs.add(address)\n",
    "#     directory[name].add(address)\n",
    "\n",
    "#     directory.setdefault(name, set()).add(address)\n",
    "\n",
    "#     addrs = directory.setdefault(name, set())\n",
    "#     addrs.add(address)\n",
    "    \n",
    "def resolve(directory, name):\n",
    "    '''YOUR CODE HERE (return 'NXDOMAIN' if name not found)'''\n",
    "    if name in directory:\n",
    "        return directory[name]\n",
    "    else:\n",
    "        return 'NXDOMAIN'\n",
    "#     return directory.get(name, 'NXDOMAIN')"
   ]
  },
  {
   "cell_type": "code",
   "execution_count": 7,
   "metadata": {},
   "outputs": [],
   "source": [
    "d = create_directory()\n",
    "add_ip(d, 'swim', '123.45.67.89')"
   ]
  },
  {
   "cell_type": "code",
   "execution_count": 8,
   "metadata": {},
   "outputs": [
    {
     "data": {
      "text/plain": [
       "{'swim': {'123.45.67.89'}}"
      ]
     },
     "execution_count": 8,
     "metadata": {},
     "output_type": "execute_result"
    }
   ],
   "source": [
    "d"
   ]
  },
  {
   "cell_type": "code",
   "execution_count": 9,
   "metadata": {},
   "outputs": [
    {
     "data": {
      "text/plain": [
       "{'123.45.67.89'}"
      ]
     },
     "execution_count": 9,
     "metadata": {},
     "output_type": "execute_result"
    }
   ],
   "source": [
    "resolve(d, 'swim')"
   ]
  },
  {
   "cell_type": "code",
   "execution_count": 10,
   "metadata": {},
   "outputs": [
    {
     "data": {
      "text/plain": [
       "'NXDOMAIN'"
      ]
     },
     "execution_count": 10,
     "metadata": {},
     "output_type": "execute_result"
    }
   ],
   "source": [
    "resolve(d, 'bike')"
   ]
  },
  {
   "cell_type": "code",
   "execution_count": 11,
   "metadata": {},
   "outputs": [],
   "source": [
    "add_ip(d, 'swim', '127.0.0.1')"
   ]
  },
  {
   "cell_type": "code",
   "execution_count": 12,
   "metadata": {},
   "outputs": [
    {
     "data": {
      "text/plain": [
       "{'123.45.67.89', '127.0.0.1'}"
      ]
     },
     "execution_count": 12,
     "metadata": {},
     "output_type": "execute_result"
    }
   ],
   "source": [
    "resolve(d, 'swim')"
   ]
  },
  {
   "cell_type": "code",
   "execution_count": 13,
   "metadata": {},
   "outputs": [
    {
     "data": {
      "text/plain": [
       "{'swim': {'123.45.67.89', '127.0.0.1'}}"
      ]
     },
     "execution_count": 13,
     "metadata": {},
     "output_type": "execute_result"
    }
   ],
   "source": [
    "d"
   ]
  },
  {
   "cell_type": "code",
   "execution_count": 14,
   "metadata": {},
   "outputs": [],
   "source": [
    "add_ip(d, 'bike', '192.168.1.1')"
   ]
  },
  {
   "cell_type": "code",
   "execution_count": 15,
   "metadata": {},
   "outputs": [
    {
     "data": {
      "text/plain": [
       "{'swim': {'123.45.67.89', '127.0.0.1'}, 'bike': {'192.168.1.1'}}"
      ]
     },
     "execution_count": 15,
     "metadata": {},
     "output_type": "execute_result"
    }
   ],
   "source": [
    "d"
   ]
  },
  {
   "cell_type": "code",
   "execution_count": 16,
   "metadata": {},
   "outputs": [
    {
     "data": {
      "text/plain": [
       "{'192.168.1.1'}"
      ]
     },
     "execution_count": 16,
     "metadata": {},
     "output_type": "execute_result"
    }
   ],
   "source": [
    "resolve(d, 'bike')"
   ]
  }
 ],
 "metadata": {
  "kernelspec": {
   "display_name": "Python 3",
   "language": "python",
   "name": "python3"
  },
  "language_info": {
   "codemirror_mode": {
    "name": "ipython",
    "version": 3
   },
   "file_extension": ".py",
   "mimetype": "text/x-python",
   "name": "python",
   "nbconvert_exporter": "python",
   "pygments_lexer": "ipython3",
   "version": "3.8.5"
  }
 },
 "nbformat": 4,
 "nbformat_minor": 2
}
