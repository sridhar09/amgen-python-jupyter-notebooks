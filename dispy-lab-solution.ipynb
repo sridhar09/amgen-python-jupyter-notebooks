{
 "cells": [
  {
   "cell_type": "markdown",
   "metadata": {},
   "source": [
    "# Dispy Lab\n",
    "\n",
    "First, get your `dispynode.py` server running"
   ]
  },
  {
   "cell_type": "markdown",
   "metadata": {},
   "source": [
    "Create a `JobCluster` to fetch the temperature in a number of cities:"
   ]
  },
  {
   "cell_type": "code",
   "execution_count": 1,
   "metadata": {},
   "outputs": [],
   "source": [
    "APPID = '10d4440bbaa8581bb8da9bd1fbea5617'\n",
    "UNITS = 'metric'\n",
    "cities = [\n",
    "    'Boulder', 'Atlanta', 'San Francisco',\n",
    "    'Reno', 'Honolulu', 'Zurich', 'Dubai',\n",
    "    'Dublin','Stuttgart', 'Rome', 'Singapore', \n",
    "    'Bangalore', 'Hyderabad', 'Seattle',\n",
    "]\n",
    "\n",
    "def get_temp(city, units, appid):\n",
    "    import requests\n",
    "    url = 'http://api.openweathermap.org/data/2.5/weather'\n",
    "    resp = requests.get(url, params={Richard\n",
    "        'q': city,\n",
    "        'units': units,\n",
    "        'appid': appid,        \n",
    "    })\n",
    "    json_data = resp.json()\n",
    "    return json_data['main']['temp']"
   ]
  },
  {
   "cell_type": "code",
   "execution_count": 2,
   "metadata": {},
   "outputs": [
    {
     "name": "stdout",
     "output_type": "stream",
     "text": [
      "2020-05-22 15:24:43 pycos - version 4.8.15 with kqueue I/O notifier\n",
      "2020-05-22 15:24:43 dispy - dispy client version: 4.12.2\n",
      "2020-05-22 15:24:43 dispy - Storing fault recovery information in \"_dispy_20200522152443\"\n"
     ]
    }
   ],
   "source": [
    "import dispy\n",
    "MY_IP = '192.168.1.70'\n",
    "cluster = dispy.JobCluster(get_temp, ip_addr=MY_IP)"
   ]
  },
  {
   "cell_type": "markdown",
   "metadata": {},
   "source": [
    "Submit the jobs and retrieve their results"
   ]
  },
  {
   "cell_type": "code",
   "execution_count": 3,
   "metadata": {},
   "outputs": [],
   "source": [
    "jobs = [cluster.submit(city, UNITS, APPID) for city in cities]"
   ]
  },
  {
   "cell_type": "code",
   "execution_count": 4,
   "metadata": {},
   "outputs": [
    {
     "name": "stdout",
     "output_type": "stream",
     "text": [
      "Boulder 27.09\n",
      "Atlanta 27.91\n",
      "San Francisco 18.85\n",
      "Reno 11.67\n",
      "Honolulu 28.3\n",
      "Zurich 18.01\n",
      "Dubai 30.86\n",
      "Dublin 21.73\n",
      "Stuttgart 19.04\n",
      "Rome 27.15\n",
      "Singapore 26.83\n",
      "Bangalore 24\n",
      "Hyderabad 31.11\n",
      "Seattle 15.21\n"
     ]
    }
   ],
   "source": [
    "for city, job in zip(cities, jobs):\n",
    "    print(city, job())"
   ]
  },
  {
   "cell_type": "code",
   "execution_count": 5,
   "metadata": {},
   "outputs": [
    {
     "data": {
      "text/plain": [
       "True"
      ]
     },
     "execution_count": 5,
     "metadata": {},
     "output_type": "execute_result"
    }
   ],
   "source": [
    "cluster.close()"
   ]
  },
  {
   "cell_type": "code",
   "execution_count": null,
   "metadata": {},
   "outputs": [],
   "source": []
  }
 ],
 "metadata": {
  "kernelspec": {
   "display_name": "Python 3",
   "language": "python",
   "name": "python3"
  },
  "language_info": {
   "codemirror_mode": {
    "name": "ipython",
    "version": 3
   },
   "file_extension": ".py",
   "mimetype": "text/x-python",
   "name": "python",
   "nbconvert_exporter": "python",
   "pygments_lexer": "ipython3",
   "version": "3.7.6"
  }
 },
 "nbformat": 4,
 "nbformat_minor": 2
}
