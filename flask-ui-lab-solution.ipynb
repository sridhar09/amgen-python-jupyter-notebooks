{
 "cells": [
  {
   "cell_type": "markdown",
   "metadata": {},
   "source": [
    "# Lab\n",
    "\n",
    "Update the todo list application to allow editing a todo item (you will probably need another template)"
   ]
  },
  {
   "cell_type": "code",
   "execution_count": 5,
   "metadata": {},
   "outputs": [
    {
     "name": "stdout",
     "output_type": "stream",
     "text": [
      "Overwriting data/flask-examples/todo-soln.py\n"
     ]
    }
   ],
   "source": [
    "%%file data/flask-examples/todo-soln.py\n",
    "import os\n",
    "from flask import Flask, render_template, request, url_for, redirect\n",
    "\n",
    "from .state import StateManager\n",
    "\n",
    "app = Flask(__name__)\n",
    "\n",
    "STATE_MANAGER = StateManager(\n",
    "    os.path.abspath(\n",
    "        os.path.join(\n",
    "            os.path.dirname(__file__),\n",
    "            'state.pkl'\n",
    "        )\n",
    "    )\n",
    ")\n",
    "\n",
    "@app.route('/')\n",
    "def home():\n",
    "    state = STATE_MANAGER.get()\n",
    "    items = state.get('items', [])\n",
    "    return render_template('todo2.html', items=items)\n",
    "\n",
    "\n",
    "@app.route('/item', methods=['POST'])\n",
    "def add_todo():\n",
    "    state = STATE_MANAGER.get()\n",
    "    items = state.setdefault('items', [])\n",
    "    items.append(request.form['item'])\n",
    "    STATE_MANAGER.save()\n",
    "    return redirect(url_for('home'))\n",
    "\n",
    "\n",
    "@app.route('/item/<int:index>', methods=['POST'])\n",
    "def update_todo(index):\n",
    "    state = STATE_MANAGER.get()\n",
    "    items = state.get('items', [])\n",
    "    if index < len(items):\n",
    "        if 'delete' in request.form:\n",
    "            del items[index]\n",
    "        else:\n",
    "            items[index] = request.form['item']\n",
    "        STATE_MANAGER.save()\n",
    "    return redirect(url_for('home'))\n"
   ]
  },
  {
   "cell_type": "code",
   "execution_count": 6,
   "metadata": {},
   "outputs": [
    {
     "name": "stdout",
     "output_type": "stream",
     "text": [
      "Overwriting data/flask-examples/templates/todo2.html\n"
     ]
    }
   ],
   "source": [
    "%%file data/flask-examples/templates/todo2.html\n",
    "<!doctype html>\n",
    "<title>Simple Todo</title>\n",
    "\n",
    "<h1>To-Do List</h1>\n",
    "\n",
    "<ul>\n",
    "{% for item in items %}\n",
    "    <li>\n",
    "        <form method=\"POST\" action=\"{{url_for('update_todo', index=loop.index0)}}\">\n",
    "            <input name=\"item\" value=\"{{item}}\"/><br/>\n",
    "            <input type=\"submit\" value=\"Save\"/>\n",
    "            <input type=\"submit\" name=\"delete\" value=\"Delete\"/>\n",
    "        </form>\n",
    "    </li>\n",
    "{% endfor%}\n",
    "</ul>\n",
    "\n",
    "<form method=\"POST\" action={{url_for('add_todo')}}>\n",
    "    <label for=\"item\">Add todo item</label><br/>\n",
    "    <input name=\"item\"/>\n",
    "</form>\n"
   ]
  },
  {
   "cell_type": "code",
   "execution_count": 7,
   "metadata": {},
   "outputs": [],
   "source": [
    "import os, sys, time, threading, subprocess, contextlib\n",
    "\n",
    "def output_thread(proc):\n",
    "    for line in proc.stdout:\n",
    "        print(line.decode('utf-8'), end='')\n",
    "    print('Exiting output thread')\n",
    "\n",
    "def run_flask_app(app_name):\n",
    "    proc = subprocess.Popen(\n",
    "        # [sys.executable, 'flask', 'run'],\n",
    "        ['flask', 'run', '--no-reload'],\n",
    "        env={\n",
    "            **os.environ, \n",
    "            'FLASK_APP': app_name,\n",
    "            'FLASK_ENV': 'development',\n",
    "        },\n",
    "        stderr=subprocess.STDOUT,\n",
    "        stdout=subprocess.PIPE\n",
    "    )\n",
    "    # Wait for the port to bind\n",
    "    for line in proc.stdout:\n",
    "        line = line.decode('utf-8')\n",
    "        print(line, end='')\n",
    "        if ' * Running on http://127.0.0.1:5000/ (Press CTRL+C to quit)' in line:\n",
    "            break\n",
    "    else:\n",
    "        print('== Error starting server ==')\n",
    "        return None\n",
    "    thd = threading.Thread(target=output_thread, args=(proc,))\n",
    "    thd.setDaemon(True)\n",
    "    thd.start()\n",
    "    return proc\n",
    "\n",
    "\n",
    "@contextlib.contextmanager\n",
    "def running_app(app_name):\n",
    "    proc = run_flask_app(app_name)\n",
    "    try:\n",
    "        yield proc\n",
    "    finally:\n",
    "        proc.kill()        "
   ]
  },
  {
   "cell_type": "code",
   "execution_count": 8,
   "metadata": {},
   "outputs": [
    {
     "name": "stdout",
     "output_type": "stream",
     "text": [
      " * Serving Flask app \"data.flask-examples.todo-soln\"\n",
      " * Environment: development\n",
      " * Debug mode: on\n",
      " * Running on http://127.0.0.1:5000/ (Press CTRL+C to quit)\n",
      "127.0.0.1 - - [29/Jul/2020 13:50:50] \"\u001b[37mGET / HTTP/1.1\u001b[0m\" 200 -\n",
      "127.0.0.1 - - [29/Jul/2020 13:50:54] \"\u001b[32mPOST /item HTTP/1.1\u001b[0m\" 302 -\n",
      "127.0.0.1 - - [29/Jul/2020 13:50:54] \"\u001b[37mGET / HTTP/1.1\u001b[0m\" 200 -\n",
      "127.0.0.1 - - [29/Jul/2020 13:50:58] \"\u001b[32mPOST /item HTTP/1.1\u001b[0m\" 302 -\n",
      "127.0.0.1 - - [29/Jul/2020 13:50:58] \"\u001b[37mGET / HTTP/1.1\u001b[0m\" 200 -\n",
      "127.0.0.1 - - [29/Jul/2020 13:51:00] \"\u001b[32mPOST /item HTTP/1.1\u001b[0m\" 302 -\n",
      "127.0.0.1 - - [29/Jul/2020 13:51:00] \"\u001b[37mGET / HTTP/1.1\u001b[0m\" 200 -\n",
      "127.0.0.1 - - [29/Jul/2020 13:51:05] \"\u001b[32mPOST /item/1 HTTP/1.1\u001b[0m\" 302 -\n",
      "127.0.0.1 - - [29/Jul/2020 13:51:05] \"\u001b[37mGET / HTTP/1.1\u001b[0m\" 200 -\n",
      "127.0.0.1 - - [29/Jul/2020 13:51:11] \"\u001b[32mPOST /item/2 HTTP/1.1\u001b[0m\" 302 -\n",
      "127.0.0.1 - - [29/Jul/2020 13:51:11] \"\u001b[37mGET / HTTP/1.1\u001b[0m\" 200 -\n",
      "127.0.0.1 - - [29/Jul/2020 13:51:13] \"\u001b[32mPOST /item/0 HTTP/1.1\u001b[0m\" 302 -\n",
      "127.0.0.1 - - [29/Jul/2020 13:51:13] \"\u001b[37mGET / HTTP/1.1\u001b[0m\" 200 -\n"
     ]
    }
   ],
   "source": [
    "sp = run_flask_app('data.flask-examples.todo-soln')"
   ]
  },
  {
   "cell_type": "code",
   "execution_count": 5,
   "metadata": {},
   "outputs": [
    {
     "name": "stdout",
     "output_type": "stream",
     "text": [
      "Exiting output thread\n"
     ]
    }
   ],
   "source": [
    "sp.kill()"
   ]
  },
  {
   "cell_type": "code",
   "execution_count": null,
   "metadata": {},
   "outputs": [],
   "source": []
  }
 ],
 "metadata": {
  "kernelspec": {
   "display_name": "Python 3",
   "language": "python",
   "name": "python3"
  },
  "language_info": {
   "codemirror_mode": {
    "name": "ipython",
    "version": 3
   },
   "file_extension": ".py",
   "mimetype": "text/x-python",
   "name": "python",
   "nbconvert_exporter": "python",
   "pygments_lexer": "ipython3",
   "version": "3.7.6"
  }
 },
 "nbformat": 4,
 "nbformat_minor": 2
}
