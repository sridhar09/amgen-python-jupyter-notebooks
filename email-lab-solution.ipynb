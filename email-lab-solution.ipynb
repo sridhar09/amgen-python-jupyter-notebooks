{
 "cells": [
  {
   "cell_type": "markdown",
   "metadata": {},
   "source": [
    "# Exercise\n",
    "\n",
    "Write a function that will print a list of the subjects of all email messages on an IMAP server. Test with the credentials above:\n",
    "\n",
    "```\n",
    "address = 'imap.gmail.com'\n",
    "port = 993\n",
    "username = 'class@arborian.com'\n",
    "password = 'class-test1'\n",
    "```"
   ]
  },
  {
   "cell_type": "code",
   "execution_count": 1,
   "metadata": {},
   "outputs": [],
   "source": [
    "import imaplib\n",
    "from email.parser import Parser\n",
    "\n",
    "def print_subjects(address, port, username, password):\n",
    "    '''Your code here'''\n",
    "    server = imaplib.IMAP4_SSL(address, port)\n",
    "    server.login(username, password)\n",
    "    server.select()\n",
    "    typ, data = server.search(None, 'ALL')\n",
    "    for num in data[0].split():\n",
    "        typ, data = server.fetch(num, '(RFC822)')\n",
    "        msg = Parser().parsestr(str(data[0][1], 'utf-8'))\n",
    "        print(msg['Subject'])"
   ]
  },
  {
   "cell_type": "code",
   "execution_count": 2,
   "metadata": {},
   "outputs": [
    {
     "name": "stdout",
     "output_type": "stream",
     "text": [
      "Get the official Gmail app\n",
      "Tips for using your new inbox\n",
      "Critical security alert\n",
      "Critical security alert\n",
      "Security alert\n",
      "Critical security alert\n",
      "Security alert\n"
     ]
    }
   ],
   "source": [
    "print_subjects('imap.gmail.com', 993, 'class@arborian.com', 'class-test1')"
   ]
  },
  {
   "cell_type": "code",
   "execution_count": null,
   "metadata": {},
   "outputs": [],
   "source": []
  }
 ],
 "metadata": {
  "kernelspec": {
   "display_name": "Python 3",
   "language": "python",
   "name": "python3"
  },
  "language_info": {
   "codemirror_mode": {
    "name": "ipython",
    "version": 3
   },
   "file_extension": ".py",
   "mimetype": "text/x-python",
   "name": "python",
   "nbconvert_exporter": "python",
   "pygments_lexer": "ipython3",
   "version": "3.8.5"
  }
 },
 "nbformat": 4,
 "nbformat_minor": 2
}
