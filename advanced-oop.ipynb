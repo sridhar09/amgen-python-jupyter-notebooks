{
 "cells": [
  {
   "cell_type": "markdown",
   "metadata": {},
   "source": [
    "# Advanced Object-Oriented Programming: Metaclasses and Class Decorators\n",
    "\n",
    "A `class` is a \"factory for objects (instances)\"\n",
    "\n",
    "What is a \"factory for classes?\""
   ]
  },
  {
   "cell_type": "code",
   "execution_count": 1,
   "metadata": {},
   "outputs": [],
   "source": [
    "class MyClass1:\n",
    "    pass"
   ]
  },
  {
   "cell_type": "code",
   "execution_count": 2,
   "metadata": {},
   "outputs": [
    {
     "data": {
      "text/plain": [
       "__main__.MyClass1"
      ]
     },
     "execution_count": 2,
     "metadata": {},
     "output_type": "execute_result"
    }
   ],
   "source": [
    "obj = MyClass1()\n",
    "type(obj)"
   ]
  },
  {
   "cell_type": "code",
   "execution_count": 3,
   "metadata": {},
   "outputs": [
    {
     "data": {
      "text/plain": [
       "type"
      ]
     },
     "execution_count": 3,
     "metadata": {},
     "output_type": "execute_result"
    }
   ],
   "source": [
    "type(MyClass1)"
   ]
  },
  {
   "cell_type": "code",
   "execution_count": 4,
   "metadata": {},
   "outputs": [
    {
     "data": {
      "text/plain": [
       "True"
      ]
     },
     "execution_count": 4,
     "metadata": {},
     "output_type": "execute_result"
    }
   ],
   "source": [
    "isinstance(obj, MyClass1)"
   ]
  },
  {
   "cell_type": "code",
   "execution_count": 5,
   "metadata": {},
   "outputs": [
    {
     "data": {
      "text/plain": [
       "True"
      ]
     },
     "execution_count": 5,
     "metadata": {},
     "output_type": "execute_result"
    }
   ],
   "source": [
    "isinstance(MyClass1, type)"
   ]
  },
  {
   "cell_type": "markdown",
   "metadata": {},
   "source": [
    "### Building classes with the `type` function"
   ]
  },
  {
   "cell_type": "code",
   "execution_count": 6,
   "metadata": {},
   "outputs": [],
   "source": [
    "MyClass16 = type('MyClass16', (MyClass1,), {})"
   ]
  },
  {
   "cell_type": "code",
   "execution_count": 7,
   "metadata": {},
   "outputs": [
    {
     "data": {
      "text/plain": [
       "__main__.MyClass16"
      ]
     },
     "execution_count": 7,
     "metadata": {},
     "output_type": "execute_result"
    }
   ],
   "source": [
    "MyClass16"
   ]
  },
  {
   "cell_type": "code",
   "execution_count": 8,
   "metadata": {},
   "outputs": [
    {
     "data": {
      "text/plain": [
       "True"
      ]
     },
     "execution_count": 8,
     "metadata": {},
     "output_type": "execute_result"
    }
   ],
   "source": [
    "isinstance(MyClass16, type)"
   ]
  },
  {
   "cell_type": "code",
   "execution_count": 9,
   "metadata": {},
   "outputs": [
    {
     "data": {
      "text/plain": [
       "[__main__.MyClass16, __main__.MyClass1, object]"
      ]
     },
     "execution_count": 9,
     "metadata": {},
     "output_type": "execute_result"
    }
   ],
   "source": [
    "MyClass16.mro()"
   ]
  },
  {
   "cell_type": "code",
   "execution_count": 10,
   "metadata": {},
   "outputs": [],
   "source": [
    "myobj16 = MyClass16()"
   ]
  },
  {
   "cell_type": "code",
   "execution_count": 11,
   "metadata": {},
   "outputs": [
    {
     "data": {
      "text/plain": [
       "True"
      ]
     },
     "execution_count": 11,
     "metadata": {},
     "output_type": "execute_result"
    }
   ],
   "source": [
    "isinstance(myobj16, MyClass16)"
   ]
  },
  {
   "cell_type": "code",
   "execution_count": 12,
   "metadata": {},
   "outputs": [],
   "source": [
    "MyClass16 = type('MyClass16', (MyClass1,), {\n",
    "    'training_class_attribute': 42\n",
    "})"
   ]
  },
  {
   "cell_type": "code",
   "execution_count": 13,
   "metadata": {},
   "outputs": [
    {
     "data": {
      "text/plain": [
       "42"
      ]
     },
     "execution_count": 13,
     "metadata": {},
     "output_type": "execute_result"
    }
   ],
   "source": [
    "MyClass16.training_class_attribute"
   ]
  },
  {
   "cell_type": "code",
   "execution_count": 14,
   "metadata": {},
   "outputs": [],
   "source": [
    "class MyClass16(MyClass1):\n",
    "    training_class_attribute = 42"
   ]
  },
  {
   "cell_type": "code",
   "execution_count": 15,
   "metadata": {},
   "outputs": [
    {
     "data": {
      "text/plain": [
       "42"
      ]
     },
     "execution_count": 15,
     "metadata": {},
     "output_type": "execute_result"
    }
   ],
   "source": [
    "MyClass16.training_class_attribute"
   ]
  },
  {
   "cell_type": "code",
   "execution_count": 16,
   "metadata": {},
   "outputs": [
    {
     "data": {
      "text/plain": [
       "mappingproxy({'__module__': '__main__',\n",
       "              'training_class_attribute': 42,\n",
       "              '__doc__': None})"
      ]
     },
     "execution_count": 16,
     "metadata": {},
     "output_type": "execute_result"
    }
   ],
   "source": [
    "MyClass16.__dict__"
   ]
  },
  {
   "cell_type": "code",
   "execution_count": 17,
   "metadata": {},
   "outputs": [],
   "source": [
    "def instance_initializer(self):\n",
    "    '''This will become __init__ below...'''\n",
    "    print('Creating an instance')\n",
    "    self.training_instance_attribute = 31337\n",
    "    \n",
    "MyClass17 = type('MyClass17', (MyClass1,), {\n",
    "    'training_class_attribute': 42,\n",
    "    '__init__': instance_initializer,\n",
    "})"
   ]
  },
  {
   "cell_type": "code",
   "execution_count": 18,
   "metadata": {},
   "outputs": [
    {
     "name": "stdout",
     "output_type": "stream",
     "text": [
      "Creating an instance\n"
     ]
    }
   ],
   "source": [
    "myobj = MyClass17()"
   ]
  },
  {
   "cell_type": "code",
   "execution_count": 19,
   "metadata": {},
   "outputs": [
    {
     "data": {
      "text/plain": [
       "31337"
      ]
     },
     "execution_count": 19,
     "metadata": {},
     "output_type": "execute_result"
    }
   ],
   "source": [
    "myobj.training_instance_attribute"
   ]
  },
  {
   "cell_type": "code",
   "execution_count": 20,
   "metadata": {},
   "outputs": [
    {
     "data": {
      "text/plain": [
       "42"
      ]
     },
     "execution_count": 20,
     "metadata": {},
     "output_type": "execute_result"
    }
   ],
   "source": [
    "myobj.training_class_attribute"
   ]
  },
  {
   "cell_type": "code",
   "execution_count": 21,
   "metadata": {},
   "outputs": [
    {
     "data": {
      "text/plain": [
       "mappingproxy({'training_class_attribute': 42,\n",
       "              '__init__': <function __main__.instance_initializer(self)>,\n",
       "              '__module__': '__main__',\n",
       "              '__doc__': None})"
      ]
     },
     "execution_count": 21,
     "metadata": {},
     "output_type": "execute_result"
    }
   ],
   "source": [
    "MyClass17.__dict__"
   ]
  },
  {
   "cell_type": "code",
   "execution_count": 22,
   "metadata": {},
   "outputs": [],
   "source": [
    "class MyClass17(MyClass1):\n",
    "    training_class_attribute = 42\n",
    "    \n",
    "    def __init__(self):\n",
    "        print('Creating an instance')\n",
    "        self.training_instance_attribute = 31337"
   ]
  },
  {
   "cell_type": "code",
   "execution_count": 23,
   "metadata": {
    "scrolled": true
   },
   "outputs": [
    {
     "data": {
      "text/plain": [
       "mappingproxy({'__module__': '__main__',\n",
       "              'training_class_attribute': 42,\n",
       "              '__init__': <function __main__.MyClass17.__init__(self)>,\n",
       "              '__doc__': None})"
      ]
     },
     "execution_count": 23,
     "metadata": {},
     "output_type": "execute_result"
    }
   ],
   "source": [
    "MyClass17.__dict__"
   ]
  },
  {
   "cell_type": "code",
   "execution_count": 24,
   "metadata": {},
   "outputs": [
    {
     "data": {
      "text/plain": [
       "{'training_instance_attribute': 31337}"
      ]
     },
     "execution_count": 24,
     "metadata": {},
     "output_type": "execute_result"
    }
   ],
   "source": [
    "myobj.__dict__"
   ]
  },
  {
   "cell_type": "markdown",
   "metadata": {},
   "source": [
    "# Introducing Metaclasses\n",
    "\n",
    "metaclass is to class as class is to instance"
   ]
  },
  {
   "cell_type": "code",
   "execution_count": 25,
   "metadata": {},
   "outputs": [
    {
     "name": "stdout",
     "output_type": "stream",
     "text": [
      "Calling the metaclass\n",
      "bar\n"
     ]
    }
   ],
   "source": [
    "%%python2\n",
    "def meta(name, bases, dct):\n",
    "    print \"Calling the metaclass\"\n",
    "    dct['foo'] = 'bar'\n",
    "    return type(name, bases, dct)\n",
    "\n",
    "class MyClass2(object):\n",
    "    __metaclass__ = meta\n",
    "\n",
    "print MyClass2.foo"
   ]
  },
  {
   "cell_type": "code",
   "execution_count": 26,
   "metadata": {},
   "outputs": [
    {
     "name": "stdout",
     "output_type": "stream",
     "text": [
      "Inside meta,  MyClass2 () {'__module__': '__main__', '__qualname__': 'MyClass2', 'a': 'foo', '__init__': <function MyClass2.__init__ at 0x7f1c99727b80>}\n"
     ]
    }
   ],
   "source": [
    "def cabbage(name, bases, dct):\n",
    "    print('Inside meta, ', name, bases, dct)\n",
    "    return type(name, bases, dct)\n",
    "\n",
    "class MyClass2(metaclass=cabbage):\n",
    "    a = 'foo'\n",
    "    def __init__(self):\n",
    "        pass\n"
   ]
  },
  {
   "cell_type": "markdown",
   "metadata": {},
   "source": [
    "## Why oh why??"
   ]
  },
  {
   "cell_type": "code",
   "execution_count": 27,
   "metadata": {},
   "outputs": [
    {
     "name": "stdout",
     "output_type": "stream",
     "text": [
      "Looking in links: /home/rick446/src/wheelhouse\n",
      "Requirement already satisfied: marshmallow in /home/rick446/.virtualenvs/classes/lib/python3.8/site-packages (3.8.0)\n",
      "\u001b[33mWARNING: You are using pip version 20.2.3; however, version 21.3.1 is available.\n",
      "You should consider upgrading via the '/home/rick446/.virtualenvs/classes/bin/python -m pip install --upgrade pip' command.\u001b[0m\n"
     ]
    }
   ],
   "source": [
    "!pip install marshmallow\n",
    "import marshmallow as mm"
   ]
  },
  {
   "cell_type": "markdown",
   "metadata": {},
   "source": [
    "```json\n",
    "{\n",
    "    \"first\": \"Rick\",\n",
    "    \"last\": \"Copeland\",\n",
    "    \"email\": \"rick@arborian.com\"\n",
    "}\n",
    "```"
   ]
  },
  {
   "cell_type": "code",
   "execution_count": 28,
   "metadata": {},
   "outputs": [],
   "source": [
    "class UserSchema(mm.Schema):\n",
    "    first = mm.fields.Str(missing='Gutzon')\n",
    "    last = mm.fields.Str(missing='Borglum')\n",
    "    email = mm.fields.Str(required=True)"
   ]
  },
  {
   "cell_type": "code",
   "execution_count": 30,
   "metadata": {},
   "outputs": [],
   "source": [
    "f = mm.fields.Str(missing='Gutzon')"
   ]
  },
  {
   "cell_type": "code",
   "execution_count": 31,
   "metadata": {},
   "outputs": [],
   "source": [
    "f.name"
   ]
  },
  {
   "cell_type": "markdown",
   "metadata": {},
   "source": [
    "```python\n",
    "# NOT valid marshmallow\n",
    "UserSchema = make_schema(\n",
    "    fields=[\n",
    "        Str('first', missing='Gutzon'),\n",
    "        ...\n",
    "    ]\n",
    ")\n",
    "\n",
    "UserSchema = make_schema(\n",
    "    first=Str(missing='Gutzon'),\n",
    "    ...\n",
    ")\n",
    "```"
   ]
  },
  {
   "cell_type": "code",
   "execution_count": 32,
   "metadata": {},
   "outputs": [
    {
     "data": {
      "text/plain": [
       "{'last': 'Borglum', 'first': 'Gutzon', 'email': 'rick@arborian.com'}"
      ]
     },
     "execution_count": 32,
     "metadata": {},
     "output_type": "execute_result"
    }
   ],
   "source": [
    "sch = UserSchema()\n",
    "sch.load({'email': 'rick@arborian.com'})"
   ]
  },
  {
   "cell_type": "code",
   "execution_count": 33,
   "metadata": {},
   "outputs": [],
   "source": [
    "mm.schema.Schema??"
   ]
  },
  {
   "cell_type": "code",
   "execution_count": 34,
   "metadata": {},
   "outputs": [],
   "source": [
    "mm.schema.SchemaMeta??"
   ]
  },
  {
   "cell_type": "markdown",
   "metadata": {},
   "source": [
    "### Perverse metaclass example"
   ]
  },
  {
   "cell_type": "code",
   "execution_count": 35,
   "metadata": {},
   "outputs": [],
   "source": [
    "def make_weird_dict(name, bases, dct):\n",
    "    return {\n",
    "        name: value \n",
    "        for name, value in dct.items() \n",
    "        if not name.startswith('_')\n",
    "    }\n",
    "\n",
    "class Instructor(metaclass=make_weird_dict):\n",
    "    name = 'Rick Copeland'\n",
    "    city = 'Atlanta'"
   ]
  },
  {
   "cell_type": "code",
   "execution_count": 36,
   "metadata": {},
   "outputs": [
    {
     "data": {
      "text/plain": [
       "{'name': 'Rick Copeland', 'city': 'Atlanta'}"
      ]
     },
     "execution_count": 36,
     "metadata": {},
     "output_type": "execute_result"
    }
   ],
   "source": [
    "Instructor"
   ]
  },
  {
   "cell_type": "code",
   "execution_count": 37,
   "metadata": {},
   "outputs": [
    {
     "data": {
      "text/plain": [
       "dict"
      ]
     },
     "execution_count": 37,
     "metadata": {},
     "output_type": "execute_result"
    }
   ],
   "source": [
    "type(Instructor)"
   ]
  },
  {
   "cell_type": "markdown",
   "metadata": {},
   "source": [
    "### </Perverse metaclass example>"
   ]
  },
  {
   "cell_type": "markdown",
   "metadata": {},
   "source": [
    "# Introducing `__new__`"
   ]
  },
  {
   "cell_type": "code",
   "execution_count": 38,
   "metadata": {},
   "outputs": [],
   "source": [
    "class NonMeta:\n",
    "    def __new__(cls, *args):\n",
    "        print('Calling __new__ with', args)\n",
    "        self = super().__new__(cls)\n",
    "        self.extra_attribute = 'Victory!'\n",
    "        return self\n",
    "    \n",
    "    def __init__(self, a, b):\n",
    "        print('Calling __init__', a, b)\n",
    "        self.a, self.b = a, b\n"
   ]
  },
  {
   "cell_type": "code",
   "execution_count": 39,
   "metadata": {},
   "outputs": [
    {
     "name": "stdout",
     "output_type": "stream",
     "text": [
      "Calling __new__ with (1, 2)\n",
      "Calling __init__ 1 2\n"
     ]
    }
   ],
   "source": [
    "inst = NonMeta(1,2)"
   ]
  },
  {
   "cell_type": "code",
   "execution_count": 40,
   "metadata": {},
   "outputs": [
    {
     "data": {
      "text/plain": [
       "'Victory!'"
      ]
     },
     "execution_count": 40,
     "metadata": {},
     "output_type": "execute_result"
    }
   ],
   "source": [
    "inst.extra_attribute"
   ]
  },
  {
   "cell_type": "code",
   "execution_count": 41,
   "metadata": {},
   "outputs": [
    {
     "data": {
      "text/plain": [
       "(1, 2)"
      ]
     },
     "execution_count": 41,
     "metadata": {},
     "output_type": "execute_result"
    }
   ],
   "source": [
    "inst.a, inst.b"
   ]
  },
  {
   "cell_type": "code",
   "execution_count": 42,
   "metadata": {},
   "outputs": [],
   "source": [
    "# type(a, b, c) ==> type.__new__(type, a, b, c)\n",
    "class WithAMeta(type):\n",
    "    def __new__(meta, name, bases, dct):\n",
    "        print('Create new class', name, 'with WithAMeta metaclass')\n",
    "        dct['a'] = 5\n",
    "        return super().__new__(meta, name, bases, dct)\n",
    "        # return type.__new__(meta, name, bases, dct)\n",
    "    "
   ]
  },
  {
   "cell_type": "code",
   "execution_count": 43,
   "metadata": {},
   "outputs": [
    {
     "name": "stdout",
     "output_type": "stream",
     "text": [
      "Create new class MyClass3 with WithAMeta metaclass\n"
     ]
    }
   ],
   "source": [
    "class MyClass3(metaclass=WithAMeta):\n",
    "    pass"
   ]
  },
  {
   "cell_type": "code",
   "execution_count": 44,
   "metadata": {},
   "outputs": [
    {
     "data": {
      "text/plain": [
       "5"
      ]
     },
     "execution_count": 44,
     "metadata": {},
     "output_type": "execute_result"
    }
   ],
   "source": [
    "MyClass3.a"
   ]
  },
  {
   "cell_type": "code",
   "execution_count": 45,
   "metadata": {},
   "outputs": [
    {
     "data": {
      "text/plain": [
       "__main__.WithAMeta"
      ]
     },
     "execution_count": 45,
     "metadata": {},
     "output_type": "execute_result"
    }
   ],
   "source": [
    "type(MyClass3)"
   ]
  },
  {
   "cell_type": "code",
   "execution_count": 46,
   "metadata": {},
   "outputs": [
    {
     "name": "stdout",
     "output_type": "stream",
     "text": [
      "Create new class MyClass3 with WithAMeta metaclass\n"
     ]
    }
   ],
   "source": [
    "MyClass3 = WithAMeta('MyClass3', (), {})"
   ]
  },
  {
   "cell_type": "code",
   "execution_count": 47,
   "metadata": {},
   "outputs": [
    {
     "data": {
      "text/plain": [
       "5"
      ]
     },
     "execution_count": 47,
     "metadata": {},
     "output_type": "execute_result"
    }
   ],
   "source": [
    "MyClass3.a"
   ]
  },
  {
   "cell_type": "code",
   "execution_count": 48,
   "metadata": {},
   "outputs": [
    {
     "data": {
      "text/plain": [
       "__main__.WithAMeta"
      ]
     },
     "execution_count": 48,
     "metadata": {},
     "output_type": "execute_result"
    }
   ],
   "source": [
    "type(MyClass3)"
   ]
  },
  {
   "cell_type": "code",
   "execution_count": 49,
   "metadata": {},
   "outputs": [
    {
     "data": {
      "text/plain": [
       "type"
      ]
     },
     "execution_count": 49,
     "metadata": {},
     "output_type": "execute_result"
    }
   ],
   "source": [
    "type(WithAMeta)"
   ]
  },
  {
   "cell_type": "code",
   "execution_count": 50,
   "metadata": {},
   "outputs": [
    {
     "data": {
      "text/plain": [
       "True"
      ]
     },
     "execution_count": 50,
     "metadata": {},
     "output_type": "execute_result"
    }
   ],
   "source": [
    "isinstance(WithAMeta, type)"
   ]
  },
  {
   "cell_type": "code",
   "execution_count": 51,
   "metadata": {},
   "outputs": [
    {
     "data": {
      "text/plain": [
       "True"
      ]
     },
     "execution_count": 51,
     "metadata": {},
     "output_type": "execute_result"
    }
   ],
   "source": [
    "issubclass(WithAMeta, type)"
   ]
  },
  {
   "cell_type": "markdown",
   "metadata": {},
   "source": [
    "\"Proper\" metaclasses are inherited by subclasses; \"function\" metaclasses are not"
   ]
  },
  {
   "cell_type": "code",
   "execution_count": 52,
   "metadata": {},
   "outputs": [],
   "source": [
    "def metafun(name, bases, dct):\n",
    "    print('Call metafun')\n",
    "    return type(name, bases, dct)"
   ]
  },
  {
   "cell_type": "code",
   "execution_count": 53,
   "metadata": {},
   "outputs": [],
   "source": [
    "class MetaCls(type):\n",
    "    def __new__(meta, name,bases, dct):\n",
    "        print('Call metacls')\n",
    "        return super().__new__(meta, name, bases, dct)"
   ]
  },
  {
   "cell_type": "code",
   "execution_count": 54,
   "metadata": {},
   "outputs": [
    {
     "name": "stdout",
     "output_type": "stream",
     "text": [
      "Call metafun\n",
      "Call metacls\n"
     ]
    }
   ],
   "source": [
    "class FunCls(metaclass=metafun):\n",
    "    pass\n",
    "\n",
    "class ClsCls(metaclass=MetaCls):\n",
    "    pass"
   ]
  },
  {
   "cell_type": "code",
   "execution_count": 55,
   "metadata": {},
   "outputs": [],
   "source": [
    "class FunCls2(FunCls): pass"
   ]
  },
  {
   "cell_type": "code",
   "execution_count": 56,
   "metadata": {},
   "outputs": [
    {
     "data": {
      "text/plain": [
       "type"
      ]
     },
     "execution_count": 56,
     "metadata": {},
     "output_type": "execute_result"
    }
   ],
   "source": [
    "type(FunCls)"
   ]
  },
  {
   "cell_type": "code",
   "execution_count": 57,
   "metadata": {},
   "outputs": [
    {
     "name": "stdout",
     "output_type": "stream",
     "text": [
      "Call metacls\n"
     ]
    }
   ],
   "source": [
    "class ClsCls2(ClsCls): pass"
   ]
  },
  {
   "cell_type": "code",
   "execution_count": 58,
   "metadata": {},
   "outputs": [
    {
     "data": {
      "text/plain": [
       "__main__.MetaCls"
      ]
     },
     "execution_count": 58,
     "metadata": {},
     "output_type": "execute_result"
    }
   ],
   "source": [
    "type(ClsCls)"
   ]
  },
  {
   "cell_type": "markdown",
   "metadata": {},
   "source": [
    "### Metaclass trick: instance level property declaration"
   ]
  },
  {
   "cell_type": "code",
   "execution_count": null,
   "metadata": {},
   "outputs": [],
   "source": [
    "from copy import deepcopy\n",
    "\n",
    "class PropertyMeta(type):\n",
    "    def __new__(meta, name, bases, dct):\n",
    "        print('Create class', name)\n",
    "        public_attributes = {\n",
    "            key: value \n",
    "            for key, value in dct.items()\n",
    "            if not callable(value)   # no methods\n",
    "            if not key.startswith('_')   # no private attrs\n",
    "        }\n",
    "        dct['_public_attributes'] = public_attributes\n",
    "        return super().__new__(meta, name, bases, dct)\n",
    "    \n",
    "    "
   ]
  },
  {
   "cell_type": "code",
   "execution_count": null,
   "metadata": {},
   "outputs": [],
   "source": [
    "class PublicBase(metaclass=PropertyMeta):\n",
    "    def __init__(self):\n",
    "        for key, value in self._public_attributes.items():\n",
    "            setattr(self, key, deepcopy(value))"
   ]
  },
  {
   "cell_type": "code",
   "execution_count": null,
   "metadata": {},
   "outputs": [],
   "source": [
    "class PublicClass(PublicBase):\n",
    "    a = 5\n",
    "    b = 6\n",
    "    c = [7, 8, 9]\n",
    "    \n",
    "    def amethod(self):\n",
    "        print('Calling amethod!')"
   ]
  },
  {
   "cell_type": "code",
   "execution_count": null,
   "metadata": {},
   "outputs": [],
   "source": [
    "PublicClass._public_attributes"
   ]
  },
  {
   "cell_type": "code",
   "execution_count": null,
   "metadata": {},
   "outputs": [],
   "source": [
    "pc = PublicClass()"
   ]
  },
  {
   "cell_type": "code",
   "execution_count": null,
   "metadata": {},
   "outputs": [],
   "source": [
    "pc.__dict__"
   ]
  },
  {
   "cell_type": "code",
   "execution_count": null,
   "metadata": {},
   "outputs": [],
   "source": [
    "PublicClass.__dict__"
   ]
  },
  {
   "cell_type": "code",
   "execution_count": null,
   "metadata": {},
   "outputs": [],
   "source": [
    "pc.c.append(10)"
   ]
  },
  {
   "cell_type": "code",
   "execution_count": null,
   "metadata": {},
   "outputs": [],
   "source": [
    "pc.c"
   ]
  },
  {
   "cell_type": "code",
   "execution_count": null,
   "metadata": {},
   "outputs": [],
   "source": [
    "PublicClass.c"
   ]
  },
  {
   "cell_type": "markdown",
   "metadata": {},
   "source": [
    "(a better way is to use dataclasses from the standard lib)"
   ]
  },
  {
   "cell_type": "markdown",
   "metadata": {},
   "source": [
    "### Metaclass use case: collecting properties ('declarative programming')"
   ]
  },
  {
   "cell_type": "code",
   "execution_count": 59,
   "metadata": {},
   "outputs": [],
   "source": [
    "class ImportantField:\n",
    "    def __init__(self, value, name=None):\n",
    "        self.value = value\n",
    "        self.name = name\n",
    "        \n",
    "    def __repr__(self):\n",
    "        return f'<Important {self.name}: {self.value}>'"
   ]
  },
  {
   "cell_type": "code",
   "execution_count": 60,
   "metadata": {},
   "outputs": [],
   "source": [
    "class DeclarativeMeta(type):\n",
    "    def __new__(meta, name, bases, dct):\n",
    "        print(f'DeclarativeMeta({meta!r}, {name!r}, {bases!r}, {dct!r})')\n",
    "        important = []\n",
    "        for k, v in dct.items():\n",
    "            if isinstance(v, ImportantField):\n",
    "                if v.name is None:\n",
    "                    v.name = k\n",
    "                important.append(v)\n",
    "        dct['_important'] = tuple(important)\n",
    "        return super().__new__(meta, name, bases, dct)"
   ]
  },
  {
   "cell_type": "code",
   "execution_count": 61,
   "metadata": {},
   "outputs": [
    {
     "name": "stdout",
     "output_type": "stream",
     "text": [
      "DeclarativeMeta(<class '__main__.DeclarativeMeta'>, 'DeclarativeBase', (), {'__module__': '__main__', '__qualname__': 'DeclarativeBase', '__doc__': \"Use regular inheritance to get the metaclass 'for free'\", '__repr__': <function DeclarativeBase.__repr__ at 0x7f1c9a2294c0>})\n"
     ]
    }
   ],
   "source": [
    "class DeclarativeBase(metaclass=DeclarativeMeta):\n",
    "    \"\"\"Use regular inheritance to get the metaclass 'for free'\"\"\"\n",
    "\n",
    "    def __repr__(self):\n",
    "        l = ['<{}'.format(self.__class__.__name__)]\n",
    "        for fld in self._important:\n",
    "            l.append(' {}={}'.format(fld.name, fld.value))\n",
    "        l.append('>')\n",
    "        return ''.join(l)\n",
    "    "
   ]
  },
  {
   "cell_type": "code",
   "execution_count": 62,
   "metadata": {},
   "outputs": [
    {
     "data": {
      "text/plain": [
       "()"
      ]
     },
     "execution_count": 62,
     "metadata": {},
     "output_type": "execute_result"
    }
   ],
   "source": [
    "DeclarativeBase._important"
   ]
  },
  {
   "cell_type": "code",
   "execution_count": 63,
   "metadata": {},
   "outputs": [
    {
     "name": "stdout",
     "output_type": "stream",
     "text": [
      "DeclarativeMeta(<class '__main__.DeclarativeMeta'>, 'MyClass4', (<class '__main__.DeclarativeBase'>,), {'__module__': '__main__', '__qualname__': 'MyClass4', 'a': <Important None: 1>, 'b': <Important None: 2>, 'c': <Important cfield: 3>})\n"
     ]
    }
   ],
   "source": [
    "# Here is the \"application-level\" code you'd write\n",
    "    \n",
    "class MyClass4(DeclarativeBase):\n",
    "    a = ImportantField(1)\n",
    "    b = ImportantField(2)\n",
    "    c = ImportantField(3, name='cfield')"
   ]
  },
  {
   "cell_type": "code",
   "execution_count": 64,
   "metadata": {},
   "outputs": [
    {
     "data": {
      "text/plain": [
       "(<Important a: 1>, <Important b: 2>, <Important cfield: 3>)"
      ]
     },
     "execution_count": 64,
     "metadata": {},
     "output_type": "execute_result"
    }
   ],
   "source": [
    "MyClass4._important"
   ]
  },
  {
   "cell_type": "code",
   "execution_count": 65,
   "metadata": {},
   "outputs": [
    {
     "data": {
      "text/plain": [
       "<MyClass4 a=1 b=2 cfield=3>"
      ]
     },
     "execution_count": 65,
     "metadata": {},
     "output_type": "execute_result"
    }
   ],
   "source": [
    "MyClass4()"
   ]
  },
  {
   "cell_type": "code",
   "execution_count": 66,
   "metadata": {},
   "outputs": [
    {
     "data": {
      "text/plain": [
       "<Important cfield: 3>"
      ]
     },
     "execution_count": 66,
     "metadata": {},
     "output_type": "execute_result"
    }
   ],
   "source": [
    "MyClass4.c"
   ]
  },
  {
   "cell_type": "code",
   "execution_count": 67,
   "metadata": {},
   "outputs": [
    {
     "data": {
      "text/plain": [
       "<Important a: 1>"
      ]
     },
     "execution_count": 67,
     "metadata": {},
     "output_type": "execute_result"
    }
   ],
   "source": [
    "MyClass4.a"
   ]
  },
  {
   "cell_type": "code",
   "execution_count": 68,
   "metadata": {},
   "outputs": [
    {
     "data": {
      "text/plain": [
       "<Important a: 1>"
      ]
     },
     "execution_count": 68,
     "metadata": {},
     "output_type": "execute_result"
    }
   ],
   "source": [
    "obj = MyClass4()\n",
    "obj.a"
   ]
  },
  {
   "cell_type": "code",
   "execution_count": 69,
   "metadata": {},
   "outputs": [
    {
     "data": {
      "text/plain": [
       "<Important cfield: 3>"
      ]
     },
     "execution_count": 69,
     "metadata": {},
     "output_type": "execute_result"
    }
   ],
   "source": [
    "obj.c"
   ]
  },
  {
   "cell_type": "code",
   "execution_count": 70,
   "metadata": {},
   "outputs": [
    {
     "data": {
      "text/plain": [
       "<MyClass4 a=1 b=2 cfield=3>"
      ]
     },
     "execution_count": 70,
     "metadata": {},
     "output_type": "execute_result"
    }
   ],
   "source": [
    "obj"
   ]
  },
  {
   "cell_type": "markdown",
   "metadata": {},
   "source": [
    "### Aside: metaclass inheritance\n",
    "\n",
    "If ClassSub with metaclass MetaClassB extends ClassSuper with MetaClassA, then\n",
    "MetaClassB must be a subclass of MetaClassA:"
   ]
  },
  {
   "cell_type": "code",
   "execution_count": 74,
   "metadata": {},
   "outputs": [
    {
     "ename": "TypeError",
     "evalue": "metaclass conflict: the metaclass of a derived class must be a (non-strict) subclass of the metaclasses of all its bases",
     "output_type": "error",
     "traceback": [
      "\u001b[0;31m---------------------------------------------------------------------------\u001b[0m",
      "\u001b[0;31mTypeError\u001b[0m                                 Traceback (most recent call last)",
      "\u001b[0;32m<ipython-input-74-39f922cf1c6b>\u001b[0m in \u001b[0;36m<module>\u001b[0;34m\u001b[0m\n\u001b[1;32m     13\u001b[0m     \u001b[0;32mpass\u001b[0m\u001b[0;34m\u001b[0m\u001b[0;34m\u001b[0m\u001b[0m\n\u001b[1;32m     14\u001b[0m \u001b[0;34m\u001b[0m\u001b[0m\n\u001b[0;32m---> 15\u001b[0;31m \u001b[0;32mclass\u001b[0m \u001b[0mClassSub\u001b[0m\u001b[0;34m(\u001b[0m\u001b[0mClassSuper\u001b[0m\u001b[0;34m,\u001b[0m \u001b[0mmetaclass\u001b[0m\u001b[0;34m=\u001b[0m\u001b[0mMetaClassC\u001b[0m\u001b[0;34m)\u001b[0m\u001b[0;34m:\u001b[0m\u001b[0;34m\u001b[0m\u001b[0;34m\u001b[0m\u001b[0m\n\u001b[0m\u001b[1;32m     16\u001b[0m     \u001b[0;32mpass\u001b[0m\u001b[0;34m\u001b[0m\u001b[0;34m\u001b[0m\u001b[0m\n",
      "\u001b[0;31mTypeError\u001b[0m: metaclass conflict: the metaclass of a derived class must be a (non-strict) subclass of the metaclasses of all its bases"
     ]
    }
   ],
   "source": [
    "# Metaclasses\n",
    "class MetaClassA(type):\n",
    "    pass\n",
    "\n",
    "class MetaClassB(MetaClassA):\n",
    "    pass\n",
    "\n",
    "class MetaClassC(type):\n",
    "    pass\n",
    "\n",
    "# \"Regular\" classes\n",
    "class ClassSuper(metaclass=MetaClassA):\n",
    "    pass\n",
    "\n",
    "class ClassSub(ClassSuper, metaclass=MetaClassC):\n",
    "    pass"
   ]
  },
  {
   "cell_type": "markdown",
   "metadata": {},
   "source": [
    "### Metaclass use case: class registries"
   ]
  },
  {
   "cell_type": "code",
   "execution_count": 75,
   "metadata": {},
   "outputs": [],
   "source": [
    "class RegistryMeta(type):\n",
    "    _registry = {}\n",
    "    \n",
    "    def __new__(meta, name, bases, dct):\n",
    "        cls = super().__new__(meta, name, bases, dct)\n",
    "        meta._registry[name] = cls\n",
    "        return cls\n",
    "    \n",
    "    def lookup_meta(cls, name):\n",
    "        return cls._registry[name]\n",
    "\n",
    "class RegistryBase(metaclass=RegistryMeta):\n",
    "    \n",
    "    @classmethod\n",
    "    def lookup(cls, name):\n",
    "        return cls._registry[name]"
   ]
  },
  {
   "cell_type": "code",
   "execution_count": 76,
   "metadata": {},
   "outputs": [
    {
     "data": {
      "text/plain": [
       "{'RegistryBase': __main__.RegistryBase}"
      ]
     },
     "execution_count": 76,
     "metadata": {},
     "output_type": "execute_result"
    }
   ],
   "source": [
    "RegistryMeta._registry"
   ]
  },
  {
   "cell_type": "code",
   "execution_count": 77,
   "metadata": {},
   "outputs": [],
   "source": [
    "class Registered1(RegistryBase):\n",
    "    a = ImportantField('Registered2')\n",
    "\n",
    "class Registered2(RegistryBase):\n",
    "    pass\n",
    "    \n",
    "class Registered3(metaclass=RegistryMeta):\n",
    "    pass"
   ]
  },
  {
   "cell_type": "code",
   "execution_count": 78,
   "metadata": {},
   "outputs": [
    {
     "data": {
      "text/plain": [
       "{'RegistryBase': __main__.RegistryBase,\n",
       " 'Registered1': __main__.Registered1,\n",
       " 'Registered2': __main__.Registered2,\n",
       " 'Registered3': __main__.Registered3}"
      ]
     },
     "execution_count": 78,
     "metadata": {},
     "output_type": "execute_result"
    }
   ],
   "source": [
    "RegistryMeta._registry"
   ]
  },
  {
   "cell_type": "code",
   "execution_count": 79,
   "metadata": {},
   "outputs": [
    {
     "data": {
      "text/plain": [
       "__main__.Registered1"
      ]
     },
     "execution_count": 79,
     "metadata": {},
     "output_type": "execute_result"
    }
   ],
   "source": [
    "RegistryBase.lookup('Registered1')"
   ]
  },
  {
   "cell_type": "code",
   "execution_count": 80,
   "metadata": {},
   "outputs": [
    {
     "data": {
      "text/plain": [
       "__main__.Registered2"
      ]
     },
     "execution_count": 80,
     "metadata": {},
     "output_type": "execute_result"
    }
   ],
   "source": [
    "RegistryBase.lookup('Registered2')"
   ]
  },
  {
   "cell_type": "code",
   "execution_count": 81,
   "metadata": {},
   "outputs": [
    {
     "data": {
      "text/plain": [
       "__main__.Registered1"
      ]
     },
     "execution_count": 81,
     "metadata": {},
     "output_type": "execute_result"
    }
   ],
   "source": [
    "RegistryBase.lookup_meta('Registered1')"
   ]
  },
  {
   "cell_type": "code",
   "execution_count": 82,
   "metadata": {},
   "outputs": [
    {
     "data": {
      "text/plain": [
       "__main__.Registered2"
      ]
     },
     "execution_count": 82,
     "metadata": {},
     "output_type": "execute_result"
    }
   ],
   "source": [
    "RegistryBase.lookup_meta('Registered2')"
   ]
  },
  {
   "cell_type": "code",
   "execution_count": 83,
   "metadata": {},
   "outputs": [
    {
     "data": {
      "text/plain": [
       "__main__.Registered3"
      ]
     },
     "execution_count": 83,
     "metadata": {},
     "output_type": "execute_result"
    }
   ],
   "source": [
    "RegistryBase.lookup_meta('Registered3')"
   ]
  },
  {
   "cell_type": "code",
   "execution_count": 84,
   "metadata": {},
   "outputs": [],
   "source": [
    "class Employee(mm.Schema):\n",
    "    name = mm.fields.Str()\n",
    "    supervisor = mm.fields.Nested('Employee')"
   ]
  },
  {
   "cell_type": "markdown",
   "metadata": {},
   "source": [
    "### Metaclass trick: class operators"
   ]
  },
  {
   "cell_type": "code",
   "execution_count": 85,
   "metadata": {},
   "outputs": [],
   "source": [
    "class RegistryMeta(type):\n",
    "    _registry = {}\n",
    "    \n",
    "    def __new__(meta, name, bases, dct):\n",
    "        cls = super().__new__(meta, name, bases, dct)\n",
    "        meta._registry[name] = cls\n",
    "        return cls\n",
    "    \n",
    "    def __getitem__(cls, name):\n",
    "        \"\"\"Implements cls[name]\"\"\"\n",
    "        return cls._registry[name]\n",
    "    \n",
    "    def mclass_method(cls):\n",
    "        \"\"\"cls is an instance of RegistyMeta, which is a class\"\"\"\n",
    "        pass\n",
    "    \n",
    "class RegistryBase(object, metaclass=RegistryMeta):\n",
    "    pass\n",
    "  \n",
    "#     sadly, this does not work...\n",
    "#     @classmethod\n",
    "#     def __getitem__(cls, name):\n",
    "#         return cls._registry[name]\n",
    "    \n",
    "class Registered1(RegistryBase):\n",
    "    def regular_method(self):\n",
    "        '''self is an instance of Registered1'''\n",
    "        pass\n",
    "    \n",
    "    @classmethod\n",
    "    def class_method(cls):\n",
    "        '''cls is Registered1'''\n",
    "        pass\n",
    "\n",
    "class Registered2(RegistryBase):\n",
    "    pass"
   ]
  },
  {
   "cell_type": "code",
   "execution_count": 86,
   "metadata": {},
   "outputs": [
    {
     "data": {
      "text/plain": [
       "__main__.Registered1"
      ]
     },
     "execution_count": 86,
     "metadata": {},
     "output_type": "execute_result"
    }
   ],
   "source": [
    "RegistryBase['Registered1']"
   ]
  },
  {
   "cell_type": "code",
   "execution_count": 87,
   "metadata": {},
   "outputs": [
    {
     "data": {
      "text/plain": [
       "__main__.Registered2"
      ]
     },
     "execution_count": 87,
     "metadata": {},
     "output_type": "execute_result"
    }
   ],
   "source": [
    "RegistryBase['Registered2']"
   ]
  },
  {
   "cell_type": "markdown",
   "metadata": {},
   "source": [
    "Trick: inheritance via `+`"
   ]
  },
  {
   "cell_type": "code",
   "execution_count": 88,
   "metadata": {},
   "outputs": [],
   "source": [
    "class HierMeta(type):\n",
    "    \n",
    "    def __add__(cls, other):\n",
    "        return type(\n",
    "            f'<AnonCls>({cls.__name__}, {other.__name__})', \n",
    "            (cls, other), \n",
    "            {}\n",
    "        )\n",
    "\n",
    "class HierBase(metaclass=HierMeta): pass"
   ]
  },
  {
   "cell_type": "code",
   "execution_count": 89,
   "metadata": {},
   "outputs": [],
   "source": [
    "class R1(HierBase): pass\n",
    "class R2(HierBase): pass"
   ]
  },
  {
   "cell_type": "code",
   "execution_count": 90,
   "metadata": {},
   "outputs": [],
   "source": [
    "R3 = R1 + R2"
   ]
  },
  {
   "cell_type": "code",
   "execution_count": 91,
   "metadata": {},
   "outputs": [
    {
     "data": {
      "text/plain": [
       "__main__.<AnonCls>(R1, R2)"
      ]
     },
     "execution_count": 91,
     "metadata": {},
     "output_type": "execute_result"
    }
   ],
   "source": [
    "R3"
   ]
  },
  {
   "cell_type": "code",
   "execution_count": 92,
   "metadata": {},
   "outputs": [
    {
     "data": {
      "text/plain": [
       "[__main__.<AnonCls>(R1, R2),\n",
       " __main__.R1,\n",
       " __main__.R2,\n",
       " __main__.HierBase,\n",
       " object]"
      ]
     },
     "execution_count": 92,
     "metadata": {},
     "output_type": "execute_result"
    }
   ],
   "source": [
    "R3.mro()"
   ]
  },
  {
   "cell_type": "code",
   "execution_count": 93,
   "metadata": {},
   "outputs": [],
   "source": [
    "class Animal(HierBase): pass\n",
    "class Biped(Animal): pass\n",
    "class Quadruped(Animal): pass\n",
    "class Monkey(Biped): pass\n",
    "class Dog(Quadruped): pass\n",
    "MonkeyDog = Monkey + Dog"
   ]
  },
  {
   "cell_type": "code",
   "execution_count": 94,
   "metadata": {},
   "outputs": [
    {
     "data": {
      "text/plain": [
       "__main__.<AnonCls>(Monkey, Dog)"
      ]
     },
     "execution_count": 94,
     "metadata": {},
     "output_type": "execute_result"
    }
   ],
   "source": [
    "MonkeyDog"
   ]
  },
  {
   "cell_type": "code",
   "execution_count": 95,
   "metadata": {},
   "outputs": [
    {
     "data": {
      "text/plain": [
       "[__main__.<AnonCls>(Monkey, Dog),\n",
       " __main__.Monkey,\n",
       " __main__.Biped,\n",
       " __main__.Dog,\n",
       " __main__.Quadruped,\n",
       " __main__.Animal,\n",
       " __main__.HierBase,\n",
       " object]"
      ]
     },
     "execution_count": 95,
     "metadata": {},
     "output_type": "execute_result"
    }
   ],
   "source": [
    "MonkeyDog.mro()"
   ]
  },
  {
   "cell_type": "code",
   "execution_count": 96,
   "metadata": {},
   "outputs": [],
   "source": [
    "class ChangeNameMeta(type):\n",
    "    def __new__(meta, name, bases, dct):\n",
    "        dct['__qualname__'] = f'Changed{dct[\"__qualname__\"]}'\n",
    "        return super().__new__(meta, f'Changed{name}', bases, dct)"
   ]
  },
  {
   "cell_type": "code",
   "execution_count": 97,
   "metadata": {},
   "outputs": [],
   "source": [
    "class MyName(metaclass=ChangeNameMeta): pass"
   ]
  },
  {
   "cell_type": "code",
   "execution_count": 98,
   "metadata": {},
   "outputs": [
    {
     "data": {
      "text/plain": [
       "'ChangedMyName'"
      ]
     },
     "execution_count": 98,
     "metadata": {},
     "output_type": "execute_result"
    }
   ],
   "source": [
    "MyName.__name__"
   ]
  },
  {
   "cell_type": "code",
   "execution_count": 99,
   "metadata": {},
   "outputs": [
    {
     "data": {
      "text/plain": [
       "__main__.ChangedMyName"
      ]
     },
     "execution_count": 99,
     "metadata": {},
     "output_type": "execute_result"
    }
   ],
   "source": [
    "MyName"
   ]
  },
  {
   "cell_type": "code",
   "execution_count": 100,
   "metadata": {},
   "outputs": [
    {
     "data": {
      "text/plain": [
       "<__main__.ChangedMyName at 0x7f1c9a1b5970>"
      ]
     },
     "execution_count": 100,
     "metadata": {},
     "output_type": "execute_result"
    }
   ],
   "source": [
    "MyName()"
   ]
  },
  {
   "cell_type": "markdown",
   "metadata": {},
   "source": [
    "Marshmallow uses registries, as well"
   ]
  },
  {
   "cell_type": "code",
   "execution_count": 101,
   "metadata": {},
   "outputs": [],
   "source": [
    "class TreeSchema(mm.Schema):\n",
    "    value = mm.fields.Str()\n",
    "    left = mm.fields.Nested('TreeSchema', missing=None)\n",
    "    right = mm.fields.Nested('TreeSchema', missing=None)"
   ]
  },
  {
   "cell_type": "code",
   "execution_count": 102,
   "metadata": {},
   "outputs": [],
   "source": [
    "schema = TreeSchema()"
   ]
  },
  {
   "cell_type": "code",
   "execution_count": 103,
   "metadata": {},
   "outputs": [
    {
     "data": {
      "text/plain": [
       "{'left': {'left': None, 'value': 'left', 'right': None},\n",
       " 'value': 'root',\n",
       " 'right': None}"
      ]
     },
     "execution_count": 103,
     "metadata": {},
     "output_type": "execute_result"
    }
   ],
   "source": [
    "schema.load({'value': 'root', 'left': {\n",
    "    'value': 'left'\n",
    "}})"
   ]
  },
  {
   "cell_type": "markdown",
   "metadata": {},
   "source": [
    "### Class decorators: cheap substitute for metaclasses\n",
    "\n",
    "Recall that\n",
    "\n",
    "```python\n",
    "@foo\n",
    "def func(...):\n",
    "    ...\n",
    "```\n",
    "\n",
    "really means\n",
    "\n",
    "```python\n",
    "def func(...):\n",
    "    ...\n",
    "func = foo(func)\n",
    "```"
   ]
  },
  {
   "cell_type": "code",
   "execution_count": 104,
   "metadata": {},
   "outputs": [],
   "source": [
    "def decorator_factory(a, b):\n",
    "    def decorator(function):\n",
    "        print(f'Decorating {function} with ({a}, {b}): {id(decorator)}')\n",
    "        def wrapper(*args, **kwargs):\n",
    "            print('Calling decorated function', a, b)\n",
    "            return function(*args, **kwargs)\n",
    "        return wrapper\n",
    "    print(f'Creating decorator with args({a}, {b}): {id(decorator)}')\n",
    "    return decorator"
   ]
  },
  {
   "cell_type": "code",
   "execution_count": 105,
   "metadata": {},
   "outputs": [
    {
     "name": "stdout",
     "output_type": "stream",
     "text": [
      "Creating decorator with args(1, 2): 139760820748496\n"
     ]
    }
   ],
   "source": [
    "deco = decorator_factory(1,2)"
   ]
  },
  {
   "cell_type": "code",
   "execution_count": 106,
   "metadata": {},
   "outputs": [
    {
     "name": "stdout",
     "output_type": "stream",
     "text": [
      "Decorating <function my_cool_function at 0x7f1c9a130280> with (1, 2): 139760820748496\n"
     ]
    }
   ],
   "source": [
    "@deco\n",
    "def my_cool_function(c, d, e):\n",
    "    print('cool: ', c, d, e)"
   ]
  },
  {
   "cell_type": "code",
   "execution_count": 107,
   "metadata": {},
   "outputs": [
    {
     "data": {
      "text/plain": [
       "<function __main__.decorator_factory.<locals>.decorator.<locals>.wrapper(*args, **kwargs)>"
      ]
     },
     "execution_count": 107,
     "metadata": {},
     "output_type": "execute_result"
    }
   ],
   "source": [
    "my_cool_function"
   ]
  },
  {
   "cell_type": "code",
   "execution_count": 108,
   "metadata": {},
   "outputs": [
    {
     "name": "stdout",
     "output_type": "stream",
     "text": [
      "Calling decorated function 1 2\n",
      "cool:  10 20 256\n"
     ]
    }
   ],
   "source": [
    "my_cool_function(10, 20, e=256)"
   ]
  },
  {
   "cell_type": "code",
   "execution_count": 109,
   "metadata": {},
   "outputs": [
    {
     "name": "stdout",
     "output_type": "stream",
     "text": [
      "Creating decorator with args(1, 2): 139760820750656\n",
      "Decorating <function my_cool_function at 0x7f1c9a130700> with (1, 2): 139760820750656\n"
     ]
    }
   ],
   "source": [
    "@decorator_factory(1,2)\n",
    "def my_cool_function(c, d, e):\n",
    "    print('cool: ', c, d, e)"
   ]
  },
  {
   "cell_type": "code",
   "execution_count": 110,
   "metadata": {},
   "outputs": [
    {
     "name": "stdout",
     "output_type": "stream",
     "text": [
      "Calling decorated function 1 2\n",
      "cool:  5 6 7\n"
     ]
    }
   ],
   "source": [
    "my_cool_function(5,6,7)"
   ]
  },
  {
   "cell_type": "markdown",
   "metadata": {},
   "source": [
    "```python\n",
    "@locking(the_vault)\n",
    "def transfer_money(a, b, amount):\n",
    "    pass\n",
    "```"
   ]
  },
  {
   "cell_type": "markdown",
   "metadata": {},
   "source": [
    "We can do the same with classes:\n",
    "\n",
    "```python\n",
    "@foo\n",
    "class Bar:\n",
    "    ...\n",
    "```\n",
    "\n",
    "means\n",
    "\n",
    "```python\n",
    "class Bar:\n",
    "    ...\n",
    "Bar = foo(Bar)\n",
    "```"
   ]
  },
  {
   "cell_type": "code",
   "execution_count": 111,
   "metadata": {},
   "outputs": [
    {
     "name": "stdout",
     "output_type": "stream",
     "text": [
      "In class definition\n",
      "Calling meta(MyClass)\n",
      "Calling deco(<class '__main__.MyClass'>)\n",
      "Class body, metaclass, and decorator have all run by now\n"
     ]
    }
   ],
   "source": [
    "def deco(cls):\n",
    "    print(f'Calling deco({cls})')\n",
    "    return cls\n",
    "\n",
    "def meta(name, bases, dct):\n",
    "    print(f'Calling meta({name})')\n",
    "    return type(name, bases, dct)\n",
    "\n",
    "@deco\n",
    "class MyClass(metaclass=meta):\n",
    "    print('In class definition')\n",
    "    \n",
    "print('Class body, metaclass, and decorator have all run by now')"
   ]
  },
  {
   "cell_type": "code",
   "execution_count": 112,
   "metadata": {},
   "outputs": [],
   "source": [
    "class Registry:\n",
    "    \n",
    "    def __init__(self):\n",
    "        self._registry = {}\n",
    "\n",
    "    def register(self, cls):\n",
    "        self._registry[cls.__name__] = cls\n",
    "        return cls\n",
    "\n",
    "    def __getitem__(self, name):\n",
    "        return self._registry[name]\n",
    "    \n",
    "r = Registry()"
   ]
  },
  {
   "cell_type": "code",
   "execution_count": 113,
   "metadata": {},
   "outputs": [],
   "source": [
    "# \"Application\" code\n",
    "@r.register\n",
    "class Registered1:\n",
    "    pass\n",
    "\n",
    "#Registered1 = r.register(Registered1)\n",
    "\n",
    "@r.register\n",
    "class Registered2():\n",
    "    pass"
   ]
  },
  {
   "cell_type": "code",
   "execution_count": 114,
   "metadata": {},
   "outputs": [
    {
     "data": {
      "text/plain": [
       "{'Registered1': __main__.Registered1, 'Registered2': __main__.Registered2}"
      ]
     },
     "execution_count": 114,
     "metadata": {},
     "output_type": "execute_result"
    }
   ],
   "source": [
    "r._registry"
   ]
  },
  {
   "cell_type": "code",
   "execution_count": 115,
   "metadata": {},
   "outputs": [
    {
     "data": {
      "text/plain": [
       "__main__.Registered1"
      ]
     },
     "execution_count": 115,
     "metadata": {},
     "output_type": "execute_result"
    }
   ],
   "source": [
    "r['Registered1']"
   ]
  },
  {
   "cell_type": "code",
   "execution_count": 116,
   "metadata": {},
   "outputs": [
    {
     "data": {
      "text/plain": [
       "__main__.Registered2"
      ]
     },
     "execution_count": 116,
     "metadata": {},
     "output_type": "execute_result"
    }
   ],
   "source": [
    "r['Registered2']"
   ]
  },
  {
   "cell_type": "markdown",
   "metadata": {},
   "source": [
    "Real-world example: [Flask-RESTPlus][rest+]\n",
    "\n",
    "[rest+]: https://flask-restplus.readthedocs.io/en/stable/quickstart.html#a-minimal-api"
   ]
  },
  {
   "cell_type": "markdown",
   "metadata": {},
   "source": [
    "### ImportantField example"
   ]
  },
  {
   "cell_type": "code",
   "execution_count": 117,
   "metadata": {},
   "outputs": [
    {
     "name": "stdout",
     "output_type": "stream",
     "text": [
      "Running declarative() decorator\n"
     ]
    }
   ],
   "source": [
    "class ImportantField:\n",
    "    def __init__(self, value, name=None):\n",
    "        self.value = value\n",
    "        self.name = name\n",
    "        \n",
    "    def __repr__(self):\n",
    "        return f'<Important {self.name}: {self.value}>'\n",
    "        \n",
    "        \n",
    "def declarative(cls):\n",
    "    print('Running declarative() decorator')\n",
    "    _important = []\n",
    "    for name in dir(cls):\n",
    "        value = getattr(cls, name)\n",
    "        if isinstance(value, ImportantField):\n",
    "            if value.name is None:\n",
    "                value.name = name\n",
    "            _important.append(value)\n",
    "    cls._important = _important\n",
    "    return cls\n",
    "    \n",
    "@declarative\n",
    "class MyClass:\n",
    "    def __repr__(self):\n",
    "        return f\"<MyClass {' '.join(repr(i) for i in self._important)} >\"\n",
    "    \n",
    "    a = ImportantField(1)\n",
    "    b = ImportantField(2)\n",
    "    c = ImportantField(3, 'cfield')\n",
    "\n",
    "    "
   ]
  },
  {
   "cell_type": "code",
   "execution_count": 118,
   "metadata": {},
   "outputs": [],
   "source": [
    "obj = MyClass()"
   ]
  },
  {
   "cell_type": "code",
   "execution_count": 119,
   "metadata": {},
   "outputs": [
    {
     "data": {
      "text/plain": [
       "<MyClass <Important a: 1> <Important b: 2> <Important cfield: 3> >"
      ]
     },
     "execution_count": 119,
     "metadata": {},
     "output_type": "execute_result"
    }
   ],
   "source": [
    "obj"
   ]
  },
  {
   "cell_type": "code",
   "execution_count": 120,
   "metadata": {},
   "outputs": [
    {
     "data": {
      "text/plain": [
       "[<Important a: 1>, <Important b: 2>, <Important cfield: 3>]"
      ]
     },
     "execution_count": 120,
     "metadata": {},
     "output_type": "execute_result"
    }
   ],
   "source": [
    "MyClass._important"
   ]
  },
  {
   "cell_type": "markdown",
   "metadata": {},
   "source": [
    "Class decorators are _not_ inherited:"
   ]
  },
  {
   "cell_type": "code",
   "execution_count": 125,
   "metadata": {},
   "outputs": [],
   "source": [
    "class OtherClass(MyClass):\n",
    "    d = ImportantField(5)"
   ]
  },
  {
   "cell_type": "code",
   "execution_count": 126,
   "metadata": {},
   "outputs": [
    {
     "data": {
      "text/plain": [
       "<MyClass <Important a: 1> <Important b: 2> <Important cfield: 3> >"
      ]
     },
     "execution_count": 126,
     "metadata": {},
     "output_type": "execute_result"
    }
   ],
   "source": [
    "OtherClass()"
   ]
  },
  {
   "cell_type": "markdown",
   "metadata": {},
   "source": [
    "Example from Barin: \n",
    "    \n",
    "```python\n",
    "@b.cmap(class_collection)\n",
    "class MyClass(library.MySuperClass):\n",
    "    a = SomeThing()\n",
    "    b = SomeThing()\n",
    "```"
   ]
  },
  {
   "cell_type": "markdown",
   "metadata": {},
   "source": [
    "Another real-world example: [DataClasses][dataclasses]\n",
    "\n",
    "[dataclasses]: https://docs.python.org/3/library/dataclasses.html"
   ]
  },
  {
   "cell_type": "markdown",
   "metadata": {},
   "source": [
    "## Metaclass semantics\n",
    "\n",
    "bar = Foo()\n",
    "\n",
    "- if Foo is a class, bar is an instance\n",
    "- if Foo is a metaclass, bar is a class\n",
    "\n",
    "- `type` is a metaclass\n",
    "- `object` is class\n",
    "- `'foo'` is an instance (of the class `str`, which has metaclass `type`)"
   ]
  },
  {
   "cell_type": "code",
   "execution_count": 127,
   "metadata": {},
   "outputs": [
    {
     "data": {
      "text/plain": [
       "str"
      ]
     },
     "execution_count": 127,
     "metadata": {},
     "output_type": "execute_result"
    }
   ],
   "source": [
    "type('foo')"
   ]
  },
  {
   "cell_type": "code",
   "execution_count": 128,
   "metadata": {},
   "outputs": [
    {
     "data": {
      "text/plain": [
       "type"
      ]
     },
     "execution_count": 128,
     "metadata": {},
     "output_type": "execute_result"
    }
   ],
   "source": [
    "type(str)"
   ]
  },
  {
   "cell_type": "markdown",
   "metadata": {},
   "source": [
    "But how does this work?..."
   ]
  },
  {
   "cell_type": "code",
   "execution_count": 129,
   "metadata": {},
   "outputs": [],
   "source": [
    "class Duck:\n",
    "    def __init__(self, name):\n",
    "        self._name = name\n",
    "        \n",
    "    @property\n",
    "    def name(self):\n",
    "        print(\"Calling name's getter\")\n",
    "        return self._name\n",
    "    \n",
    "    @name.setter\n",
    "    def name(self, value):\n",
    "        print(\"Calling name's setter\")\n",
    "        if value.lower() in ('ed', 'bugs', 'porky'):\n",
    "            raise ValueError('Inappropriate name')\n",
    "        self._name = value\n",
    "    #name = name.setter(name)"
   ]
  },
  {
   "cell_type": "code",
   "execution_count": 130,
   "metadata": {},
   "outputs": [],
   "source": [
    "d = Duck('Donald')"
   ]
  },
  {
   "cell_type": "code",
   "execution_count": 131,
   "metadata": {},
   "outputs": [
    {
     "name": "stdout",
     "output_type": "stream",
     "text": [
      "Calling name's getter\n"
     ]
    },
    {
     "data": {
      "text/plain": [
       "'Donald'"
      ]
     },
     "execution_count": 131,
     "metadata": {},
     "output_type": "execute_result"
    }
   ],
   "source": [
    "d.name"
   ]
  },
  {
   "cell_type": "code",
   "execution_count": 132,
   "metadata": {},
   "outputs": [
    {
     "name": "stdout",
     "output_type": "stream",
     "text": [
      "Calling name's setter\n"
     ]
    }
   ],
   "source": [
    "d.name = 'Lewey'"
   ]
  },
  {
   "cell_type": "code",
   "execution_count": 133,
   "metadata": {
    "scrolled": true
   },
   "outputs": [
    {
     "name": "stdout",
     "output_type": "stream",
     "text": [
      "Calling name's setter\n"
     ]
    },
    {
     "ename": "ValueError",
     "evalue": "Inappropriate name",
     "output_type": "error",
     "traceback": [
      "\u001b[0;31m---------------------------------------------------------------------------\u001b[0m",
      "\u001b[0;31mValueError\u001b[0m                                Traceback (most recent call last)",
      "\u001b[0;32m<ipython-input-133-30fa344bcf09>\u001b[0m in \u001b[0;36m<module>\u001b[0;34m\u001b[0m\n\u001b[0;32m----> 1\u001b[0;31m \u001b[0md\u001b[0m\u001b[0;34m.\u001b[0m\u001b[0mname\u001b[0m \u001b[0;34m=\u001b[0m \u001b[0;34m'ed'\u001b[0m\u001b[0;34m\u001b[0m\u001b[0;34m\u001b[0m\u001b[0m\n\u001b[0m",
      "\u001b[0;32m<ipython-input-129-b5ef02f94f45>\u001b[0m in \u001b[0;36mname\u001b[0;34m(self, value)\u001b[0m\n\u001b[1;32m     12\u001b[0m         \u001b[0mprint\u001b[0m\u001b[0;34m(\u001b[0m\u001b[0;34m\"Calling name's setter\"\u001b[0m\u001b[0;34m)\u001b[0m\u001b[0;34m\u001b[0m\u001b[0;34m\u001b[0m\u001b[0m\n\u001b[1;32m     13\u001b[0m         \u001b[0;32mif\u001b[0m \u001b[0mvalue\u001b[0m\u001b[0;34m.\u001b[0m\u001b[0mlower\u001b[0m\u001b[0;34m(\u001b[0m\u001b[0;34m)\u001b[0m \u001b[0;32min\u001b[0m \u001b[0;34m(\u001b[0m\u001b[0;34m'ed'\u001b[0m\u001b[0;34m,\u001b[0m \u001b[0;34m'bugs'\u001b[0m\u001b[0;34m,\u001b[0m \u001b[0;34m'porky'\u001b[0m\u001b[0;34m)\u001b[0m\u001b[0;34m:\u001b[0m\u001b[0;34m\u001b[0m\u001b[0;34m\u001b[0m\u001b[0m\n\u001b[0;32m---> 14\u001b[0;31m             \u001b[0;32mraise\u001b[0m \u001b[0mValueError\u001b[0m\u001b[0;34m(\u001b[0m\u001b[0;34m'Inappropriate name'\u001b[0m\u001b[0;34m)\u001b[0m\u001b[0;34m\u001b[0m\u001b[0;34m\u001b[0m\u001b[0m\n\u001b[0m\u001b[1;32m     15\u001b[0m         \u001b[0mself\u001b[0m\u001b[0;34m.\u001b[0m\u001b[0m_name\u001b[0m \u001b[0;34m=\u001b[0m \u001b[0mvalue\u001b[0m\u001b[0;34m\u001b[0m\u001b[0;34m\u001b[0m\u001b[0m\n\u001b[1;32m     16\u001b[0m     \u001b[0;31m#name = name.setter(name)\u001b[0m\u001b[0;34m\u001b[0m\u001b[0;34m\u001b[0m\u001b[0;34m\u001b[0m\u001b[0m\n",
      "\u001b[0;31mValueError\u001b[0m: Inappropriate name"
     ]
    }
   ],
   "source": [
    "d.name = 'ed'"
   ]
  },
  {
   "cell_type": "code",
   "execution_count": 134,
   "metadata": {},
   "outputs": [
    {
     "data": {
      "text/plain": [
       "<method-wrapper '__delete__' of property object at 0x7f1c9a0018b0>"
      ]
     },
     "execution_count": 134,
     "metadata": {},
     "output_type": "execute_result"
    }
   ],
   "source": [
    "Duck.name.__delete__"
   ]
  },
  {
   "cell_type": "markdown",
   "metadata": {},
   "source": [
    "# Descriptors\n",
    "\n",
    "... or \"ever wonder how `@property`, `@classmethod`, and `@staticmethod` work?\"\n",
    "\n",
    "**Descriptors** are object which contain one or more of the following magic methods, and which occur in a class body:\n",
    "\n",
    "- `__get__(self, inst, type)` - called when the descriptor attribute is looked up (e.g. `getattr()`)\n",
    "- `__set__(self, inst, value)` - called when the descriptor attribute is set (e.g. `setattr()`)\n",
    "- `__delete__(self, inst)` - called when the descriptor attribute is deleted (e.g. `delattr()` or `del inst.attr`)\n",
    "- `__set_name__(self, cls, name)` - called to notify the descriptor of its name within the class"
   ]
  },
  {
   "cell_type": "code",
   "execution_count": 135,
   "metadata": {},
   "outputs": [
    {
     "name": "stdout",
     "output_type": "stream",
     "text": [
      "Setting name of the descriptor <__main__.MyDesc object at 0x7f1c9a1b5220> in class <class '__main__.MyClass'> to a\n",
      "Setting name of the descriptor <__main__.MyDesc object at 0x7f1c9a1b5220> in class <class '__main__.MyClass'> to b\n",
      "Setting name of the descriptor <__main__.MyDesc object at 0x7f1c9a1b5220> in class <class '__main__.MyClass'> to c\n"
     ]
    }
   ],
   "source": [
    "class MyDesc:\n",
    "    \n",
    "    def __get__(self, inst, cls):\n",
    "        # default behavior is something like return inst.__dict__[my_own_name]\n",
    "        print(f'Calling __get__({self}, {inst}, {cls})')\n",
    "        if inst is None:\n",
    "            return self\n",
    "\n",
    "    def __set__(self, inst, value):\n",
    "        print(f'Calling __set__({self}, {inst}, {value})')\n",
    "\n",
    "    def __delete__(self, inst):\n",
    "        print(f'Calling __del__({self}, {inst})')\n",
    "        \n",
    "    def __set_name__(self, cls, name):\n",
    "        print(f'Setting name of the descriptor {self} in class {cls} to {name}')\n",
    "\n",
    "class MyClass:\n",
    "    a = MyDesc()       # a.__set_name__ is called at class creation time\n",
    "    b = a\n",
    "    c = a\n",
    "    \n",
    "    def __repr__(self):\n",
    "        return '<Instance of MyClass>'\n"
   ]
  },
  {
   "cell_type": "markdown",
   "metadata": {},
   "source": [
    "```python\n",
    "# Psuedo-code for what's happening at class creation time\n",
    "for key, value in dct.items():\n",
    "    if hasattr(value, '__set_name__'):\n",
    "        value.__set_name__(key)\n",
    "```"
   ]
  },
  {
   "cell_type": "code",
   "execution_count": 136,
   "metadata": {},
   "outputs": [],
   "source": [
    "myobj = MyClass()"
   ]
  },
  {
   "cell_type": "code",
   "execution_count": 137,
   "metadata": {},
   "outputs": [
    {
     "name": "stdout",
     "output_type": "stream",
     "text": [
      "Calling __get__(<__main__.MyDesc object at 0x7f1c9a1b5220>, None, <class '__main__.MyClass'>)\n"
     ]
    },
    {
     "data": {
      "text/plain": [
       "<__main__.MyDesc at 0x7f1c9a1b5220>"
      ]
     },
     "execution_count": 137,
     "metadata": {},
     "output_type": "execute_result"
    }
   ],
   "source": [
    "MyClass.a   # invokes a.__get__(None, MyClass)"
   ]
  },
  {
   "cell_type": "code",
   "execution_count": 138,
   "metadata": {},
   "outputs": [
    {
     "name": "stdout",
     "output_type": "stream",
     "text": [
      "Calling __get__(<__main__.MyDesc object at 0x7f1c9a1b5220>, <Instance of MyClass>, <class '__main__.MyClass'>)\n"
     ]
    }
   ],
   "source": [
    "myobj.a     # invoke a.__get__(myobj, MyClass)"
   ]
  },
  {
   "cell_type": "code",
   "execution_count": 139,
   "metadata": {},
   "outputs": [],
   "source": [
    "# MyClass.a = 5  # Overwrites the descriptor, so don't do this"
   ]
  },
  {
   "cell_type": "code",
   "execution_count": 140,
   "metadata": {},
   "outputs": [
    {
     "name": "stdout",
     "output_type": "stream",
     "text": [
      "Calling __set__(<__main__.MyDesc object at 0x7f1c9a1b5220>, <Instance of MyClass>, 20)\n"
     ]
    }
   ],
   "source": [
    "myobj.a = 20   # invokes a.__set__(myobj, 20)"
   ]
  },
  {
   "cell_type": "code",
   "execution_count": 141,
   "metadata": {},
   "outputs": [
    {
     "name": "stdout",
     "output_type": "stream",
     "text": [
      "Calling __del__(<__main__.MyDesc object at 0x7f1c9a1b5220>, <Instance of MyClass>)\n"
     ]
    }
   ],
   "source": [
    "del myobj.a    # invokes a.__delete__(myobj)"
   ]
  },
  {
   "cell_type": "markdown",
   "metadata": {},
   "source": [
    "### Descriptor \"trick\": shared data"
   ]
  },
  {
   "cell_type": "code",
   "execution_count": null,
   "metadata": {},
   "outputs": [],
   "source": [
    "class SharedValue:\n",
    "    \n",
    "    def __init__(self, value):\n",
    "        self._value = value\n",
    "        \n",
    "    def __get__(self, obj, typ):\n",
    "        if obj is None:\n",
    "            return self\n",
    "        return self._value\n",
    "    \n",
    "    def __set__(self, obj, value):\n",
    "        self._value = value\n",
    "        \n",
    "        \n",
    "class NonsharedValue:\n",
    "    def __init__(self, value):\n",
    "        self._default_value = value\n",
    "        self._values = {}\n",
    "        \n",
    "    def __get__(self, obj, typ):\n",
    "        if obj is None:\n",
    "            return self\n",
    "        return self._values.get(id(obj), self._default_value)\n",
    "    \n",
    "    def __set__(self, obj, value):\n",
    "        self._values[id(obj)] = value"
   ]
  },
  {
   "cell_type": "code",
   "execution_count": null,
   "metadata": {},
   "outputs": [],
   "source": [
    "class Shared:\n",
    "    a = SharedValue(123)\n",
    "    b = SharedValue(456)\n",
    "    c = NonsharedValue(789)\n",
    "    \n",
    "    def __repr__(self):\n",
    "        return f'<Shared a={self.a} b={self.b} c={self.c}>'"
   ]
  },
  {
   "cell_type": "code",
   "execution_count": null,
   "metadata": {},
   "outputs": [],
   "source": [
    "s0 = Shared()\n",
    "s1 = Shared()\n",
    "print(s0, s1)"
   ]
  },
  {
   "cell_type": "code",
   "execution_count": null,
   "metadata": {},
   "outputs": [],
   "source": [
    "s0.a = 'New avalue'  # ==> Shared.__set__(self, s0, 'New avalue')\n",
    "s0.c = 'New cvalue'  # ==> NonShared.__set__(self, s0, 'New cvalue')\n",
    "print(s0, s1)"
   ]
  },
  {
   "cell_type": "markdown",
   "metadata": {},
   "source": [
    "Let's re-implement `@property`:"
   ]
  },
  {
   "cell_type": "code",
   "execution_count": 143,
   "metadata": {},
   "outputs": [],
   "source": [
    "class myproperty:\n",
    "\n",
    "    def __init__(self, getter, setter=None, deleter=None):\n",
    "        self._getter = getter\n",
    "        self._setter = setter\n",
    "        self._deleter = deleter\n",
    "        \n",
    "    def __get__(self, inst, cls):\n",
    "        print('Calling __get__')\n",
    "        if inst is None:\n",
    "            return self\n",
    "        return self._getter(inst)\n",
    "    \n",
    "    def __set__(self, inst, value):\n",
    "        print('Calling __set__')\n",
    "        if self._setter is None:\n",
    "            raise TypeError('value is read-only')\n",
    "        self._setter(inst, value)\n",
    "        \n",
    "    def __delete__(self, inst):\n",
    "        print('Calling __delete__')\n",
    "        if self._deleter is None:\n",
    "            raise TypeError('value is undeleteable')\n",
    "        self._deleter(inst)\n",
    "        \n",
    "    def setter(self, setter):\n",
    "        \"\"\"Decorator to add a setter\"\"\"\n",
    "        self._setter = setter\n",
    "        return self\n",
    "    \n",
    "    def deleter(self, deleter):\n",
    "        \"\"\"Decorator to add a deleter\"\"\"\n",
    "        self._deleter = deleter\n",
    "        return self"
   ]
  },
  {
   "cell_type": "code",
   "execution_count": 144,
   "metadata": {},
   "outputs": [],
   "source": [
    "class Foo:   # Foo()    Foo(object)\n",
    "    \n",
    "    @myproperty\n",
    "    def bar(self):\n",
    "        print('Calling getter for bar')\n",
    "        return 'barval'\n",
    "    #bar = myproperty(bar)\n",
    "    \n",
    "    @bar.setter\n",
    "    def bar(self, value):\n",
    "        print('Calling setter for bar')\n",
    "        \n",
    "#     _tmp0 = bar.setter\n",
    "#     def bar(self, value):\n",
    "#         print('Calling the setter for bar')\n",
    "#     bar = _tmp0(bar)\n",
    "        \n",
    "    @bar.deleter\n",
    "    def bar(self):\n",
    "        print('Calling deleter for bar')\n",
    "        \n",
    "foo = Foo()"
   ]
  },
  {
   "cell_type": "code",
   "execution_count": 145,
   "metadata": {},
   "outputs": [
    {
     "data": {
      "text/plain": [
       "<__main__.myproperty at 0x7f1c9a010c70>"
      ]
     },
     "execution_count": 145,
     "metadata": {},
     "output_type": "execute_result"
    }
   ],
   "source": [
    "Foo.__dict__['bar']"
   ]
  },
  {
   "cell_type": "code",
   "execution_count": 146,
   "metadata": {},
   "outputs": [
    {
     "name": "stdout",
     "output_type": "stream",
     "text": [
      "Calling __get__\n"
     ]
    },
    {
     "data": {
      "text/plain": [
       "<__main__.myproperty at 0x7f1c9a010c70>"
      ]
     },
     "execution_count": 146,
     "metadata": {},
     "output_type": "execute_result"
    }
   ],
   "source": [
    "Foo.bar"
   ]
  },
  {
   "cell_type": "code",
   "execution_count": 147,
   "metadata": {},
   "outputs": [
    {
     "name": "stdout",
     "output_type": "stream",
     "text": [
      "Calling __get__\n",
      "Calling getter for bar\n"
     ]
    },
    {
     "data": {
      "text/plain": [
       "'barval'"
      ]
     },
     "execution_count": 147,
     "metadata": {},
     "output_type": "execute_result"
    }
   ],
   "source": [
    "foo.bar"
   ]
  },
  {
   "cell_type": "code",
   "execution_count": 148,
   "metadata": {},
   "outputs": [
    {
     "name": "stdout",
     "output_type": "stream",
     "text": [
      "Calling __set__\n",
      "Calling setter for bar\n"
     ]
    }
   ],
   "source": [
    "foo.bar = 10"
   ]
  },
  {
   "cell_type": "code",
   "execution_count": 149,
   "metadata": {},
   "outputs": [
    {
     "name": "stdout",
     "output_type": "stream",
     "text": [
      "Calling __get__\n",
      "Calling getter for bar\n"
     ]
    },
    {
     "data": {
      "text/plain": [
       "'barval'"
      ]
     },
     "execution_count": 149,
     "metadata": {},
     "output_type": "execute_result"
    }
   ],
   "source": [
    "foo.bar"
   ]
  },
  {
   "cell_type": "code",
   "execution_count": 153,
   "metadata": {},
   "outputs": [
    {
     "name": "stdout",
     "output_type": "stream",
     "text": [
      "Calling __delete__\n",
      "Calling deleter for bar\n"
     ]
    }
   ],
   "source": [
    "del foo.bar"
   ]
  },
  {
   "cell_type": "code",
   "execution_count": 154,
   "metadata": {},
   "outputs": [
    {
     "name": "stdout",
     "output_type": "stream",
     "text": [
      "Calling __get__\n"
     ]
    },
    {
     "data": {
      "text/plain": [
       "<__main__.myproperty at 0x7f1c9a010c70>"
      ]
     },
     "execution_count": 154,
     "metadata": {},
     "output_type": "execute_result"
    }
   ],
   "source": [
    "Foo.bar"
   ]
  },
  {
   "cell_type": "code",
   "execution_count": 155,
   "metadata": {},
   "outputs": [],
   "source": [
    "property??"
   ]
  },
  {
   "cell_type": "markdown",
   "metadata": {},
   "source": [
    "## Descriptor types\n",
    "\n",
    "- A **data descriptor** is a descriptor that defines both `__get__` and `__set__`\n",
    "- A **non-data descriptor** is a descriptor that defines only `__get__`\n",
    "\n",
    "> Data and non-data descriptors differ in how overrides are calculated with respect to entries in an instance’s dictionary. If an instance’s dictionary has an entry with the same name as a data descriptor, the data descriptor takes precedence. If an instance’s dictionary has an entry with the same name as a non-data descriptor, the dictionary entry takes precedence.\n",
    "\n",
    "So order of precedence in attribute access is:\n",
    "\n",
    "- data descriptor\n",
    "- instance `__dict__`\n",
    "- non-data descriptor"
   ]
  },
  {
   "cell_type": "code",
   "execution_count": 156,
   "metadata": {},
   "outputs": [],
   "source": [
    "class Foo(): \n",
    "    pass\n",
    "\n",
    "foo = Foo()\n",
    "foo.a = 5"
   ]
  },
  {
   "cell_type": "code",
   "execution_count": 157,
   "metadata": {},
   "outputs": [
    {
     "data": {
      "text/plain": [
       "{'a': 5}"
      ]
     },
     "execution_count": 157,
     "metadata": {},
     "output_type": "execute_result"
    }
   ],
   "source": [
    "foo.__dict__"
   ]
  },
  {
   "cell_type": "code",
   "execution_count": 158,
   "metadata": {},
   "outputs": [],
   "source": [
    "class DataDescriptor():\n",
    "    \n",
    "    def __get__(self, obj, typ):\n",
    "        if obj is None:\n",
    "            return self\n",
    "        return 'data descriptor value'\n",
    "    \n",
    "    def __set__(self, obj, value):\n",
    "        # Just make it a read-only data descriptor\n",
    "        raise TypeError('read-only property')"
   ]
  },
  {
   "cell_type": "code",
   "execution_count": 159,
   "metadata": {},
   "outputs": [],
   "source": [
    "class NonDataDescriptor():\n",
    "    \n",
    "    def __get__(self, obj, typ):\n",
    "        if obj is None:\n",
    "            return self\n",
    "        return 'non-data descriptor value'\n",
    "        "
   ]
  },
  {
   "cell_type": "code",
   "execution_count": 160,
   "metadata": {},
   "outputs": [],
   "source": [
    "class MyClass():\n",
    "    data = DataDescriptor()\n",
    "    nondata = NonDataDescriptor()"
   ]
  },
  {
   "cell_type": "code",
   "execution_count": 161,
   "metadata": {},
   "outputs": [],
   "source": [
    "obj = MyClass()\n",
    "obj.__dict__.update(\n",
    "    data='instance data',\n",
    "    nondata='instance nondata'\n",
    ")"
   ]
  },
  {
   "cell_type": "markdown",
   "metadata": {},
   "source": [
    "Data descriptors have precedence over instance data:"
   ]
  },
  {
   "cell_type": "code",
   "execution_count": 162,
   "metadata": {},
   "outputs": [
    {
     "data": {
      "text/plain": [
       "'data descriptor value'"
      ]
     },
     "execution_count": 162,
     "metadata": {},
     "output_type": "execute_result"
    }
   ],
   "source": [
    "obj.data"
   ]
  },
  {
   "cell_type": "markdown",
   "metadata": {},
   "source": [
    "Instance data has precendence over non-data descriptors:"
   ]
  },
  {
   "cell_type": "code",
   "execution_count": 163,
   "metadata": {},
   "outputs": [
    {
     "data": {
      "text/plain": [
       "'instance nondata'"
      ]
     },
     "execution_count": 163,
     "metadata": {},
     "output_type": "execute_result"
    }
   ],
   "source": [
    "obj.nondata"
   ]
  },
  {
   "cell_type": "code",
   "execution_count": 164,
   "metadata": {},
   "outputs": [],
   "source": [
    "obj.nondata = 'something else'"
   ]
  },
  {
   "cell_type": "code",
   "execution_count": 165,
   "metadata": {},
   "outputs": [
    {
     "data": {
      "text/plain": [
       "'something else'"
      ]
     },
     "execution_count": 165,
     "metadata": {},
     "output_type": "execute_result"
    }
   ],
   "source": [
    "obj.nondata"
   ]
  },
  {
   "cell_type": "markdown",
   "metadata": {},
   "source": [
    "If we delete it from the instance dict, however, it _will_ invoke the non-data descriptor's `__get__` method"
   ]
  },
  {
   "cell_type": "code",
   "execution_count": 166,
   "metadata": {},
   "outputs": [],
   "source": [
    "del obj.nondata"
   ]
  },
  {
   "cell_type": "code",
   "execution_count": 167,
   "metadata": {},
   "outputs": [
    {
     "data": {
      "text/plain": [
       "'non-data descriptor value'"
      ]
     },
     "execution_count": 167,
     "metadata": {},
     "output_type": "execute_result"
    }
   ],
   "source": [
    "obj.nondata"
   ]
  },
  {
   "cell_type": "markdown",
   "metadata": {},
   "source": [
    "## Descriptor use case: cached property"
   ]
  },
  {
   "cell_type": "code",
   "execution_count": 168,
   "metadata": {},
   "outputs": [],
   "source": [
    "class cached_property:  # \"reify\" is another name for this\n",
    "    \n",
    "    def __init__(self, getter):\n",
    "        self._getter = getter\n",
    "        self._name = None\n",
    "        \n",
    "    def __set_name__(self, cls, name):\n",
    "        self._name = name\n",
    "    \n",
    "    def __get__(self, inst, cls):\n",
    "        if inst is None:\n",
    "            return self\n",
    "        value = self._getter(inst)\n",
    "        setattr(inst, self._name, value) # put the value in the instance __dict__\n",
    "        # alternatively, inst.__dict__[name] = value\n",
    "        return value\n",
    "    \n",
    "#     def __set__(self, obj, value):\n",
    "#         obj.__dict__[self._name] = value"
   ]
  },
  {
   "cell_type": "code",
   "execution_count": 169,
   "metadata": {},
   "outputs": [],
   "source": [
    "class CachedExample:\n",
    "    \n",
    "    @cached_property\n",
    "    def prop(self):\n",
    "        print('Calculating CachedExample.prop')\n",
    "        return 42\n"
   ]
  },
  {
   "cell_type": "code",
   "execution_count": 170,
   "metadata": {},
   "outputs": [],
   "source": [
    "ce = CachedExample()"
   ]
  },
  {
   "cell_type": "code",
   "execution_count": 171,
   "metadata": {},
   "outputs": [
    {
     "name": "stdout",
     "output_type": "stream",
     "text": [
      "Calculating CachedExample.prop\n"
     ]
    },
    {
     "data": {
      "text/plain": [
       "42"
      ]
     },
     "execution_count": 171,
     "metadata": {},
     "output_type": "execute_result"
    }
   ],
   "source": [
    "ce.prop # adds prop to ce.__dict__"
   ]
  },
  {
   "cell_type": "code",
   "execution_count": 172,
   "metadata": {},
   "outputs": [
    {
     "data": {
      "text/plain": [
       "42"
      ]
     },
     "execution_count": 172,
     "metadata": {},
     "output_type": "execute_result"
    }
   ],
   "source": [
    "ce.prop  # Since prop is non-data descriptor, it is not even accessed here"
   ]
  },
  {
   "cell_type": "code",
   "execution_count": 173,
   "metadata": {},
   "outputs": [
    {
     "data": {
      "text/plain": [
       "sys.version_info(major=3, minor=8, micro=5, releaselevel='final', serial=0)"
      ]
     },
     "execution_count": 173,
     "metadata": {},
     "output_type": "execute_result"
    }
   ],
   "source": [
    "import sys\n",
    "sys.version_info"
   ]
  },
  {
   "cell_type": "markdown",
   "metadata": {},
   "source": [
    "In \"real life\", this is implemented in `functools.cached_property` (in Python 3.8+)\n",
    "\n",
    "```python\n",
    "import functools\n",
    "help(functools.cached_property)\n",
    "```"
   ]
  },
  {
   "cell_type": "code",
   "execution_count": 174,
   "metadata": {},
   "outputs": [
    {
     "name": "stdout",
     "output_type": "stream",
     "text": [
      "Help on class cached_property in module functools:\n",
      "\n",
      "class cached_property(builtins.object)\n",
      " |  cached_property(func)\n",
      " |  \n",
      " |  Methods defined here:\n",
      " |  \n",
      " |  __get__(self, instance, owner=None)\n",
      " |  \n",
      " |  __init__(self, func)\n",
      " |      Initialize self.  See help(type(self)) for accurate signature.\n",
      " |  \n",
      " |  __set_name__(self, owner, name)\n",
      " |  \n",
      " |  ----------------------------------------------------------------------\n",
      " |  Data descriptors defined here:\n",
      " |  \n",
      " |  __dict__\n",
      " |      dictionary for instance variables (if defined)\n",
      " |  \n",
      " |  __weakref__\n",
      " |      list of weak references to the object (if defined)\n",
      "\n"
     ]
    }
   ],
   "source": [
    "import functools\n",
    "help(functools.cached_property)"
   ]
  },
  {
   "cell_type": "code",
   "execution_count": 175,
   "metadata": {},
   "outputs": [],
   "source": [
    "functools.cached_property??"
   ]
  },
  {
   "cell_type": "markdown",
   "metadata": {},
   "source": [
    "Open [Advanced OOP Lab](./advanced-oop-lab.ipynb)"
   ]
  }
 ],
 "metadata": {
  "kernelspec": {
   "display_name": "Python 3 (ipykernel)",
   "language": "python",
   "name": "python3"
  },
  "language_info": {
   "codemirror_mode": {
    "name": "ipython",
    "version": 3
   },
   "file_extension": ".py",
   "mimetype": "text/x-python",
   "name": "python",
   "nbconvert_exporter": "python",
   "pygments_lexer": "ipython3",
   "version": "3.10.8"
  }
 },
 "nbformat": 4,
 "nbformat_minor": 4
}
