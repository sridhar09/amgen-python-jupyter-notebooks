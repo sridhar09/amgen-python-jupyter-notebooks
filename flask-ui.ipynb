{
 "cells": [
  {
   "cell_type": "markdown",
   "metadata": {},
   "source": [
    "# Building web UIs with Flask\n",
    "\n",
    "In this module, we'll see how to build a basic web UI using Flask"
   ]
  },
  {
   "cell_type": "markdown",
   "metadata": {},
   "source": [
    "First, let's get our helper functions in place to be able to run Flask in the notebook:"
   ]
  },
  {
   "cell_type": "code",
   "execution_count": 1,
   "metadata": {},
   "outputs": [],
   "source": [
    "import os, sys, time, threading, subprocess, contextlib\n",
    "\n",
    "def output_thread(proc):\n",
    "    for line in proc.stdout:\n",
    "        print(line.decode('utf-8'), end='')\n",
    "    print('Exiting output thread')\n",
    "\n",
    "def run_flask_app(app_name):\n",
    "    proc = subprocess.Popen(\n",
    "        # [sys.executable, 'flask', 'run'],\n",
    "        ['flask', 'run', '--no-reload'],\n",
    "        env={\n",
    "            **os.environ, \n",
    "            'FLASK_APP': app_name,\n",
    "            'FLASK_ENV': 'development',\n",
    "        },\n",
    "        stderr=subprocess.STDOUT,\n",
    "        stdout=subprocess.PIPE\n",
    "    )\n",
    "    # Wait for the port to bind\n",
    "    for line in proc.stdout:\n",
    "        line = line.decode('utf-8')\n",
    "        print(line, end='')\n",
    "        if ' * Running on http://127.0.0.1:5000/ (Press CTRL+C to quit)' in line:\n",
    "            break\n",
    "    else:\n",
    "        print('== Error starting server ==')\n",
    "        return None\n",
    "    thd = threading.Thread(target=output_thread, args=(proc,))\n",
    "    thd.setDaemon(True)\n",
    "    thd.start()\n",
    "    return proc\n",
    "\n",
    "\n",
    "@contextlib.contextmanager\n",
    "def running_app(app_name):\n",
    "    proc = run_flask_app(app_name)\n",
    "    try:\n",
    "        yield proc\n",
    "    finally:\n",
    "        proc.kill()        "
   ]
  },
  {
   "cell_type": "markdown",
   "metadata": {},
   "source": [
    "# Flask and Jinja\n",
    "\n",
    "Although you can use any templating library you like with Flask, it comes with good support for Jinja2"
   ]
  },
  {
   "cell_type": "code",
   "execution_count": 2,
   "metadata": {},
   "outputs": [
    {
     "name": "stdout",
     "output_type": "stream",
     "text": [
      "Overwriting data/flask-examples/ui1.py\n"
     ]
    }
   ],
   "source": [
    "%%file data/flask-examples/ui1.py\n",
    "\n",
    "from flask import Flask, render_template\n",
    "\n",
    "app = Flask(__name__)\n",
    "\n",
    "@app.route('/')\n",
    "@app.route('/<name>')\n",
    "def hello(name=None):\n",
    "    return render_template('hello.html', name=name)"
   ]
  },
  {
   "cell_type": "code",
   "execution_count": 3,
   "metadata": {},
   "outputs": [
    {
     "name": "stdout",
     "output_type": "stream",
     "text": [
      "Overwriting data/flask-examples/templates/hello.html\n"
     ]
    }
   ],
   "source": [
    "%%file data/flask-examples/templates/hello.html\n",
    "<!doctype html>\n",
    "<title>Hello Flask</title>\n",
    "{% if name %}\n",
    "<h1>Hello {{ name }}!</h1>\n",
    "{% else %}\n",
    "<h1>Hello, World!</h1>\n",
    "{% endif %}"
   ]
  },
  {
   "cell_type": "code",
   "execution_count": 6,
   "metadata": {},
   "outputs": [],
   "source": [
    "import webbrowser"
   ]
  },
  {
   "cell_type": "code",
   "execution_count": 7,
   "metadata": {},
   "outputs": [
    {
     "name": "stdout",
     "output_type": "stream",
     "text": [
      " * Serving Flask app \"data.flask-examples.ui1\"\n",
      " * Environment: development\n",
      " * Debug mode: on\n",
      " * Running on http://127.0.0.1:5000/ (Press CTRL+C to quit)\n",
      "127.0.0.1 - - [29/Jul/2020 13:06:28] \"\u001b[37mGET / HTTP/1.1\u001b[0m\" 200 -\n",
      "127.0.0.1 - - [29/Jul/2020 13:06:28] \"\u001b[37mGET /favicon.ico HTTP/1.1\u001b[0m\" 200 -\n",
      "127.0.0.1 - - [29/Jul/2020 13:06:29] \"\u001b[37mGET /General%20Kenobi HTTP/1.1\u001b[0m\" 200 -\n",
      "127.0.0.1 - - [29/Jul/2020 13:06:29] \"\u001b[37mGET /favicon.ico HTTP/1.1\u001b[0m\" 200 -\n",
      "Exiting output thread\n"
     ]
    }
   ],
   "source": [
    "with running_app('data.flask-examples.ui1'):\n",
    "    webbrowser.open('http://localhost:5000')\n",
    "    webbrowser.open('http://localhost:5000/General Kenobi')    \n",
    "    time.sleep(2)"
   ]
  },
  {
   "cell_type": "markdown",
   "metadata": {},
   "source": [
    "### Form data\n",
    "\n",
    "We can display read-only output pretty easily, but it's nicer to allow form submission:\n"
   ]
  },
  {
   "cell_type": "code",
   "execution_count": 8,
   "metadata": {},
   "outputs": [
    {
     "name": "stdout",
     "output_type": "stream",
     "text": [
      "Overwriting data/flask-examples/ui2.py\n"
     ]
    }
   ],
   "source": [
    "%%file data/flask-examples/ui2.py\n",
    "\n",
    "from flask import Flask, render_template, request\n",
    "\n",
    "app = Flask(__name__)\n",
    "\n",
    "@app.route('/')\n",
    "def home():\n",
    "    return render_template('home.html')\n",
    "\n",
    "\n",
    "@app.route('/form')\n",
    "def form():\n",
    "    return render_template('form.html')\n",
    "    \n",
    "\n",
    "@app.route('/post', methods=['POST'])\n",
    "def post():\n",
    "    return render_template('post.html', form=request.form)"
   ]
  },
  {
   "cell_type": "code",
   "execution_count": 9,
   "metadata": {},
   "outputs": [
    {
     "name": "stdout",
     "output_type": "stream",
     "text": [
      "Overwriting data/flask-examples/templates/home.html\n"
     ]
    }
   ],
   "source": [
    "%%file data/flask-examples/templates/home.html\n",
    "<!doctype html>\n",
    "<title>Hello Flask</title>\n",
    "\n",
    "<h1>You can visit the following links:</h1>\n",
    "<ul>\n",
    "    <li><a href=\"/form\">The Form</a></li>\n",
    "</ul>"
   ]
  },
  {
   "cell_type": "code",
   "execution_count": 10,
   "metadata": {},
   "outputs": [
    {
     "name": "stdout",
     "output_type": "stream",
     "text": [
      "Overwriting data/flask-examples/templates/form.html\n"
     ]
    }
   ],
   "source": [
    "%%file data/flask-examples/templates/form.html\n",
    "<!doctype html>\n",
    "<title>Hello Form!</title>\n",
    "\n",
    "Return <a href=\"/\">home</a>\n",
    "\n",
    "<form method=\"POST\" action=\"/post\">\n",
    "  <label for=\"name\">Your name</label><br/>\n",
    "  <input id=\"name\" name=\"name\"/><br/>\n",
    "\n",
    "  <label for=\"color\">Your favorite color</label><br/>\n",
    "  <input id=\"color\" name=\"color\"/><br/>\n",
    "\n",
    "  <input type=\"submit\"/>\n",
    "</form>"
   ]
  },
  {
   "cell_type": "code",
   "execution_count": 11,
   "metadata": {},
   "outputs": [
    {
     "name": "stdout",
     "output_type": "stream",
     "text": [
      "Overwriting data/flask-examples/templates/post.html\n"
     ]
    }
   ],
   "source": [
    "%%file data/flask-examples/templates/post.html\n",
    "<!doctype html>\n",
    "<title>Hello Post!</title>\n",
    "\n",
    "Return <a href=\"/\">home</a>\n",
    "\n",
    "You entered the following:\n",
    "\n",
    "<div style=\"background-color:{{form.color}}\">\n",
    "Name: {{form.name}}<br/>\n",
    "Favorite Color: {{form.color}}\n",
    "</div>"
   ]
  },
  {
   "cell_type": "code",
   "execution_count": 12,
   "metadata": {},
   "outputs": [
    {
     "name": "stdout",
     "output_type": "stream",
     "text": [
      " * Serving Flask app \"data.flask-examples.ui2\"\n",
      " * Environment: development\n",
      " * Debug mode: on\n",
      " * Running on http://127.0.0.1:5000/ (Press CTRL+C to quit)\n"
     ]
    },
    {
     "data": {
      "text/plain": [
       "True"
      ]
     },
     "execution_count": 12,
     "metadata": {},
     "output_type": "execute_result"
    },
    {
     "name": "stdout",
     "output_type": "stream",
     "text": [
      "127.0.0.1 - - [29/Jul/2020 13:10:15] \"\u001b[37mGET / HTTP/1.1\u001b[0m\" 200 -\n",
      "127.0.0.1 - - [29/Jul/2020 13:10:29] \"\u001b[37mGET / HTTP/1.1\u001b[0m\" 200 -\n",
      "127.0.0.1 - - [29/Jul/2020 13:10:34] \"\u001b[37mGET /form HTTP/1.1\u001b[0m\" 200 -\n",
      "127.0.0.1 - - [29/Jul/2020 13:10:34] \"\u001b[33mGET /favicon.ico HTTP/1.1\u001b[0m\" 404 -\n",
      "127.0.0.1 - - [29/Jul/2020 13:10:41] \"\u001b[37mPOST /post HTTP/1.1\u001b[0m\" 200 -\n",
      "127.0.0.1 - - [29/Jul/2020 13:10:41] \"\u001b[33mGET /favicon.ico HTTP/1.1\u001b[0m\" 404 -\n",
      "127.0.0.1 - - [29/Jul/2020 13:11:20] \"\u001b[37mGET / HTTP/1.1\u001b[0m\" 200 -\n",
      "127.0.0.1 - - [29/Jul/2020 13:11:21] \"\u001b[37mGET /form HTTP/1.1\u001b[0m\" 200 -\n",
      "127.0.0.1 - - [29/Jul/2020 13:11:32] \"\u001b[37mPOST /post HTTP/1.1\u001b[0m\" 200 -\n",
      "127.0.0.1 - - [29/Jul/2020 13:11:40] \"\u001b[37mGET / HTTP/1.1\u001b[0m\" 200 -\n"
     ]
    }
   ],
   "source": [
    "sp = run_flask_app('data.flask-examples.ui2')\n",
    "webbrowser.open('localhost:5000')"
   ]
  },
  {
   "cell_type": "code",
   "execution_count": 13,
   "metadata": {},
   "outputs": [
    {
     "name": "stdout",
     "output_type": "stream",
     "text": [
      "Exiting output thread\n"
     ]
    }
   ],
   "source": [
    "sp.kill()"
   ]
  },
  {
   "cell_type": "markdown",
   "metadata": {},
   "source": [
    "# Adding some state\n",
    "\n",
    "Now that we have html and forms, we can build a little app:"
   ]
  },
  {
   "cell_type": "code",
   "execution_count": 14,
   "metadata": {},
   "outputs": [
    {
     "name": "stdout",
     "output_type": "stream",
     "text": [
      "Overwriting data/flask-examples/state.py\n"
     ]
    }
   ],
   "source": [
    "%%file data/flask-examples/state.py\n",
    "import os, threading, pickle\n",
    "\n",
    "\n",
    "class StateManager():\n",
    "    \n",
    "    def __init__(self, filename):\n",
    "        self.filename = filename\n",
    "        self.lock = threading.Lock()\n",
    "        self._state = None\n",
    "        \n",
    "    def get(self):\n",
    "        with self.lock:\n",
    "            if self._state is None:\n",
    "                self._state = self._load_state()\n",
    "        return self._state\n",
    "\n",
    "    def save(self):\n",
    "        with self.lock:\n",
    "            self._persist_state()\n",
    "            \n",
    "    def _load_state(self):\n",
    "        if not os.path.exists(self.filename):\n",
    "            return {}\n",
    "        with open(self.filename, 'rb') as f:\n",
    "            return pickle.load(f)\n",
    "        \n",
    "    def _persist_state(self):\n",
    "        with open(self.filename, 'wb') as f:\n",
    "            pickle.dump(self._state, f)\n",
    "            "
   ]
  },
  {
   "cell_type": "code",
   "execution_count": null,
   "metadata": {},
   "outputs": [],
   "source": [
    "%%file data/flask-examples/todo.py\n",
    "import os\n",
    "from flask import Flask, render_template, request, url_for, redirect\n",
    "\n",
    "from .state import StateManager\n",
    "\n",
    "app = Flask(__name__)\n",
    "\n",
    "STATE_MANAGER = StateManager(\n",
    "    os.path.abspath(\n",
    "        os.path.join(\n",
    "            os.path.dirname('__file__'),\n",
    "            'state.pkl'\n",
    "        )\n",
    "    )\n",
    ")\n",
    "\n",
    "@app.route('/')\n",
    "def home():\n",
    "    state = STATE_MANAGER.get()\n",
    "    items = state.get('items', [])\n",
    "    return render_template('todo.html', items=items)\n",
    "\n",
    "\n",
    "@app.route('/add', methods=['POST'])\n",
    "def add_todo():\n",
    "    state = STATE_MANAGER.get()\n",
    "    items = state.setdefault('items', [])\n",
    "    items.append(request.form['item'])\n",
    "    STATE_MANAGER.save()\n",
    "    return redirect(url_for('home'))\n",
    "\n",
    "\n",
    "@app.route('/del', methods=['POST'])\n",
    "def del_todo():\n",
    "    print(f'Delete {request.form[\"index\"]}')\n",
    "    state = STATE_MANAGER.get()\n",
    "    index = int(request.form['index'])\n",
    "    items = state.get('items', [])\n",
    "    if index < len(items):\n",
    "        del items[index]\n",
    "        STATE_MANAGER.save()\n",
    "    return redirect(url_for('home'))\n"
   ]
  },
  {
   "cell_type": "code",
   "execution_count": 15,
   "metadata": {},
   "outputs": [
    {
     "name": "stdout",
     "output_type": "stream",
     "text": [
      "Overwriting data/flask-examples/templates/todo.html\n"
     ]
    }
   ],
   "source": [
    "%%file data/flask-examples/templates/todo.html\n",
    "<!doctype html>\n",
    "<title>Simple Todo</title>\n",
    "\n",
    "<h1>To-Do List</h1>\n",
    "\n",
    "<ul>\n",
    "{% for item in items %}\n",
    "    <li>\n",
    "        {{item}}\n",
    "        <form method=\"POST\" action={{url_for('del_todo')}}>\n",
    "            <input type=\"hidden\" name=\"index\" value=\"{{loop.index0}}\"/>\n",
    "            <input type=\"submit\" value=\"Delete\"/>\n",
    "        </form>\n",
    "    </li>\n",
    "{% endfor%}\n",
    "</ul>\n",
    "\n",
    "<form method=\"POST\" action={{url_for('add_todo')}}>\n",
    "    <label for=\"item\">Add todo item</label><br/>\n",
    "    <input name=\"item\"/>\n",
    "</form>\n"
   ]
  },
  {
   "cell_type": "code",
   "execution_count": 16,
   "metadata": {
    "scrolled": false
   },
   "outputs": [
    {
     "name": "stdout",
     "output_type": "stream",
     "text": [
      " * Serving Flask app \"data.flask-examples.todo\"\n",
      " * Environment: development\n",
      " * Debug mode: on\n",
      " * Running on http://127.0.0.1:5000/ (Press CTRL+C to quit)\n",
      "127.0.0.1 - - [29/Jul/2020 13:19:07] \"\u001b[37mGET / HTTP/1.1\u001b[0m\" 200 -\n",
      "127.0.0.1 - - [29/Jul/2020 13:19:16] \"\u001b[32mPOST /del HTTP/1.1\u001b[0m\" 302 -\n",
      "127.0.0.1 - - [29/Jul/2020 13:19:16] \"\u001b[37mGET / HTTP/1.1\u001b[0m\" 200 -\n",
      "127.0.0.1 - - [29/Jul/2020 13:19:17] \"\u001b[32mPOST /del HTTP/1.1\u001b[0m\" 302 -\n",
      "127.0.0.1 - - [29/Jul/2020 13:19:17] \"\u001b[37mGET / HTTP/1.1\u001b[0m\" 200 -\n",
      "127.0.0.1 - - [29/Jul/2020 13:19:18] \"\u001b[32mPOST /del HTTP/1.1\u001b[0m\" 302 -\n",
      "127.0.0.1 - - [29/Jul/2020 13:19:18] \"\u001b[37mGET / HTTP/1.1\u001b[0m\" 200 -\n",
      "127.0.0.1 - - [29/Jul/2020 13:19:28] \"\u001b[32mPOST /add HTTP/1.1\u001b[0m\" 302 -\n",
      "127.0.0.1 - - [29/Jul/2020 13:19:28] \"\u001b[37mGET / HTTP/1.1\u001b[0m\" 200 -\n",
      "127.0.0.1 - - [29/Jul/2020 13:19:40] \"\u001b[32mPOST /add HTTP/1.1\u001b[0m\" 302 -\n",
      "127.0.0.1 - - [29/Jul/2020 13:19:40] \"\u001b[37mGET / HTTP/1.1\u001b[0m\" 200 -\n",
      "127.0.0.1 - - [29/Jul/2020 13:19:44] \"\u001b[32mPOST /add HTTP/1.1\u001b[0m\" 302 -\n",
      "127.0.0.1 - - [29/Jul/2020 13:19:44] \"\u001b[37mGET / HTTP/1.1\u001b[0m\" 200 -\n",
      "127.0.0.1 - - [29/Jul/2020 13:19:48] \"\u001b[32mPOST /add HTTP/1.1\u001b[0m\" 302 -\n",
      "127.0.0.1 - - [29/Jul/2020 13:19:48] \"\u001b[37mGET / HTTP/1.1\u001b[0m\" 200 -\n"
     ]
    }
   ],
   "source": [
    "sp = run_flask_app('data.flask-examples.todo')"
   ]
  },
  {
   "cell_type": "code",
   "execution_count": 17,
   "metadata": {},
   "outputs": [
    {
     "name": "stdout",
     "output_type": "stream",
     "text": [
      "Exiting output thread\n"
     ]
    }
   ],
   "source": [
    "sp.kill()"
   ]
  },
  {
   "cell_type": "markdown",
   "metadata": {},
   "source": [
    "# Lab\n",
    "\n",
    "Open the [Flask UI lab][flask-ui-lab]\n",
    "\n",
    "[flask-ui-lab]: ./flask-ui-lab.ipynb"
   ]
  },
  {
   "cell_type": "code",
   "execution_count": null,
   "metadata": {},
   "outputs": [],
   "source": []
  }
 ],
 "metadata": {
  "kernelspec": {
   "display_name": "Python 3",
   "language": "python",
   "name": "python3"
  },
  "language_info": {
   "codemirror_mode": {
    "name": "ipython",
    "version": 3
   },
   "file_extension": ".py",
   "mimetype": "text/x-python",
   "name": "python",
   "nbconvert_exporter": "python",
   "pygments_lexer": "ipython3",
   "version": "3.7.6"
  }
 },
 "nbformat": 4,
 "nbformat_minor": 2
}
