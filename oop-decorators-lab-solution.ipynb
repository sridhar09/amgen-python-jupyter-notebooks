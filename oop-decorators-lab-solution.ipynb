{
 "cells": [
  {
   "cell_type": "markdown",
   "metadata": {},
   "source": [
    "## Lab\n",
    "\n",
    "Create a class with an instance variable called `name` which keeps track of all the `name`s of objects that have ever been created in a **class** attribute.\n",
    "\n",
    "Create classmethods \n",
    " - `all_names` which returns a list of all the names of objects that have ever been created\n",
    " - `total_count` which returns the number of instances ever created"
   ]
  },
  {
   "cell_type": "code",
   "execution_count": 6,
   "metadata": {},
   "outputs": [],
   "source": [
    "class Named:\n",
    "    _names = []\n",
    "    \n",
    "    def __init__(self, name):\n",
    "        self._name = name\n",
    "        self._names.append(name)\n",
    "        # Named._names.append(name)\n",
    "        \n",
    "    @classmethod\n",
    "    def all_names(cls):\n",
    "        return cls._names\n",
    "    \n",
    "    @classmethod\n",
    "    def total_count(cls):\n",
    "        return len(cls._names)"
   ]
  },
  {
   "cell_type": "code",
   "execution_count": 7,
   "metadata": {},
   "outputs": [
    {
     "data": {
      "text/plain": [
       "['Rick', 'Nancy', 'Matthew', 'Anna', 'Anna', 'Anna']"
      ]
     },
     "execution_count": 7,
     "metadata": {},
     "output_type": "execute_result"
    }
   ],
   "source": [
    "objs = [\n",
    "    Named('Rick'), \n",
    "    Named('Nancy'),\n",
    "    Named('Matthew'),\n",
    "    Named('Anna'),\n",
    "    Named('Anna'),\n",
    "    Named('Anna'),\n",
    "]\n",
    "Named.all_names()"
   ]
  },
  {
   "cell_type": "code",
   "execution_count": 8,
   "metadata": {},
   "outputs": [
    {
     "data": {
      "text/plain": [
       "6"
      ]
     },
     "execution_count": 8,
     "metadata": {},
     "output_type": "execute_result"
    }
   ],
   "source": [
    "Named.total_count()"
   ]
  },
  {
   "cell_type": "markdown",
   "metadata": {},
   "source": [
    "Enhance the class above to also keep track of the objects that *currently* exist\n",
    "\n",
    "- The `__del__` magic method will be called when an object is garbage-collected\n",
    "- You can use the `id()` function to get a unique number that identifies an object in memory\n",
    "\n",
    "Create the classmethods:\n",
    "\n",
    "- `curr_names` which returns a list of all the currently-existing object names\n",
    "- `curr_count` which returns the total # of currently-exisiting objects"
   ]
  },
  {
   "cell_type": "code",
   "execution_count": 9,
   "metadata": {},
   "outputs": [],
   "source": [
    "class Named:\n",
    "    _names = []\n",
    "    _live_names = {}\n",
    "    \n",
    "    def __init__(self, name):\n",
    "        self._name = name\n",
    "        self._names.append(name)\n",
    "        self._live_names[id(self)] = name\n",
    "        \n",
    "    def __del__(self):\n",
    "        # del self._live_names[id(self)]\n",
    "        self._live_names.pop(id(self), None)\n",
    "        \n",
    "    @classmethod\n",
    "    def all_names(cls):\n",
    "        return cls._names\n",
    "    \n",
    "    @classmethod\n",
    "    def total_count(cls):\n",
    "        return len(cls._names)\n",
    "    \n",
    "    @classmethod\n",
    "    def curr_names(cls):\n",
    "        return list(cls._live_names.values())\n",
    "    \n",
    "    @classmethod\n",
    "    def curr_count(cls):\n",
    "        return len(cls._live_names)\n",
    "    \n",
    "    "
   ]
  },
  {
   "cell_type": "code",
   "execution_count": 10,
   "metadata": {},
   "outputs": [
    {
     "data": {
      "text/plain": [
       "['Rick', 'Nancy', 'Matthew', 'Anna', 'Anna', 'Anna']"
      ]
     },
     "execution_count": 10,
     "metadata": {},
     "output_type": "execute_result"
    }
   ],
   "source": [
    "objs = [\n",
    "    Named('Rick'), \n",
    "    Named('Nancy'),\n",
    "    Named('Matthew'),\n",
    "    Named('Anna'),\n",
    "    Named('Anna'),\n",
    "    Named('Anna'),\n",
    "]\n",
    "Named.all_names()"
   ]
  },
  {
   "cell_type": "code",
   "execution_count": 11,
   "metadata": {},
   "outputs": [
    {
     "data": {
      "text/plain": [
       "['Rick', 'Nancy', 'Matthew', 'Anna', 'Anna', 'Anna']"
      ]
     },
     "execution_count": 11,
     "metadata": {},
     "output_type": "execute_result"
    }
   ],
   "source": [
    "Named.curr_names()"
   ]
  },
  {
   "cell_type": "code",
   "execution_count": 12,
   "metadata": {},
   "outputs": [
    {
     "data": {
      "text/plain": [
       "6"
      ]
     },
     "execution_count": 12,
     "metadata": {},
     "output_type": "execute_result"
    }
   ],
   "source": [
    "Named.curr_count()"
   ]
  },
  {
   "cell_type": "code",
   "execution_count": 13,
   "metadata": {},
   "outputs": [],
   "source": [
    "del objs[4:]"
   ]
  },
  {
   "cell_type": "code",
   "execution_count": 14,
   "metadata": {},
   "outputs": [
    {
     "data": {
      "text/plain": [
       "['Rick', 'Nancy', 'Matthew', 'Anna']"
      ]
     },
     "execution_count": 14,
     "metadata": {},
     "output_type": "execute_result"
    }
   ],
   "source": [
    "Named.curr_names()"
   ]
  },
  {
   "cell_type": "code",
   "execution_count": 15,
   "metadata": {},
   "outputs": [
    {
     "data": {
      "text/plain": [
       "4"
      ]
     },
     "execution_count": 15,
     "metadata": {},
     "output_type": "execute_result"
    }
   ],
   "source": [
    "Named.curr_count()"
   ]
  },
  {
   "cell_type": "code",
   "execution_count": 16,
   "metadata": {},
   "outputs": [
    {
     "data": {
      "text/plain": [
       "['Rick', 'Nancy', 'Matthew', 'Anna', 'Anna', 'Anna']"
      ]
     },
     "execution_count": 16,
     "metadata": {},
     "output_type": "execute_result"
    }
   ],
   "source": [
    "Named.all_names()"
   ]
  },
  {
   "cell_type": "code",
   "execution_count": null,
   "metadata": {},
   "outputs": [],
   "source": []
  }
 ],
 "metadata": {
  "kernelspec": {
   "display_name": "Python 3",
   "language": "python",
   "name": "python3"
  },
  "language_info": {
   "codemirror_mode": {
    "name": "ipython",
    "version": 3
   },
   "file_extension": ".py",
   "mimetype": "text/x-python",
   "name": "python",
   "nbconvert_exporter": "python",
   "pygments_lexer": "ipython3",
   "version": "3.8.5"
  }
 },
 "nbformat": 4,
 "nbformat_minor": 2
}
