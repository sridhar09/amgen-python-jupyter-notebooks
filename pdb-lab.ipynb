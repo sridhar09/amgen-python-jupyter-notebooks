{
 "cells": [
  {
   "cell_type": "markdown",
   "metadata": {},
   "source": [
    "# Debugging Lab"
   ]
  },
  {
   "cell_type": "markdown",
   "metadata": {},
   "source": [
    "Run the following code (it will cause an exception)\n",
    "\n",
    "Then use the `%debug` magic command to find the value of 'x' when the exception was thrown. Make sure you \n",
    "(q)uit or \n",
    "(c)ontinue your PDB session when you're done."
   ]
  },
  {
   "cell_type": "code",
   "execution_count": null,
   "metadata": {},
   "outputs": [],
   "source": [
    "values = range(-10, 10, 1)\n",
    "\n",
    "def calculate_reciprocal(x):\n",
    "    return 1.0 / x\n",
    "\n",
    "def recips():\n",
    "    return [calculate_reciprocal(x) for x in values]\n",
    "\n",
    "print(recips())"
   ]
  },
  {
   "cell_type": "code",
   "execution_count": null,
   "metadata": {},
   "outputs": [],
   "source": []
  },
  {
   "cell_type": "markdown",
   "metadata": {},
   "source": [
    "Use the `%pdb` command to turn on automatic post-mortem debugging and the run following code. Make sure you (q)uit or (c)ontinue your PDB session when you're done."
   ]
  },
  {
   "cell_type": "code",
   "execution_count": null,
   "metadata": {},
   "outputs": [],
   "source": [
    "print(recips())"
   ]
  },
  {
   "cell_type": "code",
   "execution_count": null,
   "metadata": {},
   "outputs": [],
   "source": []
  },
  {
   "cell_type": "markdown",
   "metadata": {},
   "source": [
    "Use `import pdb; pdb.set_trace()` (or `breakpoint()`) to set a breakpoint in `calculate_reciprocal()` just before the reciprocal is calculated when `x==0`. Just before the exception, change the value of x so as to avoid the exception and step through the rest of the program."
   ]
  },
  {
   "cell_type": "code",
   "execution_count": null,
   "metadata": {},
   "outputs": [],
   "source": []
  }
 ],
 "metadata": {
  "kernelspec": {
   "display_name": "Python 3",
   "language": "python",
   "name": "python3"
  },
  "language_info": {
   "codemirror_mode": {
    "name": "ipython",
    "version": 3
   },
   "file_extension": ".py",
   "mimetype": "text/x-python",
   "name": "python",
   "nbconvert_exporter": "python",
   "pygments_lexer": "ipython3",
   "version": "3.8.5"
  }
 },
 "nbformat": 4,
 "nbformat_minor": 2
}
