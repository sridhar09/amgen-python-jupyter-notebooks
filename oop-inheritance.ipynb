{
 "cells": [
  {
   "cell_type": "markdown",
   "metadata": {},
   "source": [
    "# Object-Oriented Inheritance\n",
    "\n",
    "A key concept of OOP in Python and other languages is the notion of inheritance, also known as subclassing or subtyping. Consider modeling Animals:"
   ]
  },
  {
   "cell_type": "code",
   "execution_count": 1,
   "metadata": {},
   "outputs": [],
   "source": [
    "class Animal:\n",
    "\n",
    "    def __init__(self, name):\n",
    "        self._name = name\n",
    "        \n",
    "    def speak(self, message):\n",
    "        print(f'{self._name} the {type(self).__name__} says \"{message}\"')\n",
    "        \n",
    "    def get_number_of_legs(self):\n",
    "        raise NotImplementedError"
   ]
  },
  {
   "cell_type": "code",
   "execution_count": 2,
   "metadata": {},
   "outputs": [],
   "source": [
    "animal = Animal('Generic')"
   ]
  },
  {
   "cell_type": "code",
   "execution_count": 3,
   "metadata": {},
   "outputs": [
    {
     "name": "stdout",
     "output_type": "stream",
     "text": [
      "Generic the Animal says \"Can I really speak?\"\n"
     ]
    }
   ],
   "source": [
    "animal.speak('Can I really speak?')"
   ]
  },
  {
   "cell_type": "code",
   "execution_count": 4,
   "metadata": {},
   "outputs": [
    {
     "ename": "NotImplementedError",
     "evalue": "",
     "output_type": "error",
     "traceback": [
      "\u001b[0;31m---------------------------------------------------------------------------\u001b[0m",
      "\u001b[0;31mNotImplementedError\u001b[0m                       Traceback (most recent call last)",
      "\u001b[0;32m<ipython-input-4-11b354c125e8>\u001b[0m in \u001b[0;36m<module>\u001b[0;34m\u001b[0m\n\u001b[0;32m----> 1\u001b[0;31m \u001b[0manimal\u001b[0m\u001b[0;34m.\u001b[0m\u001b[0mget_number_of_legs\u001b[0m\u001b[0;34m(\u001b[0m\u001b[0;34m)\u001b[0m\u001b[0;34m\u001b[0m\u001b[0;34m\u001b[0m\u001b[0m\n\u001b[0m",
      "\u001b[0;32m<ipython-input-1-99d82c4c6dc2>\u001b[0m in \u001b[0;36mget_number_of_legs\u001b[0;34m(self)\u001b[0m\n\u001b[1;32m      8\u001b[0m \u001b[0;34m\u001b[0m\u001b[0m\n\u001b[1;32m      9\u001b[0m     \u001b[0;32mdef\u001b[0m \u001b[0mget_number_of_legs\u001b[0m\u001b[0;34m(\u001b[0m\u001b[0mself\u001b[0m\u001b[0;34m)\u001b[0m\u001b[0;34m:\u001b[0m\u001b[0;34m\u001b[0m\u001b[0;34m\u001b[0m\u001b[0m\n\u001b[0;32m---> 10\u001b[0;31m         \u001b[0;32mraise\u001b[0m \u001b[0mNotImplementedError\u001b[0m\u001b[0;34m\u001b[0m\u001b[0;34m\u001b[0m\u001b[0m\n\u001b[0m",
      "\u001b[0;31mNotImplementedError\u001b[0m: "
     ]
    }
   ],
   "source": [
    "animal.get_number_of_legs()"
   ]
  },
  {
   "cell_type": "markdown",
   "metadata": {},
   "source": [
    "We might want to create some more specific `class`es that \"know\" how many legs they have. We do this by **overriding** the implementation of the `get_number_of_legs` method:"
   ]
  },
  {
   "cell_type": "code",
   "execution_count": 5,
   "metadata": {},
   "outputs": [],
   "source": [
    "class Biped(Animal):   # \"Biped extends Animal\" or \"Biped specializes Animal\"\n",
    "    \n",
    "    def get_number_of_legs(self):\n",
    "        return 2\n",
    "\n",
    "    \n",
    "class Quadruped(Animal):\n",
    "    \n",
    "    def get_number_of_legs(self):\n",
    "        return 4  "
   ]
  },
  {
   "cell_type": "markdown",
   "metadata": {},
   "source": [
    "override ~== overwrite"
   ]
  },
  {
   "cell_type": "code",
   "execution_count": 6,
   "metadata": {},
   "outputs": [],
   "source": [
    "monkey = Biped('George')\n",
    "dog = Quadruped('Gracie')"
   ]
  },
  {
   "cell_type": "code",
   "execution_count": 7,
   "metadata": {},
   "outputs": [
    {
     "data": {
      "text/plain": [
       "True"
      ]
     },
     "execution_count": 7,
     "metadata": {},
     "output_type": "execute_result"
    }
   ],
   "source": [
    "isinstance(monkey, Biped)"
   ]
  },
  {
   "cell_type": "code",
   "execution_count": 8,
   "metadata": {},
   "outputs": [
    {
     "data": {
      "text/plain": [
       "True"
      ]
     },
     "execution_count": 8,
     "metadata": {},
     "output_type": "execute_result"
    }
   ],
   "source": [
    "isinstance(monkey, Animal)"
   ]
  },
  {
   "cell_type": "markdown",
   "metadata": {},
   "source": [
    "is-a vs has-a"
   ]
  },
  {
   "cell_type": "code",
   "execution_count": 9,
   "metadata": {},
   "outputs": [
    {
     "data": {
      "text/plain": [
       "True"
      ]
     },
     "execution_count": 9,
     "metadata": {},
     "output_type": "execute_result"
    }
   ],
   "source": [
    "issubclass(Biped, Animal)"
   ]
  },
  {
   "cell_type": "code",
   "execution_count": 10,
   "metadata": {},
   "outputs": [
    {
     "data": {
      "text/plain": [
       "False"
      ]
     },
     "execution_count": 10,
     "metadata": {},
     "output_type": "execute_result"
    }
   ],
   "source": [
    "isinstance(Biped, Animal)"
   ]
  },
  {
   "cell_type": "code",
   "execution_count": 11,
   "metadata": {},
   "outputs": [
    {
     "data": {
      "text/plain": [
       "True"
      ]
     },
     "execution_count": 11,
     "metadata": {},
     "output_type": "execute_result"
    }
   ],
   "source": [
    "isinstance(Biped, type)"
   ]
  },
  {
   "cell_type": "code",
   "execution_count": 12,
   "metadata": {},
   "outputs": [
    {
     "name": "stdout",
     "output_type": "stream",
     "text": [
      "George the Biped says \"hello\"\n"
     ]
    }
   ],
   "source": [
    "monkey.speak('hello')"
   ]
  },
  {
   "cell_type": "code",
   "execution_count": 13,
   "metadata": {},
   "outputs": [
    {
     "name": "stdout",
     "output_type": "stream",
     "text": [
      "Gracie the Quadruped says \"hello\"\n"
     ]
    }
   ],
   "source": [
    "dog.speak('hello')"
   ]
  },
  {
   "cell_type": "code",
   "execution_count": 14,
   "metadata": {},
   "outputs": [
    {
     "data": {
      "text/plain": [
       "2"
      ]
     },
     "execution_count": 14,
     "metadata": {},
     "output_type": "execute_result"
    }
   ],
   "source": [
    "monkey.get_number_of_legs()"
   ]
  },
  {
   "cell_type": "code",
   "execution_count": 15,
   "metadata": {},
   "outputs": [
    {
     "data": {
      "text/plain": [
       "4"
      ]
     },
     "execution_count": 15,
     "metadata": {},
     "output_type": "execute_result"
    }
   ],
   "source": [
    "dog.get_number_of_legs()"
   ]
  },
  {
   "cell_type": "markdown",
   "metadata": {},
   "source": [
    "We can further specialize our classes. In this case, we'll provide a default name for instances of the `Monkey` and `Dog` class, and then **delegate** to the base class (\"superclass\") implementation of `__init__`:"
   ]
  },
  {
   "cell_type": "markdown",
   "metadata": {},
   "source": [
    "Keep your code \"DRY\" -- \n",
    "\n",
    "- Don't \n",
    "- Repeat\n",
    "- Yourself"
   ]
  },
  {
   "cell_type": "code",
   "execution_count": 16,
   "metadata": {},
   "outputs": [],
   "source": [
    "class Monkey(Biped):\n",
    "\n",
    "    def __init__(self, name='George'):\n",
    "        super().__init__(name)\n",
    "        # Biped.__init__(self, name) not preferred\n",
    "        \n",
    "\n",
    "class Dog(Quadruped):\n",
    "    \n",
    "    def __init__(self, name='Gracie'):\n",
    "        super().__init__(name)"
   ]
  },
  {
   "cell_type": "code",
   "execution_count": 17,
   "metadata": {},
   "outputs": [],
   "source": [
    "animals = [Monkey(), Dog(), Dog('Fido')]"
   ]
  },
  {
   "cell_type": "code",
   "execution_count": 18,
   "metadata": {},
   "outputs": [
    {
     "name": "stdout",
     "output_type": "stream",
     "text": [
      "George the Monkey says \"Hello there, I have 2 legs\"\n",
      "Gracie the Dog says \"Hello there, I have 4 legs\"\n",
      "Fido the Dog says \"Hello there, I have 4 legs\"\n"
     ]
    }
   ],
   "source": [
    "for a in animals:\n",
    "    a.speak(f'Hello there, I have {a.get_number_of_legs()} legs')\n",
    "#     f = a.speak  => \"bound method\"\n",
    "#     f('Hello there, I have {a.get_number_of_legs()} legs')    "
   ]
  },
  {
   "cell_type": "markdown",
   "metadata": {},
   "source": [
    "# Python attribute lookup\n",
    "\n",
    "Assume we have this code:\n",
    "\n",
    "```python\n",
    "foo = Dog()\n",
    "```\n",
    "\n",
    "When you use the syntax `foo.bar`, or `getattr(foo, \"bar\")` what does Python actually _do_?\n",
    "\n",
    "1. Examine the **instance** foo to see if has an instance attribute named `bar`. If it does, return it.\n",
    "1. Examine the the **class** of foo (in this case, `Dog`) to see if it has an attribute named `bar`. If it does, return it.\n",
    "1. Using the *method resolution order* (MRO) of Dog, examine the superclasses (a.k.a. base classes, ancestor classes, etc.) of Dog to see if any of them have an attribute named `bar`, returning the value if it does\n",
    "1. Upon exhausting the MRO, without finding the name, raise `AttributeError`\n",
    "\n",
    "This happens on all attribute lookups (i.e. reading a dotted name, or using the builtin function `getattr()`), including method lookups. "
   ]
  },
  {
   "cell_type": "code",
   "execution_count": 19,
   "metadata": {},
   "outputs": [],
   "source": [
    "def tripod():\n",
    "    return 3\n",
    "\n",
    "animals[2].get_number_of_legs = tripod"
   ]
  },
  {
   "cell_type": "code",
   "execution_count": 20,
   "metadata": {},
   "outputs": [
    {
     "data": {
      "text/plain": [
       "3"
      ]
     },
     "execution_count": 20,
     "metadata": {},
     "output_type": "execute_result"
    }
   ],
   "source": [
    "animals[2].get_number_of_legs()"
   ]
  },
  {
   "cell_type": "code",
   "execution_count": 21,
   "metadata": {},
   "outputs": [
    {
     "data": {
      "text/plain": [
       "4"
      ]
     },
     "execution_count": 21,
     "metadata": {},
     "output_type": "execute_result"
    }
   ],
   "source": [
    "animals[1].get_number_of_legs()"
   ]
  },
  {
   "cell_type": "code",
   "execution_count": 22,
   "metadata": {},
   "outputs": [
    {
     "data": {
      "text/plain": [
       "[__main__.Dog, __main__.Quadruped, __main__.Animal, object]"
      ]
     },
     "execution_count": 22,
     "metadata": {},
     "output_type": "execute_result"
    }
   ],
   "source": [
    "Dog.mro()"
   ]
  },
  {
   "cell_type": "code",
   "execution_count": 23,
   "metadata": {},
   "outputs": [
    {
     "data": {
      "text/plain": [
       "{'_name': 'Fido', 'get_number_of_legs': <function __main__.tripod()>}"
      ]
     },
     "execution_count": 23,
     "metadata": {},
     "output_type": "execute_result"
    }
   ],
   "source": [
    "a.__dict__"
   ]
  },
  {
   "cell_type": "code",
   "execution_count": 24,
   "metadata": {},
   "outputs": [
    {
     "data": {
      "text/plain": [
       "__main__.Dog"
      ]
     },
     "execution_count": 24,
     "metadata": {},
     "output_type": "execute_result"
    }
   ],
   "source": [
    "type(a)"
   ]
  },
  {
   "cell_type": "code",
   "execution_count": 25,
   "metadata": {},
   "outputs": [
    {
     "data": {
      "text/plain": [
       "mappingproxy({'__module__': '__main__',\n",
       "              '__init__': <function __main__.Dog.__init__(self, name='Gracie')>,\n",
       "              '__doc__': None})"
      ]
     },
     "execution_count": 25,
     "metadata": {},
     "output_type": "execute_result"
    }
   ],
   "source": [
    "type(a).__dict__"
   ]
  },
  {
   "cell_type": "code",
   "execution_count": 26,
   "metadata": {},
   "outputs": [
    {
     "data": {
      "text/plain": [
       "mappingproxy({'__module__': '__main__',\n",
       "              'get_number_of_legs': <function __main__.Quadruped.get_number_of_legs(self)>,\n",
       "              '__doc__': None})"
      ]
     },
     "execution_count": 26,
     "metadata": {},
     "output_type": "execute_result"
    }
   ],
   "source": [
    "Quadruped.__dict__"
   ]
  },
  {
   "cell_type": "code",
   "execution_count": 27,
   "metadata": {},
   "outputs": [
    {
     "data": {
      "text/plain": [
       "<bound method Animal.speak of <__main__.Dog object at 0x7ff05c3f9100>>"
      ]
     },
     "execution_count": 27,
     "metadata": {},
     "output_type": "execute_result"
    }
   ],
   "source": [
    "a.speak"
   ]
  },
  {
   "cell_type": "code",
   "execution_count": 28,
   "metadata": {},
   "outputs": [
    {
     "data": {
      "text/plain": [
       "<function __main__.tripod()>"
      ]
     },
     "execution_count": 28,
     "metadata": {},
     "output_type": "execute_result"
    }
   ],
   "source": [
    "a.get_number_of_legs   # not really a method "
   ]
  },
  {
   "cell_type": "code",
   "execution_count": 29,
   "metadata": {},
   "outputs": [
    {
     "data": {
      "text/plain": [
       "'Fido'"
      ]
     },
     "execution_count": 29,
     "metadata": {},
     "output_type": "execute_result"
    }
   ],
   "source": [
    "getattr(a, '_name')  # a._name"
   ]
  },
  {
   "cell_type": "code",
   "execution_count": 30,
   "metadata": {},
   "outputs": [
    {
     "data": {
      "text/plain": [
       "[__main__.Monkey, __main__.Biped, __main__.Animal, object]"
      ]
     },
     "execution_count": 30,
     "metadata": {},
     "output_type": "execute_result"
    }
   ],
   "source": [
    "Monkey.mro()"
   ]
  },
  {
   "cell_type": "code",
   "execution_count": 31,
   "metadata": {},
   "outputs": [
    {
     "data": {
      "text/plain": [
       "[__main__.Dog, __main__.Quadruped, __main__.Animal, object]"
      ]
     },
     "execution_count": 31,
     "metadata": {},
     "output_type": "execute_result"
    }
   ],
   "source": [
    "Dog.mro()"
   ]
  },
  {
   "cell_type": "markdown",
   "metadata": {},
   "source": [
    "## Multiple Inheritance\n",
    "\n",
    "The MRO if a class in a single-inheritance situation is just a linear search. If we use multiple inheritance, the situation is a bit more complex. "
   ]
  },
  {
   "cell_type": "code",
   "execution_count": 32,
   "metadata": {},
   "outputs": [],
   "source": [
    "class MonkeyDog(Monkey, Dog):\n",
    "    pass\n",
    "\n",
    "class DogMonkey(Dog, Monkey):\n",
    "    pass"
   ]
  },
  {
   "cell_type": "markdown",
   "metadata": {},
   "source": [
    "```\n",
    "Animal\n",
    "|  \\\n",
    ".    .\n",
    "Dog  Monkey\n",
    "|   /\n",
    "| /\n",
    "DogMonkey```"
   ]
  },
  {
   "cell_type": "code",
   "execution_count": 33,
   "metadata": {},
   "outputs": [],
   "source": [
    "weird = [MonkeyDog(), DogMonkey()]"
   ]
  },
  {
   "cell_type": "code",
   "execution_count": 34,
   "metadata": {
    "scrolled": true
   },
   "outputs": [
    {
     "name": "stdout",
     "output_type": "stream",
     "text": [
      "George the MonkeyDog says \"Hello there, I have 2 legs\"\n",
      "Gracie the DogMonkey says \"Hello there, I have 4 legs\"\n"
     ]
    }
   ],
   "source": [
    "for a in weird:\n",
    "    a.speak(f'Hello there, I have {a.get_number_of_legs()} legs')    "
   ]
  },
  {
   "cell_type": "markdown",
   "metadata": {},
   "source": [
    "### MRO\n",
    "\n",
    "Two (+1) desirable properties:\n",
    "\n",
    "- visit each superclass exactly once\n",
    "- visit a subclass before its superclass\n",
    "- (+1) linearization"
   ]
  },
  {
   "cell_type": "code",
   "execution_count": 35,
   "metadata": {},
   "outputs": [
    {
     "data": {
      "text/plain": [
       "[__main__.MonkeyDog,\n",
       " __main__.Monkey,\n",
       " __main__.Biped,\n",
       " __main__.Dog,\n",
       " __main__.Quadruped,\n",
       " __main__.Animal,\n",
       " object]"
      ]
     },
     "execution_count": 35,
     "metadata": {},
     "output_type": "execute_result"
    }
   ],
   "source": [
    "MonkeyDog.mro()"
   ]
  },
  {
   "cell_type": "code",
   "execution_count": 36,
   "metadata": {},
   "outputs": [
    {
     "data": {
      "text/plain": [
       "[__main__.DogMonkey,\n",
       " __main__.Dog,\n",
       " __main__.Quadruped,\n",
       " __main__.Monkey,\n",
       " __main__.Biped,\n",
       " __main__.Animal,\n",
       " object]"
      ]
     },
     "execution_count": 36,
     "metadata": {},
     "output_type": "execute_result"
    }
   ],
   "source": [
    "DogMonkey.mro()"
   ]
  },
  {
   "cell_type": "markdown",
   "metadata": {},
   "source": [
    "### Multiple inheritance and `super()`\n",
    "\n",
    "`super()` also obeys the MRO of the class when finding the superclass, so things can sometimes get confusing:"
   ]
  },
  {
   "cell_type": "code",
   "execution_count": 37,
   "metadata": {},
   "outputs": [],
   "source": [
    "class Animal():\n",
    "\n",
    "    def __init__(self, name):\n",
    "        self._name = name\n",
    "        \n",
    "    def speak(self, message):\n",
    "        print(f'{self._name} the {type(self).__name__} says \"{message}\"')\n",
    "        \n",
    "    def get_number_of_legs(self):\n",
    "        raise NotImplementedError\n",
    "        \n",
    "    def illustrate(self):\n",
    "        print('In Animal.illustrate')\n",
    "        \n",
    "        \n",
    "class Biped(Animal):\n",
    "    \n",
    "    def get_number_of_legs(self):\n",
    "        return 2\n",
    "\n",
    "    def illustrate(self):\n",
    "        print('In Biped.illustrate, delegating to super')\n",
    "        super().illustrate()\n",
    "        \n",
    "    \n",
    "class Quadruped(Animal):\n",
    "    \n",
    "    def get_number_of_legs(self):\n",
    "        return 4 \n",
    "\n",
    "    def illustrate(self):\n",
    "        print('In Quadruped.illustrate, delegating to super')\n",
    "        super().illustrate()\n",
    "    \n",
    "\n",
    "class Monkey(Biped):\n",
    "    \n",
    "    def __init__(self, name='George'):\n",
    "        super().__init__(name)\n",
    "\n",
    "    def illustrate(self):\n",
    "        print('In Monkey.illustrate, delegating to super')\n",
    "        super().illustrate()\n",
    "        \n",
    "\n",
    "class Dog(Quadruped):\n",
    "    \n",
    "    def __init__(self, name='Fido'):\n",
    "        super().__init__(name)\n",
    "\n",
    "    def illustrate(self):\n",
    "        print('In Dog.illustrate, delegating to super')\n",
    "        super().illustrate()\n",
    "        \n",
    "        \n",
    "class MonkeyDog(Monkey, Dog):\n",
    "    \n",
    "    def illustrate(self):\n",
    "        print('In MonkeyDog.illustrate, delegating to super')\n",
    "        super().illustrate()\n",
    "\n",
    "\n",
    "class DogMonkey(Dog, Monkey):\n",
    "\n",
    "    def illustrate(self):\n",
    "        print('In DogMonkey.illustrate, delegating to super')\n",
    "        super().illustrate()"
   ]
  },
  {
   "cell_type": "code",
   "execution_count": 38,
   "metadata": {},
   "outputs": [],
   "source": [
    "md = MonkeyDog()\n",
    "dm = DogMonkey()\n",
    "m = Monkey()\n",
    "d = Dog()"
   ]
  },
  {
   "cell_type": "code",
   "execution_count": 39,
   "metadata": {},
   "outputs": [
    {
     "name": "stdout",
     "output_type": "stream",
     "text": [
      "In Monkey.illustrate, delegating to super\n",
      "In Biped.illustrate, delegating to super\n",
      "In Animal.illustrate\n"
     ]
    }
   ],
   "source": [
    "m.illustrate()"
   ]
  },
  {
   "cell_type": "code",
   "execution_count": 40,
   "metadata": {},
   "outputs": [
    {
     "name": "stdout",
     "output_type": "stream",
     "text": [
      "In Dog.illustrate, delegating to super\n",
      "In Quadruped.illustrate, delegating to super\n",
      "In Animal.illustrate\n"
     ]
    }
   ],
   "source": [
    "d.illustrate()"
   ]
  },
  {
   "cell_type": "code",
   "execution_count": 41,
   "metadata": {},
   "outputs": [
    {
     "name": "stdout",
     "output_type": "stream",
     "text": [
      "In MonkeyDog.illustrate, delegating to super\n",
      "In Monkey.illustrate, delegating to super\n",
      "In Biped.illustrate, delegating to super\n",
      "In Dog.illustrate, delegating to super\n",
      "In Quadruped.illustrate, delegating to super\n",
      "In Animal.illustrate\n"
     ]
    }
   ],
   "source": [
    "md.illustrate()"
   ]
  },
  {
   "cell_type": "code",
   "execution_count": 42,
   "metadata": {
    "scrolled": true
   },
   "outputs": [
    {
     "name": "stdout",
     "output_type": "stream",
     "text": [
      "In DogMonkey.illustrate, delegating to super\n",
      "In Dog.illustrate, delegating to super\n",
      "In Quadruped.illustrate, delegating to super\n",
      "In Monkey.illustrate, delegating to super\n",
      "In Biped.illustrate, delegating to super\n",
      "In Animal.illustrate\n"
     ]
    }
   ],
   "source": [
    "dm.illustrate()  # Python 2.7 & below, \"super(Quadruped, self)\""
   ]
  },
  {
   "cell_type": "code",
   "execution_count": 43,
   "metadata": {},
   "outputs": [],
   "source": [
    "def superish(method_class, self):\n",
    "    mro = type(self).mro()\n",
    "    for i, cls  in enumerate(mro):\n",
    "        if cls == method_class:\n",
    "            break\n",
    "    return mro[i+1]"
   ]
  },
  {
   "cell_type": "code",
   "execution_count": 44,
   "metadata": {},
   "outputs": [
    {
     "data": {
      "text/plain": [
       "__main__.Monkey"
      ]
     },
     "execution_count": 44,
     "metadata": {},
     "output_type": "execute_result"
    }
   ],
   "source": [
    "superish(Quadruped, dm)"
   ]
  },
  {
   "cell_type": "code",
   "execution_count": 45,
   "metadata": {},
   "outputs": [
    {
     "data": {
      "text/plain": [
       "__main__.Animal"
      ]
     },
     "execution_count": 45,
     "metadata": {},
     "output_type": "execute_result"
    }
   ],
   "source": [
    "superish(Quadruped, d)"
   ]
  },
  {
   "cell_type": "markdown",
   "metadata": {},
   "source": [
    "## Example: SocketServer\n",
    "\n",
    "Multiple dimensions of abstraction\n",
    "\n",
    "- Protocol: TCP vs UDP vs Unix\n",
    "- Concurrency: Threads vs Processes\n",
    "\n",
    "Solution: (at least in stdlib): (similar to this)...\n",
    "```python\n",
    "class SocketServer\n",
    "class UDPServer(SocketServer)\n",
    "class TCPServer(SocketServer)\n",
    "class ThreadingMixin\n",
    "class ForkingMixin\n",
    "class ThreadingTCPServer(ThreadingMixin, TCPServer): pass\n",
    "```"
   ]
  },
  {
   "cell_type": "code",
   "execution_count": 46,
   "metadata": {},
   "outputs": [],
   "source": [
    "import socketserver\n",
    "socketserver.ThreadingTCPServer??"
   ]
  },
  {
   "cell_type": "code",
   "execution_count": 47,
   "metadata": {},
   "outputs": [],
   "source": [
    "socketserver.ThreadingMixIn??"
   ]
  },
  {
   "cell_type": "code",
   "execution_count": 48,
   "metadata": {},
   "outputs": [],
   "source": [
    "class PrettyMixin:\n",
    "    repr_format = 'detail goes here'\n",
    "\n",
    "    def __repr__(self):\n",
    "        detail = self.repr_format.format(self=self)\n",
    "        return f'<{type(self).__qualname__} {detail}>'"
   ]
  },
  {
   "cell_type": "code",
   "execution_count": 49,
   "metadata": {},
   "outputs": [
    {
     "data": {
      "text/plain": [
       "<PrettyMixin detail goes here>"
      ]
     },
     "execution_count": 49,
     "metadata": {},
     "output_type": "execute_result"
    }
   ],
   "source": [
    "pm = PrettyMixin()\n",
    "pm"
   ]
  },
  {
   "cell_type": "code",
   "execution_count": 50,
   "metadata": {},
   "outputs": [],
   "source": [
    "class SQLTable():\n",
    "    pass\n",
    "\n",
    "class SomethingElse(PrettyMixin, SQLTable):\n",
    "    repr_format = 'name={self.name}'\n",
    "    \n",
    "    def __init__(self):\n",
    "        self.name = 'Rick'"
   ]
  },
  {
   "cell_type": "code",
   "execution_count": 51,
   "metadata": {},
   "outputs": [
    {
     "data": {
      "text/plain": [
       "<SomethingElse name=Rick>"
      ]
     },
     "execution_count": 51,
     "metadata": {},
     "output_type": "execute_result"
    }
   ],
   "source": [
    "se = SomethingElse()\n",
    "se"
   ]
  },
  {
   "cell_type": "markdown",
   "metadata": {},
   "source": [
    "# Lab\n",
    "\n",
    "Open [OOP inheritance lab][oop-inheritance-lab]\n",
    "\n",
    "[oop-inheritance-lab]: ./oop-inheritance-lab.ipynb"
   ]
  }
 ],
 "metadata": {
  "kernelspec": {
   "display_name": "Python 3 (ipykernel)",
   "language": "python",
   "name": "python3"
  },
  "language_info": {
   "codemirror_mode": {
    "name": "ipython",
    "version": 3
   },
   "file_extension": ".py",
   "mimetype": "text/x-python",
   "name": "python",
   "nbconvert_exporter": "python",
   "pygments_lexer": "ipython3",
   "version": "3.10.8"
  }
 },
 "nbformat": 4,
 "nbformat_minor": 4
}
