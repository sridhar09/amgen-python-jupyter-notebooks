{
 "cells": [
  {
   "cell_type": "markdown",
   "metadata": {},
   "source": [
    "# Concurrency, parallelism, and asynchronous I/O\n",
    "\n",
    "## Concurrency\n",
    "\n",
    "> the appearance of doing more than one thing at a time (can be time-sliced)\n",
    "\n",
    "- Easy to do with the `threading` or `multiprocessing` libraries in Python\n",
    "- `libevent`, `gevent`, etc. provide concurrency as well\n",
    "\n",
    "## Parallelism\n",
    "\n",
    "> *actually* doing more than one thing at a time (multi-core/hyperthreading/distributed)\n",
    "\n",
    "- The GIL prevents this in many *threaded* environments (**including** `libevent`, `gevent`, etc.)\n",
    "\n",
    "## Asynchronous programming\n",
    "\n",
    "> programming style where rather than blocking on I/O, we find something useful to do, and \"come back\" to the I/O later\n",
    "\n",
    "- `twisted` did this with reactors and callbacks\n",
    "- `libevent`, `gevent`, et. al. are *implicitly asynchronous* (things that would block in a thread instead yield to\n",
    "an **event loop**, which finds something useful to do\n",
    "- In Py3, (particularly 3.6+), we have an *explicitly asynchronous* style we can use (and 3.7 added `async`/`await` syntax to support it)"
   ]
  },
  {
   "cell_type": "markdown",
   "metadata": {},
   "source": [
    "# Raise StopIteration(value)"
   ]
  },
  {
   "cell_type": "code",
   "execution_count": 1,
   "metadata": {},
   "outputs": [],
   "source": [
    "def mygen():\n",
    "    if False:\n",
    "        yield 'wait on data'\n",
    "    return 'Something'"
   ]
  },
  {
   "cell_type": "code",
   "execution_count": 2,
   "metadata": {},
   "outputs": [
    {
     "data": {
      "text/plain": [
       "<generator object mygen at 0x7f9a986ad580>"
      ]
     },
     "execution_count": 2,
     "metadata": {},
     "output_type": "execute_result"
    }
   ],
   "source": [
    "gen = mygen()\n",
    "gen"
   ]
  },
  {
   "cell_type": "code",
   "execution_count": 3,
   "metadata": {},
   "outputs": [
    {
     "ename": "StopIteration",
     "evalue": "Something",
     "output_type": "error",
     "traceback": [
      "\u001b[0;31m---------------------------------------------------------------------------\u001b[0m",
      "\u001b[0;31mStopIteration\u001b[0m                             Traceback (most recent call last)",
      "\u001b[0;32m<ipython-input-3-6e72e47198db>\u001b[0m in \u001b[0;36m<module>\u001b[0;34m\u001b[0m\n\u001b[0;32m----> 1\u001b[0;31m \u001b[0mnext\u001b[0m\u001b[0;34m(\u001b[0m\u001b[0mgen\u001b[0m\u001b[0;34m)\u001b[0m\u001b[0;34m\u001b[0m\u001b[0;34m\u001b[0m\u001b[0m\n\u001b[0m",
      "\u001b[0;31mStopIteration\u001b[0m: Something"
     ]
    }
   ],
   "source": [
    "next(gen)"
   ]
  },
  {
   "cell_type": "code",
   "execution_count": 4,
   "metadata": {},
   "outputs": [],
   "source": [
    "def myprint():\n",
    "    value = yield from mygen()  # data = yield from socket.recv(...)\n",
    "    print('Value was', value)"
   ]
  },
  {
   "cell_type": "code",
   "execution_count": 5,
   "metadata": {},
   "outputs": [
    {
     "name": "stdout",
     "output_type": "stream",
     "text": [
      "Value was Something\n"
     ]
    }
   ],
   "source": [
    "for event in myprint():\n",
    "    print('got event', event)"
   ]
  },
  {
   "cell_type": "code",
   "execution_count": 6,
   "metadata": {},
   "outputs": [
    {
     "data": {
      "text/plain": [
       "sys.version_info(major=3, minor=8, micro=5, releaselevel='final', serial=0)"
      ]
     },
     "execution_count": 6,
     "metadata": {},
     "output_type": "execute_result"
    }
   ],
   "source": [
    "import sys\n",
    "sys.version_info"
   ]
  },
  {
   "cell_type": "markdown",
   "metadata": {},
   "source": [
    "Asyncio in Py3.4-3.5"
   ]
  },
  {
   "cell_type": "code",
   "execution_count": 7,
   "metadata": {},
   "outputs": [
    {
     "name": "stdout",
     "output_type": "stream",
     "text": [
      "Overwriting data/asyncio-examples/asyncio-old.py\n"
     ]
    }
   ],
   "source": [
    "%%file data/asyncio-examples/asyncio-old.py\n",
    "import asyncio\n",
    "import logging\n",
    "\n",
    "logging.basicConfig(\n",
    "    level=logging.INFO,\n",
    "    format='%(asctime)s %(levelname)s:%(name)s:%(message)s')\n",
    "\n",
    "log = logging.getLogger()\n",
    "\n",
    "def main():\n",
    "    loop = asyncio.get_event_loop()    \n",
    "    loop.run_until_complete(asyncio.gather(coroutine_1(), coroutine_2()))\n",
    "    #loop.run_until_complete(asyncio.gather(coroutine_2(), coroutine_1()))\n",
    "    \n",
    "@asyncio.coroutine\n",
    "def coroutine_1():\n",
    "    log.info('coroutine_1 is active on the event loop')\n",
    "\n",
    "    log.info('coroutine_1 yielding control. Going to be blocked for 4 seconds')\n",
    "    yield from asyncio.sleep(4)\n",
    "    # data = yield from async_aware_socket.recv(100)\n",
    "\n",
    "    log.info('coroutine_1 resumed. coroutine_1 exiting')\n",
    "    \n",
    "\n",
    "@asyncio.coroutine\n",
    "def coroutine_2():\n",
    "    log.info('coroutine_2 is active on the event loop')\n",
    "\n",
    "    log.info('coroutine_2 yielding control. Going to be blocked for 5 seconds')\n",
    "    yield from asyncio.sleep(5)\n",
    "\n",
    "    log.info('coroutine_2 resumed. coroutine_2 exiting')\n",
    "    \n",
    "\n",
    "if __name__ == '__main__':\n",
    "    main()"
   ]
  },
  {
   "cell_type": "code",
   "execution_count": 8,
   "metadata": {},
   "outputs": [
    {
     "name": "stdout",
     "output_type": "stream",
     "text": [
      "data/asyncio-examples/asyncio-old.py:16: DeprecationWarning: \"@coroutine\" decorator is deprecated since Python 3.8, use \"async def\" instead\n",
      "  def coroutine_1():\n",
      "data/asyncio-examples/asyncio-old.py:27: DeprecationWarning: \"@coroutine\" decorator is deprecated since Python 3.8, use \"async def\" instead\n",
      "  def coroutine_2():\n",
      "2021-11-01 12:56:54,004 INFO:root:coroutine_1 is active on the event loop\n",
      "2021-11-01 12:56:54,004 INFO:root:coroutine_1 yielding control. Going to be blocked for 4 seconds\n",
      "2021-11-01 12:56:54,004 INFO:root:coroutine_2 is active on the event loop\n",
      "2021-11-01 12:56:54,004 INFO:root:coroutine_2 yielding control. Going to be blocked for 5 seconds\n",
      "2021-11-01 12:56:58,008 INFO:root:coroutine_1 resumed. coroutine_1 exiting\n",
      "2021-11-01 12:56:59,005 INFO:root:coroutine_2 resumed. coroutine_2 exiting\n"
     ]
    }
   ],
   "source": [
    "!python data/asyncio-examples/asyncio-old.py"
   ]
  },
  {
   "cell_type": "markdown",
   "metadata": {},
   "source": [
    "Asyncio with `async/await`"
   ]
  },
  {
   "cell_type": "code",
   "execution_count": 9,
   "metadata": {},
   "outputs": [
    {
     "name": "stdout",
     "output_type": "stream",
     "text": [
      "Overwriting data/asyncio-examples/asyncio-new.py\n"
     ]
    }
   ],
   "source": [
    "%%file data/asyncio-examples/asyncio-new.py\n",
    "import asyncio\n",
    "import logging\n",
    "\n",
    "logging.basicConfig(\n",
    "    level=logging.INFO,\n",
    "    format='%(asctime)s %(levelname)s:%(name)s:%(message)s')\n",
    "\n",
    "log = logging.getLogger()\n",
    "\n",
    "def main():\n",
    "    loop = asyncio.get_event_loop()    \n",
    "    loop.run_until_complete(asyncio.gather(coroutine_1(), coroutine_2()))\n",
    "    \n",
    "    \n",
    "async def coroutine_1():\n",
    "    log.info('coroutine_1 is active on the event loop')\n",
    "\n",
    "    log.info('coroutine_1 yielding control. Going to be blocked for 4 seconds')\n",
    "    value = await asyncio.sleep(4)\n",
    "\n",
    "    log.info('coroutine_1 resumed. coroutine_1 exiting with %s', value)\n",
    "    \n",
    "\n",
    "async def coroutine_2():\n",
    "    log.info('coroutine_2 is active on the event loop')\n",
    "\n",
    "    log.info('coroutine_2 yielding control. Going to be blocked for 5 seconds')\n",
    "    await asyncio.sleep(5)\n",
    "\n",
    "    log.info('coroutine_2 resumed. coroutine_2 exiting')\n",
    "    \n",
    "\n",
    "if __name__ == '__main__':\n",
    "    main()"
   ]
  },
  {
   "cell_type": "code",
   "execution_count": 10,
   "metadata": {},
   "outputs": [
    {
     "name": "stdout",
     "output_type": "stream",
     "text": [
      "2021-11-01 12:59:24,503 INFO:root:coroutine_1 is active on the event loop\n",
      "2021-11-01 12:59:24,503 INFO:root:coroutine_1 yielding control. Going to be blocked for 4 seconds\n",
      "2021-11-01 12:59:24,503 INFO:root:coroutine_2 is active on the event loop\n",
      "2021-11-01 12:59:24,503 INFO:root:coroutine_2 yielding control. Going to be blocked for 5 seconds\n",
      "2021-11-01 12:59:28,507 INFO:root:coroutine_1 resumed. coroutine_1 exiting with None\n",
      "2021-11-01 12:59:29,505 INFO:root:coroutine_2 resumed. coroutine_2 exiting\n"
     ]
    }
   ],
   "source": [
    "!python data/asyncio-examples/asyncio-new.py"
   ]
  },
  {
   "cell_type": "markdown",
   "metadata": {},
   "source": [
    "Slightly more complex: simple web crawler"
   ]
  },
  {
   "cell_type": "code",
   "execution_count": 11,
   "metadata": {
    "scrolled": true
   },
   "outputs": [
    {
     "name": "stdout",
     "output_type": "stream",
     "text": [
      "Looking in links: /home/rick446/src/wheelhouse\n",
      "Requirement already satisfied: aiohttp-requests in /home/rick446/.virtualenvs/classes/lib/python3.8/site-packages (0.1.3)\n",
      "Requirement already satisfied: beautifulsoup4 in /home/rick446/.virtualenvs/classes/lib/python3.8/site-packages (4.9.3)\n",
      "Requirement already satisfied: aiohttp in /home/rick446/.virtualenvs/classes/lib/python3.8/site-packages (from aiohttp-requests) (3.7.2)\n",
      "Requirement already satisfied: cchardet in /home/rick446/.virtualenvs/classes/lib/python3.8/site-packages (from aiohttp-requests) (2.1.7)\n",
      "Requirement already satisfied: aiodns in /home/rick446/.virtualenvs/classes/lib/python3.8/site-packages (from aiohttp-requests) (2.0.0)\n",
      "Requirement already satisfied: soupsieve>1.2; python_version >= \"3.0\" in /home/rick446/.virtualenvs/classes/lib/python3.8/site-packages (from beautifulsoup4) (2.0.1)\n",
      "Requirement already satisfied: multidict<7.0,>=4.5 in /home/rick446/.virtualenvs/classes/lib/python3.8/site-packages (from aiohttp->aiohttp-requests) (5.0.0)\n",
      "Requirement already satisfied: attrs>=17.3.0 in /home/rick446/.virtualenvs/classes/lib/python3.8/site-packages (from aiohttp->aiohttp-requests) (20.2.0)\n",
      "Requirement already satisfied: yarl<2.0,>=1.0 in /home/rick446/.virtualenvs/classes/lib/python3.8/site-packages (from aiohttp->aiohttp-requests) (1.6.2)\n",
      "Requirement already satisfied: typing-extensions>=3.6.5 in /home/rick446/.virtualenvs/classes/lib/python3.8/site-packages (from aiohttp->aiohttp-requests) (3.7.4.3)\n",
      "Requirement already satisfied: async-timeout<4.0,>=3.0 in /home/rick446/.virtualenvs/classes/lib/python3.8/site-packages (from aiohttp->aiohttp-requests) (3.0.1)\n",
      "Requirement already satisfied: chardet<4.0,>=2.0 in /home/rick446/.virtualenvs/classes/lib/python3.8/site-packages (from aiohttp->aiohttp-requests) (3.0.4)\n",
      "Requirement already satisfied: pycares>=3.0.0 in /home/rick446/.virtualenvs/classes/lib/python3.8/site-packages (from aiodns->aiohttp-requests) (3.1.1)\n",
      "Requirement already satisfied: idna>=2.0 in /home/rick446/.virtualenvs/classes/lib/python3.8/site-packages (from yarl<2.0,>=1.0->aiohttp->aiohttp-requests) (2.10)\n",
      "Requirement already satisfied: cffi>=1.5.0 in /home/rick446/.virtualenvs/classes/lib/python3.8/site-packages (from pycares>=3.0.0->aiodns->aiohttp-requests) (1.14.2)\n",
      "Requirement already satisfied: pycparser in /home/rick446/.virtualenvs/classes/lib/python3.8/site-packages (from cffi>=1.5.0->pycares>=3.0.0->aiodns->aiohttp-requests) (2.20)\n",
      "\u001b[33mWARNING: You are using pip version 20.2.3; however, version 21.3.1 is available.\n",
      "You should consider upgrading via the '/home/rick446/.virtualenvs/classes/bin/python -m pip install --upgrade pip' command.\u001b[0m\n"
     ]
    }
   ],
   "source": [
    "!pip install aiohttp-requests beautifulsoup4"
   ]
  },
  {
   "cell_type": "code",
   "execution_count": 25,
   "metadata": {},
   "outputs": [],
   "source": [
    "from urllib.parse import urljoin, splittype\n",
    "\n",
    "import bs4\n",
    "from aiohttp_requests import requests\n",
    "\n",
    "async def get_links(url):\n",
    "    response = await requests.get(url, ssl=False)\n",
    "    text = await response.text()\n",
    "    soup = bs4.BeautifulSoup(text, 'html.parser')\n",
    "    hrefs = (a.attrs.get('href') for a in soup.find_all('a'))\n",
    "    hrefs = (href for href in hrefs if href)\n",
    "    hrefs = (urljoin(url, href) for href in hrefs)\n",
    "    hrefs = (href for href in hrefs if splittype(href)[0] in ('http', 'https'))\n",
    "    hrefs = (href.split('#')[0] for href in hrefs)\n",
    "    return hrefs"
   ]
  },
  {
   "cell_type": "code",
   "execution_count": 26,
   "metadata": {},
   "outputs": [],
   "source": [
    "import re\n",
    "import asyncio\n",
    "from urllib.parse import urlparse\n",
    "\n",
    "hrefs_seen = set()\n",
    "is_python = re.compile(r'www\\.python\\.org')\n",
    "queue = asyncio.Queue()\n",
    "\n",
    "def valid_host(href):\n",
    "    pr = urlparse(href)\n",
    "    return is_python.search(pr.netloc)\n",
    "\n",
    "async def enqueue_url(url):\n",
    "    if url not in hrefs_seen and valid_host(url):\n",
    "        hrefs_seen.add(url)\n",
    "        await queue.put(url)\n",
    "        \n",
    "async def handle_page(url):\n",
    "    print(f'Handling {url}')\n",
    "    for link in await get_links(url):\n",
    "        await enqueue_url(link)    \n",
    "        \n",
    "async def crawl():\n",
    "    try:\n",
    "        while len(hrefs_seen) < 200:\n",
    "            url = queue.get_nowait()\n",
    "            await handle_page(url)\n",
    "    except asyncio.QueueEmpty:\n",
    "        print('No more urls!')"
   ]
  },
  {
   "cell_type": "code",
   "execution_count": 14,
   "metadata": {},
   "outputs": [],
   "source": [
    "ROOT = 'https://www.python.org'"
   ]
  },
  {
   "cell_type": "code",
   "execution_count": 15,
   "metadata": {},
   "outputs": [],
   "source": [
    "#await handle_page(ROOT)\n",
    "await queue.put(ROOT)"
   ]
  },
  {
   "cell_type": "code",
   "execution_count": 16,
   "metadata": {},
   "outputs": [
    {
     "data": {
      "text/plain": [
       "1"
      ]
     },
     "execution_count": 16,
     "metadata": {},
     "output_type": "execute_result"
    }
   ],
   "source": [
    "queue.qsize()"
   ]
  },
  {
   "cell_type": "code",
   "execution_count": 17,
   "metadata": {},
   "outputs": [
    {
     "name": "stdout",
     "output_type": "stream",
     "text": [
      "Handling https://www.python.org\n",
      "No more urls!\n",
      "No more urls!\n",
      "Handling https://www.python.org\n",
      "Handling https://www.python.org/\n",
      "Handling https://www.python.org/psf-landing/\n"
     ]
    },
    {
     "name": "stderr",
     "output_type": "stream",
     "text": [
      "<ipython-input-12-f9edfc4990fe>:13: DeprecationWarning: urllib.parse.splittype() is deprecated as of 3.8, use urllib.parse.urlparse() instead\n",
      "  hrefs = (href for href in hrefs if splittype(href)[0] in ('http', 'https'))\n"
     ]
    },
    {
     "name": "stdout",
     "output_type": "stream",
     "text": [
      "Handling https://www.python.org/jobs/\n"
     ]
    },
    {
     "data": {
      "text/plain": [
       "[None, None, None]"
      ]
     },
     "execution_count": 17,
     "metadata": {},
     "output_type": "execute_result"
    }
   ],
   "source": [
    "await asyncio.gather(crawl(), crawl(), crawl())"
   ]
  },
  {
   "cell_type": "code",
   "execution_count": 18,
   "metadata": {},
   "outputs": [
    {
     "data": {
      "text/plain": [
       "273"
      ]
     },
     "execution_count": 18,
     "metadata": {},
     "output_type": "execute_result"
    }
   ],
   "source": [
    "len(hrefs_seen)"
   ]
  },
  {
   "cell_type": "code",
   "execution_count": 19,
   "metadata": {},
   "outputs": [
    {
     "data": {
      "text/plain": [
       "269"
      ]
     },
     "execution_count": 19,
     "metadata": {},
     "output_type": "execute_result"
    }
   ],
   "source": [
    "queue.qsize()"
   ]
  },
  {
   "cell_type": "code",
   "execution_count": 20,
   "metadata": {
    "scrolled": true
   },
   "outputs": [
    {
     "name": "stdout",
     "output_type": "stream",
     "text": [
      "https://www.python.org/community-landing/\n",
      "https://www.python.org/community/irc/\n",
      "https://www.python.org/about/\n",
      "https://www.python.org/about/apps/\n",
      "https://www.python.org/about/quotes/\n",
      "https://www.python.org/about/gettingstarted/\n",
      "https://www.python.org/about/help/\n",
      "https://www.python.org/downloads/\n",
      "https://www.python.org/downloads/source/\n",
      "https://www.python.org/downloads/windows/\n",
      "https://www.python.org/downloads/macos/\n",
      "https://www.python.org/download/other/\n",
      "https://www.python.org/download/alternatives\n",
      "https://www.python.org/doc/\n",
      "https://www.python.org/doc/av\n",
      "https://www.python.org/doc/essays/\n",
      "https://www.python.org/community/\n",
      "https://www.python.org/community/survey\n",
      "https://www.python.org/community/diversity/\n",
      "https://www.python.org/community/lists/\n",
      "https://www.python.org/community/forums/\n",
      "https://www.python.org/psf/annual-report/2021/\n",
      "https://www.python.org/community/workshops/\n",
      "https://www.python.org/community/sigs/\n",
      "https://www.python.org/community/logos/\n",
      "https://www.python.org/community/merchandise/\n",
      "https://www.python.org/community/awards\n",
      "https://www.python.org/psf/conduct/\n",
      "https://www.python.org/psf/get-involved/\n",
      "https://www.python.org/psf/community-stories/\n",
      "https://www.python.org/success-stories/\n",
      "https://www.python.org/success-stories/category/arts/\n",
      "https://www.python.org/success-stories/category/business/\n",
      "https://www.python.org/success-stories/category/education/\n",
      "https://www.python.org/success-stories/category/engineering/\n",
      "https://www.python.org/success-stories/category/government/\n",
      "https://www.python.org/success-stories/category/scientific/\n",
      "https://www.python.org/success-stories/category/software-development/\n",
      "https://www.python.org/blogs/\n",
      "https://www.python.org/psf/newsletter/\n",
      "https://www.python.org/events/\n",
      "https://www.python.org/events/python-events/\n",
      "https://www.python.org/events/python-user-group/\n",
      "https://www.python.org/events/python-events/past/\n",
      "https://www.python.org/events/python-user-group/past/\n",
      "https://www.python.org/shell/\n",
      "https://www.python.org/downloads/release/python-3100/\n",
      "https://www.python.org/events/calendars/\n",
      "https://www.python.org/events/python-events/1140/\n",
      "https://www.python.org/events/python-user-group/1148/\n",
      "https://www.python.org/events/python-events/1154/\n",
      "https://www.python.org/events/python-events/1104/\n",
      "https://www.python.org/events/python-events/1044/\n",
      "https://www.python.org/success-stories/saving-the-world-with-open-data-and-python/\n",
      "https://www.python.org/about/apps\n",
      "https://www.python.org/dev/peps/\n",
      "https://www.python.org/dev/peps/peps.rss\n",
      "https://www.python.org/psf/\n",
      "https://www.python.org/users/membership/\n",
      "https://www.python.org/psf/donations/\n",
      "https://www.python.org/dev/\n",
      "https://www.python.org/dev/core-mentorship/\n",
      "https://www.python.org/dev/security/\n",
      "https://www.python.org/about/legal/\n",
      "https://www.python.org/privacy/\n",
      "https://www.python.org/psf/sponsorship/sponsors/\n",
      "https://www.python.org/psf/about/\n",
      "https://www.python.org/psf/mission/\n",
      "https://www.python.org/psf/records/\n",
      "https://www.python.org/psf/committees/\n",
      "https://www.python.org/nominations/elections/\n",
      "https://www.python.org/psf/sponsorship-new/\n",
      "https://www.python.org/psf/sponsors/\n",
      "https://www.python.org/psf/membership/\n",
      "https://www.python.org/psf/members/\n",
      "https://www.python.org/community/awards/\n",
      "https://www.python.org/psf/contrib/\n",
      "https://www.python.org/psf/fraud/\n",
      "https://www.python.org/psf/donations/matching-gifts/\n",
      "https://www.python.org/psf/volunteer/\n",
      "https://www.python.org/psf/volunteer/pycon/\n",
      "https://www.python.org/psf/grants/\n",
      "https://www.python.org/psf/grants/faq/\n",
      "https://www.python.org/psf/accounts-payable\n",
      "https://www.python.org/psf/vendorpolicies\n",
      "https://www.python.org/psf/paymentoptions\n",
      "https://www.python.org/psf/bylaws/\n",
      "https://www.python.org/psf/trademarks/\n",
      "https://www.python.org/psf/weblog-policy/\n",
      "https://www.python.org/psf/license\n",
      "https://www.python.org/psf/press-release/\n",
      "https://www.python.org/psf/membership\n",
      "https://www.python.org/psf/volunteer\n",
      "https://www.python.org/psf/sponsorship/\n",
      "https://www.python.org/jobs/types/\n",
      "https://www.python.org/jobs/type/back-end/\n",
      "https://www.python.org/jobs/type/big-data/\n",
      "https://www.python.org/jobs/type/cloud/\n",
      "https://www.python.org/jobs/type/database/\n",
      "https://www.python.org/jobs/type/evangelism/\n",
      "https://www.python.org/jobs/type/finance/\n",
      "https://www.python.org/jobs/type/front-end/\n",
      "https://www.python.org/jobs/type/image-processing/\n",
      "https://www.python.org/jobs/type/integration/\n",
      "https://www.python.org/jobs/type/lead/\n",
      "https://www.python.org/jobs/type/machine-learning/\n",
      "https://www.python.org/jobs/type/management/\n",
      "https://www.python.org/jobs/type/numeric-processing/\n",
      "https://www.python.org/jobs/type/operations/\n",
      "https://www.python.org/jobs/type/systems/\n",
      "https://www.python.org/jobs/type/testing/\n",
      "https://www.python.org/jobs/type/text-processing/\n",
      "https://www.python.org/jobs/type/web/\n",
      "https://www.python.org/jobs/categories/\n",
      "https://www.python.org/jobs/category/administrator/\n",
      "https://www.python.org/jobs/category/data-analyst/\n",
      "https://www.python.org/jobs/category/developer-engineer/\n",
      "https://www.python.org/jobs/category/manager-executive/\n",
      "https://www.python.org/jobs/category/other/\n",
      "https://www.python.org/jobs/category/researcher-scientist/\n",
      "https://www.python.org/jobs/locations/\n",
      "https://www.python.org/jobs/location/telecommute/\n",
      "https://www.python.org/jobs/location/-100-remote-/\n",
      "https://www.python.org/jobs/location/100-remote-india-europe-uk/\n",
      "https://www.python.org/jobs/location/8045-switzerland/\n",
      "https://www.python.org/jobs/location/africa-africa/\n",
      "https://www.python.org/jobs/location/all-country-full-time-remote-position/\n",
      "https://www.python.org/jobs/location/any-city-worldwide/\n",
      "https://www.python.org/jobs/location/anywhere-worldwide/\n",
      "https://www.python.org/jobs/location/any-within-argentina-any-within-argentina-argentina/\n",
      "https://www.python.org/jobs/location/arnhem-netherlands/\n",
      "https://www.python.org/jobs/location/atlanta-remote-ga-us-only/\n",
      "https://www.python.org/jobs/location/austin-houston-portland-me-remote-us-united-states/\n",
      "https://www.python.org/jobs/location/austin-texas-united-states/\n",
      "https://www.python.org/jobs/location/austin-texas-usa/\n",
      "https://www.python.org/jobs/location/austin-tx-united-states/\n",
      "https://www.python.org/jobs/location/baltimore-md-united-states/\n",
      "https://www.python.org/jobs/location/bangalore-karnataka-india/\n",
      "https://www.python.org/jobs/location/barcelona-barcelona-spain/\n",
      "https://www.python.org/jobs/location/berkeley-ca-united-states/\n",
      "https://www.python.org/jobs/location/berlin-berlin-germany/\n",
      "https://www.python.org/jobs/location/birmingham-united-kingdom/\n",
      "https://www.python.org/jobs/location/bordeaux-france/\n",
      "https://www.python.org/jobs/location/boston-preferably-remote-us-ma-usa/\n",
      "https://www.python.org/jobs/location/boulder-colorado-united-states/\n",
      "https://www.python.org/jobs/location/boulder-remote-colorado-usa/\n",
      "https://www.python.org/jobs/location/bristol-or-cambridge-or-london-united-kingdom/\n",
      "https://www.python.org/jobs/location/bristol-united-kingdom/\n",
      "https://www.python.org/jobs/location/chennai-india/\n",
      "https://www.python.org/jobs/location/cork-ireland/\n",
      "https://www.python.org/jobs/location/davis-ca-united-states/\n",
      "https://www.python.org/jobs/location/delray-beach-florida-united-states/\n",
      "https://www.python.org/jobs/location/denver-colorado-usa/\n",
      "https://www.python.org/jobs/location/ebene-mauritius-south-africa/\n",
      "https://www.python.org/jobs/location/edinburgh-or-london-with-flexibility-to-work-remotely-united-kingdom/\n",
      "https://www.python.org/jobs/location/frankfurt-germany/\n",
      "https://www.python.org/jobs/location/geneva-region-ain-france/\n",
      "https://www.python.org/jobs/location/hong-kong-hong-kong-hong-kong/\n",
      "https://www.python.org/jobs/location/houston-texas-united-states/\n",
      "https://www.python.org/jobs/location/india-india-india/\n",
      "https://www.python.org/jobs/location/irving-texas-united-states/\n",
      "https://www.python.org/jobs/location/jeffersonville-in-united-states/\n",
      "https://www.python.org/jobs/location/kansas-city-flexible-remote-available-missouri-united-states/\n",
      "https://www.python.org/jobs/location/kansas-city-mo-united-states/\n",
      "https://www.python.org/jobs/location/kochi-kerala-india/\n",
      "https://www.python.org/jobs/location/kontich-antwerp-belgium/\n",
      "https://www.python.org/jobs/location/kuwait-city-kuwait-kuwait/\n",
      "https://www.python.org/jobs/location/lisbon-portugal/\n",
      "https://www.python.org/jobs/location/lomazzo-como-italy/\n",
      "https://www.python.org/jobs/location/london-london-united-kingdom/\n",
      "https://www.python.org/jobs/location/london-remote-united-kingdom-remote/\n",
      "https://www.python.org/jobs/location/london-uk/\n",
      "https://www.python.org/jobs/location/london-united-kingdom/\n",
      "https://www.python.org/jobs/location/los-angeles-san-francisco-irvine-ca-or-remote-ca-united-states/\n",
      "https://www.python.org/jobs/location/los-angeles-san-francisco-irvine-or-remote-ca-united-states/\n",
      "https://www.python.org/jobs/location/malaga-andalusia-spain/\n",
      "https://www.python.org/jobs/location/mclean-virginia-united-states/\n",
      "https://www.python.org/jobs/location/milano-italy/\n",
      "https://www.python.org/jobs/location/montevideo-uruguay-uruguay-south-america/\n",
      "https://www.python.org/jobs/location/montreal-quebec-canada/\n",
      "https://www.python.org/jobs/location/mountain-view-california-usa/\n",
      "https://www.python.org/jobs/location/mountain-view-ca-united-states/\n",
      "https://www.python.org/jobs/location/munchen-germany/\n",
      "https://www.python.org/jobs/location/munich-bavaria-germany/\n",
      "https://www.python.org/jobs/location/na-na-na/\n",
      "https://www.python.org/jobs/location/nashville-remote-tennessee-united-states/\n",
      "https://www.python.org/jobs/location/new-haven-connecticut-united-states/\n",
      "https://www.python.org/jobs/location/newport-beach-ca-us/\n",
      "https://www.python.org/jobs/location/newport-beach-ca-usa/\n",
      "https://www.python.org/jobs/location/new-york-city-ny-united-states/\n",
      "https://www.python.org/jobs/location/new-york-new-york-united-states/\n",
      "https://www.python.org/jobs/location/new-york-remote-ny-usa/\n",
      "https://www.python.org/jobs/location/plano-texas-united-states/\n",
      "https://www.python.org/jobs/location/prague-czechia/\n",
      "https://www.python.org/jobs/location/pune-maharashtra-india/\n",
      "https://www.python.org/jobs/location/raleigh-100-remote-nc-united-states/\n",
      "https://www.python.org/jobs/location/remote-1-or-2-hours-from-cet-slovenia/\n",
      "https://www.python.org/jobs/location/remote-anywhere-united-states/\n",
      "https://www.python.org/jobs/location/remote-anywhere-western-hemisphere/\n",
      "https://www.python.org/jobs/location/remote-ca-wa-or-co-tx-il-ny-ma-toronto-united-states-or-canada/\n",
      "https://www.python.org/jobs/location/remote-europe/\n",
      "https://www.python.org/jobs/location/remote-ny-united-states/\n",
      "https://www.python.org/jobs/location/remote-remote/\n",
      "https://www.python.org/jobs/location/remote-remote-india/\n",
      "https://www.python.org/jobs/location/remote-remote-remote/\n",
      "https://www.python.org/jobs/location/remote-remote-united-states/\n",
      "https://www.python.org/jobs/location/remote-remote-united-states-canada-or-uk/\n",
      "https://www.python.org/jobs/location/remote-remote-usa/\n",
      "https://www.python.org/jobs/location/remote-talinn-estonia/\n",
      "https://www.python.org/jobs/location/remote-united-kingdom/\n",
      "https://www.python.org/jobs/location/remote-united-states/\n",
      "https://www.python.org/jobs/location/remote-usa-united-states/\n",
      "https://www.python.org/jobs/location/remote-us-only/\n",
      "https://www.python.org/jobs/location/remote-us-remote-us-remote-us/\n",
      "https://www.python.org/jobs/location/remote-us-us/\n",
      "https://www.python.org/jobs/location/remote-work-south-africa/\n",
      "https://www.python.org/jobs/location/remote-work-south-africa-south-africa/\n",
      "https://www.python.org/jobs/location/san-francisco-ca-us/\n",
      "https://www.python.org/jobs/location/san-francisco-ca-usa/\n",
      "https://www.python.org/jobs/location/seattle-wa-usa/\n",
      "https://www.python.org/jobs/location/sharon-ma-usa/\n",
      "https://www.python.org/jobs/location/slovenia-europe/\n",
      "https://www.python.org/jobs/location/sofia-bulgary/\n",
      "https://www.python.org/jobs/location/st-julians-limassol-dublin-maltacyprusireland/\n",
      "https://www.python.org/jobs/location/surrey-british-columbia-canada/\n",
      "https://www.python.org/jobs/location/sw-england-united-kingdom/\n",
      "https://www.python.org/jobs/location/telangana-hyderabad-india/\n",
      "https://www.python.org/jobs/location/warsaw-fully-remote-poland/\n",
      "https://www.python.org/jobs/location/warsaw-remotely-poland/\n",
      "https://www.python.org/jobs/location/warsaw-remote-mazowieckie-poland/\n",
      "https://www.python.org/jobs/location/wauwatosa-wisconsin-united-states/\n",
      "https://www.python.org/jobs/location/worldwide-worldwide/\n",
      "https://www.python.org/jobs/location/zug-switzerland/\n",
      "https://www.python.org/jobs/create/\n",
      "https://www.python.org/jobs/5918/\n",
      "https://www.python.org/jobs/5916/\n",
      "https://www.python.org/jobs/5915/\n",
      "https://www.python.org/jobs/5914/\n",
      "https://www.python.org/jobs/5913/\n",
      "https://www.python.org/jobs/5903/\n",
      "https://www.python.org/jobs/5902/\n",
      "https://www.python.org/jobs/5901/\n",
      "https://www.python.org/jobs/5900/\n",
      "https://www.python.org/jobs/5898/\n",
      "https://www.python.org/jobs/5897/\n",
      "https://www.python.org/jobs/5896/\n",
      "https://www.python.org/jobs/5895/\n",
      "https://www.python.org/jobs/5894/\n",
      "https://www.python.org/jobs/5893/\n",
      "https://www.python.org/jobs/5891/\n",
      "https://www.python.org/jobs/5890/\n",
      "https://www.python.org/jobs/5889/\n",
      "https://www.python.org/jobs/5888/\n",
      "https://www.python.org/jobs/5887/\n",
      "https://www.python.org/jobs/5886/\n",
      "https://www.python.org/jobs/5885/\n",
      "https://www.python.org/jobs/5884/\n",
      "https://www.python.org/jobs/5883/\n",
      "https://www.python.org/jobs/5882/\n",
      "https://www.python.org/jobs/?page=1\n",
      "https://www.python.org/jobs/?page=2\n",
      "https://www.python.org/jobs/?page=3\n",
      "https://www.python.org/jobs/?page=4\n",
      "https://www.python.org/jobs/?page=5\n",
      "https://www.python.org/jobs/?page=6\n",
      "https://www.python.org/community/jobs/howto/\n",
      "https://www.python.org/accounts/login/?next=/jobs/create/\n",
      "https://www.python.org/accounts/login/?next=/jobs/mine/\n",
      "https://www.python.org/jobs/feed/rss/\n"
     ]
    }
   ],
   "source": [
    "while queue.qsize():\n",
    "    print(await queue.get())"
   ]
  },
  {
   "cell_type": "code",
   "execution_count": 21,
   "metadata": {},
   "outputs": [
    {
     "data": {
      "text/plain": [
       "{'https://www.python.org',\n",
       " 'https://www.python.org/',\n",
       " 'https://www.python.org/about/',\n",
       " 'https://www.python.org/about/apps',\n",
       " 'https://www.python.org/about/apps/',\n",
       " 'https://www.python.org/about/gettingstarted/',\n",
       " 'https://www.python.org/about/help/',\n",
       " 'https://www.python.org/about/legal/',\n",
       " 'https://www.python.org/about/quotes/',\n",
       " 'https://www.python.org/accounts/login/?next=/jobs/create/',\n",
       " 'https://www.python.org/accounts/login/?next=/jobs/mine/',\n",
       " 'https://www.python.org/blogs/',\n",
       " 'https://www.python.org/community-landing/',\n",
       " 'https://www.python.org/community/',\n",
       " 'https://www.python.org/community/awards',\n",
       " 'https://www.python.org/community/awards/',\n",
       " 'https://www.python.org/community/diversity/',\n",
       " 'https://www.python.org/community/forums/',\n",
       " 'https://www.python.org/community/irc/',\n",
       " 'https://www.python.org/community/jobs/howto/',\n",
       " 'https://www.python.org/community/lists/',\n",
       " 'https://www.python.org/community/logos/',\n",
       " 'https://www.python.org/community/merchandise/',\n",
       " 'https://www.python.org/community/sigs/',\n",
       " 'https://www.python.org/community/survey',\n",
       " 'https://www.python.org/community/workshops/',\n",
       " 'https://www.python.org/dev/',\n",
       " 'https://www.python.org/dev/core-mentorship/',\n",
       " 'https://www.python.org/dev/peps/',\n",
       " 'https://www.python.org/dev/peps/peps.rss',\n",
       " 'https://www.python.org/dev/security/',\n",
       " 'https://www.python.org/doc/',\n",
       " 'https://www.python.org/doc/av',\n",
       " 'https://www.python.org/doc/essays/',\n",
       " 'https://www.python.org/download/alternatives',\n",
       " 'https://www.python.org/download/other/',\n",
       " 'https://www.python.org/downloads/',\n",
       " 'https://www.python.org/downloads/macos/',\n",
       " 'https://www.python.org/downloads/release/python-3100/',\n",
       " 'https://www.python.org/downloads/source/',\n",
       " 'https://www.python.org/downloads/windows/',\n",
       " 'https://www.python.org/events/',\n",
       " 'https://www.python.org/events/calendars/',\n",
       " 'https://www.python.org/events/python-events/',\n",
       " 'https://www.python.org/events/python-events/1044/',\n",
       " 'https://www.python.org/events/python-events/1104/',\n",
       " 'https://www.python.org/events/python-events/1140/',\n",
       " 'https://www.python.org/events/python-events/1154/',\n",
       " 'https://www.python.org/events/python-events/past/',\n",
       " 'https://www.python.org/events/python-user-group/',\n",
       " 'https://www.python.org/events/python-user-group/1148/',\n",
       " 'https://www.python.org/events/python-user-group/past/',\n",
       " 'https://www.python.org/jobs/',\n",
       " 'https://www.python.org/jobs/5882/',\n",
       " 'https://www.python.org/jobs/5883/',\n",
       " 'https://www.python.org/jobs/5884/',\n",
       " 'https://www.python.org/jobs/5885/',\n",
       " 'https://www.python.org/jobs/5886/',\n",
       " 'https://www.python.org/jobs/5887/',\n",
       " 'https://www.python.org/jobs/5888/',\n",
       " 'https://www.python.org/jobs/5889/',\n",
       " 'https://www.python.org/jobs/5890/',\n",
       " 'https://www.python.org/jobs/5891/',\n",
       " 'https://www.python.org/jobs/5893/',\n",
       " 'https://www.python.org/jobs/5894/',\n",
       " 'https://www.python.org/jobs/5895/',\n",
       " 'https://www.python.org/jobs/5896/',\n",
       " 'https://www.python.org/jobs/5897/',\n",
       " 'https://www.python.org/jobs/5898/',\n",
       " 'https://www.python.org/jobs/5900/',\n",
       " 'https://www.python.org/jobs/5901/',\n",
       " 'https://www.python.org/jobs/5902/',\n",
       " 'https://www.python.org/jobs/5903/',\n",
       " 'https://www.python.org/jobs/5913/',\n",
       " 'https://www.python.org/jobs/5914/',\n",
       " 'https://www.python.org/jobs/5915/',\n",
       " 'https://www.python.org/jobs/5916/',\n",
       " 'https://www.python.org/jobs/5918/',\n",
       " 'https://www.python.org/jobs/?page=1',\n",
       " 'https://www.python.org/jobs/?page=2',\n",
       " 'https://www.python.org/jobs/?page=3',\n",
       " 'https://www.python.org/jobs/?page=4',\n",
       " 'https://www.python.org/jobs/?page=5',\n",
       " 'https://www.python.org/jobs/?page=6',\n",
       " 'https://www.python.org/jobs/categories/',\n",
       " 'https://www.python.org/jobs/category/administrator/',\n",
       " 'https://www.python.org/jobs/category/data-analyst/',\n",
       " 'https://www.python.org/jobs/category/developer-engineer/',\n",
       " 'https://www.python.org/jobs/category/manager-executive/',\n",
       " 'https://www.python.org/jobs/category/other/',\n",
       " 'https://www.python.org/jobs/category/researcher-scientist/',\n",
       " 'https://www.python.org/jobs/create/',\n",
       " 'https://www.python.org/jobs/feed/rss/',\n",
       " 'https://www.python.org/jobs/location/-100-remote-/',\n",
       " 'https://www.python.org/jobs/location/100-remote-india-europe-uk/',\n",
       " 'https://www.python.org/jobs/location/8045-switzerland/',\n",
       " 'https://www.python.org/jobs/location/africa-africa/',\n",
       " 'https://www.python.org/jobs/location/all-country-full-time-remote-position/',\n",
       " 'https://www.python.org/jobs/location/any-city-worldwide/',\n",
       " 'https://www.python.org/jobs/location/any-within-argentina-any-within-argentina-argentina/',\n",
       " 'https://www.python.org/jobs/location/anywhere-worldwide/',\n",
       " 'https://www.python.org/jobs/location/arnhem-netherlands/',\n",
       " 'https://www.python.org/jobs/location/atlanta-remote-ga-us-only/',\n",
       " 'https://www.python.org/jobs/location/austin-houston-portland-me-remote-us-united-states/',\n",
       " 'https://www.python.org/jobs/location/austin-texas-united-states/',\n",
       " 'https://www.python.org/jobs/location/austin-texas-usa/',\n",
       " 'https://www.python.org/jobs/location/austin-tx-united-states/',\n",
       " 'https://www.python.org/jobs/location/baltimore-md-united-states/',\n",
       " 'https://www.python.org/jobs/location/bangalore-karnataka-india/',\n",
       " 'https://www.python.org/jobs/location/barcelona-barcelona-spain/',\n",
       " 'https://www.python.org/jobs/location/berkeley-ca-united-states/',\n",
       " 'https://www.python.org/jobs/location/berlin-berlin-germany/',\n",
       " 'https://www.python.org/jobs/location/birmingham-united-kingdom/',\n",
       " 'https://www.python.org/jobs/location/bordeaux-france/',\n",
       " 'https://www.python.org/jobs/location/boston-preferably-remote-us-ma-usa/',\n",
       " 'https://www.python.org/jobs/location/boulder-colorado-united-states/',\n",
       " 'https://www.python.org/jobs/location/boulder-remote-colorado-usa/',\n",
       " 'https://www.python.org/jobs/location/bristol-or-cambridge-or-london-united-kingdom/',\n",
       " 'https://www.python.org/jobs/location/bristol-united-kingdom/',\n",
       " 'https://www.python.org/jobs/location/chennai-india/',\n",
       " 'https://www.python.org/jobs/location/cork-ireland/',\n",
       " 'https://www.python.org/jobs/location/davis-ca-united-states/',\n",
       " 'https://www.python.org/jobs/location/delray-beach-florida-united-states/',\n",
       " 'https://www.python.org/jobs/location/denver-colorado-usa/',\n",
       " 'https://www.python.org/jobs/location/ebene-mauritius-south-africa/',\n",
       " 'https://www.python.org/jobs/location/edinburgh-or-london-with-flexibility-to-work-remotely-united-kingdom/',\n",
       " 'https://www.python.org/jobs/location/frankfurt-germany/',\n",
       " 'https://www.python.org/jobs/location/geneva-region-ain-france/',\n",
       " 'https://www.python.org/jobs/location/hong-kong-hong-kong-hong-kong/',\n",
       " 'https://www.python.org/jobs/location/houston-texas-united-states/',\n",
       " 'https://www.python.org/jobs/location/india-india-india/',\n",
       " 'https://www.python.org/jobs/location/irving-texas-united-states/',\n",
       " 'https://www.python.org/jobs/location/jeffersonville-in-united-states/',\n",
       " 'https://www.python.org/jobs/location/kansas-city-flexible-remote-available-missouri-united-states/',\n",
       " 'https://www.python.org/jobs/location/kansas-city-mo-united-states/',\n",
       " 'https://www.python.org/jobs/location/kochi-kerala-india/',\n",
       " 'https://www.python.org/jobs/location/kontich-antwerp-belgium/',\n",
       " 'https://www.python.org/jobs/location/kuwait-city-kuwait-kuwait/',\n",
       " 'https://www.python.org/jobs/location/lisbon-portugal/',\n",
       " 'https://www.python.org/jobs/location/lomazzo-como-italy/',\n",
       " 'https://www.python.org/jobs/location/london-london-united-kingdom/',\n",
       " 'https://www.python.org/jobs/location/london-remote-united-kingdom-remote/',\n",
       " 'https://www.python.org/jobs/location/london-uk/',\n",
       " 'https://www.python.org/jobs/location/london-united-kingdom/',\n",
       " 'https://www.python.org/jobs/location/los-angeles-san-francisco-irvine-ca-or-remote-ca-united-states/',\n",
       " 'https://www.python.org/jobs/location/los-angeles-san-francisco-irvine-or-remote-ca-united-states/',\n",
       " 'https://www.python.org/jobs/location/malaga-andalusia-spain/',\n",
       " 'https://www.python.org/jobs/location/mclean-virginia-united-states/',\n",
       " 'https://www.python.org/jobs/location/milano-italy/',\n",
       " 'https://www.python.org/jobs/location/montevideo-uruguay-uruguay-south-america/',\n",
       " 'https://www.python.org/jobs/location/montreal-quebec-canada/',\n",
       " 'https://www.python.org/jobs/location/mountain-view-ca-united-states/',\n",
       " 'https://www.python.org/jobs/location/mountain-view-california-usa/',\n",
       " 'https://www.python.org/jobs/location/munchen-germany/',\n",
       " 'https://www.python.org/jobs/location/munich-bavaria-germany/',\n",
       " 'https://www.python.org/jobs/location/na-na-na/',\n",
       " 'https://www.python.org/jobs/location/nashville-remote-tennessee-united-states/',\n",
       " 'https://www.python.org/jobs/location/new-haven-connecticut-united-states/',\n",
       " 'https://www.python.org/jobs/location/new-york-city-ny-united-states/',\n",
       " 'https://www.python.org/jobs/location/new-york-new-york-united-states/',\n",
       " 'https://www.python.org/jobs/location/new-york-remote-ny-usa/',\n",
       " 'https://www.python.org/jobs/location/newport-beach-ca-us/',\n",
       " 'https://www.python.org/jobs/location/newport-beach-ca-usa/',\n",
       " 'https://www.python.org/jobs/location/plano-texas-united-states/',\n",
       " 'https://www.python.org/jobs/location/prague-czechia/',\n",
       " 'https://www.python.org/jobs/location/pune-maharashtra-india/',\n",
       " 'https://www.python.org/jobs/location/raleigh-100-remote-nc-united-states/',\n",
       " 'https://www.python.org/jobs/location/remote-1-or-2-hours-from-cet-slovenia/',\n",
       " 'https://www.python.org/jobs/location/remote-anywhere-united-states/',\n",
       " 'https://www.python.org/jobs/location/remote-anywhere-western-hemisphere/',\n",
       " 'https://www.python.org/jobs/location/remote-ca-wa-or-co-tx-il-ny-ma-toronto-united-states-or-canada/',\n",
       " 'https://www.python.org/jobs/location/remote-europe/',\n",
       " 'https://www.python.org/jobs/location/remote-ny-united-states/',\n",
       " 'https://www.python.org/jobs/location/remote-remote-india/',\n",
       " 'https://www.python.org/jobs/location/remote-remote-remote/',\n",
       " 'https://www.python.org/jobs/location/remote-remote-united-states-canada-or-uk/',\n",
       " 'https://www.python.org/jobs/location/remote-remote-united-states/',\n",
       " 'https://www.python.org/jobs/location/remote-remote-usa/',\n",
       " 'https://www.python.org/jobs/location/remote-remote/',\n",
       " 'https://www.python.org/jobs/location/remote-talinn-estonia/',\n",
       " 'https://www.python.org/jobs/location/remote-united-kingdom/',\n",
       " 'https://www.python.org/jobs/location/remote-united-states/',\n",
       " 'https://www.python.org/jobs/location/remote-us-only/',\n",
       " 'https://www.python.org/jobs/location/remote-us-remote-us-remote-us/',\n",
       " 'https://www.python.org/jobs/location/remote-us-us/',\n",
       " 'https://www.python.org/jobs/location/remote-usa-united-states/',\n",
       " 'https://www.python.org/jobs/location/remote-work-south-africa-south-africa/',\n",
       " 'https://www.python.org/jobs/location/remote-work-south-africa/',\n",
       " 'https://www.python.org/jobs/location/san-francisco-ca-us/',\n",
       " 'https://www.python.org/jobs/location/san-francisco-ca-usa/',\n",
       " 'https://www.python.org/jobs/location/seattle-wa-usa/',\n",
       " 'https://www.python.org/jobs/location/sharon-ma-usa/',\n",
       " 'https://www.python.org/jobs/location/slovenia-europe/',\n",
       " 'https://www.python.org/jobs/location/sofia-bulgary/',\n",
       " 'https://www.python.org/jobs/location/st-julians-limassol-dublin-maltacyprusireland/',\n",
       " 'https://www.python.org/jobs/location/surrey-british-columbia-canada/',\n",
       " 'https://www.python.org/jobs/location/sw-england-united-kingdom/',\n",
       " 'https://www.python.org/jobs/location/telangana-hyderabad-india/',\n",
       " 'https://www.python.org/jobs/location/telecommute/',\n",
       " 'https://www.python.org/jobs/location/warsaw-fully-remote-poland/',\n",
       " 'https://www.python.org/jobs/location/warsaw-remote-mazowieckie-poland/',\n",
       " 'https://www.python.org/jobs/location/warsaw-remotely-poland/',\n",
       " 'https://www.python.org/jobs/location/wauwatosa-wisconsin-united-states/',\n",
       " 'https://www.python.org/jobs/location/worldwide-worldwide/',\n",
       " 'https://www.python.org/jobs/location/zug-switzerland/',\n",
       " 'https://www.python.org/jobs/locations/',\n",
       " 'https://www.python.org/jobs/type/back-end/',\n",
       " 'https://www.python.org/jobs/type/big-data/',\n",
       " 'https://www.python.org/jobs/type/cloud/',\n",
       " 'https://www.python.org/jobs/type/database/',\n",
       " 'https://www.python.org/jobs/type/evangelism/',\n",
       " 'https://www.python.org/jobs/type/finance/',\n",
       " 'https://www.python.org/jobs/type/front-end/',\n",
       " 'https://www.python.org/jobs/type/image-processing/',\n",
       " 'https://www.python.org/jobs/type/integration/',\n",
       " 'https://www.python.org/jobs/type/lead/',\n",
       " 'https://www.python.org/jobs/type/machine-learning/',\n",
       " 'https://www.python.org/jobs/type/management/',\n",
       " 'https://www.python.org/jobs/type/numeric-processing/',\n",
       " 'https://www.python.org/jobs/type/operations/',\n",
       " 'https://www.python.org/jobs/type/systems/',\n",
       " 'https://www.python.org/jobs/type/testing/',\n",
       " 'https://www.python.org/jobs/type/text-processing/',\n",
       " 'https://www.python.org/jobs/type/web/',\n",
       " 'https://www.python.org/jobs/types/',\n",
       " 'https://www.python.org/nominations/elections/',\n",
       " 'https://www.python.org/privacy/',\n",
       " 'https://www.python.org/psf-landing/',\n",
       " 'https://www.python.org/psf/',\n",
       " 'https://www.python.org/psf/about/',\n",
       " 'https://www.python.org/psf/accounts-payable',\n",
       " 'https://www.python.org/psf/annual-report/2021/',\n",
       " 'https://www.python.org/psf/bylaws/',\n",
       " 'https://www.python.org/psf/committees/',\n",
       " 'https://www.python.org/psf/community-stories/',\n",
       " 'https://www.python.org/psf/conduct/',\n",
       " 'https://www.python.org/psf/contrib/',\n",
       " 'https://www.python.org/psf/donations/',\n",
       " 'https://www.python.org/psf/donations/matching-gifts/',\n",
       " 'https://www.python.org/psf/fraud/',\n",
       " 'https://www.python.org/psf/get-involved/',\n",
       " 'https://www.python.org/psf/grants/',\n",
       " 'https://www.python.org/psf/grants/faq/',\n",
       " 'https://www.python.org/psf/license',\n",
       " 'https://www.python.org/psf/members/',\n",
       " 'https://www.python.org/psf/membership',\n",
       " 'https://www.python.org/psf/membership/',\n",
       " 'https://www.python.org/psf/mission/',\n",
       " 'https://www.python.org/psf/newsletter/',\n",
       " 'https://www.python.org/psf/paymentoptions',\n",
       " 'https://www.python.org/psf/press-release/',\n",
       " 'https://www.python.org/psf/records/',\n",
       " 'https://www.python.org/psf/sponsors/',\n",
       " 'https://www.python.org/psf/sponsorship-new/',\n",
       " 'https://www.python.org/psf/sponsorship/',\n",
       " 'https://www.python.org/psf/sponsorship/sponsors/',\n",
       " 'https://www.python.org/psf/trademarks/',\n",
       " 'https://www.python.org/psf/vendorpolicies',\n",
       " 'https://www.python.org/psf/volunteer',\n",
       " 'https://www.python.org/psf/volunteer/',\n",
       " 'https://www.python.org/psf/volunteer/pycon/',\n",
       " 'https://www.python.org/psf/weblog-policy/',\n",
       " 'https://www.python.org/shell/',\n",
       " 'https://www.python.org/success-stories/',\n",
       " 'https://www.python.org/success-stories/category/arts/',\n",
       " 'https://www.python.org/success-stories/category/business/',\n",
       " 'https://www.python.org/success-stories/category/education/',\n",
       " 'https://www.python.org/success-stories/category/engineering/',\n",
       " 'https://www.python.org/success-stories/category/government/',\n",
       " 'https://www.python.org/success-stories/category/scientific/',\n",
       " 'https://www.python.org/success-stories/category/software-development/',\n",
       " 'https://www.python.org/success-stories/saving-the-world-with-open-data-and-python/',\n",
       " 'https://www.python.org/users/membership/'}"
      ]
     },
     "execution_count": 21,
     "metadata": {},
     "output_type": "execute_result"
    }
   ],
   "source": [
    "hrefs_seen"
   ]
  },
  {
   "cell_type": "code",
   "execution_count": 22,
   "metadata": {},
   "outputs": [
    {
     "data": {
      "text/plain": [
       "273"
      ]
     },
     "execution_count": 22,
     "metadata": {},
     "output_type": "execute_result"
    }
   ],
   "source": [
    "len(hrefs_seen)"
   ]
  },
  {
   "cell_type": "markdown",
   "metadata": {},
   "source": [
    "# Lab\n",
    "\n",
    "Open [AsyncIO Lab](asyncio-lab.ipynb)"
   ]
  },
  {
   "cell_type": "code",
   "execution_count": null,
   "metadata": {},
   "outputs": [],
   "source": []
  }
 ],
 "metadata": {
  "kernelspec": {
   "display_name": "Python 3",
   "language": "python",
   "name": "python3"
  },
  "language_info": {
   "codemirror_mode": {
    "name": "ipython",
    "version": 3
   },
   "file_extension": ".py",
   "mimetype": "text/x-python",
   "name": "python",
   "nbconvert_exporter": "python",
   "pygments_lexer": "ipython3",
   "version": "3.8.5"
  }
 },
 "nbformat": 4,
 "nbformat_minor": 2
}
