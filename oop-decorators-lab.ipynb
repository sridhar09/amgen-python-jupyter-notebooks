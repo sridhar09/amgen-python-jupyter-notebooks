{
 "cells": [
  {
   "cell_type": "markdown",
   "metadata": {},
   "source": [
    "## Lab\n",
    "\n",
    "Create a class with an instance variable called `name` which keeps track of all the `name`s of objects that have ever been created in a **class** attribute.\n",
    "\n",
    "Create classmethods \n",
    " - `all_names` which returns a list of all the names of objects that have ever been created\n",
    " - `total_count` which returns the number of instances ever created"
   ]
  },
  {
   "cell_type": "code",
   "execution_count": null,
   "metadata": {},
   "outputs": [],
   "source": []
  },
  {
   "cell_type": "markdown",
   "metadata": {},
   "source": [
    "Enhance the class above to also keep track of the objects that *currently* exist\n",
    "\n",
    "- The `__del__` magic method will be called when an object is garbage-collected\n",
    "- You can use the `id()` function to get a unique number that identifies an object in memory\n",
    "\n",
    "Create the classmethods:\n",
    "\n",
    "- `curr_names` which returns a list of all the currently-existing object names\n",
    "- `curr_count` which returns the total # of currently-exisiting objects"
   ]
  },
  {
   "cell_type": "code",
   "execution_count": null,
   "metadata": {},
   "outputs": [],
   "source": []
  }
 ],
 "metadata": {
  "kernelspec": {
   "display_name": "Python 3",
   "language": "python",
   "name": "python3"
  },
  "language_info": {
   "codemirror_mode": {
    "name": "ipython",
    "version": 3
   },
   "file_extension": ".py",
   "mimetype": "text/x-python",
   "name": "python",
   "nbconvert_exporter": "python",
   "pygments_lexer": "ipython3",
   "version": "3.8.5"
  }
 },
 "nbformat": 4,
 "nbformat_minor": 2
}
