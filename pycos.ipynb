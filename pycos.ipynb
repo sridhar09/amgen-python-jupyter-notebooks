{
 "cells": [
  {
   "cell_type": "markdown",
   "metadata": {},
   "source": [
    "# pycos: Framework for concurrent & distributed Python programming"
   ]
  },
  {
   "cell_type": "markdown",
   "metadata": {},
   "source": [
    "## Basic Task Creation\n",
    "\n",
    "The main abstraction to keep in mind with pycos is that it uses generator functions to create its tasks:"
   ]
  },
  {
   "cell_type": "code",
   "execution_count": 1,
   "metadata": {},
   "outputs": [
    {
     "name": "stdout",
     "output_type": "stream",
     "text": [
      "2020-05-22 14:13:32 pycos - version 4.8.15 with kqueue I/O notifier\n",
      "Fri May 22 14:13:32 2020: task 0 sleeping for 2.950675395980922s\n",
      "Fri May 22 14:13:32 2020: task 2 sleeping for 1.225569924855368s\n",
      "Fri May 22 14:13:32 2020: task 3 sleeping for 2.089571592356525s\n",
      "Fri May 22 14:13:32 2020: task 4 sleeping for 1.360957337504992s\n",
      "Fri May 22 14:13:32 2020: task 1 sleeping for 0.9288766549316738s\n",
      "Fri May 22 14:13:32 2020: task 5 sleeping for 2.775895242900838s\n",
      "Fri May 22 14:13:32 2020: task 6 sleeping for 1.390637964854669s\n",
      "Fri May 22 14:13:32 2020: task 7 sleeping for 1.9447317248872822s\n",
      "Fri May 22 14:13:32 2020: task 8 sleeping for 1.9480234434917894s\n",
      "Fri May 22 14:13:32 2020: task 9 sleeping for 1.0908319337399388s\n",
      "Fri May 22 14:13:33 2020: task 1 terminating\n",
      "Fri May 22 14:13:33 2020: task 9 terminating\n",
      "Fri May 22 14:13:33 2020: task 2 terminating\n",
      "Fri May 22 14:13:33 2020: task 4 terminating\n",
      "Fri May 22 14:13:33 2020: task 6 terminating\n",
      "Fri May 22 14:13:34 2020: task 8 terminating\n",
      "Fri May 22 14:13:34 2020: task 7 terminating\n",
      "Fri May 22 14:13:34 2020: task 3 terminating\n",
      "Fri May 22 14:13:34 2020: task 5 terminating\n",
      "Fri May 22 14:13:35 2020: task 0 terminating\n"
     ]
    }
   ],
   "source": [
    "import time\n",
    "import random\n",
    "import pycos\n",
    "\n",
    "def task_proc(n, task=None):\n",
    "    delay = random.uniform(0.5, 3)\n",
    "    print(f'{time.ctime()}: task {n} sleeping for {delay}s')\n",
    "    yield task.sleep(delay)\n",
    "    print(f'{time.ctime()}: task {n} terminating')\n",
    "    \n",
    "for i in range(10):\n",
    "    pycos.Task(task_proc, i)\n",
    "    \n",
    "pycos.Pycos().join()"
   ]
  },
  {
   "cell_type": "markdown",
   "metadata": {},
   "source": [
    "## Sending messages between tasks\n",
    "\n",
    "Tasks have a `send()` and `receive()` method for handling communications:"
   ]
  },
  {
   "cell_type": "code",
   "execution_count": 2,
   "metadata": {
    "scrolled": true
   },
   "outputs": [
    {
     "name": "stdout",
     "output_type": "stream",
     "text": [
      "Received Message 0-0\n",
      "Received Message 1-0\n",
      "Received Message 2-0\n",
      "Received Message 1-1\n",
      "Received Message 0-1\n",
      "Received Message 2-1\n",
      "Producer 2 exiting\n",
      "Received Message 2-2\n",
      "Producer 1 exiting\n",
      "Received Message 1-2\n",
      "Producer 0 exiting\n",
      "Received Message 0-2\n"
     ]
    }
   ],
   "source": [
    "n_producer = 3\n",
    "msgs_per_producer = 3\n",
    "\n",
    "def consumer_proc(task=None):\n",
    "    task.set_daemon()\n",
    "    while True:\n",
    "        message = yield task.receive()\n",
    "        print(f'Received {message}')\n",
    "            \n",
    "def producer_proc(consumer, i, task=None):\n",
    "    for j in range(msgs_per_producer):\n",
    "        yield task.sleep(random.uniform(0.5, 3))\n",
    "        msg = f'Message {i}-{j}'\n",
    "        consumer.send(msg)\n",
    "    print(f'Producer {i} exiting')\n",
    "        \n",
    "            \n",
    "consumer = pycos.Task(consumer_proc)\n",
    "for i in range(n_producer):\n",
    "    pycos.Task(producer_proc, consumer, i)\n",
    "    \n",
    "pycos.Pycos().join()"
   ]
  },
  {
   "cell_type": "markdown",
   "metadata": {},
   "source": [
    "## Pub/Sub with channels\n",
    "\n",
    "If you have _multiple_ consumers of a single message, you can use a `pycos.Channel` to provide a pub/sub architecture:"
   ]
  },
  {
   "cell_type": "code",
   "execution_count": 3,
   "metadata": {},
   "outputs": [
    {
     "name": "stdout",
     "output_type": "stream",
     "text": [
      "Consumer 1 received Message 0\n",
      "Consumer 2 received Message 0\n",
      "Consumer 0 received Message 0\n",
      "Consumer 1 received Message 1\n",
      "Consumer 2 received Message 1\n",
      "Consumer 0 received Message 1\n",
      "Consumer 1 received Message 2\n",
      "Consumer 2 received Message 2\n",
      "Consumer 0 received Message 2\n",
      "Exiting consumer 1\n",
      "Exiting consumer 2\n",
      "Exiting consumer 0\n"
     ]
    }
   ],
   "source": [
    "n_consumer = 3\n",
    "n_message = 3\n",
    "\n",
    "def consumer_proc(n, task=None):\n",
    "    while True:\n",
    "        msg = yield task.receive()\n",
    "        if msg is None:\n",
    "            break\n",
    "        print(f'Consumer {n} received {msg}')\n",
    "    print(f'Exiting consumer {n}')\n",
    "    \n",
    "\n",
    "def producer_proc():\n",
    "    channel = pycos.Channel('somename')\n",
    "    consumers = [\n",
    "        pycos.Task(consumer_proc, i)\n",
    "        for i in range(n_consumer)\n",
    "    ]\n",
    "    for c in consumers:\n",
    "        yield channel.subscribe(c)\n",
    "    for i in range(n_message):\n",
    "        channel.send(f'Message {i}')\n",
    "    channel.send(None)\n",
    "    for c in consumers:\n",
    "        yield channel.unsubscribe(c)\n",
    "        \n",
    "pycos.Task(producer_proc)\n",
    "pycos.Pycos().join()"
   ]
  },
  {
   "cell_type": "markdown",
   "metadata": {},
   "source": [
    "## Socket support\n",
    "\n",
    "We can also do basic socket programming with the `pycos.AsyncSocket()` wrapper:"
   ]
  },
  {
   "cell_type": "code",
   "execution_count": 4,
   "metadata": {},
   "outputs": [
    {
     "data": {
      "text/plain": [
       "!server_proc/4428999760"
      ]
     },
     "execution_count": 4,
     "metadata": {},
     "output_type": "execute_result"
    },
    {
     "name": "stdout",
     "output_type": "stream",
     "text": [
      "Task !handler_proc/4428998416 Received b'Here\\n'\n",
      "Task !handler_proc/4428998416 Received b'is\\n'\n",
      "Task !handler_proc/4428998416 Received b'data\\n'\n",
      "Task !handler_proc/4428998608 Received b\"Here's \\n\"\n",
      "Task !handler_proc/4428998608 Received b'another\\n'\n",
      "Task !handler_proc/4428998608 Received b'task\\n'\n",
      "Task !handler_proc/4428998416 Received b''\n",
      "Task !handler_proc/4428998608 Received b''\n"
     ]
    }
   ],
   "source": [
    "import socket\n",
    "\n",
    "def handler_proc(sock, task=None):\n",
    "    while True:\n",
    "        data = yield sock.recv(1024)\n",
    "        print(f'Task {task} Received {data}')\n",
    "        if not data:\n",
    "            break\n",
    "        yield sock.sendall(data)\n",
    "    sock.close()\n",
    "        \n",
    "def server_proc(sock, host, port, task=None):\n",
    "    task.set_daemon()\n",
    "    sock = pycos.AsyncSocket(sock)\n",
    "    sock.bind((host, port))\n",
    "    sock.listen()\n",
    "\n",
    "    while True:\n",
    "        conn, addr = yield sock.accept()\n",
    "        pycos.Task(handler_proc, conn)\n",
    "        \n",
    "sock = socket.socket()\n",
    "server = pycos.Task(server_proc, sock, '127.0.0.1', 8200)\n",
    "server"
   ]
  },
  {
   "cell_type": "code",
   "execution_count": 5,
   "metadata": {},
   "outputs": [
    {
     "data": {
      "text/plain": [
       "0"
      ]
     },
     "execution_count": 5,
     "metadata": {},
     "output_type": "execute_result"
    }
   ],
   "source": [
    "sock.close()\n",
    "server.terminate()"
   ]
  },
  {
   "cell_type": "markdown",
   "metadata": {},
   "source": [
    "## Distributed programming\n",
    "\n",
    "Tasks can send/receive messages even if they are not on the same machine. In order for this to work, we'll need to import `netpycos`. "
   ]
  },
  {
   "cell_type": "code",
   "execution_count": 6,
   "metadata": {},
   "outputs": [
    {
     "name": "stdout",
     "output_type": "stream",
     "text": [
      "\tinet 127.0.0.1 netmask 0xff000000 \r\n",
      "\tinet6 ::1 prefixlen 128 \r\n",
      "\tinet6 fe80::1%lo0 prefixlen 64 scopeid 0x1 \r\n",
      "\tinet 192.168.1.70 netmask 0xffffff00 broadcast 192.168.1.255\r\n",
      "\tinet6 fe80::18da:a5ff:feee:93a8%awdl0 prefixlen 64 scopeid 0xa \r\n",
      "\tinet6 fe80::8fb0:d7df:7ca4:f7a0%utun0 prefixlen 64 scopeid 0xb \r\n"
     ]
    }
   ],
   "source": [
    "!ifconfig | grep inet"
   ]
  },
  {
   "cell_type": "code",
   "execution_count": 7,
   "metadata": {},
   "outputs": [],
   "source": [
    "!echo \"MY_IP = '192.168.1.70'\" > data/pycos-examples/my_ip.py"
   ]
  },
  {
   "cell_type": "code",
   "execution_count": 8,
   "metadata": {},
   "outputs": [
    {
     "name": "stdout",
     "output_type": "stream",
     "text": [
      "Overwriting data/pycos-examples/receiver.py\n"
     ]
    }
   ],
   "source": [
    "%%file data/pycos-examples/receiver.py\n",
    "import random, sys\n",
    "import pycos\n",
    "import pycos.netpycos\n",
    "\n",
    "from my_ip import MY_IP\n",
    "\n",
    "def server_proc(task=None):\n",
    "    task.set_daemon()\n",
    "    task.register('receiver_task')\n",
    "    while True:\n",
    "        msg = yield task.receive()\n",
    "        print('received %s' % (msg))\n",
    "\n",
    "sched = pycos.Pycos.instance(node=MY_IP)\n",
    "#sched = pycos.Pycos.instance()\n",
    "server = pycos.Task(server_proc)\n",
    "while True:\n",
    "    cmd = sys.stdin.readline().strip().lower()\n",
    "    if cmd == 'quit' or cmd == 'exit':\n",
    "        break"
   ]
  },
  {
   "cell_type": "code",
   "execution_count": 9,
   "metadata": {},
   "outputs": [
    {
     "name": "stdout",
     "output_type": "stream",
     "text": [
      "Overwriting data/pycos-examples/producer.py\n"
     ]
    }
   ],
   "source": [
    "%%file data/pycos-examples/producer.py\n",
    "import random\n",
    "import pycos\n",
    "import pycos.netpycos\n",
    "\n",
    "from my_ip import MY_IP\n",
    "\n",
    "n_producer = 3\n",
    "msgs_per_producer = 3\n",
    "# sched = pycos.Pycos.instance()\n",
    "sched = pycos.Pycos.instance(node=MY_IP)\n",
    "\n",
    "def main_proc(task=None):\n",
    "    print('Entering main_proc')\n",
    "    consumer = yield task.locate('receiver_task')\n",
    "    print(f'Located {consumer!r}, type {type(consumer)}')\n",
    "    for i in range(n_producer):\n",
    "        pycos.Task(producer_proc, consumer, i)\n",
    "\n",
    "\n",
    "def producer_proc(consumer, i, task=None):\n",
    "    print('Entering producer_proc')\n",
    "    for j in range(msgs_per_producer):\n",
    "        yield task.sleep(random.uniform(0.5, 3))\n",
    "        msg = f'Message {i}-{j}'\n",
    "        consumer.send(msg)\n",
    "    print(f'Producer {i} exiting')\n",
    "    \n",
    "pycos.Task(main_proc)\n",
    "\n",
    "pycos.Pycos().join()"
   ]
  },
  {
   "cell_type": "markdown",
   "metadata": {},
   "source": [
    "## Distributed channels\n",
    "\n",
    "We can also use distributed *channels* for pub/sub communications:"
   ]
  },
  {
   "cell_type": "code",
   "execution_count": 10,
   "metadata": {},
   "outputs": [
    {
     "name": "stdout",
     "output_type": "stream",
     "text": [
      "Overwriting data/pycos-examples/counter.py\n"
     ]
    }
   ],
   "source": [
    "%%file data/pycos-examples/counter.py\n",
    "import sys\n",
    "import pycos\n",
    "import pycos.netpycos\n",
    "\n",
    "from my_ip import MY_IP\n",
    "\n",
    "sched = pycos.Pycos.instance(node=MY_IP)\n",
    "# sched = pycos.Pycos.instance()\n",
    "channel = pycos.Channel('counter')\n",
    "\n",
    "def server_proc(task=None):\n",
    "    task.set_daemon()\n",
    "    channel.register()\n",
    "    i = 0\n",
    "    while True:\n",
    "        channel.send(i)\n",
    "        yield task.sleep(1)\n",
    "        i += 1\n",
    "\n",
    "server = pycos.Task(server_proc)\n",
    "while True:\n",
    "    cmd = sys.stdin.readline().strip().lower()\n",
    "    if cmd == 'quit' or cmd == 'exit':\n",
    "        break"
   ]
  },
  {
   "cell_type": "code",
   "execution_count": 11,
   "metadata": {},
   "outputs": [
    {
     "name": "stdout",
     "output_type": "stream",
     "text": [
      "Overwriting data/pycos-examples/listener.py\n"
     ]
    }
   ],
   "source": [
    "%%file data/pycos-examples/listener.py\n",
    "import sys\n",
    "import pycos\n",
    "import pycos.netpycos\n",
    "\n",
    "from my_ip import MY_IP\n",
    "\n",
    "sched = pycos.Pycos.instance(node=MY_IP)\n",
    "# sched = pycos.Pycos.instance()\n",
    "\n",
    "def main_proc(task=None):\n",
    "    task.set_daemon()\n",
    "    chan = yield pycos.Channel.locate('counter')\n",
    "    print(f'Located {chan}')\n",
    "    yield chan.subscribe(task)\n",
    "    while True:\n",
    "        msg = yield task.receive()\n",
    "        print(f'received {msg}')\n",
    "    \n",
    "pycos.Task(main_proc)\n",
    "while True:\n",
    "    cmd = sys.stdin.readline().strip().lower()\n",
    "    if cmd == 'quit' or cmd == 'exit':\n",
    "        break\n"
   ]
  },
  {
   "cell_type": "markdown",
   "metadata": {},
   "source": [
    "## Distributed and communicating tasks\n",
    "\n",
    "With the `pycos.dispycos` package and some extra work, we can actually send the Python function to the remote node to be executed (without registering it first).\n",
    "\n",
    "The following code is adapted from example code distributed with pycos:"
   ]
  },
  {
   "cell_type": "markdown",
   "metadata": {},
   "source": [
    "(You must start the dispycosnode.py program before running this script)"
   ]
  },
  {
   "cell_type": "code",
   "execution_count": 14,
   "metadata": {},
   "outputs": [
    {
     "name": "stdout",
     "output_type": "stream",
     "text": [
      "Overwriting data/pycos-examples/dispycos_client1.py\n"
     ]
    }
   ],
   "source": [
    "%%file data/pycos-examples/dispycos_client1.py\n",
    "# Run 'dispycosnode.py' program to start processes to execute computations sent\n",
    "# by this client, along with this program.\n",
    "\n",
    "# Distributed computing example where this client sends computation ('compute'\n",
    "# function) to remote dispycos servers to run as remote tasks and obtain\n",
    "# results. At any time at most one computation task is scheduled at a process,\n",
    "# as the computation is supposed to be CPU heavy (although in this example they\n",
    "# are not).\n",
    "\n",
    "import pycos\n",
    "import pycos.netpycos\n",
    "from pycos.dispycos import *\n",
    "from my_ip import MY_IP\n",
    "\n",
    "\n",
    "# this generator function is sent to remote dispycos servers to run tasks there\n",
    "def compute(i, n, task=None):\n",
    "    import time\n",
    "    yield task.sleep(n)\n",
    "    return((i, task.location, time.asctime()))  # result of 'compute' is current time\n",
    "\n",
    "\n",
    "# client (local) task submits computations\n",
    "def client_proc(computation, njobs, task=None):\n",
    "    # schedule computation with the scheduler; scheduler accepts one computation\n",
    "    # at a time, so if scheduler is shared, the computation is queued until it\n",
    "    # is done with already scheduled computations\n",
    "    if (yield computation.schedule()):\n",
    "        raise Exception('Could not schedule computation')\n",
    "\n",
    "    # arguments must correspond to arguments for computaiton; multiple arguments\n",
    "    # (as in this case) can be given as tuples\n",
    "    args = [(i, random.uniform(2, 5)) for i in range(njobs)]\n",
    "    results = yield computation.run_results(compute, args)\n",
    "    # Tasks may not be executed in the order of given list of args, but\n",
    "    # results would be in the same order of given list of args\n",
    "    for result in results:\n",
    "        print('    result for %d from %s: %s' % result)\n",
    "\n",
    "    # wait for all jobs to be done and close computation\n",
    "    yield computation.close()\n",
    "\n",
    "\n",
    "if __name__ == '__main__':\n",
    "    import sys, random\n",
    "    pycos.logger.setLevel(pycos.Logger.DEBUG)\n",
    "    # PyPI / pip packaging adjusts assertion below for Python 3.7+\n",
    "    if sys.version_info.major == 3:\n",
    "        assert sys.version_info.minor >= 7, \\\n",
    "            ('\"%s\" is not suitable for Python version %s.%s; use file installed by pip instead' %\n",
    "             (__file__, sys.version_info.major, sys.version_info.minor))\n",
    "\n",
    "    # if scheduler is not already running (on a node as a program), start\n",
    "    # private scheduler:\n",
    "    Scheduler(node=MY_IP)\n",
    "    # Scheduler()\n",
    "    # package computation fragments\n",
    "    computation = Computation([compute])\n",
    "    # run 10 (or given number of) jobs\n",
    "    pycos.Task(client_proc, computation, 10 if len(sys.argv) < 2 else int(sys.argv[1]))\n"
   ]
  },
  {
   "cell_type": "markdown",
   "metadata": {},
   "source": [
    "# Lab \n",
    "\n",
    "Open [pycos lab](./pycos-lab.ipynb)"
   ]
  }
 ],
 "metadata": {
  "kernelspec": {
   "display_name": "Python 3",
   "language": "python",
   "name": "python3"
  },
  "language_info": {
   "codemirror_mode": {
    "name": "ipython",
    "version": 3
   },
   "file_extension": ".py",
   "mimetype": "text/x-python",
   "name": "python",
   "nbconvert_exporter": "python",
   "pygments_lexer": "ipython3",
   "version": "3.7.6"
  }
 },
 "nbformat": 4,
 "nbformat_minor": 2
}
