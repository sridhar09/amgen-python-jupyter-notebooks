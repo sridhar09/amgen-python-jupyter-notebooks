{
 "cells": [
  {
   "cell_type": "markdown",
   "metadata": {},
   "source": [
    "# Lab\n",
    "\n",
    "Using the following code as a basis, use async methods to fetch the temperatures in the given cities:"
   ]
  },
  {
   "cell_type": "code",
   "execution_count": 1,
   "metadata": {
    "scrolled": true
   },
   "outputs": [
    {
     "name": "stdout",
     "output_type": "stream",
     "text": [
      "Looking in links: /home/rick446/src/wheelhouse\n",
      "Requirement already satisfied: aiohttp_requests in /home/rick446/.virtualenvs/classes/lib/python3.8/site-packages (0.1.3)\n",
      "Requirement already satisfied: aiohttp in /home/rick446/.virtualenvs/classes/lib/python3.8/site-packages (from aiohttp_requests) (3.7.2)\n",
      "Requirement already satisfied: cchardet in /home/rick446/.virtualenvs/classes/lib/python3.8/site-packages (from aiohttp_requests) (2.1.7)\n",
      "Requirement already satisfied: aiodns in /home/rick446/.virtualenvs/classes/lib/python3.8/site-packages (from aiohttp_requests) (2.0.0)\n",
      "Requirement already satisfied: attrs>=17.3.0 in /home/rick446/.virtualenvs/classes/lib/python3.8/site-packages (from aiohttp->aiohttp_requests) (20.2.0)\n",
      "Requirement already satisfied: typing-extensions>=3.6.5 in /home/rick446/.virtualenvs/classes/lib/python3.8/site-packages (from aiohttp->aiohttp_requests) (3.7.4.3)\n",
      "Requirement already satisfied: multidict<7.0,>=4.5 in /home/rick446/.virtualenvs/classes/lib/python3.8/site-packages (from aiohttp->aiohttp_requests) (5.0.0)\n",
      "Requirement already satisfied: yarl<2.0,>=1.0 in /home/rick446/.virtualenvs/classes/lib/python3.8/site-packages (from aiohttp->aiohttp_requests) (1.6.2)\n",
      "Requirement already satisfied: chardet<4.0,>=2.0 in /home/rick446/.virtualenvs/classes/lib/python3.8/site-packages (from aiohttp->aiohttp_requests) (3.0.4)\n",
      "Requirement already satisfied: async-timeout<4.0,>=3.0 in /home/rick446/.virtualenvs/classes/lib/python3.8/site-packages (from aiohttp->aiohttp_requests) (3.0.1)\n",
      "Requirement already satisfied: pycares>=3.0.0 in /home/rick446/.virtualenvs/classes/lib/python3.8/site-packages (from aiodns->aiohttp_requests) (3.1.1)\n",
      "Requirement already satisfied: idna>=2.0 in /home/rick446/.virtualenvs/classes/lib/python3.8/site-packages (from yarl<2.0,>=1.0->aiohttp->aiohttp_requests) (2.10)\n",
      "Requirement already satisfied: cffi>=1.5.0 in /home/rick446/.virtualenvs/classes/lib/python3.8/site-packages (from pycares>=3.0.0->aiodns->aiohttp_requests) (1.14.2)\n",
      "Requirement already satisfied: pycparser in /home/rick446/.virtualenvs/classes/lib/python3.8/site-packages (from cffi>=1.5.0->pycares>=3.0.0->aiodns->aiohttp_requests) (2.20)\n",
      "\u001b[33mWARNING: You are using pip version 20.2.3; however, version 21.1.3 is available.\n",
      "You should consider upgrading via the '/home/rick446/.virtualenvs/classes/bin/python -m pip install --upgrade pip' command.\u001b[0m\n"
     ]
    }
   ],
   "source": [
    "!pip install aiohttp_requests"
   ]
  },
  {
   "cell_type": "code",
   "execution_count": 1,
   "metadata": {},
   "outputs": [],
   "source": [
    "# If the below APPID does not work, sign up for a free API key at openweathermap.org\n",
    "\n",
    "APPID = '10d4440bbaa8581bb8da9bd1fbea5617'\n",
    "#UNITS = 'metric'\n",
    "UNITS = 'imperial'\n",
    "cities = [\n",
    "    'Boulder', 'Atlanta', 'San Francisco',\n",
    "    'Reno', 'Honolulu', 'Zurich', 'Dubai',\n",
    "    'Dublin','Stuttgart', 'Rome', 'Singapore', \n",
    "    'Bangalore', 'Hyderabad', 'Seattle',\n",
    "]\n",
    "\n",
    "from aiohttp_requests import requests\n",
    "\n",
    "async def get_temp(city, units=UNITS, appid=APPID):\n",
    "    url = 'http://api.openweathermap.org/data/2.5/weather'\n",
    "    resp = await requests.get(url, params={\n",
    "        'q': city,\n",
    "        'units': units,\n",
    "        'appid': appid,        \n",
    "    })\n",
    "    # return resp.json['main']['temp']\n",
    "    json_data = await resp.json()\n",
    "    return json_data['main']['temp']"
   ]
  },
  {
   "cell_type": "code",
   "execution_count": 2,
   "metadata": {},
   "outputs": [
    {
     "data": {
      "text/plain": [
       "68.61"
      ]
     },
     "execution_count": 2,
     "metadata": {},
     "output_type": "execute_result"
    }
   ],
   "source": [
    "await get_temp('Atlanta')"
   ]
  },
  {
   "cell_type": "code",
   "execution_count": null,
   "metadata": {},
   "outputs": [],
   "source": []
  }
 ],
 "metadata": {
  "kernelspec": {
   "display_name": "Python 3",
   "language": "python",
   "name": "python3"
  },
  "language_info": {
   "codemirror_mode": {
    "name": "ipython",
    "version": 3
   },
   "file_extension": ".py",
   "mimetype": "text/x-python",
   "name": "python",
   "nbconvert_exporter": "python",
   "pygments_lexer": "ipython3",
   "version": "3.8.5"
  }
 },
 "nbformat": 4,
 "nbformat_minor": 2
}
