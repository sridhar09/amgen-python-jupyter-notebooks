{
 "cells": [
  {
   "cell_type": "code",
   "execution_count": 1,
   "metadata": {},
   "outputs": [],
   "source": [
    "from pyspark.sql import SparkSession"
   ]
  },
  {
   "cell_type": "code",
   "execution_count": 2,
   "metadata": {},
   "outputs": [],
   "source": [
    "spark = (\n",
    "    SparkSession \n",
    "    .builder \n",
    "    .master('local[*]')\n",
    "    .appName(\"training\") \n",
    "    .getOrCreate()\n",
    ")"
   ]
  },
  {
   "cell_type": "markdown",
   "metadata": {},
   "source": [
    "# Create a spark RRD\n",
    "(resilient distributed dataset)"
   ]
  },
  {
   "cell_type": "code",
   "execution_count": 3,
   "metadata": {},
   "outputs": [],
   "source": [
    "rrd = spark.sparkContext.parallelize([i**2 for i in range(20)])"
   ]
  },
  {
   "cell_type": "code",
   "execution_count": 4,
   "metadata": {},
   "outputs": [
    {
     "data": {
      "text/plain": [
       "ParallelCollectionRDD[0] at readRDDFromFile at PythonRDD.scala:262"
      ]
     },
     "execution_count": 4,
     "metadata": {},
     "output_type": "execute_result"
    }
   ],
   "source": [
    "rrd"
   ]
  },
  {
   "cell_type": "code",
   "execution_count": 5,
   "metadata": {},
   "outputs": [
    {
     "data": {
      "text/plain": [
       "20"
      ]
     },
     "execution_count": 5,
     "metadata": {},
     "output_type": "execute_result"
    }
   ],
   "source": [
    "rrd.count()"
   ]
  },
  {
   "cell_type": "code",
   "execution_count": 6,
   "metadata": {},
   "outputs": [
    {
     "data": {
      "text/plain": [
       "2470"
      ]
     },
     "execution_count": 6,
     "metadata": {},
     "output_type": "execute_result"
    }
   ],
   "source": [
    "rrd.sum()"
   ]
  },
  {
   "cell_type": "code",
   "execution_count": 7,
   "metadata": {},
   "outputs": [
    {
     "data": {
      "text/plain": [
       "./hamlet.txt MapPartitionsRDD[4] at textFile at NativeMethodAccessorImpl.java:0"
      ]
     },
     "execution_count": 7,
     "metadata": {},
     "output_type": "execute_result"
    }
   ],
   "source": [
    "rrd_hamlet = spark.sparkContext.textFile('./hamlet.txt')\n",
    "rrd_hamlet"
   ]
  },
  {
   "cell_type": "code",
   "execution_count": 8,
   "metadata": {},
   "outputs": [
    {
     "data": {
      "text/plain": [
       "10.77878787878788"
      ]
     },
     "execution_count": 8,
     "metadata": {},
     "output_type": "execute_result"
    }
   ],
   "source": [
    "total_words = (\n",
    "    rrd_hamlet\n",
    "    .map(lambda line: line.split())   # transformation\n",
    "    .map(lambda words: len(words))    # transformation\n",
    "    .sum()                            # action\n",
    ")\n",
    "total_lines = rrd_hamlet.count()\n",
    "words_per_line = total_words / total_lines\n",
    "words_per_line"
   ]
  },
  {
   "cell_type": "markdown",
   "metadata": {},
   "source": [
    "# Create a spark dataframe"
   ]
  },
  {
   "cell_type": "code",
   "execution_count": 9,
   "metadata": {},
   "outputs": [],
   "source": [
    "df = spark.read.csv('./Sacramentorealestatetransactions.csv', header=True)"
   ]
  },
  {
   "cell_type": "code",
   "execution_count": 10,
   "metadata": {},
   "outputs": [
    {
     "name": "stdout",
     "output_type": "stream",
     "text": [
      "+--------------------+--------------+-----+-----+----+-----+------+-----------+--------------------+------+---------+-----------+\n",
      "|              street|          city|  zip|state|beds|baths|sq__ft|       type|           sale_date| price| latitude|  longitude|\n",
      "+--------------------+--------------+-----+-----+----+-----+------+-----------+--------------------+------+---------+-----------+\n",
      "|        3526 HIGH ST|    SACRAMENTO|95838|   CA|   2|    1|   836|Residential|Wed May 21 00:00:...| 59222|38.631913|-121.434879|\n",
      "|         51 OMAHA CT|    SACRAMENTO|95823|   CA|   3|    1|  1167|Residential|Wed May 21 00:00:...| 68212|38.478902|-121.431028|\n",
      "|      2796 BRANCH ST|    SACRAMENTO|95815|   CA|   2|    1|   796|Residential|Wed May 21 00:00:...| 68880|38.618305|-121.443839|\n",
      "|    2805 JANETTE WAY|    SACRAMENTO|95815|   CA|   2|    1|   852|Residential|Wed May 21 00:00:...| 69307|38.616835|-121.439146|\n",
      "|     6001 MCMAHON DR|    SACRAMENTO|95824|   CA|   2|    1|   797|Residential|Wed May 21 00:00:...| 81900| 38.51947|-121.435768|\n",
      "|  5828 PEPPERMILL CT|    SACRAMENTO|95841|   CA|   3|    1|  1122|      Condo|Wed May 21 00:00:...| 89921|38.662595|-121.327813|\n",
      "| 6048 OGDEN NASH WAY|    SACRAMENTO|95842|   CA|   3|    2|  1104|Residential|Wed May 21 00:00:...| 90895|38.681659|-121.351705|\n",
      "|       2561 19TH AVE|    SACRAMENTO|95820|   CA|   3|    1|  1177|Residential|Wed May 21 00:00:...| 91002|38.535092|-121.481367|\n",
      "|11150 TRINITY RIV...|RANCHO CORDOVA|95670|   CA|   2|    2|   941|      Condo|Wed May 21 00:00:...| 94905|38.621188|-121.270555|\n",
      "|        7325 10TH ST|     RIO LINDA|95673|   CA|   3|    2|  1146|Residential|Wed May 21 00:00:...| 98937|38.700909|-121.442979|\n",
      "|    645 MORRISON AVE|    SACRAMENTO|95838|   CA|   3|    2|   909|Residential|Wed May 21 00:00:...|100309|38.637663| -121.45152|\n",
      "|       4085 FAWN CIR|    SACRAMENTO|95823|   CA|   3|    2|  1289|Residential|Wed May 21 00:00:...|106250|38.470746|-121.458918|\n",
      "|     2930 LA ROSA RD|    SACRAMENTO|95815|   CA|   1|    1|   871|Residential|Wed May 21 00:00:...|106852|38.618698|-121.435833|\n",
      "|       2113 KIRK WAY|    SACRAMENTO|95822|   CA|   3|    1|  1020|Residential|Wed May 21 00:00:...|107502|38.482215|-121.492603|\n",
      "| 4533 LOCH HAVEN WAY|    SACRAMENTO|95842|   CA|   2|    2|  1022|Residential|Wed May 21 00:00:...|108750|38.672914| -121.35934|\n",
      "|      7340 HAMDEN PL|    SACRAMENTO|95842|   CA|   2|    2|  1134|      Condo|Wed May 21 00:00:...|110700|38.700051|-121.351278|\n",
      "|         6715 6TH ST|     RIO LINDA|95673|   CA|   2|    1|   844|Residential|Wed May 21 00:00:...|113263|38.689591|-121.452239|\n",
      "|6236 LONGFORD DR ...|CITRUS HEIGHTS|95621|   CA|   2|    1|   795|      Condo|Wed May 21 00:00:...|116250|38.679776|-121.314089|\n",
      "|     250 PERALTA AVE|    SACRAMENTO|95833|   CA|   2|    1|   588|Residential|Wed May 21 00:00:...|120000|38.612099|-121.469095|\n",
      "|     113 LEEWILL AVE|     RIO LINDA|95673|   CA|   3|    2|  1356|Residential|Wed May 21 00:00:...|121630|38.689999| -121.46322|\n",
      "+--------------------+--------------+-----+-----+----+-----+------+-----------+--------------------+------+---------+-----------+\n",
      "only showing top 20 rows\n",
      "\n"
     ]
    }
   ],
   "source": [
    "df.show()"
   ]
  },
  {
   "cell_type": "code",
   "execution_count": 11,
   "metadata": {},
   "outputs": [
    {
     "data": {
      "text/plain": [
       "DataFrame[summary: string, street: string, city: string, zip: string, state: string, beds: string, baths: string, sq__ft: string, type: string, sale_date: string, price: string, latitude: string, longitude: string]"
      ]
     },
     "execution_count": 11,
     "metadata": {},
     "output_type": "execute_result"
    }
   ],
   "source": [
    "df.describe()"
   ]
  },
  {
   "cell_type": "code",
   "execution_count": 12,
   "metadata": {},
   "outputs": [
    {
     "data": {
      "text/plain": [
       "StructType(List(StructField(street,StringType,true),StructField(city,StringType,true),StructField(zip,StringType,true),StructField(state,StringType,true),StructField(beds,StringType,true),StructField(baths,StringType,true),StructField(sq__ft,StringType,true),StructField(type,StringType,true),StructField(sale_date,StringType,true),StructField(price,StringType,true),StructField(latitude,StringType,true),StructField(longitude,StringType,true)))"
      ]
     },
     "execution_count": 12,
     "metadata": {},
     "output_type": "execute_result"
    }
   ],
   "source": [
    "df.schema"
   ]
  },
  {
   "cell_type": "markdown",
   "metadata": {},
   "source": [
    "# Convert the dataframe to a view for use with Spark SQL"
   ]
  },
  {
   "cell_type": "code",
   "execution_count": 13,
   "metadata": {},
   "outputs": [],
   "source": [
    "df.createOrReplaceTempView('Sacramento')"
   ]
  },
  {
   "cell_type": "code",
   "execution_count": 16,
   "metadata": {},
   "outputs": [
    {
     "name": "stdout",
     "output_type": "stream",
     "text": [
      "+-----+-----+------------------+\n",
      "|  zip|count|        mean_price|\n",
      "+-----+-----+------------------+\n",
      "|95834|   22|248426.27272727274|\n",
      "|95667|   10|          363863.4|\n",
      "|95662|   11|279159.54545454547|\n",
      "|95670|   21| 236060.2857142857|\n",
      "|95626|    4|          132866.0|\n",
      "|95690|    1|          380000.0|\n",
      "|95722|    1|          230000.0|\n",
      "|95630|   17|414960.17647058825|\n",
      "|95832|   12|175196.83333333334|\n",
      "|95826|   18|181119.94444444444|\n",
      "|95831|   10|          313271.0|\n",
      "|95742|   11| 350009.0909090909|\n",
      "|95608|   20|         295684.75|\n",
      "|95631|    1|          194818.0|\n",
      "|95841|    7|213806.14285714287|\n",
      "|95815|   18|          115133.0|\n",
      "|95824|   12|114467.58333333333|\n",
      "|95864|    5|          364400.0|\n",
      "|95682|   10|          268650.0|\n",
      "|95757|   36| 338334.5833333333|\n",
      "+-----+-----+------------------+\n",
      "only showing top 20 rows\n",
      "\n"
     ]
    }
   ],
   "source": [
    "df2 = spark.sql('SELECT zip, COUNT(*) as count, MEAN(price) AS mean_price FROM Sacramento GROUP BY zip')\n",
    "df2.show()"
   ]
  },
  {
   "cell_type": "markdown",
   "metadata": {},
   "source": [
    "# Integration with Pandas\n",
    "\n",
    "Convert to a Pandas dataframe..."
   ]
  },
  {
   "cell_type": "code",
   "execution_count": 17,
   "metadata": {},
   "outputs": [
    {
     "data": {
      "text/html": [
       "<div>\n",
       "<style scoped>\n",
       "    .dataframe tbody tr th:only-of-type {\n",
       "        vertical-align: middle;\n",
       "    }\n",
       "\n",
       "    .dataframe tbody tr th {\n",
       "        vertical-align: top;\n",
       "    }\n",
       "\n",
       "    .dataframe thead th {\n",
       "        text-align: right;\n",
       "    }\n",
       "</style>\n",
       "<table border=\"1\" class=\"dataframe\">\n",
       "  <thead>\n",
       "    <tr style=\"text-align: right;\">\n",
       "      <th></th>\n",
       "      <th>zip</th>\n",
       "      <th>count</th>\n",
       "      <th>mean_price</th>\n",
       "    </tr>\n",
       "  </thead>\n",
       "  <tbody>\n",
       "    <tr>\n",
       "      <th>0</th>\n",
       "      <td>95834</td>\n",
       "      <td>22</td>\n",
       "      <td>248426.272727</td>\n",
       "    </tr>\n",
       "    <tr>\n",
       "      <th>1</th>\n",
       "      <td>95667</td>\n",
       "      <td>10</td>\n",
       "      <td>363863.400000</td>\n",
       "    </tr>\n",
       "    <tr>\n",
       "      <th>2</th>\n",
       "      <td>95662</td>\n",
       "      <td>11</td>\n",
       "      <td>279159.545455</td>\n",
       "    </tr>\n",
       "    <tr>\n",
       "      <th>3</th>\n",
       "      <td>95670</td>\n",
       "      <td>21</td>\n",
       "      <td>236060.285714</td>\n",
       "    </tr>\n",
       "    <tr>\n",
       "      <th>4</th>\n",
       "      <td>95626</td>\n",
       "      <td>4</td>\n",
       "      <td>132866.000000</td>\n",
       "    </tr>\n",
       "    <tr>\n",
       "      <th>...</th>\n",
       "      <td>...</td>\n",
       "      <td>...</td>\n",
       "      <td>...</td>\n",
       "    </tr>\n",
       "    <tr>\n",
       "      <th>63</th>\n",
       "      <td>95819</td>\n",
       "      <td>4</td>\n",
       "      <td>465750.000000</td>\n",
       "    </tr>\n",
       "    <tr>\n",
       "      <th>64</th>\n",
       "      <td>95823</td>\n",
       "      <td>61</td>\n",
       "      <td>175243.049180</td>\n",
       "    </tr>\n",
       "    <tr>\n",
       "      <th>65</th>\n",
       "      <td>95828</td>\n",
       "      <td>45</td>\n",
       "      <td>184676.955556</td>\n",
       "    </tr>\n",
       "    <tr>\n",
       "      <th>66</th>\n",
       "      <td>95624</td>\n",
       "      <td>34</td>\n",
       "      <td>250743.676471</td>\n",
       "    </tr>\n",
       "    <tr>\n",
       "      <th>67</th>\n",
       "      <td>95677</td>\n",
       "      <td>6</td>\n",
       "      <td>430640.833333</td>\n",
       "    </tr>\n",
       "  </tbody>\n",
       "</table>\n",
       "<p>68 rows × 3 columns</p>\n",
       "</div>"
      ],
      "text/plain": [
       "      zip  count     mean_price\n",
       "0   95834     22  248426.272727\n",
       "1   95667     10  363863.400000\n",
       "2   95662     11  279159.545455\n",
       "3   95670     21  236060.285714\n",
       "4   95626      4  132866.000000\n",
       "..    ...    ...            ...\n",
       "63  95819      4  465750.000000\n",
       "64  95823     61  175243.049180\n",
       "65  95828     45  184676.955556\n",
       "66  95624     34  250743.676471\n",
       "67  95677      6  430640.833333\n",
       "\n",
       "[68 rows x 3 columns]"
      ]
     },
     "execution_count": 17,
     "metadata": {},
     "output_type": "execute_result"
    }
   ],
   "source": [
    "pd_df = df2.toPandas()\n",
    "pd_df"
   ]
  },
  {
   "cell_type": "markdown",
   "metadata": {},
   "source": [
    "and back..."
   ]
  },
  {
   "cell_type": "code",
   "execution_count": 18,
   "metadata": {},
   "outputs": [
    {
     "name": "stdout",
     "output_type": "stream",
     "text": [
      "+-----+-----+------------------+\n",
      "|  zip|count|        mean_price|\n",
      "+-----+-----+------------------+\n",
      "|95834|   22|248426.27272727274|\n",
      "|95667|   10|          363863.4|\n",
      "|95662|   11|279159.54545454547|\n",
      "|95670|   21| 236060.2857142857|\n",
      "|95626|    4|          132866.0|\n",
      "|95690|    1|          380000.0|\n",
      "|95722|    1|          230000.0|\n",
      "|95630|   17|414960.17647058825|\n",
      "|95832|   12|175196.83333333334|\n",
      "|95826|   18|181119.94444444444|\n",
      "|95831|   10|          313271.0|\n",
      "|95742|   11| 350009.0909090909|\n",
      "|95608|   20|         295684.75|\n",
      "|95631|    1|          194818.0|\n",
      "|95841|    7|213806.14285714287|\n",
      "|95815|   18|          115133.0|\n",
      "|95824|   12|114467.58333333333|\n",
      "|95864|    5|          364400.0|\n",
      "|95682|   10|          268650.0|\n",
      "|95757|   36| 338334.5833333333|\n",
      "+-----+-----+------------------+\n",
      "only showing top 20 rows\n",
      "\n"
     ]
    }
   ],
   "source": [
    "spark.createDataFrame(pd_df).show()"
   ]
  },
  {
   "cell_type": "code",
   "execution_count": null,
   "metadata": {},
   "outputs": [],
   "source": []
  }
 ],
 "metadata": {
  "kernelspec": {
   "display_name": "Python 3",
   "language": "python",
   "name": "python3"
  },
  "language_info": {
   "codemirror_mode": {
    "name": "ipython",
    "version": 3
   },
   "file_extension": ".py",
   "mimetype": "text/x-python",
   "name": "python",
   "nbconvert_exporter": "python",
   "pygments_lexer": "ipython3",
   "version": "3.8.6"
  }
 },
 "nbformat": 4,
 "nbformat_minor": 4
}
