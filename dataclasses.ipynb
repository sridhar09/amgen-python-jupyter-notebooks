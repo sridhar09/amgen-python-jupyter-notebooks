{
 "cells": [
  {
   "cell_type": "markdown",
   "metadata": {},
   "source": [
    "# Data Classes\n",
    "\n",
    "Data classes (introduced to the standard library in Python 3.7, available as a third party module in 3.6) allow us to reduce a lot of boilerplate code for classes whose primary purpose is to store data.\n",
    "\n",
    "Think of them as super-charged `namedtuple`s"
   ]
  },
  {
   "cell_type": "code",
   "execution_count": 1,
   "metadata": {},
   "outputs": [],
   "source": [
    "from dataclasses import dataclass\n",
    "@dataclass\n",
    "class Card:\n",
    "    rank: str\n",
    "    suit: str"
   ]
  },
  {
   "cell_type": "code",
   "execution_count": 2,
   "metadata": {},
   "outputs": [
    {
     "data": {
      "text/plain": [
       "Card(rank='J', suit='diamonds')"
      ]
     },
     "execution_count": 2,
     "metadata": {},
     "output_type": "execute_result"
    }
   ],
   "source": [
    "c = Card(rank='J', suit='diamonds')\n",
    "c"
   ]
  },
  {
   "cell_type": "code",
   "execution_count": 3,
   "metadata": {},
   "outputs": [
    {
     "data": {
      "text/plain": [
       "'J'"
      ]
     },
     "execution_count": 3,
     "metadata": {},
     "output_type": "execute_result"
    }
   ],
   "source": [
    "c.rank"
   ]
  },
  {
   "cell_type": "code",
   "execution_count": 4,
   "metadata": {},
   "outputs": [],
   "source": [
    "c.rank = 'Q'"
   ]
  },
  {
   "cell_type": "code",
   "execution_count": 5,
   "metadata": {},
   "outputs": [
    {
     "data": {
      "text/plain": [
       "True"
      ]
     },
     "execution_count": 5,
     "metadata": {},
     "output_type": "execute_result"
    }
   ],
   "source": [
    "Card('Q', 'diamonds') == c"
   ]
  },
  {
   "cell_type": "code",
   "execution_count": 7,
   "metadata": {},
   "outputs": [],
   "source": [
    "class Card:\n",
    "    rank: str\n",
    "    suit: str"
   ]
  },
  {
   "cell_type": "markdown",
   "metadata": {},
   "source": [
    "How about some default values?"
   ]
  },
  {
   "cell_type": "code",
   "execution_count": 8,
   "metadata": {},
   "outputs": [],
   "source": [
    "@dataclass\n",
    "class Card:\n",
    "    rank: str = '2'\n",
    "    suit: str = 'Spades'"
   ]
  },
  {
   "cell_type": "code",
   "execution_count": 9,
   "metadata": {},
   "outputs": [
    {
     "data": {
      "text/plain": [
       "Card(rank='2', suit='Spades')"
      ]
     },
     "execution_count": 9,
     "metadata": {},
     "output_type": "execute_result"
    }
   ],
   "source": [
    "Card()"
   ]
  },
  {
   "cell_type": "code",
   "execution_count": 10,
   "metadata": {},
   "outputs": [
    {
     "data": {
      "text/plain": [
       "{'rank': str, 'suit': str}"
      ]
     },
     "execution_count": 10,
     "metadata": {},
     "output_type": "execute_result"
    }
   ],
   "source": [
    "Card.__annotations__"
   ]
  },
  {
   "cell_type": "code",
   "execution_count": 11,
   "metadata": {},
   "outputs": [
    {
     "data": {
      "text/plain": [
       "mappingproxy({'__module__': '__main__',\n",
       "              '__annotations__': {'rank': str, 'suit': str},\n",
       "              'rank': '2',\n",
       "              'suit': 'Spades',\n",
       "              '__dict__': <attribute '__dict__' of 'Card' objects>,\n",
       "              '__weakref__': <attribute '__weakref__' of 'Card' objects>,\n",
       "              '__doc__': \"Card(rank: str = '2', suit: str = 'Spades')\",\n",
       "              '__dataclass_params__': _DataclassParams(init=True,repr=True,eq=True,order=False,unsafe_hash=False,frozen=False),\n",
       "              '__dataclass_fields__': {'rank': Field(name='rank',type=<class 'str'>,default='2',default_factory=<dataclasses._MISSING_TYPE object at 0x7f2d60b57ee0>,init=True,repr=True,hash=None,compare=True,metadata=mappingproxy({}),_field_type=_FIELD),\n",
       "               'suit': Field(name='suit',type=<class 'str'>,default='Spades',default_factory=<dataclasses._MISSING_TYPE object at 0x7f2d60b57ee0>,init=True,repr=True,hash=None,compare=True,metadata=mappingproxy({}),_field_type=_FIELD)},\n",
       "              '__init__': <function __main__.__create_fn__.<locals>.__init__(self, rank: str = '2', suit: str = 'Spades') -> None>,\n",
       "              '__repr__': <function __main__.__create_fn__.<locals>.__repr__(self)>,\n",
       "              '__eq__': <function __main__.__create_fn__.<locals>.__eq__(self, other)>,\n",
       "              '__hash__': None})"
      ]
     },
     "execution_count": 11,
     "metadata": {},
     "output_type": "execute_result"
    }
   ],
   "source": [
    "Card.__dict__"
   ]
  },
  {
   "cell_type": "markdown",
   "metadata": {},
   "source": [
    "What if we don't want to do static typing?"
   ]
  },
  {
   "cell_type": "code",
   "execution_count": 12,
   "metadata": {},
   "outputs": [],
   "source": [
    "from typing import Any\n",
    "\n",
    "@dataclass\n",
    "class Card:\n",
    "    rank: Any = '2'\n",
    "    suit: Any = 'Spades'"
   ]
  },
  {
   "cell_type": "code",
   "execution_count": 13,
   "metadata": {},
   "outputs": [
    {
     "data": {
      "text/plain": [
       "Card(rank='2', suit='Spades')"
      ]
     },
     "execution_count": 13,
     "metadata": {},
     "output_type": "execute_result"
    }
   ],
   "source": [
    "Card()"
   ]
  },
  {
   "cell_type": "code",
   "execution_count": 14,
   "metadata": {},
   "outputs": [
    {
     "data": {
      "text/plain": [
       "Card(rank=['the', 'greatest', 'rank,', 'ever'], suit=3.14159)"
      ]
     },
     "execution_count": 14,
     "metadata": {},
     "output_type": "execute_result"
    }
   ],
   "source": [
    "Card(rank='the greatest rank, ever'.split(), suit=3.14159)"
   ]
  },
  {
   "cell_type": "code",
   "execution_count": 15,
   "metadata": {},
   "outputs": [
    {
     "data": {
      "text/plain": [
       "{'rank': typing.Any, 'suit': typing.Any}"
      ]
     },
     "execution_count": 15,
     "metadata": {},
     "output_type": "execute_result"
    }
   ],
   "source": [
    "Card.__annotations__"
   ]
  },
  {
   "cell_type": "markdown",
   "metadata": {},
   "source": [
    "## More complex examples"
   ]
  },
  {
   "cell_type": "code",
   "execution_count": 16,
   "metadata": {},
   "outputs": [],
   "source": [
    "ranks = '2 3 4 5 6 7 8 9 10 J Q K A'.split()\n",
    "suits = 'spades clubs hearts diamonds'.split()\n",
    "def make_deck():\n",
    "    return [Card(r, s) for r in ranks for s in suits]"
   ]
  },
  {
   "cell_type": "code",
   "execution_count": 17,
   "metadata": {},
   "outputs": [],
   "source": [
    "from typing import List\n",
    "\n",
    "@dataclass\n",
    "class Card:\n",
    "    rank: str\n",
    "    suit: str\n",
    "        \n",
    "@dataclass\n",
    "class Deck:\n",
    "    cards: List[Card]\n"
   ]
  },
  {
   "cell_type": "code",
   "execution_count": 18,
   "metadata": {},
   "outputs": [
    {
     "data": {
      "text/plain": [
       "Deck(cards=[Card(rank='2', suit='spades'), Card(rank='2', suit='clubs'), Card(rank='2', suit='hearts'), Card(rank='2', suit='diamonds'), Card(rank='3', suit='spades'), Card(rank='3', suit='clubs'), Card(rank='3', suit='hearts'), Card(rank='3', suit='diamonds'), Card(rank='4', suit='spades'), Card(rank='4', suit='clubs'), Card(rank='4', suit='hearts'), Card(rank='4', suit='diamonds'), Card(rank='5', suit='spades'), Card(rank='5', suit='clubs'), Card(rank='5', suit='hearts'), Card(rank='5', suit='diamonds'), Card(rank='6', suit='spades'), Card(rank='6', suit='clubs'), Card(rank='6', suit='hearts'), Card(rank='6', suit='diamonds'), Card(rank='7', suit='spades'), Card(rank='7', suit='clubs'), Card(rank='7', suit='hearts'), Card(rank='7', suit='diamonds'), Card(rank='8', suit='spades'), Card(rank='8', suit='clubs'), Card(rank='8', suit='hearts'), Card(rank='8', suit='diamonds'), Card(rank='9', suit='spades'), Card(rank='9', suit='clubs'), Card(rank='9', suit='hearts'), Card(rank='9', suit='diamonds'), Card(rank='10', suit='spades'), Card(rank='10', suit='clubs'), Card(rank='10', suit='hearts'), Card(rank='10', suit='diamonds'), Card(rank='J', suit='spades'), Card(rank='J', suit='clubs'), Card(rank='J', suit='hearts'), Card(rank='J', suit='diamonds'), Card(rank='Q', suit='spades'), Card(rank='Q', suit='clubs'), Card(rank='Q', suit='hearts'), Card(rank='Q', suit='diamonds'), Card(rank='K', suit='spades'), Card(rank='K', suit='clubs'), Card(rank='K', suit='hearts'), Card(rank='K', suit='diamonds'), Card(rank='A', suit='spades'), Card(rank='A', suit='clubs'), Card(rank='A', suit='hearts'), Card(rank='A', suit='diamonds')])"
      ]
     },
     "execution_count": 18,
     "metadata": {},
     "output_type": "execute_result"
    }
   ],
   "source": [
    "Deck(cards=make_deck())"
   ]
  },
  {
   "cell_type": "markdown",
   "metadata": {},
   "source": [
    "## This is tempting, but don't do it!\n",
    "\n",
    "```python\n",
    "from typing import List\n",
    "\n",
    "@dataclass\n",
    "class Card:\n",
    "    rank: str\n",
    "    suit: str\n",
    "        \n",
    "@dataclass\n",
    "class Deck:\n",
    "    cards: List[Card] = make_deck()  # this fails if we try it\n",
    "```\n"
   ]
  },
  {
   "cell_type": "code",
   "execution_count": 19,
   "metadata": {},
   "outputs": [
    {
     "name": "stdout",
     "output_type": "stream",
     "text": [
      "Got exception mutable default <class 'list'> for field cards is not allowed: use default_factory\n"
     ]
    }
   ],
   "source": [
    "try:\n",
    "    @dataclass\n",
    "    class Deck:\n",
    "        cards: List[Card] = make_deck()  # this fails if we try it\n",
    "except Exception as err:\n",
    "    print('Got exception', err)"
   ]
  },
  {
   "cell_type": "markdown",
   "metadata": {},
   "source": [
    "## Why not use mutable defaults?"
   ]
  },
  {
   "cell_type": "code",
   "execution_count": null,
   "metadata": {},
   "outputs": [],
   "source": [
    "def append_list(value, lst=[]):\n",
    "    lst.append(value)\n",
    "    return lst"
   ]
  },
  {
   "cell_type": "code",
   "execution_count": null,
   "metadata": {},
   "outputs": [],
   "source": [
    "append_list(5, [1,2])"
   ]
  },
  {
   "cell_type": "code",
   "execution_count": null,
   "metadata": {},
   "outputs": [],
   "source": [
    "append_list(10)"
   ]
  },
  {
   "cell_type": "code",
   "execution_count": null,
   "metadata": {},
   "outputs": [],
   "source": [
    "append_list(5)"
   ]
  },
  {
   "cell_type": "code",
   "execution_count": null,
   "metadata": {},
   "outputs": [],
   "source": [
    "def append_list(value, lst=None):\n",
    "    if lst is None:\n",
    "        lst = []\n",
    "    lst.append(value)\n",
    "    return lst"
   ]
  },
  {
   "cell_type": "markdown",
   "metadata": {},
   "source": [
    "## Back to data classes"
   ]
  },
  {
   "cell_type": "code",
   "execution_count": 20,
   "metadata": {},
   "outputs": [],
   "source": [
    "from dataclasses import field\n",
    "\n",
    "@dataclass\n",
    "class Deck:\n",
    "    cards: List[Card] = field(default_factory=make_deck)\n"
   ]
  },
  {
   "cell_type": "code",
   "execution_count": 21,
   "metadata": {},
   "outputs": [
    {
     "data": {
      "text/plain": [
       "mappingproxy({'__module__': '__main__',\n",
       "              '__annotations__': {'cards': typing.List[__main__.Card]},\n",
       "              '__dict__': <attribute '__dict__' of 'Deck' objects>,\n",
       "              '__weakref__': <attribute '__weakref__' of 'Deck' objects>,\n",
       "              '__doc__': 'Deck(cards: List[__main__.Card] = <factory>)',\n",
       "              '__dataclass_params__': _DataclassParams(init=True,repr=True,eq=True,order=False,unsafe_hash=False,frozen=False),\n",
       "              '__dataclass_fields__': {'cards': Field(name='cards',type=typing.List[__main__.Card],default=<dataclasses._MISSING_TYPE object at 0x7f2d60b57ee0>,default_factory=<function make_deck at 0x7f2d60af60d0>,init=True,repr=True,hash=None,compare=True,metadata=mappingproxy({}),_field_type=_FIELD)},\n",
       "              '__init__': <function __main__.__create_fn__.<locals>.__init__(self, cards: List[__main__.Card] = <factory>) -> None>,\n",
       "              '__repr__': <function __main__.__create_fn__.<locals>.__repr__(self)>,\n",
       "              '__eq__': <function __main__.__create_fn__.<locals>.__eq__(self, other)>,\n",
       "              '__hash__': None})"
      ]
     },
     "execution_count": 21,
     "metadata": {},
     "output_type": "execute_result"
    }
   ],
   "source": [
    "Deck.__dict__"
   ]
  },
  {
   "cell_type": "code",
   "execution_count": 22,
   "metadata": {},
   "outputs": [
    {
     "data": {
      "text/plain": [
       "Deck(cards=[Card(rank='2', suit='spades'), Card(rank='2', suit='clubs'), Card(rank='2', suit='hearts'), Card(rank='2', suit='diamonds'), Card(rank='3', suit='spades'), Card(rank='3', suit='clubs'), Card(rank='3', suit='hearts'), Card(rank='3', suit='diamonds'), Card(rank='4', suit='spades'), Card(rank='4', suit='clubs'), Card(rank='4', suit='hearts'), Card(rank='4', suit='diamonds'), Card(rank='5', suit='spades'), Card(rank='5', suit='clubs'), Card(rank='5', suit='hearts'), Card(rank='5', suit='diamonds'), Card(rank='6', suit='spades'), Card(rank='6', suit='clubs'), Card(rank='6', suit='hearts'), Card(rank='6', suit='diamonds'), Card(rank='7', suit='spades'), Card(rank='7', suit='clubs'), Card(rank='7', suit='hearts'), Card(rank='7', suit='diamonds'), Card(rank='8', suit='spades'), Card(rank='8', suit='clubs'), Card(rank='8', suit='hearts'), Card(rank='8', suit='diamonds'), Card(rank='9', suit='spades'), Card(rank='9', suit='clubs'), Card(rank='9', suit='hearts'), Card(rank='9', suit='diamonds'), Card(rank='10', suit='spades'), Card(rank='10', suit='clubs'), Card(rank='10', suit='hearts'), Card(rank='10', suit='diamonds'), Card(rank='J', suit='spades'), Card(rank='J', suit='clubs'), Card(rank='J', suit='hearts'), Card(rank='J', suit='diamonds'), Card(rank='Q', suit='spades'), Card(rank='Q', suit='clubs'), Card(rank='Q', suit='hearts'), Card(rank='Q', suit='diamonds'), Card(rank='K', suit='spades'), Card(rank='K', suit='clubs'), Card(rank='K', suit='hearts'), Card(rank='K', suit='diamonds'), Card(rank='A', suit='spades'), Card(rank='A', suit='clubs'), Card(rank='A', suit='hearts'), Card(rank='A', suit='diamonds')])"
      ]
     },
     "execution_count": 22,
     "metadata": {},
     "output_type": "execute_result"
    }
   ],
   "source": [
    "Deck()"
   ]
  },
  {
   "cell_type": "markdown",
   "metadata": {},
   "source": [
    "## More `dataclass`  and `field` options"
   ]
  },
  {
   "cell_type": "markdown",
   "metadata": {},
   "source": [
    "`@dataclass(args)` \n",
    "- `init=True`': create an `__init__` method?\n",
    "- `repr=True`': create a `__repr__` method?\n",
    "- `eq=True`: create an `__eq__` method?\n",
    "- `order=False`: allow comparisons (`__gt__`, `__ge__`, etc.)\n",
    "- `unsafe_hash=False`: create a `__hash__` method? (unsafe b/c it can change)\n",
    "- `frozen=False`: are the declared properties immutable?\n",
    "\n",
    "`field(args)`\n",
    "- `default=<MISSING>`: default value\n",
    "- `default_factory=<MISSING>`: default factory\n",
    "- `init=True`: use in `__init__` for dataclass?\n",
    "- `repr=True`: use in `__repr__` for dataclass?\n",
    "- `hash=True`: use in `__hash__` for dataclass?\n",
    "- `compare=True`: use in `__eq__` and `__ne__` for dataclass?\n",
    "- `metadata=None`: arbitrary metadata to attach to field\n"
   ]
  },
  {
   "cell_type": "code",
   "execution_count": 23,
   "metadata": {},
   "outputs": [],
   "source": [
    "@dataclass\n",
    "class MyClass:\n",
    "    a: Any = field(metadata={'my': 'metadata'})\n",
    "     \n",
    "    def foo(self, a: int) -> List[int]:\n",
    "        print('call foo', a)"
   ]
  },
  {
   "cell_type": "code",
   "execution_count": 24,
   "metadata": {},
   "outputs": [],
   "source": [
    "obj = MyClass(5)"
   ]
  },
  {
   "cell_type": "code",
   "execution_count": 25,
   "metadata": {},
   "outputs": [
    {
     "data": {
      "text/plain": [
       "5"
      ]
     },
     "execution_count": 25,
     "metadata": {},
     "output_type": "execute_result"
    }
   ],
   "source": [
    "obj.a"
   ]
  },
  {
   "cell_type": "code",
   "execution_count": 26,
   "metadata": {},
   "outputs": [
    {
     "data": {
      "text/plain": [
       "MyClass(a=5)"
      ]
     },
     "execution_count": 26,
     "metadata": {},
     "output_type": "execute_result"
    }
   ],
   "source": [
    "obj"
   ]
  },
  {
   "cell_type": "code",
   "execution_count": 27,
   "metadata": {},
   "outputs": [
    {
     "name": "stdout",
     "output_type": "stream",
     "text": [
      "call foo this is no int\n"
     ]
    }
   ],
   "source": [
    "obj.foo('this is no int')"
   ]
  },
  {
   "cell_type": "code",
   "execution_count": 28,
   "metadata": {},
   "outputs": [
    {
     "data": {
      "text/plain": [
       "{'a': int, 'return': typing.List[int]}"
      ]
     },
     "execution_count": 28,
     "metadata": {},
     "output_type": "execute_result"
    }
   ],
   "source": [
    "MyClass.foo.__annotations__"
   ]
  },
  {
   "cell_type": "code",
   "execution_count": 29,
   "metadata": {},
   "outputs": [
    {
     "data": {
      "text/plain": [
       "{'a': 5}"
      ]
     },
     "execution_count": 29,
     "metadata": {},
     "output_type": "execute_result"
    }
   ],
   "source": [
    "obj.__dict__"
   ]
  },
  {
   "cell_type": "markdown",
   "metadata": {},
   "source": [
    "Metadata is awkward to access, however:"
   ]
  },
  {
   "cell_type": "code",
   "execution_count": 30,
   "metadata": {},
   "outputs": [
    {
     "data": {
      "text/plain": [
       "mappingproxy({'my': 'metadata'})"
      ]
     },
     "execution_count": 30,
     "metadata": {},
     "output_type": "execute_result"
    }
   ],
   "source": [
    "MyClass.__dataclass_fields__['a'].metadata"
   ]
  },
  {
   "cell_type": "markdown",
   "metadata": {},
   "source": [
    "# Aside on hashability"
   ]
  },
  {
   "cell_type": "code",
   "execution_count": 31,
   "metadata": {},
   "outputs": [],
   "source": [
    "@dataclass(unsafe_hash=True)\n",
    "class MyHashable:\n",
    "    a: int"
   ]
  },
  {
   "cell_type": "code",
   "execution_count": 32,
   "metadata": {},
   "outputs": [],
   "source": [
    "foo = MyHashable(a=5)"
   ]
  },
  {
   "cell_type": "code",
   "execution_count": 33,
   "metadata": {},
   "outputs": [],
   "source": [
    "dct = {foo: 10}"
   ]
  },
  {
   "cell_type": "code",
   "execution_count": 34,
   "metadata": {},
   "outputs": [],
   "source": [
    "bar = MyHashable(a=5)"
   ]
  },
  {
   "cell_type": "code",
   "execution_count": 35,
   "metadata": {},
   "outputs": [
    {
     "data": {
      "text/plain": [
       "True"
      ]
     },
     "execution_count": 35,
     "metadata": {},
     "output_type": "execute_result"
    }
   ],
   "source": [
    "bar == foo"
   ]
  },
  {
   "cell_type": "code",
   "execution_count": 36,
   "metadata": {},
   "outputs": [
    {
     "data": {
      "text/plain": [
       "True"
      ]
     },
     "execution_count": 36,
     "metadata": {},
     "output_type": "execute_result"
    }
   ],
   "source": [
    "bar in dct"
   ]
  },
  {
   "cell_type": "code",
   "execution_count": 37,
   "metadata": {},
   "outputs": [],
   "source": [
    "foo.a = 10"
   ]
  },
  {
   "cell_type": "code",
   "execution_count": 38,
   "metadata": {},
   "outputs": [
    {
     "data": {
      "text/plain": [
       "False"
      ]
     },
     "execution_count": 38,
     "metadata": {},
     "output_type": "execute_result"
    }
   ],
   "source": [
    "bar in dct"
   ]
  },
  {
   "cell_type": "code",
   "execution_count": 39,
   "metadata": {},
   "outputs": [
    {
     "data": {
      "text/plain": [
       "False"
      ]
     },
     "execution_count": 39,
     "metadata": {},
     "output_type": "execute_result"
    }
   ],
   "source": [
    "foo in dct"
   ]
  },
  {
   "cell_type": "code",
   "execution_count": 40,
   "metadata": {},
   "outputs": [
    {
     "data": {
      "text/plain": [
       "[MyHashable(a=10)]"
      ]
     },
     "execution_count": 40,
     "metadata": {},
     "output_type": "execute_result"
    }
   ],
   "source": [
    "list(dct.keys())"
   ]
  },
  {
   "cell_type": "code",
   "execution_count": 41,
   "metadata": {},
   "outputs": [],
   "source": [
    "foo.a = 5"
   ]
  },
  {
   "cell_type": "code",
   "execution_count": 42,
   "metadata": {},
   "outputs": [
    {
     "data": {
      "text/plain": [
       "True"
      ]
     },
     "execution_count": 42,
     "metadata": {},
     "output_type": "execute_result"
    }
   ],
   "source": [
    "foo in dct"
   ]
  },
  {
   "cell_type": "code",
   "execution_count": 43,
   "metadata": {},
   "outputs": [
    {
     "data": {
      "text/plain": [
       "{MyHashable(a=5): 10}"
      ]
     },
     "execution_count": 43,
     "metadata": {},
     "output_type": "execute_result"
    }
   ],
   "source": [
    "dct"
   ]
  },
  {
   "cell_type": "markdown",
   "metadata": {},
   "source": [
    "# Other uses of type annotations / hinting\n",
    "\n",
    "- https://pydantic-docs.helpmanual.io for schema creation\n",
    "- http://mypy-lang.org for static type checking "
   ]
  }
 ],
 "metadata": {
  "kernelspec": {
   "display_name": "Python 3",
   "language": "python",
   "name": "python3"
  },
  "language_info": {
   "codemirror_mode": {
    "name": "ipython",
    "version": 3
   },
   "file_extension": ".py",
   "mimetype": "text/x-python",
   "name": "python",
   "nbconvert_exporter": "python",
   "pygments_lexer": "ipython3",
   "version": "3.8.5"
  }
 },
 "nbformat": 4,
 "nbformat_minor": 2
}
