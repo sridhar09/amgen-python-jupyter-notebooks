{
 "cells": [
  {
   "cell_type": "markdown",
   "metadata": {},
   "source": [
    "# Dispy: Distributed Programming Python\n",
    "\n",
    "Dispy is a higher-level framework that leverages `pycos`. To use it, you should first start an instance of `dispynode.py` on each node in your cluster."
   ]
  },
  {
   "cell_type": "code",
   "execution_count": 1,
   "metadata": {},
   "outputs": [],
   "source": [
    "# 'compute' is distributed to each node running 'dispynode'\n",
    "def compute(n):\n",
    "    import time, socket\n",
    "    time.sleep(n)\n",
    "    host = socket.gethostname()\n",
    "    return (host, n)"
   ]
  },
  {
   "cell_type": "code",
   "execution_count": 2,
   "metadata": {},
   "outputs": [],
   "source": [
    "MY_IP = '192.168.1.70'"
   ]
  },
  {
   "cell_type": "code",
   "execution_count": 3,
   "metadata": {},
   "outputs": [],
   "source": [
    "import dispy"
   ]
  },
  {
   "cell_type": "code",
   "execution_count": 4,
   "metadata": {},
   "outputs": [
    {
     "name": "stdout",
     "output_type": "stream",
     "text": [
      "2020-05-22 14:39:55 pycos - version 4.8.15 with kqueue I/O notifier\n",
      "2020-05-22 14:39:55 dispy - dispy client version: 4.12.2\n",
      "2020-05-22 14:39:55 dispy - Storing fault recovery information in \"_dispy_20200522143955\"\n"
     ]
    }
   ],
   "source": [
    "cluster = dispy.JobCluster(compute, ip_addr=MY_IP)"
   ]
  },
  {
   "cell_type": "code",
   "execution_count": 5,
   "metadata": {},
   "outputs": [],
   "source": [
    "import random\n",
    "def schedule_jobs(cluster):\n",
    "    jobs = [cluster.submit(random.randint(5, 20)) for i in range(10)]\n",
    "    for i, job in enumerate(jobs):\n",
    "        job.id = i\n",
    "    return jobs\n",
    "\n",
    "def await_jobs(jobs):\n",
    "    # cluster.wait() # waits for all scheduled jobs to finish\n",
    "    for job in jobs:\n",
    "        host, n = job() # waits for job to finish and returns results\n",
    "        print('%s executed job %s at %s with %s' % (host, job.id, job.start_time, n))\n",
    "        # other fields of 'job' that may be useful:\n",
    "        # print(job.stdout, job.stderr, job.exception, job.ip_addr, job.start_time, job.end_time)"
   ]
  },
  {
   "cell_type": "code",
   "execution_count": 6,
   "metadata": {},
   "outputs": [],
   "source": [
    "jobs = schedule_jobs(cluster)"
   ]
  },
  {
   "cell_type": "code",
   "execution_count": 7,
   "metadata": {},
   "outputs": [
    {
     "name": "stdout",
     "output_type": "stream",
     "text": [
      "faramir executed job 0 at 1590183596.316693 with 15\n",
      "faramir executed job 1 at 1590183596.321036 with 17\n",
      "faramir executed job 2 at 1590183596.321804 with 8\n",
      "faramir executed job 3 at 1590183596.3238232 with 8\n",
      "faramir executed job 4 at 1590183596.324147 with 16\n",
      "faramir executed job 5 at 1590183596.326897 with 10\n",
      "faramir executed job 6 at 1590183596.329204 with 11\n",
      "faramir executed job 7 at 1590183596.331839 with 7\n",
      "faramir executed job 8 at 1590183603.347698 with 16\n",
      "faramir executed job 9 at 1590183604.336363 with 5\n"
     ]
    }
   ],
   "source": [
    "await_jobs(jobs)"
   ]
  },
  {
   "cell_type": "code",
   "execution_count": 8,
   "metadata": {},
   "outputs": [
    {
     "name": "stdout",
     "output_type": "stream",
     "text": [
      "\n",
      "            Node |  CPUs |    Jobs |  Sec/Job | Node Time Sec |    Sent |    Rcvd\n",
      "---------------------------------------------------------------------------------\n",
      "         faramir |     8 |      10 |     11.3 |         113.1 |   1.8 K |   2.4 K\n",
      "\n",
      "Total job time: 113.078 sec, wall time: 23.832 sec, speedup: 4.745\n",
      "\n"
     ]
    }
   ],
   "source": [
    "cluster.print_status()"
   ]
  },
  {
   "cell_type": "markdown",
   "metadata": {},
   "source": [
    "## Managing clusters with a web front-end"
   ]
  },
  {
   "cell_type": "code",
   "execution_count": 9,
   "metadata": {},
   "outputs": [
    {
     "name": "stdout",
     "output_type": "stream",
     "text": [
      "2020-05-22 14:40:26 dispy - Started HTTP server at ('0.0.0.0', 8181)\n"
     ]
    }
   ],
   "source": [
    "import dispy.httpd\n",
    "http_server = dispy.httpd.DispyHTTPServer(cluster)"
   ]
  },
  {
   "cell_type": "code",
   "execution_count": 10,
   "metadata": {},
   "outputs": [
    {
     "name": "stdout",
     "output_type": "stream",
     "text": [
      "faramir executed job 0 at 1590183646.701706 with 17\n",
      "faramir executed job 1 at 1590183646.709685 with 10\n",
      "faramir executed job 2 at 1590183646.710319 with 13\n",
      "faramir executed job 3 at 1590183646.713085 with 15\n",
      "faramir executed job 4 at 1590183646.7135282 with 20\n",
      "faramir executed job 5 at 1590183646.715692 with 6\n",
      "faramir executed job 6 at 1590183646.716566 with 9\n",
      "faramir executed job 7 at 1590183646.71979 with 6\n",
      "faramir executed job 8 at 1590183652.731968 with 10\n",
      "faramir executed job 9 at 1590183652.736709 with 10\n"
     ]
    }
   ],
   "source": [
    "jobs = schedule_jobs(cluster)\n",
    "await_jobs(jobs)"
   ]
  },
  {
   "cell_type": "code",
   "execution_count": 11,
   "metadata": {},
   "outputs": [
    {
     "data": {
      "text/plain": [
       "True"
      ]
     },
     "execution_count": 11,
     "metadata": {},
     "output_type": "execute_result"
    }
   ],
   "source": [
    "cluster.close()"
   ]
  },
  {
   "cell_type": "code",
   "execution_count": 12,
   "metadata": {},
   "outputs": [
    {
     "name": "stdout",
     "output_type": "stream",
     "text": [
      "2020-05-22 14:42:01 dispy - HTTP server waiting for 10 seconds for client updates before quitting\n"
     ]
    }
   ],
   "source": [
    "http_server.shutdown()"
   ]
  },
  {
   "cell_type": "markdown",
   "metadata": {},
   "source": [
    "## Transferring dependencies\n",
    "\n",
    "Jobs can also specify Python objects or files on which the depend:"
   ]
  },
  {
   "cell_type": "code",
   "execution_count": 19,
   "metadata": {},
   "outputs": [],
   "source": [
    "def make_df():\n",
    "    import pandas as pd\n",
    "    return pd.read_csv('./data/states.csv')"
   ]
  },
  {
   "cell_type": "code",
   "execution_count": 25,
   "metadata": {},
   "outputs": [],
   "source": [
    "cluster = dispy.JobCluster(\n",
    "    make_df, ip_addr='192.168.1.90', \n",
    "    depends=['data/states.csv']\n",
    ")"
   ]
  },
  {
   "cell_type": "code",
   "execution_count": 26,
   "metadata": {},
   "outputs": [],
   "source": [
    "job = cluster.submit()"
   ]
  },
  {
   "cell_type": "code",
   "execution_count": 27,
   "metadata": {
    "scrolled": true
   },
   "outputs": [
    {
     "data": {
      "text/html": [
       "<div>\n",
       "<style scoped>\n",
       "    .dataframe tbody tr th:only-of-type {\n",
       "        vertical-align: middle;\n",
       "    }\n",
       "\n",
       "    .dataframe tbody tr th {\n",
       "        vertical-align: top;\n",
       "    }\n",
       "\n",
       "    .dataframe thead th {\n",
       "        text-align: right;\n",
       "    }\n",
       "</style>\n",
       "<table border=\"1\" class=\"dataframe\">\n",
       "  <thead>\n",
       "    <tr style=\"text-align: right;\">\n",
       "      <th></th>\n",
       "      <th>Abbreviation</th>\n",
       "      <th>state</th>\n",
       "      <th>area</th>\n",
       "      <th>pop</th>\n",
       "    </tr>\n",
       "  </thead>\n",
       "  <tbody>\n",
       "    <tr>\n",
       "      <th>0</th>\n",
       "      <td>AL</td>\n",
       "      <td>Alabama</td>\n",
       "      <td>135767</td>\n",
       "      <td>4874747.0</td>\n",
       "    </tr>\n",
       "    <tr>\n",
       "      <th>1</th>\n",
       "      <td>AK</td>\n",
       "      <td>Alaska</td>\n",
       "      <td>1723337</td>\n",
       "      <td>739795.0</td>\n",
       "    </tr>\n",
       "    <tr>\n",
       "      <th>2</th>\n",
       "      <td>AZ</td>\n",
       "      <td>Arizona</td>\n",
       "      <td>295234</td>\n",
       "      <td>7016270.0</td>\n",
       "    </tr>\n",
       "    <tr>\n",
       "      <th>3</th>\n",
       "      <td>AR</td>\n",
       "      <td>Arkansas</td>\n",
       "      <td>137732</td>\n",
       "      <td>3004279.0</td>\n",
       "    </tr>\n",
       "    <tr>\n",
       "      <th>4</th>\n",
       "      <td>CA</td>\n",
       "      <td>California</td>\n",
       "      <td>423967</td>\n",
       "      <td>39536653.0</td>\n",
       "    </tr>\n",
       "    <tr>\n",
       "      <th>5</th>\n",
       "      <td>CO</td>\n",
       "      <td>Colorado</td>\n",
       "      <td>269601</td>\n",
       "      <td>5607154.0</td>\n",
       "    </tr>\n",
       "    <tr>\n",
       "      <th>6</th>\n",
       "      <td>CT</td>\n",
       "      <td>Connecticut</td>\n",
       "      <td>14357</td>\n",
       "      <td>3588184.0</td>\n",
       "    </tr>\n",
       "    <tr>\n",
       "      <th>7</th>\n",
       "      <td>DE</td>\n",
       "      <td>Delaware</td>\n",
       "      <td>6446</td>\n",
       "      <td>961939.0</td>\n",
       "    </tr>\n",
       "    <tr>\n",
       "      <th>8</th>\n",
       "      <td>FL</td>\n",
       "      <td>Florida</td>\n",
       "      <td>170312</td>\n",
       "      <td>20984400.0</td>\n",
       "    </tr>\n",
       "    <tr>\n",
       "      <th>9</th>\n",
       "      <td>GA</td>\n",
       "      <td>Georgia</td>\n",
       "      <td>153910</td>\n",
       "      <td>10429379.0</td>\n",
       "    </tr>\n",
       "    <tr>\n",
       "      <th>10</th>\n",
       "      <td>HI</td>\n",
       "      <td>Hawaii</td>\n",
       "      <td>28313</td>\n",
       "      <td>1427538.0</td>\n",
       "    </tr>\n",
       "    <tr>\n",
       "      <th>11</th>\n",
       "      <td>ID</td>\n",
       "      <td>Idaho</td>\n",
       "      <td>216443</td>\n",
       "      <td>1716943.0</td>\n",
       "    </tr>\n",
       "    <tr>\n",
       "      <th>12</th>\n",
       "      <td>IL</td>\n",
       "      <td>Illinois</td>\n",
       "      <td>149995</td>\n",
       "      <td>12802023.0</td>\n",
       "    </tr>\n",
       "    <tr>\n",
       "      <th>13</th>\n",
       "      <td>IN</td>\n",
       "      <td>Indiana</td>\n",
       "      <td>94326</td>\n",
       "      <td>6666818.0</td>\n",
       "    </tr>\n",
       "    <tr>\n",
       "      <th>14</th>\n",
       "      <td>IA</td>\n",
       "      <td>Iowa</td>\n",
       "      <td>145746</td>\n",
       "      <td>3145711.0</td>\n",
       "    </tr>\n",
       "    <tr>\n",
       "      <th>15</th>\n",
       "      <td>KS</td>\n",
       "      <td>Kansas</td>\n",
       "      <td>213100</td>\n",
       "      <td>2913123.0</td>\n",
       "    </tr>\n",
       "    <tr>\n",
       "      <th>16</th>\n",
       "      <td>KY</td>\n",
       "      <td>Kentucky</td>\n",
       "      <td>104656</td>\n",
       "      <td>4454189.0</td>\n",
       "    </tr>\n",
       "    <tr>\n",
       "      <th>17</th>\n",
       "      <td>LA</td>\n",
       "      <td>Louisiana</td>\n",
       "      <td>135659</td>\n",
       "      <td>4684333.0</td>\n",
       "    </tr>\n",
       "    <tr>\n",
       "      <th>18</th>\n",
       "      <td>ME</td>\n",
       "      <td>Maine</td>\n",
       "      <td>91633</td>\n",
       "      <td>1335907.0</td>\n",
       "    </tr>\n",
       "    <tr>\n",
       "      <th>19</th>\n",
       "      <td>MD</td>\n",
       "      <td>Maryland</td>\n",
       "      <td>32131</td>\n",
       "      <td>6052177.0</td>\n",
       "    </tr>\n",
       "    <tr>\n",
       "      <th>20</th>\n",
       "      <td>MA</td>\n",
       "      <td>Massachusetts</td>\n",
       "      <td>27336</td>\n",
       "      <td>6859819.0</td>\n",
       "    </tr>\n",
       "    <tr>\n",
       "      <th>21</th>\n",
       "      <td>MI</td>\n",
       "      <td>Michigan</td>\n",
       "      <td>250487</td>\n",
       "      <td>9962311.0</td>\n",
       "    </tr>\n",
       "    <tr>\n",
       "      <th>22</th>\n",
       "      <td>MN</td>\n",
       "      <td>Minnesota</td>\n",
       "      <td>225163</td>\n",
       "      <td>5576606.0</td>\n",
       "    </tr>\n",
       "    <tr>\n",
       "      <th>23</th>\n",
       "      <td>MS</td>\n",
       "      <td>Mississippi</td>\n",
       "      <td>125438</td>\n",
       "      <td>2984100.0</td>\n",
       "    </tr>\n",
       "    <tr>\n",
       "      <th>24</th>\n",
       "      <td>MO</td>\n",
       "      <td>Missouri</td>\n",
       "      <td>180540</td>\n",
       "      <td>6113532.0</td>\n",
       "    </tr>\n",
       "    <tr>\n",
       "      <th>25</th>\n",
       "      <td>MT</td>\n",
       "      <td>Montana</td>\n",
       "      <td>380831</td>\n",
       "      <td>1050493.0</td>\n",
       "    </tr>\n",
       "    <tr>\n",
       "      <th>26</th>\n",
       "      <td>NE</td>\n",
       "      <td>Nebraska</td>\n",
       "      <td>200330</td>\n",
       "      <td>1920076.0</td>\n",
       "    </tr>\n",
       "    <tr>\n",
       "      <th>27</th>\n",
       "      <td>NV</td>\n",
       "      <td>Nevada</td>\n",
       "      <td>286380</td>\n",
       "      <td>2998039.0</td>\n",
       "    </tr>\n",
       "    <tr>\n",
       "      <th>28</th>\n",
       "      <td>NH</td>\n",
       "      <td>New Hampshire</td>\n",
       "      <td>24214</td>\n",
       "      <td>1342795.0</td>\n",
       "    </tr>\n",
       "    <tr>\n",
       "      <th>29</th>\n",
       "      <td>NJ</td>\n",
       "      <td>New Jersey</td>\n",
       "      <td>22591</td>\n",
       "      <td>9005644.0</td>\n",
       "    </tr>\n",
       "    <tr>\n",
       "      <th>30</th>\n",
       "      <td>NM</td>\n",
       "      <td>New Mexico</td>\n",
       "      <td>314917</td>\n",
       "      <td>2088070.0</td>\n",
       "    </tr>\n",
       "    <tr>\n",
       "      <th>31</th>\n",
       "      <td>NY</td>\n",
       "      <td>New York</td>\n",
       "      <td>141297</td>\n",
       "      <td>19849399.0</td>\n",
       "    </tr>\n",
       "    <tr>\n",
       "      <th>32</th>\n",
       "      <td>NC</td>\n",
       "      <td>North Carolina</td>\n",
       "      <td>139391</td>\n",
       "      <td>10273419.0</td>\n",
       "    </tr>\n",
       "    <tr>\n",
       "      <th>33</th>\n",
       "      <td>ND</td>\n",
       "      <td>North Dakota</td>\n",
       "      <td>183108</td>\n",
       "      <td>755393.0</td>\n",
       "    </tr>\n",
       "    <tr>\n",
       "      <th>34</th>\n",
       "      <td>OH</td>\n",
       "      <td>Ohio</td>\n",
       "      <td>116098</td>\n",
       "      <td>11658609.0</td>\n",
       "    </tr>\n",
       "    <tr>\n",
       "      <th>35</th>\n",
       "      <td>OK</td>\n",
       "      <td>Oklahoma</td>\n",
       "      <td>181037</td>\n",
       "      <td>3930864.0</td>\n",
       "    </tr>\n",
       "    <tr>\n",
       "      <th>36</th>\n",
       "      <td>OR</td>\n",
       "      <td>Oregon</td>\n",
       "      <td>254799</td>\n",
       "      <td>4142776.0</td>\n",
       "    </tr>\n",
       "    <tr>\n",
       "      <th>37</th>\n",
       "      <td>PA</td>\n",
       "      <td>Pennsylvania</td>\n",
       "      <td>119280</td>\n",
       "      <td>12805537.0</td>\n",
       "    </tr>\n",
       "    <tr>\n",
       "      <th>38</th>\n",
       "      <td>RI</td>\n",
       "      <td>Rhode Island</td>\n",
       "      <td>4001</td>\n",
       "      <td>1059639.0</td>\n",
       "    </tr>\n",
       "    <tr>\n",
       "      <th>39</th>\n",
       "      <td>SC</td>\n",
       "      <td>South Carolina</td>\n",
       "      <td>82933</td>\n",
       "      <td>5024369.0</td>\n",
       "    </tr>\n",
       "    <tr>\n",
       "      <th>40</th>\n",
       "      <td>SD</td>\n",
       "      <td>South Dakota</td>\n",
       "      <td>199729</td>\n",
       "      <td>869666.0</td>\n",
       "    </tr>\n",
       "    <tr>\n",
       "      <th>41</th>\n",
       "      <td>TN</td>\n",
       "      <td>Tennessee</td>\n",
       "      <td>109153</td>\n",
       "      <td>6715984.0</td>\n",
       "    </tr>\n",
       "    <tr>\n",
       "      <th>42</th>\n",
       "      <td>TX</td>\n",
       "      <td>Texas</td>\n",
       "      <td>695662</td>\n",
       "      <td>28304596.0</td>\n",
       "    </tr>\n",
       "    <tr>\n",
       "      <th>43</th>\n",
       "      <td>UT</td>\n",
       "      <td>Utah</td>\n",
       "      <td>219882</td>\n",
       "      <td>3101833.0</td>\n",
       "    </tr>\n",
       "    <tr>\n",
       "      <th>44</th>\n",
       "      <td>VT</td>\n",
       "      <td>Vermont</td>\n",
       "      <td>24906</td>\n",
       "      <td>623657.0</td>\n",
       "    </tr>\n",
       "    <tr>\n",
       "      <th>45</th>\n",
       "      <td>VA</td>\n",
       "      <td>Virginia</td>\n",
       "      <td>110787</td>\n",
       "      <td>8470020.0</td>\n",
       "    </tr>\n",
       "    <tr>\n",
       "      <th>46</th>\n",
       "      <td>WA</td>\n",
       "      <td>Washington</td>\n",
       "      <td>184661</td>\n",
       "      <td>7405743.0</td>\n",
       "    </tr>\n",
       "    <tr>\n",
       "      <th>47</th>\n",
       "      <td>WV</td>\n",
       "      <td>West Virginia</td>\n",
       "      <td>62756</td>\n",
       "      <td>1815857.0</td>\n",
       "    </tr>\n",
       "    <tr>\n",
       "      <th>48</th>\n",
       "      <td>WI</td>\n",
       "      <td>Wisconsin</td>\n",
       "      <td>169635</td>\n",
       "      <td>5795483.0</td>\n",
       "    </tr>\n",
       "    <tr>\n",
       "      <th>49</th>\n",
       "      <td>WY</td>\n",
       "      <td>Wyoming</td>\n",
       "      <td>253335</td>\n",
       "      <td>579315.0</td>\n",
       "    </tr>\n",
       "    <tr>\n",
       "      <th>50</th>\n",
       "      <td>PR</td>\n",
       "      <td>Puerto Rico</td>\n",
       "      <td>13791</td>\n",
       "      <td>3337177.0</td>\n",
       "    </tr>\n",
       "    <tr>\n",
       "      <th>51</th>\n",
       "      <td>GU</td>\n",
       "      <td>Guam</td>\n",
       "      <td>1478</td>\n",
       "      <td>NaN</td>\n",
       "    </tr>\n",
       "  </tbody>\n",
       "</table>\n",
       "</div>"
      ],
      "text/plain": [
       "   Abbreviation           state     area         pop\n",
       "0            AL         Alabama   135767   4874747.0\n",
       "1            AK          Alaska  1723337    739795.0\n",
       "2            AZ         Arizona   295234   7016270.0\n",
       "3            AR        Arkansas   137732   3004279.0\n",
       "4            CA      California   423967  39536653.0\n",
       "5            CO        Colorado   269601   5607154.0\n",
       "6            CT     Connecticut    14357   3588184.0\n",
       "7            DE        Delaware     6446    961939.0\n",
       "8            FL         Florida   170312  20984400.0\n",
       "9            GA         Georgia   153910  10429379.0\n",
       "10           HI          Hawaii    28313   1427538.0\n",
       "11           ID           Idaho   216443   1716943.0\n",
       "12           IL        Illinois   149995  12802023.0\n",
       "13           IN         Indiana    94326   6666818.0\n",
       "14           IA            Iowa   145746   3145711.0\n",
       "15           KS          Kansas   213100   2913123.0\n",
       "16           KY        Kentucky   104656   4454189.0\n",
       "17           LA       Louisiana   135659   4684333.0\n",
       "18           ME           Maine    91633   1335907.0\n",
       "19           MD        Maryland    32131   6052177.0\n",
       "20           MA   Massachusetts    27336   6859819.0\n",
       "21           MI        Michigan   250487   9962311.0\n",
       "22           MN       Minnesota   225163   5576606.0\n",
       "23           MS     Mississippi   125438   2984100.0\n",
       "24           MO        Missouri   180540   6113532.0\n",
       "25           MT         Montana   380831   1050493.0\n",
       "26           NE        Nebraska   200330   1920076.0\n",
       "27           NV          Nevada   286380   2998039.0\n",
       "28           NH   New Hampshire    24214   1342795.0\n",
       "29           NJ      New Jersey    22591   9005644.0\n",
       "30           NM      New Mexico   314917   2088070.0\n",
       "31           NY        New York   141297  19849399.0\n",
       "32           NC  North Carolina   139391  10273419.0\n",
       "33           ND    North Dakota   183108    755393.0\n",
       "34           OH            Ohio   116098  11658609.0\n",
       "35           OK        Oklahoma   181037   3930864.0\n",
       "36           OR          Oregon   254799   4142776.0\n",
       "37           PA    Pennsylvania   119280  12805537.0\n",
       "38           RI    Rhode Island     4001   1059639.0\n",
       "39           SC  South Carolina    82933   5024369.0\n",
       "40           SD    South Dakota   199729    869666.0\n",
       "41           TN       Tennessee   109153   6715984.0\n",
       "42           TX           Texas   695662  28304596.0\n",
       "43           UT            Utah   219882   3101833.0\n",
       "44           VT         Vermont    24906    623657.0\n",
       "45           VA        Virginia   110787   8470020.0\n",
       "46           WA      Washington   184661   7405743.0\n",
       "47           WV   West Virginia    62756   1815857.0\n",
       "48           WI       Wisconsin   169635   5795483.0\n",
       "49           WY         Wyoming   253335    579315.0\n",
       "50           PR     Puerto Rico    13791   3337177.0\n",
       "51           GU            Guam     1478         NaN"
      ]
     },
     "execution_count": 27,
     "metadata": {},
     "output_type": "execute_result"
    }
   ],
   "source": [
    "job()"
   ]
  },
  {
   "cell_type": "code",
   "execution_count": 28,
   "metadata": {},
   "outputs": [
    {
     "name": "stdout",
     "output_type": "stream",
     "text": [
      "\n",
      "            Node |  CPUs |    Jobs |  Sec/Job | Node Time Sec |    Sent |    Rcvd\n",
      "---------------------------------------------------------------------------------\n",
      "         faramir |     8 |       1 |      0.4 |           0.4 |   1.9 K |   5.6 K\n",
      "\n",
      "Total job time: 0.415 sec, wall time: 2.870 sec, speedup: 0.145\n",
      "\n"
     ]
    }
   ],
   "source": [
    "cluster.print_status()"
   ]
  },
  {
   "cell_type": "code",
   "execution_count": 29,
   "metadata": {},
   "outputs": [
    {
     "data": {
      "text/plain": [
       "True"
      ]
     },
     "execution_count": 29,
     "metadata": {},
     "output_type": "execute_result"
    }
   ],
   "source": [
    "cluster.close()"
   ]
  },
  {
   "cell_type": "markdown",
   "metadata": {},
   "source": [
    "# Lab\n",
    "\n",
    "Open [dispy lab](./dispy-lab.ipynb)"
   ]
  }
 ],
 "metadata": {
  "kernelspec": {
   "display_name": "Python 3",
   "language": "python",
   "name": "python3"
  },
  "language_info": {
   "codemirror_mode": {
    "name": "ipython",
    "version": 3
   },
   "file_extension": ".py",
   "mimetype": "text/x-python",
   "name": "python",
   "nbconvert_exporter": "python",
   "pygments_lexer": "ipython3",
   "version": "3.7.6"
  }
 },
 "nbformat": 4,
 "nbformat_minor": 2
}
