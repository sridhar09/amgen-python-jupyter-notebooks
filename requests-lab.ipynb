{
 "cells": [
  {
   "cell_type": "markdown",
   "metadata": {},
   "source": [
    "You may need to `pip install requests`"
   ]
  },
  {
   "cell_type": "markdown",
   "metadata": {},
   "source": [
    "# Lab: Postb.in\n",
    "\n",
    "- Use the Postb.in Web UI to create a postbin\n",
    "- Perform the following requests to the Postb.in:\n",
    "    - GET (with no arguments)\n",
    "    - GET (with a query string `?q=foo`)\n",
    "    - POST with a JSON body\n",
    "    - PUT with a JSON body\n",
    "    - DELETE\n",
    "\n",
    "[postbin-docs]: https://postb.in/api/"
   ]
  },
  {
   "cell_type": "code",
   "execution_count": null,
   "metadata": {},
   "outputs": [],
   "source": []
  },
  {
   "cell_type": "markdown",
   "metadata": {},
   "source": [
    "# Lab: uri templates and Github personal access tokens\n",
    "\n",
    "- Use https://github.com/settings/tokens to obtain a personal access token \n",
    "- Set the authorization header to use your token:\n",
    "    ```\n",
    "    session = requests.Session()\n",
    "    session.headers['Authorization'] = 'token YOUR_TOKEN_HERE'\n",
    "    ```\n",
    "- Install `uritemplate` and use `uritemplate.expand` to retrieve commit 3a0b9b6617dbad6ed79e01d04312840232943967 from repository `Arborian/recommender.git`\n"
   ]
  },
  {
   "cell_type": "code",
   "execution_count": null,
   "metadata": {},
   "outputs": [],
   "source": []
  },
  {
   "cell_type": "markdown",
   "metadata": {},
   "source": [
    "Retrieve the following URL about yourself:\n",
    "\n",
    "https://api.github.com/user"
   ]
  },
  {
   "cell_type": "code",
   "execution_count": null,
   "metadata": {},
   "outputs": [],
   "source": []
  }
 ],
 "metadata": {
  "kernelspec": {
   "display_name": "Python 3",
   "language": "python",
   "name": "python3"
  },
  "language_info": {
   "codemirror_mode": {
    "name": "ipython",
    "version": 3
   },
   "file_extension": ".py",
   "mimetype": "text/x-python",
   "name": "python",
   "nbconvert_exporter": "python",
   "pygments_lexer": "ipython3",
   "version": "3.8.5"
  }
 },
 "nbformat": 4,
 "nbformat_minor": 2
}
