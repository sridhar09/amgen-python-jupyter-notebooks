{
 "cells": [
  {
   "cell_type": "markdown",
   "metadata": {
    "slideshow": {
     "slide_type": "slide"
    }
   },
   "source": [
    "# Building Network services\n",
    "\n"
   ]
  },
  {
   "cell_type": "markdown",
   "metadata": {
    "slideshow": {
     "slide_type": "slide"
    }
   },
   "source": [
    "# Socket programmming\n",
    "\n",
    "If you want to use a protocol that Python doesn't support natively (or just want to use your own protocol), you can always use the lower-level `socket` module in the standard library.\n",
    "\n",
    "But first, a (brief) review of network protocol layers\n",
    "\n",
    "![Image](data/img/OSI.png \"OSI Stack\")"
   ]
  },
  {
   "cell_type": "markdown",
   "metadata": {},
   "source": [
    "## Basic socket programming"
   ]
  },
  {
   "cell_type": "code",
   "execution_count": 1,
   "metadata": {},
   "outputs": [],
   "source": [
    "import socket"
   ]
  },
  {
   "cell_type": "code",
   "execution_count": 2,
   "metadata": {},
   "outputs": [],
   "source": [
    "# sock = socket.socket(socket.AF_INET, socket.SOCK_STREAM)\n",
    "sock = socket.socket()"
   ]
  },
  {
   "cell_type": "code",
   "execution_count": 3,
   "metadata": {},
   "outputs": [
    {
     "name": "stdout",
     "output_type": "stream",
     "text": [
      "# Network services, Internet style\r\n",
      "#\r\n",
      "# Note that it is presently the policy of IANA to assign a single well-known\r\n",
      "# port number for both TCP and UDP; hence, officially ports have two entries\r\n",
      "# even if the protocol doesn't support UDP operations.\r\n",
      "#\r\n",
      "# Updated from https://www.iana.org/assignments/service-names-port-numbers/service-names-port-numbers.xhtml .\r\n",
      "#\r\n",
      "# New ports will be added on request if they have been officially assigned\r\n",
      "# by IANA and used in the real-world or are needed by a debian package.\r\n",
      "# If you need a huge list of used numbers please install the nmap package.\r\n",
      "\r\n",
      "tcpmux\t\t1/tcp\t\t\t\t# TCP port service multiplexer\r\n",
      "echo\t\t7/tcp\r\n",
      "echo\t\t7/udp\r\n",
      "discard\t\t9/tcp\t\tsink null\r\n",
      "discard\t\t9/udp\t\tsink null\r\n",
      "systat\t\t11/tcp\t\tusers\r\n",
      "daytime\t\t13/tcp\r\n",
      "daytime\t\t13/udp\r\n",
      "netstat\t\t15/tcp\r\n",
      "qotd\t\t17/tcp\t\tquote\r\n",
      "chargen\t\t19/tcp\t\tttytst source\r\n",
      "chargen\t\t19/udp\t\tttytst source\r\n",
      "ftp-data\t20/tcp\r\n",
      "ftp\t\t21/tcp\r\n",
      "fsp\t\t21/udp\t\tfspd\r\n",
      "ssh\t\t22/tcp\t\t\t\t# SSH Remote Login Protocol\r\n",
      "telnet\t\t23/tcp\r\n",
      "smtp\t\t25/tcp\t\tmail\r\n",
      "time\t\t37/tcp\t\ttimserver\r\n",
      "time\t\t37/udp\t\ttimserver\r\n",
      "whois\t\t43/tcp\t\tnicname\r\n",
      "tacacs\t\t49/tcp\t\t\t\t# Login Host Protocol (TACACS)\r\n",
      "tacacs\t\t49/udp\r\n",
      "domain\t\t53/tcp\t\t\t\t# Domain Name Server\r\n",
      "domain\t\t53/udp\r\n",
      "bootps\t\t67/udp\r\n",
      "bootpc\t\t68/udp\r\n",
      "tftp\t\t69/udp\r\n",
      "gopher\t\t70/tcp\t\t\t\t# Internet Gopher\r\n",
      "finger\t\t79/tcp\r\n",
      "http\t\t80/tcp\t\twww\t\t# WorldWideWeb HTTP\r\n",
      "kerberos\t88/tcp\t\tkerberos5 krb5 kerberos-sec\t# Kerberos v5\r\n",
      "kerberos\t88/udp\t\tkerberos5 krb5 kerberos-sec\t# Kerberos v5\r\n",
      "iso-tsap\t102/tcp\t\ttsap\t\t# part of ISODE\r\n",
      "acr-nema\t104/tcp\t\tdicom\t\t# Digital Imag. & Comm. 300\r\n",
      "pop3\t\t110/tcp\t\tpop-3\t\t# POP version 3\r\n",
      "sunrpc\t\t111/tcp\t\tportmapper\t# RPC 4.0 portmapper\r\n",
      "sunrpc\t\t111/udp\t\tportmapper\r\n",
      "auth\t\t113/tcp\t\tauthentication tap ident\r\n",
      "nntp\t\t119/tcp\t\treadnews untp\t# USENET News Transfer Protocol\r\n",
      "ntp\t\t123/udp\t\t\t\t# Network Time Protocol\r\n",
      "epmap\t\t135/tcp\t\tloc-srv\t\t# DCE endpoint resolution\r\n",
      "netbios-ns\t137/tcp\t\t\t\t# NETBIOS Name Service\r\n",
      "netbios-ns\t137/udp\r\n",
      "netbios-dgm\t138/tcp\t\t\t\t# NETBIOS Datagram Service\r\n",
      "netbios-dgm\t138/udp\r\n",
      "netbios-ssn\t139/tcp\t\t\t\t# NETBIOS session service\r\n",
      "netbios-ssn\t139/udp\r\n",
      "imap2\t\t143/tcp\t\timap\t\t# Interim Mail Access P 2 and 4\r\n",
      "snmp\t\t161/tcp\t\t\t\t# Simple Net Mgmt Protocol\r\n",
      "snmp\t\t161/udp\r\n",
      "snmp-trap\t162/tcp\t\tsnmptrap\t# Traps for SNMP\r\n",
      "snmp-trap\t162/udp\t\tsnmptrap\r\n",
      "cmip-man\t163/tcp\t\t\t\t# ISO mgmt over IP (CMOT)\r\n",
      "cmip-man\t163/udp\r\n",
      "cmip-agent\t164/tcp\r\n",
      "cmip-agent\t164/udp\r\n",
      "mailq\t\t174/tcp\t\t\t# Mailer transport queue for Zmailer\r\n",
      "xdmcp\t\t177/udp\t\t\t# X Display Manager Control Protocol\r\n",
      "bgp\t\t179/tcp\t\t\t\t# Border Gateway Protocol\r\n",
      "smux\t\t199/tcp\t\t\t\t# SNMP Unix Multiplexer\r\n",
      "qmtp\t\t209/tcp\t\t\t\t# Quick Mail Transfer Protocol\r\n",
      "z3950\t\t210/tcp\t\twais\t\t# NISO Z39.50 database\r\n",
      "ipx\t\t213/udp\t\t\t\t# IPX [RFC1234]\r\n",
      "ptp-event\t319/udp\r\n",
      "ptp-general\t320/udp\r\n",
      "pawserv\t\t345/tcp\t\t\t\t# Perf Analysis Workbench\r\n",
      "zserv\t\t346/tcp\t\t\t\t# Zebra server\r\n",
      "rpc2portmap\t369/tcp\r\n",
      "rpc2portmap\t369/udp\t\t\t\t# Coda portmapper\r\n",
      "codaauth2\t370/tcp\r\n",
      "codaauth2\t370/udp\t\t\t\t# Coda authentication server\r\n",
      "clearcase\t371/udp\t\tClearcase\r\n",
      "ldap\t\t389/tcp\t\t\t# Lightweight Directory Access Protocol\r\n",
      "ldap\t\t389/udp\r\n",
      "svrloc\t\t427/tcp\t\t\t\t# Server Location\r\n",
      "svrloc\t\t427/udp\r\n",
      "https\t\t443/tcp\t\t\t\t# http protocol over TLS/SSL\r\n",
      "snpp\t\t444/tcp\t\t\t\t# Simple Network Paging Protocol\r\n",
      "microsoft-ds\t445/tcp\t\t\t\t# Microsoft Naked CIFS\r\n",
      "microsoft-ds\t445/udp\r\n",
      "kpasswd\t\t464/tcp\r\n",
      "kpasswd\t\t464/udp\r\n",
      "submissions\t465/tcp\t\tssmtp smtps urd # Submission over TLS [RFC8314]\r\n",
      "saft\t\t487/tcp\t\t\t# Simple Asynchronous File Transfer\r\n",
      "isakmp\t\t500/udp\t\t\t\t# IPSEC key management\r\n",
      "rtsp\t\t554/tcp\t\t\t# Real Time Stream Control Protocol\r\n",
      "rtsp\t\t554/udp\r\n",
      "nqs\t\t607/tcp\t\t\t\t# Network Queuing system\r\n",
      "asf-rmcp\t623/udp\t\t# ASF Remote Management and Control Protocol\r\n",
      "qmqp\t\t628/tcp\r\n",
      "ipp\t\t631/tcp\t\t\t\t# Internet Printing Protocol\r\n",
      "#\r\n",
      "# UNIX specific services\r\n",
      "#\r\n",
      "exec\t\t512/tcp\r\n",
      "biff\t\t512/udp\t\tcomsat\r\n",
      "login\t\t513/tcp\r\n",
      "who\t\t513/udp\t\twhod\r\n",
      "shell\t\t514/tcp\t\tcmd syslog\t# no passwords used\r\n",
      "syslog\t\t514/udp\r\n",
      "printer\t\t515/tcp\t\tspooler\t\t# line printer spooler\r\n",
      "talk\t\t517/udp\r\n",
      "ntalk\t\t518/udp\r\n",
      "route\t\t520/udp\t\trouter routed\t# RIP\r\n",
      "gdomap\t\t538/tcp\t\t\t\t# GNUstep distributed objects\r\n",
      "gdomap\t\t538/udp\r\n",
      "uucp\t\t540/tcp\t\tuucpd\t\t# uucp daemon\r\n",
      "klogin\t\t543/tcp\t\t\t\t# Kerberized `rlogin' (v5)\r\n",
      "kshell\t\t544/tcp\t\tkrcmd\t\t# Kerberized `rsh' (v5)\r\n",
      "dhcpv6-client\t546/udp\r\n",
      "dhcpv6-server\t547/udp\r\n",
      "afpovertcp\t548/tcp\t\t\t\t# AFP over TCP\r\n",
      "nntps\t\t563/tcp\t\tsnntp\t\t# NNTP over SSL\r\n",
      "submission\t587/tcp\t\t\t\t# Submission [RFC4409]\r\n",
      "ldaps\t\t636/tcp\t\t\t\t# LDAP over SSL\r\n",
      "ldaps\t\t636/udp\r\n",
      "tinc\t\t655/tcp\t\t\t\t# tinc control port\r\n",
      "tinc\t\t655/udp\r\n",
      "silc\t\t706/tcp\r\n",
      "kerberos-adm\t749/tcp\t\t\t\t# Kerberos `kadmin' (v5)\r\n",
      "#\r\n",
      "domain-s\t853/tcp\t\t\t\t# DNS over TLS [RFC7858]\r\n",
      "domain-s\t853/udp\t\t\t\t# DNS over DTLS [RFC8094]\r\n",
      "rsync\t\t873/tcp\r\n",
      "ftps-data\t989/tcp\t\t\t\t# FTP over SSL (data)\r\n",
      "ftps\t\t990/tcp\r\n",
      "telnets\t\t992/tcp\t\t\t\t# Telnet over SSL\r\n",
      "imaps\t\t993/tcp\t\t\t\t# IMAP over SSL\r\n",
      "pop3s\t\t995/tcp\t\t\t\t# POP-3 over SSL\r\n",
      "#\r\n",
      "# From ``Assigned Numbers'':\r\n",
      "#\r\n",
      "#> The Registered Ports are not controlled by the IANA and on most systems\r\n",
      "#> can be used by ordinary user processes or programs executed by ordinary\r\n",
      "#> users.\r\n",
      "#\r\n",
      "#> Ports are used in the TCP [45,106] to name the ends of logical\r\n",
      "#> connections which carry long term conversations.  For the purpose of\r\n",
      "#> providing services to unknown callers, a service contact port is\r\n",
      "#> defined.  This list specifies the port used by the server process as its\r\n",
      "#> contact port.  While the IANA can not control uses of these ports it\r\n",
      "#> does register or list uses of these ports as a convienence to the\r\n",
      "#> community.\r\n",
      "#\r\n",
      "socks\t\t1080/tcp\t\t\t# socks proxy server\r\n",
      "proofd\t\t1093/tcp\r\n",
      "rootd\t\t1094/tcp\r\n",
      "openvpn\t\t1194/tcp\r\n",
      "openvpn\t\t1194/udp\r\n",
      "rmiregistry\t1099/tcp\t\t\t# Java RMI Registry\r\n",
      "lotusnote\t1352/tcp\tlotusnotes\t# Lotus Note\r\n",
      "ms-sql-s\t1433/tcp\t\t\t# Microsoft SQL Server\r\n",
      "ms-sql-s\t1433/udp\r\n",
      "ms-sql-m\t1434/tcp\t\t\t# Microsoft SQL Monitor\r\n",
      "ms-sql-m\t1434/udp\r\n",
      "ingreslock\t1524/tcp\r\n",
      "datametrics\t1645/tcp\told-radius\r\n",
      "datametrics\t1645/udp\told-radius\r\n",
      "sa-msg-port\t1646/tcp\told-radacct\r\n",
      "sa-msg-port\t1646/udp\told-radacct\r\n",
      "kermit\t\t1649/tcp\r\n",
      "groupwise\t1677/tcp\r\n",
      "l2f\t\t1701/udp\tl2tp\r\n",
      "radius\t\t1812/tcp\r\n",
      "radius\t\t1812/udp\r\n",
      "radius-acct\t1813/tcp\tradacct\t\t# Radius Accounting\r\n",
      "radius-acct\t1813/udp\tradacct\r\n",
      "cisco-sccp\t2000/tcp\t\t\t# Cisco SCCP\r\n",
      "nfs\t\t2049/tcp\t\t\t# Network File System\r\n",
      "nfs\t\t2049/udp\t\t\t# Network File System\r\n",
      "gnunet\t\t2086/tcp\r\n",
      "gnunet\t\t2086/udp\r\n",
      "rtcm-sc104\t2101/tcp\t\t\t# RTCM SC-104 IANA 1/29/99\r\n",
      "rtcm-sc104\t2101/udp\r\n",
      "gsigatekeeper\t2119/tcp\r\n",
      "gris\t\t2135/tcp\t\t# Grid Resource Information Server\r\n",
      "cvspserver\t2401/tcp\t\t\t# CVS client/server operations\r\n",
      "venus\t\t2430/tcp\t\t\t# codacon port\r\n",
      "venus\t\t2430/udp\t\t\t# Venus callback/wbc interface\r\n",
      "venus-se\t2431/tcp\t\t\t# tcp side effects\r\n",
      "venus-se\t2431/udp\t\t\t# udp sftp side effect\r\n",
      "codasrv\t\t2432/tcp\t\t\t# not used\r\n",
      "codasrv\t\t2432/udp\t\t\t# server port\r\n",
      "codasrv-se\t2433/tcp\t\t\t# tcp side effects\r\n",
      "codasrv-se\t2433/udp\t\t\t# udp sftp side effect\r\n",
      "mon\t\t2583/tcp\t\t\t# MON traps\r\n",
      "mon\t\t2583/udp\r\n",
      "dict\t\t2628/tcp\t\t\t# Dictionary server\r\n",
      "f5-globalsite\t2792/tcp\r\n",
      "gsiftp\t\t2811/tcp\r\n",
      "gpsd\t\t2947/tcp\r\n",
      "gds-db\t\t3050/tcp\tgds_db\t\t# InterBase server\r\n",
      "icpv2\t\t3130/tcp\ticp\t\t# Internet Cache Protocol\r\n",
      "icpv2\t\t3130/udp\ticp\r\n",
      "isns\t\t3205/tcp\t\t\t# iSNS Server Port\r\n",
      "isns\t\t3205/udp\t\t\t# iSNS Server Port\r\n",
      "iscsi-target\t3260/tcp\r\n",
      "mysql\t\t3306/tcp\r\n",
      "ms-wbt-server\t3389/tcp\r\n",
      "nut\t\t3493/tcp\t\t\t# Network UPS Tools\r\n",
      "nut\t\t3493/udp\r\n",
      "distcc\t\t3632/tcp\t\t\t# distributed compiler\r\n",
      "distcc\t\t3632/udp\r\n",
      "daap\t\t3689/tcp\t\t\t# Digital Audio Access Protocol\r\n",
      "daap\t\t3689/udp\r\n",
      "svn\t\t3690/tcp\tsubversion\t# Subversion protocol\r\n",
      "svn\t\t3690/udp\tsubversion\r\n",
      "suucp\t\t4031/tcp\t\t\t# UUCP over SSL\r\n",
      "suucp\t\t4031/udp\r\n",
      "sysrqd\t\t4094/tcp\t\t\t# sysrq daemon\r\n",
      "sysrqd\t\t4094/udp\r\n",
      "sieve\t\t4190/tcp\t\t\t# ManageSieve Protocol\r\n",
      "epmd\t\t4369/tcp\t\t\t# Erlang Port Mapper Daemon\r\n",
      "epmd\t\t4369/udp\r\n",
      "remctl\t\t4373/tcp\t\t# Remote Authenticated Command Service\r\n",
      "remctl\t\t4373/udp\r\n",
      "f5-iquery\t4353/tcp\t\t\t# F5 iQuery\r\n",
      "f5-iquery\t4353/udp\r\n",
      "ipsec-nat-t\t4500/udp\t\t\t# IPsec NAT-Traversal [RFC3947]\r\n",
      "iax\t\t4569/tcp\t\t\t# Inter-Asterisk eXchange\r\n",
      "iax\t\t4569/udp\r\n",
      "mtn\t\t4691/tcp\t\t\t# monotone Netsync Protocol\r\n",
      "mtn\t\t4691/udp\r\n",
      "radmin-port\t4899/tcp\t\t\t# RAdmin Port\r\n",
      "radmin-port\t4899/udp\r\n",
      "sip\t\t5060/tcp\t\t\t# Session Initiation Protocol\r\n",
      "sip\t\t5060/udp\r\n",
      "sip-tls\t\t5061/tcp\r\n",
      "sip-tls\t\t5061/udp\r\n",
      "xmpp-client\t5222/tcp\tjabber-client\t# Jabber Client Connection\r\n",
      "xmpp-server\t5269/tcp\tjabber-server\t# Jabber Server Connection\r\n",
      "cfengine\t5308/tcp\r\n",
      "mdns\t\t5353/udp\t\t\t# Multicast DNS\r\n",
      "postgresql\t5432/tcp\tpostgres\t# PostgreSQL Database\r\n",
      "freeciv\t\t5556/tcp\trptp\t\t# Freeciv gameplay\r\n",
      "amqps\t\t5671/tcp\t\t\t# AMQP protocol over TLS/SSL\r\n",
      "amqp\t\t5672/tcp\r\n",
      "amqp\t\t5672/udp\r\n",
      "amqp\t\t5672/sctp\r\n",
      "x11\t\t6000/tcp\tx11-0\t\t# X Window System\r\n",
      "x11-1\t\t6001/tcp\r\n",
      "x11-2\t\t6002/tcp\r\n",
      "x11-3\t\t6003/tcp\r\n",
      "x11-4\t\t6004/tcp\r\n",
      "x11-5\t\t6005/tcp\r\n",
      "x11-6\t\t6006/tcp\r\n",
      "x11-7\t\t6007/tcp\r\n",
      "gnutella-svc\t6346/tcp\t\t\t# gnutella\r\n",
      "gnutella-svc\t6346/udp\r\n",
      "gnutella-rtr\t6347/tcp\t\t\t# gnutella\r\n",
      "gnutella-rtr\t6347/udp\r\n",
      "sge-qmaster\t6444/tcp\tsge_qmaster\t# Grid Engine Qmaster Service\r\n",
      "sge-execd\t6445/tcp\tsge_execd\t# Grid Engine Execution Service\r\n",
      "mysql-proxy\t6446/tcp\t\t\t# MySQL Proxy\r\n",
      "babel\t\t6696/udp\t\t\t# Babel Routing Protocol\r\n",
      "ircs-u\t\t6697/tcp\t\t# Internet Relay Chat via TLS/SSL\r\n",
      "afs3-fileserver 7000/tcp\tbbs\t\t# file server itself\r\n",
      "afs3-fileserver 7000/udp\tbbs\r\n",
      "afs3-callback\t7001/tcp\t\t\t# callbacks to cache managers\r\n",
      "afs3-callback\t7001/udp\r\n",
      "afs3-prserver\t7002/tcp\t\t\t# users & groups database\r\n",
      "afs3-prserver\t7002/udp\r\n",
      "afs3-vlserver\t7003/tcp\t\t\t# volume location database\r\n",
      "afs3-vlserver\t7003/udp\r\n",
      "afs3-kaserver\t7004/tcp\t\t\t# AFS/Kerberos authentication\r\n",
      "afs3-kaserver\t7004/udp\r\n",
      "afs3-volser\t7005/tcp\t\t\t# volume managment server\r\n",
      "afs3-volser\t7005/udp\r\n",
      "afs3-errors\t7006/tcp\t\t\t# error interpretation service\r\n",
      "afs3-errors\t7006/udp\r\n",
      "afs3-bos\t7007/tcp\t\t\t# basic overseer process\r\n",
      "afs3-bos\t7007/udp\r\n",
      "afs3-update\t7008/tcp\t\t\t# server-to-server updater\r\n",
      "afs3-update\t7008/udp\r\n",
      "afs3-rmtsys\t7009/tcp\t\t\t# remote cache manager service\r\n",
      "afs3-rmtsys\t7009/udp\r\n",
      "font-service\t7100/tcp\txfs\t\t# X Font Service\r\n",
      "http-alt\t8080/tcp\twebcache\t# WWW caching service\r\n",
      "puppet\t\t8140/tcp\t\t\t# The Puppet master service\r\n",
      "bacula-dir\t9101/tcp\t\t\t# Bacula Director\r\n",
      "bacula-fd\t9102/tcp\t\t\t# Bacula File Daemon\r\n",
      "bacula-sd\t9103/tcp\t\t\t# Bacula Storage Daemon\r\n",
      "xmms2\t\t9667/tcp\t# Cross-platform Music Multiplexing System\r\n",
      "nbd\t\t10809/tcp\t\t\t# Linux Network Block Device\r\n",
      "zabbix-agent\t10050/tcp\t\t\t# Zabbix Agent\r\n",
      "zabbix-trapper\t10051/tcp\t\t\t# Zabbix Trapper\r\n",
      "amanda\t\t10080/tcp\t\t\t# amanda backup services\r\n",
      "dicom\t\t11112/tcp\r\n",
      "hkp\t\t11371/tcp\t\t\t# OpenPGP HTTP Keyserver\r\n",
      "db-lsp\t\t17500/tcp\t\t\t# Dropbox LanSync Protocol\r\n",
      "dcap\t\t22125/tcp\t\t\t# dCache Access Protocol\r\n",
      "gsidcap\t\t22128/tcp\t\t\t# GSI dCache Access Protocol\r\n",
      "wnn6\t\t22273/tcp\t\t\t# wnn6\r\n",
      "\r\n",
      "#\r\n",
      "# Datagram Delivery Protocol services\r\n",
      "#\r\n",
      "rtmp\t\t1/ddp\t\t\t# Routing Table Maintenance Protocol\r\n",
      "nbp\t\t2/ddp\t\t\t# Name Binding Protocol\r\n",
      "echo\t\t4/ddp\t\t\t# AppleTalk Echo Protocol\r\n",
      "zip\t\t6/ddp\t\t\t# Zone Information Protocol\r\n",
      "\r\n",
      "#=========================================================================\r\n",
      "# The remaining port numbers are not as allocated by IANA.\r\n",
      "#=========================================================================\r\n",
      "\r\n",
      "# Kerberos (Project Athena/MIT) services\r\n",
      "kerberos4\t750/udp\t\tkerberos-iv kdc\t# Kerberos (server)\r\n",
      "kerberos4\t750/tcp\t\tkerberos-iv kdc\r\n",
      "kerberos-master\t751/udp\t\tkerberos_master\t# Kerberos authentication\r\n",
      "kerberos-master\t751/tcp\r\n",
      "passwd-server\t752/udp\t\tpasswd_server\t# Kerberos passwd server\r\n",
      "krb-prop\t754/tcp\t\tkrb_prop krb5_prop hprop # Kerberos slave propagation\r\n",
      "zephyr-srv\t2102/udp\t\t\t# Zephyr server\r\n",
      "zephyr-clt\t2103/udp\t\t\t# Zephyr serv-hm connection\r\n",
      "zephyr-hm\t2104/udp\t\t\t# Zephyr hostmanager\r\n",
      "iprop\t\t2121/tcp\t\t\t# incremental propagation\r\n",
      "supfilesrv\t871/tcp\t\t\t# Software Upgrade Protocol server\r\n",
      "supfiledbg\t1127/tcp\t\t# Software Upgrade Protocol debugging\r\n",
      "\r\n",
      "#\r\n",
      "# Services added for the Debian GNU/Linux distribution\r\n",
      "#\r\n",
      "poppassd\t106/tcp\t\t\t\t# Eudora\r\n",
      "poppassd\t106/udp\r\n",
      "moira-db\t775/tcp\t\tmoira_db\t# Moira database\r\n",
      "moira-update\t777/tcp\t\tmoira_update\t# Moira update protocol\r\n",
      "moira-ureg\t779/udp\t\tmoira_ureg\t# Moira user registration\r\n",
      "spamd\t\t783/tcp\t\t\t\t# spamassassin daemon\r\n",
      "skkserv\t\t1178/tcp\t\t\t# skk jisho server port\r\n",
      "predict\t\t1210/udp\t\t\t# predict -- satellite tracking\r\n",
      "rmtcfg\t\t1236/tcp\t\t\t# Gracilis Packeten remote config server\r\n",
      "xtel\t\t1313/tcp\t\t\t# french minitel\r\n",
      "xtelw\t\t1314/tcp\t\t\t# french minitel\r\n",
      "support\t\t1529/tcp\t\t\t# GNATS\r\n",
      "cfinger\t\t2003/tcp\t\t\t# GNU Finger\r\n",
      "frox\t\t2121/tcp\t\t\t# frox: caching ftp proxy\r\n",
      "zebrasrv\t2600/tcp\t\t\t# zebra service\r\n",
      "zebra\t\t2601/tcp\t\t\t# zebra vty\r\n",
      "ripd\t\t2602/tcp\t\t\t# ripd vty (zebra)\r\n",
      "ripngd\t\t2603/tcp\t\t\t# ripngd vty (zebra)\r\n",
      "ospfd\t\t2604/tcp\t\t\t# ospfd vty (zebra)\r\n",
      "bgpd\t\t2605/tcp\t\t\t# bgpd vty (zebra)\r\n",
      "ospf6d\t\t2606/tcp\t\t\t# ospf6d vty (zebra)\r\n",
      "ospfapi\t\t2607/tcp\t\t\t# OSPF-API\r\n",
      "isisd\t\t2608/tcp\t\t\t# ISISd vty (zebra)\r\n",
      "afbackup\t2988/tcp\t\t\t# Afbackup system\r\n",
      "afbackup\t2988/udp\r\n",
      "afmbackup\t2989/tcp\t\t\t# Afmbackup system\r\n",
      "afmbackup\t2989/udp\r\n",
      "fax\t\t4557/tcp\t\t\t# FAX transmission service (old)\r\n",
      "hylafax\t\t4559/tcp\t\t\t# HylaFAX client-server protocol (new)\r\n",
      "distmp3\t\t4600/tcp\t\t\t# distmp3host daemon\r\n",
      "munin\t\t4949/tcp\tlrrd\t\t# Munin\r\n",
      "enbd-cstatd\t5051/tcp\t\t\t# ENBD client statd\r\n",
      "enbd-sstatd\t5052/tcp\t\t\t# ENBD server statd\r\n",
      "pcrd\t\t5151/tcp\t\t\t# PCR-1000 Daemon\r\n",
      "noclog\t\t5354/tcp\t\t\t# noclogd with TCP (nocol)\r\n",
      "noclog\t\t5354/udp\t\t\t# noclogd with UDP (nocol)\r\n",
      "hostmon\t\t5355/tcp\t\t\t# hostmon uses TCP (nocol)\r\n",
      "hostmon\t\t5355/udp\t\t\t# hostmon uses UDP (nocol)\r\n",
      "rplay\t\t5555/udp\t\t\t# RPlay audio service\r\n",
      "nrpe\t\t5666/tcp\t\t\t# Nagios Remote Plugin Executor\r\n",
      "nsca\t\t5667/tcp\t\t\t# Nagios Agent - NSCA\r\n",
      "mrtd\t\t5674/tcp\t\t\t# MRT Routing Daemon\r\n",
      "bgpsim\t\t5675/tcp\t\t\t# MRT Routing Simulator\r\n",
      "canna\t\t5680/tcp\t\t\t# cannaserver\r\n",
      "syslog-tls\t6514/tcp\t\t\t# Syslog over TLS [RFC5425]\r\n",
      "sane-port\t6566/tcp\tsane saned\t# SANE network scanner daemon\r\n",
      "ircd\t\t6667/tcp\t\t\t# Internet Relay Chat\r\n",
      "zope-ftp\t8021/tcp\t\t\t# zope management by ftp\r\n",
      "tproxy\t\t8081/tcp\t\t\t# Transparent Proxy\r\n",
      "omniorb\t\t8088/tcp\t\t\t# OmniORB\r\n",
      "omniorb\t\t8088/udp\r\n",
      "clc-build-daemon 8990/tcp\t\t\t# Common lisp build daemon\r\n",
      "xinetd\t\t9098/tcp\r\n",
      "mandelspawn\t9359/udp\tmandelbrot\t# network mandelbrot\r\n",
      "git\t\t9418/tcp\t\t\t# Git Version Control System\r\n",
      "zope\t\t9673/tcp\t\t\t# zope server\r\n",
      "webmin\t\t10000/tcp\r\n",
      "kamanda\t\t10081/tcp\t\t\t# amanda backup services (Kerberos)\r\n",
      "amandaidx\t10082/tcp\t\t\t# amanda backup services\r\n",
      "amidxtape\t10083/tcp\t\t\t# amanda backup services\r\n",
      "smsqp\t\t11201/tcp\t\t\t# Alamin SMS gateway\r\n",
      "smsqp\t\t11201/udp\r\n",
      "xpilot\t\t15345/tcp\t\t\t# XPilot Contact Port\r\n",
      "xpilot\t\t15345/udp\r\n",
      "sgi-cmsd\t17001/udp\t\t# Cluster membership services daemon\r\n",
      "sgi-crsd\t17002/udp\r\n",
      "sgi-gcd\t\t17003/udp\t\t\t# SGI Group membership daemon\r\n",
      "sgi-cad\t\t17004/tcp\t\t\t# Cluster Admin daemon\r\n",
      "isdnlog\t\t20011/tcp\t\t\t# isdn logging system\r\n",
      "isdnlog\t\t20011/udp\r\n",
      "vboxd\t\t20012/tcp\t\t\t# voice box system\r\n",
      "vboxd\t\t20012/udp\r\n",
      "binkp\t\t24554/tcp\t\t\t# binkp fidonet protocol\r\n",
      "asp\t\t27374/tcp\t\t\t# Address Search Protocol\r\n",
      "asp\t\t27374/udp\r\n",
      "csync2\t\t30865/tcp\t\t\t# cluster synchronization tool\r\n",
      "dircproxy\t57000/tcp\t\t\t# Detachable IRC Proxy\r\n",
      "tfido\t\t60177/tcp\t\t\t# fidonet EMSI over telnet\r\n",
      "fido\t\t60179/tcp\t\t\t# fidonet EMSI over TCP\r\n",
      "\r\n",
      "# Local services\r\n"
     ]
    }
   ],
   "source": [
    "cat /etc/services"
   ]
  },
  {
   "cell_type": "code",
   "execution_count": 4,
   "metadata": {},
   "outputs": [],
   "source": [
    "sock.connect(('www.cnn.com', 80))   # /etc/services\n",
    "http_req = '''GET / HTTP/1.1\n",
    "Host: www.cnn.com\n",
    "User-Agent: Advanced-Python/1.0\n",
    "Accept: */*\n",
    "\n",
    "'''"
   ]
  },
  {
   "cell_type": "code",
   "execution_count": 5,
   "metadata": {},
   "outputs": [
    {
     "name": "stdout",
     "output_type": "stream",
     "text": [
      "560\n"
     ]
    }
   ],
   "source": [
    "sock.sendall(http_req.encode('utf-8'))\n",
    "response = sock.recv(1024)\n",
    "sock.close()\n",
    "print(len(response))"
   ]
  },
  {
   "cell_type": "code",
   "execution_count": 6,
   "metadata": {},
   "outputs": [
    {
     "name": "stdout",
     "output_type": "stream",
     "text": [
      "HTTP/1.1 301 Moved Permanently\r\n",
      "Server: Varnish\r\n",
      "Retry-After: 0\r\n",
      "Content-Length: 0\r\n",
      "Cache-Control: public, max-age=600\r\n",
      "Location: https://www.cnn.com/\r\n",
      "Accept-Ranges: bytes\r\n",
      "Date: Tue, 02 Nov 2021 20:07:59 GMT\r\n",
      "Via: 1.1 varnish\r\n",
      "Connection: close\r\n",
      "Set-Cookie: countryCode=US; Domain=.cnn.com; Path=/; SameSite=Lax\r\n",
      "Set-Cookie: stateCode=GA; Domain=.cnn.com; Path=/; SameSite=Lax\r\n",
      "Set-Cookie: geoData=marietta|GA|30062|US|NA|-400|broadband|34.010|-84.450; Domain=.cnn.com; Path=/; SameSite=Lax\r\n",
      "X-Served-By: cache-pdk17828-PDK\r\n",
      "X-Cache: HIT\r\n",
      "X-Cache-Hits: 0\r\n",
      "\r\n",
      "\n"
     ]
    }
   ],
   "source": [
    "print(response.decode('utf8'))"
   ]
  },
  {
   "cell_type": "markdown",
   "metadata": {},
   "source": [
    "### Socket programming basics:\n",
    "\n",
    "#### Client\n",
    "\n",
    " - `connect()`\n",
    " - `send()`, `recv()`\n",
    " - generally does _not_ `bind()` (but may)\n",
    " \n",
    "#### Server\n",
    "\n",
    " - `bind()` to a well-known port\n",
    " - `listen()` to set up a *connection backlog*\n",
    " - `accept()` incoming connections, returning **a new socket**"
   ]
  },
  {
   "cell_type": "code",
   "execution_count": 7,
   "metadata": {},
   "outputs": [],
   "source": [
    "sock.listen?"
   ]
  },
  {
   "cell_type": "code",
   "execution_count": 8,
   "metadata": {},
   "outputs": [],
   "source": [
    "from contextlib import closing\n",
    "\n",
    "def echo_server(port):\n",
    "    srv = socket.socket()\n",
    "    srv.setsockopt(socket.SOL_SOCKET, socket.SO_REUSEADDR, 1)\n",
    "    srv.bind(('localhost', port))\n",
    "    srv.listen(0)\n",
    "    with closing(srv):\n",
    "        print('Waiting for connections on localhost:{}'.format(port))\n",
    "        peer_sock, peer_addr = srv.accept()\n",
    "        print('got connection from {}'.format(peer_addr))\n",
    "        with closing(peer_sock):\n",
    "            buffer = peer_sock.recv(1000)\n",
    "            print('Received \"{}\"'.format(buffer))\n",
    "            peer_sock.sendall(buffer)"
   ]
  },
  {
   "cell_type": "code",
   "execution_count": 9,
   "metadata": {},
   "outputs": [
    {
     "name": "stdout",
     "output_type": "stream",
     "text": [
      "Waiting for connections on localhost:8042\n",
      "got connection from ('127.0.0.1', 45310)\n",
      "Received \"b'Here is some text\\n'\"\n"
     ]
    }
   ],
   "source": [
    "echo_server(8042)"
   ]
  },
  {
   "cell_type": "markdown",
   "metadata": {},
   "source": [
    "### Better: use a handler in a thread"
   ]
  },
  {
   "cell_type": "code",
   "execution_count": 10,
   "metadata": {},
   "outputs": [],
   "source": [
    "import threading\n",
    "\n",
    "def handle_echo(sock, addr):\n",
    "    while True:\n",
    "        buffer = sock.recv(1000)\n",
    "        print('Received {}'.format(buffer))\n",
    "        if not buffer:\n",
    "            print('Socket closed, exiting thread')\n",
    "            break\n",
    "        sock.sendall(buffer)\n",
    "        \n",
    "def echo_server(port):\n",
    "    srv = socket.socket()\n",
    "    srv.setsockopt(socket.SOL_SOCKET, socket.SO_REUSEADDR, 1)\n",
    "    srv.bind(('localhost', port))\n",
    "    srv.listen(0)\n",
    "    with closing(srv):\n",
    "        print('Waiting for connections on localhost:{}'.format(port))\n",
    "        peer_sock, peer_addr = srv.accept()\n",
    "        print('got connection from {}'.format(peer_addr))\n",
    "        t = threading.Thread(target=handle_echo, args=(peer_sock, peer_addr))\n",
    "        t.start()"
   ]
  },
  {
   "cell_type": "code",
   "execution_count": 11,
   "metadata": {},
   "outputs": [
    {
     "name": "stdout",
     "output_type": "stream",
     "text": [
      "Waiting for connections on localhost:8042\n",
      "got connection from ('127.0.0.1', 45316)\n",
      "Received b'I\\n'\n",
      "Received b'should\\n'\n",
      "Received b'be\\n'\n",
      "Received b'able\\n'\n",
      "Received b'to\\n'\n",
      "Received b'echo\\n'\n",
      "Received b'lots\\n'\n",
      "Received b'of times\\n'\n",
      "Received b''\n",
      "Socket closed, exiting thread\n"
     ]
    }
   ],
   "source": [
    "echo_server(8042)"
   ]
  },
  {
   "cell_type": "markdown",
   "metadata": {},
   "source": [
    "## Using SocketServer as a socket server framework"
   ]
  },
  {
   "cell_type": "code",
   "execution_count": 12,
   "metadata": {},
   "outputs": [],
   "source": [
    "import socketserver\n",
    "\n",
    "class MyEchoHandler(socketserver.BaseRequestHandler):\n",
    "    def handle(self):\n",
    "        while True:\n",
    "            buffer = self.request.recv(1000)\n",
    "            print('Received {}'.format(buffer))\n",
    "            if not buffer:\n",
    "                print('Socket disconnected, exiting handler')\n",
    "                break\n",
    "            self.request.sendall(buffer)"
   ]
  },
  {
   "cell_type": "code",
   "execution_count": 13,
   "metadata": {},
   "outputs": [],
   "source": [
    "server = socketserver.TCPServer(('localhost', 8042), MyEchoHandler)"
   ]
  },
  {
   "cell_type": "code",
   "execution_count": 14,
   "metadata": {
    "scrolled": true
   },
   "outputs": [
    {
     "name": "stdout",
     "output_type": "stream",
     "text": [
      "Received b'Here is an echoing socket\\n'\n",
      "Received b'that works\\n'\n",
      "Received b''\n",
      "Socket disconnected, exiting handler\n",
      "Received b\"And we see it doesn't\\nhandle concurrency \\nat all\\n\"\n",
      "Received b''\n",
      "Socket disconnected, exiting handler\n"
     ]
    },
    {
     "ename": "KeyboardInterrupt",
     "evalue": "",
     "output_type": "error",
     "traceback": [
      "\u001b[0;31m---------------------------------------------------------------------------\u001b[0m",
      "\u001b[0;31mKeyboardInterrupt\u001b[0m                         Traceback (most recent call last)",
      "\u001b[0;32m<ipython-input-14-56bad0c11514>\u001b[0m in \u001b[0;36m<module>\u001b[0;34m\u001b[0m\n\u001b[0;32m----> 1\u001b[0;31m \u001b[0mserver\u001b[0m\u001b[0;34m.\u001b[0m\u001b[0mserve_forever\u001b[0m\u001b[0;34m(\u001b[0m\u001b[0;34m)\u001b[0m\u001b[0;34m\u001b[0m\u001b[0;34m\u001b[0m\u001b[0m\n\u001b[0m",
      "\u001b[0;32m/usr/lib/python3.8/socketserver.py\u001b[0m in \u001b[0;36mserve_forever\u001b[0;34m(self, poll_interval)\u001b[0m\n\u001b[1;32m    230\u001b[0m \u001b[0;34m\u001b[0m\u001b[0m\n\u001b[1;32m    231\u001b[0m                 \u001b[0;32mwhile\u001b[0m \u001b[0;32mnot\u001b[0m \u001b[0mself\u001b[0m\u001b[0;34m.\u001b[0m\u001b[0m__shutdown_request\u001b[0m\u001b[0;34m:\u001b[0m\u001b[0;34m\u001b[0m\u001b[0;34m\u001b[0m\u001b[0m\n\u001b[0;32m--> 232\u001b[0;31m                     \u001b[0mready\u001b[0m \u001b[0;34m=\u001b[0m \u001b[0mselector\u001b[0m\u001b[0;34m.\u001b[0m\u001b[0mselect\u001b[0m\u001b[0;34m(\u001b[0m\u001b[0mpoll_interval\u001b[0m\u001b[0;34m)\u001b[0m\u001b[0;34m\u001b[0m\u001b[0;34m\u001b[0m\u001b[0m\n\u001b[0m\u001b[1;32m    233\u001b[0m                     \u001b[0;31m# bpo-35017: shutdown() called during select(), exit immediately.\u001b[0m\u001b[0;34m\u001b[0m\u001b[0;34m\u001b[0m\u001b[0;34m\u001b[0m\u001b[0m\n\u001b[1;32m    234\u001b[0m                     \u001b[0;32mif\u001b[0m \u001b[0mself\u001b[0m\u001b[0;34m.\u001b[0m\u001b[0m__shutdown_request\u001b[0m\u001b[0;34m:\u001b[0m\u001b[0;34m\u001b[0m\u001b[0;34m\u001b[0m\u001b[0m\n",
      "\u001b[0;32m/usr/lib/python3.8/selectors.py\u001b[0m in \u001b[0;36mselect\u001b[0;34m(self, timeout)\u001b[0m\n\u001b[1;32m    413\u001b[0m         \u001b[0mready\u001b[0m \u001b[0;34m=\u001b[0m \u001b[0;34m[\u001b[0m\u001b[0;34m]\u001b[0m\u001b[0;34m\u001b[0m\u001b[0;34m\u001b[0m\u001b[0m\n\u001b[1;32m    414\u001b[0m         \u001b[0;32mtry\u001b[0m\u001b[0;34m:\u001b[0m\u001b[0;34m\u001b[0m\u001b[0;34m\u001b[0m\u001b[0m\n\u001b[0;32m--> 415\u001b[0;31m             \u001b[0mfd_event_list\u001b[0m \u001b[0;34m=\u001b[0m \u001b[0mself\u001b[0m\u001b[0;34m.\u001b[0m\u001b[0m_selector\u001b[0m\u001b[0;34m.\u001b[0m\u001b[0mpoll\u001b[0m\u001b[0;34m(\u001b[0m\u001b[0mtimeout\u001b[0m\u001b[0;34m)\u001b[0m\u001b[0;34m\u001b[0m\u001b[0;34m\u001b[0m\u001b[0m\n\u001b[0m\u001b[1;32m    416\u001b[0m         \u001b[0;32mexcept\u001b[0m \u001b[0mInterruptedError\u001b[0m\u001b[0;34m:\u001b[0m\u001b[0;34m\u001b[0m\u001b[0;34m\u001b[0m\u001b[0m\n\u001b[1;32m    417\u001b[0m             \u001b[0;32mreturn\u001b[0m \u001b[0mready\u001b[0m\u001b[0;34m\u001b[0m\u001b[0;34m\u001b[0m\u001b[0m\n",
      "\u001b[0;31mKeyboardInterrupt\u001b[0m: "
     ]
    }
   ],
   "source": [
    "server.serve_forever()"
   ]
  },
  {
   "cell_type": "code",
   "execution_count": 15,
   "metadata": {},
   "outputs": [],
   "source": [
    "server = socketserver.ThreadingTCPServer(('localhost', 8043), MyEchoHandler)"
   ]
  },
  {
   "cell_type": "code",
   "execution_count": 16,
   "metadata": {
    "scrolled": true
   },
   "outputs": [
    {
     "name": "stdout",
     "output_type": "stream",
     "text": [
      "Received b'Echo?\\n'\n",
      "Received b'You bet!\\n'\n",
      "Received b'asdf\\n'\n",
      "Received b'asdfasdf\\n'\n",
      "Received b''\n",
      "Socket disconnected, exiting handler\n",
      "Received b''\n",
      "Socket disconnected, exiting handler\n"
     ]
    },
    {
     "ename": "KeyboardInterrupt",
     "evalue": "",
     "output_type": "error",
     "traceback": [
      "\u001b[0;31m---------------------------------------------------------------------------\u001b[0m",
      "\u001b[0;31mKeyboardInterrupt\u001b[0m                         Traceback (most recent call last)",
      "\u001b[0;32m<ipython-input-16-56bad0c11514>\u001b[0m in \u001b[0;36m<module>\u001b[0;34m\u001b[0m\n\u001b[0;32m----> 1\u001b[0;31m \u001b[0mserver\u001b[0m\u001b[0;34m.\u001b[0m\u001b[0mserve_forever\u001b[0m\u001b[0;34m(\u001b[0m\u001b[0;34m)\u001b[0m\u001b[0;34m\u001b[0m\u001b[0;34m\u001b[0m\u001b[0m\n\u001b[0m",
      "\u001b[0;32m/usr/lib/python3.8/socketserver.py\u001b[0m in \u001b[0;36mserve_forever\u001b[0;34m(self, poll_interval)\u001b[0m\n\u001b[1;32m    230\u001b[0m \u001b[0;34m\u001b[0m\u001b[0m\n\u001b[1;32m    231\u001b[0m                 \u001b[0;32mwhile\u001b[0m \u001b[0;32mnot\u001b[0m \u001b[0mself\u001b[0m\u001b[0;34m.\u001b[0m\u001b[0m__shutdown_request\u001b[0m\u001b[0;34m:\u001b[0m\u001b[0;34m\u001b[0m\u001b[0;34m\u001b[0m\u001b[0m\n\u001b[0;32m--> 232\u001b[0;31m                     \u001b[0mready\u001b[0m \u001b[0;34m=\u001b[0m \u001b[0mselector\u001b[0m\u001b[0;34m.\u001b[0m\u001b[0mselect\u001b[0m\u001b[0;34m(\u001b[0m\u001b[0mpoll_interval\u001b[0m\u001b[0;34m)\u001b[0m\u001b[0;34m\u001b[0m\u001b[0;34m\u001b[0m\u001b[0m\n\u001b[0m\u001b[1;32m    233\u001b[0m                     \u001b[0;31m# bpo-35017: shutdown() called during select(), exit immediately.\u001b[0m\u001b[0;34m\u001b[0m\u001b[0;34m\u001b[0m\u001b[0;34m\u001b[0m\u001b[0m\n\u001b[1;32m    234\u001b[0m                     \u001b[0;32mif\u001b[0m \u001b[0mself\u001b[0m\u001b[0;34m.\u001b[0m\u001b[0m__shutdown_request\u001b[0m\u001b[0;34m:\u001b[0m\u001b[0;34m\u001b[0m\u001b[0;34m\u001b[0m\u001b[0m\n",
      "\u001b[0;32m/usr/lib/python3.8/selectors.py\u001b[0m in \u001b[0;36mselect\u001b[0;34m(self, timeout)\u001b[0m\n\u001b[1;32m    413\u001b[0m         \u001b[0mready\u001b[0m \u001b[0;34m=\u001b[0m \u001b[0;34m[\u001b[0m\u001b[0;34m]\u001b[0m\u001b[0;34m\u001b[0m\u001b[0;34m\u001b[0m\u001b[0m\n\u001b[1;32m    414\u001b[0m         \u001b[0;32mtry\u001b[0m\u001b[0;34m:\u001b[0m\u001b[0;34m\u001b[0m\u001b[0;34m\u001b[0m\u001b[0m\n\u001b[0;32m--> 415\u001b[0;31m             \u001b[0mfd_event_list\u001b[0m \u001b[0;34m=\u001b[0m \u001b[0mself\u001b[0m\u001b[0;34m.\u001b[0m\u001b[0m_selector\u001b[0m\u001b[0;34m.\u001b[0m\u001b[0mpoll\u001b[0m\u001b[0;34m(\u001b[0m\u001b[0mtimeout\u001b[0m\u001b[0;34m)\u001b[0m\u001b[0;34m\u001b[0m\u001b[0;34m\u001b[0m\u001b[0m\n\u001b[0m\u001b[1;32m    416\u001b[0m         \u001b[0;32mexcept\u001b[0m \u001b[0mInterruptedError\u001b[0m\u001b[0;34m:\u001b[0m\u001b[0;34m\u001b[0m\u001b[0;34m\u001b[0m\u001b[0m\n\u001b[1;32m    417\u001b[0m             \u001b[0;32mreturn\u001b[0m \u001b[0mready\u001b[0m\u001b[0;34m\u001b[0m\u001b[0;34m\u001b[0m\u001b[0m\n",
      "\u001b[0;31mKeyboardInterrupt\u001b[0m: "
     ]
    }
   ],
   "source": [
    "server.serve_forever()"
   ]
  },
  {
   "cell_type": "markdown",
   "metadata": {},
   "source": [
    "# UDP  - DNS example\n",
    "\n",
    "from https://routley.io/posts/hand-writing-dns-messages/"
   ]
  },
  {
   "cell_type": "code",
   "execution_count": 17,
   "metadata": {},
   "outputs": [],
   "source": [
    "sock = socket.socket(type=socket.SOCK_DGRAM)"
   ]
  },
  {
   "cell_type": "code",
   "execution_count": 18,
   "metadata": {},
   "outputs": [],
   "source": [
    "msg = '''\n",
    "AA AA 01 00 00 01 00 00 00 00 00 00\n",
    "07 65 78 61 6d 70 6c 65 03 63 6f 6d \n",
    "00 00 01 00 01\n",
    "'''"
   ]
  },
  {
   "cell_type": "code",
   "execution_count": 19,
   "metadata": {},
   "outputs": [
    {
     "data": {
      "text/plain": [
       "b'AAAA01000001000000000000076578616d706c6503636f6d0000010001'"
      ]
     },
     "execution_count": 19,
     "metadata": {},
     "output_type": "execute_result"
    }
   ],
   "source": [
    "msg = ''.join(msg.split()).encode('utf-8')\n",
    "msg"
   ]
  },
  {
   "cell_type": "code",
   "execution_count": 20,
   "metadata": {},
   "outputs": [
    {
     "data": {
      "text/plain": [
       "b'\\xaa\\xaa\\x01\\x00\\x00\\x01\\x00\\x00\\x00\\x00\\x00\\x00\\x07example\\x03com\\x00\\x00\\x01\\x00\\x01'"
      ]
     },
     "execution_count": 20,
     "metadata": {},
     "output_type": "execute_result"
    }
   ],
   "source": [
    "import binascii\n",
    "b_msg = binascii.unhexlify(msg)\n",
    "b_msg"
   ]
  },
  {
   "cell_type": "code",
   "execution_count": 21,
   "metadata": {},
   "outputs": [
    {
     "data": {
      "text/plain": [
       "(b'\\xaa\\xaa\\x81\\x80\\x00\\x01\\x00\\x01\\x00\\x00\\x00\\x00\\x07example\\x03com\\x00\\x00\\x01\\x00\\x01\\xc0\\x0c\\x00\\x01\\x00\\x01\\x00\\x00A\\xfe\\x00\\x04]\\xb8\\xd8\"',\n",
       " ('8.8.8.8', 53))"
      ]
     },
     "execution_count": 21,
     "metadata": {},
     "output_type": "execute_result"
    }
   ],
   "source": [
    "sock.sendto(b_msg, ('8.8.8.8', 53))\n",
    "sock.recvfrom(4096)"
   ]
  },
  {
   "cell_type": "code",
   "execution_count": 25,
   "metadata": {},
   "outputs": [
    {
     "name": "stdout",
     "output_type": "stream",
     "text": [
      "] 0x5d 93\n",
      "¸ 0xb8 184\n",
      "Ø 0xd8 216\n",
      "\" 0x22 34\n"
     ]
    }
   ],
   "source": [
    "for octet in 93,184,216,34:\n",
    "    print(chr(octet), hex(octet), octet)"
   ]
  },
  {
   "cell_type": "code",
   "execution_count": 23,
   "metadata": {},
   "outputs": [
    {
     "name": "stdout",
     "output_type": "stream",
     "text": [
      "\r\n",
      "; <<>> DiG 9.16.1-Ubuntu <<>> example.com\r\n",
      ";; global options: +cmd\r\n",
      ";; Got answer:\r\n",
      ";; ->>HEADER<<- opcode: QUERY, status: NOERROR, id: 20954\r\n",
      ";; flags: qr rd ad; QUERY: 1, ANSWER: 1, AUTHORITY: 0, ADDITIONAL: 0\r\n",
      ";; WARNING: recursion requested but not available\r\n",
      "\r\n",
      ";; QUESTION SECTION:\r\n",
      ";example.com.\t\t\tIN\tA\r\n",
      "\r\n",
      ";; ANSWER SECTION:\r\n",
      "example.com.\t\t0\tIN\tA\t93.184.216.34\r\n",
      "\r\n",
      ";; Query time: 50 msec\r\n",
      ";; SERVER: 172.28.112.1#53(172.28.112.1)\r\n",
      ";; WHEN: Tue Nov 02 13:30:14 PDT 2021\r\n",
      ";; MSG SIZE  rcvd: 56\r\n",
      "\r\n"
     ]
    }
   ],
   "source": [
    "!dig example.com"
   ]
  },
  {
   "cell_type": "markdown",
   "metadata": {},
   "source": [
    "If you _are_ building your own protocol layer, you'll probably want to become familiar with the `struct` module:\n",
    "\n",
    "```python\n",
    "import struct\n",
    "\n",
    "struct.pack(...)\n",
    "```"
   ]
  },
  {
   "cell_type": "code",
   "execution_count": 26,
   "metadata": {},
   "outputs": [],
   "source": [
    "import struct"
   ]
  },
  {
   "cell_type": "code",
   "execution_count": 27,
   "metadata": {},
   "outputs": [
    {
     "data": {
      "text/plain": [
       "b'UU\\xaazUU\\xaazUU\\xaaz'"
      ]
     },
     "execution_count": 27,
     "metadata": {},
     "output_type": "execute_result"
    }
   ],
   "source": [
    "struct.pack('iii', 0x7aaa5555, 0x7aaa5555, 0x7aaa5555)"
   ]
  },
  {
   "cell_type": "code",
   "execution_count": 28,
   "metadata": {},
   "outputs": [
    {
     "data": {
      "text/plain": [
       "(2057983317, 2057983317, 2057983317)"
      ]
     },
     "execution_count": 28,
     "metadata": {},
     "output_type": "execute_result"
    }
   ],
   "source": [
    "struct.unpack('iii', _27)"
   ]
  },
  {
   "cell_type": "code",
   "execution_count": 29,
   "metadata": {},
   "outputs": [
    {
     "data": {
      "text/plain": [
       "'0x7aaa5555'"
      ]
     },
     "execution_count": 29,
     "metadata": {},
     "output_type": "execute_result"
    }
   ],
   "source": [
    "hex(2057983317)"
   ]
  },
  {
   "cell_type": "markdown",
   "metadata": {},
   "source": [
    "# Lab \n",
    "\n",
    "Open the [socket lab][socket-lab]\n",
    "\n",
    "[socket-lab]: ./socket-lab.ipynb"
   ]
  },
  {
   "cell_type": "code",
   "execution_count": null,
   "metadata": {},
   "outputs": [],
   "source": []
  }
 ],
 "metadata": {
  "kernelspec": {
   "display_name": "Python 3",
   "language": "python",
   "name": "python3"
  },
  "language_info": {
   "codemirror_mode": {
    "name": "ipython",
    "version": 3
   },
   "file_extension": ".py",
   "mimetype": "text/x-python",
   "name": "python",
   "nbconvert_exporter": "python",
   "pygments_lexer": "ipython3",
   "version": "3.8.5"
  }
 },
 "nbformat": 4,
 "nbformat_minor": 2
}
