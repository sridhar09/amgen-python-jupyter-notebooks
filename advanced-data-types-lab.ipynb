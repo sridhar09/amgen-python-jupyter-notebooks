{
 "cells": [
  {
   "cell_type": "markdown",
   "metadata": {},
   "source": [
    "# Lab: Default Dictionaries\n",
    "* read from a file where each line is a word followed by a count, e.g.,\n",
    "```\n",
    "apple 2\n",
    "pear 3\n",
    "cherry 5\n",
    "apple 3\n",
    "pear 6\n",
    "apple 1\n",
    "```\n",
    "(as shown above, words may be duplicated)\n",
    "* generate a __`defaultdict`__ where the keys are the words and the value are a _list_ of all the counts for that word, e.g.,\n",
    "<pre>\n",
    "defaultdict(&lt;class 'list'>, {'apple': ['2', '3', '1'], 'pear': ['3', '6'], 'cherry': ['5']})\n",
    "</pre>\n",
    "\n",
    "(the list above is in the `data/testlist` file)"
   ]
  },
  {
   "cell_type": "code",
   "execution_count": null,
   "metadata": {},
   "outputs": [],
   "source": [
    "with open('./data/testlist') as f:\n",
    "    for line in f:\n",
    "        words = line.split()\n",
    "        # your code here ...\n",
    "    "
   ]
  },
  {
   "cell_type": "markdown",
   "metadata": {},
   "source": [
    "# Lab: Deque\n",
    "* use a deque to print the last _n_ lines of file, much like __`tail`__ in Linux\n",
    "* remember that you can iterate through a file a line at a time\n",
    "\n",
    "```python\n",
    "with open(filename) as f:\n",
    "    for line in f:\n",
    "        ...\n",
    "```"
   ]
  },
  {
   "cell_type": "code",
   "execution_count": null,
   "metadata": {},
   "outputs": [],
   "source": []
  },
  {
   "cell_type": "markdown",
   "metadata": {},
   "source": [
    "# Lab: Named Tuples\n",
    "1. Create a named tuple called __`Card`__ (representing a playing card) which has two fields, __`rank`__ and __`suit`__\n",
    "2. Create a list of __`Card`__s, which, when initialized, contains all 52 cards in a deck\n",
    "3. In other words, the list (or deck) should contain  \n",
    "\n",
    "`[Card(rank=2, suit='clubs'), Card(rank=3, suit='clubs'), Card(rank=4, suit='clubs'), ..., Card(rank='Q', suit='spades'), Card(rank='K', suit='spades'), Card(rank='A', suit='spades')] `\n",
    "\n",
    "(Ranks are 2, 3, 4, ..., 9, 10, J, Q, K, A, suits are clubs, spades, diamonds, hearts)"
   ]
  },
  {
   "cell_type": "code",
   "execution_count": null,
   "metadata": {},
   "outputs": [],
   "source": []
  },
  {
   "cell_type": "markdown",
   "metadata": {},
   "source": [
    "## Lab: Counters\n",
    "* Use a __`Counter`__ to count the words in a file\n",
    "* That is, read in a file, separate it into words, and use a `Counter` to count the number of occurrences of each word in the file.\n",
    "* Be sure to add any error checking you feel is necessary"
   ]
  },
  {
   "cell_type": "code",
   "execution_count": 2,
   "metadata": {},
   "outputs": [
    {
     "name": "stdout",
     "output_type": "stream",
     "text": [
      "\r\n",
      "\r\n",
      "The Tragedy of Hamlet, Prince of Denmark Shakespeare homepage |\r\n",
      "Hamlet | Entire play ACT I\r\n",
      "\r\n",
      "SCENE I. Elsinore. A platform before the castle.\r\n",
      "\r\n",
      "FRANCISCO at his post. Enter to him BERNARDO BERNARDO Who's there?\r\n",
      "FRANCISCO Nay, answer me: stand, and unfold yourself.  BERNARDO\r\n",
      "Long live the king!  FRANCISCO Bernardo?  BERNARDO He.  FRANCISCO\r\n"
     ]
    }
   ],
   "source": [
    "!head data/hamlet.txt"
   ]
  },
  {
   "cell_type": "code",
   "execution_count": null,
   "metadata": {},
   "outputs": [],
   "source": []
  }
 ],
 "metadata": {
  "kernelspec": {
   "display_name": "Python 3",
   "language": "python",
   "name": "python3"
  },
  "language_info": {
   "codemirror_mode": {
    "name": "ipython",
    "version": 3
   },
   "file_extension": ".py",
   "mimetype": "text/x-python",
   "name": "python",
   "nbconvert_exporter": "python",
   "pygments_lexer": "ipython3",
   "version": "3.8.5"
  }
 },
 "nbformat": 4,
 "nbformat_minor": 2
}
