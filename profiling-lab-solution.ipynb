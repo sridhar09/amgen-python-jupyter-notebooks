{
 "cells": [
  {
   "cell_type": "markdown",
   "metadata": {},
   "source": [
    "# Lab\n",
    "\n",
    "Using timeit, compare the performance of searching text using a compiled versus an uncompiled regular expression:"
   ]
  },
  {
   "cell_type": "code",
   "execution_count": 1,
   "metadata": {},
   "outputs": [],
   "source": [
    "text = '''The quick brown fox jumps over the lazy dog'''"
   ]
  },
  {
   "cell_type": "code",
   "execution_count": 2,
   "metadata": {},
   "outputs": [],
   "source": [
    "import re\n",
    "pattern = 'fox'\n",
    "re_fox = re.compile(pattern)"
   ]
  },
  {
   "cell_type": "code",
   "execution_count": 3,
   "metadata": {},
   "outputs": [
    {
     "data": {
      "text/plain": [
       "<re.Match object; span=(16, 19), match='fox'>"
      ]
     },
     "execution_count": 3,
     "metadata": {},
     "output_type": "execute_result"
    }
   ],
   "source": [
    "# Compare these two approaches\n",
    "re.search('fox', text)\n",
    "re_fox.search(text)"
   ]
  },
  {
   "cell_type": "code",
   "execution_count": 4,
   "metadata": {},
   "outputs": [
    {
     "name": "stdout",
     "output_type": "stream",
     "text": [
      "513 ns ± 20.2 ns per loop (mean ± std. dev. of 7 runs, 1000000 loops each)\n"
     ]
    }
   ],
   "source": [
    "%timeit re.search('fox', text)"
   ]
  },
  {
   "cell_type": "code",
   "execution_count": 5,
   "metadata": {},
   "outputs": [
    {
     "name": "stdout",
     "output_type": "stream",
     "text": [
      "126 ns ± 1.89 ns per loop (mean ± std. dev. of 7 runs, 10000000 loops each)\n"
     ]
    }
   ],
   "source": [
    "%timeit re_fox.search(text)"
   ]
  },
  {
   "cell_type": "markdown",
   "metadata": {},
   "source": [
    "Use cProfile and pstats to profile a function that uses an uncompiled `re.search` to search the text"
   ]
  },
  {
   "cell_type": "code",
   "execution_count": 6,
   "metadata": {},
   "outputs": [
    {
     "name": "stdout",
     "output_type": "stream",
     "text": [
      "Overwriting data/profiling/profiletest.py\n"
     ]
    }
   ],
   "source": [
    "%%file data/profiling/profiletest.py\n",
    "import re\n",
    "\n",
    "text = '''The quick brown fox jumps over the lazy dog'''\n",
    "for x in range(10000):\n",
    "    re.search('fox', text)"
   ]
  },
  {
   "cell_type": "code",
   "execution_count": 7,
   "metadata": {},
   "outputs": [
    {
     "name": "stdout",
     "output_type": "stream",
     "text": [
      " "
     ]
    }
   ],
   "source": [
    "%%prun\n",
    "import re\n",
    "text = '''The quick brown fox jumps over the lazy dog'''\n",
    "\n",
    "for n in range(10_000):\n",
    "    re.search('fox', text)"
   ]
  },
  {
   "cell_type": "code",
   "execution_count": 8,
   "metadata": {
    "scrolled": true
   },
   "outputs": [
    {
     "name": "stdout",
     "output_type": "stream",
     "text": [
      "         40096 function calls (40095 primitive calls) in 0.009 seconds\r\n",
      "\r\n",
      "   Ordered by: internal time\r\n",
      "\r\n",
      "   ncalls  tottime  percall  cumtime  percall filename:lineno(function)\r\n",
      "    10000    0.003    0.000    0.007    0.000 re.py:198(search)\r\n",
      "    10000    0.002    0.000    0.003    0.000 re.py:289(_compile)\r\n",
      "        1    0.002    0.002    0.009    0.009 profiletest.py:1(<module>)\r\n",
      "    10000    0.001    0.000    0.001    0.000 {method 'search' of 're.Pattern' objects}\r\n",
      "    10009    0.001    0.000    0.001    0.000 {built-in method builtins.isinstance}\r\n",
      "        1    0.000    0.000    0.000    0.000 sre_parse.py:493(_parse)\r\n",
      "        1    0.000    0.000    0.000    0.000 sre_compile.py:759(compile)\r\n",
      "        1    0.000    0.000    0.000    0.000 sre_compile.py:536(_compile_info)\r\n",
      "        3    0.000    0.000    0.000    0.000 sre_parse.py:172(append)\r\n",
      "        1    0.000    0.000    0.000    0.000 sre_parse.py:174(getwidth)\r\n",
      "        1    0.000    0.000    0.000    0.000 sre_parse.py:937(parse)\r\n",
      "        4    0.000    0.000    0.000    0.000 sre_parse.py:233(__next)\r\n",
      "        1    0.000    0.000    0.000    0.000 sre_parse.py:435(_parse_sub)\r\n",
      "        1    0.000    0.000    0.000    0.000 enum.py:833(__and__)\r\n",
      "       21    0.000    0.000    0.000    0.000 {method 'append' of 'list' objects}\r\n",
      "        1    0.000    0.000    0.000    0.000 sre_parse.py:286(tell)\r\n",
      "        1    0.000    0.000    0.000    0.000 sre_compile.py:432(_generate_overlap_table)\r\n",
      "    13/12    0.000    0.000    0.000    0.000 {built-in method builtins.len}\r\n",
      "        1    0.000    0.000    0.000    0.000 sre_compile.py:71(_compile)\r\n",
      "        1    0.000    0.000    0.000    0.000 sre_compile.py:598(_code)\r\n",
      "        1    0.000    0.000    0.009    0.009 {built-in method builtins.exec}\r\n",
      "        1    0.000    0.000    0.000    0.000 sre_compile.py:461(_get_literal_prefix)\r\n",
      "        1    0.000    0.000    0.000    0.000 sre_parse.py:224(__init__)\r\n",
      "        2    0.000    0.000    0.000    0.000 enum.py:283(__call__)\r\n",
      "        3    0.000    0.000    0.000    0.000 {built-in method builtins.min}\r\n",
      "        3    0.000    0.000    0.000    0.000 sre_parse.py:164(__getitem__)\r\n",
      "        3    0.000    0.000    0.000    0.000 sre_parse.py:254(get)\r\n",
      "        2    0.000    0.000    0.000    0.000 enum.py:562(__new__)\r\n",
      "        2    0.000    0.000    0.000    0.000 sre_compile.py:595(isstring)\r\n",
      "        1    0.000    0.000    0.000    0.000 sre_parse.py:921(fix_flags)\r\n",
      "        2    0.000    0.000    0.000    0.000 sre_parse.py:81(groups)\r\n",
      "        1    0.000    0.000    0.000    0.000 {built-in method _sre.compile}\r\n",
      "        1    0.000    0.000    0.000    0.000 sre_parse.py:76(__init__)\r\n",
      "        1    0.000    0.000    0.000    0.000 sre_parse.py:111(__init__)\r\n",
      "        1    0.000    0.000    0.000    0.000 sre_parse.py:160(__len__)\r\n",
      "        1    0.000    0.000    0.000    0.000 {method 'disable' of '_lsprof.Profiler' objects}\r\n",
      "        2    0.000    0.000    0.000    0.000 {method 'extend' of 'list' objects}\r\n",
      "        3    0.000    0.000    0.000    0.000 {built-in method builtins.ord}\r\n",
      "        1    0.000    0.000    0.000    0.000 sre_parse.py:249(match)\r\n",
      "        1    0.000    0.000    0.000    0.000 sre_compile.py:453(_get_iscased)\r\n",
      "        1    0.000    0.000    0.000    0.000 {method 'items' of 'dict' objects}\r\n",
      "\r\n",
      "\r\n"
     ]
    }
   ],
   "source": [
    "!python -m cProfile -s time data/profiling/profiletest.py"
   ]
  },
  {
   "cell_type": "markdown",
   "metadata": {},
   "source": [
    "Instrument the function with the following decorator, and use %timeit to compare the profiling overhead between profiling 1% of the time and 100% of the time"
   ]
  },
  {
   "cell_type": "code",
   "execution_count": 9,
   "metadata": {},
   "outputs": [],
   "source": [
    "import random\n",
    "import functools\n",
    "\n",
    "def instrument(profiler, probability=0.10):\n",
    "    '''Profile some of the calls to the decorated function.\n",
    "    \n",
    "    The default probability of profiling a call is 10%.\n",
    "    '''\n",
    "    def decorator(func):\n",
    "        @functools.wraps(func)\n",
    "        def wrapper(*args, **kwargs):\n",
    "            if random.random() < probability:\n",
    "                try:\n",
    "                    profiler.enable()\n",
    "                    return func(*args, **kwargs)\n",
    "                finally:\n",
    "                    profiler.disable()\n",
    "            else:\n",
    "                return func(*args, **kwargs)\n",
    "        return wrapper\n",
    "    return decorator"
   ]
  },
  {
   "cell_type": "code",
   "execution_count": 12,
   "metadata": {},
   "outputs": [],
   "source": [
    "import cProfile\n",
    "p = cProfile.Profile()\n",
    "\n",
    "@instrument(p, 0.01)\n",
    "def many_searches(pattern, text, n=100):\n",
    "    for i in range(n):\n",
    "        re.search(pattern, text)"
   ]
  },
  {
   "cell_type": "code",
   "execution_count": 13,
   "metadata": {},
   "outputs": [
    {
     "name": "stdout",
     "output_type": "stream",
     "text": [
      "5.13 ms ± 95.4 µs per loop (mean ± std. dev. of 7 runs, 100 loops each)\n"
     ]
    }
   ],
   "source": [
    "%timeit for x in range(100): many_searches('fox', text)"
   ]
  },
  {
   "cell_type": "code",
   "execution_count": null,
   "metadata": {},
   "outputs": [],
   "source": [
    "# nopro: 5.05ms\n",
    "# 0%: 5.05ms\n",
    "# 1%: 5.18ms\n",
    "# 100%: 11.1ms"
   ]
  },
  {
   "cell_type": "code",
   "execution_count": 12,
   "metadata": {},
   "outputs": [],
   "source": [
    "def many_searches_noprof(pattern, text, n=100):\n",
    "    for i in range(n):\n",
    "        re.search(pattern, text)"
   ]
  },
  {
   "cell_type": "code",
   "execution_count": 13,
   "metadata": {
    "scrolled": true
   },
   "outputs": [
    {
     "name": "stdout",
     "output_type": "stream",
     "text": [
      "5.05 ms ± 173 µs per loop (mean ± std. dev. of 7 runs, 100 loops each)\n"
     ]
    }
   ],
   "source": [
    "%timeit for x in range(100): many_searches_noprof('fox', text)"
   ]
  },
  {
   "cell_type": "code",
   "execution_count": 20,
   "metadata": {},
   "outputs": [
    {
     "name": "stdout",
     "output_type": "stream",
     "text": [
      "         32602200 function calls in 8.834 seconds\n",
      "\n",
      "   Ordered by: internal time\n",
      "\n",
      "   ncalls  tottime  percall  cumtime  percall filename:lineno(function)\n",
      "  8110000    2.421    0.000    3.384    0.000 re.py:289(_compile)\n",
      "  8110000    2.411    0.000    6.973    0.000 re.py:198(search)\n",
      "    81100    1.844    0.000    8.816    0.000 <ipython-input-16-865406956896>:4(many_searches)\n",
      "  8110000    1.177    0.000    1.177    0.000 {method 'search' of 're.Pattern' objects}\n",
      "  8110000    0.963    0.000    0.963    0.000 {built-in method builtins.isinstance}\n",
      "    81100    0.018    0.000    0.018    0.000 {method 'disable' of '_lsprof.Profiler' objects}\n",
      "\n",
      "\n"
     ]
    }
   ],
   "source": [
    "p.print_stats(sort='time')"
   ]
  },
  {
   "cell_type": "code",
   "execution_count": null,
   "metadata": {},
   "outputs": [],
   "source": []
  }
 ],
 "metadata": {
  "kernelspec": {
   "display_name": "Python 3",
   "language": "python",
   "name": "python3"
  },
  "language_info": {
   "codemirror_mode": {
    "name": "ipython",
    "version": 3
   },
   "file_extension": ".py",
   "mimetype": "text/x-python",
   "name": "python",
   "nbconvert_exporter": "python",
   "pygments_lexer": "ipython3",
   "version": "3.8.5"
  }
 },
 "nbformat": 4,
 "nbformat_minor": 2
}
