{
 "cells": [
  {
   "cell_type": "markdown",
   "metadata": {},
   "source": [
    "# Lab: sqlite\n",
    "\n",
    "Connect to the sqlite database `data/real-estate.db` and determine the average sale price grouped by `type` and `zip`"
   ]
  },
  {
   "cell_type": "code",
   "execution_count": 1,
   "metadata": {
    "scrolled": true
   },
   "outputs": [
    {
     "name": "stdout",
     "output_type": "stream",
     "text": [
      "('Residential', 95746, 3, 678733.3333333334)\n",
      "('Residential', 95693, 5, 617508.4)\n",
      "('Residential', 95650, 2, 567000.0)\n",
      "('Residential', 95663, 1, 506688.0)\n",
      "('Residential', 95603, 3, 494818.0)\n",
      "('Residential', 95762, 23, 491698.95652173914)\n",
      "('Residential', 95633, 1, 490000.0)\n",
      "('Residential', 95819, 4, 465750.0)\n",
      "('Residential', 95677, 6, 430640.8333333333)\n",
      "('Residential', 95630, 16, 425895.1875)\n",
      "('Residential', 95811, 2, 403474.0)\n",
      "('Residential', 95635, 1, 395000.0)\n",
      "('Residential', 95747, 18, 387400.72222222225)\n",
      "('Residential', 95690, 1, 380000.0)\n",
      "('Residential', 95814, 3, 367728.6666666667)\n",
      "('Residential', 95864, 5, 364400.0)\n",
      "('Residential', 95667, 10, 363863.4)\n",
      "('Residential', 95661, 8, 360903.25)\n",
      "('Condo', 95816, 1, 360000.0)\n",
      "('Residential', 95765, 11, 355214.9090909091)\n",
      "('Residential', 95742, 11, 350009.0909090909)\n",
      "('Residential', 95816, 3, 345000.0)\n",
      "('Residential', 95757, 36, 338334.5833333333)\n",
      "('Residential', 95628, 8, 323625.75)\n",
      "('Residential', 95608, 17, 314238.8823529412)\n",
      "('Residential', 95831, 10, 313271.0)\n",
      "('Residential', 95614, 1, 300000.0)\n",
      "('Multi-Family', 95827, 1, 297000.0)\n",
      "('Residential', 95829, 11, 294142.45454545453)\n",
      "('Residential', 95678, 15, 291494.4666666667)\n",
      "('Residential', 95835, 33, 288068.63636363635)\n",
      "('Residential', 95682, 8, 286562.5)\n",
      "('Multi-Family', 95603, 1, 285000.0)\n",
      "('Residential', 95818, 7, 283217.71428571426)\n",
      "('Multi-Family', 95826, 1, 282400.0)\n",
      "('Residential', 95662, 11, 279159.54545454547)\n",
      "('Unkown', 95682, 1, 275000.0)\n",
      "('Residential', 95841, 4, 274800.0)\n",
      "('Condo', 95603, 1, 260000.0)\n",
      "('Multi-Family', 95815, 2, 258383.5)\n",
      "('Residential', 95624, 33, 256190.45454545456)\n",
      "('Multi-Family', 95610, 1, 256054.0)\n",
      "('Residential', 95834, 19, 255151.47368421053)\n",
      "('Residential', 95623, 2, 247000.0)\n",
      "('Residential', 95758, 39, 245888.38461538462)\n",
      "('Residential', 95670, 18, 240353.38888888888)\n",
      "('Residential', 95726, 3, 240302.66666666666)\n",
      "('Condo', 95630, 1, 240000.0)\n",
      "('Residential', 95655, 1, 237800.0)\n",
      "('Residential', 95632, 21, 236943.42857142858)\n",
      "('Residential', 95843, 32, 236168.15625)\n",
      "('Multi-Family', 95670, 1, 236000.0)\n",
      "('Residential', 95722, 1, 230000.0)\n",
      "('Residential', 95821, 6, 228666.66666666666)\n",
      "('Residential', 95683, 4, 223812.5)\n",
      "('Residential', 95610, 6, 221500.0)\n",
      "('Multi-Family', 95825, 1, 221250.0)\n",
      "('Residential', 95619, 1, 216033.0)\n",
      "('Residential', 95825, 8, 214251.5)\n",
      "('Condo', 95834, 3, 205833.33333333334)\n",
      "('Condo', 95678, 5, 204900.0)\n",
      "('Residential', 95833, 19, 204385.15789473685)\n",
      "('Residential', 95826, 13, 200061.46153846153)\n",
      "('Condo', 95670, 2, 197452.5)\n",
      "('Residential', 95631, 1, 194818.0)\n",
      "('Residential', 95827, 8, 192492.125)\n",
      "('Condo', 95608, 3, 190544.66666666666)\n",
      "('Residential', 95828, 41, 186964.9512195122)\n",
      "('Residential', 95621, 26, 183796.84615384616)\n",
      "('Multi-Family', 95842, 1, 179580.0)\n",
      "('Condo', 95835, 4, 178986.0)\n",
      "('Residential', 95823, 60, 176880.43333333332)\n",
      "('Residential', 95832, 12, 175196.83333333334)\n",
      "('Residential', 95673, 13, 172727.61538461538)\n",
      "('Residential', 95691, 3, 170700.0)\n",
      "('Condo', 95648, 2, 163000.0)\n",
      "('Multi-Family', 95828, 4, 161225.0)\n",
      "('Residential', 95822, 23, 160000.60869565216)\n",
      "('Condo', 95747, 2, 160000.0)\n",
      "('Residential', 95842, 16, 157920.8125)\n",
      "('Residential', 95817, 7, 151122.7142857143)\n",
      "('Residential', 95838, 37, 149461.35135135136)\n",
      "('Residential', 95820, 23, 143371.47826086957)\n",
      "('Condo', 95628, 1, 142500.0)\n",
      "('Residential', 95660, 21, 135659.33333333334)\n",
      "('Residential', 95626, 4, 132866.0)\n",
      "('Condo', 95825, 4, 132666.5)\n",
      "('Condo', 95841, 3, 132481.0)\n",
      "('Condo', 95758, 5, 123400.0)\n",
      "('Condo', 95682, 1, 119000.0)\n",
      "('Condo', 95843, 1, 115000.0)\n",
      "('Residential', 95824, 12, 114467.58333333333)\n",
      "('Condo', 95822, 1, 104250.0)\n",
      "('Residential', 95815, 16, 97226.6875)\n",
      "('Residential', 95648, 70, 94640.38571428572)\n",
      "('Condo', 95826, 4, 94240.0)\n",
      "('Condo', 95621, 2, 92625.0)\n",
      "('Condo', 95833, 1, 92000.0)\n",
      "('Condo', 95842, 5, 89177.2)\n",
      "('Condo', 95823, 1, 77000.0)\n",
      "('Condo', 95624, 1, 71000.0)\n"
     ]
    }
   ],
   "source": [
    "import sqlite3\n",
    "\n",
    "stmt = '''\n",
    "SELECT type, zip, count(*), avg(price) as sale \n",
    "    FROM transactions \n",
    "    GROUP BY type, zip\n",
    "    ORDER BY SALE DESC\n",
    "'''\n",
    "\n",
    "conn = sqlite3.connect('data/real-estate.db')\n",
    "with conn:\n",
    "    c = conn.cursor()\n",
    "    c.execute(stmt)\n",
    "    for row in c:\n",
    "        print(row)"
   ]
  },
  {
   "cell_type": "markdown",
   "metadata": {},
   "source": [
    "# Lab: mysql\n",
    "\n",
    "Connect to the mysql database and determine the mean population in the `states` table:"
   ]
  },
  {
   "cell_type": "code",
   "execution_count": 3,
   "metadata": {},
   "outputs": [],
   "source": [
    "host = 'advanced-python.c9zriyyu6mtc.us-east-1.rds.amazonaws.com'\n",
    "import pymysql\n",
    "\n",
    "conn = pymysql.connect(\n",
    "    host=host,\n",
    "    user='newuser',\n",
    "    password='password',\n",
    "    db='class'\n",
    ")"
   ]
  },
  {
   "cell_type": "code",
   "execution_count": 4,
   "metadata": {},
   "outputs": [
    {
     "name": "stdout",
     "output_type": "stream",
     "text": [
      "(0, 'AL', 'Alabama', 135767, 4874747.0)\n"
     ]
    },
    {
     "data": {
      "text/plain": [
       "(('index', 8, None, 20, 20, 0, True),\n",
       " ('Abbreviation', 252, None, 262140, 262140, 0, True),\n",
       " ('state', 252, None, 262140, 262140, 0, True),\n",
       " ('area', 8, None, 20, 20, 0, True),\n",
       " ('pop', 5, None, 22, 22, 31, True))"
      ]
     },
     "execution_count": 4,
     "metadata": {},
     "output_type": "execute_result"
    }
   ],
   "source": [
    "with conn.cursor() as c:\n",
    "    c.execute('SELECT * FROM states LIMIT 1')\n",
    "    print(c.fetchone())\n",
    "c.description"
   ]
  },
  {
   "cell_type": "code",
   "execution_count": 5,
   "metadata": {},
   "outputs": [
    {
     "name": "stdout",
     "output_type": "stream",
     "text": [
      "(6438478.098039215, 52)\n"
     ]
    }
   ],
   "source": [
    "with conn.cursor() as c:\n",
    "    c.execute('SELECT AVG(pop), COUNT(*) FROM states')\n",
    "    print(c.fetchone())"
   ]
  },
  {
   "cell_type": "code",
   "execution_count": 6,
   "metadata": {
    "scrolled": true
   },
   "outputs": [
    {
     "name": "stdout",
     "output_type": "stream",
     "text": [
      "('Alabama',)\n",
      "('Alaska',)\n",
      "('Arizona',)\n",
      "('Arkansas',)\n",
      "('California',)\n",
      "('Colorado',)\n",
      "('Connecticut',)\n",
      "('Delaware',)\n",
      "('Florida',)\n",
      "('Georgia',)\n",
      "('Hawaii',)\n",
      "('Idaho',)\n",
      "('Illinois',)\n",
      "('Indiana',)\n",
      "('Iowa',)\n",
      "('Kansas',)\n",
      "('Kentucky',)\n",
      "('Louisiana',)\n",
      "('Maine',)\n",
      "('Maryland',)\n",
      "('Massachusetts',)\n",
      "('Michigan',)\n",
      "('Minnesota',)\n",
      "('Mississippi',)\n",
      "('Missouri',)\n",
      "('Montana',)\n",
      "('Nebraska',)\n",
      "('Nevada',)\n",
      "('New Hampshire',)\n",
      "('New Jersey',)\n",
      "('New Mexico',)\n",
      "('New York',)\n",
      "('North Carolina',)\n",
      "('North Dakota',)\n",
      "('Ohio',)\n",
      "('Oklahoma',)\n",
      "('Oregon',)\n",
      "('Pennsylvania',)\n",
      "('Rhode Island',)\n",
      "('South Carolina',)\n",
      "('South Dakota',)\n",
      "('Tennessee',)\n",
      "('Texas',)\n",
      "('Utah',)\n",
      "('Vermont',)\n",
      "('Virginia',)\n",
      "('Washington',)\n",
      "('West Virginia',)\n",
      "('Wisconsin',)\n",
      "('Wyoming',)\n",
      "('Puerto Rico',)\n",
      "('Guam',)\n"
     ]
    }
   ],
   "source": [
    "with conn.cursor() as c:\n",
    "    c.execute('SELECT state FROM states')\n",
    "    for row in c:\n",
    "        print(row)\n",
    "    "
   ]
  },
  {
   "cell_type": "code",
   "execution_count": null,
   "metadata": {},
   "outputs": [],
   "source": []
  }
 ],
 "metadata": {
  "kernelspec": {
   "display_name": "Python 3",
   "language": "python",
   "name": "python3"
  },
  "language_info": {
   "codemirror_mode": {
    "name": "ipython",
    "version": 3
   },
   "file_extension": ".py",
   "mimetype": "text/x-python",
   "name": "python",
   "nbconvert_exporter": "python",
   "pygments_lexer": "ipython3",
   "version": "3.8.5"
  }
 },
 "nbformat": 4,
 "nbformat_minor": 2
}
