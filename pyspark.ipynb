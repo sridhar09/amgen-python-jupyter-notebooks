{
 "cells": [
  {
   "cell_type": "markdown",
   "metadata": {},
   "source": [
    "# PySpark\n",
    "\n",
    "For this demo, we'll use the docker-compose file in the data/spark directory:\n",
    "\n",
    "\n",
    "First, launch the container (this includes both PySpark and Jupyter so we can skip all the setup stuff)\n",
    "\n",
    "```bash\n",
    "$ cd data/spark\n",
    "$ docker-compose up\n",
    "...\n",
    "```\n",
    "\n",
    "Once this is running, you should be able to visit http://localhost:8889/tree/work and see the pyspark-tutorial.ipynb file"
   ]
  },
  {
   "cell_type": "code",
   "execution_count": null,
   "metadata": {},
   "outputs": [],
   "source": []
  }
 ],
 "metadata": {
  "kernelspec": {
   "display_name": "Python 3",
   "language": "python",
   "name": "python3"
  },
  "language_info": {
   "codemirror_mode": {
    "name": "ipython",
    "version": 3
   },
   "file_extension": ".py",
   "mimetype": "text/x-python",
   "name": "python",
   "nbconvert_exporter": "python",
   "pygments_lexer": "ipython3",
   "version": "3.8.5"
  }
 },
 "nbformat": 4,
 "nbformat_minor": 4
}
