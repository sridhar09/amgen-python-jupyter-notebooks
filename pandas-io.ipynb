{
 "cells": [
  {
   "cell_type": "markdown",
   "metadata": {},
   "source": [
    "# Pandas: the Python structured data library\n",
    "\n",
    "Pandas (allegedly) stands for **Pan**el **da**ta (**s**?) and lets you manipulate 'spreadsheet-like' data in Python easily"
   ]
  },
  {
   "cell_type": "code",
   "execution_count": 1,
   "metadata": {},
   "outputs": [
    {
     "name": "stdout",
     "output_type": "stream",
     "text": [
      "Looking in links: /home/rick446/src/wheelhouse\n",
      "Requirement already satisfied: pandas in /home/rick446/.virtualenvs/classes/lib/python3.8/site-packages (1.1.2)\n",
      "Requirement already satisfied: numpy>=1.15.4 in /home/rick446/.virtualenvs/classes/lib/python3.8/site-packages (from pandas) (1.20.1)\n",
      "Requirement already satisfied: python-dateutil>=2.7.3 in /home/rick446/.virtualenvs/classes/lib/python3.8/site-packages (from pandas) (2.8.1)\n",
      "Requirement already satisfied: pytz>=2017.2 in /home/rick446/.virtualenvs/classes/lib/python3.8/site-packages (from pandas) (2020.1)\n",
      "Requirement already satisfied: six>=1.5 in /home/rick446/.virtualenvs/classes/lib/python3.8/site-packages (from python-dateutil>=2.7.3->pandas) (1.15.0)\n",
      "\u001b[33mWARNING: You are using pip version 20.2.3; however, version 21.3.1 is available.\n",
      "You should consider upgrading via the '/home/rick446/.virtualenvs/classes/bin/python -m pip install --upgrade pip' command.\u001b[0m\n"
     ]
    }
   ],
   "source": [
    "!pip install pandas"
   ]
  },
  {
   "cell_type": "code",
   "execution_count": 2,
   "metadata": {},
   "outputs": [],
   "source": [
    "import pandas as pd"
   ]
  },
  {
   "cell_type": "markdown",
   "metadata": {},
   "source": [
    "## Series: kind of like a `list` and `dict` put together"
   ]
  },
  {
   "cell_type": "code",
   "execution_count": 3,
   "metadata": {
    "scrolled": true
   },
   "outputs": [
    {
     "data": {
      "text/plain": [
       "0    1\n",
       "1    2\n",
       "2    3\n",
       "dtype: int64"
      ]
     },
     "execution_count": 3,
     "metadata": {},
     "output_type": "execute_result"
    }
   ],
   "source": [
    "s = pd.Series([1,2,3])\n",
    "s"
   ]
  },
  {
   "cell_type": "code",
   "execution_count": 4,
   "metadata": {},
   "outputs": [
    {
     "data": {
      "text/plain": [
       "0    1\n",
       "1    2\n",
       "2    3\n",
       "dtype: int8"
      ]
     },
     "execution_count": 4,
     "metadata": {},
     "output_type": "execute_result"
    }
   ],
   "source": [
    "import numpy as np\n",
    "\n",
    "s = pd.Series([1,2,3], dtype=np.int8)\n",
    "s"
   ]
  },
  {
   "cell_type": "code",
   "execution_count": 5,
   "metadata": {},
   "outputs": [
    {
     "data": {
      "text/plain": [
       "0    1\n",
       "1    3\n",
       "2    3\n",
       "dtype: int8"
      ]
     },
     "execution_count": 5,
     "metadata": {},
     "output_type": "execute_result"
    }
   ],
   "source": [
    "s[1] = 3.14\n",
    "s"
   ]
  },
  {
   "cell_type": "code",
   "execution_count": 6,
   "metadata": {},
   "outputs": [
    {
     "data": {
      "text/plain": [
       "['a', 'b', 'c']"
      ]
     },
     "execution_count": 6,
     "metadata": {},
     "output_type": "execute_result"
    }
   ],
   "source": [
    "'a b c'.split()"
   ]
  },
  {
   "cell_type": "code",
   "execution_count": 7,
   "metadata": {},
   "outputs": [
    {
     "data": {
      "text/plain": [
       "a    1\n",
       "b    2\n",
       "c    3\n",
       "dtype: int64"
      ]
     },
     "execution_count": 7,
     "metadata": {},
     "output_type": "execute_result"
    }
   ],
   "source": [
    "s = pd.Series([1,2,3], index='a b c'.split())\n",
    "s"
   ]
  },
  {
   "cell_type": "code",
   "execution_count": 8,
   "metadata": {},
   "outputs": [
    {
     "data": {
      "text/plain": [
       "1"
      ]
     },
     "execution_count": 8,
     "metadata": {},
     "output_type": "execute_result"
    }
   ],
   "source": [
    "s[0]"
   ]
  },
  {
   "cell_type": "code",
   "execution_count": 9,
   "metadata": {},
   "outputs": [
    {
     "data": {
      "text/plain": [
       "1"
      ]
     },
     "execution_count": 9,
     "metadata": {},
     "output_type": "execute_result"
    }
   ],
   "source": [
    "s['a']"
   ]
  },
  {
   "cell_type": "markdown",
   "metadata": {},
   "source": [
    "## DataFrame -- the main data type\n",
    "\n"
   ]
  },
  {
   "cell_type": "code",
   "execution_count": 10,
   "metadata": {},
   "outputs": [
    {
     "data": {
      "text/html": [
       "<div>\n",
       "<style scoped>\n",
       "    .dataframe tbody tr th:only-of-type {\n",
       "        vertical-align: middle;\n",
       "    }\n",
       "\n",
       "    .dataframe tbody tr th {\n",
       "        vertical-align: top;\n",
       "    }\n",
       "\n",
       "    .dataframe thead th {\n",
       "        text-align: right;\n",
       "    }\n",
       "</style>\n",
       "<table border=\"1\" class=\"dataframe\">\n",
       "  <thead>\n",
       "    <tr style=\"text-align: right;\">\n",
       "      <th></th>\n",
       "      <th>a</th>\n",
       "      <th>b</th>\n",
       "      <th>c</th>\n",
       "    </tr>\n",
       "  </thead>\n",
       "  <tbody>\n",
       "    <tr>\n",
       "      <th>x</th>\n",
       "      <td>1</td>\n",
       "      <td>2</td>\n",
       "      <td>3</td>\n",
       "    </tr>\n",
       "    <tr>\n",
       "      <th>y</th>\n",
       "      <td>4</td>\n",
       "      <td>5</td>\n",
       "      <td>6</td>\n",
       "    </tr>\n",
       "    <tr>\n",
       "      <th>z</th>\n",
       "      <td>7</td>\n",
       "      <td>8</td>\n",
       "      <td>9</td>\n",
       "    </tr>\n",
       "    <tr>\n",
       "      <th>w</th>\n",
       "      <td>7</td>\n",
       "      <td>8</td>\n",
       "      <td>9</td>\n",
       "    </tr>\n",
       "  </tbody>\n",
       "</table>\n",
       "</div>"
      ],
      "text/plain": [
       "   a  b  c\n",
       "x  1  2  3\n",
       "y  4  5  6\n",
       "z  7  8  9\n",
       "w  7  8  9"
      ]
     },
     "execution_count": 10,
     "metadata": {},
     "output_type": "execute_result"
    }
   ],
   "source": [
    "df = pd.DataFrame(\n",
    "    [\n",
    "        [1,2,3],\n",
    "        [4,5,6],\n",
    "        [7,8,9],\n",
    "        [7,8,9],\n",
    "    ],\n",
    "    columns='a b c'.split(),\n",
    "    index='x y z w'.split()\n",
    ")\n",
    "df"
   ]
  },
  {
   "cell_type": "code",
   "execution_count": 11,
   "metadata": {},
   "outputs": [
    {
     "data": {
      "text/plain": [
       "Index(['a', 'b', 'c'], dtype='object')"
      ]
     },
     "execution_count": 11,
     "metadata": {},
     "output_type": "execute_result"
    }
   ],
   "source": [
    "df.columns"
   ]
  },
  {
   "cell_type": "code",
   "execution_count": 12,
   "metadata": {},
   "outputs": [
    {
     "data": {
      "text/plain": [
       "Index(['x', 'y', 'z', 'w'], dtype='object')"
      ]
     },
     "execution_count": 12,
     "metadata": {},
     "output_type": "execute_result"
    }
   ],
   "source": [
    "df.index"
   ]
  },
  {
   "cell_type": "code",
   "execution_count": 13,
   "metadata": {},
   "outputs": [
    {
     "data": {
      "text/plain": [
       "x    1\n",
       "y    4\n",
       "z    7\n",
       "w    7\n",
       "Name: a, dtype: int64"
      ]
     },
     "execution_count": 13,
     "metadata": {},
     "output_type": "execute_result"
    }
   ],
   "source": [
    "df['a']"
   ]
  },
  {
   "cell_type": "code",
   "execution_count": 14,
   "metadata": {},
   "outputs": [
    {
     "data": {
      "text/plain": [
       "x    1\n",
       "y    4\n",
       "z    7\n",
       "w    7\n",
       "Name: a, dtype: int64"
      ]
     },
     "execution_count": 14,
     "metadata": {},
     "output_type": "execute_result"
    }
   ],
   "source": [
    "df.a"
   ]
  },
  {
   "cell_type": "markdown",
   "metadata": {},
   "source": [
    "Multiple columns"
   ]
  },
  {
   "cell_type": "code",
   "execution_count": 15,
   "metadata": {},
   "outputs": [
    {
     "data": {
      "text/html": [
       "<div>\n",
       "<style scoped>\n",
       "    .dataframe tbody tr th:only-of-type {\n",
       "        vertical-align: middle;\n",
       "    }\n",
       "\n",
       "    .dataframe tbody tr th {\n",
       "        vertical-align: top;\n",
       "    }\n",
       "\n",
       "    .dataframe thead th {\n",
       "        text-align: right;\n",
       "    }\n",
       "</style>\n",
       "<table border=\"1\" class=\"dataframe\">\n",
       "  <thead>\n",
       "    <tr style=\"text-align: right;\">\n",
       "      <th></th>\n",
       "      <th>a</th>\n",
       "      <th>b</th>\n",
       "      <th>c</th>\n",
       "    </tr>\n",
       "  </thead>\n",
       "  <tbody>\n",
       "    <tr>\n",
       "      <th>0</th>\n",
       "      <td>1</td>\n",
       "      <td>2</td>\n",
       "      <td>3.0</td>\n",
       "    </tr>\n",
       "    <tr>\n",
       "      <th>1</th>\n",
       "      <td>4</td>\n",
       "      <td>5</td>\n",
       "      <td>6.0</td>\n",
       "    </tr>\n",
       "    <tr>\n",
       "      <th>2</th>\n",
       "      <td>7</td>\n",
       "      <td>8</td>\n",
       "      <td>9.0</td>\n",
       "    </tr>\n",
       "  </tbody>\n",
       "</table>\n",
       "</div>"
      ],
      "text/plain": [
       "   a  b    c\n",
       "0  1  2  3.0\n",
       "1  4  5  6.0\n",
       "2  7  8  9.0"
      ]
     },
     "execution_count": 15,
     "metadata": {},
     "output_type": "execute_result"
    }
   ],
   "source": [
    "cola = pd.Series([1, 4, 7], name='ca')\n",
    "colb = pd.Series([2, 5, 8], name='cb')\n",
    "colc = pd.Series([3, 6, 9], name='cc', dtype=np.float32)\n",
    "pd.DataFrame({'a': cola, 'b': colb, 'c': colc})"
   ]
  },
  {
   "cell_type": "code",
   "execution_count": 16,
   "metadata": {},
   "outputs": [
    {
     "data": {
      "text/html": [
       "<div>\n",
       "<style scoped>\n",
       "    .dataframe tbody tr th:only-of-type {\n",
       "        vertical-align: middle;\n",
       "    }\n",
       "\n",
       "    .dataframe tbody tr th {\n",
       "        vertical-align: top;\n",
       "    }\n",
       "\n",
       "    .dataframe thead th {\n",
       "        text-align: right;\n",
       "    }\n",
       "</style>\n",
       "<table border=\"1\" class=\"dataframe\">\n",
       "  <thead>\n",
       "    <tr style=\"text-align: right;\">\n",
       "      <th></th>\n",
       "      <th>a</th>\n",
       "      <th>b</th>\n",
       "      <th>c</th>\n",
       "    </tr>\n",
       "  </thead>\n",
       "  <tbody>\n",
       "    <tr>\n",
       "      <th>x</th>\n",
       "      <td>1</td>\n",
       "      <td>2</td>\n",
       "      <td>3</td>\n",
       "    </tr>\n",
       "    <tr>\n",
       "      <th>y</th>\n",
       "      <td>4</td>\n",
       "      <td>5</td>\n",
       "      <td>6</td>\n",
       "    </tr>\n",
       "    <tr>\n",
       "      <th>z</th>\n",
       "      <td>7</td>\n",
       "      <td>8</td>\n",
       "      <td>9</td>\n",
       "    </tr>\n",
       "    <tr>\n",
       "      <th>w</th>\n",
       "      <td>7</td>\n",
       "      <td>8</td>\n",
       "      <td>9</td>\n",
       "    </tr>\n",
       "  </tbody>\n",
       "</table>\n",
       "</div>"
      ],
      "text/plain": [
       "   a  b  c\n",
       "x  1  2  3\n",
       "y  4  5  6\n",
       "z  7  8  9\n",
       "w  7  8  9"
      ]
     },
     "execution_count": 16,
     "metadata": {},
     "output_type": "execute_result"
    }
   ],
   "source": [
    "df"
   ]
  },
  {
   "cell_type": "code",
   "execution_count": 17,
   "metadata": {},
   "outputs": [
    {
     "data": {
      "text/html": [
       "<div>\n",
       "<style scoped>\n",
       "    .dataframe tbody tr th:only-of-type {\n",
       "        vertical-align: middle;\n",
       "    }\n",
       "\n",
       "    .dataframe tbody tr th {\n",
       "        vertical-align: top;\n",
       "    }\n",
       "\n",
       "    .dataframe thead th {\n",
       "        text-align: right;\n",
       "    }\n",
       "</style>\n",
       "<table border=\"1\" class=\"dataframe\">\n",
       "  <thead>\n",
       "    <tr style=\"text-align: right;\">\n",
       "      <th></th>\n",
       "      <th>a</th>\n",
       "      <th>b</th>\n",
       "    </tr>\n",
       "  </thead>\n",
       "  <tbody>\n",
       "    <tr>\n",
       "      <th>x</th>\n",
       "      <td>1</td>\n",
       "      <td>2</td>\n",
       "    </tr>\n",
       "    <tr>\n",
       "      <th>y</th>\n",
       "      <td>4</td>\n",
       "      <td>5</td>\n",
       "    </tr>\n",
       "    <tr>\n",
       "      <th>z</th>\n",
       "      <td>7</td>\n",
       "      <td>8</td>\n",
       "    </tr>\n",
       "    <tr>\n",
       "      <th>w</th>\n",
       "      <td>7</td>\n",
       "      <td>8</td>\n",
       "    </tr>\n",
       "  </tbody>\n",
       "</table>\n",
       "</div>"
      ],
      "text/plain": [
       "   a  b\n",
       "x  1  2\n",
       "y  4  5\n",
       "z  7  8\n",
       "w  7  8"
      ]
     },
     "execution_count": 17,
     "metadata": {},
     "output_type": "execute_result"
    }
   ],
   "source": [
    "cols = ['a', 'b']\n",
    "df_test = df[cols]\n",
    "df_test"
   ]
  },
  {
   "cell_type": "code",
   "execution_count": 18,
   "metadata": {},
   "outputs": [
    {
     "data": {
      "text/html": [
       "<div>\n",
       "<style scoped>\n",
       "    .dataframe tbody tr th:only-of-type {\n",
       "        vertical-align: middle;\n",
       "    }\n",
       "\n",
       "    .dataframe tbody tr th {\n",
       "        vertical-align: top;\n",
       "    }\n",
       "\n",
       "    .dataframe thead th {\n",
       "        text-align: right;\n",
       "    }\n",
       "</style>\n",
       "<table border=\"1\" class=\"dataframe\">\n",
       "  <thead>\n",
       "    <tr style=\"text-align: right;\">\n",
       "      <th></th>\n",
       "      <th>a</th>\n",
       "    </tr>\n",
       "  </thead>\n",
       "  <tbody>\n",
       "    <tr>\n",
       "      <th>x</th>\n",
       "      <td>1</td>\n",
       "    </tr>\n",
       "    <tr>\n",
       "      <th>y</th>\n",
       "      <td>4</td>\n",
       "    </tr>\n",
       "    <tr>\n",
       "      <th>z</th>\n",
       "      <td>7</td>\n",
       "    </tr>\n",
       "    <tr>\n",
       "      <th>w</th>\n",
       "      <td>7</td>\n",
       "    </tr>\n",
       "  </tbody>\n",
       "</table>\n",
       "</div>"
      ],
      "text/plain": [
       "   a\n",
       "x  1\n",
       "y  4\n",
       "z  7\n",
       "w  7"
      ]
     },
     "execution_count": 18,
     "metadata": {},
     "output_type": "execute_result"
    }
   ],
   "source": [
    "cols = ['a']\n",
    "df_test = df[cols]\n",
    "df_test"
   ]
  },
  {
   "cell_type": "code",
   "execution_count": 19,
   "metadata": {},
   "outputs": [
    {
     "data": {
      "text/html": [
       "<div>\n",
       "<style scoped>\n",
       "    .dataframe tbody tr th:only-of-type {\n",
       "        vertical-align: middle;\n",
       "    }\n",
       "\n",
       "    .dataframe tbody tr th {\n",
       "        vertical-align: top;\n",
       "    }\n",
       "\n",
       "    .dataframe thead th {\n",
       "        text-align: right;\n",
       "    }\n",
       "</style>\n",
       "<table border=\"1\" class=\"dataframe\">\n",
       "  <thead>\n",
       "    <tr style=\"text-align: right;\">\n",
       "      <th></th>\n",
       "      <th>a</th>\n",
       "    </tr>\n",
       "  </thead>\n",
       "  <tbody>\n",
       "    <tr>\n",
       "      <th>x</th>\n",
       "      <td>1</td>\n",
       "    </tr>\n",
       "    <tr>\n",
       "      <th>y</th>\n",
       "      <td>4</td>\n",
       "    </tr>\n",
       "    <tr>\n",
       "      <th>z</th>\n",
       "      <td>7</td>\n",
       "    </tr>\n",
       "    <tr>\n",
       "      <th>w</th>\n",
       "      <td>7</td>\n",
       "    </tr>\n",
       "  </tbody>\n",
       "</table>\n",
       "</div>"
      ],
      "text/plain": [
       "   a\n",
       "x  1\n",
       "y  4\n",
       "z  7\n",
       "w  7"
      ]
     },
     "execution_count": 19,
     "metadata": {},
     "output_type": "execute_result"
    }
   ],
   "source": [
    "df_test = df[['a']]\n",
    "df_test"
   ]
  },
  {
   "cell_type": "code",
   "execution_count": 20,
   "metadata": {},
   "outputs": [
    {
     "data": {
      "text/plain": [
       "x    1\n",
       "y    4\n",
       "z    7\n",
       "w    7\n",
       "Name: a, dtype: int64"
      ]
     },
     "execution_count": 20,
     "metadata": {},
     "output_type": "execute_result"
    }
   ],
   "source": [
    "df_test = df['a']\n",
    "df_test"
   ]
  },
  {
   "cell_type": "markdown",
   "metadata": {},
   "source": [
    "Indexing ambiguity"
   ]
  },
  {
   "cell_type": "code",
   "execution_count": 21,
   "metadata": {},
   "outputs": [
    {
     "data": {
      "text/plain": [
       "1    1\n",
       "2    2\n",
       "3    3\n",
       "dtype: int64"
      ]
     },
     "execution_count": 21,
     "metadata": {},
     "output_type": "execute_result"
    }
   ],
   "source": [
    "s = pd.Series([1,2,3], index=[1,2,3])\n",
    "s"
   ]
  },
  {
   "cell_type": "code",
   "execution_count": 22,
   "metadata": {},
   "outputs": [
    {
     "data": {
      "text/plain": [
       "1"
      ]
     },
     "execution_count": 22,
     "metadata": {},
     "output_type": "execute_result"
    }
   ],
   "source": [
    "s[1]  # label/index value"
   ]
  },
  {
   "cell_type": "code",
   "execution_count": 23,
   "metadata": {
    "scrolled": true
   },
   "outputs": [
    {
     "data": {
      "text/plain": [
       "2    2\n",
       "3    3\n",
       "dtype: int64"
      ]
     },
     "execution_count": 23,
     "metadata": {},
     "output_type": "execute_result"
    }
   ],
   "source": [
    "s[1:3]  # position/offset"
   ]
  },
  {
   "cell_type": "markdown",
   "metadata": {},
   "source": [
    "# Indexing using .loc, .iloc"
   ]
  },
  {
   "cell_type": "code",
   "execution_count": 24,
   "metadata": {},
   "outputs": [
    {
     "data": {
      "text/plain": [
       "1"
      ]
     },
     "execution_count": 24,
     "metadata": {},
     "output_type": "execute_result"
    }
   ],
   "source": [
    "s.loc[1]"
   ]
  },
  {
   "cell_type": "code",
   "execution_count": 25,
   "metadata": {},
   "outputs": [
    {
     "data": {
      "text/plain": [
       "2"
      ]
     },
     "execution_count": 25,
     "metadata": {},
     "output_type": "execute_result"
    }
   ],
   "source": [
    "s.iloc[1]"
   ]
  },
  {
   "cell_type": "code",
   "execution_count": 26,
   "metadata": {},
   "outputs": [
    {
     "data": {
      "text/html": [
       "<div>\n",
       "<style scoped>\n",
       "    .dataframe tbody tr th:only-of-type {\n",
       "        vertical-align: middle;\n",
       "    }\n",
       "\n",
       "    .dataframe tbody tr th {\n",
       "        vertical-align: top;\n",
       "    }\n",
       "\n",
       "    .dataframe thead th {\n",
       "        text-align: right;\n",
       "    }\n",
       "</style>\n",
       "<table border=\"1\" class=\"dataframe\">\n",
       "  <thead>\n",
       "    <tr style=\"text-align: right;\">\n",
       "      <th></th>\n",
       "      <th>a</th>\n",
       "      <th>b</th>\n",
       "      <th>c</th>\n",
       "    </tr>\n",
       "  </thead>\n",
       "  <tbody>\n",
       "    <tr>\n",
       "      <th>x</th>\n",
       "      <td>1</td>\n",
       "      <td>2</td>\n",
       "      <td>3</td>\n",
       "    </tr>\n",
       "    <tr>\n",
       "      <th>y</th>\n",
       "      <td>4</td>\n",
       "      <td>5</td>\n",
       "      <td>6</td>\n",
       "    </tr>\n",
       "    <tr>\n",
       "      <th>z</th>\n",
       "      <td>7</td>\n",
       "      <td>8</td>\n",
       "      <td>9</td>\n",
       "    </tr>\n",
       "    <tr>\n",
       "      <th>w</th>\n",
       "      <td>7</td>\n",
       "      <td>8</td>\n",
       "      <td>9</td>\n",
       "    </tr>\n",
       "  </tbody>\n",
       "</table>\n",
       "</div>"
      ],
      "text/plain": [
       "   a  b  c\n",
       "x  1  2  3\n",
       "y  4  5  6\n",
       "z  7  8  9\n",
       "w  7  8  9"
      ]
     },
     "execution_count": 26,
     "metadata": {},
     "output_type": "execute_result"
    }
   ],
   "source": [
    "df"
   ]
  },
  {
   "cell_type": "code",
   "execution_count": 27,
   "metadata": {},
   "outputs": [
    {
     "data": {
      "text/plain": [
       "x    1\n",
       "y    4\n",
       "z    7\n",
       "w    7\n",
       "Name: a, dtype: int64"
      ]
     },
     "execution_count": 27,
     "metadata": {},
     "output_type": "execute_result"
    }
   ],
   "source": [
    "df['a']"
   ]
  },
  {
   "cell_type": "code",
   "execution_count": 28,
   "metadata": {},
   "outputs": [
    {
     "data": {
      "text/plain": [
       "a    1\n",
       "b    2\n",
       "c    3\n",
       "Name: x, dtype: int64"
      ]
     },
     "execution_count": 28,
     "metadata": {},
     "output_type": "execute_result"
    }
   ],
   "source": [
    "df.loc['x']"
   ]
  },
  {
   "cell_type": "code",
   "execution_count": 29,
   "metadata": {},
   "outputs": [
    {
     "data": {
      "text/plain": [
       "a    1\n",
       "b    2\n",
       "c    3\n",
       "Name: x, dtype: int64"
      ]
     },
     "execution_count": 29,
     "metadata": {},
     "output_type": "execute_result"
    }
   ],
   "source": [
    "df.iloc[0]"
   ]
  },
  {
   "cell_type": "code",
   "execution_count": 30,
   "metadata": {},
   "outputs": [
    {
     "data": {
      "text/plain": [
       "1"
      ]
     },
     "execution_count": 30,
     "metadata": {},
     "output_type": "execute_result"
    }
   ],
   "source": [
    "df.loc['x', 'a']"
   ]
  },
  {
   "cell_type": "code",
   "execution_count": 31,
   "metadata": {},
   "outputs": [
    {
     "data": {
      "text/plain": [
       "a    1\n",
       "b    2\n",
       "c    3\n",
       "Name: x, dtype: int64"
      ]
     },
     "execution_count": 31,
     "metadata": {},
     "output_type": "execute_result"
    }
   ],
   "source": [
    "df.loc['x', :]  # retrieve all columns"
   ]
  },
  {
   "cell_type": "code",
   "execution_count": 32,
   "metadata": {},
   "outputs": [
    {
     "data": {
      "text/plain": [
       "x    1\n",
       "y    4\n",
       "z    7\n",
       "w    7\n",
       "Name: a, dtype: int64"
      ]
     },
     "execution_count": 32,
     "metadata": {},
     "output_type": "execute_result"
    }
   ],
   "source": [
    "df.loc[:, 'a']  # retrieve all rows"
   ]
  },
  {
   "cell_type": "code",
   "execution_count": 33,
   "metadata": {},
   "outputs": [
    {
     "data": {
      "text/html": [
       "<div>\n",
       "<style scoped>\n",
       "    .dataframe tbody tr th:only-of-type {\n",
       "        vertical-align: middle;\n",
       "    }\n",
       "\n",
       "    .dataframe tbody tr th {\n",
       "        vertical-align: top;\n",
       "    }\n",
       "\n",
       "    .dataframe thead th {\n",
       "        text-align: right;\n",
       "    }\n",
       "</style>\n",
       "<table border=\"1\" class=\"dataframe\">\n",
       "  <thead>\n",
       "    <tr style=\"text-align: right;\">\n",
       "      <th></th>\n",
       "      <th>a</th>\n",
       "      <th>b</th>\n",
       "      <th>c</th>\n",
       "    </tr>\n",
       "  </thead>\n",
       "  <tbody>\n",
       "    <tr>\n",
       "      <th>x</th>\n",
       "      <td>1</td>\n",
       "      <td>2</td>\n",
       "      <td>3</td>\n",
       "    </tr>\n",
       "    <tr>\n",
       "      <th>y</th>\n",
       "      <td>4</td>\n",
       "      <td>5</td>\n",
       "      <td>6</td>\n",
       "    </tr>\n",
       "  </tbody>\n",
       "</table>\n",
       "</div>"
      ],
      "text/plain": [
       "   a  b  c\n",
       "x  1  2  3\n",
       "y  4  5  6"
      ]
     },
     "execution_count": 33,
     "metadata": {},
     "output_type": "execute_result"
    }
   ],
   "source": [
    "df.loc['x':'y']   # includes both endpoints (df.loc[x] and df.loc[y])"
   ]
  },
  {
   "cell_type": "code",
   "execution_count": 34,
   "metadata": {},
   "outputs": [
    {
     "data": {
      "text/html": [
       "<div>\n",
       "<style scoped>\n",
       "    .dataframe tbody tr th:only-of-type {\n",
       "        vertical-align: middle;\n",
       "    }\n",
       "\n",
       "    .dataframe tbody tr th {\n",
       "        vertical-align: top;\n",
       "    }\n",
       "\n",
       "    .dataframe thead th {\n",
       "        text-align: right;\n",
       "    }\n",
       "</style>\n",
       "<table border=\"1\" class=\"dataframe\">\n",
       "  <thead>\n",
       "    <tr style=\"text-align: right;\">\n",
       "      <th></th>\n",
       "      <th>a</th>\n",
       "      <th>b</th>\n",
       "      <th>c</th>\n",
       "    </tr>\n",
       "  </thead>\n",
       "  <tbody>\n",
       "    <tr>\n",
       "      <th>x</th>\n",
       "      <td>1</td>\n",
       "      <td>2</td>\n",
       "      <td>3</td>\n",
       "    </tr>\n",
       "    <tr>\n",
       "      <th>y</th>\n",
       "      <td>4</td>\n",
       "      <td>5</td>\n",
       "      <td>6</td>\n",
       "    </tr>\n",
       "  </tbody>\n",
       "</table>\n",
       "</div>"
      ],
      "text/plain": [
       "   a  b  c\n",
       "x  1  2  3\n",
       "y  4  5  6"
      ]
     },
     "execution_count": 34,
     "metadata": {},
     "output_type": "execute_result"
    }
   ],
   "source": [
    "df.iloc[0:2]     # excludes the right endpoint (df.iloc[2])"
   ]
  },
  {
   "cell_type": "code",
   "execution_count": 39,
   "metadata": {},
   "outputs": [
    {
     "name": "stdout",
     "output_type": "stream",
     "text": [
      "<class 'pandas.core.frame.DataFrame'>\n",
      "Index: 4 entries, x to w\n",
      "Data columns (total 3 columns):\n",
      " #   Column  Non-Null Count  Dtype\n",
      "---  ------  --------------  -----\n",
      " 0   a       4 non-null      int64\n",
      " 1   b       4 non-null      int64\n",
      " 2   c       4 non-null      int64\n",
      "dtypes: int64(3)\n",
      "memory usage: 488.0 bytes\n"
     ]
    }
   ],
   "source": [
    "df.info(memory_usage='deep')"
   ]
  },
  {
   "cell_type": "code",
   "execution_count": 40,
   "metadata": {},
   "outputs": [
    {
     "data": {
      "text/plain": [
       "28"
      ]
     },
     "execution_count": 40,
     "metadata": {},
     "output_type": "execute_result"
    }
   ],
   "source": [
    "import sys\n",
    "sys.getsizeof(5)"
   ]
  },
  {
   "cell_type": "code",
   "execution_count": 41,
   "metadata": {},
   "outputs": [],
   "source": [
    "df.loc['x', 'b'] = 200"
   ]
  },
  {
   "cell_type": "code",
   "execution_count": 42,
   "metadata": {},
   "outputs": [
    {
     "data": {
      "text/html": [
       "<div>\n",
       "<style scoped>\n",
       "    .dataframe tbody tr th:only-of-type {\n",
       "        vertical-align: middle;\n",
       "    }\n",
       "\n",
       "    .dataframe tbody tr th {\n",
       "        vertical-align: top;\n",
       "    }\n",
       "\n",
       "    .dataframe thead th {\n",
       "        text-align: right;\n",
       "    }\n",
       "</style>\n",
       "<table border=\"1\" class=\"dataframe\">\n",
       "  <thead>\n",
       "    <tr style=\"text-align: right;\">\n",
       "      <th></th>\n",
       "      <th>a</th>\n",
       "      <th>b</th>\n",
       "      <th>c</th>\n",
       "    </tr>\n",
       "  </thead>\n",
       "  <tbody>\n",
       "    <tr>\n",
       "      <th>x</th>\n",
       "      <td>1</td>\n",
       "      <td>200</td>\n",
       "      <td>3</td>\n",
       "    </tr>\n",
       "    <tr>\n",
       "      <th>y</th>\n",
       "      <td>4</td>\n",
       "      <td>5</td>\n",
       "      <td>6</td>\n",
       "    </tr>\n",
       "    <tr>\n",
       "      <th>z</th>\n",
       "      <td>7</td>\n",
       "      <td>8</td>\n",
       "      <td>9</td>\n",
       "    </tr>\n",
       "    <tr>\n",
       "      <th>w</th>\n",
       "      <td>7</td>\n",
       "      <td>8</td>\n",
       "      <td>9</td>\n",
       "    </tr>\n",
       "  </tbody>\n",
       "</table>\n",
       "</div>"
      ],
      "text/plain": [
       "   a    b  c\n",
       "x  1  200  3\n",
       "y  4    5  6\n",
       "z  7    8  9\n",
       "w  7    8  9"
      ]
     },
     "execution_count": 42,
     "metadata": {},
     "output_type": "execute_result"
    }
   ],
   "source": [
    "df"
   ]
  },
  {
   "cell_type": "code",
   "execution_count": 43,
   "metadata": {},
   "outputs": [
    {
     "data": {
      "text/plain": [
       "x    1\n",
       "y    4\n",
       "z    7\n",
       "w    7\n",
       "Name: a, dtype: int64"
      ]
     },
     "execution_count": 43,
     "metadata": {},
     "output_type": "execute_result"
    }
   ],
   "source": [
    "df['a']"
   ]
  },
  {
   "cell_type": "code",
   "execution_count": 44,
   "metadata": {},
   "outputs": [
    {
     "data": {
      "text/html": [
       "<div>\n",
       "<style scoped>\n",
       "    .dataframe tbody tr th:only-of-type {\n",
       "        vertical-align: middle;\n",
       "    }\n",
       "\n",
       "    .dataframe tbody tr th {\n",
       "        vertical-align: top;\n",
       "    }\n",
       "\n",
       "    .dataframe thead th {\n",
       "        text-align: right;\n",
       "    }\n",
       "</style>\n",
       "<table border=\"1\" class=\"dataframe\">\n",
       "  <thead>\n",
       "    <tr style=\"text-align: right;\">\n",
       "      <th></th>\n",
       "      <th>a</th>\n",
       "    </tr>\n",
       "  </thead>\n",
       "  <tbody>\n",
       "    <tr>\n",
       "      <th>x</th>\n",
       "      <td>1</td>\n",
       "    </tr>\n",
       "    <tr>\n",
       "      <th>y</th>\n",
       "      <td>4</td>\n",
       "    </tr>\n",
       "    <tr>\n",
       "      <th>z</th>\n",
       "      <td>7</td>\n",
       "    </tr>\n",
       "    <tr>\n",
       "      <th>w</th>\n",
       "      <td>7</td>\n",
       "    </tr>\n",
       "  </tbody>\n",
       "</table>\n",
       "</div>"
      ],
      "text/plain": [
       "   a\n",
       "x  1\n",
       "y  4\n",
       "z  7\n",
       "w  7"
      ]
     },
     "execution_count": 44,
     "metadata": {},
     "output_type": "execute_result"
    }
   ],
   "source": [
    "df2 = df[['a']]\n",
    "df2"
   ]
  },
  {
   "cell_type": "code",
   "execution_count": 45,
   "metadata": {
    "scrolled": true
   },
   "outputs": [
    {
     "data": {
      "text/plain": [
       "(4, 1)"
      ]
     },
     "execution_count": 45,
     "metadata": {},
     "output_type": "execute_result"
    }
   ],
   "source": [
    "df2.shape"
   ]
  },
  {
   "cell_type": "code",
   "execution_count": 46,
   "metadata": {},
   "outputs": [
    {
     "data": {
      "text/plain": [
       "x    1\n",
       "y    4\n",
       "z    7\n",
       "w    7\n",
       "Name: a, dtype: int64"
      ]
     },
     "execution_count": 46,
     "metadata": {},
     "output_type": "execute_result"
    }
   ],
   "source": [
    "df['a']"
   ]
  },
  {
   "cell_type": "code",
   "execution_count": 47,
   "metadata": {},
   "outputs": [
    {
     "data": {
      "text/plain": [
       "(4,)"
      ]
     },
     "execution_count": 47,
     "metadata": {},
     "output_type": "execute_result"
    }
   ],
   "source": [
    "df['a'].shape"
   ]
  },
  {
   "cell_type": "markdown",
   "metadata": {},
   "source": [
    "# Reading CSV data\n",
    "\n",
    "Most of the time, we *won't* be building `DataFrame`s out of the basic constructor, but rather using one of the readers built in to Pandas. One of these is `read_csv`:"
   ]
  },
  {
   "cell_type": "code",
   "execution_count": 51,
   "metadata": {},
   "outputs": [
    {
     "data": {
      "text/html": [
       "<div>\n",
       "<style scoped>\n",
       "    .dataframe tbody tr th:only-of-type {\n",
       "        vertical-align: middle;\n",
       "    }\n",
       "\n",
       "    .dataframe tbody tr th {\n",
       "        vertical-align: top;\n",
       "    }\n",
       "\n",
       "    .dataframe thead th {\n",
       "        text-align: right;\n",
       "    }\n",
       "</style>\n",
       "<table border=\"1\" class=\"dataframe\">\n",
       "  <thead>\n",
       "    <tr style=\"text-align: right;\">\n",
       "      <th></th>\n",
       "      <th>Unnamed: 0</th>\n",
       "      <th>F</th>\n",
       "      <th>TSLA</th>\n",
       "      <th>GOOG</th>\n",
       "      <th>IBM</th>\n",
       "      <th>AAPL</th>\n",
       "    </tr>\n",
       "  </thead>\n",
       "  <tbody>\n",
       "    <tr>\n",
       "      <th>0</th>\n",
       "      <td>2014-01-02</td>\n",
       "      <td>12.0890</td>\n",
       "      <td>150.10</td>\n",
       "      <td>NaN</td>\n",
       "      <td>157.6001</td>\n",
       "      <td>72.7741</td>\n",
       "    </tr>\n",
       "    <tr>\n",
       "      <th>1</th>\n",
       "      <td>2014-01-03</td>\n",
       "      <td>12.1438</td>\n",
       "      <td>149.56</td>\n",
       "      <td>NaN</td>\n",
       "      <td>158.5430</td>\n",
       "      <td>71.1756</td>\n",
       "    </tr>\n",
       "    <tr>\n",
       "      <th>2</th>\n",
       "      <td>2014-01-06</td>\n",
       "      <td>12.1986</td>\n",
       "      <td>147.00</td>\n",
       "      <td>NaN</td>\n",
       "      <td>157.9993</td>\n",
       "      <td>71.5637</td>\n",
       "    </tr>\n",
       "    <tr>\n",
       "      <th>3</th>\n",
       "      <td>2014-01-07</td>\n",
       "      <td>12.0420</td>\n",
       "      <td>149.36</td>\n",
       "      <td>NaN</td>\n",
       "      <td>161.1508</td>\n",
       "      <td>71.0516</td>\n",
       "    </tr>\n",
       "    <tr>\n",
       "      <th>4</th>\n",
       "      <td>2014-01-08</td>\n",
       "      <td>12.1673</td>\n",
       "      <td>151.28</td>\n",
       "      <td>NaN</td>\n",
       "      <td>159.6728</td>\n",
       "      <td>71.5019</td>\n",
       "    </tr>\n",
       "  </tbody>\n",
       "</table>\n",
       "</div>"
      ],
      "text/plain": [
       "   Unnamed: 0        F    TSLA  GOOG       IBM     AAPL\n",
       "0  2014-01-02  12.0890  150.10   NaN  157.6001  72.7741\n",
       "1  2014-01-03  12.1438  149.56   NaN  158.5430  71.1756\n",
       "2  2014-01-06  12.1986  147.00   NaN  157.9993  71.5637\n",
       "3  2014-01-07  12.0420  149.36   NaN  161.1508  71.0516\n",
       "4  2014-01-08  12.1673  151.28   NaN  159.6728  71.5019"
      ]
     },
     "execution_count": 51,
     "metadata": {},
     "output_type": "execute_result"
    }
   ],
   "source": [
    "df = pd.read_csv('./data/closing-prices.csv')\n",
    "df.head() # Only show the first few rows  aka df.iloc[:5]"
   ]
  },
  {
   "cell_type": "code",
   "execution_count": 52,
   "metadata": {},
   "outputs": [
    {
     "name": "stdout",
     "output_type": "stream",
     "text": [
      ",F,TSLA,GOOG,IBM,AAPL\r\n",
      "2014-01-02,12.089,150.1,,157.6001,72.7741\r\n",
      "2014-01-03,12.1438,149.56,,158.543,71.1756\r\n",
      "2014-01-06,12.1986,147.0,,157.9993,71.5637\r\n",
      "2014-01-07,12.042,149.36,,161.1508,71.0516\r\n",
      "2014-01-08,12.1673,151.28,,159.6728,71.5019\r\n",
      "2014-01-09,12.4022,147.53,,159.1716,70.5887\r\n",
      "2014-01-10,12.5822,145.7199,,159.0696,70.1178\r\n",
      "2014-01-13,12.6136,139.34,,156.4363,70.4849\r\n",
      "2014-01-14,12.8406,161.27,,157.9314,71.8874\r\n"
     ]
    }
   ],
   "source": [
    "!head data/closing-prices.csv"
   ]
  },
  {
   "cell_type": "markdown",
   "metadata": {},
   "source": [
    "The CSV reader is pretty good about inferring types, but not perfect. We can check lots of things about the structure of a `DataFrame` with the `.info()` method:"
   ]
  },
  {
   "cell_type": "code",
   "execution_count": 53,
   "metadata": {},
   "outputs": [
    {
     "name": "stdout",
     "output_type": "stream",
     "text": [
      "<class 'pandas.core.frame.DataFrame'>\n",
      "RangeIndex: 1007 entries, 0 to 1006\n",
      "Data columns (total 6 columns):\n",
      " #   Column      Non-Null Count  Dtype  \n",
      "---  ------      --------------  -----  \n",
      " 0   Unnamed: 0  1007 non-null   object \n",
      " 1   F           1007 non-null   float64\n",
      " 2   TSLA        1007 non-null   float64\n",
      " 3   GOOG        949 non-null    float64\n",
      " 4   IBM         1007 non-null   float64\n",
      " 5   AAPL        1007 non-null   float64\n",
      "dtypes: float64(5), object(1)\n",
      "memory usage: 105.3 KB\n"
     ]
    }
   ],
   "source": [
    "df.info(memory_usage='deep')"
   ]
  },
  {
   "cell_type": "code",
   "execution_count": 54,
   "metadata": {},
   "outputs": [
    {
     "name": "stdout",
     "output_type": "stream",
     "text": [
      "-rw-r--r-- 1 rick446 rick446 50156 Sep 11  2020 data/closing-prices.csv\r\n"
     ]
    }
   ],
   "source": [
    "ls -l data/closing-prices.csv"
   ]
  },
  {
   "cell_type": "code",
   "execution_count": 55,
   "metadata": {},
   "outputs": [
    {
     "data": {
      "text/plain": [
       "nan"
      ]
     },
     "execution_count": 55,
     "metadata": {},
     "output_type": "execute_result"
    }
   ],
   "source": [
    "float('nan')"
   ]
  },
  {
   "cell_type": "code",
   "execution_count": 59,
   "metadata": {},
   "outputs": [
    {
     "data": {
      "text/plain": [
       "False"
      ]
     },
     "execution_count": 59,
     "metadata": {},
     "output_type": "execute_result"
    }
   ],
   "source": [
    "np.nan == np.nan"
   ]
  },
  {
   "cell_type": "code",
   "execution_count": 57,
   "metadata": {},
   "outputs": [
    {
     "data": {
      "text/plain": [
       "True"
      ]
     },
     "execution_count": 57,
     "metadata": {},
     "output_type": "execute_result"
    }
   ],
   "source": [
    "np.nan is np.nan"
   ]
  },
  {
   "cell_type": "code",
   "execution_count": 60,
   "metadata": {},
   "outputs": [
    {
     "name": "stdout",
     "output_type": "stream",
     "text": [
      "-rw-r--r-- 1 rick446 rick446 49K Sep 11  2020 ./data/closing-prices.csv\r\n"
     ]
    }
   ],
   "source": [
    "!ls -lh ./data/closing-prices.csv"
   ]
  },
  {
   "cell_type": "code",
   "execution_count": 61,
   "metadata": {},
   "outputs": [],
   "source": [
    "import csv\n",
    "with open('./data/closing-prices.csv') as f:\n",
    "    rows = list(csv.reader(f))"
   ]
  },
  {
   "cell_type": "code",
   "execution_count": 62,
   "metadata": {},
   "outputs": [
    {
     "data": {
      "text/plain": [
       "1008"
      ]
     },
     "execution_count": 62,
     "metadata": {},
     "output_type": "execute_result"
    }
   ],
   "source": [
    "len(rows)"
   ]
  },
  {
   "cell_type": "code",
   "execution_count": 63,
   "metadata": {},
   "outputs": [
    {
     "data": {
      "text/plain": [
       "[['', 'F', 'TSLA', 'GOOG', 'IBM', 'AAPL'],\n",
       " ['2014-01-02', '12.089', '150.1', '', '157.6001', '72.7741'],\n",
       " ['2014-01-03', '12.1438', '149.56', '', '158.543', '71.1756'],\n",
       " ['2014-01-06', '12.1986', '147.0', '', '157.9993', '71.5637'],\n",
       " ['2014-01-07', '12.042', '149.36', '', '161.1508', '71.0516']]"
      ]
     },
     "execution_count": 63,
     "metadata": {},
     "output_type": "execute_result"
    }
   ],
   "source": [
    "rows[:5]"
   ]
  },
  {
   "cell_type": "code",
   "execution_count": 64,
   "metadata": {},
   "outputs": [
    {
     "name": "stdout",
     "output_type": "stream",
     "text": [
      "Looking in links: /home/rick446/src/wheelhouse\n",
      "Requirement already satisfied: pympler in /home/rick446/.virtualenvs/classes/lib/python3.8/site-packages (0.9)\n",
      "\u001b[33mWARNING: You are using pip version 20.2.3; however, version 21.3.1 is available.\n",
      "You should consider upgrading via the '/home/rick446/.virtualenvs/classes/bin/python -m pip install --upgrade pip' command.\u001b[0m\n"
     ]
    }
   ],
   "source": [
    "!pip install pympler"
   ]
  },
  {
   "cell_type": "code",
   "execution_count": 65,
   "metadata": {},
   "outputs": [],
   "source": [
    "import pympler"
   ]
  },
  {
   "cell_type": "code",
   "execution_count": 66,
   "metadata": {},
   "outputs": [],
   "source": [
    "import pympler.asizeof"
   ]
  },
  {
   "cell_type": "code",
   "execution_count": 67,
   "metadata": {},
   "outputs": [
    {
     "data": {
      "text/plain": [
       "485176"
      ]
     },
     "execution_count": 67,
     "metadata": {},
     "output_type": "execute_result"
    }
   ],
   "source": [
    "pympler.asizeof.asizeof(rows)"
   ]
  },
  {
   "cell_type": "markdown",
   "metadata": {},
   "source": [
    "The first column was read in as an `object` (meaning Pandas couldn't be more specific about its type, usually what happens with string data). Let's tell Pandas that column is a date:"
   ]
  },
  {
   "cell_type": "code",
   "execution_count": 68,
   "metadata": {},
   "outputs": [
    {
     "data": {
      "text/plain": [
       "0      2014-01-02\n",
       "1      2014-01-03\n",
       "2      2014-01-06\n",
       "3      2014-01-07\n",
       "4      2014-01-08\n",
       "          ...    \n",
       "1002   2017-12-22\n",
       "1003   2017-12-26\n",
       "1004   2017-12-27\n",
       "1005   2017-12-28\n",
       "1006   2017-12-29\n",
       "Name: Unnamed: 0, Length: 1007, dtype: datetime64[ns]"
      ]
     },
     "execution_count": 68,
     "metadata": {},
     "output_type": "execute_result"
    }
   ],
   "source": [
    "pd.to_datetime(df['Unnamed: 0'])"
   ]
  },
  {
   "cell_type": "code",
   "execution_count": 69,
   "metadata": {},
   "outputs": [
    {
     "name": "stdout",
     "output_type": "stream",
     "text": [
      "<class 'pandas.core.frame.DataFrame'>\n",
      "RangeIndex: 1007 entries, 0 to 1006\n",
      "Data columns (total 6 columns):\n",
      " #   Column      Non-Null Count  Dtype         \n",
      "---  ------      --------------  -----         \n",
      " 0   Unnamed: 0  1007 non-null   datetime64[ns]\n",
      " 1   F           1007 non-null   float64       \n",
      " 2   TSLA        1007 non-null   float64       \n",
      " 3   GOOG        949 non-null    float64       \n",
      " 4   IBM         1007 non-null   float64       \n",
      " 5   AAPL        1007 non-null   float64       \n",
      "dtypes: datetime64[ns](1), float64(5)\n",
      "memory usage: 47.3 KB\n"
     ]
    }
   ],
   "source": [
    "df['Unnamed: 0'] = pd.to_datetime(df['Unnamed: 0'])\n",
    "df.info(memory_usage='deep')"
   ]
  },
  {
   "cell_type": "markdown",
   "metadata": {},
   "source": [
    "We can also parse datetimes during the import:"
   ]
  },
  {
   "cell_type": "code",
   "execution_count": 70,
   "metadata": {},
   "outputs": [
    {
     "name": "stdout",
     "output_type": "stream",
     "text": [
      "<class 'pandas.core.frame.DataFrame'>\n",
      "RangeIndex: 1007 entries, 0 to 1006\n",
      "Data columns (total 6 columns):\n",
      " #   Column      Non-Null Count  Dtype         \n",
      "---  ------      --------------  -----         \n",
      " 0   Unnamed: 0  1007 non-null   datetime64[ns]\n",
      " 1   F           1007 non-null   float64       \n",
      " 2   TSLA        1007 non-null   float64       \n",
      " 3   GOOG        949 non-null    float64       \n",
      " 4   IBM         1007 non-null   float64       \n",
      " 5   AAPL        1007 non-null   float64       \n",
      "dtypes: datetime64[ns](1), float64(5)\n",
      "memory usage: 47.3 KB\n"
     ]
    }
   ],
   "source": [
    "df = pd.read_csv('./data/closing-prices.csv', parse_dates=[0])\n",
    "df.info()"
   ]
  },
  {
   "cell_type": "code",
   "execution_count": 71,
   "metadata": {},
   "outputs": [
    {
     "name": "stdout",
     "output_type": "stream",
     "text": [
      "-rw-r--r-- 1 rick446 rick446 49K Sep 11  2020 ./data/closing-prices.csv\r\n"
     ]
    }
   ],
   "source": [
    "ls -lh ./data/closing-prices.csv"
   ]
  },
  {
   "cell_type": "code",
   "execution_count": 72,
   "metadata": {},
   "outputs": [
    {
     "data": {
      "text/html": [
       "<div>\n",
       "<style scoped>\n",
       "    .dataframe tbody tr th:only-of-type {\n",
       "        vertical-align: middle;\n",
       "    }\n",
       "\n",
       "    .dataframe tbody tr th {\n",
       "        vertical-align: top;\n",
       "    }\n",
       "\n",
       "    .dataframe thead th {\n",
       "        text-align: right;\n",
       "    }\n",
       "</style>\n",
       "<table border=\"1\" class=\"dataframe\">\n",
       "  <thead>\n",
       "    <tr style=\"text-align: right;\">\n",
       "      <th></th>\n",
       "      <th>Unnamed: 0</th>\n",
       "      <th>F</th>\n",
       "      <th>TSLA</th>\n",
       "      <th>GOOG</th>\n",
       "      <th>IBM</th>\n",
       "      <th>AAPL</th>\n",
       "    </tr>\n",
       "  </thead>\n",
       "  <tbody>\n",
       "    <tr>\n",
       "      <th>0</th>\n",
       "      <td>2014-01-02</td>\n",
       "      <td>12.0890</td>\n",
       "      <td>150.10</td>\n",
       "      <td>NaN</td>\n",
       "      <td>157.6001</td>\n",
       "      <td>72.7741</td>\n",
       "    </tr>\n",
       "    <tr>\n",
       "      <th>1</th>\n",
       "      <td>2014-01-03</td>\n",
       "      <td>12.1438</td>\n",
       "      <td>149.56</td>\n",
       "      <td>NaN</td>\n",
       "      <td>158.5430</td>\n",
       "      <td>71.1756</td>\n",
       "    </tr>\n",
       "    <tr>\n",
       "      <th>2</th>\n",
       "      <td>2014-01-06</td>\n",
       "      <td>12.1986</td>\n",
       "      <td>147.00</td>\n",
       "      <td>NaN</td>\n",
       "      <td>157.9993</td>\n",
       "      <td>71.5637</td>\n",
       "    </tr>\n",
       "    <tr>\n",
       "      <th>3</th>\n",
       "      <td>2014-01-07</td>\n",
       "      <td>12.0420</td>\n",
       "      <td>149.36</td>\n",
       "      <td>NaN</td>\n",
       "      <td>161.1508</td>\n",
       "      <td>71.0516</td>\n",
       "    </tr>\n",
       "    <tr>\n",
       "      <th>4</th>\n",
       "      <td>2014-01-08</td>\n",
       "      <td>12.1673</td>\n",
       "      <td>151.28</td>\n",
       "      <td>NaN</td>\n",
       "      <td>159.6728</td>\n",
       "      <td>71.5019</td>\n",
       "    </tr>\n",
       "  </tbody>\n",
       "</table>\n",
       "</div>"
      ],
      "text/plain": [
       "  Unnamed: 0        F    TSLA  GOOG       IBM     AAPL\n",
       "0 2014-01-02  12.0890  150.10   NaN  157.6001  72.7741\n",
       "1 2014-01-03  12.1438  149.56   NaN  158.5430  71.1756\n",
       "2 2014-01-06  12.1986  147.00   NaN  157.9993  71.5637\n",
       "3 2014-01-07  12.0420  149.36   NaN  161.1508  71.0516\n",
       "4 2014-01-08  12.1673  151.28   NaN  159.6728  71.5019"
      ]
     },
     "execution_count": 72,
     "metadata": {},
     "output_type": "execute_result"
    }
   ],
   "source": [
    "df.iloc[:5]"
   ]
  },
  {
   "cell_type": "code",
   "execution_count": 73,
   "metadata": {},
   "outputs": [
    {
     "data": {
      "text/html": [
       "<div>\n",
       "<style scoped>\n",
       "    .dataframe tbody tr th:only-of-type {\n",
       "        vertical-align: middle;\n",
       "    }\n",
       "\n",
       "    .dataframe tbody tr th {\n",
       "        vertical-align: top;\n",
       "    }\n",
       "\n",
       "    .dataframe thead th {\n",
       "        text-align: right;\n",
       "    }\n",
       "</style>\n",
       "<table border=\"1\" class=\"dataframe\">\n",
       "  <thead>\n",
       "    <tr style=\"text-align: right;\">\n",
       "      <th></th>\n",
       "      <th>Unnamed: 0</th>\n",
       "      <th>F</th>\n",
       "      <th>TSLA</th>\n",
       "      <th>GOOG</th>\n",
       "      <th>IBM</th>\n",
       "      <th>AAPL</th>\n",
       "    </tr>\n",
       "  </thead>\n",
       "  <tbody>\n",
       "    <tr>\n",
       "      <th>1002</th>\n",
       "      <td>2017-12-22</td>\n",
       "      <td>11.9489</td>\n",
       "      <td>325.20</td>\n",
       "      <td>1060.12</td>\n",
       "      <td>147.7588</td>\n",
       "      <td>173.0230</td>\n",
       "    </tr>\n",
       "    <tr>\n",
       "      <th>1003</th>\n",
       "      <td>2017-12-26</td>\n",
       "      <td>11.9679</td>\n",
       "      <td>317.29</td>\n",
       "      <td>1056.74</td>\n",
       "      <td>148.0786</td>\n",
       "      <td>168.6334</td>\n",
       "    </tr>\n",
       "    <tr>\n",
       "      <th>1004</th>\n",
       "      <td>2017-12-27</td>\n",
       "      <td>11.8729</td>\n",
       "      <td>311.64</td>\n",
       "      <td>1049.37</td>\n",
       "      <td>148.3693</td>\n",
       "      <td>168.6630</td>\n",
       "    </tr>\n",
       "    <tr>\n",
       "      <th>1005</th>\n",
       "      <td>2017-12-28</td>\n",
       "      <td>11.9489</td>\n",
       "      <td>315.36</td>\n",
       "      <td>1048.14</td>\n",
       "      <td>149.2510</td>\n",
       "      <td>169.1376</td>\n",
       "    </tr>\n",
       "    <tr>\n",
       "      <th>1006</th>\n",
       "      <td>2017-12-29</td>\n",
       "      <td>11.8634</td>\n",
       "      <td>311.35</td>\n",
       "      <td>1046.40</td>\n",
       "      <td>148.6502</td>\n",
       "      <td>167.3086</td>\n",
       "    </tr>\n",
       "  </tbody>\n",
       "</table>\n",
       "</div>"
      ],
      "text/plain": [
       "     Unnamed: 0        F    TSLA     GOOG       IBM      AAPL\n",
       "1002 2017-12-22  11.9489  325.20  1060.12  147.7588  173.0230\n",
       "1003 2017-12-26  11.9679  317.29  1056.74  148.0786  168.6334\n",
       "1004 2017-12-27  11.8729  311.64  1049.37  148.3693  168.6630\n",
       "1005 2017-12-28  11.9489  315.36  1048.14  149.2510  169.1376\n",
       "1006 2017-12-29  11.8634  311.35  1046.40  148.6502  167.3086"
      ]
     },
     "execution_count": 73,
     "metadata": {},
     "output_type": "execute_result"
    }
   ],
   "source": [
    "df.tail()"
   ]
  },
  {
   "cell_type": "markdown",
   "metadata": {},
   "source": [
    "We can set the index of the dataframe as well:"
   ]
  },
  {
   "cell_type": "code",
   "execution_count": 78,
   "metadata": {},
   "outputs": [
    {
     "data": {
      "text/html": [
       "<div>\n",
       "<style scoped>\n",
       "    .dataframe tbody tr th:only-of-type {\n",
       "        vertical-align: middle;\n",
       "    }\n",
       "\n",
       "    .dataframe tbody tr th {\n",
       "        vertical-align: top;\n",
       "    }\n",
       "\n",
       "    .dataframe thead th {\n",
       "        text-align: right;\n",
       "    }\n",
       "</style>\n",
       "<table border=\"1\" class=\"dataframe\">\n",
       "  <thead>\n",
       "    <tr style=\"text-align: right;\">\n",
       "      <th></th>\n",
       "      <th>F</th>\n",
       "      <th>TSLA</th>\n",
       "      <th>GOOG</th>\n",
       "      <th>IBM</th>\n",
       "      <th>AAPL</th>\n",
       "    </tr>\n",
       "    <tr>\n",
       "      <th>Unnamed: 0</th>\n",
       "      <th></th>\n",
       "      <th></th>\n",
       "      <th></th>\n",
       "      <th></th>\n",
       "      <th></th>\n",
       "    </tr>\n",
       "  </thead>\n",
       "  <tbody>\n",
       "    <tr>\n",
       "      <th>2014-01-02</th>\n",
       "      <td>12.0890</td>\n",
       "      <td>150.10</td>\n",
       "      <td>NaN</td>\n",
       "      <td>157.6001</td>\n",
       "      <td>72.7741</td>\n",
       "    </tr>\n",
       "    <tr>\n",
       "      <th>2014-01-03</th>\n",
       "      <td>12.1438</td>\n",
       "      <td>149.56</td>\n",
       "      <td>NaN</td>\n",
       "      <td>158.5430</td>\n",
       "      <td>71.1756</td>\n",
       "    </tr>\n",
       "    <tr>\n",
       "      <th>2014-01-06</th>\n",
       "      <td>12.1986</td>\n",
       "      <td>147.00</td>\n",
       "      <td>NaN</td>\n",
       "      <td>157.9993</td>\n",
       "      <td>71.5637</td>\n",
       "    </tr>\n",
       "    <tr>\n",
       "      <th>2014-01-07</th>\n",
       "      <td>12.0420</td>\n",
       "      <td>149.36</td>\n",
       "      <td>NaN</td>\n",
       "      <td>161.1508</td>\n",
       "      <td>71.0516</td>\n",
       "    </tr>\n",
       "    <tr>\n",
       "      <th>2014-01-08</th>\n",
       "      <td>12.1673</td>\n",
       "      <td>151.28</td>\n",
       "      <td>NaN</td>\n",
       "      <td>159.6728</td>\n",
       "      <td>71.5019</td>\n",
       "    </tr>\n",
       "  </tbody>\n",
       "</table>\n",
       "</div>"
      ],
      "text/plain": [
       "                  F    TSLA  GOOG       IBM     AAPL\n",
       "Unnamed: 0                                          \n",
       "2014-01-02  12.0890  150.10   NaN  157.6001  72.7741\n",
       "2014-01-03  12.1438  149.56   NaN  158.5430  71.1756\n",
       "2014-01-06  12.1986  147.00   NaN  157.9993  71.5637\n",
       "2014-01-07  12.0420  149.36   NaN  161.1508  71.0516\n",
       "2014-01-08  12.1673  151.28   NaN  159.6728  71.5019"
      ]
     },
     "execution_count": 78,
     "metadata": {},
     "output_type": "execute_result"
    }
   ],
   "source": [
    "df = df.set_index('Unnamed: 0')  # also df.set_index('Unnamed: 0', inplace=True)\n",
    "df.head()"
   ]
  },
  {
   "cell_type": "code",
   "execution_count": 79,
   "metadata": {},
   "outputs": [
    {
     "name": "stdout",
     "output_type": "stream",
     "text": [
      "<class 'pandas.core.frame.DataFrame'>\n",
      "DatetimeIndex: 1007 entries, 2014-01-02 to 2017-12-29\n",
      "Data columns (total 5 columns):\n",
      " #   Column  Non-Null Count  Dtype  \n",
      "---  ------  --------------  -----  \n",
      " 0   F       1007 non-null   float64\n",
      " 1   TSLA    1007 non-null   float64\n",
      " 2   GOOG    949 non-null    float64\n",
      " 3   IBM     1007 non-null   float64\n",
      " 4   AAPL    1007 non-null   float64\n",
      "dtypes: float64(5)\n",
      "memory usage: 47.2 KB\n"
     ]
    }
   ],
   "source": [
    "df.info(memory_usage='deep')"
   ]
  },
  {
   "cell_type": "markdown",
   "metadata": {},
   "source": [
    "Its even better if we do it when we read in the frame:"
   ]
  },
  {
   "cell_type": "code",
   "execution_count": 80,
   "metadata": {},
   "outputs": [
    {
     "name": "stdout",
     "output_type": "stream",
     "text": [
      "<class 'pandas.core.frame.DataFrame'>\n",
      "DatetimeIndex: 1007 entries, 2014-01-02 to 2017-12-29\n",
      "Data columns (total 5 columns):\n",
      " #   Column  Non-Null Count  Dtype  \n",
      "---  ------  --------------  -----  \n",
      " 0   F       1007 non-null   float64\n",
      " 1   TSLA    1007 non-null   float64\n",
      " 2   GOOG    949 non-null    float64\n",
      " 3   IBM     1007 non-null   float64\n",
      " 4   AAPL    1007 non-null   float64\n",
      "dtypes: float64(5)\n",
      "memory usage: 47.2 KB\n"
     ]
    }
   ],
   "source": [
    "df = pd.read_csv('./data/closing-prices.csv', index_col=0, parse_dates=[0])\n",
    "df.info()"
   ]
  },
  {
   "cell_type": "code",
   "execution_count": 81,
   "metadata": {},
   "outputs": [
    {
     "data": {
      "text/html": [
       "<div>\n",
       "<style scoped>\n",
       "    .dataframe tbody tr th:only-of-type {\n",
       "        vertical-align: middle;\n",
       "    }\n",
       "\n",
       "    .dataframe tbody tr th {\n",
       "        vertical-align: top;\n",
       "    }\n",
       "\n",
       "    .dataframe thead th {\n",
       "        text-align: right;\n",
       "    }\n",
       "</style>\n",
       "<table border=\"1\" class=\"dataframe\">\n",
       "  <thead>\n",
       "    <tr style=\"text-align: right;\">\n",
       "      <th></th>\n",
       "      <th>F</th>\n",
       "      <th>TSLA</th>\n",
       "      <th>GOOG</th>\n",
       "      <th>IBM</th>\n",
       "      <th>AAPL</th>\n",
       "    </tr>\n",
       "  </thead>\n",
       "  <tbody>\n",
       "    <tr>\n",
       "      <th>2014-01-02</th>\n",
       "      <td>12.0890</td>\n",
       "      <td>150.10</td>\n",
       "      <td>NaN</td>\n",
       "      <td>157.6001</td>\n",
       "      <td>72.7741</td>\n",
       "    </tr>\n",
       "    <tr>\n",
       "      <th>2014-01-03</th>\n",
       "      <td>12.1438</td>\n",
       "      <td>149.56</td>\n",
       "      <td>NaN</td>\n",
       "      <td>158.5430</td>\n",
       "      <td>71.1756</td>\n",
       "    </tr>\n",
       "    <tr>\n",
       "      <th>2014-01-06</th>\n",
       "      <td>12.1986</td>\n",
       "      <td>147.00</td>\n",
       "      <td>NaN</td>\n",
       "      <td>157.9993</td>\n",
       "      <td>71.5637</td>\n",
       "    </tr>\n",
       "    <tr>\n",
       "      <th>2014-01-07</th>\n",
       "      <td>12.0420</td>\n",
       "      <td>149.36</td>\n",
       "      <td>NaN</td>\n",
       "      <td>161.1508</td>\n",
       "      <td>71.0516</td>\n",
       "    </tr>\n",
       "    <tr>\n",
       "      <th>2014-01-08</th>\n",
       "      <td>12.1673</td>\n",
       "      <td>151.28</td>\n",
       "      <td>NaN</td>\n",
       "      <td>159.6728</td>\n",
       "      <td>71.5019</td>\n",
       "    </tr>\n",
       "  </tbody>\n",
       "</table>\n",
       "</div>"
      ],
      "text/plain": [
       "                  F    TSLA  GOOG       IBM     AAPL\n",
       "2014-01-02  12.0890  150.10   NaN  157.6001  72.7741\n",
       "2014-01-03  12.1438  149.56   NaN  158.5430  71.1756\n",
       "2014-01-06  12.1986  147.00   NaN  157.9993  71.5637\n",
       "2014-01-07  12.0420  149.36   NaN  161.1508  71.0516\n",
       "2014-01-08  12.1673  151.28   NaN  159.6728  71.5019"
      ]
     },
     "execution_count": 81,
     "metadata": {},
     "output_type": "execute_result"
    }
   ],
   "source": [
    "df.head()"
   ]
  },
  {
   "cell_type": "code",
   "execution_count": 82,
   "metadata": {},
   "outputs": [
    {
     "data": {
      "text/plain": [
       "F        12.1438\n",
       "TSLA    149.5600\n",
       "GOOG         NaN\n",
       "IBM     158.5430\n",
       "AAPL     71.1756\n",
       "Name: 2014-01-03 00:00:00, dtype: float64"
      ]
     },
     "execution_count": 82,
     "metadata": {},
     "output_type": "execute_result"
    }
   ],
   "source": [
    "df.loc['1/3/14']"
   ]
  },
  {
   "cell_type": "code",
   "execution_count": 83,
   "metadata": {},
   "outputs": [
    {
     "data": {
      "text/plain": [
       "F        12.1438\n",
       "TSLA    149.5600\n",
       "GOOG         NaN\n",
       "IBM     158.5430\n",
       "AAPL     71.1756\n",
       "Name: 2014-01-03 00:00:00, dtype: float64"
      ]
     },
     "execution_count": 83,
     "metadata": {},
     "output_type": "execute_result"
    }
   ],
   "source": [
    "df.loc['Jan 3 2014']"
   ]
  },
  {
   "cell_type": "code",
   "execution_count": 84,
   "metadata": {},
   "outputs": [
    {
     "data": {
      "text/plain": [
       "F        12.1438\n",
       "TSLA    149.5600\n",
       "GOOG         NaN\n",
       "IBM     158.5430\n",
       "AAPL     71.1756\n",
       "Name: 2014-01-03 00:00:00, dtype: float64"
      ]
     },
     "execution_count": 84,
     "metadata": {},
     "output_type": "execute_result"
    }
   ],
   "source": [
    "df.iloc[1]"
   ]
  },
  {
   "cell_type": "code",
   "execution_count": 85,
   "metadata": {},
   "outputs": [],
   "source": [
    "!cp ./data/closing-prices.csv ./data/closing-prices-2.csv\n",
    "!gzip -f ./data/closing-prices-2.csv"
   ]
  },
  {
   "cell_type": "code",
   "execution_count": 86,
   "metadata": {},
   "outputs": [
    {
     "name": "stdout",
     "output_type": "stream",
     "text": [
      "-rw-r--r-- 1 rick446 rick446 20K Nov  3 10:26 ./data/closing-prices-2.csv.gz\r\n"
     ]
    }
   ],
   "source": [
    "!ls -lh ./data/closing-prices-2.csv.gz"
   ]
  },
  {
   "cell_type": "code",
   "execution_count": 87,
   "metadata": {},
   "outputs": [
    {
     "name": "stdout",
     "output_type": "stream",
     "text": [
      "<class 'pandas.core.frame.DataFrame'>\n",
      "DatetimeIndex: 1007 entries, 2014-01-02 to 2017-12-29\n",
      "Data columns (total 5 columns):\n",
      " #   Column  Non-Null Count  Dtype  \n",
      "---  ------  --------------  -----  \n",
      " 0   F       1007 non-null   float16\n",
      " 1   TSLA    1007 non-null   float16\n",
      " 2   GOOG    949 non-null    float16\n",
      " 3   IBM     1007 non-null   float16\n",
      " 4   AAPL    1007 non-null   float16\n",
      "dtypes: float16(5)\n",
      "memory usage: 17.7 KB\n"
     ]
    }
   ],
   "source": [
    "df = pd.read_csv(\n",
    "    './data/closing-prices-2.csv.gz', \n",
    "    index_col=0, \n",
    "    parse_dates=[0], \n",
    "    dtype=np.float16,\n",
    ")\n",
    "df.info()"
   ]
  },
  {
   "cell_type": "markdown",
   "metadata": {},
   "source": [
    "(If you install s3fs, you can even read CSVs from s3://BUCKET/KEY/...csv.gz urls!)"
   ]
  },
  {
   "cell_type": "markdown",
   "metadata": {},
   "source": [
    "## Reading from external APIs\n",
    "\n",
    "There are some data sources for market data available in the pandas_datareader package:"
   ]
  },
  {
   "cell_type": "code",
   "execution_count": 88,
   "metadata": {},
   "outputs": [
    {
     "name": "stdout",
     "output_type": "stream",
     "text": [
      "Looking in links: /home/rick446/src/wheelhouse\n",
      "Requirement already up-to-date: pandas_datareader in /home/rick446/.virtualenvs/classes/lib/python3.8/site-packages (0.10.0)\n",
      "Requirement already satisfied, skipping upgrade: requests>=2.19.0 in /home/rick446/.virtualenvs/classes/lib/python3.8/site-packages (from pandas_datareader) (2.26.0)\n",
      "Requirement already satisfied, skipping upgrade: pandas>=0.23 in /home/rick446/.virtualenvs/classes/lib/python3.8/site-packages (from pandas_datareader) (1.1.2)\n",
      "Requirement already satisfied, skipping upgrade: lxml in /home/rick446/.virtualenvs/classes/lib/python3.8/site-packages (from pandas_datareader) (4.6.4)\n",
      "Requirement already satisfied, skipping upgrade: certifi>=2017.4.17 in /home/rick446/.virtualenvs/classes/lib/python3.8/site-packages (from requests>=2.19.0->pandas_datareader) (2020.6.20)\n",
      "Requirement already satisfied, skipping upgrade: urllib3<1.27,>=1.21.1 in /home/rick446/.virtualenvs/classes/lib/python3.8/site-packages (from requests>=2.19.0->pandas_datareader) (1.25.10)\n",
      "Requirement already satisfied, skipping upgrade: idna<4,>=2.5; python_version >= \"3\" in /home/rick446/.virtualenvs/classes/lib/python3.8/site-packages (from requests>=2.19.0->pandas_datareader) (2.10)\n",
      "Requirement already satisfied, skipping upgrade: charset-normalizer~=2.0.0; python_version >= \"3\" in /home/rick446/.virtualenvs/classes/lib/python3.8/site-packages (from requests>=2.19.0->pandas_datareader) (2.0.7)\n",
      "Requirement already satisfied, skipping upgrade: numpy>=1.15.4 in /home/rick446/.virtualenvs/classes/lib/python3.8/site-packages (from pandas>=0.23->pandas_datareader) (1.20.1)\n",
      "Requirement already satisfied, skipping upgrade: pytz>=2017.2 in /home/rick446/.virtualenvs/classes/lib/python3.8/site-packages (from pandas>=0.23->pandas_datareader) (2020.1)\n",
      "Requirement already satisfied, skipping upgrade: python-dateutil>=2.7.3 in /home/rick446/.virtualenvs/classes/lib/python3.8/site-packages (from pandas>=0.23->pandas_datareader) (2.8.1)\n",
      "Requirement already satisfied, skipping upgrade: six>=1.5 in /home/rick446/.virtualenvs/classes/lib/python3.8/site-packages (from python-dateutil>=2.7.3->pandas>=0.23->pandas_datareader) (1.15.0)\n",
      "\u001b[33mWARNING: You are using pip version 20.2.3; however, version 21.3.1 is available.\n",
      "You should consider upgrading via the '/home/rick446/.virtualenvs/classes/bin/python -m pip install --upgrade pip' command.\u001b[0m\n"
     ]
    }
   ],
   "source": [
    "!pip install -U pandas_datareader"
   ]
  },
  {
   "cell_type": "code",
   "execution_count": 89,
   "metadata": {},
   "outputs": [
    {
     "data": {
      "text/html": [
       "<div>\n",
       "<style scoped>\n",
       "    .dataframe tbody tr th:only-of-type {\n",
       "        vertical-align: middle;\n",
       "    }\n",
       "\n",
       "    .dataframe tbody tr th {\n",
       "        vertical-align: top;\n",
       "    }\n",
       "\n",
       "    .dataframe thead tr th {\n",
       "        text-align: left;\n",
       "    }\n",
       "\n",
       "    .dataframe thead tr:last-of-type th {\n",
       "        text-align: right;\n",
       "    }\n",
       "</style>\n",
       "<table border=\"1\" class=\"dataframe\">\n",
       "  <thead>\n",
       "    <tr>\n",
       "      <th>Attributes</th>\n",
       "      <th colspan=\"6\" halign=\"left\">Adj Close</th>\n",
       "      <th colspan=\"4\" halign=\"left\">Close</th>\n",
       "      <th>...</th>\n",
       "      <th colspan=\"4\" halign=\"left\">Open</th>\n",
       "      <th colspan=\"6\" halign=\"left\">Volume</th>\n",
       "    </tr>\n",
       "    <tr>\n",
       "      <th>Symbols</th>\n",
       "      <th>F</th>\n",
       "      <th>TSLA</th>\n",
       "      <th>GOOG</th>\n",
       "      <th>IBM</th>\n",
       "      <th>AAPL</th>\n",
       "      <th>CRM</th>\n",
       "      <th>F</th>\n",
       "      <th>TSLA</th>\n",
       "      <th>GOOG</th>\n",
       "      <th>IBM</th>\n",
       "      <th>...</th>\n",
       "      <th>GOOG</th>\n",
       "      <th>IBM</th>\n",
       "      <th>AAPL</th>\n",
       "      <th>CRM</th>\n",
       "      <th>F</th>\n",
       "      <th>TSLA</th>\n",
       "      <th>GOOG</th>\n",
       "      <th>IBM</th>\n",
       "      <th>AAPL</th>\n",
       "      <th>CRM</th>\n",
       "    </tr>\n",
       "    <tr>\n",
       "      <th>Date</th>\n",
       "      <th></th>\n",
       "      <th></th>\n",
       "      <th></th>\n",
       "      <th></th>\n",
       "      <th></th>\n",
       "      <th></th>\n",
       "      <th></th>\n",
       "      <th></th>\n",
       "      <th></th>\n",
       "      <th></th>\n",
       "      <th></th>\n",
       "      <th></th>\n",
       "      <th></th>\n",
       "      <th></th>\n",
       "      <th></th>\n",
       "      <th></th>\n",
       "      <th></th>\n",
       "      <th></th>\n",
       "      <th></th>\n",
       "      <th></th>\n",
       "      <th></th>\n",
       "    </tr>\n",
       "  </thead>\n",
       "  <tbody>\n",
       "    <tr>\n",
       "      <th>2016-01-04</th>\n",
       "      <td>10.638138</td>\n",
       "      <td>44.681999</td>\n",
       "      <td>741.840027</td>\n",
       "      <td>105.509605</td>\n",
       "      <td>24.286827</td>\n",
       "      <td>76.709999</td>\n",
       "      <td>13.97</td>\n",
       "      <td>44.681999</td>\n",
       "      <td>741.840027</td>\n",
       "      <td>135.949997</td>\n",
       "      <td>...</td>\n",
       "      <td>743.000000</td>\n",
       "      <td>135.600006</td>\n",
       "      <td>25.652500</td>\n",
       "      <td>77.139999</td>\n",
       "      <td>38618500.0</td>\n",
       "      <td>34135500.0</td>\n",
       "      <td>3272800.0</td>\n",
       "      <td>5229400.0</td>\n",
       "      <td>270597600.0</td>\n",
       "      <td>4919200.0</td>\n",
       "    </tr>\n",
       "    <tr>\n",
       "      <th>2016-01-05</th>\n",
       "      <td>10.447762</td>\n",
       "      <td>44.686001</td>\n",
       "      <td>742.580017</td>\n",
       "      <td>105.431984</td>\n",
       "      <td>23.678223</td>\n",
       "      <td>77.050003</td>\n",
       "      <td>13.72</td>\n",
       "      <td>44.686001</td>\n",
       "      <td>742.580017</td>\n",
       "      <td>135.850006</td>\n",
       "      <td>...</td>\n",
       "      <td>746.450012</td>\n",
       "      <td>136.759995</td>\n",
       "      <td>26.437500</td>\n",
       "      <td>77.070000</td>\n",
       "      <td>50267500.0</td>\n",
       "      <td>15934000.0</td>\n",
       "      <td>1950700.0</td>\n",
       "      <td>3924800.0</td>\n",
       "      <td>223164000.0</td>\n",
       "      <td>2656800.0</td>\n",
       "    </tr>\n",
       "    <tr>\n",
       "      <th>2016-01-06</th>\n",
       "      <td>9.983247</td>\n",
       "      <td>43.807999</td>\n",
       "      <td>743.619995</td>\n",
       "      <td>104.904243</td>\n",
       "      <td>23.214844</td>\n",
       "      <td>76.290001</td>\n",
       "      <td>13.11</td>\n",
       "      <td>43.807999</td>\n",
       "      <td>743.619995</td>\n",
       "      <td>135.169998</td>\n",
       "      <td>...</td>\n",
       "      <td>730.000000</td>\n",
       "      <td>134.380005</td>\n",
       "      <td>25.139999</td>\n",
       "      <td>75.720001</td>\n",
       "      <td>61285500.0</td>\n",
       "      <td>18895500.0</td>\n",
       "      <td>1947000.0</td>\n",
       "      <td>4310900.0</td>\n",
       "      <td>273829600.0</td>\n",
       "      <td>3484400.0</td>\n",
       "    </tr>\n",
       "    <tr>\n",
       "      <th>2016-01-07</th>\n",
       "      <td>9.671034</td>\n",
       "      <td>43.130001</td>\n",
       "      <td>726.390015</td>\n",
       "      <td>103.111473</td>\n",
       "      <td>22.235073</td>\n",
       "      <td>74.300003</td>\n",
       "      <td>12.70</td>\n",
       "      <td>43.130001</td>\n",
       "      <td>726.390015</td>\n",
       "      <td>132.860001</td>\n",
       "      <td>...</td>\n",
       "      <td>730.309998</td>\n",
       "      <td>133.699997</td>\n",
       "      <td>24.670000</td>\n",
       "      <td>75.129997</td>\n",
       "      <td>57846700.0</td>\n",
       "      <td>17771500.0</td>\n",
       "      <td>2963700.0</td>\n",
       "      <td>7025800.0</td>\n",
       "      <td>324377600.0</td>\n",
       "      <td>6972200.0</td>\n",
       "    </tr>\n",
       "    <tr>\n",
       "      <th>2016-01-08</th>\n",
       "      <td>9.549195</td>\n",
       "      <td>42.200001</td>\n",
       "      <td>714.469971</td>\n",
       "      <td>102.156891</td>\n",
       "      <td>22.352650</td>\n",
       "      <td>73.230003</td>\n",
       "      <td>12.54</td>\n",
       "      <td>42.200001</td>\n",
       "      <td>714.469971</td>\n",
       "      <td>131.630005</td>\n",
       "      <td>...</td>\n",
       "      <td>731.450012</td>\n",
       "      <td>133.179993</td>\n",
       "      <td>24.637501</td>\n",
       "      <td>74.779999</td>\n",
       "      <td>46199400.0</td>\n",
       "      <td>18140500.0</td>\n",
       "      <td>2450900.0</td>\n",
       "      <td>4762700.0</td>\n",
       "      <td>283192000.0</td>\n",
       "      <td>3673800.0</td>\n",
       "    </tr>\n",
       "  </tbody>\n",
       "</table>\n",
       "<p>5 rows × 36 columns</p>\n",
       "</div>"
      ],
      "text/plain": [
       "Attributes  Adj Close                                                \\\n",
       "Symbols             F       TSLA        GOOG         IBM       AAPL   \n",
       "Date                                                                  \n",
       "2016-01-04  10.638138  44.681999  741.840027  105.509605  24.286827   \n",
       "2016-01-05  10.447762  44.686001  742.580017  105.431984  23.678223   \n",
       "2016-01-06   9.983247  43.807999  743.619995  104.904243  23.214844   \n",
       "2016-01-07   9.671034  43.130001  726.390015  103.111473  22.235073   \n",
       "2016-01-08   9.549195  42.200001  714.469971  102.156891  22.352650   \n",
       "\n",
       "Attributes             Close                                     ...  \\\n",
       "Symbols           CRM      F       TSLA        GOOG         IBM  ...   \n",
       "Date                                                             ...   \n",
       "2016-01-04  76.709999  13.97  44.681999  741.840027  135.949997  ...   \n",
       "2016-01-05  77.050003  13.72  44.686001  742.580017  135.850006  ...   \n",
       "2016-01-06  76.290001  13.11  43.807999  743.619995  135.169998  ...   \n",
       "2016-01-07  74.300003  12.70  43.130001  726.390015  132.860001  ...   \n",
       "2016-01-08  73.230003  12.54  42.200001  714.469971  131.630005  ...   \n",
       "\n",
       "Attributes        Open                                        Volume  \\\n",
       "Symbols           GOOG         IBM       AAPL        CRM           F   \n",
       "Date                                                                   \n",
       "2016-01-04  743.000000  135.600006  25.652500  77.139999  38618500.0   \n",
       "2016-01-05  746.450012  136.759995  26.437500  77.070000  50267500.0   \n",
       "2016-01-06  730.000000  134.380005  25.139999  75.720001  61285500.0   \n",
       "2016-01-07  730.309998  133.699997  24.670000  75.129997  57846700.0   \n",
       "2016-01-08  731.450012  133.179993  24.637501  74.779999  46199400.0   \n",
       "\n",
       "Attributes                                                            \n",
       "Symbols           TSLA       GOOG        IBM         AAPL        CRM  \n",
       "Date                                                                  \n",
       "2016-01-04  34135500.0  3272800.0  5229400.0  270597600.0  4919200.0  \n",
       "2016-01-05  15934000.0  1950700.0  3924800.0  223164000.0  2656800.0  \n",
       "2016-01-06  18895500.0  1947000.0  4310900.0  273829600.0  3484400.0  \n",
       "2016-01-07  17771500.0  2963700.0  7025800.0  324377600.0  6972200.0  \n",
       "2016-01-08  18140500.0  2450900.0  4762700.0  283192000.0  3673800.0  \n",
       "\n",
       "[5 rows x 36 columns]"
      ]
     },
     "execution_count": 89,
     "metadata": {},
     "output_type": "execute_result"
    }
   ],
   "source": [
    "from datetime import datetime\n",
    "\n",
    "import pandas_datareader.data as web\n",
    "\n",
    "start, end = datetime(2016, 1, 1), datetime(2020, 1, 1)\n",
    "data = web.DataReader(\n",
    "    ['F', 'TSLA', 'GOOG', 'IBM', 'AAPL', 'CRM'], \n",
    "    'yahoo', start, end,\n",
    ")\n",
    "data.head()"
   ]
  },
  {
   "cell_type": "code",
   "execution_count": 90,
   "metadata": {},
   "outputs": [
    {
     "data": {
      "text/html": [
       "<div>\n",
       "<style scoped>\n",
       "    .dataframe tbody tr th:only-of-type {\n",
       "        vertical-align: middle;\n",
       "    }\n",
       "\n",
       "    .dataframe tbody tr th {\n",
       "        vertical-align: top;\n",
       "    }\n",
       "\n",
       "    .dataframe thead th {\n",
       "        text-align: right;\n",
       "    }\n",
       "</style>\n",
       "<table border=\"1\" class=\"dataframe\">\n",
       "  <thead>\n",
       "    <tr style=\"text-align: right;\">\n",
       "      <th>Symbols</th>\n",
       "      <th>F</th>\n",
       "      <th>TSLA</th>\n",
       "      <th>GOOG</th>\n",
       "      <th>IBM</th>\n",
       "      <th>AAPL</th>\n",
       "      <th>CRM</th>\n",
       "    </tr>\n",
       "    <tr>\n",
       "      <th>Date</th>\n",
       "      <th></th>\n",
       "      <th></th>\n",
       "      <th></th>\n",
       "      <th></th>\n",
       "      <th></th>\n",
       "      <th></th>\n",
       "    </tr>\n",
       "  </thead>\n",
       "  <tbody>\n",
       "    <tr>\n",
       "      <th>2016-01-04</th>\n",
       "      <td>13.97</td>\n",
       "      <td>44.681999</td>\n",
       "      <td>741.840027</td>\n",
       "      <td>135.949997</td>\n",
       "      <td>26.337500</td>\n",
       "      <td>76.709999</td>\n",
       "    </tr>\n",
       "    <tr>\n",
       "      <th>2016-01-05</th>\n",
       "      <td>13.72</td>\n",
       "      <td>44.686001</td>\n",
       "      <td>742.580017</td>\n",
       "      <td>135.850006</td>\n",
       "      <td>25.677500</td>\n",
       "      <td>77.050003</td>\n",
       "    </tr>\n",
       "    <tr>\n",
       "      <th>2016-01-06</th>\n",
       "      <td>13.11</td>\n",
       "      <td>43.807999</td>\n",
       "      <td>743.619995</td>\n",
       "      <td>135.169998</td>\n",
       "      <td>25.174999</td>\n",
       "      <td>76.290001</td>\n",
       "    </tr>\n",
       "    <tr>\n",
       "      <th>2016-01-07</th>\n",
       "      <td>12.70</td>\n",
       "      <td>43.130001</td>\n",
       "      <td>726.390015</td>\n",
       "      <td>132.860001</td>\n",
       "      <td>24.112499</td>\n",
       "      <td>74.300003</td>\n",
       "    </tr>\n",
       "    <tr>\n",
       "      <th>2016-01-08</th>\n",
       "      <td>12.54</td>\n",
       "      <td>42.200001</td>\n",
       "      <td>714.469971</td>\n",
       "      <td>131.630005</td>\n",
       "      <td>24.240000</td>\n",
       "      <td>73.230003</td>\n",
       "    </tr>\n",
       "  </tbody>\n",
       "</table>\n",
       "</div>"
      ],
      "text/plain": [
       "Symbols         F       TSLA        GOOG         IBM       AAPL        CRM\n",
       "Date                                                                      \n",
       "2016-01-04  13.97  44.681999  741.840027  135.949997  26.337500  76.709999\n",
       "2016-01-05  13.72  44.686001  742.580017  135.850006  25.677500  77.050003\n",
       "2016-01-06  13.11  43.807999  743.619995  135.169998  25.174999  76.290001\n",
       "2016-01-07  12.70  43.130001  726.390015  132.860001  24.112499  74.300003\n",
       "2016-01-08  12.54  42.200001  714.469971  131.630005  24.240000  73.230003"
      ]
     },
     "execution_count": 90,
     "metadata": {},
     "output_type": "execute_result"
    }
   ],
   "source": [
    "data['Close'].head()"
   ]
  },
  {
   "cell_type": "code",
   "execution_count": 91,
   "metadata": {},
   "outputs": [
    {
     "data": {
      "text/plain": [
       "Date\n",
       "2016-01-04     76.709999\n",
       "2016-01-05     77.050003\n",
       "2016-01-06     76.290001\n",
       "2016-01-07     74.300003\n",
       "2016-01-08     73.230003\n",
       "                 ...    \n",
       "2019-12-24    163.250000\n",
       "2019-12-26    164.509995\n",
       "2019-12-27    164.979996\n",
       "2019-12-30    162.440002\n",
       "2019-12-31    162.639999\n",
       "Name: (Close, CRM), Length: 1006, dtype: float64"
      ]
     },
     "execution_count": 91,
     "metadata": {},
     "output_type": "execute_result"
    }
   ],
   "source": [
    "data.loc[:, ('Close', \"CRM\")]"
   ]
  },
  {
   "cell_type": "code",
   "execution_count": 92,
   "metadata": {
    "scrolled": true
   },
   "outputs": [
    {
     "data": {
      "text/plain": [
       "MultiIndex([('Adj Close',    'F'),\n",
       "            ('Adj Close', 'TSLA'),\n",
       "            ('Adj Close', 'GOOG'),\n",
       "            ('Adj Close',  'IBM'),\n",
       "            ('Adj Close', 'AAPL'),\n",
       "            ('Adj Close',  'CRM'),\n",
       "            (    'Close',    'F'),\n",
       "            (    'Close', 'TSLA'),\n",
       "            (    'Close', 'GOOG'),\n",
       "            (    'Close',  'IBM'),\n",
       "            (    'Close', 'AAPL'),\n",
       "            (    'Close',  'CRM'),\n",
       "            (     'High',    'F'),\n",
       "            (     'High', 'TSLA'),\n",
       "            (     'High', 'GOOG'),\n",
       "            (     'High',  'IBM'),\n",
       "            (     'High', 'AAPL'),\n",
       "            (     'High',  'CRM'),\n",
       "            (      'Low',    'F'),\n",
       "            (      'Low', 'TSLA'),\n",
       "            (      'Low', 'GOOG'),\n",
       "            (      'Low',  'IBM'),\n",
       "            (      'Low', 'AAPL'),\n",
       "            (      'Low',  'CRM'),\n",
       "            (     'Open',    'F'),\n",
       "            (     'Open', 'TSLA'),\n",
       "            (     'Open', 'GOOG'),\n",
       "            (     'Open',  'IBM'),\n",
       "            (     'Open', 'AAPL'),\n",
       "            (     'Open',  'CRM'),\n",
       "            (   'Volume',    'F'),\n",
       "            (   'Volume', 'TSLA'),\n",
       "            (   'Volume', 'GOOG'),\n",
       "            (   'Volume',  'IBM'),\n",
       "            (   'Volume', 'AAPL'),\n",
       "            (   'Volume',  'CRM')],\n",
       "           names=['Attributes', 'Symbols'])"
      ]
     },
     "execution_count": 92,
     "metadata": {},
     "output_type": "execute_result"
    }
   ],
   "source": [
    "data.columns"
   ]
  },
  {
   "cell_type": "code",
   "execution_count": 93,
   "metadata": {},
   "outputs": [
    {
     "data": {
      "text/plain": [
       "FrozenList([['Adj Close', 'Close', 'High', 'Low', 'Open', 'Volume'], ['F', 'TSLA', 'GOOG', 'IBM', 'AAPL', 'CRM']])"
      ]
     },
     "execution_count": 93,
     "metadata": {},
     "output_type": "execute_result"
    }
   ],
   "source": [
    "data.columns.levels"
   ]
  },
  {
   "cell_type": "code",
   "execution_count": 94,
   "metadata": {},
   "outputs": [],
   "source": [
    "dfs = {\n",
    "    attr: data[attr]\n",
    "    for attr in data.columns.levels[0]\n",
    "}"
   ]
  },
  {
   "cell_type": "code",
   "execution_count": 95,
   "metadata": {},
   "outputs": [
    {
     "data": {
      "text/html": [
       "<div>\n",
       "<style scoped>\n",
       "    .dataframe tbody tr th:only-of-type {\n",
       "        vertical-align: middle;\n",
       "    }\n",
       "\n",
       "    .dataframe tbody tr th {\n",
       "        vertical-align: top;\n",
       "    }\n",
       "\n",
       "    .dataframe thead th {\n",
       "        text-align: right;\n",
       "    }\n",
       "</style>\n",
       "<table border=\"1\" class=\"dataframe\">\n",
       "  <thead>\n",
       "    <tr style=\"text-align: right;\">\n",
       "      <th>Symbols</th>\n",
       "      <th>F</th>\n",
       "      <th>TSLA</th>\n",
       "      <th>GOOG</th>\n",
       "      <th>IBM</th>\n",
       "      <th>AAPL</th>\n",
       "      <th>CRM</th>\n",
       "    </tr>\n",
       "    <tr>\n",
       "      <th>Date</th>\n",
       "      <th></th>\n",
       "      <th></th>\n",
       "      <th></th>\n",
       "      <th></th>\n",
       "      <th></th>\n",
       "      <th></th>\n",
       "    </tr>\n",
       "  </thead>\n",
       "  <tbody>\n",
       "    <tr>\n",
       "      <th>2016-01-04</th>\n",
       "      <td>38618500.0</td>\n",
       "      <td>34135500.0</td>\n",
       "      <td>3272800.0</td>\n",
       "      <td>5229400.0</td>\n",
       "      <td>270597600.0</td>\n",
       "      <td>4919200.0</td>\n",
       "    </tr>\n",
       "    <tr>\n",
       "      <th>2016-01-05</th>\n",
       "      <td>50267500.0</td>\n",
       "      <td>15934000.0</td>\n",
       "      <td>1950700.0</td>\n",
       "      <td>3924800.0</td>\n",
       "      <td>223164000.0</td>\n",
       "      <td>2656800.0</td>\n",
       "    </tr>\n",
       "    <tr>\n",
       "      <th>2016-01-06</th>\n",
       "      <td>61285500.0</td>\n",
       "      <td>18895500.0</td>\n",
       "      <td>1947000.0</td>\n",
       "      <td>4310900.0</td>\n",
       "      <td>273829600.0</td>\n",
       "      <td>3484400.0</td>\n",
       "    </tr>\n",
       "    <tr>\n",
       "      <th>2016-01-07</th>\n",
       "      <td>57846700.0</td>\n",
       "      <td>17771500.0</td>\n",
       "      <td>2963700.0</td>\n",
       "      <td>7025800.0</td>\n",
       "      <td>324377600.0</td>\n",
       "      <td>6972200.0</td>\n",
       "    </tr>\n",
       "    <tr>\n",
       "      <th>2016-01-08</th>\n",
       "      <td>46199400.0</td>\n",
       "      <td>18140500.0</td>\n",
       "      <td>2450900.0</td>\n",
       "      <td>4762700.0</td>\n",
       "      <td>283192000.0</td>\n",
       "      <td>3673800.0</td>\n",
       "    </tr>\n",
       "  </tbody>\n",
       "</table>\n",
       "</div>"
      ],
      "text/plain": [
       "Symbols              F        TSLA       GOOG        IBM         AAPL  \\\n",
       "Date                                                                    \n",
       "2016-01-04  38618500.0  34135500.0  3272800.0  5229400.0  270597600.0   \n",
       "2016-01-05  50267500.0  15934000.0  1950700.0  3924800.0  223164000.0   \n",
       "2016-01-06  61285500.0  18895500.0  1947000.0  4310900.0  273829600.0   \n",
       "2016-01-07  57846700.0  17771500.0  2963700.0  7025800.0  324377600.0   \n",
       "2016-01-08  46199400.0  18140500.0  2450900.0  4762700.0  283192000.0   \n",
       "\n",
       "Symbols           CRM  \n",
       "Date                   \n",
       "2016-01-04  4919200.0  \n",
       "2016-01-05  2656800.0  \n",
       "2016-01-06  3484400.0  \n",
       "2016-01-07  6972200.0  \n",
       "2016-01-08  3673800.0  "
      ]
     },
     "execution_count": 95,
     "metadata": {},
     "output_type": "execute_result"
    }
   ],
   "source": [
    "dfs['Volume'].head()"
   ]
  },
  {
   "cell_type": "code",
   "execution_count": 96,
   "metadata": {},
   "outputs": [
    {
     "data": {
      "text/html": [
       "<div>\n",
       "<style scoped>\n",
       "    .dataframe tbody tr th:only-of-type {\n",
       "        vertical-align: middle;\n",
       "    }\n",
       "\n",
       "    .dataframe tbody tr th {\n",
       "        vertical-align: top;\n",
       "    }\n",
       "\n",
       "    .dataframe thead tr th {\n",
       "        text-align: left;\n",
       "    }\n",
       "\n",
       "    .dataframe thead tr:last-of-type th {\n",
       "        text-align: right;\n",
       "    }\n",
       "</style>\n",
       "<table border=\"1\" class=\"dataframe\">\n",
       "  <thead>\n",
       "    <tr>\n",
       "      <th>Symbols</th>\n",
       "      <th>F</th>\n",
       "      <th>TSLA</th>\n",
       "      <th>GOOG</th>\n",
       "      <th>IBM</th>\n",
       "      <th>AAPL</th>\n",
       "      <th>CRM</th>\n",
       "      <th>F</th>\n",
       "      <th>TSLA</th>\n",
       "      <th>GOOG</th>\n",
       "      <th>IBM</th>\n",
       "      <th>...</th>\n",
       "      <th>GOOG</th>\n",
       "      <th>IBM</th>\n",
       "      <th>AAPL</th>\n",
       "      <th>CRM</th>\n",
       "      <th>F</th>\n",
       "      <th>TSLA</th>\n",
       "      <th>GOOG</th>\n",
       "      <th>IBM</th>\n",
       "      <th>AAPL</th>\n",
       "      <th>CRM</th>\n",
       "    </tr>\n",
       "    <tr>\n",
       "      <th>Attributes</th>\n",
       "      <th>Adj Close</th>\n",
       "      <th>Adj Close</th>\n",
       "      <th>Adj Close</th>\n",
       "      <th>Adj Close</th>\n",
       "      <th>Adj Close</th>\n",
       "      <th>Adj Close</th>\n",
       "      <th>Close</th>\n",
       "      <th>Close</th>\n",
       "      <th>Close</th>\n",
       "      <th>Close</th>\n",
       "      <th>...</th>\n",
       "      <th>Open</th>\n",
       "      <th>Open</th>\n",
       "      <th>Open</th>\n",
       "      <th>Open</th>\n",
       "      <th>Volume</th>\n",
       "      <th>Volume</th>\n",
       "      <th>Volume</th>\n",
       "      <th>Volume</th>\n",
       "      <th>Volume</th>\n",
       "      <th>Volume</th>\n",
       "    </tr>\n",
       "    <tr>\n",
       "      <th>Date</th>\n",
       "      <th></th>\n",
       "      <th></th>\n",
       "      <th></th>\n",
       "      <th></th>\n",
       "      <th></th>\n",
       "      <th></th>\n",
       "      <th></th>\n",
       "      <th></th>\n",
       "      <th></th>\n",
       "      <th></th>\n",
       "      <th></th>\n",
       "      <th></th>\n",
       "      <th></th>\n",
       "      <th></th>\n",
       "      <th></th>\n",
       "      <th></th>\n",
       "      <th></th>\n",
       "      <th></th>\n",
       "      <th></th>\n",
       "      <th></th>\n",
       "      <th></th>\n",
       "    </tr>\n",
       "  </thead>\n",
       "  <tbody>\n",
       "    <tr>\n",
       "      <th>2016-01-04</th>\n",
       "      <td>10.638138</td>\n",
       "      <td>44.681999</td>\n",
       "      <td>741.840027</td>\n",
       "      <td>105.509605</td>\n",
       "      <td>24.286827</td>\n",
       "      <td>76.709999</td>\n",
       "      <td>13.97</td>\n",
       "      <td>44.681999</td>\n",
       "      <td>741.840027</td>\n",
       "      <td>135.949997</td>\n",
       "      <td>...</td>\n",
       "      <td>743.000000</td>\n",
       "      <td>135.600006</td>\n",
       "      <td>25.652500</td>\n",
       "      <td>77.139999</td>\n",
       "      <td>38618500.0</td>\n",
       "      <td>34135500.0</td>\n",
       "      <td>3272800.0</td>\n",
       "      <td>5229400.0</td>\n",
       "      <td>270597600.0</td>\n",
       "      <td>4919200.0</td>\n",
       "    </tr>\n",
       "    <tr>\n",
       "      <th>2016-01-05</th>\n",
       "      <td>10.447762</td>\n",
       "      <td>44.686001</td>\n",
       "      <td>742.580017</td>\n",
       "      <td>105.431984</td>\n",
       "      <td>23.678223</td>\n",
       "      <td>77.050003</td>\n",
       "      <td>13.72</td>\n",
       "      <td>44.686001</td>\n",
       "      <td>742.580017</td>\n",
       "      <td>135.850006</td>\n",
       "      <td>...</td>\n",
       "      <td>746.450012</td>\n",
       "      <td>136.759995</td>\n",
       "      <td>26.437500</td>\n",
       "      <td>77.070000</td>\n",
       "      <td>50267500.0</td>\n",
       "      <td>15934000.0</td>\n",
       "      <td>1950700.0</td>\n",
       "      <td>3924800.0</td>\n",
       "      <td>223164000.0</td>\n",
       "      <td>2656800.0</td>\n",
       "    </tr>\n",
       "    <tr>\n",
       "      <th>2016-01-06</th>\n",
       "      <td>9.983247</td>\n",
       "      <td>43.807999</td>\n",
       "      <td>743.619995</td>\n",
       "      <td>104.904243</td>\n",
       "      <td>23.214844</td>\n",
       "      <td>76.290001</td>\n",
       "      <td>13.11</td>\n",
       "      <td>43.807999</td>\n",
       "      <td>743.619995</td>\n",
       "      <td>135.169998</td>\n",
       "      <td>...</td>\n",
       "      <td>730.000000</td>\n",
       "      <td>134.380005</td>\n",
       "      <td>25.139999</td>\n",
       "      <td>75.720001</td>\n",
       "      <td>61285500.0</td>\n",
       "      <td>18895500.0</td>\n",
       "      <td>1947000.0</td>\n",
       "      <td>4310900.0</td>\n",
       "      <td>273829600.0</td>\n",
       "      <td>3484400.0</td>\n",
       "    </tr>\n",
       "    <tr>\n",
       "      <th>2016-01-07</th>\n",
       "      <td>9.671034</td>\n",
       "      <td>43.130001</td>\n",
       "      <td>726.390015</td>\n",
       "      <td>103.111473</td>\n",
       "      <td>22.235073</td>\n",
       "      <td>74.300003</td>\n",
       "      <td>12.70</td>\n",
       "      <td>43.130001</td>\n",
       "      <td>726.390015</td>\n",
       "      <td>132.860001</td>\n",
       "      <td>...</td>\n",
       "      <td>730.309998</td>\n",
       "      <td>133.699997</td>\n",
       "      <td>24.670000</td>\n",
       "      <td>75.129997</td>\n",
       "      <td>57846700.0</td>\n",
       "      <td>17771500.0</td>\n",
       "      <td>2963700.0</td>\n",
       "      <td>7025800.0</td>\n",
       "      <td>324377600.0</td>\n",
       "      <td>6972200.0</td>\n",
       "    </tr>\n",
       "    <tr>\n",
       "      <th>2016-01-08</th>\n",
       "      <td>9.549195</td>\n",
       "      <td>42.200001</td>\n",
       "      <td>714.469971</td>\n",
       "      <td>102.156891</td>\n",
       "      <td>22.352650</td>\n",
       "      <td>73.230003</td>\n",
       "      <td>12.54</td>\n",
       "      <td>42.200001</td>\n",
       "      <td>714.469971</td>\n",
       "      <td>131.630005</td>\n",
       "      <td>...</td>\n",
       "      <td>731.450012</td>\n",
       "      <td>133.179993</td>\n",
       "      <td>24.637501</td>\n",
       "      <td>74.779999</td>\n",
       "      <td>46199400.0</td>\n",
       "      <td>18140500.0</td>\n",
       "      <td>2450900.0</td>\n",
       "      <td>4762700.0</td>\n",
       "      <td>283192000.0</td>\n",
       "      <td>3673800.0</td>\n",
       "    </tr>\n",
       "  </tbody>\n",
       "</table>\n",
       "<p>5 rows × 36 columns</p>\n",
       "</div>"
      ],
      "text/plain": [
       "Symbols             F       TSLA        GOOG         IBM       AAPL  \\\n",
       "Attributes  Adj Close  Adj Close   Adj Close   Adj Close  Adj Close   \n",
       "Date                                                                  \n",
       "2016-01-04  10.638138  44.681999  741.840027  105.509605  24.286827   \n",
       "2016-01-05  10.447762  44.686001  742.580017  105.431984  23.678223   \n",
       "2016-01-06   9.983247  43.807999  743.619995  104.904243  23.214844   \n",
       "2016-01-07   9.671034  43.130001  726.390015  103.111473  22.235073   \n",
       "2016-01-08   9.549195  42.200001  714.469971  102.156891  22.352650   \n",
       "\n",
       "Symbols           CRM      F       TSLA        GOOG         IBM  ...  \\\n",
       "Attributes  Adj Close  Close      Close       Close       Close  ...   \n",
       "Date                                                             ...   \n",
       "2016-01-04  76.709999  13.97  44.681999  741.840027  135.949997  ...   \n",
       "2016-01-05  77.050003  13.72  44.686001  742.580017  135.850006  ...   \n",
       "2016-01-06  76.290001  13.11  43.807999  743.619995  135.169998  ...   \n",
       "2016-01-07  74.300003  12.70  43.130001  726.390015  132.860001  ...   \n",
       "2016-01-08  73.230003  12.54  42.200001  714.469971  131.630005  ...   \n",
       "\n",
       "Symbols           GOOG         IBM       AAPL        CRM           F  \\\n",
       "Attributes        Open        Open       Open       Open      Volume   \n",
       "Date                                                                   \n",
       "2016-01-04  743.000000  135.600006  25.652500  77.139999  38618500.0   \n",
       "2016-01-05  746.450012  136.759995  26.437500  77.070000  50267500.0   \n",
       "2016-01-06  730.000000  134.380005  25.139999  75.720001  61285500.0   \n",
       "2016-01-07  730.309998  133.699997  24.670000  75.129997  57846700.0   \n",
       "2016-01-08  731.450012  133.179993  24.637501  74.779999  46199400.0   \n",
       "\n",
       "Symbols           TSLA       GOOG        IBM         AAPL        CRM  \n",
       "Attributes      Volume     Volume     Volume       Volume     Volume  \n",
       "Date                                                                  \n",
       "2016-01-04  34135500.0  3272800.0  5229400.0  270597600.0  4919200.0  \n",
       "2016-01-05  15934000.0  1950700.0  3924800.0  223164000.0  2656800.0  \n",
       "2016-01-06  18895500.0  1947000.0  4310900.0  273829600.0  3484400.0  \n",
       "2016-01-07  17771500.0  2963700.0  7025800.0  324377600.0  6972200.0  \n",
       "2016-01-08  18140500.0  2450900.0  4762700.0  283192000.0  3673800.0  \n",
       "\n",
       "[5 rows x 36 columns]"
      ]
     },
     "execution_count": 96,
     "metadata": {},
     "output_type": "execute_result"
    }
   ],
   "source": [
    "data.columns = data.columns.swaplevel()\n",
    "data.head()"
   ]
  },
  {
   "cell_type": "code",
   "execution_count": 97,
   "metadata": {},
   "outputs": [
    {
     "data": {
      "text/html": [
       "<div>\n",
       "<style scoped>\n",
       "    .dataframe tbody tr th:only-of-type {\n",
       "        vertical-align: middle;\n",
       "    }\n",
       "\n",
       "    .dataframe tbody tr th {\n",
       "        vertical-align: top;\n",
       "    }\n",
       "\n",
       "    .dataframe thead th {\n",
       "        text-align: right;\n",
       "    }\n",
       "</style>\n",
       "<table border=\"1\" class=\"dataframe\">\n",
       "  <thead>\n",
       "    <tr style=\"text-align: right;\">\n",
       "      <th>Attributes</th>\n",
       "      <th>Adj Close</th>\n",
       "      <th>Close</th>\n",
       "      <th>High</th>\n",
       "      <th>Low</th>\n",
       "      <th>Open</th>\n",
       "      <th>Volume</th>\n",
       "    </tr>\n",
       "    <tr>\n",
       "      <th>Date</th>\n",
       "      <th></th>\n",
       "      <th></th>\n",
       "      <th></th>\n",
       "      <th></th>\n",
       "      <th></th>\n",
       "      <th></th>\n",
       "    </tr>\n",
       "  </thead>\n",
       "  <tbody>\n",
       "    <tr>\n",
       "      <th>2016-01-04</th>\n",
       "      <td>76.709999</td>\n",
       "      <td>76.709999</td>\n",
       "      <td>77.209999</td>\n",
       "      <td>75.639999</td>\n",
       "      <td>77.139999</td>\n",
       "      <td>4919200.0</td>\n",
       "    </tr>\n",
       "    <tr>\n",
       "      <th>2016-01-05</th>\n",
       "      <td>77.050003</td>\n",
       "      <td>77.050003</td>\n",
       "      <td>77.970001</td>\n",
       "      <td>76.669998</td>\n",
       "      <td>77.070000</td>\n",
       "      <td>2656800.0</td>\n",
       "    </tr>\n",
       "    <tr>\n",
       "      <th>2016-01-06</th>\n",
       "      <td>76.290001</td>\n",
       "      <td>76.290001</td>\n",
       "      <td>77.330002</td>\n",
       "      <td>75.629997</td>\n",
       "      <td>75.720001</td>\n",
       "      <td>3484400.0</td>\n",
       "    </tr>\n",
       "    <tr>\n",
       "      <th>2016-01-07</th>\n",
       "      <td>74.300003</td>\n",
       "      <td>74.300003</td>\n",
       "      <td>75.599998</td>\n",
       "      <td>73.470001</td>\n",
       "      <td>75.129997</td>\n",
       "      <td>6972200.0</td>\n",
       "    </tr>\n",
       "    <tr>\n",
       "      <th>2016-01-08</th>\n",
       "      <td>73.230003</td>\n",
       "      <td>73.230003</td>\n",
       "      <td>75.260002</td>\n",
       "      <td>72.900002</td>\n",
       "      <td>74.779999</td>\n",
       "      <td>3673800.0</td>\n",
       "    </tr>\n",
       "  </tbody>\n",
       "</table>\n",
       "</div>"
      ],
      "text/plain": [
       "Attributes  Adj Close      Close       High        Low       Open     Volume\n",
       "Date                                                                        \n",
       "2016-01-04  76.709999  76.709999  77.209999  75.639999  77.139999  4919200.0\n",
       "2016-01-05  77.050003  77.050003  77.970001  76.669998  77.070000  2656800.0\n",
       "2016-01-06  76.290001  76.290001  77.330002  75.629997  75.720001  3484400.0\n",
       "2016-01-07  74.300003  74.300003  75.599998  73.470001  75.129997  6972200.0\n",
       "2016-01-08  73.230003  73.230003  75.260002  72.900002  74.779999  3673800.0"
      ]
     },
     "execution_count": 97,
     "metadata": {},
     "output_type": "execute_result"
    }
   ],
   "source": [
    "data['CRM'].head()"
   ]
  },
  {
   "cell_type": "markdown",
   "metadata": {
    "slideshow": {
     "slide_type": "slide"
    }
   },
   "source": [
    "(If Yahoo finance won't work for us)"
   ]
  },
  {
   "cell_type": "code",
   "execution_count": null,
   "metadata": {},
   "outputs": [],
   "source": [
    "dfs = {}\n",
    "for attr in ['Open', 'High', 'Low', 'Close', 'Volume', 'Adj Close']:\n",
    "    dfs[attr] = pd.read_excel('./data/stocks.xlsx', attr, index_col='Date')"
   ]
  },
  {
   "cell_type": "code",
   "execution_count": null,
   "metadata": {},
   "outputs": [],
   "source": [
    "dfs['Close']"
   ]
  },
  {
   "cell_type": "markdown",
   "metadata": {},
   "source": [
    "## Writing Excel data\n",
    "\n",
    "We can write a multi-page Excel file using an ExcelWriter:"
   ]
  },
  {
   "cell_type": "code",
   "execution_count": 98,
   "metadata": {},
   "outputs": [
    {
     "name": "stdout",
     "output_type": "stream",
     "text": [
      "Looking in links: /home/rick446/src/wheelhouse\n",
      "Requirement already satisfied: xlrd in /home/rick446/.virtualenvs/classes/lib/python3.8/site-packages (1.2.0)\n",
      "Requirement already satisfied: xlwt in /home/rick446/.virtualenvs/classes/lib/python3.8/site-packages (1.3.0)\n",
      "Requirement already satisfied: openpyxl in /home/rick446/.virtualenvs/classes/lib/python3.8/site-packages (3.0.5)\n",
      "Requirement already satisfied: et-xmlfile in /home/rick446/.virtualenvs/classes/lib/python3.8/site-packages (from openpyxl) (1.0.1)\n",
      "Requirement already satisfied: jdcal in /home/rick446/.virtualenvs/classes/lib/python3.8/site-packages (from openpyxl) (1.4.1)\n",
      "\u001b[33mWARNING: You are using pip version 20.2.3; however, version 21.3.1 is available.\n",
      "You should consider upgrading via the '/home/rick446/.virtualenvs/classes/bin/python -m pip install --upgrade pip' command.\u001b[0m\n"
     ]
    }
   ],
   "source": [
    "!pip install xlrd xlwt openpyxl"
   ]
  },
  {
   "cell_type": "markdown",
   "metadata": {},
   "source": [
    "In normal python to write a file you might say:\n",
    "\n",
    "```python\n",
    "with open(filename, 'w') as fp:\n",
    "    fp.write(some_data)\n",
    "```"
   ]
  },
  {
   "cell_type": "code",
   "execution_count": 99,
   "metadata": {},
   "outputs": [],
   "source": [
    "with pd.ExcelWriter('./data/stocks.xlsx') as writer:\n",
    "    for name, sheet in dfs.items():\n",
    "        sheet.to_excel(writer, name)"
   ]
  },
  {
   "cell_type": "code",
   "execution_count": 100,
   "metadata": {},
   "outputs": [
    {
     "name": "stdout",
     "output_type": "stream",
     "text": [
      "data/stocks.xlsx: Microsoft Excel 2007+\r\n"
     ]
    }
   ],
   "source": [
    "!file data/stocks.xlsx"
   ]
  },
  {
   "cell_type": "markdown",
   "metadata": {},
   "source": [
    "## Reading Excel data\n",
    "\n",
    "We can also read a sheet from an Excel workbook:"
   ]
  },
  {
   "cell_type": "code",
   "execution_count": 101,
   "metadata": {},
   "outputs": [
    {
     "data": {
      "text/html": [
       "<div>\n",
       "<style scoped>\n",
       "    .dataframe tbody tr th:only-of-type {\n",
       "        vertical-align: middle;\n",
       "    }\n",
       "\n",
       "    .dataframe tbody tr th {\n",
       "        vertical-align: top;\n",
       "    }\n",
       "\n",
       "    .dataframe thead th {\n",
       "        text-align: right;\n",
       "    }\n",
       "</style>\n",
       "<table border=\"1\" class=\"dataframe\">\n",
       "  <thead>\n",
       "    <tr style=\"text-align: right;\">\n",
       "      <th></th>\n",
       "      <th>F</th>\n",
       "      <th>TSLA</th>\n",
       "      <th>GOOG</th>\n",
       "      <th>IBM</th>\n",
       "      <th>AAPL</th>\n",
       "      <th>CRM</th>\n",
       "    </tr>\n",
       "    <tr>\n",
       "      <th>Date</th>\n",
       "      <th></th>\n",
       "      <th></th>\n",
       "      <th></th>\n",
       "      <th></th>\n",
       "      <th></th>\n",
       "      <th></th>\n",
       "    </tr>\n",
       "  </thead>\n",
       "  <tbody>\n",
       "    <tr>\n",
       "      <th>2016-01-04</th>\n",
       "      <td>13.97</td>\n",
       "      <td>44.681999</td>\n",
       "      <td>741.840027</td>\n",
       "      <td>135.949997</td>\n",
       "      <td>26.337500</td>\n",
       "      <td>76.709999</td>\n",
       "    </tr>\n",
       "    <tr>\n",
       "      <th>2016-01-05</th>\n",
       "      <td>13.72</td>\n",
       "      <td>44.686001</td>\n",
       "      <td>742.580017</td>\n",
       "      <td>135.850006</td>\n",
       "      <td>25.677500</td>\n",
       "      <td>77.050003</td>\n",
       "    </tr>\n",
       "    <tr>\n",
       "      <th>2016-01-06</th>\n",
       "      <td>13.11</td>\n",
       "      <td>43.807999</td>\n",
       "      <td>743.619995</td>\n",
       "      <td>135.169998</td>\n",
       "      <td>25.174999</td>\n",
       "      <td>76.290001</td>\n",
       "    </tr>\n",
       "    <tr>\n",
       "      <th>2016-01-07</th>\n",
       "      <td>12.70</td>\n",
       "      <td>43.130001</td>\n",
       "      <td>726.390015</td>\n",
       "      <td>132.860001</td>\n",
       "      <td>24.112499</td>\n",
       "      <td>74.300003</td>\n",
       "    </tr>\n",
       "    <tr>\n",
       "      <th>2016-01-08</th>\n",
       "      <td>12.54</td>\n",
       "      <td>42.200001</td>\n",
       "      <td>714.469971</td>\n",
       "      <td>131.630005</td>\n",
       "      <td>24.240000</td>\n",
       "      <td>73.230003</td>\n",
       "    </tr>\n",
       "  </tbody>\n",
       "</table>\n",
       "</div>"
      ],
      "text/plain": [
       "                F       TSLA        GOOG         IBM       AAPL        CRM\n",
       "Date                                                                      \n",
       "2016-01-04  13.97  44.681999  741.840027  135.949997  26.337500  76.709999\n",
       "2016-01-05  13.72  44.686001  742.580017  135.850006  25.677500  77.050003\n",
       "2016-01-06  13.11  43.807999  743.619995  135.169998  25.174999  76.290001\n",
       "2016-01-07  12.70  43.130001  726.390015  132.860001  24.112499  74.300003\n",
       "2016-01-08  12.54  42.200001  714.469971  131.630005  24.240000  73.230003"
      ]
     },
     "execution_count": 101,
     "metadata": {},
     "output_type": "execute_result"
    }
   ],
   "source": [
    "closing = pd.read_excel('./data/stocks.xlsx', 'Close', index_col='Date')\n",
    "closing.head()"
   ]
  },
  {
   "cell_type": "code",
   "execution_count": 102,
   "metadata": {},
   "outputs": [
    {
     "name": "stdout",
     "output_type": "stream",
     "text": [
      "<class 'pandas.core.frame.DataFrame'>\n",
      "DatetimeIndex: 1006 entries, 2016-01-04 to 2019-12-31\n",
      "Data columns (total 6 columns):\n",
      " #   Column  Non-Null Count  Dtype  \n",
      "---  ------  --------------  -----  \n",
      " 0   F       1006 non-null   float64\n",
      " 1   TSLA    1006 non-null   float64\n",
      " 2   GOOG    1006 non-null   float64\n",
      " 3   IBM     1006 non-null   float64\n",
      " 4   AAPL    1006 non-null   float64\n",
      " 5   CRM     1006 non-null   float64\n",
      "dtypes: float64(6)\n",
      "memory usage: 55.0 KB\n"
     ]
    }
   ],
   "source": [
    "closing.info()"
   ]
  },
  {
   "cell_type": "markdown",
   "metadata": {},
   "source": [
    "## Data from SQL"
   ]
  },
  {
   "cell_type": "code",
   "execution_count": 103,
   "metadata": {},
   "outputs": [],
   "source": [
    "import pandas as pd\n",
    "import sqlite3\n",
    "con = sqlite3.connect('./data/real-estate.db')"
   ]
  },
  {
   "cell_type": "code",
   "execution_count": 104,
   "metadata": {},
   "outputs": [
    {
     "name": "stderr",
     "output_type": "stream",
     "text": [
      "/home/rick446/.virtualenvs/classes/lib/python3.8/site-packages/dateutil/parser/_parser.py:1213: UnknownTimezoneWarning: tzname EDT identified but not understood.  Pass `tzinfos` argument in order to correctly return a timezone-aware datetime.  In a future version, this will raise an exception.\n",
      "  warnings.warn(\"tzname {tzname} identified but not understood.  \"\n"
     ]
    },
    {
     "data": {
      "text/html": [
       "<div>\n",
       "<style scoped>\n",
       "    .dataframe tbody tr th:only-of-type {\n",
       "        vertical-align: middle;\n",
       "    }\n",
       "\n",
       "    .dataframe tbody tr th {\n",
       "        vertical-align: top;\n",
       "    }\n",
       "\n",
       "    .dataframe thead th {\n",
       "        text-align: right;\n",
       "    }\n",
       "</style>\n",
       "<table border=\"1\" class=\"dataframe\">\n",
       "  <thead>\n",
       "    <tr style=\"text-align: right;\">\n",
       "      <th></th>\n",
       "      <th>street</th>\n",
       "      <th>city</th>\n",
       "      <th>zip</th>\n",
       "      <th>state</th>\n",
       "      <th>beds</th>\n",
       "      <th>baths</th>\n",
       "      <th>sq__ft</th>\n",
       "      <th>type</th>\n",
       "      <th>sale_date</th>\n",
       "      <th>price</th>\n",
       "      <th>latitude</th>\n",
       "      <th>longitude</th>\n",
       "    </tr>\n",
       "    <tr>\n",
       "      <th>index</th>\n",
       "      <th></th>\n",
       "      <th></th>\n",
       "      <th></th>\n",
       "      <th></th>\n",
       "      <th></th>\n",
       "      <th></th>\n",
       "      <th></th>\n",
       "      <th></th>\n",
       "      <th></th>\n",
       "      <th></th>\n",
       "      <th></th>\n",
       "      <th></th>\n",
       "    </tr>\n",
       "  </thead>\n",
       "  <tbody>\n",
       "    <tr>\n",
       "      <th>0</th>\n",
       "      <td>3526 HIGH ST</td>\n",
       "      <td>SACRAMENTO</td>\n",
       "      <td>95838</td>\n",
       "      <td>CA</td>\n",
       "      <td>2</td>\n",
       "      <td>1</td>\n",
       "      <td>836</td>\n",
       "      <td>Residential</td>\n",
       "      <td>2008-05-21</td>\n",
       "      <td>59222</td>\n",
       "      <td>38.631913</td>\n",
       "      <td>-121.434879</td>\n",
       "    </tr>\n",
       "    <tr>\n",
       "      <th>1</th>\n",
       "      <td>51 OMAHA CT</td>\n",
       "      <td>SACRAMENTO</td>\n",
       "      <td>95823</td>\n",
       "      <td>CA</td>\n",
       "      <td>3</td>\n",
       "      <td>1</td>\n",
       "      <td>1167</td>\n",
       "      <td>Residential</td>\n",
       "      <td>2008-05-21</td>\n",
       "      <td>68212</td>\n",
       "      <td>38.478902</td>\n",
       "      <td>-121.431028</td>\n",
       "    </tr>\n",
       "    <tr>\n",
       "      <th>2</th>\n",
       "      <td>2796 BRANCH ST</td>\n",
       "      <td>SACRAMENTO</td>\n",
       "      <td>95815</td>\n",
       "      <td>CA</td>\n",
       "      <td>2</td>\n",
       "      <td>1</td>\n",
       "      <td>796</td>\n",
       "      <td>Residential</td>\n",
       "      <td>2008-05-21</td>\n",
       "      <td>68880</td>\n",
       "      <td>38.618305</td>\n",
       "      <td>-121.443839</td>\n",
       "    </tr>\n",
       "    <tr>\n",
       "      <th>3</th>\n",
       "      <td>2805 JANETTE WAY</td>\n",
       "      <td>SACRAMENTO</td>\n",
       "      <td>95815</td>\n",
       "      <td>CA</td>\n",
       "      <td>2</td>\n",
       "      <td>1</td>\n",
       "      <td>852</td>\n",
       "      <td>Residential</td>\n",
       "      <td>2008-05-21</td>\n",
       "      <td>69307</td>\n",
       "      <td>38.616835</td>\n",
       "      <td>-121.439146</td>\n",
       "    </tr>\n",
       "    <tr>\n",
       "      <th>4</th>\n",
       "      <td>6001 MCMAHON DR</td>\n",
       "      <td>SACRAMENTO</td>\n",
       "      <td>95824</td>\n",
       "      <td>CA</td>\n",
       "      <td>2</td>\n",
       "      <td>1</td>\n",
       "      <td>797</td>\n",
       "      <td>Residential</td>\n",
       "      <td>2008-05-21</td>\n",
       "      <td>81900</td>\n",
       "      <td>38.519470</td>\n",
       "      <td>-121.435768</td>\n",
       "    </tr>\n",
       "  </tbody>\n",
       "</table>\n",
       "</div>"
      ],
      "text/plain": [
       "                 street        city    zip state  beds  baths  sq__ft  \\\n",
       "index                                                                   \n",
       "0          3526 HIGH ST  SACRAMENTO  95838    CA     2      1     836   \n",
       "1           51 OMAHA CT  SACRAMENTO  95823    CA     3      1    1167   \n",
       "2        2796 BRANCH ST  SACRAMENTO  95815    CA     2      1     796   \n",
       "3      2805 JANETTE WAY  SACRAMENTO  95815    CA     2      1     852   \n",
       "4       6001 MCMAHON DR  SACRAMENTO  95824    CA     2      1     797   \n",
       "\n",
       "              type  sale_date  price   latitude   longitude  \n",
       "index                                                        \n",
       "0      Residential 2008-05-21  59222  38.631913 -121.434879  \n",
       "1      Residential 2008-05-21  68212  38.478902 -121.431028  \n",
       "2      Residential 2008-05-21  68880  38.618305 -121.443839  \n",
       "3      Residential 2008-05-21  69307  38.616835 -121.439146  \n",
       "4      Residential 2008-05-21  81900  38.519470 -121.435768  "
      ]
     },
     "execution_count": 104,
     "metadata": {},
     "output_type": "execute_result"
    }
   ],
   "source": [
    "transactions = pd.read_sql(\n",
    "    'SELECT * FROM transactions', con, \n",
    "    index_col='index', \n",
    "    parse_dates=['sale_date'],\n",
    ")\n",
    "transactions.head()"
   ]
  },
  {
   "cell_type": "markdown",
   "metadata": {},
   "source": [
    "We can even build a quick little bulk load function in a couple of lines of pandas:"
   ]
  },
  {
   "cell_type": "code",
   "execution_count": 107,
   "metadata": {},
   "outputs": [],
   "source": [
    "stock = pd.read_csv('./data/closing-prices.csv', index_col=[0], parse_dates=True)\n",
    "stock.to_sql('stock', con, if_exists='replace')"
   ]
  },
  {
   "cell_type": "code",
   "execution_count": 108,
   "metadata": {},
   "outputs": [
    {
     "name": "stdout",
     "output_type": "stream",
     "text": [
      "('2014-01-02 00:00:00', 12.089, 150.1, None, 157.6001, 72.7741)\n",
      "('2014-01-03 00:00:00', 12.1438, 149.56, None, 158.543, 71.1756)\n",
      "('2014-01-06 00:00:00', 12.1986, 147.0, None, 157.9993, 71.5637)\n",
      "('2014-01-07 00:00:00', 12.042, 149.36, None, 161.1508, 71.0516)\n",
      "('2014-01-08 00:00:00', 12.1673, 151.28, None, 159.6728, 71.5019)\n"
     ]
    }
   ],
   "source": [
    "for row in con.execute('select * from stock limit 5'):\n",
    "    print(row)"
   ]
  },
  {
   "cell_type": "code",
   "execution_count": 109,
   "metadata": {},
   "outputs": [
    {
     "data": {
      "text/plain": [
       "[(1007,)]"
      ]
     },
     "execution_count": 109,
     "metadata": {},
     "output_type": "execute_result"
    }
   ],
   "source": [
    "con.execute('select count(*) from stock').fetchall()"
   ]
  },
  {
   "cell_type": "markdown",
   "metadata": {},
   "source": [
    "(for non-sqlite3 databases, you must use a sqlalchemy engine object and the `sqlalchemy.create_engine` function)"
   ]
  },
  {
   "cell_type": "markdown",
   "metadata": {},
   "source": [
    "## Data from HTML"
   ]
  },
  {
   "cell_type": "code",
   "execution_count": 110,
   "metadata": {},
   "outputs": [
    {
     "name": "stdout",
     "output_type": "stream",
     "text": [
      "Looking in links: /home/rick446/src/wheelhouse\n",
      "Requirement already satisfied: html5lib in /home/rick446/.virtualenvs/classes/lib/python3.8/site-packages (1.1)\n",
      "Requirement already satisfied: webencodings in /home/rick446/.virtualenvs/classes/lib/python3.8/site-packages (from html5lib) (0.5.1)\n",
      "Requirement already satisfied: six>=1.9 in /home/rick446/.virtualenvs/classes/lib/python3.8/site-packages (from html5lib) (1.15.0)\n",
      "\u001b[33mWARNING: You are using pip version 20.2.3; however, version 21.3.1 is available.\n",
      "You should consider upgrading via the '/home/rick446/.virtualenvs/classes/bin/python -m pip install --upgrade pip' command.\u001b[0m\n"
     ]
    }
   ],
   "source": [
    "!pip install html5lib"
   ]
  },
  {
   "cell_type": "code",
   "execution_count": 111,
   "metadata": {},
   "outputs": [],
   "source": [
    "tables = pd.read_html(\n",
    "    'https://en.wikipedia.org/wiki/Python_(genus)',\n",
    ")"
   ]
  },
  {
   "cell_type": "code",
   "execution_count": 112,
   "metadata": {},
   "outputs": [
    {
     "data": {
      "text/plain": [
       "8"
      ]
     },
     "execution_count": 112,
     "metadata": {},
     "output_type": "execute_result"
    }
   ],
   "source": [
    "len(tables)"
   ]
  },
  {
   "cell_type": "code",
   "execution_count": 113,
   "metadata": {},
   "outputs": [
    {
     "data": {
      "text/html": [
       "<div>\n",
       "<style scoped>\n",
       "    .dataframe tbody tr th:only-of-type {\n",
       "        vertical-align: middle;\n",
       "    }\n",
       "\n",
       "    .dataframe tbody tr th {\n",
       "        vertical-align: top;\n",
       "    }\n",
       "\n",
       "    .dataframe thead th {\n",
       "        text-align: right;\n",
       "    }\n",
       "</style>\n",
       "<table border=\"1\" class=\"dataframe\">\n",
       "  <thead>\n",
       "    <tr style=\"text-align: right;\">\n",
       "      <th></th>\n",
       "      <th>PythonTemporal range: Miocene–Present PreꞒ Ꞓ O S D C P T J K Pg N</th>\n",
       "      <th>PythonTemporal range: Miocene–Present PreꞒ Ꞓ O S D C P T J K Pg N.1</th>\n",
       "    </tr>\n",
       "  </thead>\n",
       "  <tbody>\n",
       "    <tr>\n",
       "      <th>0</th>\n",
       "      <td>NaN</td>\n",
       "      <td>NaN</td>\n",
       "    </tr>\n",
       "    <tr>\n",
       "      <th>1</th>\n",
       "      <td>Burmese python (Python bivittatus)</td>\n",
       "      <td>Burmese python (Python bivittatus)</td>\n",
       "    </tr>\n",
       "    <tr>\n",
       "      <th>2</th>\n",
       "      <td>Scientific classification</td>\n",
       "      <td>Scientific classification</td>\n",
       "    </tr>\n",
       "    <tr>\n",
       "      <th>3</th>\n",
       "      <td>Kingdom:</td>\n",
       "      <td>Animalia</td>\n",
       "    </tr>\n",
       "    <tr>\n",
       "      <th>4</th>\n",
       "      <td>Phylum:</td>\n",
       "      <td>Chordata</td>\n",
       "    </tr>\n",
       "    <tr>\n",
       "      <th>5</th>\n",
       "      <td>Class:</td>\n",
       "      <td>Reptilia</td>\n",
       "    </tr>\n",
       "    <tr>\n",
       "      <th>6</th>\n",
       "      <td>Order:</td>\n",
       "      <td>Squamata</td>\n",
       "    </tr>\n",
       "    <tr>\n",
       "      <th>7</th>\n",
       "      <td>Suborder:</td>\n",
       "      <td>Serpentes</td>\n",
       "    </tr>\n",
       "    <tr>\n",
       "      <th>8</th>\n",
       "      <td>Family:</td>\n",
       "      <td>Pythonidae</td>\n",
       "    </tr>\n",
       "    <tr>\n",
       "      <th>9</th>\n",
       "      <td>Genus:</td>\n",
       "      <td>PythonDaudin, 1803</td>\n",
       "    </tr>\n",
       "    <tr>\n",
       "      <th>10</th>\n",
       "      <td>Synonyms</td>\n",
       "      <td>Synonyms</td>\n",
       "    </tr>\n",
       "    <tr>\n",
       "      <th>11</th>\n",
       "      <td>List Python Daudin, 1803Constrictor Wagler, 18...</td>\n",
       "      <td>List Python Daudin, 1803Constrictor Wagler, 18...</td>\n",
       "    </tr>\n",
       "  </tbody>\n",
       "</table>\n",
       "</div>"
      ],
      "text/plain": [
       "   PythonTemporal range: Miocene–Present PreꞒ Ꞓ O S D C P T J K Pg N  \\\n",
       "0                                                 NaN                  \n",
       "1                  Burmese python (Python bivittatus)                  \n",
       "2                           Scientific classification                  \n",
       "3                                            Kingdom:                  \n",
       "4                                             Phylum:                  \n",
       "5                                              Class:                  \n",
       "6                                              Order:                  \n",
       "7                                           Suborder:                  \n",
       "8                                             Family:                  \n",
       "9                                              Genus:                  \n",
       "10                                           Synonyms                  \n",
       "11  List Python Daudin, 1803Constrictor Wagler, 18...                  \n",
       "\n",
       "   PythonTemporal range: Miocene–Present PreꞒ Ꞓ O S D C P T J K Pg N.1  \n",
       "0                                                 NaN                   \n",
       "1                  Burmese python (Python bivittatus)                   \n",
       "2                           Scientific classification                   \n",
       "3                                            Animalia                   \n",
       "4                                            Chordata                   \n",
       "5                                            Reptilia                   \n",
       "6                                            Squamata                   \n",
       "7                                           Serpentes                   \n",
       "8                                          Pythonidae                   \n",
       "9                                  PythonDaudin, 1803                   \n",
       "10                                           Synonyms                   \n",
       "11  List Python Daudin, 1803Constrictor Wagler, 18...                   "
      ]
     },
     "execution_count": 113,
     "metadata": {},
     "output_type": "execute_result"
    }
   ],
   "source": [
    "tables[0]"
   ]
  },
  {
   "cell_type": "code",
   "execution_count": 114,
   "metadata": {},
   "outputs": [
    {
     "data": {
      "text/plain": [
       "4"
      ]
     },
     "execution_count": 114,
     "metadata": {},
     "output_type": "execute_result"
    }
   ],
   "source": [
    "tables = pd.read_html(\n",
    "    'https://en.wikipedia.org/wiki/List_of_United_States_cities_by_population',\n",
    "    match='New York'\n",
    ")\n",
    "len(tables)"
   ]
  },
  {
   "cell_type": "code",
   "execution_count": 115,
   "metadata": {},
   "outputs": [
    {
     "data": {
      "text/html": [
       "<div>\n",
       "<style scoped>\n",
       "    .dataframe tbody tr th:only-of-type {\n",
       "        vertical-align: middle;\n",
       "    }\n",
       "\n",
       "    .dataframe tbody tr th {\n",
       "        vertical-align: top;\n",
       "    }\n",
       "\n",
       "    .dataframe thead th {\n",
       "        text-align: right;\n",
       "    }\n",
       "</style>\n",
       "<table border=\"1\" class=\"dataframe\">\n",
       "  <thead>\n",
       "    <tr style=\"text-align: right;\">\n",
       "      <th></th>\n",
       "      <th>2020rank</th>\n",
       "      <th>City</th>\n",
       "      <th>State[c]</th>\n",
       "      <th>2020census</th>\n",
       "      <th>2010census</th>\n",
       "      <th>Change</th>\n",
       "      <th>2020 land area</th>\n",
       "      <th>2020 land area.1</th>\n",
       "      <th>2020 population density</th>\n",
       "      <th>2020 population density.1</th>\n",
       "      <th>Location</th>\n",
       "    </tr>\n",
       "  </thead>\n",
       "  <tbody>\n",
       "    <tr>\n",
       "      <th>0</th>\n",
       "      <td>1</td>\n",
       "      <td>New York[d]</td>\n",
       "      <td>New York</td>\n",
       "      <td>8804190</td>\n",
       "      <td>8175133</td>\n",
       "      <td>+7.69%</td>\n",
       "      <td>300.5 sq mi</td>\n",
       "      <td>778.3 km2</td>\n",
       "      <td>29,298/sq mi</td>\n",
       "      <td>11,312/km2</td>\n",
       "      <td>.mw-parser-output .geo-default,.mw-parser-outp...</td>\n",
       "    </tr>\n",
       "    <tr>\n",
       "      <th>1</th>\n",
       "      <td>2</td>\n",
       "      <td>Los Angeles</td>\n",
       "      <td>California</td>\n",
       "      <td>3898747</td>\n",
       "      <td>3792621</td>\n",
       "      <td>+2.80%</td>\n",
       "      <td>469.5 sq mi</td>\n",
       "      <td>1,216.0 km2</td>\n",
       "      <td>8,304/sq mi</td>\n",
       "      <td>3,206/km2</td>\n",
       "      <td>34°01′N 118°25′W﻿ / ﻿34.01°N 118.41°W</td>\n",
       "    </tr>\n",
       "    <tr>\n",
       "      <th>2</th>\n",
       "      <td>3</td>\n",
       "      <td>Chicago</td>\n",
       "      <td>Illinois</td>\n",
       "      <td>2746388</td>\n",
       "      <td>2695598</td>\n",
       "      <td>+1.88%</td>\n",
       "      <td>227.7 sq mi</td>\n",
       "      <td>589.7 km2</td>\n",
       "      <td>12,061/sq mi</td>\n",
       "      <td>4,657/km2</td>\n",
       "      <td>41°50′N 87°41′W﻿ / ﻿41.83°N 87.68°W</td>\n",
       "    </tr>\n",
       "    <tr>\n",
       "      <th>3</th>\n",
       "      <td>4</td>\n",
       "      <td>Houston</td>\n",
       "      <td>Texas</td>\n",
       "      <td>2304580</td>\n",
       "      <td>2099451</td>\n",
       "      <td>+9.77%</td>\n",
       "      <td>640.4 sq mi</td>\n",
       "      <td>1,658.6 km2</td>\n",
       "      <td>3,599/sq mi</td>\n",
       "      <td>1,390/km2</td>\n",
       "      <td>29°47′N 95°23′W﻿ / ﻿29.78°N 95.39°W</td>\n",
       "    </tr>\n",
       "    <tr>\n",
       "      <th>4</th>\n",
       "      <td>5</td>\n",
       "      <td>Phoenix</td>\n",
       "      <td>Arizona</td>\n",
       "      <td>1608139</td>\n",
       "      <td>1445632</td>\n",
       "      <td>+11.24%</td>\n",
       "      <td>518.0 sq mi</td>\n",
       "      <td>1,341.6 km2</td>\n",
       "      <td>3,105/sq mi</td>\n",
       "      <td>1,199/km2</td>\n",
       "      <td>33°34′N 112°05′W﻿ / ﻿33.57°N 112.09°W</td>\n",
       "    </tr>\n",
       "    <tr>\n",
       "      <th>...</th>\n",
       "      <td>...</td>\n",
       "      <td>...</td>\n",
       "      <td>...</td>\n",
       "      <td>...</td>\n",
       "      <td>...</td>\n",
       "      <td>...</td>\n",
       "      <td>...</td>\n",
       "      <td>...</td>\n",
       "      <td>...</td>\n",
       "      <td>...</td>\n",
       "      <td>...</td>\n",
       "    </tr>\n",
       "    <tr>\n",
       "      <th>321</th>\n",
       "      <td>322</td>\n",
       "      <td>Federal Way</td>\n",
       "      <td>Washington</td>\n",
       "      <td>101030</td>\n",
       "      <td>89306</td>\n",
       "      <td>+13.13%</td>\n",
       "      <td>22.3 sq mi</td>\n",
       "      <td>57.8 km2</td>\n",
       "      <td>4,530/sq mi</td>\n",
       "      <td>1,750/km2</td>\n",
       "      <td>47°19′N 122°21′W﻿ / ﻿47.32°N 122.35°W</td>\n",
       "    </tr>\n",
       "    <tr>\n",
       "      <th>322</th>\n",
       "      <td>323</td>\n",
       "      <td>Clinton</td>\n",
       "      <td>Michigan</td>\n",
       "      <td>100513</td>\n",
       "      <td>96796</td>\n",
       "      <td>+3.84%</td>\n",
       "      <td>28.1 sq mi</td>\n",
       "      <td>72.8 km2</td>\n",
       "      <td>3,577/sq mi</td>\n",
       "      <td>1,381/km2</td>\n",
       "      <td>42°35′N 82°55′W﻿ / ﻿42.59°N 82.92°W</td>\n",
       "    </tr>\n",
       "    <tr>\n",
       "      <th>323</th>\n",
       "      <td>324</td>\n",
       "      <td>Edinburg</td>\n",
       "      <td>Texas</td>\n",
       "      <td>100243</td>\n",
       "      <td>77100</td>\n",
       "      <td>+30.02%</td>\n",
       "      <td>44.7 sq mi</td>\n",
       "      <td>115.8 km2</td>\n",
       "      <td>2,243/sq mi</td>\n",
       "      <td>866/km2</td>\n",
       "      <td>26°18′N 98°10′W﻿ / ﻿26.30°N 98.16°W</td>\n",
       "    </tr>\n",
       "    <tr>\n",
       "      <th>324</th>\n",
       "      <td>325</td>\n",
       "      <td>Nampa</td>\n",
       "      <td>Idaho</td>\n",
       "      <td>100200</td>\n",
       "      <td>81557</td>\n",
       "      <td>+22.86%</td>\n",
       "      <td>33.5 sq mi</td>\n",
       "      <td>86.8 km2</td>\n",
       "      <td>2,991/sq mi</td>\n",
       "      <td>1,155/km2</td>\n",
       "      <td>43°34′N 116°34′W﻿ / ﻿43.57°N 116.56°W</td>\n",
       "    </tr>\n",
       "    <tr>\n",
       "      <th>325</th>\n",
       "      <td>326</td>\n",
       "      <td>Roanoke[m]</td>\n",
       "      <td>Virginia</td>\n",
       "      <td>100011</td>\n",
       "      <td>97032</td>\n",
       "      <td>+3.07%</td>\n",
       "      <td>42.5 sq mi</td>\n",
       "      <td>110.1 km2</td>\n",
       "      <td>2,353/sq mi</td>\n",
       "      <td>908/km2</td>\n",
       "      <td>37°16′N 79°56′W﻿ / ﻿37.27°N 79.93°W</td>\n",
       "    </tr>\n",
       "  </tbody>\n",
       "</table>\n",
       "<p>326 rows × 11 columns</p>\n",
       "</div>"
      ],
      "text/plain": [
       "     2020rank         City    State[c]  2020census  2010census   Change  \\\n",
       "0           1  New York[d]    New York     8804190     8175133   +7.69%   \n",
       "1           2  Los Angeles  California     3898747     3792621   +2.80%   \n",
       "2           3      Chicago    Illinois     2746388     2695598   +1.88%   \n",
       "3           4      Houston       Texas     2304580     2099451   +9.77%   \n",
       "4           5      Phoenix     Arizona     1608139     1445632  +11.24%   \n",
       "..        ...          ...         ...         ...         ...      ...   \n",
       "321       322  Federal Way  Washington      101030       89306  +13.13%   \n",
       "322       323      Clinton    Michigan      100513       96796   +3.84%   \n",
       "323       324     Edinburg       Texas      100243       77100  +30.02%   \n",
       "324       325        Nampa       Idaho      100200       81557  +22.86%   \n",
       "325       326   Roanoke[m]    Virginia      100011       97032   +3.07%   \n",
       "\n",
       "    2020 land area 2020 land area.1 2020 population density  \\\n",
       "0      300.5 sq mi        778.3 km2            29,298/sq mi   \n",
       "1      469.5 sq mi      1,216.0 km2             8,304/sq mi   \n",
       "2      227.7 sq mi        589.7 km2            12,061/sq mi   \n",
       "3      640.4 sq mi      1,658.6 km2             3,599/sq mi   \n",
       "4      518.0 sq mi      1,341.6 km2             3,105/sq mi   \n",
       "..             ...              ...                     ...   \n",
       "321     22.3 sq mi         57.8 km2             4,530/sq mi   \n",
       "322     28.1 sq mi         72.8 km2             3,577/sq mi   \n",
       "323     44.7 sq mi        115.8 km2             2,243/sq mi   \n",
       "324     33.5 sq mi         86.8 km2             2,991/sq mi   \n",
       "325     42.5 sq mi        110.1 km2             2,353/sq mi   \n",
       "\n",
       "    2020 population density.1  \\\n",
       "0                  11,312/km2   \n",
       "1                   3,206/km2   \n",
       "2                   4,657/km2   \n",
       "3                   1,390/km2   \n",
       "4                   1,199/km2   \n",
       "..                        ...   \n",
       "321                 1,750/km2   \n",
       "322                 1,381/km2   \n",
       "323                   866/km2   \n",
       "324                 1,155/km2   \n",
       "325                   908/km2   \n",
       "\n",
       "                                              Location  \n",
       "0    .mw-parser-output .geo-default,.mw-parser-outp...  \n",
       "1                34°01′N 118°25′W﻿ / ﻿34.01°N 118.41°W  \n",
       "2                  41°50′N 87°41′W﻿ / ﻿41.83°N 87.68°W  \n",
       "3                  29°47′N 95°23′W﻿ / ﻿29.78°N 95.39°W  \n",
       "4                33°34′N 112°05′W﻿ / ﻿33.57°N 112.09°W  \n",
       "..                                                 ...  \n",
       "321              47°19′N 122°21′W﻿ / ﻿47.32°N 122.35°W  \n",
       "322                42°35′N 82°55′W﻿ / ﻿42.59°N 82.92°W  \n",
       "323                26°18′N 98°10′W﻿ / ﻿26.30°N 98.16°W  \n",
       "324              43°34′N 116°34′W﻿ / ﻿43.57°N 116.56°W  \n",
       "325                37°16′N 79°56′W﻿ / ﻿37.27°N 79.93°W  \n",
       "\n",
       "[326 rows x 11 columns]"
      ]
     },
     "execution_count": 115,
     "metadata": {},
     "output_type": "execute_result"
    }
   ],
   "source": [
    "tables[0]"
   ]
  },
  {
   "cell_type": "code",
   "execution_count": 117,
   "metadata": {},
   "outputs": [
    {
     "name": "stdout",
     "output_type": "stream",
     "text": [
      "<class 'pandas.core.frame.DataFrame'>\n",
      "RangeIndex: 326 entries, 0 to 325\n",
      "Data columns (total 11 columns):\n",
      " #   Column                     Non-Null Count  Dtype \n",
      "---  ------                     --------------  ----- \n",
      " 0   2020rank                   326 non-null    int64 \n",
      " 1   City                       326 non-null    object\n",
      " 2   State[c]                   326 non-null    object\n",
      " 3   2020census                 326 non-null    int64 \n",
      " 4   2010census                 326 non-null    int64 \n",
      " 5   Change                     326 non-null    object\n",
      " 6   2020 land area             326 non-null    object\n",
      " 7   2020 land area.1           326 non-null    object\n",
      " 8   2020 population density    326 non-null    object\n",
      " 9   2020 population density.1  326 non-null    object\n",
      " 10  Location                   326 non-null    object\n",
      "dtypes: int64(3), object(8)\n",
      "memory usage: 28.1+ KB\n"
     ]
    }
   ],
   "source": [
    "tables[0].info()"
   ]
  },
  {
   "cell_type": "code",
   "execution_count": 116,
   "metadata": {},
   "outputs": [
    {
     "data": {
      "text/html": [
       "<div>\n",
       "<style scoped>\n",
       "    .dataframe tbody tr th:only-of-type {\n",
       "        vertical-align: middle;\n",
       "    }\n",
       "\n",
       "    .dataframe tbody tr th {\n",
       "        vertical-align: top;\n",
       "    }\n",
       "\n",
       "    .dataframe thead th {\n",
       "        text-align: right;\n",
       "    }\n",
       "</style>\n",
       "<table border=\"1\" class=\"dataframe\">\n",
       "  <thead>\n",
       "    <tr style=\"text-align: right;\">\n",
       "      <th></th>\n",
       "      <th>City</th>\n",
       "      <th>State</th>\n",
       "      <th>2020 Census</th>\n",
       "      <th>Peak population</th>\n",
       "      <th>Percent decline from peak population</th>\n",
       "      <th>Notes</th>\n",
       "    </tr>\n",
       "  </thead>\n",
       "  <tbody>\n",
       "    <tr>\n",
       "      <th>0</th>\n",
       "      <td>Albany</td>\n",
       "      <td>New York</td>\n",
       "      <td>99224.0</td>\n",
       "      <td>134995</td>\n",
       "      <td>−26.50%</td>\n",
       "      <td>Peak in 1950, +1.40% since 2010.</td>\n",
       "    </tr>\n",
       "    <tr>\n",
       "      <th>1</th>\n",
       "      <td>Allegheny</td>\n",
       "      <td>Pennsylvania</td>\n",
       "      <td>NaN</td>\n",
       "      <td>129896</td>\n",
       "      <td>NaN</td>\n",
       "      <td>Peak as an independent city, annexed by Pittsb...</td>\n",
       "    </tr>\n",
       "    <tr>\n",
       "      <th>2</th>\n",
       "      <td>Brooklyn</td>\n",
       "      <td>New York</td>\n",
       "      <td>NaN</td>\n",
       "      <td>806343</td>\n",
       "      <td>NaN</td>\n",
       "      <td>Peak as an independent city, consolidated with...</td>\n",
       "    </tr>\n",
       "    <tr>\n",
       "      <th>3</th>\n",
       "      <td>Camden</td>\n",
       "      <td>New Jersey</td>\n",
       "      <td>71791.0</td>\n",
       "      <td>124555</td>\n",
       "      <td>−42.36%</td>\n",
       "      <td>Peak in 1950, −7.18% since 2010.</td>\n",
       "    </tr>\n",
       "    <tr>\n",
       "      <th>4</th>\n",
       "      <td>Canton</td>\n",
       "      <td>Ohio</td>\n",
       "      <td>70872.0</td>\n",
       "      <td>116912</td>\n",
       "      <td>−39.38%</td>\n",
       "      <td>Peak in 1950, −2.92% since 2010.</td>\n",
       "    </tr>\n",
       "  </tbody>\n",
       "</table>\n",
       "</div>"
      ],
      "text/plain": [
       "        City         State  2020 Census  Peak population  \\\n",
       "0     Albany      New York      99224.0           134995   \n",
       "1  Allegheny  Pennsylvania          NaN           129896   \n",
       "2   Brooklyn      New York          NaN           806343   \n",
       "3     Camden    New Jersey      71791.0           124555   \n",
       "4     Canton          Ohio      70872.0           116912   \n",
       "\n",
       "  Percent decline from peak population  \\\n",
       "0                              −26.50%   \n",
       "1                                  NaN   \n",
       "2                                  NaN   \n",
       "3                              −42.36%   \n",
       "4                              −39.38%   \n",
       "\n",
       "                                               Notes  \n",
       "0                   Peak in 1950, +1.40% since 2010.  \n",
       "1  Peak as an independent city, annexed by Pittsb...  \n",
       "2  Peak as an independent city, consolidated with...  \n",
       "3                   Peak in 1950, −7.18% since 2010.  \n",
       "4                   Peak in 1950, −2.92% since 2010.  "
      ]
     },
     "execution_count": 116,
     "metadata": {},
     "output_type": "execute_result"
    }
   ],
   "source": [
    "tables[1].head()"
   ]
  },
  {
   "cell_type": "code",
   "execution_count": 118,
   "metadata": {},
   "outputs": [
    {
     "name": "stdout",
     "output_type": "stream",
     "text": [
      "<class 'pandas.core.frame.DataFrame'>\n",
      "RangeIndex: 24 entries, 0 to 23\n",
      "Data columns (total 6 columns):\n",
      " #   Column                                Non-Null Count  Dtype  \n",
      "---  ------                                --------------  -----  \n",
      " 0   City                                  24 non-null     object \n",
      " 1   State                                 24 non-null     object \n",
      " 2   2020 Census                           22 non-null     float64\n",
      " 3   Peak population                       24 non-null     int64  \n",
      " 4   Percent decline from peak population  22 non-null     object \n",
      " 5   Notes                                 24 non-null     object \n",
      "dtypes: float64(1), int64(1), object(4)\n",
      "memory usage: 1.2+ KB\n"
     ]
    }
   ],
   "source": [
    "tables[1].info()"
   ]
  },
  {
   "cell_type": "markdown",
   "metadata": {},
   "source": [
    "## Data from JSON APIs"
   ]
  },
  {
   "cell_type": "code",
   "execution_count": null,
   "metadata": {},
   "outputs": [],
   "source": [
    "!pip install requests"
   ]
  },
  {
   "cell_type": "code",
   "execution_count": 119,
   "metadata": {},
   "outputs": [],
   "source": [
    "import requests\n",
    "\n",
    "# I don't have any idea who's API key this is, but they're free, so....\n",
    "APPID = '10d4440bbaa8581bb8da9bd1fbea5617'   \n",
    "UNITS = 'imperial'\n",
    "city = 'San Francisco'\n",
    "resp = requests.get(\n",
    "    'http://api.openweathermap.org/data/2.5/forecast', \n",
    "    params={\n",
    "        'q': city,\n",
    "        'units': UNITS,\n",
    "        'appid': APPID,\n",
    "    }\n",
    ")\n",
    "data = resp.json()"
   ]
  },
  {
   "cell_type": "code",
   "execution_count": 120,
   "metadata": {
    "scrolled": true
   },
   "outputs": [
    {
     "data": {
      "text/plain": [
       "{'cod': '200',\n",
       " 'message': 0,\n",
       " 'cnt': 40,\n",
       " 'list': [{'dt': 1635962400,\n",
       "   'main': {'temp': 62.73,\n",
       "    'feels_like': 62.65,\n",
       "    'temp_min': 62.04,\n",
       "    'temp_max': 62.73,\n",
       "    'pressure': 1021,\n",
       "    'sea_level': 1021,\n",
       "    'grnd_level': 1019,\n",
       "    'humidity': 84,\n",
       "    'temp_kf': 0.38},\n",
       "   'weather': [{'id': 802,\n",
       "     'main': 'Clouds',\n",
       "     'description': 'scattered clouds',\n",
       "     'icon': '03d'}],\n",
       "   'clouds': {'all': 40},\n",
       "   'wind': {'speed': 1.72, 'deg': 94, 'gust': 2.35},\n",
       "   'visibility': 10000,\n",
       "   'pop': 0,\n",
       "   'sys': {'pod': 'd'},\n",
       "   'dt_txt': '2021-11-03 18:00:00'},\n",
       "  {'dt': 1635973200,\n",
       "   'main': {'temp': 63.64,\n",
       "    'feels_like': 63.37,\n",
       "    'temp_min': 63.64,\n",
       "    'temp_max': 65.5,\n",
       "    'pressure': 1020,\n",
       "    'sea_level': 1020,\n",
       "    'grnd_level': 1017,\n",
       "    'humidity': 78,\n",
       "    'temp_kf': -1.03},\n",
       "   'weather': [{'id': 802,\n",
       "     'main': 'Clouds',\n",
       "     'description': 'scattered clouds',\n",
       "     'icon': '03d'}],\n",
       "   'clouds': {'all': 27},\n",
       "   'wind': {'speed': 1.3, 'deg': 249, 'gust': 2.06},\n",
       "   'visibility': 10000,\n",
       "   'pop': 0,\n",
       "   'sys': {'pod': 'd'},\n",
       "   'dt_txt': '2021-11-03 21:00:00'},\n",
       "  {'dt': 1635984000,\n",
       "   'main': {'temp': 64.36,\n",
       "    'feels_like': 63.88,\n",
       "    'temp_min': 64.36,\n",
       "    'temp_max': 65.19,\n",
       "    'pressure': 1018,\n",
       "    'sea_level': 1018,\n",
       "    'grnd_level': 1015,\n",
       "    'humidity': 72,\n",
       "    'temp_kf': -0.46},\n",
       "   'weather': [{'id': 801,\n",
       "     'main': 'Clouds',\n",
       "     'description': 'few clouds',\n",
       "     'icon': '02d'}],\n",
       "   'clouds': {'all': 14},\n",
       "   'wind': {'speed': 4.85, 'deg': 247, 'gust': 5.84},\n",
       "   'visibility': 10000,\n",
       "   'pop': 0,\n",
       "   'sys': {'pod': 'd'},\n",
       "   'dt_txt': '2021-11-04 00:00:00'},\n",
       "  {'dt': 1635994800,\n",
       "   'main': {'temp': 62.17,\n",
       "    'feels_like': 61.43,\n",
       "    'temp_min': 62.17,\n",
       "    'temp_max': 62.17,\n",
       "    'pressure': 1018,\n",
       "    'sea_level': 1018,\n",
       "    'grnd_level': 1016,\n",
       "    'humidity': 71,\n",
       "    'temp_kf': 0},\n",
       "   'weather': [{'id': 800,\n",
       "     'main': 'Clear',\n",
       "     'description': 'clear sky',\n",
       "     'icon': '01n'}],\n",
       "   'clouds': {'all': 0},\n",
       "   'wind': {'speed': 4.74, 'deg': 232, 'gust': 7.36},\n",
       "   'visibility': 10000,\n",
       "   'pop': 0,\n",
       "   'sys': {'pod': 'n'},\n",
       "   'dt_txt': '2021-11-04 03:00:00'},\n",
       "  {'dt': 1636005600,\n",
       "   'main': {'temp': 62.6,\n",
       "    'feels_like': 61.95,\n",
       "    'temp_min': 62.6,\n",
       "    'temp_max': 62.6,\n",
       "    'pressure': 1018,\n",
       "    'sea_level': 1018,\n",
       "    'grnd_level': 1016,\n",
       "    'humidity': 72,\n",
       "    'temp_kf': 0},\n",
       "   'weather': [{'id': 802,\n",
       "     'main': 'Clouds',\n",
       "     'description': 'scattered clouds',\n",
       "     'icon': '03n'}],\n",
       "   'clouds': {'all': 29},\n",
       "   'wind': {'speed': 7.56, 'deg': 173, 'gust': 12.26},\n",
       "   'visibility': 10000,\n",
       "   'pop': 0.06,\n",
       "   'sys': {'pod': 'n'},\n",
       "   'dt_txt': '2021-11-04 06:00:00'},\n",
       "  {'dt': 1636016400,\n",
       "   'main': {'temp': 60.67,\n",
       "    'feels_like': 60.71,\n",
       "    'temp_min': 60.67,\n",
       "    'temp_max': 60.67,\n",
       "    'pressure': 1018,\n",
       "    'sea_level': 1018,\n",
       "    'grnd_level': 1016,\n",
       "    'humidity': 91,\n",
       "    'temp_kf': 0},\n",
       "   'weather': [{'id': 500,\n",
       "     'main': 'Rain',\n",
       "     'description': 'light rain',\n",
       "     'icon': '10n'}],\n",
       "   'clouds': {'all': 97},\n",
       "   'wind': {'speed': 10.69, 'deg': 194, 'gust': 20.76},\n",
       "   'visibility': 10000,\n",
       "   'pop': 0.74,\n",
       "   'rain': {'3h': 2.01},\n",
       "   'sys': {'pod': 'n'},\n",
       "   'dt_txt': '2021-11-04 09:00:00'},\n",
       "  {'dt': 1636027200,\n",
       "   'main': {'temp': 60.87,\n",
       "    'feels_like': 61.07,\n",
       "    'temp_min': 60.87,\n",
       "    'temp_max': 60.87,\n",
       "    'pressure': 1018,\n",
       "    'sea_level': 1018,\n",
       "    'grnd_level': 1017,\n",
       "    'humidity': 94,\n",
       "    'temp_kf': 0},\n",
       "   'weather': [{'id': 500,\n",
       "     'main': 'Rain',\n",
       "     'description': 'light rain',\n",
       "     'icon': '10n'}],\n",
       "   'clouds': {'all': 99},\n",
       "   'wind': {'speed': 9.86, 'deg': 236, 'gust': 14.72},\n",
       "   'visibility': 10000,\n",
       "   'pop': 0.86,\n",
       "   'rain': {'3h': 1.18},\n",
       "   'sys': {'pod': 'n'},\n",
       "   'dt_txt': '2021-11-04 12:00:00'},\n",
       "  {'dt': 1636038000,\n",
       "   'main': {'temp': 58.96,\n",
       "    'feels_like': 58.89,\n",
       "    'temp_min': 58.96,\n",
       "    'temp_max': 58.96,\n",
       "    'pressure': 1020,\n",
       "    'sea_level': 1020,\n",
       "    'grnd_level': 1018,\n",
       "    'humidity': 92,\n",
       "    'temp_kf': 0},\n",
       "   'weather': [{'id': 500,\n",
       "     'main': 'Rain',\n",
       "     'description': 'light rain',\n",
       "     'icon': '10d'}],\n",
       "   'clouds': {'all': 62},\n",
       "   'wind': {'speed': 8.79, 'deg': 262, 'gust': 14.92},\n",
       "   'visibility': 10000,\n",
       "   'pop': 0.37,\n",
       "   'rain': {'3h': 0.23},\n",
       "   'sys': {'pod': 'd'},\n",
       "   'dt_txt': '2021-11-04 15:00:00'},\n",
       "  {'dt': 1636048800,\n",
       "   'main': {'temp': 60.1,\n",
       "    'feels_like': 59.52,\n",
       "    'temp_min': 60.1,\n",
       "    'temp_max': 60.1,\n",
       "    'pressure': 1022,\n",
       "    'sea_level': 1022,\n",
       "    'grnd_level': 1020,\n",
       "    'humidity': 79,\n",
       "    'temp_kf': 0},\n",
       "   'weather': [{'id': 500,\n",
       "     'main': 'Rain',\n",
       "     'description': 'light rain',\n",
       "     'icon': '10d'}],\n",
       "   'clouds': {'all': 74},\n",
       "   'wind': {'speed': 9.78, 'deg': 293, 'gust': 12.55},\n",
       "   'visibility': 10000,\n",
       "   'pop': 0.2,\n",
       "   'rain': {'3h': 0.11},\n",
       "   'sys': {'pod': 'd'},\n",
       "   'dt_txt': '2021-11-04 18:00:00'},\n",
       "  {'dt': 1636059600,\n",
       "   'main': {'temp': 61.75,\n",
       "    'feels_like': 60.78,\n",
       "    'temp_min': 61.75,\n",
       "    'temp_max': 61.75,\n",
       "    'pressure': 1021,\n",
       "    'sea_level': 1021,\n",
       "    'grnd_level': 1019,\n",
       "    'humidity': 67,\n",
       "    'temp_kf': 0},\n",
       "   'weather': [{'id': 803,\n",
       "     'main': 'Clouds',\n",
       "     'description': 'broken clouds',\n",
       "     'icon': '04d'}],\n",
       "   'clouds': {'all': 65},\n",
       "   'wind': {'speed': 8.21, 'deg': 287, 'gust': 8.63},\n",
       "   'visibility': 10000,\n",
       "   'pop': 0,\n",
       "   'sys': {'pod': 'd'},\n",
       "   'dt_txt': '2021-11-04 21:00:00'},\n",
       "  {'dt': 1636070400,\n",
       "   'main': {'temp': 61.07,\n",
       "    'feels_like': 60.17,\n",
       "    'temp_min': 61.07,\n",
       "    'temp_max': 61.07,\n",
       "    'pressure': 1019,\n",
       "    'sea_level': 1019,\n",
       "    'grnd_level': 1017,\n",
       "    'humidity': 70,\n",
       "    'temp_kf': 0},\n",
       "   'weather': [{'id': 802,\n",
       "     'main': 'Clouds',\n",
       "     'description': 'scattered clouds',\n",
       "     'icon': '03d'}],\n",
       "   'clouds': {'all': 33},\n",
       "   'wind': {'speed': 7.34, 'deg': 283, 'gust': 7.94},\n",
       "   'visibility': 10000,\n",
       "   'pop': 0,\n",
       "   'sys': {'pod': 'd'},\n",
       "   'dt_txt': '2021-11-05 00:00:00'},\n",
       "  {'dt': 1636081200,\n",
       "   'main': {'temp': 58.15,\n",
       "    'feels_like': 57.43,\n",
       "    'temp_min': 58.15,\n",
       "    'temp_max': 58.15,\n",
       "    'pressure': 1020,\n",
       "    'sea_level': 1020,\n",
       "    'grnd_level': 1018,\n",
       "    'humidity': 80,\n",
       "    'temp_kf': 0},\n",
       "   'weather': [{'id': 800,\n",
       "     'main': 'Clear',\n",
       "     'description': 'clear sky',\n",
       "     'icon': '01n'}],\n",
       "   'clouds': {'all': 2},\n",
       "   'wind': {'speed': 7.67, 'deg': 308, 'gust': 9.91},\n",
       "   'visibility': 10000,\n",
       "   'pop': 0,\n",
       "   'sys': {'pod': 'n'},\n",
       "   'dt_txt': '2021-11-05 03:00:00'},\n",
       "  {'dt': 1636092000,\n",
       "   'main': {'temp': 56.91,\n",
       "    'feels_like': 56.07,\n",
       "    'temp_min': 56.91,\n",
       "    'temp_max': 56.91,\n",
       "    'pressure': 1020,\n",
       "    'sea_level': 1020,\n",
       "    'grnd_level': 1018,\n",
       "    'humidity': 80,\n",
       "    'temp_kf': 0},\n",
       "   'weather': [{'id': 800,\n",
       "     'main': 'Clear',\n",
       "     'description': 'clear sky',\n",
       "     'icon': '01n'}],\n",
       "   'clouds': {'all': 1},\n",
       "   'wind': {'speed': 5.06, 'deg': 309, 'gust': 5.93},\n",
       "   'visibility': 10000,\n",
       "   'pop': 0,\n",
       "   'sys': {'pod': 'n'},\n",
       "   'dt_txt': '2021-11-05 06:00:00'},\n",
       "  {'dt': 1636102800,\n",
       "   'main': {'temp': 55.65,\n",
       "    'feels_like': 54.68,\n",
       "    'temp_min': 55.65,\n",
       "    'temp_max': 55.65,\n",
       "    'pressure': 1019,\n",
       "    'sea_level': 1019,\n",
       "    'grnd_level': 1018,\n",
       "    'humidity': 80,\n",
       "    'temp_kf': 0},\n",
       "   'weather': [{'id': 800,\n",
       "     'main': 'Clear',\n",
       "     'description': 'clear sky',\n",
       "     'icon': '01n'}],\n",
       "   'clouds': {'all': 0},\n",
       "   'wind': {'speed': 5.84, 'deg': 305, 'gust': 7.83},\n",
       "   'visibility': 10000,\n",
       "   'pop': 0,\n",
       "   'sys': {'pod': 'n'},\n",
       "   'dt_txt': '2021-11-05 09:00:00'},\n",
       "  {'dt': 1636113600,\n",
       "   'main': {'temp': 54.39,\n",
       "    'feels_like': 53.29,\n",
       "    'temp_min': 54.39,\n",
       "    'temp_max': 54.39,\n",
       "    'pressure': 1019,\n",
       "    'sea_level': 1019,\n",
       "    'grnd_level': 1017,\n",
       "    'humidity': 80,\n",
       "    'temp_kf': 0},\n",
       "   'weather': [{'id': 800,\n",
       "     'main': 'Clear',\n",
       "     'description': 'clear sky',\n",
       "     'icon': '01n'}],\n",
       "   'clouds': {'all': 8},\n",
       "   'wind': {'speed': 5.93, 'deg': 306, 'gust': 7.7},\n",
       "   'visibility': 10000,\n",
       "   'pop': 0,\n",
       "   'sys': {'pod': 'n'},\n",
       "   'dt_txt': '2021-11-05 12:00:00'},\n",
       "  {'dt': 1636124400,\n",
       "   'main': {'temp': 53.92,\n",
       "    'feels_like': 52.63,\n",
       "    'temp_min': 53.92,\n",
       "    'temp_max': 53.92,\n",
       "    'pressure': 1019,\n",
       "    'sea_level': 1019,\n",
       "    'grnd_level': 1017,\n",
       "    'humidity': 77,\n",
       "    'temp_kf': 0},\n",
       "   'weather': [{'id': 804,\n",
       "     'main': 'Clouds',\n",
       "     'description': 'overcast clouds',\n",
       "     'icon': '04d'}],\n",
       "   'clouds': {'all': 90},\n",
       "   'wind': {'speed': 5.35, 'deg': 319, 'gust': 8.1},\n",
       "   'visibility': 10000,\n",
       "   'pop': 0,\n",
       "   'sys': {'pod': 'd'},\n",
       "   'dt_txt': '2021-11-05 15:00:00'},\n",
       "  {'dt': 1636135200,\n",
       "   'main': {'temp': 57.4,\n",
       "    'feels_like': 55.8,\n",
       "    'temp_min': 57.4,\n",
       "    'temp_max': 57.4,\n",
       "    'pressure': 1020,\n",
       "    'sea_level': 1020,\n",
       "    'grnd_level': 1018,\n",
       "    'humidity': 63,\n",
       "    'temp_kf': 0},\n",
       "   'weather': [{'id': 804,\n",
       "     'main': 'Clouds',\n",
       "     'description': 'overcast clouds',\n",
       "     'icon': '04d'}],\n",
       "   'clouds': {'all': 88},\n",
       "   'wind': {'speed': 2.35, 'deg': 337, 'gust': 3.2},\n",
       "   'visibility': 10000,\n",
       "   'pop': 0,\n",
       "   'sys': {'pod': 'd'},\n",
       "   'dt_txt': '2021-11-05 18:00:00'},\n",
       "  {'dt': 1636146000,\n",
       "   'main': {'temp': 60.21,\n",
       "    'feels_like': 58.42,\n",
       "    'temp_min': 60.21,\n",
       "    'temp_max': 60.21,\n",
       "    'pressure': 1018,\n",
       "    'sea_level': 1018,\n",
       "    'grnd_level': 1016,\n",
       "    'humidity': 53,\n",
       "    'temp_kf': 0},\n",
       "   'weather': [{'id': 803,\n",
       "     'main': 'Clouds',\n",
       "     'description': 'broken clouds',\n",
       "     'icon': '04d'}],\n",
       "   'clouds': {'all': 84},\n",
       "   'wind': {'speed': 4.9, 'deg': 280, 'gust': 5.21},\n",
       "   'visibility': 10000,\n",
       "   'pop': 0,\n",
       "   'sys': {'pod': 'd'},\n",
       "   'dt_txt': '2021-11-05 21:00:00'},\n",
       "  {'dt': 1636156800,\n",
       "   'main': {'temp': 60.35,\n",
       "    'feels_like': 59,\n",
       "    'temp_min': 60.35,\n",
       "    'temp_max': 60.35,\n",
       "    'pressure': 1017,\n",
       "    'sea_level': 1017,\n",
       "    'grnd_level': 1015,\n",
       "    'humidity': 62,\n",
       "    'temp_kf': 0},\n",
       "   'weather': [{'id': 804,\n",
       "     'main': 'Clouds',\n",
       "     'description': 'overcast clouds',\n",
       "     'icon': '04d'}],\n",
       "   'clouds': {'all': 87},\n",
       "   'wind': {'speed': 7.52, 'deg': 297, 'gust': 9.15},\n",
       "   'visibility': 10000,\n",
       "   'pop': 0,\n",
       "   'sys': {'pod': 'd'},\n",
       "   'dt_txt': '2021-11-06 00:00:00'},\n",
       "  {'dt': 1636167600,\n",
       "   'main': {'temp': 58.24,\n",
       "    'feels_like': 57.06,\n",
       "    'temp_min': 58.24,\n",
       "    'temp_max': 58.24,\n",
       "    'pressure': 1017,\n",
       "    'sea_level': 1017,\n",
       "    'grnd_level': 1015,\n",
       "    'humidity': 70,\n",
       "    'temp_kf': 0},\n",
       "   'weather': [{'id': 804,\n",
       "     'main': 'Clouds',\n",
       "     'description': 'overcast clouds',\n",
       "     'icon': '04n'}],\n",
       "   'clouds': {'all': 99},\n",
       "   'wind': {'speed': 4.7, 'deg': 293, 'gust': 5.7},\n",
       "   'visibility': 10000,\n",
       "   'pop': 0,\n",
       "   'sys': {'pod': 'n'},\n",
       "   'dt_txt': '2021-11-06 03:00:00'},\n",
       "  {'dt': 1636178400,\n",
       "   'main': {'temp': 56.82,\n",
       "    'feels_like': 55.87,\n",
       "    'temp_min': 56.82,\n",
       "    'temp_max': 56.82,\n",
       "    'pressure': 1017,\n",
       "    'sea_level': 1017,\n",
       "    'grnd_level': 1015,\n",
       "    'humidity': 78,\n",
       "    'temp_kf': 0},\n",
       "   'weather': [{'id': 804,\n",
       "     'main': 'Clouds',\n",
       "     'description': 'overcast clouds',\n",
       "     'icon': '04n'}],\n",
       "   'clouds': {'all': 100},\n",
       "   'wind': {'speed': 4.18, 'deg': 304, 'gust': 6.29},\n",
       "   'visibility': 10000,\n",
       "   'pop': 0,\n",
       "   'sys': {'pod': 'n'},\n",
       "   'dt_txt': '2021-11-06 06:00:00'},\n",
       "  {'dt': 1636189200,\n",
       "   'main': {'temp': 56.57,\n",
       "    'feels_like': 55.69,\n",
       "    'temp_min': 56.57,\n",
       "    'temp_max': 56.57,\n",
       "    'pressure': 1017,\n",
       "    'sea_level': 1017,\n",
       "    'grnd_level': 1015,\n",
       "    'humidity': 80,\n",
       "    'temp_kf': 0},\n",
       "   'weather': [{'id': 804,\n",
       "     'main': 'Clouds',\n",
       "     'description': 'overcast clouds',\n",
       "     'icon': '04n'}],\n",
       "   'clouds': {'all': 100},\n",
       "   'wind': {'speed': 4.79, 'deg': 288, 'gust': 8.79},\n",
       "   'visibility': 10000,\n",
       "   'pop': 0,\n",
       "   'sys': {'pod': 'n'},\n",
       "   'dt_txt': '2021-11-06 09:00:00'},\n",
       "  {'dt': 1636200000,\n",
       "   'main': {'temp': 56.35,\n",
       "    'feels_like': 55.69,\n",
       "    'temp_min': 56.35,\n",
       "    'temp_max': 56.35,\n",
       "    'pressure': 1017,\n",
       "    'sea_level': 1017,\n",
       "    'grnd_level': 1015,\n",
       "    'humidity': 85,\n",
       "    'temp_kf': 0},\n",
       "   'weather': [{'id': 804,\n",
       "     'main': 'Clouds',\n",
       "     'description': 'overcast clouds',\n",
       "     'icon': '04n'}],\n",
       "   'clouds': {'all': 100},\n",
       "   'wind': {'speed': 3.2, 'deg': 254, 'gust': 4.36},\n",
       "   'visibility': 10000,\n",
       "   'pop': 0,\n",
       "   'sys': {'pod': 'n'},\n",
       "   'dt_txt': '2021-11-06 12:00:00'},\n",
       "  {'dt': 1636210800,\n",
       "   'main': {'temp': 56.66,\n",
       "    'feels_like': 56.12,\n",
       "    'temp_min': 56.66,\n",
       "    'temp_max': 56.66,\n",
       "    'pressure': 1018,\n",
       "    'sea_level': 1018,\n",
       "    'grnd_level': 1016,\n",
       "    'humidity': 87,\n",
       "    'temp_kf': 0},\n",
       "   'weather': [{'id': 804,\n",
       "     'main': 'Clouds',\n",
       "     'description': 'overcast clouds',\n",
       "     'icon': '04d'}],\n",
       "   'clouds': {'all': 100},\n",
       "   'wind': {'speed': 4.27, 'deg': 201, 'gust': 5.23},\n",
       "   'visibility': 10000,\n",
       "   'pop': 0,\n",
       "   'sys': {'pod': 'd'},\n",
       "   'dt_txt': '2021-11-06 15:00:00'},\n",
       "  {'dt': 1636221600,\n",
       "   'main': {'temp': 58.86,\n",
       "    'feels_like': 58.21,\n",
       "    'temp_min': 58.86,\n",
       "    'temp_max': 58.86,\n",
       "    'pressure': 1018,\n",
       "    'sea_level': 1018,\n",
       "    'grnd_level': 1016,\n",
       "    'humidity': 80,\n",
       "    'temp_kf': 0},\n",
       "   'weather': [{'id': 500,\n",
       "     'main': 'Rain',\n",
       "     'description': 'light rain',\n",
       "     'icon': '10d'}],\n",
       "   'clouds': {'all': 100},\n",
       "   'wind': {'speed': 7.67, 'deg': 184, 'gust': 11.1},\n",
       "   'visibility': 10000,\n",
       "   'pop': 0.39,\n",
       "   'rain': {'3h': 0.12},\n",
       "   'sys': {'pod': 'd'},\n",
       "   'dt_txt': '2021-11-06 18:00:00'},\n",
       "  {'dt': 1636232400,\n",
       "   'main': {'temp': 56.26,\n",
       "    'feels_like': 55.08,\n",
       "    'temp_min': 56.26,\n",
       "    'temp_max': 56.26,\n",
       "    'pressure': 1019,\n",
       "    'sea_level': 1019,\n",
       "    'grnd_level': 1017,\n",
       "    'humidity': 74,\n",
       "    'temp_kf': 0},\n",
       "   'weather': [{'id': 500,\n",
       "     'main': 'Rain',\n",
       "     'description': 'light rain',\n",
       "     'icon': '10d'}],\n",
       "   'clouds': {'all': 100},\n",
       "   'wind': {'speed': 10.45, 'deg': 300, 'gust': 16.98},\n",
       "   'visibility': 10000,\n",
       "   'pop': 0.74,\n",
       "   'rain': {'3h': 1.51},\n",
       "   'sys': {'pod': 'd'},\n",
       "   'dt_txt': '2021-11-06 21:00:00'},\n",
       "  {'dt': 1636243200,\n",
       "   'main': {'temp': 57.45,\n",
       "    'feels_like': 56.05,\n",
       "    'temp_min': 57.45,\n",
       "    'temp_max': 57.45,\n",
       "    'pressure': 1019,\n",
       "    'sea_level': 1019,\n",
       "    'grnd_level': 1017,\n",
       "    'humidity': 67,\n",
       "    'temp_kf': 0},\n",
       "   'weather': [{'id': 500,\n",
       "     'main': 'Rain',\n",
       "     'description': 'light rain',\n",
       "     'icon': '10d'}],\n",
       "   'clouds': {'all': 90},\n",
       "   'wind': {'speed': 9.51, 'deg': 297, 'gust': 13.53},\n",
       "   'visibility': 10000,\n",
       "   'pop': 0.61,\n",
       "   'rain': {'3h': 0.14},\n",
       "   'sys': {'pod': 'd'},\n",
       "   'dt_txt': '2021-11-07 00:00:00'},\n",
       "  {'dt': 1636254000,\n",
       "   'main': {'temp': 55.33,\n",
       "    'feels_like': 53.65,\n",
       "    'temp_min': 55.33,\n",
       "    'temp_max': 55.33,\n",
       "    'pressure': 1021,\n",
       "    'sea_level': 1021,\n",
       "    'grnd_level': 1019,\n",
       "    'humidity': 66,\n",
       "    'temp_kf': 0},\n",
       "   'weather': [{'id': 804,\n",
       "     'main': 'Clouds',\n",
       "     'description': 'overcast clouds',\n",
       "     'icon': '04n'}],\n",
       "   'clouds': {'all': 100},\n",
       "   'wind': {'speed': 11.23, 'deg': 301, 'gust': 17.05},\n",
       "   'visibility': 10000,\n",
       "   'pop': 0,\n",
       "   'sys': {'pod': 'n'},\n",
       "   'dt_txt': '2021-11-07 03:00:00'},\n",
       "  {'dt': 1636264800,\n",
       "   'main': {'temp': 53.8,\n",
       "    'feels_like': 51.98,\n",
       "    'temp_min': 53.8,\n",
       "    'temp_max': 53.8,\n",
       "    'pressure': 1022,\n",
       "    'sea_level': 1022,\n",
       "    'grnd_level': 1020,\n",
       "    'humidity': 66,\n",
       "    'temp_kf': 0},\n",
       "   'weather': [{'id': 804,\n",
       "     'main': 'Clouds',\n",
       "     'description': 'overcast clouds',\n",
       "     'icon': '04n'}],\n",
       "   'clouds': {'all': 92},\n",
       "   'wind': {'speed': 9.84, 'deg': 309, 'gust': 15.48},\n",
       "   'visibility': 10000,\n",
       "   'pop': 0,\n",
       "   'sys': {'pod': 'n'},\n",
       "   'dt_txt': '2021-11-07 06:00:00'},\n",
       "  {'dt': 1636275600,\n",
       "   'main': {'temp': 52.99,\n",
       "    'feels_like': 51.13,\n",
       "    'temp_min': 52.99,\n",
       "    'temp_max': 52.99,\n",
       "    'pressure': 1023,\n",
       "    'sea_level': 1023,\n",
       "    'grnd_level': 1021,\n",
       "    'humidity': 67,\n",
       "    'temp_kf': 0},\n",
       "   'weather': [{'id': 803,\n",
       "     'main': 'Clouds',\n",
       "     'description': 'broken clouds',\n",
       "     'icon': '04n'}],\n",
       "   'clouds': {'all': 81},\n",
       "   'wind': {'speed': 14.7, 'deg': 303, 'gust': 21.74},\n",
       "   'visibility': 10000,\n",
       "   'pop': 0,\n",
       "   'sys': {'pod': 'n'},\n",
       "   'dt_txt': '2021-11-07 09:00:00'},\n",
       "  {'dt': 1636286400,\n",
       "   'main': {'temp': 52.32,\n",
       "    'feels_like': 50.31,\n",
       "    'temp_min': 52.32,\n",
       "    'temp_max': 52.32,\n",
       "    'pressure': 1023,\n",
       "    'sea_level': 1023,\n",
       "    'grnd_level': 1021,\n",
       "    'humidity': 65,\n",
       "    'temp_kf': 0},\n",
       "   'weather': [{'id': 803,\n",
       "     'main': 'Clouds',\n",
       "     'description': 'broken clouds',\n",
       "     'icon': '04n'}],\n",
       "   'clouds': {'all': 79},\n",
       "   'wind': {'speed': 12.71, 'deg': 327, 'gust': 20.76},\n",
       "   'visibility': 10000,\n",
       "   'pop': 0,\n",
       "   'sys': {'pod': 'n'},\n",
       "   'dt_txt': '2021-11-07 12:00:00'},\n",
       "  {'dt': 1636297200,\n",
       "   'main': {'temp': 49.91,\n",
       "    'feels_like': 46.53,\n",
       "    'temp_min': 49.91,\n",
       "    'temp_max': 49.91,\n",
       "    'pressure': 1024,\n",
       "    'sea_level': 1024,\n",
       "    'grnd_level': 1022,\n",
       "    'humidity': 69,\n",
       "    'temp_kf': 0},\n",
       "   'weather': [{'id': 803,\n",
       "     'main': 'Clouds',\n",
       "     'description': 'broken clouds',\n",
       "     'icon': '04d'}],\n",
       "   'clouds': {'all': 74},\n",
       "   'wind': {'speed': 8.32, 'deg': 353, 'gust': 13.24},\n",
       "   'visibility': 10000,\n",
       "   'pop': 0,\n",
       "   'sys': {'pod': 'd'},\n",
       "   'dt_txt': '2021-11-07 15:00:00'},\n",
       "  {'dt': 1636308000,\n",
       "   'main': {'temp': 53.31,\n",
       "    'feels_like': 50.97,\n",
       "    'temp_min': 53.31,\n",
       "    'temp_max': 53.31,\n",
       "    'pressure': 1024,\n",
       "    'sea_level': 1024,\n",
       "    'grnd_level': 1022,\n",
       "    'humidity': 56,\n",
       "    'temp_kf': 0},\n",
       "   'weather': [{'id': 803,\n",
       "     'main': 'Clouds',\n",
       "     'description': 'broken clouds',\n",
       "     'icon': '04d'}],\n",
       "   'clouds': {'all': 52},\n",
       "   'wind': {'speed': 5.99, 'deg': 7, 'gust': 8.46},\n",
       "   'visibility': 10000,\n",
       "   'pop': 0,\n",
       "   'sys': {'pod': 'd'},\n",
       "   'dt_txt': '2021-11-07 18:00:00'},\n",
       "  {'dt': 1636318800,\n",
       "   'main': {'temp': 57.85,\n",
       "    'feels_like': 55.49,\n",
       "    'temp_min': 57.85,\n",
       "    'temp_max': 57.85,\n",
       "    'pressure': 1022,\n",
       "    'sea_level': 1022,\n",
       "    'grnd_level': 1020,\n",
       "    'humidity': 46,\n",
       "    'temp_kf': 0},\n",
       "   'weather': [{'id': 802,\n",
       "     'main': 'Clouds',\n",
       "     'description': 'scattered clouds',\n",
       "     'icon': '03d'}],\n",
       "   'clouds': {'all': 40},\n",
       "   'wind': {'speed': 7.94, 'deg': 355, 'gust': 11.18},\n",
       "   'visibility': 10000,\n",
       "   'pop': 0,\n",
       "   'sys': {'pod': 'd'},\n",
       "   'dt_txt': '2021-11-07 21:00:00'},\n",
       "  {'dt': 1636329600,\n",
       "   'main': {'temp': 58.75,\n",
       "    'feels_like': 56.82,\n",
       "    'temp_min': 58.75,\n",
       "    'temp_max': 58.75,\n",
       "    'pressure': 1021,\n",
       "    'sea_level': 1021,\n",
       "    'grnd_level': 1019,\n",
       "    'humidity': 53,\n",
       "    'temp_kf': 0},\n",
       "   'weather': [{'id': 803,\n",
       "     'main': 'Clouds',\n",
       "     'description': 'broken clouds',\n",
       "     'icon': '04d'}],\n",
       "   'clouds': {'all': 65},\n",
       "   'wind': {'speed': 13.38, 'deg': 305, 'gust': 15.95},\n",
       "   'visibility': 10000,\n",
       "   'pop': 0,\n",
       "   'sys': {'pod': 'd'},\n",
       "   'dt_txt': '2021-11-08 00:00:00'},\n",
       "  {'dt': 1636340400,\n",
       "   'main': {'temp': 55.72,\n",
       "    'feels_like': 54.14,\n",
       "    'temp_min': 55.72,\n",
       "    'temp_max': 55.72,\n",
       "    'pressure': 1020,\n",
       "    'sea_level': 1020,\n",
       "    'grnd_level': 1018,\n",
       "    'humidity': 67,\n",
       "    'temp_kf': 0},\n",
       "   'weather': [{'id': 804,\n",
       "     'main': 'Clouds',\n",
       "     'description': 'overcast clouds',\n",
       "     'icon': '04n'}],\n",
       "   'clouds': {'all': 99},\n",
       "   'wind': {'speed': 7.99, 'deg': 318, 'gust': 11.74},\n",
       "   'visibility': 10000,\n",
       "   'pop': 0,\n",
       "   'sys': {'pod': 'n'},\n",
       "   'dt_txt': '2021-11-08 03:00:00'},\n",
       "  {'dt': 1636351200,\n",
       "   'main': {'temp': 54.48,\n",
       "    'feels_like': 52.65,\n",
       "    'temp_min': 54.48,\n",
       "    'temp_max': 54.48,\n",
       "    'pressure': 1020,\n",
       "    'sea_level': 1020,\n",
       "    'grnd_level': 1018,\n",
       "    'humidity': 64,\n",
       "    'temp_kf': 0},\n",
       "   'weather': [{'id': 804,\n",
       "     'main': 'Clouds',\n",
       "     'description': 'overcast clouds',\n",
       "     'icon': '04n'}],\n",
       "   'clouds': {'all': 99},\n",
       "   'wind': {'speed': 8.28, 'deg': 324, 'gust': 11.18},\n",
       "   'visibility': 10000,\n",
       "   'pop': 0,\n",
       "   'sys': {'pod': 'n'},\n",
       "   'dt_txt': '2021-11-08 06:00:00'},\n",
       "  {'dt': 1636362000,\n",
       "   'main': {'temp': 52.99,\n",
       "    'feels_like': 50.9,\n",
       "    'temp_min': 52.99,\n",
       "    'temp_max': 52.99,\n",
       "    'pressure': 1018,\n",
       "    'sea_level': 1018,\n",
       "    'grnd_level': 1017,\n",
       "    'humidity': 62,\n",
       "    'temp_kf': 0},\n",
       "   'weather': [{'id': 804,\n",
       "     'main': 'Clouds',\n",
       "     'description': 'overcast clouds',\n",
       "     'icon': '04n'}],\n",
       "   'clouds': {'all': 100},\n",
       "   'wind': {'speed': 3.29, 'deg': 345, 'gust': 3.51},\n",
       "   'visibility': 10000,\n",
       "   'pop': 0,\n",
       "   'sys': {'pod': 'n'},\n",
       "   'dt_txt': '2021-11-08 09:00:00'},\n",
       "  {'dt': 1636372800,\n",
       "   'main': {'temp': 51.58,\n",
       "    'feels_like': 49.44,\n",
       "    'temp_min': 51.58,\n",
       "    'temp_max': 51.58,\n",
       "    'pressure': 1018,\n",
       "    'sea_level': 1018,\n",
       "    'grnd_level': 1016,\n",
       "    'humidity': 64,\n",
       "    'temp_kf': 0},\n",
       "   'weather': [{'id': 804,\n",
       "     'main': 'Clouds',\n",
       "     'description': 'overcast clouds',\n",
       "     'icon': '04n'}],\n",
       "   'clouds': {'all': 86},\n",
       "   'wind': {'speed': 2.62, 'deg': 29, 'gust': 2.59},\n",
       "   'visibility': 10000,\n",
       "   'pop': 0,\n",
       "   'sys': {'pod': 'n'},\n",
       "   'dt_txt': '2021-11-08 12:00:00'},\n",
       "  {'dt': 1636383600,\n",
       "   'main': {'temp': 50.85,\n",
       "    'feels_like': 48.78,\n",
       "    'temp_min': 50.85,\n",
       "    'temp_max': 50.85,\n",
       "    'pressure': 1017,\n",
       "    'sea_level': 1017,\n",
       "    'grnd_level': 1015,\n",
       "    'humidity': 67,\n",
       "    'temp_kf': 0},\n",
       "   'weather': [{'id': 803,\n",
       "     'main': 'Clouds',\n",
       "     'description': 'broken clouds',\n",
       "     'icon': '04d'}],\n",
       "   'clouds': {'all': 71},\n",
       "   'wind': {'speed': 4.18, 'deg': 45, 'gust': 4.25},\n",
       "   'visibility': 10000,\n",
       "   'pop': 0,\n",
       "   'sys': {'pod': 'd'},\n",
       "   'dt_txt': '2021-11-08 15:00:00'}],\n",
       " 'city': {'id': 5391959,\n",
       "  'name': 'San Francisco',\n",
       "  'coord': {'lat': 37.7749, 'lon': -122.4194},\n",
       "  'country': 'US',\n",
       "  'population': 805235,\n",
       "  'timezone': -25200,\n",
       "  'sunrise': 1635950248,\n",
       "  'sunset': 1635988136}}"
      ]
     },
     "execution_count": 120,
     "metadata": {},
     "output_type": "execute_result"
    }
   ],
   "source": [
    "data"
   ]
  },
  {
   "cell_type": "code",
   "execution_count": 121,
   "metadata": {},
   "outputs": [
    {
     "data": {
      "text/plain": [
       "{'dt': 1635962400,\n",
       " 'main': {'temp': 62.73,\n",
       "  'feels_like': 62.65,\n",
       "  'temp_min': 62.04,\n",
       "  'temp_max': 62.73,\n",
       "  'pressure': 1021,\n",
       "  'sea_level': 1021,\n",
       "  'grnd_level': 1019,\n",
       "  'humidity': 84,\n",
       "  'temp_kf': 0.38},\n",
       " 'weather': [{'id': 802,\n",
       "   'main': 'Clouds',\n",
       "   'description': 'scattered clouds',\n",
       "   'icon': '03d'}],\n",
       " 'clouds': {'all': 40},\n",
       " 'wind': {'speed': 1.72, 'deg': 94, 'gust': 2.35},\n",
       " 'visibility': 10000,\n",
       " 'pop': 0,\n",
       " 'sys': {'pod': 'd'},\n",
       " 'dt_txt': '2021-11-03 18:00:00'}"
      ]
     },
     "execution_count": 121,
     "metadata": {},
     "output_type": "execute_result"
    }
   ],
   "source": [
    "data['list'][0]"
   ]
  },
  {
   "cell_type": "code",
   "execution_count": 122,
   "metadata": {},
   "outputs": [
    {
     "data": {
      "text/plain": [
       "{'date': '2021-11-03 18:00:00',\n",
       " 'temp': 62.73,\n",
       " 'feels_like': 62.65,\n",
       " 'temp_min': 62.04,\n",
       " 'temp_max': 62.73,\n",
       " 'pressure': 1021,\n",
       " 'sea_level': 1021,\n",
       " 'grnd_level': 1019,\n",
       " 'humidity': 84,\n",
       " 'temp_kf': 0.38,\n",
       " 'id': 802,\n",
       " 'main': 'Clouds',\n",
       " 'description': 'scattered clouds',\n",
       " 'icon': '03d'}"
      ]
     },
     "execution_count": 122,
     "metadata": {},
     "output_type": "execute_result"
    }
   ],
   "source": [
    "row = data['list'][0]\n",
    "{\n",
    "    'date': row['dt_txt'], \n",
    "    **row['main'], \n",
    "    **row['weather'][0]\n",
    "} "
   ]
  },
  {
   "cell_type": "code",
   "execution_count": 123,
   "metadata": {},
   "outputs": [],
   "source": [
    "# Python magic to build a list of dicts\n",
    "\n",
    "raw_data = [\n",
    "    {\n",
    "        'date': row['dt_txt'], \n",
    "        **row['main'], \n",
    "        **row['weather'][0]\n",
    "    } \n",
    "    for row in data['list']\n",
    "]"
   ]
  },
  {
   "cell_type": "code",
   "execution_count": 124,
   "metadata": {},
   "outputs": [
    {
     "data": {
      "text/plain": [
       "{'date': '2021-11-03 18:00:00',\n",
       " 'temp': 62.73,\n",
       " 'feels_like': 62.65,\n",
       " 'temp_min': 62.04,\n",
       " 'temp_max': 62.73,\n",
       " 'pressure': 1021,\n",
       " 'sea_level': 1021,\n",
       " 'grnd_level': 1019,\n",
       " 'humidity': 84,\n",
       " 'temp_kf': 0.38,\n",
       " 'id': 802,\n",
       " 'main': 'Clouds',\n",
       " 'description': 'scattered clouds',\n",
       " 'icon': '03d'}"
      ]
     },
     "execution_count": 124,
     "metadata": {},
     "output_type": "execute_result"
    }
   ],
   "source": [
    "raw_data[0]"
   ]
  },
  {
   "cell_type": "code",
   "execution_count": 125,
   "metadata": {},
   "outputs": [
    {
     "data": {
      "text/html": [
       "<div>\n",
       "<style scoped>\n",
       "    .dataframe tbody tr th:only-of-type {\n",
       "        vertical-align: middle;\n",
       "    }\n",
       "\n",
       "    .dataframe tbody tr th {\n",
       "        vertical-align: top;\n",
       "    }\n",
       "\n",
       "    .dataframe thead th {\n",
       "        text-align: right;\n",
       "    }\n",
       "</style>\n",
       "<table border=\"1\" class=\"dataframe\">\n",
       "  <thead>\n",
       "    <tr style=\"text-align: right;\">\n",
       "      <th></th>\n",
       "      <th>date</th>\n",
       "      <th>temp</th>\n",
       "      <th>feels_like</th>\n",
       "      <th>temp_min</th>\n",
       "      <th>temp_max</th>\n",
       "      <th>pressure</th>\n",
       "      <th>sea_level</th>\n",
       "      <th>grnd_level</th>\n",
       "      <th>humidity</th>\n",
       "      <th>temp_kf</th>\n",
       "      <th>id</th>\n",
       "      <th>main</th>\n",
       "      <th>description</th>\n",
       "      <th>icon</th>\n",
       "    </tr>\n",
       "  </thead>\n",
       "  <tbody>\n",
       "    <tr>\n",
       "      <th>0</th>\n",
       "      <td>2021-11-03 18:00:00</td>\n",
       "      <td>62.73</td>\n",
       "      <td>62.65</td>\n",
       "      <td>62.04</td>\n",
       "      <td>62.73</td>\n",
       "      <td>1021</td>\n",
       "      <td>1021</td>\n",
       "      <td>1019</td>\n",
       "      <td>84</td>\n",
       "      <td>0.38</td>\n",
       "      <td>802</td>\n",
       "      <td>Clouds</td>\n",
       "      <td>scattered clouds</td>\n",
       "      <td>03d</td>\n",
       "    </tr>\n",
       "    <tr>\n",
       "      <th>1</th>\n",
       "      <td>2021-11-03 21:00:00</td>\n",
       "      <td>63.64</td>\n",
       "      <td>63.37</td>\n",
       "      <td>63.64</td>\n",
       "      <td>65.50</td>\n",
       "      <td>1020</td>\n",
       "      <td>1020</td>\n",
       "      <td>1017</td>\n",
       "      <td>78</td>\n",
       "      <td>-1.03</td>\n",
       "      <td>802</td>\n",
       "      <td>Clouds</td>\n",
       "      <td>scattered clouds</td>\n",
       "      <td>03d</td>\n",
       "    </tr>\n",
       "    <tr>\n",
       "      <th>2</th>\n",
       "      <td>2021-11-04 00:00:00</td>\n",
       "      <td>64.36</td>\n",
       "      <td>63.88</td>\n",
       "      <td>64.36</td>\n",
       "      <td>65.19</td>\n",
       "      <td>1018</td>\n",
       "      <td>1018</td>\n",
       "      <td>1015</td>\n",
       "      <td>72</td>\n",
       "      <td>-0.46</td>\n",
       "      <td>801</td>\n",
       "      <td>Clouds</td>\n",
       "      <td>few clouds</td>\n",
       "      <td>02d</td>\n",
       "    </tr>\n",
       "    <tr>\n",
       "      <th>3</th>\n",
       "      <td>2021-11-04 03:00:00</td>\n",
       "      <td>62.17</td>\n",
       "      <td>61.43</td>\n",
       "      <td>62.17</td>\n",
       "      <td>62.17</td>\n",
       "      <td>1018</td>\n",
       "      <td>1018</td>\n",
       "      <td>1016</td>\n",
       "      <td>71</td>\n",
       "      <td>0.00</td>\n",
       "      <td>800</td>\n",
       "      <td>Clear</td>\n",
       "      <td>clear sky</td>\n",
       "      <td>01n</td>\n",
       "    </tr>\n",
       "    <tr>\n",
       "      <th>4</th>\n",
       "      <td>2021-11-04 06:00:00</td>\n",
       "      <td>62.60</td>\n",
       "      <td>61.95</td>\n",
       "      <td>62.60</td>\n",
       "      <td>62.60</td>\n",
       "      <td>1018</td>\n",
       "      <td>1018</td>\n",
       "      <td>1016</td>\n",
       "      <td>72</td>\n",
       "      <td>0.00</td>\n",
       "      <td>802</td>\n",
       "      <td>Clouds</td>\n",
       "      <td>scattered clouds</td>\n",
       "      <td>03n</td>\n",
       "    </tr>\n",
       "  </tbody>\n",
       "</table>\n",
       "</div>"
      ],
      "text/plain": [
       "                  date   temp  feels_like  temp_min  temp_max  pressure  \\\n",
       "0  2021-11-03 18:00:00  62.73       62.65     62.04     62.73      1021   \n",
       "1  2021-11-03 21:00:00  63.64       63.37     63.64     65.50      1020   \n",
       "2  2021-11-04 00:00:00  64.36       63.88     64.36     65.19      1018   \n",
       "3  2021-11-04 03:00:00  62.17       61.43     62.17     62.17      1018   \n",
       "4  2021-11-04 06:00:00  62.60       61.95     62.60     62.60      1018   \n",
       "\n",
       "   sea_level  grnd_level  humidity  temp_kf   id    main       description  \\\n",
       "0       1021        1019        84     0.38  802  Clouds  scattered clouds   \n",
       "1       1020        1017        78    -1.03  802  Clouds  scattered clouds   \n",
       "2       1018        1015        72    -0.46  801  Clouds        few clouds   \n",
       "3       1018        1016        71     0.00  800   Clear         clear sky   \n",
       "4       1018        1016        72     0.00  802  Clouds  scattered clouds   \n",
       "\n",
       "  icon  \n",
       "0  03d  \n",
       "1  03d  \n",
       "2  02d  \n",
       "3  01n  \n",
       "4  03n  "
      ]
     },
     "execution_count": 125,
     "metadata": {},
     "output_type": "execute_result"
    }
   ],
   "source": [
    "weather = pd.DataFrame.from_dict(raw_data)\n",
    "weather.head()"
   ]
  },
  {
   "cell_type": "code",
   "execution_count": 126,
   "metadata": {},
   "outputs": [
    {
     "data": {
      "text/html": [
       "<div>\n",
       "<style scoped>\n",
       "    .dataframe tbody tr th:only-of-type {\n",
       "        vertical-align: middle;\n",
       "    }\n",
       "\n",
       "    .dataframe tbody tr th {\n",
       "        vertical-align: top;\n",
       "    }\n",
       "\n",
       "    .dataframe thead th {\n",
       "        text-align: right;\n",
       "    }\n",
       "</style>\n",
       "<table border=\"1\" class=\"dataframe\">\n",
       "  <thead>\n",
       "    <tr style=\"text-align: right;\">\n",
       "      <th></th>\n",
       "      <th>temp</th>\n",
       "      <th>feels_like</th>\n",
       "      <th>temp_min</th>\n",
       "      <th>temp_max</th>\n",
       "      <th>pressure</th>\n",
       "      <th>sea_level</th>\n",
       "      <th>grnd_level</th>\n",
       "      <th>humidity</th>\n",
       "      <th>temp_kf</th>\n",
       "      <th>id</th>\n",
       "      <th>main</th>\n",
       "      <th>description</th>\n",
       "      <th>icon</th>\n",
       "    </tr>\n",
       "    <tr>\n",
       "      <th>date</th>\n",
       "      <th></th>\n",
       "      <th></th>\n",
       "      <th></th>\n",
       "      <th></th>\n",
       "      <th></th>\n",
       "      <th></th>\n",
       "      <th></th>\n",
       "      <th></th>\n",
       "      <th></th>\n",
       "      <th></th>\n",
       "      <th></th>\n",
       "      <th></th>\n",
       "      <th></th>\n",
       "    </tr>\n",
       "  </thead>\n",
       "  <tbody>\n",
       "    <tr>\n",
       "      <th>2021-11-03 18:00:00</th>\n",
       "      <td>62.73</td>\n",
       "      <td>62.65</td>\n",
       "      <td>62.04</td>\n",
       "      <td>62.73</td>\n",
       "      <td>1021</td>\n",
       "      <td>1021</td>\n",
       "      <td>1019</td>\n",
       "      <td>84</td>\n",
       "      <td>0.38</td>\n",
       "      <td>802</td>\n",
       "      <td>Clouds</td>\n",
       "      <td>scattered clouds</td>\n",
       "      <td>03d</td>\n",
       "    </tr>\n",
       "    <tr>\n",
       "      <th>2021-11-03 21:00:00</th>\n",
       "      <td>63.64</td>\n",
       "      <td>63.37</td>\n",
       "      <td>63.64</td>\n",
       "      <td>65.50</td>\n",
       "      <td>1020</td>\n",
       "      <td>1020</td>\n",
       "      <td>1017</td>\n",
       "      <td>78</td>\n",
       "      <td>-1.03</td>\n",
       "      <td>802</td>\n",
       "      <td>Clouds</td>\n",
       "      <td>scattered clouds</td>\n",
       "      <td>03d</td>\n",
       "    </tr>\n",
       "    <tr>\n",
       "      <th>2021-11-04 00:00:00</th>\n",
       "      <td>64.36</td>\n",
       "      <td>63.88</td>\n",
       "      <td>64.36</td>\n",
       "      <td>65.19</td>\n",
       "      <td>1018</td>\n",
       "      <td>1018</td>\n",
       "      <td>1015</td>\n",
       "      <td>72</td>\n",
       "      <td>-0.46</td>\n",
       "      <td>801</td>\n",
       "      <td>Clouds</td>\n",
       "      <td>few clouds</td>\n",
       "      <td>02d</td>\n",
       "    </tr>\n",
       "    <tr>\n",
       "      <th>2021-11-04 03:00:00</th>\n",
       "      <td>62.17</td>\n",
       "      <td>61.43</td>\n",
       "      <td>62.17</td>\n",
       "      <td>62.17</td>\n",
       "      <td>1018</td>\n",
       "      <td>1018</td>\n",
       "      <td>1016</td>\n",
       "      <td>71</td>\n",
       "      <td>0.00</td>\n",
       "      <td>800</td>\n",
       "      <td>Clear</td>\n",
       "      <td>clear sky</td>\n",
       "      <td>01n</td>\n",
       "    </tr>\n",
       "    <tr>\n",
       "      <th>2021-11-04 06:00:00</th>\n",
       "      <td>62.60</td>\n",
       "      <td>61.95</td>\n",
       "      <td>62.60</td>\n",
       "      <td>62.60</td>\n",
       "      <td>1018</td>\n",
       "      <td>1018</td>\n",
       "      <td>1016</td>\n",
       "      <td>72</td>\n",
       "      <td>0.00</td>\n",
       "      <td>802</td>\n",
       "      <td>Clouds</td>\n",
       "      <td>scattered clouds</td>\n",
       "      <td>03n</td>\n",
       "    </tr>\n",
       "  </tbody>\n",
       "</table>\n",
       "</div>"
      ],
      "text/plain": [
       "                      temp  feels_like  temp_min  temp_max  pressure  \\\n",
       "date                                                                   \n",
       "2021-11-03 18:00:00  62.73       62.65     62.04     62.73      1021   \n",
       "2021-11-03 21:00:00  63.64       63.37     63.64     65.50      1020   \n",
       "2021-11-04 00:00:00  64.36       63.88     64.36     65.19      1018   \n",
       "2021-11-04 03:00:00  62.17       61.43     62.17     62.17      1018   \n",
       "2021-11-04 06:00:00  62.60       61.95     62.60     62.60      1018   \n",
       "\n",
       "                     sea_level  grnd_level  humidity  temp_kf   id    main  \\\n",
       "date                                                                         \n",
       "2021-11-03 18:00:00       1021        1019        84     0.38  802  Clouds   \n",
       "2021-11-03 21:00:00       1020        1017        78    -1.03  802  Clouds   \n",
       "2021-11-04 00:00:00       1018        1015        72    -0.46  801  Clouds   \n",
       "2021-11-04 03:00:00       1018        1016        71     0.00  800   Clear   \n",
       "2021-11-04 06:00:00       1018        1016        72     0.00  802  Clouds   \n",
       "\n",
       "                          description icon  \n",
       "date                                        \n",
       "2021-11-03 18:00:00  scattered clouds  03d  \n",
       "2021-11-03 21:00:00  scattered clouds  03d  \n",
       "2021-11-04 00:00:00        few clouds  02d  \n",
       "2021-11-04 03:00:00         clear sky  01n  \n",
       "2021-11-04 06:00:00  scattered clouds  03n  "
      ]
     },
     "execution_count": 126,
     "metadata": {},
     "output_type": "execute_result"
    }
   ],
   "source": [
    "weather['date'] = pd.to_datetime(weather['date'])\n",
    "weather.set_index('date', inplace=True)\n",
    "weather.head()"
   ]
  },
  {
   "cell_type": "code",
   "execution_count": 127,
   "metadata": {},
   "outputs": [
    {
     "name": "stdout",
     "output_type": "stream",
     "text": [
      "<class 'pandas.core.frame.DataFrame'>\n",
      "DatetimeIndex: 40 entries, 2021-11-03 18:00:00 to 2021-11-08 15:00:00\n",
      "Data columns (total 13 columns):\n",
      " #   Column       Non-Null Count  Dtype  \n",
      "---  ------       --------------  -----  \n",
      " 0   temp         40 non-null     float64\n",
      " 1   feels_like   40 non-null     float64\n",
      " 2   temp_min     40 non-null     float64\n",
      " 3   temp_max     40 non-null     float64\n",
      " 4   pressure     40 non-null     int64  \n",
      " 5   sea_level    40 non-null     int64  \n",
      " 6   grnd_level   40 non-null     int64  \n",
      " 7   humidity     40 non-null     int64  \n",
      " 8   temp_kf      40 non-null     float64\n",
      " 9   id           40 non-null     int64  \n",
      " 10  main         40 non-null     object \n",
      " 11  description  40 non-null     object \n",
      " 12  icon         40 non-null     object \n",
      "dtypes: float64(5), int64(5), object(3)\n",
      "memory usage: 4.4+ KB\n"
     ]
    }
   ],
   "source": [
    "weather.info()"
   ]
  },
  {
   "cell_type": "code",
   "execution_count": 128,
   "metadata": {},
   "outputs": [
    {
     "name": "stdout",
     "output_type": "stream",
     "text": [
      "Looking in links: /home/rick446/src/wheelhouse\n",
      "\u001b[31mERROR: Could not find a version that satisfies the requirement pd_json (from versions: none)\u001b[0m\n",
      "\u001b[31mERROR: No matching distribution found for pd_json\u001b[0m\n",
      "\u001b[33mWARNING: You are using pip version 20.2.3; however, version 21.3.1 is available.\n",
      "You should consider upgrading via the '/home/rick446/.virtualenvs/classes/bin/python -m pip install --upgrade pip' command.\u001b[0m\n"
     ]
    }
   ],
   "source": [
    "pd.json_normalize()"
   ]
  },
  {
   "cell_type": "markdown",
   "metadata": {},
   "source": [
    "Much easier..."
   ]
  },
  {
   "cell_type": "code",
   "execution_count": 133,
   "metadata": {},
   "outputs": [
    {
     "data": {
      "text/html": [
       "<div>\n",
       "<style scoped>\n",
       "    .dataframe tbody tr th:only-of-type {\n",
       "        vertical-align: middle;\n",
       "    }\n",
       "\n",
       "    .dataframe tbody tr th {\n",
       "        vertical-align: top;\n",
       "    }\n",
       "\n",
       "    .dataframe thead th {\n",
       "        text-align: right;\n",
       "    }\n",
       "</style>\n",
       "<table border=\"1\" class=\"dataframe\">\n",
       "  <thead>\n",
       "    <tr style=\"text-align: right;\">\n",
       "      <th></th>\n",
       "      <th>date</th>\n",
       "      <th>temp</th>\n",
       "      <th>feels_like</th>\n",
       "      <th>temp_min</th>\n",
       "      <th>temp_max</th>\n",
       "      <th>pressure</th>\n",
       "      <th>sea_level</th>\n",
       "      <th>grnd_level</th>\n",
       "      <th>humidity</th>\n",
       "      <th>temp_kf</th>\n",
       "      <th>id</th>\n",
       "      <th>main</th>\n",
       "      <th>description</th>\n",
       "      <th>icon</th>\n",
       "    </tr>\n",
       "  </thead>\n",
       "  <tbody>\n",
       "    <tr>\n",
       "      <th>0</th>\n",
       "      <td>2021-11-03 18:00:00</td>\n",
       "      <td>62.73</td>\n",
       "      <td>62.65</td>\n",
       "      <td>62.04</td>\n",
       "      <td>62.73</td>\n",
       "      <td>1021</td>\n",
       "      <td>1021</td>\n",
       "      <td>1019</td>\n",
       "      <td>84</td>\n",
       "      <td>0.38</td>\n",
       "      <td>802</td>\n",
       "      <td>Clouds</td>\n",
       "      <td>scattered clouds</td>\n",
       "      <td>03d</td>\n",
       "    </tr>\n",
       "    <tr>\n",
       "      <th>1</th>\n",
       "      <td>2021-11-03 21:00:00</td>\n",
       "      <td>63.64</td>\n",
       "      <td>63.37</td>\n",
       "      <td>63.64</td>\n",
       "      <td>65.50</td>\n",
       "      <td>1020</td>\n",
       "      <td>1020</td>\n",
       "      <td>1017</td>\n",
       "      <td>78</td>\n",
       "      <td>-1.03</td>\n",
       "      <td>802</td>\n",
       "      <td>Clouds</td>\n",
       "      <td>scattered clouds</td>\n",
       "      <td>03d</td>\n",
       "    </tr>\n",
       "    <tr>\n",
       "      <th>2</th>\n",
       "      <td>2021-11-04 00:00:00</td>\n",
       "      <td>64.36</td>\n",
       "      <td>63.88</td>\n",
       "      <td>64.36</td>\n",
       "      <td>65.19</td>\n",
       "      <td>1018</td>\n",
       "      <td>1018</td>\n",
       "      <td>1015</td>\n",
       "      <td>72</td>\n",
       "      <td>-0.46</td>\n",
       "      <td>801</td>\n",
       "      <td>Clouds</td>\n",
       "      <td>few clouds</td>\n",
       "      <td>02d</td>\n",
       "    </tr>\n",
       "    <tr>\n",
       "      <th>3</th>\n",
       "      <td>2021-11-04 03:00:00</td>\n",
       "      <td>62.17</td>\n",
       "      <td>61.43</td>\n",
       "      <td>62.17</td>\n",
       "      <td>62.17</td>\n",
       "      <td>1018</td>\n",
       "      <td>1018</td>\n",
       "      <td>1016</td>\n",
       "      <td>71</td>\n",
       "      <td>0.00</td>\n",
       "      <td>800</td>\n",
       "      <td>Clear</td>\n",
       "      <td>clear sky</td>\n",
       "      <td>01n</td>\n",
       "    </tr>\n",
       "    <tr>\n",
       "      <th>4</th>\n",
       "      <td>2021-11-04 06:00:00</td>\n",
       "      <td>62.60</td>\n",
       "      <td>61.95</td>\n",
       "      <td>62.60</td>\n",
       "      <td>62.60</td>\n",
       "      <td>1018</td>\n",
       "      <td>1018</td>\n",
       "      <td>1016</td>\n",
       "      <td>72</td>\n",
       "      <td>0.00</td>\n",
       "      <td>802</td>\n",
       "      <td>Clouds</td>\n",
       "      <td>scattered clouds</td>\n",
       "      <td>03n</td>\n",
       "    </tr>\n",
       "  </tbody>\n",
       "</table>\n",
       "</div>"
      ],
      "text/plain": [
       "                  date   temp  feels_like  temp_min  temp_max  pressure  \\\n",
       "0  2021-11-03 18:00:00  62.73       62.65     62.04     62.73      1021   \n",
       "1  2021-11-03 21:00:00  63.64       63.37     63.64     65.50      1020   \n",
       "2  2021-11-04 00:00:00  64.36       63.88     64.36     65.19      1018   \n",
       "3  2021-11-04 03:00:00  62.17       61.43     62.17     62.17      1018   \n",
       "4  2021-11-04 06:00:00  62.60       61.95     62.60     62.60      1018   \n",
       "\n",
       "   sea_level  grnd_level  humidity  temp_kf   id    main       description  \\\n",
       "0       1021        1019        84     0.38  802  Clouds  scattered clouds   \n",
       "1       1020        1017        78    -1.03  802  Clouds  scattered clouds   \n",
       "2       1018        1015        72    -0.46  801  Clouds        few clouds   \n",
       "3       1018        1016        71     0.00  800   Clear         clear sky   \n",
       "4       1018        1016        72     0.00  802  Clouds  scattered clouds   \n",
       "\n",
       "  icon  \n",
       "0  03d  \n",
       "1  03d  \n",
       "2  02d  \n",
       "3  01n  \n",
       "4  03n  "
      ]
     },
     "execution_count": 133,
     "metadata": {},
     "output_type": "execute_result"
    }
   ],
   "source": [
    "pd.json_normalize(raw_data).head()"
   ]
  },
  {
   "cell_type": "markdown",
   "metadata": {},
   "source": [
    "## Writing csv data"
   ]
  },
  {
   "cell_type": "code",
   "execution_count": 134,
   "metadata": {},
   "outputs": [],
   "source": [
    "weather.to_csv('./data/weather.csv')"
   ]
  },
  {
   "cell_type": "code",
   "execution_count": 135,
   "metadata": {},
   "outputs": [
    {
     "name": "stdout",
     "output_type": "stream",
     "text": [
      "date,temp,feels_like,temp_min,temp_max,pressure,sea_level,grnd_level,humidity,temp_kf,id,main,description,icon\r\n",
      "2021-11-03 18:00:00,62.73,62.65,62.04,62.73,1021,1021,1019,84,0.38,802,Clouds,scattered clouds,03d\r\n",
      "2021-11-03 21:00:00,63.64,63.37,63.64,65.5,1020,1020,1017,78,-1.03,802,Clouds,scattered clouds,03d\r\n",
      "2021-11-04 00:00:00,64.36,63.88,64.36,65.19,1018,1018,1015,72,-0.46,801,Clouds,few clouds,02d\r\n",
      "2021-11-04 03:00:00,62.17,61.43,62.17,62.17,1018,1018,1016,71,0.0,800,Clear,clear sky,01n\r\n",
      "2021-11-04 06:00:00,62.6,61.95,62.6,62.6,1018,1018,1016,72,0.0,802,Clouds,scattered clouds,03n\r\n",
      "2021-11-04 09:00:00,60.67,60.71,60.67,60.67,1018,1018,1016,91,0.0,500,Rain,light rain,10n\r\n",
      "2021-11-04 12:00:00,60.87,61.07,60.87,60.87,1018,1018,1017,94,0.0,500,Rain,light rain,10n\r\n",
      "2021-11-04 15:00:00,58.96,58.89,58.96,58.96,1020,1020,1018,92,0.0,500,Rain,light rain,10d\r\n",
      "2021-11-04 18:00:00,60.1,59.52,60.1,60.1,1022,1022,1020,79,0.0,500,Rain,light rain,10d\r\n"
     ]
    }
   ],
   "source": [
    "!head data/weather.csv"
   ]
  },
  {
   "cell_type": "markdown",
   "metadata": {},
   "source": [
    "JSON lines?"
   ]
  },
  {
   "cell_type": "code",
   "execution_count": 136,
   "metadata": {},
   "outputs": [
    {
     "data": {
      "text/html": [
       "<div>\n",
       "<style scoped>\n",
       "    .dataframe tbody tr th:only-of-type {\n",
       "        vertical-align: middle;\n",
       "    }\n",
       "\n",
       "    .dataframe tbody tr th {\n",
       "        vertical-align: top;\n",
       "    }\n",
       "\n",
       "    .dataframe thead th {\n",
       "        text-align: right;\n",
       "    }\n",
       "</style>\n",
       "<table border=\"1\" class=\"dataframe\">\n",
       "  <thead>\n",
       "    <tr style=\"text-align: right;\">\n",
       "      <th></th>\n",
       "      <th>temp</th>\n",
       "      <th>feels_like</th>\n",
       "      <th>temp_min</th>\n",
       "      <th>temp_max</th>\n",
       "      <th>pressure</th>\n",
       "      <th>sea_level</th>\n",
       "      <th>grnd_level</th>\n",
       "      <th>humidity</th>\n",
       "      <th>temp_kf</th>\n",
       "      <th>id</th>\n",
       "      <th>main</th>\n",
       "      <th>description</th>\n",
       "      <th>icon</th>\n",
       "    </tr>\n",
       "    <tr>\n",
       "      <th>date</th>\n",
       "      <th></th>\n",
       "      <th></th>\n",
       "      <th></th>\n",
       "      <th></th>\n",
       "      <th></th>\n",
       "      <th></th>\n",
       "      <th></th>\n",
       "      <th></th>\n",
       "      <th></th>\n",
       "      <th></th>\n",
       "      <th></th>\n",
       "      <th></th>\n",
       "      <th></th>\n",
       "    </tr>\n",
       "  </thead>\n",
       "  <tbody>\n",
       "    <tr>\n",
       "      <th>2021-11-03 18:00:00</th>\n",
       "      <td>62.73</td>\n",
       "      <td>62.65</td>\n",
       "      <td>62.04</td>\n",
       "      <td>62.73</td>\n",
       "      <td>1021</td>\n",
       "      <td>1021</td>\n",
       "      <td>1019</td>\n",
       "      <td>84</td>\n",
       "      <td>0.38</td>\n",
       "      <td>802</td>\n",
       "      <td>Clouds</td>\n",
       "      <td>scattered clouds</td>\n",
       "      <td>03d</td>\n",
       "    </tr>\n",
       "    <tr>\n",
       "      <th>2021-11-03 21:00:00</th>\n",
       "      <td>63.64</td>\n",
       "      <td>63.37</td>\n",
       "      <td>63.64</td>\n",
       "      <td>65.50</td>\n",
       "      <td>1020</td>\n",
       "      <td>1020</td>\n",
       "      <td>1017</td>\n",
       "      <td>78</td>\n",
       "      <td>-1.03</td>\n",
       "      <td>802</td>\n",
       "      <td>Clouds</td>\n",
       "      <td>scattered clouds</td>\n",
       "      <td>03d</td>\n",
       "    </tr>\n",
       "    <tr>\n",
       "      <th>2021-11-04 00:00:00</th>\n",
       "      <td>64.36</td>\n",
       "      <td>63.88</td>\n",
       "      <td>64.36</td>\n",
       "      <td>65.19</td>\n",
       "      <td>1018</td>\n",
       "      <td>1018</td>\n",
       "      <td>1015</td>\n",
       "      <td>72</td>\n",
       "      <td>-0.46</td>\n",
       "      <td>801</td>\n",
       "      <td>Clouds</td>\n",
       "      <td>few clouds</td>\n",
       "      <td>02d</td>\n",
       "    </tr>\n",
       "    <tr>\n",
       "      <th>2021-11-04 03:00:00</th>\n",
       "      <td>62.17</td>\n",
       "      <td>61.43</td>\n",
       "      <td>62.17</td>\n",
       "      <td>62.17</td>\n",
       "      <td>1018</td>\n",
       "      <td>1018</td>\n",
       "      <td>1016</td>\n",
       "      <td>71</td>\n",
       "      <td>0.00</td>\n",
       "      <td>800</td>\n",
       "      <td>Clear</td>\n",
       "      <td>clear sky</td>\n",
       "      <td>01n</td>\n",
       "    </tr>\n",
       "    <tr>\n",
       "      <th>2021-11-04 06:00:00</th>\n",
       "      <td>62.60</td>\n",
       "      <td>61.95</td>\n",
       "      <td>62.60</td>\n",
       "      <td>62.60</td>\n",
       "      <td>1018</td>\n",
       "      <td>1018</td>\n",
       "      <td>1016</td>\n",
       "      <td>72</td>\n",
       "      <td>0.00</td>\n",
       "      <td>802</td>\n",
       "      <td>Clouds</td>\n",
       "      <td>scattered clouds</td>\n",
       "      <td>03n</td>\n",
       "    </tr>\n",
       "  </tbody>\n",
       "</table>\n",
       "</div>"
      ],
      "text/plain": [
       "                      temp  feels_like  temp_min  temp_max  pressure  \\\n",
       "date                                                                   \n",
       "2021-11-03 18:00:00  62.73       62.65     62.04     62.73      1021   \n",
       "2021-11-03 21:00:00  63.64       63.37     63.64     65.50      1020   \n",
       "2021-11-04 00:00:00  64.36       63.88     64.36     65.19      1018   \n",
       "2021-11-04 03:00:00  62.17       61.43     62.17     62.17      1018   \n",
       "2021-11-04 06:00:00  62.60       61.95     62.60     62.60      1018   \n",
       "\n",
       "                     sea_level  grnd_level  humidity  temp_kf   id    main  \\\n",
       "date                                                                         \n",
       "2021-11-03 18:00:00       1021        1019        84     0.38  802  Clouds   \n",
       "2021-11-03 21:00:00       1020        1017        78    -1.03  802  Clouds   \n",
       "2021-11-04 00:00:00       1018        1015        72    -0.46  801  Clouds   \n",
       "2021-11-04 03:00:00       1018        1016        71     0.00  800   Clear   \n",
       "2021-11-04 06:00:00       1018        1016        72     0.00  802  Clouds   \n",
       "\n",
       "                          description icon  \n",
       "date                                        \n",
       "2021-11-03 18:00:00  scattered clouds  03d  \n",
       "2021-11-03 21:00:00  scattered clouds  03d  \n",
       "2021-11-04 00:00:00        few clouds  02d  \n",
       "2021-11-04 03:00:00         clear sky  01n  \n",
       "2021-11-04 06:00:00  scattered clouds  03n  "
      ]
     },
     "execution_count": 136,
     "metadata": {},
     "output_type": "execute_result"
    }
   ],
   "source": [
    "weather.head()"
   ]
  },
  {
   "cell_type": "code",
   "execution_count": 137,
   "metadata": {},
   "outputs": [],
   "source": [
    "weather.reset_index().to_json('./data/weather.jsonlines', orient='records', lines=True)"
   ]
  },
  {
   "cell_type": "code",
   "execution_count": 138,
   "metadata": {
    "scrolled": true
   },
   "outputs": [
    {
     "name": "stdout",
     "output_type": "stream",
     "text": [
      "{\"date\":1635962400000,\"temp\":62.73,\"feels_like\":62.65,\"temp_min\":62.04,\"temp_max\":62.73,\"pressure\":1021,\"sea_level\":1021,\"grnd_level\":1019,\"humidity\":84,\"temp_kf\":0.38,\"id\":802,\"main\":\"Clouds\",\"description\":\"scattered clouds\",\"icon\":\"03d\"}\r\n",
      "{\"date\":1635973200000,\"temp\":63.64,\"feels_like\":63.37,\"temp_min\":63.64,\"temp_max\":65.5,\"pressure\":1020,\"sea_level\":1020,\"grnd_level\":1017,\"humidity\":78,\"temp_kf\":-1.03,\"id\":802,\"main\":\"Clouds\",\"description\":\"scattered clouds\",\"icon\":\"03d\"}\r\n",
      "{\"date\":1635984000000,\"temp\":64.36,\"feels_like\":63.88,\"temp_min\":64.36,\"temp_max\":65.19,\"pressure\":1018,\"sea_level\":1018,\"grnd_level\":1015,\"humidity\":72,\"temp_kf\":-0.46,\"id\":801,\"main\":\"Clouds\",\"description\":\"few clouds\",\"icon\":\"02d\"}\r\n",
      "{\"date\":1635994800000,\"temp\":62.17,\"feels_like\":61.43,\"temp_min\":62.17,\"temp_max\":62.17,\"pressure\":1018,\"sea_level\":1018,\"grnd_level\":1016,\"humidity\":71,\"temp_kf\":0.0,\"id\":800,\"main\":\"Clear\",\"description\":\"clear sky\",\"icon\":\"01n\"}\r\n",
      "{\"date\":1636005600000,\"temp\":62.6,\"feels_like\":61.95,\"temp_min\":62.6,\"temp_max\":62.6,\"pressure\":1018,\"sea_level\":1018,\"grnd_level\":1016,\"humidity\":72,\"temp_kf\":0.0,\"id\":802,\"main\":\"Clouds\",\"description\":\"scattered clouds\",\"icon\":\"03n\"}\r\n",
      "{\"date\":1636016400000,\"temp\":60.67,\"feels_like\":60.71,\"temp_min\":60.67,\"temp_max\":60.67,\"pressure\":1018,\"sea_level\":1018,\"grnd_level\":1016,\"humidity\":91,\"temp_kf\":0.0,\"id\":500,\"main\":\"Rain\",\"description\":\"light rain\",\"icon\":\"10n\"}\r\n",
      "{\"date\":1636027200000,\"temp\":60.87,\"feels_like\":61.07,\"temp_min\":60.87,\"temp_max\":60.87,\"pressure\":1018,\"sea_level\":1018,\"grnd_level\":1017,\"humidity\":94,\"temp_kf\":0.0,\"id\":500,\"main\":\"Rain\",\"description\":\"light rain\",\"icon\":\"10n\"}\r\n",
      "{\"date\":1636038000000,\"temp\":58.96,\"feels_like\":58.89,\"temp_min\":58.96,\"temp_max\":58.96,\"pressure\":1020,\"sea_level\":1020,\"grnd_level\":1018,\"humidity\":92,\"temp_kf\":0.0,\"id\":500,\"main\":\"Rain\",\"description\":\"light rain\",\"icon\":\"10d\"}\r\n",
      "{\"date\":1636048800000,\"temp\":60.1,\"feels_like\":59.52,\"temp_min\":60.1,\"temp_max\":60.1,\"pressure\":1022,\"sea_level\":1022,\"grnd_level\":1020,\"humidity\":79,\"temp_kf\":0.0,\"id\":500,\"main\":\"Rain\",\"description\":\"light rain\",\"icon\":\"10d\"}\r\n",
      "{\"date\":1636059600000,\"temp\":61.75,\"feels_like\":60.78,\"temp_min\":61.75,\"temp_max\":61.75,\"pressure\":1021,\"sea_level\":1021,\"grnd_level\":1019,\"humidity\":67,\"temp_kf\":0.0,\"id\":803,\"main\":\"Clouds\",\"description\":\"broken clouds\",\"icon\":\"04d\"}\r\n",
      "{\"date\":1636070400000,\"temp\":61.07,\"feels_like\":60.17,\"temp_min\":61.07,\"temp_max\":61.07,\"pressure\":1019,\"sea_level\":1019,\"grnd_level\":1017,\"humidity\":70,\"temp_kf\":0.0,\"id\":802,\"main\":\"Clouds\",\"description\":\"scattered clouds\",\"icon\":\"03d\"}\r\n",
      "{\"date\":1636081200000,\"temp\":58.15,\"feels_like\":57.43,\"temp_min\":58.15,\"temp_max\":58.15,\"pressure\":1020,\"sea_level\":1020,\"grnd_level\":1018,\"humidity\":80,\"temp_kf\":0.0,\"id\":800,\"main\":\"Clear\",\"description\":\"clear sky\",\"icon\":\"01n\"}\r\n",
      "{\"date\":1636092000000,\"temp\":56.91,\"feels_like\":56.07,\"temp_min\":56.91,\"temp_max\":56.91,\"pressure\":1020,\"sea_level\":1020,\"grnd_level\":1018,\"humidity\":80,\"temp_kf\":0.0,\"id\":800,\"main\":\"Clear\",\"description\":\"clear sky\",\"icon\":\"01n\"}\r\n",
      "{\"date\":1636102800000,\"temp\":55.65,\"feels_like\":54.68,\"temp_min\":55.65,\"temp_max\":55.65,\"pressure\":1019,\"sea_level\":1019,\"grnd_level\":1018,\"humidity\":80,\"temp_kf\":0.0,\"id\":800,\"main\":\"Clear\",\"description\":\"clear sky\",\"icon\":\"01n\"}\r\n",
      "{\"date\":1636113600000,\"temp\":54.39,\"feels_like\":53.29,\"temp_min\":54.39,\"temp_max\":54.39,\"pressure\":1019,\"sea_level\":1019,\"grnd_level\":1017,\"humidity\":80,\"temp_kf\":0.0,\"id\":800,\"main\":\"Clear\",\"description\":\"clear sky\",\"icon\":\"01n\"}\r\n",
      "{\"date\":1636124400000,\"temp\":53.92,\"feels_like\":52.63,\"temp_min\":53.92,\"temp_max\":53.92,\"pressure\":1019,\"sea_level\":1019,\"grnd_level\":1017,\"humidity\":77,\"temp_kf\":0.0,\"id\":804,\"main\":\"Clouds\",\"description\":\"overcast clouds\",\"icon\":\"04d\"}\r\n",
      "{\"date\":1636135200000,\"temp\":57.4,\"feels_like\":55.8,\"temp_min\":57.4,\"temp_max\":57.4,\"pressure\":1020,\"sea_level\":1020,\"grnd_level\":1018,\"humidity\":63,\"temp_kf\":0.0,\"id\":804,\"main\":\"Clouds\",\"description\":\"overcast clouds\",\"icon\":\"04d\"}\r\n",
      "{\"date\":1636146000000,\"temp\":60.21,\"feels_like\":58.42,\"temp_min\":60.21,\"temp_max\":60.21,\"pressure\":1018,\"sea_level\":1018,\"grnd_level\":1016,\"humidity\":53,\"temp_kf\":0.0,\"id\":803,\"main\":\"Clouds\",\"description\":\"broken clouds\",\"icon\":\"04d\"}\r\n",
      "{\"date\":1636156800000,\"temp\":60.35,\"feels_like\":59.0,\"temp_min\":60.35,\"temp_max\":60.35,\"pressure\":1017,\"sea_level\":1017,\"grnd_level\":1015,\"humidity\":62,\"temp_kf\":0.0,\"id\":804,\"main\":\"Clouds\",\"description\":\"overcast clouds\",\"icon\":\"04d\"}\r\n",
      "{\"date\":1636167600000,\"temp\":58.24,\"feels_like\":57.06,\"temp_min\":58.24,\"temp_max\":58.24,\"pressure\":1017,\"sea_level\":1017,\"grnd_level\":1015,\"humidity\":70,\"temp_kf\":0.0,\"id\":804,\"main\":\"Clouds\",\"description\":\"overcast clouds\",\"icon\":\"04n\"}\r\n",
      "{\"date\":1636178400000,\"temp\":56.82,\"feels_like\":55.87,\"temp_min\":56.82,\"temp_max\":56.82,\"pressure\":1017,\"sea_level\":1017,\"grnd_level\":1015,\"humidity\":78,\"temp_kf\":0.0,\"id\":804,\"main\":\"Clouds\",\"description\":\"overcast clouds\",\"icon\":\"04n\"}\r\n",
      "{\"date\":1636189200000,\"temp\":56.57,\"feels_like\":55.69,\"temp_min\":56.57,\"temp_max\":56.57,\"pressure\":1017,\"sea_level\":1017,\"grnd_level\":1015,\"humidity\":80,\"temp_kf\":0.0,\"id\":804,\"main\":\"Clouds\",\"description\":\"overcast clouds\",\"icon\":\"04n\"}\r\n",
      "{\"date\":1636200000000,\"temp\":56.35,\"feels_like\":55.69,\"temp_min\":56.35,\"temp_max\":56.35,\"pressure\":1017,\"sea_level\":1017,\"grnd_level\":1015,\"humidity\":85,\"temp_kf\":0.0,\"id\":804,\"main\":\"Clouds\",\"description\":\"overcast clouds\",\"icon\":\"04n\"}\r\n",
      "{\"date\":1636210800000,\"temp\":56.66,\"feels_like\":56.12,\"temp_min\":56.66,\"temp_max\":56.66,\"pressure\":1018,\"sea_level\":1018,\"grnd_level\":1016,\"humidity\":87,\"temp_kf\":0.0,\"id\":804,\"main\":\"Clouds\",\"description\":\"overcast clouds\",\"icon\":\"04d\"}\r\n",
      "{\"date\":1636221600000,\"temp\":58.86,\"feels_like\":58.21,\"temp_min\":58.86,\"temp_max\":58.86,\"pressure\":1018,\"sea_level\":1018,\"grnd_level\":1016,\"humidity\":80,\"temp_kf\":0.0,\"id\":500,\"main\":\"Rain\",\"description\":\"light rain\",\"icon\":\"10d\"}\r\n",
      "{\"date\":1636232400000,\"temp\":56.26,\"feels_like\":55.08,\"temp_min\":56.26,\"temp_max\":56.26,\"pressure\":1019,\"sea_level\":1019,\"grnd_level\":1017,\"humidity\":74,\"temp_kf\":0.0,\"id\":500,\"main\":\"Rain\",\"description\":\"light rain\",\"icon\":\"10d\"}\r\n",
      "{\"date\":1636243200000,\"temp\":57.45,\"feels_like\":56.05,\"temp_min\":57.45,\"temp_max\":57.45,\"pressure\":1019,\"sea_level\":1019,\"grnd_level\":1017,\"humidity\":67,\"temp_kf\":0.0,\"id\":500,\"main\":\"Rain\",\"description\":\"light rain\",\"icon\":\"10d\"}\r\n",
      "{\"date\":1636254000000,\"temp\":55.33,\"feels_like\":53.65,\"temp_min\":55.33,\"temp_max\":55.33,\"pressure\":1021,\"sea_level\":1021,\"grnd_level\":1019,\"humidity\":66,\"temp_kf\":0.0,\"id\":804,\"main\":\"Clouds\",\"description\":\"overcast clouds\",\"icon\":\"04n\"}\r\n",
      "{\"date\":1636264800000,\"temp\":53.8,\"feels_like\":51.98,\"temp_min\":53.8,\"temp_max\":53.8,\"pressure\":1022,\"sea_level\":1022,\"grnd_level\":1020,\"humidity\":66,\"temp_kf\":0.0,\"id\":804,\"main\":\"Clouds\",\"description\":\"overcast clouds\",\"icon\":\"04n\"}\r\n",
      "{\"date\":1636275600000,\"temp\":52.99,\"feels_like\":51.13,\"temp_min\":52.99,\"temp_max\":52.99,\"pressure\":1023,\"sea_level\":1023,\"grnd_level\":1021,\"humidity\":67,\"temp_kf\":0.0,\"id\":803,\"main\":\"Clouds\",\"description\":\"broken clouds\",\"icon\":\"04n\"}\r\n",
      "{\"date\":1636286400000,\"temp\":52.32,\"feels_like\":50.31,\"temp_min\":52.32,\"temp_max\":52.32,\"pressure\":1023,\"sea_level\":1023,\"grnd_level\":1021,\"humidity\":65,\"temp_kf\":0.0,\"id\":803,\"main\":\"Clouds\",\"description\":\"broken clouds\",\"icon\":\"04n\"}\r\n",
      "{\"date\":1636297200000,\"temp\":49.91,\"feels_like\":46.53,\"temp_min\":49.91,\"temp_max\":49.91,\"pressure\":1024,\"sea_level\":1024,\"grnd_level\":1022,\"humidity\":69,\"temp_kf\":0.0,\"id\":803,\"main\":\"Clouds\",\"description\":\"broken clouds\",\"icon\":\"04d\"}\r\n",
      "{\"date\":1636308000000,\"temp\":53.31,\"feels_like\":50.97,\"temp_min\":53.31,\"temp_max\":53.31,\"pressure\":1024,\"sea_level\":1024,\"grnd_level\":1022,\"humidity\":56,\"temp_kf\":0.0,\"id\":803,\"main\":\"Clouds\",\"description\":\"broken clouds\",\"icon\":\"04d\"}\r\n",
      "{\"date\":1636318800000,\"temp\":57.85,\"feels_like\":55.49,\"temp_min\":57.85,\"temp_max\":57.85,\"pressure\":1022,\"sea_level\":1022,\"grnd_level\":1020,\"humidity\":46,\"temp_kf\":0.0,\"id\":802,\"main\":\"Clouds\",\"description\":\"scattered clouds\",\"icon\":\"03d\"}\r\n",
      "{\"date\":1636329600000,\"temp\":58.75,\"feels_like\":56.82,\"temp_min\":58.75,\"temp_max\":58.75,\"pressure\":1021,\"sea_level\":1021,\"grnd_level\":1019,\"humidity\":53,\"temp_kf\":0.0,\"id\":803,\"main\":\"Clouds\",\"description\":\"broken clouds\",\"icon\":\"04d\"}\r\n",
      "{\"date\":1636340400000,\"temp\":55.72,\"feels_like\":54.14,\"temp_min\":55.72,\"temp_max\":55.72,\"pressure\":1020,\"sea_level\":1020,\"grnd_level\":1018,\"humidity\":67,\"temp_kf\":0.0,\"id\":804,\"main\":\"Clouds\",\"description\":\"overcast clouds\",\"icon\":\"04n\"}\r\n",
      "{\"date\":1636351200000,\"temp\":54.48,\"feels_like\":52.65,\"temp_min\":54.48,\"temp_max\":54.48,\"pressure\":1020,\"sea_level\":1020,\"grnd_level\":1018,\"humidity\":64,\"temp_kf\":0.0,\"id\":804,\"main\":\"Clouds\",\"description\":\"overcast clouds\",\"icon\":\"04n\"}\r\n",
      "{\"date\":1636362000000,\"temp\":52.99,\"feels_like\":50.9,\"temp_min\":52.99,\"temp_max\":52.99,\"pressure\":1018,\"sea_level\":1018,\"grnd_level\":1017,\"humidity\":62,\"temp_kf\":0.0,\"id\":804,\"main\":\"Clouds\",\"description\":\"overcast clouds\",\"icon\":\"04n\"}\r\n",
      "{\"date\":1636372800000,\"temp\":51.58,\"feels_like\":49.44,\"temp_min\":51.58,\"temp_max\":51.58,\"pressure\":1018,\"sea_level\":1018,\"grnd_level\":1016,\"humidity\":64,\"temp_kf\":0.0,\"id\":804,\"main\":\"Clouds\",\"description\":\"overcast clouds\",\"icon\":\"04n\"}\r\n",
      "{\"date\":1636383600000,\"temp\":50.85,\"feels_like\":48.78,\"temp_min\":50.85,\"temp_max\":50.85,\"pressure\":1017,\"sea_level\":1017,\"grnd_level\":1015,\"humidity\":67,\"temp_kf\":0.0,\"id\":803,\"main\":\"Clouds\",\"description\":\"broken clouds\",\"icon\":\"04d\"}"
     ]
    }
   ],
   "source": [
    "!cat data/weather.jsonlines"
   ]
  },
  {
   "cell_type": "code",
   "execution_count": 139,
   "metadata": {
    "scrolled": true
   },
   "outputs": [],
   "source": [
    "df = pd.read_json('./data/weather.jsonlines', lines=True)"
   ]
  },
  {
   "cell_type": "code",
   "execution_count": 140,
   "metadata": {},
   "outputs": [
    {
     "name": "stdout",
     "output_type": "stream",
     "text": [
      "<class 'pandas.core.frame.DataFrame'>\n",
      "RangeIndex: 40 entries, 0 to 39\n",
      "Data columns (total 14 columns):\n",
      " #   Column       Non-Null Count  Dtype         \n",
      "---  ------       --------------  -----         \n",
      " 0   date         40 non-null     datetime64[ns]\n",
      " 1   temp         40 non-null     float64       \n",
      " 2   feels_like   40 non-null     float64       \n",
      " 3   temp_min     40 non-null     float64       \n",
      " 4   temp_max     40 non-null     float64       \n",
      " 5   pressure     40 non-null     int64         \n",
      " 6   sea_level    40 non-null     int64         \n",
      " 7   grnd_level   40 non-null     int64         \n",
      " 8   humidity     40 non-null     int64         \n",
      " 9   temp_kf      40 non-null     float64       \n",
      " 10  id           40 non-null     int64         \n",
      " 11  main         40 non-null     object        \n",
      " 12  description  40 non-null     object        \n",
      " 13  icon         40 non-null     object        \n",
      "dtypes: datetime64[ns](1), float64(5), int64(5), object(3)\n",
      "memory usage: 4.5+ KB\n"
     ]
    }
   ],
   "source": [
    "df.info()"
   ]
  },
  {
   "cell_type": "code",
   "execution_count": 141,
   "metadata": {
    "scrolled": true
   },
   "outputs": [
    {
     "name": "stdout",
     "output_type": "stream",
     "text": [
      "<class 'pandas.core.frame.DataFrame'>\n",
      "DatetimeIndex: 40 entries, 2021-11-03 18:00:00 to 2021-11-08 15:00:00\n",
      "Data columns (total 13 columns):\n",
      " #   Column       Non-Null Count  Dtype  \n",
      "---  ------       --------------  -----  \n",
      " 0   temp         40 non-null     float64\n",
      " 1   feels_like   40 non-null     float64\n",
      " 2   temp_min     40 non-null     float64\n",
      " 3   temp_max     40 non-null     float64\n",
      " 4   pressure     40 non-null     int64  \n",
      " 5   sea_level    40 non-null     int64  \n",
      " 6   grnd_level   40 non-null     int64  \n",
      " 7   humidity     40 non-null     int64  \n",
      " 8   temp_kf      40 non-null     float64\n",
      " 9   id           40 non-null     int64  \n",
      " 10  main         40 non-null     object \n",
      " 11  description  40 non-null     object \n",
      " 12  icon         40 non-null     object \n",
      "dtypes: float64(5), int64(5), object(3)\n",
      "memory usage: 11.0 KB\n"
     ]
    }
   ],
   "source": [
    "weather.info(memory_usage='deep')"
   ]
  },
  {
   "cell_type": "code",
   "execution_count": 142,
   "metadata": {},
   "outputs": [
    {
     "name": "stdout",
     "output_type": "stream",
     "text": [
      "117 µs ± 4.38 µs per loop (mean ± std. dev. of 7 runs, 10000 loops each)\n"
     ]
    }
   ],
   "source": [
    "%timeit weather.temp * 5"
   ]
  },
  {
   "cell_type": "code",
   "execution_count": 143,
   "metadata": {},
   "outputs": [
    {
     "data": {
      "text/plain": [
       "array([62.73, 63.64, 64.36, 62.17, 62.6 , 60.67, 60.87, 58.96, 60.1 ,\n",
       "       61.75, 61.07, 58.15, 56.91, 55.65, 54.39, 53.92, 57.4 , 60.21,\n",
       "       60.35, 58.24, 56.82, 56.57, 56.35, 56.66, 58.86, 56.26, 57.45,\n",
       "       55.33, 53.8 , 52.99, 52.32, 49.91, 53.31, 57.85, 58.75, 55.72,\n",
       "       54.48, 52.99, 51.58, 50.85])"
      ]
     },
     "execution_count": 143,
     "metadata": {},
     "output_type": "execute_result"
    }
   ],
   "source": [
    "weather.temp.values"
   ]
  },
  {
   "cell_type": "code",
   "execution_count": 144,
   "metadata": {},
   "outputs": [
    {
     "name": "stdout",
     "output_type": "stream",
     "text": [
      "8.24 µs ± 596 ns per loop (mean ± std. dev. of 7 runs, 100000 loops each)\n"
     ]
    }
   ],
   "source": [
    "%timeit weather.temp.values * 5"
   ]
  },
  {
   "cell_type": "code",
   "execution_count": 145,
   "metadata": {
    "scrolled": true
   },
   "outputs": [
    {
     "data": {
      "text/plain": [
       "temp\n",
       "62.73    313.65\n",
       "63.64    318.20\n",
       "64.36    321.80\n",
       "62.17    310.85\n",
       "62.60    313.00\n",
       "60.67    303.35\n",
       "60.87    304.35\n",
       "58.96    294.80\n",
       "60.10    300.50\n",
       "61.75    308.75\n",
       "61.07    305.35\n",
       "58.15    290.75\n",
       "56.91    284.55\n",
       "55.65    278.25\n",
       "54.39    271.95\n",
       "53.92    269.60\n",
       "57.40    287.00\n",
       "60.21    301.05\n",
       "60.35    301.75\n",
       "58.24    291.20\n",
       "56.82    284.10\n",
       "56.57    282.85\n",
       "56.35    281.75\n",
       "56.66    283.30\n",
       "58.86    294.30\n",
       "56.26    281.30\n",
       "57.45    287.25\n",
       "55.33    276.65\n",
       "53.80    269.00\n",
       "52.99    264.95\n",
       "52.32    261.60\n",
       "49.91    249.55\n",
       "53.31    266.55\n",
       "57.85    289.25\n",
       "58.75    293.75\n",
       "55.72    278.60\n",
       "54.48    272.40\n",
       "52.99    264.95\n",
       "51.58    257.90\n",
       "50.85    254.25\n",
       "dtype: float64"
      ]
     },
     "execution_count": 145,
     "metadata": {},
     "output_type": "execute_result"
    }
   ],
   "source": [
    "pd.Series(weather.temp.values * 5, index=weather.temp)"
   ]
  },
  {
   "cell_type": "markdown",
   "metadata": {},
   "source": [
    "Open the [Pandas IO Lab][pandas-io-lab]\n",
    "\n",
    "[pandas-io-lab]: ./pandas-io-lab.ipynb"
   ]
  }
 ],
 "metadata": {
  "kernelspec": {
   "display_name": "Python 3",
   "language": "python",
   "name": "python3"
  },
  "language_info": {
   "codemirror_mode": {
    "name": "ipython",
    "version": 3
   },
   "file_extension": ".py",
   "mimetype": "text/x-python",
   "name": "python",
   "nbconvert_exporter": "python",
   "pygments_lexer": "ipython3",
   "version": "3.8.5"
  }
 },
 "nbformat": 4,
 "nbformat_minor": 2
}
