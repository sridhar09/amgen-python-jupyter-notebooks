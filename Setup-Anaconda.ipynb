{
 "cells": [
  {
   "cell_type": "markdown",
   "metadata": {},
   "source": [
    "# Step 1: Install Anaconda\n",
    "\n",
    "Anaconda is an open source distribution of Python and essential data science tools. We use the 2018.12 version.\n",
    "\n",
    "1. Go to https://www.anaconda.com/download\n",
    "1. Make sure you download the Python 3 version\n",
    "\n",
    "1. OSX Install - accept the defaults EXCEPT\n",
    "    1. At the Installation Type phase:\n",
    "    1. Click Change Install Location and choose Install for me only\n",
    "    1. Choose Customize at the Installation Type phase, and disable the Modify PATH option.\n",
    "    1. Microsoft VSCode is not required\n",
    "1. Windows Install - accept the defaults EXCEPT\n",
    "    1. At the Destination Select phase pick \"Just Me\"\n",
    "    1. Microsoft VSCode is not required\n",
    "    "
   ]
  },
  {
   "cell_type": "markdown",
   "metadata": {},
   "source": [
    "# Step 2: Launch the Anaconda Navigator\n",
    "\n",
    "You should have an application called Anaconda Navigator in Applications or Start menu \n",
    "\n",
    "![Anaconda Navigator](./data/img/Navigator.png)"
   ]
  },
  {
   "cell_type": "markdown",
   "metadata": {},
   "source": [
    "# Step 3: Launch Jupyter\n",
    "![Open Jupyter](data/img/Navigator2.png)"
   ]
  },
  {
   "cell_type": "markdown",
   "metadata": {},
   "source": [
    "# Step 3: Navigate to the directory where you extracted the courseware\n",
    "\n",
    "When you launch the Jupyter notebook, you'll see a window similar to the following. Navigate in this window to the location where you unzipped the courseware:\n",
    "\n",
    "![Jupyter File Browser](data/img/JupyterFiles.png)"
   ]
  },
  {
   "cell_type": "code",
   "execution_count": null,
   "metadata": {},
   "outputs": [],
   "source": []
  }
 ],
 "metadata": {
  "kernelspec": {
   "display_name": "Python 3",
   "language": "python",
   "name": "python3"
  },
  "language_info": {
   "codemirror_mode": {
    "name": "ipython",
    "version": 3
   },
   "file_extension": ".py",
   "mimetype": "text/x-python",
   "name": "python",
   "nbconvert_exporter": "python",
   "pygments_lexer": "ipython3",
   "version": "3.8.5"
  }
 },
 "nbformat": 4,
 "nbformat_minor": 2
}
