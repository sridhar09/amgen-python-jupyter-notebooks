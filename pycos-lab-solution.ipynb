{
 "cells": [
  {
   "cell_type": "markdown",
   "metadata": {},
   "source": [
    "# Lab: pycos\n",
    "\n",
    "Write a pycos datetime server that will send the client the current `time.ctime()` every 10s"
   ]
  },
  {
   "cell_type": "code",
   "execution_count": 1,
   "metadata": {},
   "outputs": [
    {
     "name": "stdout",
     "output_type": "stream",
     "text": [
      "2020-05-22 15:16:13 pycos - version 4.8.15 with kqueue I/O notifier\n"
     ]
    },
    {
     "data": {
      "text/plain": [
       "!server_proc/4376341584"
      ]
     },
     "execution_count": 1,
     "metadata": {},
     "output_type": "execute_result"
    },
    {
     "name": "stdout",
     "output_type": "stream",
     "text": [
      "In handler\n"
     ]
    }
   ],
   "source": [
    "import time\n",
    "import socket\n",
    "import pycos\n",
    "\n",
    "def handler_proc(sock, task=None):\n",
    "    print('In handler')\n",
    "    task.set_daemon()\n",
    "    while True:\n",
    "        try:\n",
    "            result = yield sock.send(time.ctime().encode('utf-8') + b'\\n')\n",
    "        except Exception as err:\n",
    "            print(err)\n",
    "            break\n",
    "        yield task.sleep(10)\n",
    "    print('Leaving handler')\n",
    "    sock.close()\n",
    "        \n",
    "def server_proc(sock, host, port, task=None):\n",
    "    task.set_daemon()\n",
    "    sock = pycos.AsyncSocket(sock)\n",
    "    sock.bind((host, port))\n",
    "    sock.listen(5)\n",
    "\n",
    "    while True:\n",
    "        conn, addr = yield sock.accept()\n",
    "        pycos.Task(handler_proc, conn)\n",
    "        \n",
    "sock = socket.socket()\n",
    "server = pycos.Task(server_proc, sock, '127.0.0.1', 8001)\n",
    "server"
   ]
  },
  {
   "cell_type": "code",
   "execution_count": 2,
   "metadata": {},
   "outputs": [
    {
     "data": {
      "text/plain": [
       "0"
      ]
     },
     "execution_count": 2,
     "metadata": {},
     "output_type": "execute_result"
    },
    {
     "name": "stdout",
     "output_type": "stream",
     "text": [
      "[Errno 32] Broken pipe\n",
      "Leaving handler\n"
     ]
    }
   ],
   "source": [
    "sock.close()\n",
    "server.terminate()"
   ]
  },
  {
   "cell_type": "markdown",
   "metadata": {},
   "source": [
    "# Lab: netpycos\n",
    "\n",
    "Using the \"Distributed Channels\" example in the demo, \n",
    "\n",
    "- write a timeserver that will broadcast the current `time.ctime()` every 1s to a named channel\n",
    "- write a listener that will print the values received from the timeserver"
   ]
  },
  {
   "cell_type": "code",
   "execution_count": 3,
   "metadata": {},
   "outputs": [
    {
     "name": "stdout",
     "output_type": "stream",
     "text": [
      "Overwriting data/pycos-examples/timeserver.py\n"
     ]
    }
   ],
   "source": [
    "%%file data/pycos-examples/timeserver.py\n",
    "import sys\n",
    "import time\n",
    "import pycos\n",
    "import pycos.netpycos\n",
    "\n",
    "from my_ip import MY_IP\n",
    "\n",
    "sched = pycos.Pycos.instance(node=MY_IP)\n",
    "# sched = pycos.Pycos.instance()\n",
    "channel = pycos.Channel('timeserver')\n",
    "\n",
    "def server_proc(task=None):\n",
    "    task.set_daemon()\n",
    "    channel.register()\n",
    "    while True:\n",
    "        channel.send(time.ctime())\n",
    "        yield task.sleep(1)\n",
    "\n",
    "server = pycos.Task(server_proc)\n",
    "while True:\n",
    "    cmd = sys.stdin.readline().strip().lower()\n",
    "    if cmd == 'quit' or cmd == 'exit':\n",
    "        break"
   ]
  },
  {
   "cell_type": "code",
   "execution_count": 4,
   "metadata": {},
   "outputs": [
    {
     "name": "stdout",
     "output_type": "stream",
     "text": [
      "Overwriting data/pycos-examples/time_listener.py\n"
     ]
    }
   ],
   "source": [
    "%%file data/pycos-examples/time_listener.py\n",
    "import sys\n",
    "import pycos\n",
    "import pycos.netpycos\n",
    "\n",
    "from my_ip import MY_IP\n",
    "\n",
    "sched = pycos.Pycos.instance(node=MY_IP) #, udp_port=9706, tcp_port=9706)\n",
    "# sched = pycos.Pycos.instance()\n",
    "\n",
    "def main_proc(task=None):\n",
    "    task.set_daemon()\n",
    "    chan = yield pycos.Channel.locate('timeserver')\n",
    "    print(f'Located {chan}')\n",
    "    yield chan.subscribe(task)\n",
    "    while True:\n",
    "        msg = yield task.receive()\n",
    "        print(f'received {msg}')\n",
    "    \n",
    "pycos.Task(main_proc)\n",
    "while True:\n",
    "    cmd = sys.stdin.readline().strip().lower()\n",
    "    if cmd == 'quit' or cmd == 'exit':\n",
    "        break\n"
   ]
  },
  {
   "cell_type": "code",
   "execution_count": null,
   "metadata": {},
   "outputs": [],
   "source": []
  }
 ],
 "metadata": {
  "kernelspec": {
   "display_name": "Python 3",
   "language": "python",
   "name": "python3"
  },
  "language_info": {
   "codemirror_mode": {
    "name": "ipython",
    "version": 3
   },
   "file_extension": ".py",
   "mimetype": "text/x-python",
   "name": "python",
   "nbconvert_exporter": "python",
   "pygments_lexer": "ipython3",
   "version": "3.7.6"
  }
 },
 "nbformat": 4,
 "nbformat_minor": 2
}
