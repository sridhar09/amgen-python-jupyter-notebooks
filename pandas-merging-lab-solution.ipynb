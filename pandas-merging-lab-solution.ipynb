{
 "cells": [
  {
   "cell_type": "markdown",
   "metadata": {},
   "source": [
    "Read in the file `./data/sales.csv`"
   ]
  },
  {
   "cell_type": "code",
   "execution_count": 1,
   "metadata": {},
   "outputs": [
    {
     "data": {
      "text/html": [
       "<div>\n",
       "<style scoped>\n",
       "    .dataframe tbody tr th:only-of-type {\n",
       "        vertical-align: middle;\n",
       "    }\n",
       "\n",
       "    .dataframe tbody tr th {\n",
       "        vertical-align: top;\n",
       "    }\n",
       "\n",
       "    .dataframe thead th {\n",
       "        text-align: right;\n",
       "    }\n",
       "</style>\n",
       "<table border=\"1\" class=\"dataframe\">\n",
       "  <thead>\n",
       "    <tr style=\"text-align: right;\">\n",
       "      <th></th>\n",
       "      <th>order_num</th>\n",
       "      <th>line_num</th>\n",
       "      <th>date</th>\n",
       "      <th>sku</th>\n",
       "      <th>qty</th>\n",
       "    </tr>\n",
       "  </thead>\n",
       "  <tbody>\n",
       "    <tr>\n",
       "      <th>0</th>\n",
       "      <td>0</td>\n",
       "      <td>0</td>\n",
       "      <td>2011-01-01</td>\n",
       "      <td>sku4333</td>\n",
       "      <td>6</td>\n",
       "    </tr>\n",
       "    <tr>\n",
       "      <th>1</th>\n",
       "      <td>0</td>\n",
       "      <td>1</td>\n",
       "      <td>2011-01-01</td>\n",
       "      <td>sku76536</td>\n",
       "      <td>7</td>\n",
       "    </tr>\n",
       "    <tr>\n",
       "      <th>2</th>\n",
       "      <td>1</td>\n",
       "      <td>0</td>\n",
       "      <td>2011-01-02</td>\n",
       "      <td>sku75108</td>\n",
       "      <td>3</td>\n",
       "    </tr>\n",
       "    <tr>\n",
       "      <th>3</th>\n",
       "      <td>1</td>\n",
       "      <td>1</td>\n",
       "      <td>2011-01-02</td>\n",
       "      <td>sku78838</td>\n",
       "      <td>9</td>\n",
       "    </tr>\n",
       "    <tr>\n",
       "      <th>4</th>\n",
       "      <td>1</td>\n",
       "      <td>2</td>\n",
       "      <td>2011-01-02</td>\n",
       "      <td>sku77480</td>\n",
       "      <td>9</td>\n",
       "    </tr>\n",
       "  </tbody>\n",
       "</table>\n",
       "</div>"
      ],
      "text/plain": [
       "   order_num  line_num       date       sku  qty\n",
       "0          0         0 2011-01-01   sku4333    6\n",
       "1          0         1 2011-01-01  sku76536    7\n",
       "2          1         0 2011-01-02  sku75108    3\n",
       "3          1         1 2011-01-02  sku78838    9\n",
       "4          1         2 2011-01-02  sku77480    9"
      ]
     },
     "execution_count": 1,
     "metadata": {},
     "output_type": "execute_result"
    }
   ],
   "source": [
    "import pandas as pd\n",
    "sales = pd.read_csv('./data/sales.csv', parse_dates=['date'])\n",
    "sales.head()"
   ]
  },
  {
   "cell_type": "markdown",
   "metadata": {},
   "source": [
    "Read in the file `./data/prices.csv`"
   ]
  },
  {
   "cell_type": "code",
   "execution_count": 2,
   "metadata": {},
   "outputs": [
    {
     "data": {
      "text/html": [
       "<div>\n",
       "<style scoped>\n",
       "    .dataframe tbody tr th:only-of-type {\n",
       "        vertical-align: middle;\n",
       "    }\n",
       "\n",
       "    .dataframe tbody tr th {\n",
       "        vertical-align: top;\n",
       "    }\n",
       "\n",
       "    .dataframe thead th {\n",
       "        text-align: right;\n",
       "    }\n",
       "</style>\n",
       "<table border=\"1\" class=\"dataframe\">\n",
       "  <thead>\n",
       "    <tr style=\"text-align: right;\">\n",
       "      <th></th>\n",
       "      <th>sku</th>\n",
       "      <th>category</th>\n",
       "      <th>price</th>\n",
       "    </tr>\n",
       "  </thead>\n",
       "  <tbody>\n",
       "    <tr>\n",
       "      <th>0</th>\n",
       "      <td>sku0000</td>\n",
       "      <td>Toilets</td>\n",
       "      <td>2085.11</td>\n",
       "    </tr>\n",
       "    <tr>\n",
       "      <th>1</th>\n",
       "      <td>sku0001</td>\n",
       "      <td>Misc</td>\n",
       "      <td>3601.62</td>\n",
       "    </tr>\n",
       "    <tr>\n",
       "      <th>2</th>\n",
       "      <td>sku0002</td>\n",
       "      <td>Misc</td>\n",
       "      <td>0.57</td>\n",
       "    </tr>\n",
       "    <tr>\n",
       "      <th>3</th>\n",
       "      <td>sku0003</td>\n",
       "      <td>Faucets</td>\n",
       "      <td>1511.66</td>\n",
       "    </tr>\n",
       "    <tr>\n",
       "      <th>4</th>\n",
       "      <td>sku0004</td>\n",
       "      <td>Toilets</td>\n",
       "      <td>733.78</td>\n",
       "    </tr>\n",
       "  </tbody>\n",
       "</table>\n",
       "</div>"
      ],
      "text/plain": [
       "       sku category    price\n",
       "0  sku0000  Toilets  2085.11\n",
       "1  sku0001     Misc  3601.62\n",
       "2  sku0002     Misc     0.57\n",
       "3  sku0003  Faucets  1511.66\n",
       "4  sku0004  Toilets   733.78"
      ]
     },
     "execution_count": 2,
     "metadata": {},
     "output_type": "execute_result"
    }
   ],
   "source": [
    "prices = pd.read_csv('./data/prices.csv', index_col='Unnamed: 0')\n",
    "prices.head()"
   ]
  },
  {
   "cell_type": "markdown",
   "metadata": {},
   "source": [
    "Merge the sales and prices data on the sku"
   ]
  },
  {
   "cell_type": "code",
   "execution_count": 3,
   "metadata": {},
   "outputs": [
    {
     "data": {
      "text/html": [
       "<div>\n",
       "<style scoped>\n",
       "    .dataframe tbody tr th:only-of-type {\n",
       "        vertical-align: middle;\n",
       "    }\n",
       "\n",
       "    .dataframe tbody tr th {\n",
       "        vertical-align: top;\n",
       "    }\n",
       "\n",
       "    .dataframe thead th {\n",
       "        text-align: right;\n",
       "    }\n",
       "</style>\n",
       "<table border=\"1\" class=\"dataframe\">\n",
       "  <thead>\n",
       "    <tr style=\"text-align: right;\">\n",
       "      <th></th>\n",
       "      <th>order_num</th>\n",
       "      <th>line_num</th>\n",
       "      <th>date</th>\n",
       "      <th>sku</th>\n",
       "      <th>qty</th>\n",
       "      <th>category</th>\n",
       "      <th>price</th>\n",
       "    </tr>\n",
       "  </thead>\n",
       "  <tbody>\n",
       "    <tr>\n",
       "      <th>0</th>\n",
       "      <td>0</td>\n",
       "      <td>0</td>\n",
       "      <td>2011-01-01</td>\n",
       "      <td>sku4333</td>\n",
       "      <td>6</td>\n",
       "      <td>Showers</td>\n",
       "      <td>1563.90</td>\n",
       "    </tr>\n",
       "    <tr>\n",
       "      <th>1</th>\n",
       "      <td>641</td>\n",
       "      <td>3</td>\n",
       "      <td>2012-10-10</td>\n",
       "      <td>sku4333</td>\n",
       "      <td>8</td>\n",
       "      <td>Showers</td>\n",
       "      <td>1563.90</td>\n",
       "    </tr>\n",
       "    <tr>\n",
       "      <th>2</th>\n",
       "      <td>0</td>\n",
       "      <td>1</td>\n",
       "      <td>2011-01-01</td>\n",
       "      <td>sku76536</td>\n",
       "      <td>7</td>\n",
       "      <td>Faucets</td>\n",
       "      <td>3121.99</td>\n",
       "    </tr>\n",
       "    <tr>\n",
       "      <th>3</th>\n",
       "      <td>1</td>\n",
       "      <td>0</td>\n",
       "      <td>2011-01-02</td>\n",
       "      <td>sku75108</td>\n",
       "      <td>3</td>\n",
       "      <td>Misc</td>\n",
       "      <td>819.55</td>\n",
       "    </tr>\n",
       "    <tr>\n",
       "      <th>4</th>\n",
       "      <td>1</td>\n",
       "      <td>1</td>\n",
       "      <td>2011-01-02</td>\n",
       "      <td>sku78838</td>\n",
       "      <td>9</td>\n",
       "      <td>Showers</td>\n",
       "      <td>2531.54</td>\n",
       "    </tr>\n",
       "  </tbody>\n",
       "</table>\n",
       "</div>"
      ],
      "text/plain": [
       "   order_num  line_num       date       sku  qty category    price\n",
       "0          0         0 2011-01-01   sku4333    6  Showers  1563.90\n",
       "1        641         3 2012-10-10   sku4333    8  Showers  1563.90\n",
       "2          0         1 2011-01-01  sku76536    7  Faucets  3121.99\n",
       "3          1         0 2011-01-02  sku75108    3     Misc   819.55\n",
       "4          1         1 2011-01-02  sku78838    9  Showers  2531.54"
      ]
     },
     "execution_count": 3,
     "metadata": {},
     "output_type": "execute_result"
    }
   ],
   "source": [
    "merged_sales = pd.merge(sales, prices) # , on='sku')\n",
    "merged_sales.head()"
   ]
  },
  {
   "cell_type": "markdown",
   "metadata": {},
   "source": [
    "Generate a revenue column based on price * qty"
   ]
  },
  {
   "cell_type": "code",
   "execution_count": 4,
   "metadata": {},
   "outputs": [
    {
     "data": {
      "text/html": [
       "<div>\n",
       "<style scoped>\n",
       "    .dataframe tbody tr th:only-of-type {\n",
       "        vertical-align: middle;\n",
       "    }\n",
       "\n",
       "    .dataframe tbody tr th {\n",
       "        vertical-align: top;\n",
       "    }\n",
       "\n",
       "    .dataframe thead th {\n",
       "        text-align: right;\n",
       "    }\n",
       "</style>\n",
       "<table border=\"1\" class=\"dataframe\">\n",
       "  <thead>\n",
       "    <tr style=\"text-align: right;\">\n",
       "      <th></th>\n",
       "      <th>order_num</th>\n",
       "      <th>line_num</th>\n",
       "      <th>date</th>\n",
       "      <th>sku</th>\n",
       "      <th>qty</th>\n",
       "      <th>category</th>\n",
       "      <th>price</th>\n",
       "      <th>revenue</th>\n",
       "    </tr>\n",
       "  </thead>\n",
       "  <tbody>\n",
       "    <tr>\n",
       "      <th>0</th>\n",
       "      <td>0</td>\n",
       "      <td>0</td>\n",
       "      <td>2011-01-01</td>\n",
       "      <td>sku4333</td>\n",
       "      <td>6</td>\n",
       "      <td>Showers</td>\n",
       "      <td>1563.90</td>\n",
       "      <td>9383.40</td>\n",
       "    </tr>\n",
       "    <tr>\n",
       "      <th>1</th>\n",
       "      <td>641</td>\n",
       "      <td>3</td>\n",
       "      <td>2012-10-10</td>\n",
       "      <td>sku4333</td>\n",
       "      <td>8</td>\n",
       "      <td>Showers</td>\n",
       "      <td>1563.90</td>\n",
       "      <td>12511.20</td>\n",
       "    </tr>\n",
       "    <tr>\n",
       "      <th>2</th>\n",
       "      <td>0</td>\n",
       "      <td>1</td>\n",
       "      <td>2011-01-01</td>\n",
       "      <td>sku76536</td>\n",
       "      <td>7</td>\n",
       "      <td>Faucets</td>\n",
       "      <td>3121.99</td>\n",
       "      <td>21853.93</td>\n",
       "    </tr>\n",
       "    <tr>\n",
       "      <th>3</th>\n",
       "      <td>1</td>\n",
       "      <td>0</td>\n",
       "      <td>2011-01-02</td>\n",
       "      <td>sku75108</td>\n",
       "      <td>3</td>\n",
       "      <td>Misc</td>\n",
       "      <td>819.55</td>\n",
       "      <td>2458.65</td>\n",
       "    </tr>\n",
       "    <tr>\n",
       "      <th>4</th>\n",
       "      <td>1</td>\n",
       "      <td>1</td>\n",
       "      <td>2011-01-02</td>\n",
       "      <td>sku78838</td>\n",
       "      <td>9</td>\n",
       "      <td>Showers</td>\n",
       "      <td>2531.54</td>\n",
       "      <td>22783.86</td>\n",
       "    </tr>\n",
       "  </tbody>\n",
       "</table>\n",
       "</div>"
      ],
      "text/plain": [
       "   order_num  line_num       date       sku  qty category    price   revenue\n",
       "0          0         0 2011-01-01   sku4333    6  Showers  1563.90   9383.40\n",
       "1        641         3 2012-10-10   sku4333    8  Showers  1563.90  12511.20\n",
       "2          0         1 2011-01-01  sku76536    7  Faucets  3121.99  21853.93\n",
       "3          1         0 2011-01-02  sku75108    3     Misc   819.55   2458.65\n",
       "4          1         1 2011-01-02  sku78838    9  Showers  2531.54  22783.86"
      ]
     },
     "execution_count": 4,
     "metadata": {},
     "output_type": "execute_result"
    }
   ],
   "source": [
    "merged_sales['revenue'] = merged_sales.qty * merged_sales.price\n",
    "merged_sales.head()"
   ]
  },
  {
   "cell_type": "markdown",
   "metadata": {},
   "source": [
    "Save the merged sales data as `./data/merged-sales.csv`"
   ]
  },
  {
   "cell_type": "code",
   "execution_count": 5,
   "metadata": {},
   "outputs": [],
   "source": [
    "merged_sales.to_csv('./data/merged-sales.csv', index=False)"
   ]
  },
  {
   "cell_type": "code",
   "execution_count": 6,
   "metadata": {},
   "outputs": [
    {
     "name": "stdout",
     "output_type": "stream",
     "text": [
      "order_num,line_num,date,sku,qty,category,price,revenue\r\n",
      "0,0,2011-01-01,sku4333,6,Showers,1563.9,9383.400000000001\r\n",
      "641,3,2012-10-10,sku4333,8,Showers,1563.9,12511.2\r\n",
      "0,1,2011-01-01,sku76536,7,Faucets,3121.99,21853.93\r\n",
      "1,0,2011-01-02,sku75108,3,Misc,819.55,2458.6499999999996\r\n",
      "1,1,2011-01-02,sku78838,9,Showers,2531.54,22783.86\r\n",
      "1,2,2011-01-02,sku77480,9,Faucets,848.53,7636.7699999999995\r\n",
      "2,0,2011-01-05,sku45155,3,Misc,2682.97,8048.91\r\n",
      "2,1,2011-01-05,sku67327,9,Misc,1593.51,14341.59\r\n",
      "2,2,2011-01-05,sku27757,8,Misc,1236.75,9894.0\r\n"
     ]
    }
   ],
   "source": [
    "!head ./data/merged-sales.csv"
   ]
  },
  {
   "cell_type": "code",
   "execution_count": null,
   "metadata": {},
   "outputs": [],
   "source": []
  }
 ],
 "metadata": {
  "kernelspec": {
   "display_name": "Python 3",
   "language": "python",
   "name": "python3"
  },
  "language_info": {
   "codemirror_mode": {
    "name": "ipython",
    "version": 3
   },
   "file_extension": ".py",
   "mimetype": "text/x-python",
   "name": "python",
   "nbconvert_exporter": "python",
   "pygments_lexer": "ipython3",
   "version": "3.8.5"
  }
 },
 "nbformat": 4,
 "nbformat_minor": 2
}
