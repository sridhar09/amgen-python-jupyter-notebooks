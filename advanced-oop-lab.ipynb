{
 "cells": [
  {
   "cell_type": "markdown",
   "metadata": {},
   "source": [
    "# Lab: Metaclass\n",
    "\n",
    "Write a metaclass that allows us to use `class` syntax to create a `dict`, e.g.\n",
    "\n",
    "```python\n",
    "class MyDict(metaclass=Dictify):\n",
    "    a = 1\n",
    "    b = 2\n",
    "```\n",
    "\n",
    "creates the dict `MyDict = {'a': 1, 'b': 2}`\n",
    "\n",
    "Hint: Metaclasses and class decorators are not required to return classes!"
   ]
  },
  {
   "cell_type": "code",
   "execution_count": null,
   "metadata": {},
   "outputs": [],
   "source": []
  },
  {
   "cell_type": "markdown",
   "metadata": {},
   "source": [
    "Part 2: Write a class decorator to do the same\n",
    "\n",
    "```python\n",
    "@dictify\n",
    "class MyDict:\n",
    "    a = 1\n",
    "    b = 2\n",
    "```"
   ]
  },
  {
   "cell_type": "code",
   "execution_count": null,
   "metadata": {},
   "outputs": [],
   "source": []
  },
  {
   "cell_type": "markdown",
   "metadata": {},
   "source": [
    "# Lab: Descriptor\n",
    "\n",
    "Write a (non-data) descriptor that will allow us to calculate an attribute value the *first* time it is loaded, and cache it for subsequent loads."
   ]
  },
  {
   "cell_type": "code",
   "execution_count": null,
   "metadata": {},
   "outputs": [],
   "source": []
  },
  {
   "cell_type": "code",
   "execution_count": null,
   "metadata": {},
   "outputs": [],
   "source": []
  },
  {
   "cell_type": "markdown",
   "metadata": {},
   "source": [
    "Try to re-implement the above descriptor as a *data* descriptor"
   ]
  },
  {
   "cell_type": "code",
   "execution_count": null,
   "metadata": {},
   "outputs": [],
   "source": []
  }
 ],
 "metadata": {
  "kernelspec": {
   "display_name": "Python 3",
   "language": "python",
   "name": "python3"
  },
  "language_info": {
   "codemirror_mode": {
    "name": "ipython",
    "version": 3
   },
   "file_extension": ".py",
   "mimetype": "text/x-python",
   "name": "python",
   "nbconvert_exporter": "python",
   "pygments_lexer": "ipython3",
   "version": "3.8.5"
  }
 },
 "nbformat": 4,
 "nbformat_minor": 2
}
