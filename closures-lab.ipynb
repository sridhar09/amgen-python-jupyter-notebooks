{
 "cells": [
  {
   "cell_type": "markdown",
   "metadata": {},
   "source": [
    "# Lab: Decorators\n",
    "\n",
    "## Documentation redux\n",
    "\n",
    "Suppose we want to document our function, but we want to customize the message. \n",
    "For instance, if we write:\n",
    "\n",
    "```python\n",
    "@document(\"Calling {function.__name__} with {args} and {kwargs}\")\n",
    "def print_string(thestring):\n",
    "    print(thestring)\n",
    "    \n",
    "print_string(\"foo\")\n",
    "```\n",
    "\n",
    "we will get the following output:\n",
    "\n",
    "```\n",
    "Calling print_string with ('foo',) and {}\n",
    "foo\n",
    "```\n",
    "\n",
    "Write the `document` decorator, keeping in mind\n",
    "- you will need 3 (!) levels of nested functions\n",
    "- you can access the name of a function with the `__name__` attribute (e.g. `func.__name__`)"
   ]
  },
  {
   "cell_type": "code",
   "execution_count": 1,
   "metadata": {},
   "outputs": [
    {
     "data": {
      "text/plain": [
       "'Calling myfunc with () and {}'"
      ]
     },
     "execution_count": 1,
     "metadata": {},
     "output_type": "execute_result"
    }
   ],
   "source": [
    "def myfunc():\n",
    "    pass\n",
    "\n",
    "\"Calling {function.__name__} with {args} and {kwargs}\".format(\n",
    "    function=myfunc, args=(), kwargs={}\n",
    ")"
   ]
  },
  {
   "cell_type": "markdown",
   "metadata": {},
   "source": [
    "```python\n",
    "from functools import wraps\n",
    "\n",
    "def myfactory(...):\n",
    "    def decorator(function):\n",
    "        @wraps(function)\n",
    "        def wrapper(*args, **kwargs):\n",
    "            ...\n",
    "            result = function(*args, **kwargs)\n",
    "            ...\n",
    "            return result\n",
    "        return wrapper\n",
    "    return decorator\n",
    "```"
   ]
  },
  {
   "cell_type": "markdown",
   "metadata": {},
   "source": [
    "## Timing\n",
    "\n",
    "Suppose we want to instrument some code in production so that it records its cumulative elapsed time:\n",
    "\n",
    "```python\n",
    "import time\n",
    "timers = {}\n",
    "\n",
    "@keeptime(timers, 'foo')\n",
    "def sleep_a_while():\n",
    "    time.sleep(0.2)\n",
    "\n",
    "for i in range(10):\n",
    "    sleep_a_while()\n",
    "    \n",
    "print(timers)\n",
    "```\n",
    "\n",
    "we would want to get an output similar to `{'foo': 2.02}`. \n",
    "\n",
    "Write the `keeptime` decorator, keeping in mind\n",
    "- you can get the current time with `time.time()` (in seconds since 00:00 Jan 1, 1970)"
   ]
  },
  {
   "cell_type": "code",
   "execution_count": null,
   "metadata": {},
   "outputs": [],
   "source": []
  }
 ],
 "metadata": {
  "kernelspec": {
   "display_name": "Python 3",
   "language": "python",
   "name": "python3"
  },
  "language_info": {
   "codemirror_mode": {
    "name": "ipython",
    "version": 3
   },
   "file_extension": ".py",
   "mimetype": "text/x-python",
   "name": "python",
   "nbconvert_exporter": "python",
   "pygments_lexer": "ipython3",
   "version": "3.8.5"
  }
 },
 "nbformat": 4,
 "nbformat_minor": 2
}
