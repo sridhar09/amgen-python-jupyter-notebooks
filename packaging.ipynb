{
 "cells": [
  {
   "cell_type": "markdown",
   "metadata": {},
   "source": [
    "# Packaging Projects for Distribution\n",
    "\n",
    "- Creating a basic Python project with `setup.py` and `setup.cfg`\n",
    "- Specifying dependencies\n",
    "- Activating projects in a virtualenv with `setup.py develop`\n",
    "- Distributing data with your project\n",
    "- Using entry points to create console scripts\n",
    "- Uploading source distributions to PyPI"
   ]
  },
  {
   "cell_type": "markdown",
   "metadata": {},
   "source": [
    "# First, some terminology...\n",
    "\n",
    "- a Python **module** is typically a single file ending in `.py` located somewhere along `sys.path` that you can use with the Python `import` statement\n",
    "- a Python **package** is a folder located somewhere along `sys.path` containing a \"magic\" file `__init__.py` which can also be imported. If you import a package, Python is actually importing the `__init__.py` *module* in that *package*. You can also import modules or subpackages from a package.\n",
    "- a Python **project** is a unit of distribution of Python code (it's something you can `pip install`)"
   ]
  },
  {
   "cell_type": "markdown",
   "metadata": {},
   "source": [
    "# Creating a basic Python project with `setup.py` and `setup.cfg`\n",
    "\n",
    "To create a project for distribution, you'll need to create a directory with:\n",
    "\n",
    "- one or more Python packages to distribute\n",
    "- a `setup.py` file\n",
    "- (optionally) a `setup.cfg` file"
   ]
  },
  {
   "cell_type": "code",
   "execution_count": 1,
   "metadata": {},
   "outputs": [],
   "source": [
    "%%bash\n",
    "rm -fr data/MyProject\n",
    "mkdir -p data/MyProject/mypackage"
   ]
  },
  {
   "cell_type": "code",
   "execution_count": 2,
   "metadata": {
    "scrolled": true
   },
   "outputs": [
    {
     "name": "stdout",
     "output_type": "stream",
     "text": [
      "Writing data/MyProject/mypackage/__init__.py\n"
     ]
    }
   ],
   "source": [
    "%%file data/MyProject/mypackage/__init__.py\n",
    "print('This is the __init__ file for mypackage')"
   ]
  },
  {
   "cell_type": "code",
   "execution_count": 3,
   "metadata": {},
   "outputs": [
    {
     "name": "stdout",
     "output_type": "stream",
     "text": [
      "Writing data/MyProject/mypackage/mymodule.py\n"
     ]
    }
   ],
   "source": [
    "%%file data/MyProject/mypackage/mymodule.py\n",
    "print('This is mymodule')\n",
    "\n",
    "\n",
    "def greet(name):\n",
    "    print(f'Hello, {name}!')"
   ]
  },
  {
   "cell_type": "code",
   "execution_count": 4,
   "metadata": {},
   "outputs": [
    {
     "name": "stdout",
     "output_type": "stream",
     "text": [
      "data/MyProject\r\n",
      "data/MyProject/mypackage\r\n",
      "data/MyProject/mypackage/mymodule.py\r\n",
      "data/MyProject/mypackage/__init__.py\r\n"
     ]
    }
   ],
   "source": [
    "!find data/MyProject"
   ]
  },
  {
   "cell_type": "markdown",
   "metadata": {},
   "source": [
    "For this demo, we'll use `setup.cfg` to provide metadata for our project, so we only need a minimal setup.py:"
   ]
  },
  {
   "cell_type": "code",
   "execution_count": 5,
   "metadata": {},
   "outputs": [
    {
     "name": "stdout",
     "output_type": "stream",
     "text": [
      "Writing data/MyProject/setup.py\n"
     ]
    }
   ],
   "source": [
    "%%file data/MyProject/setup.py\n",
    "from setuptools import setup\n",
    "\n",
    "print('Running setup.py')\n",
    "setup()"
   ]
  },
  {
   "cell_type": "markdown",
   "metadata": {},
   "source": [
    "We can create the `setup.cfg` file to specify how `setuptools` will build and distribute our project:"
   ]
  },
  {
   "cell_type": "code",
   "execution_count": 6,
   "metadata": {},
   "outputs": [
    {
     "name": "stdout",
     "output_type": "stream",
     "text": [
      "Writing data/MyProject/setup.cfg\n"
     ]
    }
   ],
   "source": [
    "%%file data/MyProject/setup.cfg\n",
    "[metadata]\n",
    "name = MyProject\n",
    "version = 0.1\n",
    "url = file:///\n",
    "# author = Some Person\n",
    "# author_email = somebody@example.com\n",
    "# description = This should be a short description of our project\n",
    "# long_description = file: README.md\n",
    "# long_description_content_type = text/markdown\n",
    "# classifiers =\n",
    "#     Programming Language :: Python :: 3\n",
    "#     Programming Language :: Python :: 3.7\n",
    "#     Programming Language :: Python :: 3.8\n",
    "# keywords = test, class"
   ]
  },
  {
   "cell_type": "markdown",
   "metadata": {},
   "source": [
    "(Aside: you can use [cookiecutter](https://cookiecutter.readthedocs.io/en/1.7.2/) to get started on some projects)"
   ]
  },
  {
   "cell_type": "markdown",
   "metadata": {},
   "source": [
    "It's always nice to provide a README as well:"
   ]
  },
  {
   "cell_type": "code",
   "execution_count": 7,
   "metadata": {},
   "outputs": [
    {
     "name": "stdout",
     "output_type": "stream",
     "text": [
      "Writing data/MyProject/README.md\n"
     ]
    }
   ],
   "source": [
    "%%file data/MyProject/README.md\n",
    "# MyProject\n",
    "\n",
    "This project is a test setuptools project.\n",
    "\n",
    "Its features:\n",
    "    \n",
    "* feature 1\n",
    "* feature 2\n",
    "* feature 3"
   ]
  },
  {
   "cell_type": "code",
   "execution_count": 8,
   "metadata": {},
   "outputs": [
    {
     "name": "stdout",
     "output_type": "stream",
     "text": [
      "data/MyProject\r\n",
      "data/MyProject/mypackage\r\n",
      "data/MyProject/mypackage/mymodule.py\r\n",
      "data/MyProject/mypackage/__init__.py\r\n",
      "data/MyProject/README.md\r\n",
      "data/MyProject/setup.cfg\r\n",
      "data/MyProject/setup.py\r\n"
     ]
    }
   ],
   "source": [
    "!find data/MyProject"
   ]
  },
  {
   "cell_type": "markdown",
   "metadata": {},
   "source": [
    "## Creating a source distribution\n",
    "\n",
    "The entry point for all our project management commands is `setup.py`.\n",
    "\n",
    "We can create a simple source distribution of our project by calling `python setup.py sdist`:"
   ]
  },
  {
   "cell_type": "code",
   "execution_count": 9,
   "metadata": {},
   "outputs": [
    {
     "name": "stdout",
     "output_type": "stream",
     "text": [
      "Running setup.py\n",
      "running sdist\n",
      "running egg_info\n",
      "creating MyProject.egg-info\n",
      "writing MyProject.egg-info/PKG-INFO\n",
      "writing dependency_links to MyProject.egg-info/dependency_links.txt\n",
      "writing top-level names to MyProject.egg-info/top_level.txt\n",
      "writing manifest file 'MyProject.egg-info/SOURCES.txt'\n",
      "reading manifest file 'MyProject.egg-info/SOURCES.txt'\n",
      "writing manifest file 'MyProject.egg-info/SOURCES.txt'\n",
      "running check\n",
      "creating MyProject-0.1\n",
      "creating MyProject-0.1/MyProject.egg-info\n",
      "copying files to MyProject-0.1...\n",
      "copying README.md -> MyProject-0.1\n",
      "copying setup.cfg -> MyProject-0.1\n",
      "copying setup.py -> MyProject-0.1\n",
      "copying MyProject.egg-info/PKG-INFO -> MyProject-0.1/MyProject.egg-info\n",
      "copying MyProject.egg-info/SOURCES.txt -> MyProject-0.1/MyProject.egg-info\n",
      "copying MyProject.egg-info/dependency_links.txt -> MyProject-0.1/MyProject.egg-info\n",
      "copying MyProject.egg-info/top_level.txt -> MyProject-0.1/MyProject.egg-info\n",
      "Writing MyProject-0.1/setup.cfg\n",
      "creating dist\n",
      "Creating tar archive\n",
      "removing 'MyProject-0.1' (and everything under it)\n"
     ]
    },
    {
     "name": "stderr",
     "output_type": "stream",
     "text": [
      "warning: check: missing meta-data: either (author and author_email) or (maintainer and maintainer_email) must be supplied\n",
      "\n"
     ]
    }
   ],
   "source": [
    "%%bash\n",
    "cd data/MyProject\n",
    "rm -fr dist\n",
    "python setup.py sdist"
   ]
  },
  {
   "cell_type": "code",
   "execution_count": 10,
   "metadata": {},
   "outputs": [
    {
     "name": "stdout",
     "output_type": "stream",
     "text": [
      "MyProject-0.1.tar.gz\r\n"
     ]
    }
   ],
   "source": [
    "!ls data/MyProject/dist"
   ]
  },
  {
   "cell_type": "code",
   "execution_count": 11,
   "metadata": {},
   "outputs": [
    {
     "name": "stdout",
     "output_type": "stream",
     "text": [
      "Looking in links: /home/rick446/src/wheelhouse\n",
      "Processing ./data/MyProject/dist/MyProject-0.1.tar.gz\n",
      "Building wheels for collected packages: MyProject\n",
      "  Building wheel for MyProject (setup.py) ... \u001b[?25ldone\n",
      "\u001b[?25h  Created wheel for MyProject: filename=MyProject-0.1-py3-none-any.whl size=1000 sha256=fef93d05bf883adc4413b606a696711487c41af4505f674517247e27d2b7d91f\n",
      "  Stored in directory: /home/rick446/.cache/pip/wheels/a3/59/39/5846b12bc8f47308bfa106e75aa8971b1dc110ad32c8d3ec20\n",
      "Successfully built MyProject\n",
      "Installing collected packages: MyProject\n",
      "Successfully installed MyProject-0.1\n",
      "\u001b[33mWARNING: You are using pip version 20.2.3; however, version 21.3.1 is available.\n",
      "You should consider upgrading via the '/home/rick446/.virtualenvs/classes/bin/python -m pip install --upgrade pip' command.\u001b[0m\n"
     ]
    }
   ],
   "source": [
    "!pip install data/MyProject/dist/MyProject-0.1.tar.gz"
   ]
  },
  {
   "cell_type": "code",
   "execution_count": 12,
   "metadata": {},
   "outputs": [
    {
     "ename": "ModuleNotFoundError",
     "evalue": "No module named 'mypackage'",
     "output_type": "error",
     "traceback": [
      "\u001b[0;31m---------------------------------------------------------------------------\u001b[0m",
      "\u001b[0;31mModuleNotFoundError\u001b[0m                       Traceback (most recent call last)",
      "\u001b[0;32m<ipython-input-12-ebee4bc62610>\u001b[0m in \u001b[0;36m<module>\u001b[0;34m\u001b[0m\n\u001b[0;32m----> 1\u001b[0;31m \u001b[0;32mimport\u001b[0m \u001b[0mmypackage\u001b[0m\u001b[0;34m\u001b[0m\u001b[0;34m\u001b[0m\u001b[0m\n\u001b[0m",
      "\u001b[0;31mModuleNotFoundError\u001b[0m: No module named 'mypackage'"
     ]
    }
   ],
   "source": [
    "import mypackage"
   ]
  },
  {
   "cell_type": "code",
   "execution_count": 13,
   "metadata": {},
   "outputs": [
    {
     "name": "stdout",
     "output_type": "stream",
     "text": [
      "Found existing installation: MyProject 0.1\r\n",
      "Uninstalling MyProject-0.1:\r\n",
      "  Successfully uninstalled MyProject-0.1\r\n"
     ]
    }
   ],
   "source": [
    "!pip uninstall -y MyProject"
   ]
  },
  {
   "cell_type": "code",
   "execution_count": 14,
   "metadata": {},
   "outputs": [
    {
     "name": "stdout",
     "output_type": "stream",
     "text": [
      "MyProject-0.1/\r\n",
      "MyProject-0.1/MyProject.egg-info/\r\n",
      "MyProject-0.1/MyProject.egg-info/PKG-INFO\r\n",
      "MyProject-0.1/MyProject.egg-info/SOURCES.txt\r\n",
      "MyProject-0.1/MyProject.egg-info/dependency_links.txt\r\n",
      "MyProject-0.1/MyProject.egg-info/top_level.txt\r\n",
      "MyProject-0.1/PKG-INFO\r\n",
      "MyProject-0.1/README.md\r\n",
      "MyProject-0.1/setup.cfg\r\n",
      "MyProject-0.1/setup.py\r\n"
     ]
    }
   ],
   "source": [
    "!tar tzf data/MyProject/dist/MyProject-0.1.tar.gz"
   ]
  },
  {
   "cell_type": "markdown",
   "metadata": {},
   "source": [
    "## Adding our packages\n",
    "\n",
    "So we have an empty project (no packages/modules). We need to tell setuptools to actually include our package explicitly:"
   ]
  },
  {
   "cell_type": "code",
   "execution_count": 15,
   "metadata": {},
   "outputs": [
    {
     "name": "stdout",
     "output_type": "stream",
     "text": [
      "Overwriting data/MyProject/setup.cfg\n"
     ]
    }
   ],
   "source": [
    "%%file data/MyProject/setup.cfg\n",
    "[metadata]\n",
    "name = MyProject\n",
    "url = file:///\n",
    "author = Some Person\n",
    "author_email = somebody@example.com\n",
    "version = 0.1\n",
    "description = This should be a short description of our project\n",
    "long_description = file: README.md\n",
    "long_description_content_type = text/markdown\n",
    "\n",
    "[options]\n",
    "packages = mypackage"
   ]
  },
  {
   "cell_type": "code",
   "execution_count": 16,
   "metadata": {},
   "outputs": [
    {
     "name": "stdout",
     "output_type": "stream",
     "text": [
      "Running setup.py\n",
      "running sdist\n",
      "running egg_info\n",
      "writing MyProject.egg-info/PKG-INFO\n",
      "writing dependency_links to MyProject.egg-info/dependency_links.txt\n",
      "writing top-level names to MyProject.egg-info/top_level.txt\n",
      "reading manifest file 'MyProject.egg-info/SOURCES.txt'\n",
      "writing manifest file 'MyProject.egg-info/SOURCES.txt'\n",
      "running check\n",
      "creating MyProject-0.1\n",
      "creating MyProject-0.1/MyProject.egg-info\n",
      "creating MyProject-0.1/mypackage\n",
      "copying files to MyProject-0.1...\n",
      "copying README.md -> MyProject-0.1\n",
      "copying setup.cfg -> MyProject-0.1\n",
      "copying setup.py -> MyProject-0.1\n",
      "copying MyProject.egg-info/PKG-INFO -> MyProject-0.1/MyProject.egg-info\n",
      "copying MyProject.egg-info/SOURCES.txt -> MyProject-0.1/MyProject.egg-info\n",
      "copying MyProject.egg-info/dependency_links.txt -> MyProject-0.1/MyProject.egg-info\n",
      "copying MyProject.egg-info/top_level.txt -> MyProject-0.1/MyProject.egg-info\n",
      "copying mypackage/__init__.py -> MyProject-0.1/mypackage\n",
      "copying mypackage/mymodule.py -> MyProject-0.1/mypackage\n",
      "Writing MyProject-0.1/setup.cfg\n",
      "Creating tar archive\n",
      "removing 'MyProject-0.1' (and everything under it)\n"
     ]
    }
   ],
   "source": [
    "%%bash\n",
    "cd data/MyProject\n",
    "python setup.py sdist"
   ]
  },
  {
   "cell_type": "code",
   "execution_count": 17,
   "metadata": {},
   "outputs": [
    {
     "name": "stdout",
     "output_type": "stream",
     "text": [
      "MyProject-0.1/\r\n",
      "MyProject-0.1/MyProject.egg-info/\r\n",
      "MyProject-0.1/MyProject.egg-info/PKG-INFO\r\n",
      "MyProject-0.1/MyProject.egg-info/SOURCES.txt\r\n",
      "MyProject-0.1/MyProject.egg-info/dependency_links.txt\r\n",
      "MyProject-0.1/MyProject.egg-info/top_level.txt\r\n",
      "MyProject-0.1/PKG-INFO\r\n",
      "MyProject-0.1/README.md\r\n",
      "MyProject-0.1/mypackage/\r\n",
      "MyProject-0.1/mypackage/__init__.py\r\n",
      "MyProject-0.1/mypackage/mymodule.py\r\n",
      "MyProject-0.1/setup.cfg\r\n",
      "MyProject-0.1/setup.py\r\n"
     ]
    }
   ],
   "source": [
    "!tar tzf data/MyProject/dist/MyProject-0.1.tar.gz"
   ]
  },
  {
   "cell_type": "code",
   "execution_count": 18,
   "metadata": {},
   "outputs": [
    {
     "name": "stdout",
     "output_type": "stream",
     "text": [
      "Looking in links: /home/rick446/src/wheelhouse\n",
      "Processing ./data/MyProject/dist/MyProject-0.1.tar.gz\n",
      "Building wheels for collected packages: MyProject\n",
      "  Building wheel for MyProject (setup.py) ... \u001b[?25ldone\n",
      "\u001b[?25h  Created wheel for MyProject: filename=MyProject-0.1-py3-none-any.whl size=1579 sha256=842c3f6cf4661abe53803d10ccc7842956d52682c109d57e865536d774c0e78a\n",
      "  Stored in directory: /home/rick446/.cache/pip/wheels/a3/59/39/5846b12bc8f47308bfa106e75aa8971b1dc110ad32c8d3ec20\n",
      "Successfully built MyProject\n",
      "Installing collected packages: MyProject\n",
      "Successfully installed MyProject-0.1\n",
      "\u001b[33mWARNING: You are using pip version 20.2.3; however, version 21.3.1 is available.\n",
      "You should consider upgrading via the '/home/rick446/.virtualenvs/classes/bin/python -m pip install --upgrade pip' command.\u001b[0m\n"
     ]
    }
   ],
   "source": [
    "!pip install data/MyProject/dist/MyProject-0.1.tar.gz"
   ]
  },
  {
   "cell_type": "code",
   "execution_count": 19,
   "metadata": {},
   "outputs": [
    {
     "name": "stdout",
     "output_type": "stream",
     "text": [
      "This is the __init__ file for mypackage\n"
     ]
    }
   ],
   "source": [
    "import mypackage"
   ]
  },
  {
   "cell_type": "code",
   "execution_count": 20,
   "metadata": {},
   "outputs": [
    {
     "name": "stdout",
     "output_type": "stream",
     "text": [
      "Found existing installation: MyProject 0.1\r\n",
      "Uninstalling MyProject-0.1:\r\n",
      "  Successfully uninstalled MyProject-0.1\r\n"
     ]
    }
   ],
   "source": [
    "!pip uninstall -y MyProject"
   ]
  },
  {
   "cell_type": "markdown",
   "metadata": {},
   "source": [
    "## Specifying dependencies\n",
    "\n",
    "We can tell setuptools that we depend on particular versions (or version ranges) of other packages with an `install_requires` option:"
   ]
  },
  {
   "cell_type": "code",
   "execution_count": 21,
   "metadata": {},
   "outputs": [
    {
     "name": "stdout",
     "output_type": "stream",
     "text": [
      "Overwriting data/MyProject/setup.cfg\n"
     ]
    }
   ],
   "source": [
    "%%file data/MyProject/setup.cfg\n",
    "[metadata]\n",
    "name = MyProject\n",
    "url = file:///\n",
    "author = Some Person\n",
    "author_email = somebody@example.com\n",
    "version = 0.1\n",
    "description = This should be a short description of our project\n",
    "long_description = file: README.md\n",
    "long_description_content_type = text/markdown\n",
    "\n",
    "[options]\n",
    "packages = mypackage\n",
    "install_requires =\n",
    "    numpy>=1.16"
   ]
  },
  {
   "cell_type": "code",
   "execution_count": 22,
   "metadata": {},
   "outputs": [
    {
     "name": "stdout",
     "output_type": "stream",
     "text": [
      "Running setup.py\n",
      "running sdist\n",
      "running egg_info\n",
      "writing MyProject.egg-info/PKG-INFO\n",
      "writing dependency_links to MyProject.egg-info/dependency_links.txt\n",
      "writing requirements to MyProject.egg-info/requires.txt\n",
      "writing top-level names to MyProject.egg-info/top_level.txt\n",
      "reading manifest file 'MyProject.egg-info/SOURCES.txt'\n",
      "writing manifest file 'MyProject.egg-info/SOURCES.txt'\n",
      "running check\n",
      "creating MyProject-0.1\n",
      "creating MyProject-0.1/MyProject.egg-info\n",
      "creating MyProject-0.1/mypackage\n",
      "copying files to MyProject-0.1...\n",
      "copying README.md -> MyProject-0.1\n",
      "copying setup.cfg -> MyProject-0.1\n",
      "copying setup.py -> MyProject-0.1\n",
      "copying MyProject.egg-info/PKG-INFO -> MyProject-0.1/MyProject.egg-info\n",
      "copying MyProject.egg-info/SOURCES.txt -> MyProject-0.1/MyProject.egg-info\n",
      "copying MyProject.egg-info/dependency_links.txt -> MyProject-0.1/MyProject.egg-info\n",
      "copying MyProject.egg-info/requires.txt -> MyProject-0.1/MyProject.egg-info\n",
      "copying MyProject.egg-info/top_level.txt -> MyProject-0.1/MyProject.egg-info\n",
      "copying mypackage/__init__.py -> MyProject-0.1/mypackage\n",
      "copying mypackage/mymodule.py -> MyProject-0.1/mypackage\n",
      "Writing MyProject-0.1/setup.cfg\n",
      "Creating tar archive\n",
      "removing 'MyProject-0.1' (and everything under it)\n"
     ]
    }
   ],
   "source": [
    "%%bash\n",
    "cd data/MyProject\n",
    "python setup.py sdist"
   ]
  },
  {
   "cell_type": "code",
   "execution_count": 23,
   "metadata": {},
   "outputs": [
    {
     "name": "stdout",
     "output_type": "stream",
     "text": [
      "numpy>=1.16\r\n"
     ]
    }
   ],
   "source": [
    "cat data/MyProject/MyProject.egg-info/requires.txt"
   ]
  },
  {
   "cell_type": "markdown",
   "metadata": {},
   "source": [
    "# Activating projects using `setup.py develop`\n",
    "\n",
    "When we're developing our project, we probably want its packages to be importable as though it were 'installed' in our virtualenv. To do this, we can invoke `setup.py` with the `develop` option. \n",
    "\n",
    "This creates a `MyProject.egg-link` file in a location along `sys.path` which makes your packages importable from anwhere that uses the virtualenv.\n",
    "\n",
    "Note:\n",
    "\n",
    "`pip install -e .` has equivalent effect to `python setup.py develop`"
   ]
  },
  {
   "cell_type": "code",
   "execution_count": 24,
   "metadata": {
    "scrolled": false
   },
   "outputs": [
    {
     "name": "stdout",
     "output_type": "stream",
     "text": [
      "Running setup.py\n",
      "running develop\n",
      "running egg_info\n",
      "writing MyProject.egg-info/PKG-INFO\n",
      "writing dependency_links to MyProject.egg-info/dependency_links.txt\n",
      "writing requirements to MyProject.egg-info/requires.txt\n",
      "writing top-level names to MyProject.egg-info/top_level.txt\n",
      "reading manifest file 'MyProject.egg-info/SOURCES.txt'\n",
      "writing manifest file 'MyProject.egg-info/SOURCES.txt'\n",
      "running build_ext\n",
      "Creating /home/rick446/src/arborian-classes/data/MyProject/env/lib/python3.8/site-packages/MyProject.egg-link (link to .)\n",
      "Adding MyProject 0.1 to easy-install.pth file\n",
      "\n",
      "Installed /home/rick446/src/arborian-classes/data/MyProject\n",
      "Processing dependencies for MyProject==0.1\n",
      "Searching for numpy>=1.16\n",
      "Reading https://pypi.org/simple/numpy/\n",
      "Downloading https://files.pythonhosted.org/packages/a5/a1/72d6cacbcd35f5a8286db4b7aa50d7bc26bd467a0308b354db02d34148b0/numpy-1.21.3-cp38-cp38-manylinux_2_5_x86_64.manylinux1_x86_64.whl#sha256=dde972a1e11bb7b702ed0e447953e7617723760f420decb97305e66fb4afc54f\n",
      "Best match: numpy 1.21.3\n",
      "Processing numpy-1.21.3-cp38-cp38-manylinux_2_5_x86_64.manylinux1_x86_64.whl\n",
      "Installing numpy-1.21.3-cp38-cp38-manylinux_2_5_x86_64.manylinux1_x86_64.whl to /home/rick446/src/arborian-classes/data/MyProject/env/lib/python3.8/site-packages\n",
      "Adding numpy 1.21.3 to easy-install.pth file\n",
      "Installing f2py script to /home/rick446/src/arborian-classes/data/MyProject/env/bin\n",
      "Installing f2py3 script to /home/rick446/src/arborian-classes/data/MyProject/env/bin\n",
      "Installing f2py3.8 script to /home/rick446/src/arborian-classes/data/MyProject/env/bin\n",
      "\n",
      "Installed /home/rick446/src/arborian-classes/data/MyProject/env/lib/python3.8/site-packages/numpy-1.21.3-py3.8-linux-x86_64.egg\n",
      "Finished processing dependencies for MyProject==0.1\n"
     ]
    }
   ],
   "source": [
    "%%bash\n",
    "cd data/MyProject\n",
    "rm -fr env\n",
    "/usr/bin/python -m venv env\n",
    "source env/bin/activate\n",
    "# pip install -e .\n",
    "python setup.py develop    # makes mypackage importable from anywhere in the venv"
   ]
  },
  {
   "cell_type": "code",
   "execution_count": 25,
   "metadata": {},
   "outputs": [
    {
     "name": "stdout",
     "output_type": "stream",
     "text": [
      "/home/rick446/src/arborian-classes/data/MyProject\r\n",
      "./numpy-1.21.3-py3.8-linux-x86_64.egg\r\n"
     ]
    }
   ],
   "source": [
    "cat data/MyProject/env/lib/python3.8/site-packages/easy-install.pth"
   ]
  },
  {
   "cell_type": "code",
   "execution_count": 26,
   "metadata": {},
   "outputs": [
    {
     "name": "stdout",
     "output_type": "stream",
     "text": [
      "This is the __init__ file for mypackage\n",
      "This is mymodule\n",
      "Hello, class!\n"
     ]
    }
   ],
   "source": [
    "%%bash\n",
    "source data/MyProject/env/bin/activate\n",
    "cd /\n",
    "python -c 'import mypackage.mymodule; mypackage.mymodule.greet(\"class\")'"
   ]
  },
  {
   "cell_type": "markdown",
   "metadata": {},
   "source": [
    "If we *don't* do `setup.py develop`, we *won't* be able to import the package:"
   ]
  },
  {
   "cell_type": "code",
   "execution_count": 27,
   "metadata": {},
   "outputs": [
    {
     "name": "stdout",
     "output_type": "stream",
     "text": [
      "Found existing installation: MyProject 0.1\n",
      "Uninstalling MyProject-0.1:\n",
      "  Successfully uninstalled MyProject-0.1\n"
     ]
    },
    {
     "name": "stderr",
     "output_type": "stream",
     "text": [
      "Traceback (most recent call last):\n",
      "  File \"<string>\", line 1, in <module>\n",
      "ModuleNotFoundError: No module named 'mypackage'\n"
     ]
    },
    {
     "ename": "CalledProcessError",
     "evalue": "Command 'b'source data/MyProject/env/bin/activate\\npip uninstall -y MyProject   \\ncd /\\npython -c \\'import mypackage.mymodule; mypackage.mymodule.greet(\"class\")\\'\\n'' returned non-zero exit status 1.",
     "output_type": "error",
     "traceback": [
      "\u001b[0;31m---------------------------------------------------------------------------\u001b[0m",
      "\u001b[0;31mCalledProcessError\u001b[0m                        Traceback (most recent call last)",
      "\u001b[0;32m<ipython-input-27-004a2c16cdf4>\u001b[0m in \u001b[0;36m<module>\u001b[0;34m\u001b[0m\n\u001b[0;32m----> 1\u001b[0;31m \u001b[0mget_ipython\u001b[0m\u001b[0;34m(\u001b[0m\u001b[0;34m)\u001b[0m\u001b[0;34m.\u001b[0m\u001b[0mrun_cell_magic\u001b[0m\u001b[0;34m(\u001b[0m\u001b[0;34m'bash'\u001b[0m\u001b[0;34m,\u001b[0m \u001b[0;34m''\u001b[0m\u001b[0;34m,\u001b[0m \u001b[0;34m'source data/MyProject/env/bin/activate\\npip uninstall -y MyProject   \\ncd /\\npython -c \\'import mypackage.mymodule; mypackage.mymodule.greet(\"class\")\\'\\n'\u001b[0m\u001b[0;34m)\u001b[0m\u001b[0;34m\u001b[0m\u001b[0;34m\u001b[0m\u001b[0m\n\u001b[0m",
      "\u001b[0;32m~/.virtualenvs/classes/lib/python3.8/site-packages/IPython/core/interactiveshell.py\u001b[0m in \u001b[0;36mrun_cell_magic\u001b[0;34m(self, magic_name, line, cell)\u001b[0m\n\u001b[1;32m   2379\u001b[0m             \u001b[0;32mwith\u001b[0m \u001b[0mself\u001b[0m\u001b[0;34m.\u001b[0m\u001b[0mbuiltin_trap\u001b[0m\u001b[0;34m:\u001b[0m\u001b[0;34m\u001b[0m\u001b[0;34m\u001b[0m\u001b[0m\n\u001b[1;32m   2380\u001b[0m                 \u001b[0margs\u001b[0m \u001b[0;34m=\u001b[0m \u001b[0;34m(\u001b[0m\u001b[0mmagic_arg_s\u001b[0m\u001b[0;34m,\u001b[0m \u001b[0mcell\u001b[0m\u001b[0;34m)\u001b[0m\u001b[0;34m\u001b[0m\u001b[0;34m\u001b[0m\u001b[0m\n\u001b[0;32m-> 2381\u001b[0;31m                 \u001b[0mresult\u001b[0m \u001b[0;34m=\u001b[0m \u001b[0mfn\u001b[0m\u001b[0;34m(\u001b[0m\u001b[0;34m*\u001b[0m\u001b[0margs\u001b[0m\u001b[0;34m,\u001b[0m \u001b[0;34m**\u001b[0m\u001b[0mkwargs\u001b[0m\u001b[0;34m)\u001b[0m\u001b[0;34m\u001b[0m\u001b[0;34m\u001b[0m\u001b[0m\n\u001b[0m\u001b[1;32m   2382\u001b[0m             \u001b[0;32mreturn\u001b[0m \u001b[0mresult\u001b[0m\u001b[0;34m\u001b[0m\u001b[0;34m\u001b[0m\u001b[0m\n\u001b[1;32m   2383\u001b[0m \u001b[0;34m\u001b[0m\u001b[0m\n",
      "\u001b[0;32m~/.virtualenvs/classes/lib/python3.8/site-packages/IPython/core/magics/script.py\u001b[0m in \u001b[0;36mnamed_script_magic\u001b[0;34m(line, cell)\u001b[0m\n\u001b[1;32m    140\u001b[0m             \u001b[0;32melse\u001b[0m\u001b[0;34m:\u001b[0m\u001b[0;34m\u001b[0m\u001b[0;34m\u001b[0m\u001b[0m\n\u001b[1;32m    141\u001b[0m                 \u001b[0mline\u001b[0m \u001b[0;34m=\u001b[0m \u001b[0mscript\u001b[0m\u001b[0;34m\u001b[0m\u001b[0;34m\u001b[0m\u001b[0m\n\u001b[0;32m--> 142\u001b[0;31m             \u001b[0;32mreturn\u001b[0m \u001b[0mself\u001b[0m\u001b[0;34m.\u001b[0m\u001b[0mshebang\u001b[0m\u001b[0;34m(\u001b[0m\u001b[0mline\u001b[0m\u001b[0;34m,\u001b[0m \u001b[0mcell\u001b[0m\u001b[0;34m)\u001b[0m\u001b[0;34m\u001b[0m\u001b[0;34m\u001b[0m\u001b[0m\n\u001b[0m\u001b[1;32m    143\u001b[0m \u001b[0;34m\u001b[0m\u001b[0m\n\u001b[1;32m    144\u001b[0m         \u001b[0;31m# write a basic docstring:\u001b[0m\u001b[0;34m\u001b[0m\u001b[0;34m\u001b[0m\u001b[0;34m\u001b[0m\u001b[0m\n",
      "\u001b[0;32m<decorator-gen-103>\u001b[0m in \u001b[0;36mshebang\u001b[0;34m(self, line, cell)\u001b[0m\n",
      "\u001b[0;32m~/.virtualenvs/classes/lib/python3.8/site-packages/IPython/core/magic.py\u001b[0m in \u001b[0;36m<lambda>\u001b[0;34m(f, *a, **k)\u001b[0m\n\u001b[1;32m    185\u001b[0m     \u001b[0;31m# but it's overkill for just that one bit of state.\u001b[0m\u001b[0;34m\u001b[0m\u001b[0;34m\u001b[0m\u001b[0;34m\u001b[0m\u001b[0m\n\u001b[1;32m    186\u001b[0m     \u001b[0;32mdef\u001b[0m \u001b[0mmagic_deco\u001b[0m\u001b[0;34m(\u001b[0m\u001b[0marg\u001b[0m\u001b[0;34m)\u001b[0m\u001b[0;34m:\u001b[0m\u001b[0;34m\u001b[0m\u001b[0;34m\u001b[0m\u001b[0m\n\u001b[0;32m--> 187\u001b[0;31m         \u001b[0mcall\u001b[0m \u001b[0;34m=\u001b[0m \u001b[0;32mlambda\u001b[0m \u001b[0mf\u001b[0m\u001b[0;34m,\u001b[0m \u001b[0;34m*\u001b[0m\u001b[0ma\u001b[0m\u001b[0;34m,\u001b[0m \u001b[0;34m**\u001b[0m\u001b[0mk\u001b[0m\u001b[0;34m:\u001b[0m \u001b[0mf\u001b[0m\u001b[0;34m(\u001b[0m\u001b[0;34m*\u001b[0m\u001b[0ma\u001b[0m\u001b[0;34m,\u001b[0m \u001b[0;34m**\u001b[0m\u001b[0mk\u001b[0m\u001b[0;34m)\u001b[0m\u001b[0;34m\u001b[0m\u001b[0;34m\u001b[0m\u001b[0m\n\u001b[0m\u001b[1;32m    188\u001b[0m \u001b[0;34m\u001b[0m\u001b[0m\n\u001b[1;32m    189\u001b[0m         \u001b[0;32mif\u001b[0m \u001b[0mcallable\u001b[0m\u001b[0;34m(\u001b[0m\u001b[0marg\u001b[0m\u001b[0;34m)\u001b[0m\u001b[0;34m:\u001b[0m\u001b[0;34m\u001b[0m\u001b[0;34m\u001b[0m\u001b[0m\n",
      "\u001b[0;32m~/.virtualenvs/classes/lib/python3.8/site-packages/IPython/core/magics/script.py\u001b[0m in \u001b[0;36mshebang\u001b[0;34m(self, line, cell)\u001b[0m\n\u001b[1;32m    243\u001b[0m             \u001b[0msys\u001b[0m\u001b[0;34m.\u001b[0m\u001b[0mstderr\u001b[0m\u001b[0;34m.\u001b[0m\u001b[0mflush\u001b[0m\u001b[0;34m(\u001b[0m\u001b[0;34m)\u001b[0m\u001b[0;34m\u001b[0m\u001b[0;34m\u001b[0m\u001b[0m\n\u001b[1;32m    244\u001b[0m         \u001b[0;32mif\u001b[0m \u001b[0margs\u001b[0m\u001b[0;34m.\u001b[0m\u001b[0mraise_error\u001b[0m \u001b[0;32mand\u001b[0m \u001b[0mp\u001b[0m\u001b[0;34m.\u001b[0m\u001b[0mreturncode\u001b[0m\u001b[0;34m!=\u001b[0m\u001b[0;36m0\u001b[0m\u001b[0;34m:\u001b[0m\u001b[0;34m\u001b[0m\u001b[0;34m\u001b[0m\u001b[0m\n\u001b[0;32m--> 245\u001b[0;31m             \u001b[0;32mraise\u001b[0m \u001b[0mCalledProcessError\u001b[0m\u001b[0;34m(\u001b[0m\u001b[0mp\u001b[0m\u001b[0;34m.\u001b[0m\u001b[0mreturncode\u001b[0m\u001b[0;34m,\u001b[0m \u001b[0mcell\u001b[0m\u001b[0;34m,\u001b[0m \u001b[0moutput\u001b[0m\u001b[0;34m=\u001b[0m\u001b[0mout\u001b[0m\u001b[0;34m,\u001b[0m \u001b[0mstderr\u001b[0m\u001b[0;34m=\u001b[0m\u001b[0merr\u001b[0m\u001b[0;34m)\u001b[0m\u001b[0;34m\u001b[0m\u001b[0;34m\u001b[0m\u001b[0m\n\u001b[0m\u001b[1;32m    246\u001b[0m \u001b[0;34m\u001b[0m\u001b[0m\n\u001b[1;32m    247\u001b[0m     \u001b[0;32mdef\u001b[0m \u001b[0m_run_script\u001b[0m\u001b[0;34m(\u001b[0m\u001b[0mself\u001b[0m\u001b[0;34m,\u001b[0m \u001b[0mp\u001b[0m\u001b[0;34m,\u001b[0m \u001b[0mcell\u001b[0m\u001b[0;34m,\u001b[0m \u001b[0mto_close\u001b[0m\u001b[0;34m)\u001b[0m\u001b[0;34m:\u001b[0m\u001b[0;34m\u001b[0m\u001b[0;34m\u001b[0m\u001b[0m\n",
      "\u001b[0;31mCalledProcessError\u001b[0m: Command 'b'source data/MyProject/env/bin/activate\\npip uninstall -y MyProject   \\ncd /\\npython -c \\'import mypackage.mymodule; mypackage.mymodule.greet(\"class\")\\'\\n'' returned non-zero exit status 1."
     ]
    }
   ],
   "source": [
    "%%bash\n",
    "source data/MyProject/env/bin/activate\n",
    "pip uninstall -y MyProject   \n",
    "cd /\n",
    "python -c 'import mypackage.mymodule; mypackage.mymodule.greet(\"class\")'"
   ]
  },
  {
   "cell_type": "code",
   "execution_count": 28,
   "metadata": {},
   "outputs": [
    {
     "name": "stdout",
     "output_type": "stream",
     "text": [
      "Looking in links: /home/rick446/src/wheelhouse\n",
      "Obtaining file:///home/rick446/src/arborian-classes/src/data/MyProject\n",
      "Requirement already satisfied: numpy>=1.16 in /home/rick446/src/arborian-classes/data/MyProject/env/lib/python3.8/site-packages/numpy-1.21.3-py3.8-linux-x86_64.egg (from MyProject==0.1) (1.21.3)\n",
      "Installing collected packages: MyProject\n",
      "  Running setup.py develop for MyProject\n",
      "Successfully installed MyProject\n",
      "This is the __init__ file for mypackage\n",
      "This is mymodule\n",
      "Hello, class!\n"
     ]
    }
   ],
   "source": [
    "%%bash\n",
    "source data/MyProject/env/bin/activate\n",
    "# cd data/MyProject; python setup.py develop \n",
    "pip install -e data/MyProject\n",
    "cd /\n",
    "python -c 'import mypackage.mymodule; mypackage.mymodule.greet(\"class\")'"
   ]
  },
  {
   "cell_type": "markdown",
   "metadata": {},
   "source": [
    "## Distributing data with our project\n",
    "\n",
    "Normally, only Python files are included with our project. In order to include non-Python files, we need to specify those as well:"
   ]
  },
  {
   "cell_type": "code",
   "execution_count": 29,
   "metadata": {},
   "outputs": [
    {
     "name": "stdout",
     "output_type": "stream",
     "text": [
      "Writing data/MyProject/mypackage/template.txt\n"
     ]
    }
   ],
   "source": [
    "%%file data/MyProject/mypackage/template.txt\n",
    "This is an awesome template that greets you.\n",
    "\n",
    "Hello, ${name}!"
   ]
  },
  {
   "cell_type": "code",
   "execution_count": 30,
   "metadata": {},
   "outputs": [
    {
     "name": "stdout",
     "output_type": "stream",
     "text": [
      "Overwriting data/MyProject/mypackage/mymodule.py\n"
     ]
    }
   ],
   "source": [
    "%%file data/MyProject/mypackage/mymodule.py\n",
    "import os, string\n",
    "\n",
    "\n",
    "def greet(name):\n",
    "    with open(os.path.join(\n",
    "        os.path.dirname(__file__),\n",
    "        'template.txt'\n",
    "    )) as f:\n",
    "        template = string.Template(f.read())\n",
    "    print(template.safe_substitute({'name': name}))"
   ]
  },
  {
   "cell_type": "code",
   "execution_count": 31,
   "metadata": {},
   "outputs": [
    {
     "name": "stdout",
     "output_type": "stream",
     "text": [
      "Running setup.py\n",
      "running sdist\n",
      "running egg_info\n",
      "writing MyProject.egg-info/PKG-INFO\n",
      "writing dependency_links to MyProject.egg-info/dependency_links.txt\n",
      "writing requirements to MyProject.egg-info/requires.txt\n",
      "writing top-level names to MyProject.egg-info/top_level.txt\n",
      "reading manifest file 'MyProject.egg-info/SOURCES.txt'\n",
      "writing manifest file 'MyProject.egg-info/SOURCES.txt'\n",
      "running check\n",
      "creating MyProject-0.1\n",
      "creating MyProject-0.1/MyProject.egg-info\n",
      "creating MyProject-0.1/mypackage\n",
      "copying files to MyProject-0.1...\n",
      "copying README.md -> MyProject-0.1\n",
      "copying setup.cfg -> MyProject-0.1\n",
      "copying setup.py -> MyProject-0.1\n",
      "copying MyProject.egg-info/PKG-INFO -> MyProject-0.1/MyProject.egg-info\n",
      "copying MyProject.egg-info/SOURCES.txt -> MyProject-0.1/MyProject.egg-info\n",
      "copying MyProject.egg-info/dependency_links.txt -> MyProject-0.1/MyProject.egg-info\n",
      "copying MyProject.egg-info/requires.txt -> MyProject-0.1/MyProject.egg-info\n",
      "copying MyProject.egg-info/top_level.txt -> MyProject-0.1/MyProject.egg-info\n",
      "copying mypackage/__init__.py -> MyProject-0.1/mypackage\n",
      "copying mypackage/mymodule.py -> MyProject-0.1/mypackage\n",
      "Writing MyProject-0.1/setup.cfg\n",
      "Creating tar archive\n",
      "removing 'MyProject-0.1' (and everything under it)\n"
     ]
    }
   ],
   "source": [
    "%%bash\n",
    "cd data/MyProject\n",
    "python setup.py sdist"
   ]
  },
  {
   "cell_type": "code",
   "execution_count": 32,
   "metadata": {},
   "outputs": [
    {
     "name": "stdout",
     "output_type": "stream",
     "text": [
      "Overwriting data/MyProject/setup.cfg\n"
     ]
    }
   ],
   "source": [
    "%%file data/MyProject/setup.cfg\n",
    "[metadata]\n",
    "name = MyProject\n",
    "url = file:///\n",
    "author = Some Person\n",
    "author_email = somebody@example.com\n",
    "version = 0.1\n",
    "description = This should be a short description of our project\n",
    "long_description = file: README.md\n",
    "long_description_content_type = text/markdown\n",
    "\n",
    "\n",
    "[options]\n",
    "packages = mypackage\n",
    "install_requires = \n",
    "    numpy\n",
    "    \n",
    "[options.package_data]\n",
    "* = *.txt"
   ]
  },
  {
   "cell_type": "code",
   "execution_count": 33,
   "metadata": {},
   "outputs": [
    {
     "name": "stdout",
     "output_type": "stream",
     "text": [
      "Running setup.py\n",
      "running sdist\n",
      "running egg_info\n",
      "writing MyProject.egg-info/PKG-INFO\n",
      "writing dependency_links to MyProject.egg-info/dependency_links.txt\n",
      "writing requirements to MyProject.egg-info/requires.txt\n",
      "writing top-level names to MyProject.egg-info/top_level.txt\n",
      "reading manifest file 'MyProject.egg-info/SOURCES.txt'\n",
      "writing manifest file 'MyProject.egg-info/SOURCES.txt'\n",
      "running check\n",
      "creating MyProject-0.1\n",
      "creating MyProject-0.1/MyProject.egg-info\n",
      "creating MyProject-0.1/mypackage\n",
      "copying files to MyProject-0.1...\n",
      "copying README.md -> MyProject-0.1\n",
      "copying setup.cfg -> MyProject-0.1\n",
      "copying setup.py -> MyProject-0.1\n",
      "copying MyProject.egg-info/PKG-INFO -> MyProject-0.1/MyProject.egg-info\n",
      "copying MyProject.egg-info/SOURCES.txt -> MyProject-0.1/MyProject.egg-info\n",
      "copying MyProject.egg-info/dependency_links.txt -> MyProject-0.1/MyProject.egg-info\n",
      "copying MyProject.egg-info/requires.txt -> MyProject-0.1/MyProject.egg-info\n",
      "copying MyProject.egg-info/top_level.txt -> MyProject-0.1/MyProject.egg-info\n",
      "copying mypackage/__init__.py -> MyProject-0.1/mypackage\n",
      "copying mypackage/mymodule.py -> MyProject-0.1/mypackage\n",
      "copying mypackage/template.txt -> MyProject-0.1/mypackage\n",
      "Writing MyProject-0.1/setup.cfg\n",
      "Creating tar archive\n",
      "removing 'MyProject-0.1' (and everything under it)\n"
     ]
    }
   ],
   "source": [
    "%%bash\n",
    "cd data/MyProject\n",
    "python setup.py sdist"
   ]
  },
  {
   "cell_type": "code",
   "execution_count": 34,
   "metadata": {},
   "outputs": [
    {
     "name": "stdout",
     "output_type": "stream",
     "text": [
      "This is the __init__ file for mypackage\n",
      "This is an awesome template that greets you.\n",
      "\n",
      "Hello, class!\n",
      "\n"
     ]
    }
   ],
   "source": [
    "%%bash\n",
    "source data/MyProject/env/bin/activate\n",
    "cd /\n",
    "python -c 'import mypackage.mymodule; mypackage.mymodule.greet(\"class\")'"
   ]
  },
  {
   "cell_type": "markdown",
   "metadata": {},
   "source": [
    "# Use pkg_resources to access data files"
   ]
  },
  {
   "cell_type": "code",
   "execution_count": 35,
   "metadata": {},
   "outputs": [
    {
     "name": "stdout",
     "output_type": "stream",
     "text": [
      "Overwriting data/MyProject/mypackage/mymodule.py\n"
     ]
    }
   ],
   "source": [
    "%%file data/MyProject/mypackage/mymodule.py\n",
    "import string\n",
    "import pkg_resources\n",
    "\n",
    "\n",
    "def greet(name):\n",
    "    filename = pkg_resources.resource_filename('mypackage', 'template.txt')\n",
    "    with open(filename) as f:\n",
    "        template = string.Template(f.read())\n",
    "    print(template.safe_substitute({'name': name}))"
   ]
  },
  {
   "cell_type": "code",
   "execution_count": 36,
   "metadata": {},
   "outputs": [
    {
     "name": "stdout",
     "output_type": "stream",
     "text": [
      "This is the __init__ file for mypackage\n",
      "This is an awesome template that greets you.\n",
      "\n",
      "Hello, class!\n",
      "\n"
     ]
    }
   ],
   "source": [
    "%%bash\n",
    "source data/MyProject/env/bin/activate\n",
    "cd /\n",
    "python -c 'import mypackage.mymodule; mypackage.mymodule.greet(\"class\")'"
   ]
  },
  {
   "cell_type": "markdown",
   "metadata": {},
   "source": [
    "# Using entry_points for console_scripts\n",
    "\n",
    "If you need to create a new command-line tool, a nice approach is to use the `entry_points` feature of `setuptools`:"
   ]
  },
  {
   "cell_type": "code",
   "execution_count": 37,
   "metadata": {},
   "outputs": [
    {
     "name": "stdout",
     "output_type": "stream",
     "text": [
      "Overwriting data/MyProject/setup.cfg\n"
     ]
    }
   ],
   "source": [
    "%%file data/MyProject/setup.cfg\n",
    "[metadata]\n",
    "name = MyProject\n",
    "url = file:///\n",
    "author = Some Person\n",
    "author_email = somebody@example.com\n",
    "version = 0.1\n",
    "description = This should be a short description of our project\n",
    "long_description = file: README.md\n",
    "long_description_content_type = text/markdown\n",
    "\n",
    "\n",
    "[options]\n",
    "packages = mypackage\n",
    "install_requires = \n",
    "    numpy>=1.16.0\n",
    "    \n",
    "[options.package_data]\n",
    "* = *.txt\n",
    "\n",
    "[options.entry_points]\n",
    "console_scripts =\n",
    "  my-greet=mypackage.mymodule:greet_main"
   ]
  },
  {
   "cell_type": "code",
   "execution_count": 38,
   "metadata": {},
   "outputs": [
    {
     "name": "stdout",
     "output_type": "stream",
     "text": [
      "Overwriting data/MyProject/mypackage/mymodule.py\n"
     ]
    }
   ],
   "source": [
    "%%file data/MyProject/mypackage/mymodule.py\n",
    "import sys\n",
    "import string\n",
    "import pkg_resources\n",
    "\n",
    "\n",
    "def greet(name):\n",
    "    filename = pkg_resources.resource_filename('mypackage', 'template.txt')\n",
    "    with open(filename) as f:\n",
    "        template = string.Template(f.read())\n",
    "    print(template.safe_substitute({'name': name}))    \n",
    "    \n",
    "def greet_main():\n",
    "    if len(sys.argv) > 1:\n",
    "        name = sys.argv[1]\n",
    "    else:\n",
    "        name = 'unknown human'\n",
    "    greet(name)"
   ]
  },
  {
   "cell_type": "code",
   "execution_count": 39,
   "metadata": {
    "scrolled": false
   },
   "outputs": [
    {
     "name": "stdout",
     "output_type": "stream",
     "text": [
      "Running setup.py\n",
      "running develop\n",
      "running egg_info\n",
      "writing MyProject.egg-info/PKG-INFO\n",
      "writing dependency_links to MyProject.egg-info/dependency_links.txt\n",
      "writing entry points to MyProject.egg-info/entry_points.txt\n",
      "writing requirements to MyProject.egg-info/requires.txt\n",
      "writing top-level names to MyProject.egg-info/top_level.txt\n",
      "reading manifest file 'MyProject.egg-info/SOURCES.txt'\n",
      "writing manifest file 'MyProject.egg-info/SOURCES.txt'\n",
      "running build_ext\n",
      "Creating /home/rick446/src/arborian-classes/data/MyProject/env/lib/python3.8/site-packages/MyProject.egg-link (link to .)\n",
      "MyProject 0.1 is already the active version in easy-install.pth\n",
      "Installing my-greet script to /home/rick446/src/arborian-classes/data/MyProject/env/bin\n",
      "\n",
      "Installed /home/rick446/src/arborian-classes/data/MyProject\n",
      "Processing dependencies for MyProject==0.1\n",
      "Searching for numpy==1.21.3\n",
      "Best match: numpy 1.21.3\n",
      "Processing numpy-1.21.3-py3.8-linux-x86_64.egg\n",
      "numpy 1.21.3 is already the active version in easy-install.pth\n",
      "Installing f2py script to /home/rick446/src/arborian-classes/data/MyProject/env/bin\n",
      "Installing f2py3 script to /home/rick446/src/arborian-classes/data/MyProject/env/bin\n",
      "Installing f2py3.8 script to /home/rick446/src/arborian-classes/data/MyProject/env/bin\n",
      "\n",
      "Using /home/rick446/src/arborian-classes/data/MyProject/env/lib/python3.8/site-packages/numpy-1.21.3-py3.8-linux-x86_64.egg\n",
      "Finished processing dependencies for MyProject==0.1\n"
     ]
    }
   ],
   "source": [
    "%%bash\n",
    "cd data/MyProject\n",
    "source env/bin/activate\n",
    "python setup.py develop  # or pip install -e ."
   ]
  },
  {
   "cell_type": "code",
   "execution_count": 40,
   "metadata": {},
   "outputs": [
    {
     "name": "stdout",
     "output_type": "stream",
     "text": [
      "This is the __init__ file for mypackage\r\n",
      "This is an awesome template that greets you.\r\n",
      "\r\n",
      "Hello, unknown human!\r\n",
      "\r\n"
     ]
    }
   ],
   "source": [
    "!data/MyProject/env/bin/my-greet"
   ]
  },
  {
   "cell_type": "code",
   "execution_count": 41,
   "metadata": {},
   "outputs": [
    {
     "name": "stdout",
     "output_type": "stream",
     "text": [
      "This is the __init__ file for mypackage\r\n",
      "This is an awesome template that greets you.\r\n",
      "\r\n",
      "Hello, class!\r\n",
      "\r\n"
     ]
    }
   ],
   "source": [
    "!data/MyProject/env/bin/my-greet class"
   ]
  },
  {
   "cell_type": "code",
   "execution_count": 42,
   "metadata": {},
   "outputs": [
    {
     "name": "stdout",
     "output_type": "stream",
     "text": [
      "#!/home/rick446/src/arborian-classes/data/MyProject/env/bin/python\r\n",
      "# EASY-INSTALL-ENTRY-SCRIPT: 'MyProject','console_scripts','my-greet'\r\n",
      "__requires__ = 'MyProject'\r\n",
      "import re\r\n",
      "import sys\r\n",
      "from pkg_resources import load_entry_point\r\n",
      "\r\n",
      "if __name__ == '__main__':\r\n",
      "    sys.argv[0] = re.sub(r'(-script\\.pyw?|\\.exe)?$', '', sys.argv[0])\r\n",
      "    sys.exit(\r\n",
      "        load_entry_point('MyProject', 'console_scripts', 'my-greet')()\r\n",
      "    )\r\n"
     ]
    }
   ],
   "source": [
    "cat data/MyProject/env/bin/my-greet"
   ]
  },
  {
   "cell_type": "markdown",
   "metadata": {},
   "source": [
    "# Registering with PyPI\n",
    "\n",
    "You'll need to create an account at http://pypi.org"
   ]
  },
  {
   "cell_type": "code",
   "execution_count": 43,
   "metadata": {},
   "outputs": [
    {
     "name": "stdout",
     "output_type": "stream",
     "text": [
      "Overwriting data/MyProject/setup.cfg\n"
     ]
    }
   ],
   "source": [
    "%%file data/MyProject/setup.cfg\n",
    "[metadata]\n",
    ";; change name to make it unique\n",
    "name = ProductionalizingProject-1\n",
    "url = https://github.com/DevelopIntelligence\n",
    "author = Some Person\n",
    "author_email = somebody@example.com\n",
    "version = 0.12.0\n",
    "description = This should be a short description of our project\n",
    "long_description = file: README.md\n",
    "long_description_content_type = text/markdown\n",
    "\n",
    "[options]\n",
    "packages = mypackage\n",
    "install_requires = \n",
    "    numpy>=1.16.0\n",
    "python_requires = >=3.6\n",
    "\n",
    "[options.package_data]\n",
    "* = *.txt\n",
    "\n",
    "[options.entry_points]\n",
    "console_scripts =\n",
    "  my-greet=mypackage.mymodule:greet_main"
   ]
  },
  {
   "cell_type": "code",
   "execution_count": 44,
   "metadata": {
    "scrolled": true
   },
   "outputs": [
    {
     "name": "stdout",
     "output_type": "stream",
     "text": [
      "Looking in links: /home/rick446/src/wheelhouse\n",
      "Collecting twine\n",
      "  Using cached twine-3.4.2-py3-none-any.whl (34 kB)\n",
      "Collecting wheel\n",
      "  Using cached wheel-0.37.0-py2.py3-none-any.whl (35 kB)\n",
      "Collecting pkginfo>=1.4.2\n",
      "  Using cached pkginfo-1.7.1-py2.py3-none-any.whl (25 kB)\n",
      "Collecting rfc3986>=1.4.0\n",
      "  Using cached rfc3986-1.5.0-py2.py3-none-any.whl (31 kB)\n",
      "Collecting tqdm>=4.14\n",
      "  Downloading tqdm-4.62.3-py2.py3-none-any.whl (76 kB)\n",
      "Collecting keyring>=15.1\n",
      "  Downloading keyring-23.2.1-py3-none-any.whl (33 kB)\n",
      "Collecting colorama>=0.4.3\n",
      "  Using cached colorama-0.4.4-py2.py3-none-any.whl (16 kB)\n",
      "Collecting importlib-metadata>=3.6\n",
      "  Downloading importlib_metadata-4.8.1-py3-none-any.whl (17 kB)\n",
      "Collecting requests-toolbelt!=0.9.0,>=0.8.0\n",
      "  Using cached requests_toolbelt-0.9.1-py2.py3-none-any.whl (54 kB)\n",
      "Collecting readme-renderer>=21.0\n",
      "  Downloading readme_renderer-30.0-py2.py3-none-any.whl (15 kB)\n",
      "Collecting requests>=2.20\n",
      "  Using cached requests-2.26.0-py2.py3-none-any.whl (62 kB)\n",
      "Collecting SecretStorage>=3.2; sys_platform == \"linux\"\n",
      "  Using cached SecretStorage-3.3.1-py3-none-any.whl (15 kB)\n",
      "Collecting jeepney>=0.4.2; sys_platform == \"linux\"\n",
      "  Using cached jeepney-0.7.1-py3-none-any.whl (54 kB)\n",
      "Collecting zipp>=0.5\n",
      "  Downloading zipp-3.6.0-py3-none-any.whl (5.3 kB)\n",
      "Collecting Pygments>=2.5.1\n",
      "  Using cached Pygments-2.10.0-py3-none-any.whl (1.0 MB)\n",
      "Collecting docutils>=0.13.1\n",
      "  Downloading docutils-0.18-py2.py3-none-any.whl (569 kB)\n",
      "Collecting bleach>=2.1.0\n",
      "  Using cached bleach-4.1.0-py2.py3-none-any.whl (157 kB)\n",
      "Collecting certifi>=2017.4.17\n",
      "  Downloading certifi-2021.10.8-py2.py3-none-any.whl (149 kB)\n",
      "Collecting idna<4,>=2.5; python_version >= \"3\"\n",
      "  Downloading idna-3.3-py3-none-any.whl (61 kB)\n",
      "Collecting charset-normalizer~=2.0.0; python_version >= \"3\"\n",
      "  Downloading charset_normalizer-2.0.7-py3-none-any.whl (38 kB)\n",
      "Collecting urllib3<1.27,>=1.21.1\n",
      "  Using cached urllib3-1.26.7-py2.py3-none-any.whl (138 kB)\n",
      "Collecting cryptography>=2.0\n",
      "  Downloading cryptography-35.0.0-cp36-abi3-manylinux_2_17_x86_64.manylinux2014_x86_64.whl (3.7 MB)\n",
      "Collecting six>=1.9.0\n",
      "  Using cached six-1.16.0-py2.py3-none-any.whl (11 kB)\n",
      "Collecting packaging\n",
      "  Using cached packaging-21.2-py3-none-any.whl (40 kB)\n",
      "Processing /home/rick446/src/wheelhouse/webencodings-0.5.1-py2.py3-none-any.whl\n",
      "Collecting cffi>=1.12\n",
      "  Using cached cffi-1.15.0-cp38-cp38-manylinux_2_12_x86_64.manylinux2010_x86_64.whl (446 kB)\n",
      "Processing /home/rick446/src/wheelhouse/pyparsing-2.4.7-py2.py3-none-any.whl\n",
      "Processing /home/rick446/src/wheelhouse/pycparser-2.20-py2.py3-none-any.whl\n",
      "Installing collected packages: pkginfo, rfc3986, tqdm, pycparser, cffi, cryptography, jeepney, SecretStorage, zipp, importlib-metadata, keyring, colorama, certifi, idna, charset-normalizer, urllib3, requests, requests-toolbelt, Pygments, docutils, six, pyparsing, packaging, webencodings, bleach, readme-renderer, twine, wheel\n",
      "Successfully installed Pygments-2.10.0 SecretStorage-3.3.1 bleach-4.1.0 certifi-2021.10.8 cffi-1.15.0 charset-normalizer-2.0.7 colorama-0.4.4 cryptography-35.0.0 docutils-0.18 idna-3.3 importlib-metadata-4.8.1 jeepney-0.7.1 keyring-23.2.1 packaging-21.2 pkginfo-1.7.1 pycparser-2.20 pyparsing-2.4.7 readme-renderer-30.0 requests-2.26.0 requests-toolbelt-0.9.1 rfc3986-1.5.0 six-1.16.0 tqdm-4.62.3 twine-3.4.2 urllib3-1.26.7 webencodings-0.5.1 wheel-0.37.0 zipp-3.6.0\n",
      "Running setup.py\n",
      "running sdist\n",
      "running egg_info\n",
      "creating ProductionalizingProject_1.egg-info\n",
      "writing ProductionalizingProject_1.egg-info/PKG-INFO\n",
      "writing dependency_links to ProductionalizingProject_1.egg-info/dependency_links.txt\n",
      "writing entry points to ProductionalizingProject_1.egg-info/entry_points.txt\n",
      "writing requirements to ProductionalizingProject_1.egg-info/requires.txt\n",
      "writing top-level names to ProductionalizingProject_1.egg-info/top_level.txt\n",
      "writing manifest file 'ProductionalizingProject_1.egg-info/SOURCES.txt'\n",
      "reading manifest file 'ProductionalizingProject_1.egg-info/SOURCES.txt'\n",
      "writing manifest file 'ProductionalizingProject_1.egg-info/SOURCES.txt'\n",
      "running check\n",
      "creating ProductionalizingProject-1-0.12.0\n",
      "creating ProductionalizingProject-1-0.12.0/ProductionalizingProject_1.egg-info\n",
      "creating ProductionalizingProject-1-0.12.0/mypackage\n",
      "copying files to ProductionalizingProject-1-0.12.0...\n",
      "copying README.md -> ProductionalizingProject-1-0.12.0\n",
      "copying setup.cfg -> ProductionalizingProject-1-0.12.0\n",
      "copying setup.py -> ProductionalizingProject-1-0.12.0\n",
      "copying ProductionalizingProject_1.egg-info/PKG-INFO -> ProductionalizingProject-1-0.12.0/ProductionalizingProject_1.egg-info\n",
      "copying ProductionalizingProject_1.egg-info/SOURCES.txt -> ProductionalizingProject-1-0.12.0/ProductionalizingProject_1.egg-info\n",
      "copying ProductionalizingProject_1.egg-info/dependency_links.txt -> ProductionalizingProject-1-0.12.0/ProductionalizingProject_1.egg-info\n",
      "copying ProductionalizingProject_1.egg-info/entry_points.txt -> ProductionalizingProject-1-0.12.0/ProductionalizingProject_1.egg-info\n",
      "copying ProductionalizingProject_1.egg-info/requires.txt -> ProductionalizingProject-1-0.12.0/ProductionalizingProject_1.egg-info\n",
      "copying ProductionalizingProject_1.egg-info/top_level.txt -> ProductionalizingProject-1-0.12.0/ProductionalizingProject_1.egg-info\n",
      "copying mypackage/__init__.py -> ProductionalizingProject-1-0.12.0/mypackage\n",
      "copying mypackage/mymodule.py -> ProductionalizingProject-1-0.12.0/mypackage\n",
      "copying mypackage/template.txt -> ProductionalizingProject-1-0.12.0/mypackage\n",
      "Writing ProductionalizingProject-1-0.12.0/setup.cfg\n",
      "Creating tar archive\n",
      "removing 'ProductionalizingProject-1-0.12.0' (and everything under it)\n",
      "running bdist_wheel\n",
      "running build\n",
      "running build_py\n",
      "creating build\n",
      "creating build/lib\n",
      "creating build/lib/mypackage\n",
      "copying mypackage/mymodule.py -> build/lib/mypackage\n",
      "copying mypackage/__init__.py -> build/lib/mypackage\n",
      "copying mypackage/template.txt -> build/lib/mypackage\n",
      "installing to build/bdist.linux-x86_64/wheel\n",
      "running install\n",
      "running install_lib\n",
      "creating build/bdist.linux-x86_64\n",
      "creating build/bdist.linux-x86_64/wheel\n",
      "creating build/bdist.linux-x86_64/wheel/mypackage\n",
      "copying build/lib/mypackage/mymodule.py -> build/bdist.linux-x86_64/wheel/mypackage\n",
      "copying build/lib/mypackage/template.txt -> build/bdist.linux-x86_64/wheel/mypackage\n",
      "copying build/lib/mypackage/__init__.py -> build/bdist.linux-x86_64/wheel/mypackage\n",
      "running install_egg_info\n",
      "Copying ProductionalizingProject_1.egg-info to build/bdist.linux-x86_64/wheel/ProductionalizingProject_1-0.12.0.egg-info\n",
      "running install_scripts\n",
      "creating build/bdist.linux-x86_64/wheel/ProductionalizingProject_1-0.12.0.dist-info/WHEEL\n",
      "creating 'dist/ProductionalizingProject_1-0.12.0-py3-none-any.whl' and adding 'build/bdist.linux-x86_64/wheel' to it\n",
      "adding 'mypackage/__init__.py'\n",
      "adding 'mypackage/mymodule.py'\n",
      "adding 'mypackage/template.txt'\n",
      "adding 'ProductionalizingProject_1-0.12.0.dist-info/METADATA'\n",
      "adding 'ProductionalizingProject_1-0.12.0.dist-info/WHEEL'\n",
      "adding 'ProductionalizingProject_1-0.12.0.dist-info/entry_points.txt'\n",
      "adding 'ProductionalizingProject_1-0.12.0.dist-info/top_level.txt'\n",
      "adding 'ProductionalizingProject_1-0.12.0.dist-info/RECORD'\n",
      "removing build/bdist.linux-x86_64/wheel\n",
      "Uploading distributions to https://upload.pypi.org/legacy/\n",
      "Enter your username: "
     ]
    },
    {
     "name": "stderr",
     "output_type": "stream",
     "text": [
      "Traceback (most recent call last):\n",
      "  File \"/home/rick446/src/arborian-classes/data/MyProject/env/bin/twine\", line 8, in <module>\n",
      "    sys.exit(main())\n",
      "  File \"/home/rick446/src/arborian-classes/data/MyProject/env/lib/python3.8/site-packages/twine/__main__.py\", line 28, in main\n",
      "    result = cli.dispatch(sys.argv[1:])\n",
      "  File \"/home/rick446/src/arborian-classes/data/MyProject/env/lib/python3.8/site-packages/twine/cli.py\", line 71, in dispatch\n",
      "    return main(args.args)\n",
      "  File \"/home/rick446/src/arborian-classes/data/MyProject/env/lib/python3.8/site-packages/twine/commands/upload.py\", line 154, in main\n",
      "    return upload(upload_settings, parsed_args.dists)\n",
      "  File \"/home/rick446/src/arborian-classes/data/MyProject/env/lib/python3.8/site-packages/twine/commands/upload.py\", line 91, in upload\n",
      "    repository = upload_settings.create_repository()\n",
      "  File \"/home/rick446/src/arborian-classes/data/MyProject/env/lib/python3.8/site-packages/twine/settings.py\", line 345, in create_repository\n",
      "    self.username,\n",
      "  File \"/home/rick446/src/arborian-classes/data/MyProject/env/lib/python3.8/site-packages/twine/settings.py\", line 146, in username\n",
      "    return cast(Optional[str], self.auth.username)\n",
      "  File \"/home/rick446/src/arborian-classes/data/MyProject/env/lib/python3.8/site-packages/twine/auth.py\", line 35, in username\n",
      "    return utils.get_userpass_value(\n",
      "  File \"/home/rick446/src/arborian-classes/data/MyProject/env/lib/python3.8/site-packages/twine/utils.py\", line 240, in get_userpass_value\n",
      "    return prompt_strategy()\n",
      "  File \"/home/rick446/src/arborian-classes/data/MyProject/env/lib/python3.8/site-packages/twine/auth.py\", line 84, in username_from_keyring_or_prompt\n",
      "    return self.prompt(\"username\", input)\n",
      "  File \"/home/rick446/src/arborian-classes/data/MyProject/env/lib/python3.8/site-packages/twine/auth.py\", line 95, in prompt\n",
      "    return how(f\"Enter your {what}: \")\n",
      "EOFError: EOF when reading a line\n"
     ]
    },
    {
     "ename": "CalledProcessError",
     "evalue": "Command 'b'cd data/MyProject\\nrm dist/*   # clean up old distributions\\nsource env/bin/activate\\npip install twine wheel\\npython setup.py sdist bdist_wheel\\ntwine upload dist/*\\n'' returned non-zero exit status 1.",
     "output_type": "error",
     "traceback": [
      "\u001b[0;31m---------------------------------------------------------------------------\u001b[0m",
      "\u001b[0;31mCalledProcessError\u001b[0m                        Traceback (most recent call last)",
      "\u001b[0;32m<ipython-input-44-415340db7bd3>\u001b[0m in \u001b[0;36m<module>\u001b[0;34m\u001b[0m\n\u001b[0;32m----> 1\u001b[0;31m \u001b[0mget_ipython\u001b[0m\u001b[0;34m(\u001b[0m\u001b[0;34m)\u001b[0m\u001b[0;34m.\u001b[0m\u001b[0mrun_cell_magic\u001b[0m\u001b[0;34m(\u001b[0m\u001b[0;34m'bash'\u001b[0m\u001b[0;34m,\u001b[0m \u001b[0;34m''\u001b[0m\u001b[0;34m,\u001b[0m \u001b[0;34m'cd data/MyProject\\nrm dist/*   # clean up old distributions\\nsource env/bin/activate\\npip install twine wheel\\npython setup.py sdist bdist_wheel\\ntwine upload dist/*\\n'\u001b[0m\u001b[0;34m)\u001b[0m\u001b[0;34m\u001b[0m\u001b[0;34m\u001b[0m\u001b[0m\n\u001b[0m",
      "\u001b[0;32m~/.virtualenvs/classes/lib/python3.8/site-packages/IPython/core/interactiveshell.py\u001b[0m in \u001b[0;36mrun_cell_magic\u001b[0;34m(self, magic_name, line, cell)\u001b[0m\n\u001b[1;32m   2379\u001b[0m             \u001b[0;32mwith\u001b[0m \u001b[0mself\u001b[0m\u001b[0;34m.\u001b[0m\u001b[0mbuiltin_trap\u001b[0m\u001b[0;34m:\u001b[0m\u001b[0;34m\u001b[0m\u001b[0;34m\u001b[0m\u001b[0m\n\u001b[1;32m   2380\u001b[0m                 \u001b[0margs\u001b[0m \u001b[0;34m=\u001b[0m \u001b[0;34m(\u001b[0m\u001b[0mmagic_arg_s\u001b[0m\u001b[0;34m,\u001b[0m \u001b[0mcell\u001b[0m\u001b[0;34m)\u001b[0m\u001b[0;34m\u001b[0m\u001b[0;34m\u001b[0m\u001b[0m\n\u001b[0;32m-> 2381\u001b[0;31m                 \u001b[0mresult\u001b[0m \u001b[0;34m=\u001b[0m \u001b[0mfn\u001b[0m\u001b[0;34m(\u001b[0m\u001b[0;34m*\u001b[0m\u001b[0margs\u001b[0m\u001b[0;34m,\u001b[0m \u001b[0;34m**\u001b[0m\u001b[0mkwargs\u001b[0m\u001b[0;34m)\u001b[0m\u001b[0;34m\u001b[0m\u001b[0;34m\u001b[0m\u001b[0m\n\u001b[0m\u001b[1;32m   2382\u001b[0m             \u001b[0;32mreturn\u001b[0m \u001b[0mresult\u001b[0m\u001b[0;34m\u001b[0m\u001b[0;34m\u001b[0m\u001b[0m\n\u001b[1;32m   2383\u001b[0m \u001b[0;34m\u001b[0m\u001b[0m\n",
      "\u001b[0;32m~/.virtualenvs/classes/lib/python3.8/site-packages/IPython/core/magics/script.py\u001b[0m in \u001b[0;36mnamed_script_magic\u001b[0;34m(line, cell)\u001b[0m\n\u001b[1;32m    140\u001b[0m             \u001b[0;32melse\u001b[0m\u001b[0;34m:\u001b[0m\u001b[0;34m\u001b[0m\u001b[0;34m\u001b[0m\u001b[0m\n\u001b[1;32m    141\u001b[0m                 \u001b[0mline\u001b[0m \u001b[0;34m=\u001b[0m \u001b[0mscript\u001b[0m\u001b[0;34m\u001b[0m\u001b[0;34m\u001b[0m\u001b[0m\n\u001b[0;32m--> 142\u001b[0;31m             \u001b[0;32mreturn\u001b[0m \u001b[0mself\u001b[0m\u001b[0;34m.\u001b[0m\u001b[0mshebang\u001b[0m\u001b[0;34m(\u001b[0m\u001b[0mline\u001b[0m\u001b[0;34m,\u001b[0m \u001b[0mcell\u001b[0m\u001b[0;34m)\u001b[0m\u001b[0;34m\u001b[0m\u001b[0;34m\u001b[0m\u001b[0m\n\u001b[0m\u001b[1;32m    143\u001b[0m \u001b[0;34m\u001b[0m\u001b[0m\n\u001b[1;32m    144\u001b[0m         \u001b[0;31m# write a basic docstring:\u001b[0m\u001b[0;34m\u001b[0m\u001b[0;34m\u001b[0m\u001b[0;34m\u001b[0m\u001b[0m\n",
      "\u001b[0;32m<decorator-gen-103>\u001b[0m in \u001b[0;36mshebang\u001b[0;34m(self, line, cell)\u001b[0m\n",
      "\u001b[0;32m~/.virtualenvs/classes/lib/python3.8/site-packages/IPython/core/magic.py\u001b[0m in \u001b[0;36m<lambda>\u001b[0;34m(f, *a, **k)\u001b[0m\n\u001b[1;32m    185\u001b[0m     \u001b[0;31m# but it's overkill for just that one bit of state.\u001b[0m\u001b[0;34m\u001b[0m\u001b[0;34m\u001b[0m\u001b[0;34m\u001b[0m\u001b[0m\n\u001b[1;32m    186\u001b[0m     \u001b[0;32mdef\u001b[0m \u001b[0mmagic_deco\u001b[0m\u001b[0;34m(\u001b[0m\u001b[0marg\u001b[0m\u001b[0;34m)\u001b[0m\u001b[0;34m:\u001b[0m\u001b[0;34m\u001b[0m\u001b[0;34m\u001b[0m\u001b[0m\n\u001b[0;32m--> 187\u001b[0;31m         \u001b[0mcall\u001b[0m \u001b[0;34m=\u001b[0m \u001b[0;32mlambda\u001b[0m \u001b[0mf\u001b[0m\u001b[0;34m,\u001b[0m \u001b[0;34m*\u001b[0m\u001b[0ma\u001b[0m\u001b[0;34m,\u001b[0m \u001b[0;34m**\u001b[0m\u001b[0mk\u001b[0m\u001b[0;34m:\u001b[0m \u001b[0mf\u001b[0m\u001b[0;34m(\u001b[0m\u001b[0;34m*\u001b[0m\u001b[0ma\u001b[0m\u001b[0;34m,\u001b[0m \u001b[0;34m**\u001b[0m\u001b[0mk\u001b[0m\u001b[0;34m)\u001b[0m\u001b[0;34m\u001b[0m\u001b[0;34m\u001b[0m\u001b[0m\n\u001b[0m\u001b[1;32m    188\u001b[0m \u001b[0;34m\u001b[0m\u001b[0m\n\u001b[1;32m    189\u001b[0m         \u001b[0;32mif\u001b[0m \u001b[0mcallable\u001b[0m\u001b[0;34m(\u001b[0m\u001b[0marg\u001b[0m\u001b[0;34m)\u001b[0m\u001b[0;34m:\u001b[0m\u001b[0;34m\u001b[0m\u001b[0;34m\u001b[0m\u001b[0m\n",
      "\u001b[0;32m~/.virtualenvs/classes/lib/python3.8/site-packages/IPython/core/magics/script.py\u001b[0m in \u001b[0;36mshebang\u001b[0;34m(self, line, cell)\u001b[0m\n\u001b[1;32m    243\u001b[0m             \u001b[0msys\u001b[0m\u001b[0;34m.\u001b[0m\u001b[0mstderr\u001b[0m\u001b[0;34m.\u001b[0m\u001b[0mflush\u001b[0m\u001b[0;34m(\u001b[0m\u001b[0;34m)\u001b[0m\u001b[0;34m\u001b[0m\u001b[0;34m\u001b[0m\u001b[0m\n\u001b[1;32m    244\u001b[0m         \u001b[0;32mif\u001b[0m \u001b[0margs\u001b[0m\u001b[0;34m.\u001b[0m\u001b[0mraise_error\u001b[0m \u001b[0;32mand\u001b[0m \u001b[0mp\u001b[0m\u001b[0;34m.\u001b[0m\u001b[0mreturncode\u001b[0m\u001b[0;34m!=\u001b[0m\u001b[0;36m0\u001b[0m\u001b[0;34m:\u001b[0m\u001b[0;34m\u001b[0m\u001b[0;34m\u001b[0m\u001b[0m\n\u001b[0;32m--> 245\u001b[0;31m             \u001b[0;32mraise\u001b[0m \u001b[0mCalledProcessError\u001b[0m\u001b[0;34m(\u001b[0m\u001b[0mp\u001b[0m\u001b[0;34m.\u001b[0m\u001b[0mreturncode\u001b[0m\u001b[0;34m,\u001b[0m \u001b[0mcell\u001b[0m\u001b[0;34m,\u001b[0m \u001b[0moutput\u001b[0m\u001b[0;34m=\u001b[0m\u001b[0mout\u001b[0m\u001b[0;34m,\u001b[0m \u001b[0mstderr\u001b[0m\u001b[0;34m=\u001b[0m\u001b[0merr\u001b[0m\u001b[0;34m)\u001b[0m\u001b[0;34m\u001b[0m\u001b[0;34m\u001b[0m\u001b[0m\n\u001b[0m\u001b[1;32m    246\u001b[0m \u001b[0;34m\u001b[0m\u001b[0m\n\u001b[1;32m    247\u001b[0m     \u001b[0;32mdef\u001b[0m \u001b[0m_run_script\u001b[0m\u001b[0;34m(\u001b[0m\u001b[0mself\u001b[0m\u001b[0;34m,\u001b[0m \u001b[0mp\u001b[0m\u001b[0;34m,\u001b[0m \u001b[0mcell\u001b[0m\u001b[0;34m,\u001b[0m \u001b[0mto_close\u001b[0m\u001b[0;34m)\u001b[0m\u001b[0;34m:\u001b[0m\u001b[0;34m\u001b[0m\u001b[0;34m\u001b[0m\u001b[0m\n",
      "\u001b[0;31mCalledProcessError\u001b[0m: Command 'b'cd data/MyProject\\nrm dist/*   # clean up old distributions\\nsource env/bin/activate\\npip install twine wheel\\npython setup.py sdist bdist_wheel\\ntwine upload dist/*\\n'' returned non-zero exit status 1."
     ]
    }
   ],
   "source": [
    "%%bash\n",
    "cd data/MyProject\n",
    "rm dist/*   # clean up old distributions\n",
    "source env/bin/activate\n",
    "pip install twine wheel\n",
    "python setup.py sdist bdist_wheel\n",
    "twine upload dist/*"
   ]
  },
  {
   "cell_type": "code",
   "execution_count": 45,
   "metadata": {},
   "outputs": [
    {
     "name": "stdout",
     "output_type": "stream",
     "text": [
      "usage: twine upload [-h] [-r REPOSITORY] [--repository-url REPOSITORY_URL]\r\n",
      "                    [-s] [--sign-with SIGN_WITH] [-i IDENTITY] [-u USERNAME]\r\n",
      "                    [-p PASSWORD] [--non-interactive] [-c COMMENT]\r\n",
      "                    [--config-file CONFIG_FILE] [--skip-existing]\r\n",
      "                    [--cert path] [--client-cert path] [--verbose]\r\n",
      "                    [--disable-progress-bar]\r\n",
      "                    dist [dist ...]\r\n",
      "\r\n",
      "positional arguments:\r\n",
      "  dist                  The distribution files to upload to the repository\r\n",
      "                        (package index). Usually dist/* . May additionally\r\n",
      "                        contain a .asc file to include an existing signature\r\n",
      "                        with the file upload.\r\n",
      "\r\n",
      "optional arguments:\r\n",
      "  -h, --help            show this help message and exit\r\n",
      "  -r REPOSITORY, --repository REPOSITORY\r\n",
      "                        The repository (package index) to upload the package\r\n",
      "                        to. Should be a section in the config file (default:\r\n",
      "                        pypi). (Can also be set via TWINE_REPOSITORY\r\n",
      "                        environment variable.)\r\n",
      "  --repository-url REPOSITORY_URL\r\n",
      "                        The repository (package index) URL to upload the\r\n",
      "                        package to. This overrides --repository. (Can also be\r\n",
      "                        set via TWINE_REPOSITORY_URL environment variable.)\r\n",
      "  -s, --sign            Sign files to upload using GPG.\r\n",
      "  --sign-with SIGN_WITH\r\n",
      "                        GPG program used to sign uploads (default: gpg).\r\n",
      "  -i IDENTITY, --identity IDENTITY\r\n",
      "                        GPG identity used to sign files.\r\n",
      "  -u USERNAME, --username USERNAME\r\n",
      "                        The username to authenticate to the repository\r\n",
      "                        (package index) as. (Can also be set via\r\n",
      "                        TWINE_USERNAME environment variable.)\r\n",
      "  -p PASSWORD, --password PASSWORD\r\n",
      "                        The password to authenticate to the repository\r\n",
      "                        (package index) with. (Can also be set via\r\n",
      "                        TWINE_PASSWORD environment variable.)\r\n",
      "  --non-interactive     Do not interactively prompt for username/password if\r\n",
      "                        the required credentials are missing. (Can also be set\r\n",
      "                        via TWINE_NON_INTERACTIVE environment variable.)\r\n",
      "  -c COMMENT, --comment COMMENT\r\n",
      "                        The comment to include with the distribution file.\r\n",
      "  --config-file CONFIG_FILE\r\n",
      "                        The .pypirc config file to use.\r\n",
      "  --skip-existing       Continue uploading files if one already exists. (Only\r\n",
      "                        valid when uploading to PyPI. Other implementations\r\n",
      "                        may not support this.)\r\n",
      "  --cert path           Path to alternate CA bundle (can also be set via\r\n",
      "                        TWINE_CERT environment variable).\r\n",
      "  --client-cert path    Path to SSL client certificate, a single file\r\n",
      "                        containing the private key and the certificate in PEM\r\n",
      "                        format.\r\n",
      "  --verbose             Show verbose output.\r\n",
      "  --disable-progress-bar\r\n",
      "                        Disable the progress bar.\r\n"
     ]
    }
   ],
   "source": [
    "!data/MyProject/env/bin/twine upload --help\n"
   ]
  },
  {
   "cell_type": "code",
   "execution_count": 46,
   "metadata": {},
   "outputs": [
    {
     "name": "stdout",
     "output_type": "stream",
     "text": [
      "Checking data/MyProject/dist/ProductionalizingProject_1-0.12.0-py3-none-any.whl: PASSED\r\n",
      "Checking data/MyProject/dist/ProductionalizingProject-1-0.12.0.tar.gz: PASSED\r\n"
     ]
    }
   ],
   "source": [
    "!data/MyProject/env/bin/twine  check data/MyProject/dist/*"
   ]
  },
  {
   "cell_type": "code",
   "execution_count": 47,
   "metadata": {},
   "outputs": [],
   "source": [
    "!/usr/bin/python -m venv --clear env-tmp"
   ]
  },
  {
   "cell_type": "code",
   "execution_count": 48,
   "metadata": {},
   "outputs": [
    {
     "name": "stdout",
     "output_type": "stream",
     "text": [
      "Looking in links: /home/rick446/src/wheelhouse\n",
      "Collecting ProductionalizingProject-1\n",
      "  Downloading ProductionalizingProject_1-0.12.0-py3-none-any.whl (2.5 kB)\n",
      "Collecting numpy>=1.16.0\n",
      "  Using cached numpy-1.21.3-cp38-cp38-manylinux_2_12_x86_64.manylinux2010_x86_64.whl (15.7 MB)\n",
      "Installing collected packages: numpy, ProductionalizingProject-1\n",
      "Successfully installed ProductionalizingProject-1-0.12.0 numpy-1.21.3\n"
     ]
    }
   ],
   "source": [
    "%%bash\n",
    "source env-tmp/bin/activate\n",
    "pip install -U ProductionalizingProject-1"
   ]
  },
  {
   "cell_type": "code",
   "execution_count": 49,
   "metadata": {
    "scrolled": true
   },
   "outputs": [
    {
     "name": "stdout",
     "output_type": "stream",
     "text": [
      "-f /home/rick446/src/wheelhouse\n",
      "numpy==1.21.3\n",
      "ProductionalizingProject-1==0.12.0\n"
     ]
    }
   ],
   "source": [
    "%%bash\n",
    "source env-tmp/bin/activate\n",
    "pip freeze"
   ]
  },
  {
   "cell_type": "code",
   "execution_count": 50,
   "metadata": {},
   "outputs": [
    {
     "name": "stdout",
     "output_type": "stream",
     "text": [
      "This is the __init__ file for mypackage\n",
      "This is an awesome template that greets you.\n",
      "\n",
      "Hello, Another Environment!\n",
      "\n"
     ]
    }
   ],
   "source": [
    "%%bash\n",
    "source env-tmp/bin/activate\n",
    "my-greet \"Another Environment\""
   ]
  },
  {
   "cell_type": "markdown",
   "metadata": {},
   "source": [
    "Clean things up"
   ]
  },
  {
   "cell_type": "code",
   "execution_count": 51,
   "metadata": {},
   "outputs": [],
   "source": [
    "!rm -r env-tmp data/MyProject"
   ]
  },
  {
   "cell_type": "markdown",
   "metadata": {},
   "source": [
    "# Lab\n",
    "\n",
    "Open [packaging lab][packaging-lab]\n",
    "\n",
    "[packaging-lab]: ./packaging-lab.ipynb"
   ]
  }
 ],
 "metadata": {
  "kernelspec": {
   "display_name": "Python 3",
   "language": "python",
   "name": "python3"
  },
  "language_info": {
   "codemirror_mode": {
    "name": "ipython",
    "version": 3
   },
   "file_extension": ".py",
   "mimetype": "text/x-python",
   "name": "python",
   "nbconvert_exporter": "python",
   "pygments_lexer": "ipython3",
   "version": "3.8.5"
  }
 },
 "nbformat": 4,
 "nbformat_minor": 2
}
