{
 "cells": [
  {
   "cell_type": "markdown",
   "metadata": {},
   "source": [
    "# Lab: Flask-sqlalchemy"
   ]
  },
  {
   "cell_type": "markdown",
   "metadata": {},
   "source": [
    "Ensure you have the right packages installed"
   ]
  },
  {
   "cell_type": "code",
   "execution_count": 1,
   "metadata": {},
   "outputs": [
    {
     "name": "stdout",
     "output_type": "stream",
     "text": [
      "Looking in links: /home/rick446/src/wheelhouse\n",
      "Requirement already satisfied: flask-sqlalchemy in /home/rick446/.virtualenvs/classes/lib/python3.8/site-packages (2.4.4)\n",
      "Requirement already satisfied: Flask>=0.10 in /home/rick446/.virtualenvs/classes/lib/python3.8/site-packages (from flask-sqlalchemy) (2.0.1)\n",
      "Requirement already satisfied: SQLAlchemy>=0.8.0 in /home/rick446/.virtualenvs/classes/lib/python3.8/site-packages (from flask-sqlalchemy) (1.3.19)\n",
      "Requirement already satisfied: Jinja2>=3.0 in /home/rick446/.virtualenvs/classes/lib/python3.8/site-packages (from Flask>=0.10->flask-sqlalchemy) (3.0.1)\n",
      "Requirement already satisfied: click>=7.1.2 in /home/rick446/.virtualenvs/classes/lib/python3.8/site-packages (from Flask>=0.10->flask-sqlalchemy) (7.1.2)\n",
      "Requirement already satisfied: Werkzeug>=2.0 in /home/rick446/.virtualenvs/classes/lib/python3.8/site-packages (from Flask>=0.10->flask-sqlalchemy) (2.0.1)\n",
      "Requirement already satisfied: itsdangerous>=2.0 in /home/rick446/.virtualenvs/classes/lib/python3.8/site-packages (from Flask>=0.10->flask-sqlalchemy) (2.0.1)\n",
      "Requirement already satisfied: MarkupSafe>=2.0 in /home/rick446/.virtualenvs/classes/lib/python3.8/site-packages (from Jinja2>=3.0->Flask>=0.10->flask-sqlalchemy) (2.0.1)\n",
      "\u001b[33mWARNING: You are using pip version 20.2.3; however, version 21.3.1 is available.\n",
      "You should consider upgrading via the '/home/rick446/.virtualenvs/classes/bin/python -m pip install --upgrade pip' command.\u001b[0m\n"
     ]
    }
   ],
   "source": [
    "!pip install flask-sqlalchemy"
   ]
  },
  {
   "cell_type": "markdown",
   "metadata": {},
   "source": [
    "Add support for comments in the blog app"
   ]
  },
  {
   "cell_type": "code",
   "execution_count": 2,
   "metadata": {},
   "outputs": [
    {
     "name": "stdout",
     "output_type": "stream",
     "text": [
      "Overwriting data/flask-examples/sa-app-withcomments.py\n"
     ]
    }
   ],
   "source": [
    "%%file data/flask-examples/sa-app-withcomments.py\n",
    "from datetime import datetime\n",
    "\n",
    "from flask import Flask, url_for, jsonify, request, abort\n",
    "\n",
    "from .sa_model import db, Post, Comment\n",
    "\n",
    "app = Flask(__name__)\n",
    "app.config['SQLALCHEMY_DATABASE_URI'] = 'sqlite:///blog.db'\n",
    "#app.config['SQLALCHEMY_TRACK_MODIFICATIONS'] = False\n",
    "db.init_app(app)\n",
    "\n",
    "\n",
    "@app.route('/')\n",
    "def get_root():\n",
    "    return jsonify(_links={'posts': url_for('get_posts', _external=True)})\n",
    "\n",
    "\n",
    "@app.route('/post')\n",
    "def get_posts():\n",
    "    post_links = [\n",
    "        url_for('get_post', post_id=post.id, _external=True) \n",
    "        for post in Post.query]\n",
    "    return jsonify(\n",
    "        _links={'self': url_for('get_posts', _external=True)},\n",
    "        posts=[dict(_links=dict(self=link)) for link in post_links])\n",
    "\n",
    "@app.route('/post', methods=['POST'])\n",
    "def create_post():\n",
    "    post = Post(\n",
    "        authorName=request.authorization.username,\n",
    "        postedDate=datetime.utcnow(),\n",
    "        title=request.json['title'],\n",
    "        content=request.json['content'],\n",
    "    )\n",
    "    db.session.add(post)\n",
    "    db.session.commit()\n",
    "    result = jsonify_post(post)\n",
    "    result.headers['Location'] = url_for('get_post', post_id=post.id, _external=True)\n",
    "    return result\n",
    "\n",
    "@app.route('/post/<int:post_id>')\n",
    "def get_post(post_id):\n",
    "    post = get_post_or_404(post_id)\n",
    "    return jsonify_post(post)\n",
    "\n",
    "@app.route('/post/<int:post_id>', methods=['PUT'])\n",
    "def update_post(post_id):\n",
    "    post = get_post_or_404(post_id)\n",
    "    post.authorName = request.authorization.username\n",
    "    post.postedDate = datetime.utcnow()\n",
    "    post.title = request.json['title']\n",
    "    post.content = request.json['content']\n",
    "    db.session.commit()\n",
    "    return jsonify_post(post)\n",
    "\n",
    "@app.route('/post/<int:post_id>', methods=['DELETE'])\n",
    "def delete_post(post_id):\n",
    "    post = get_post_or_404(post_id)\n",
    "    db.session.delete(post)\n",
    "    db.session.commit()\n",
    "    return '', 204\n",
    "\n",
    "@app.route('/post/<int:post_id>/comment')\n",
    "def get_comments(post_id):\n",
    "    post = get_post_or_404(post_id)\n",
    "    comment_links = [\n",
    "        url_for('get_comment', post_id=post_id, comment_id=c.id, _external=True) \n",
    "        for c in post.comments\n",
    "    ]\n",
    "    return jsonify(\n",
    "        _links={'self': url_for('get_comments', post_id=post_id, _external=True)},\n",
    "        comments=[dict(_links=dict(self=link)) for link in comment_links])\n",
    "\n",
    "@app.route('/post/<int:post_id>/comment', methods=['POST'])\n",
    "def create_comment(post_id):\n",
    "    post = get_post_or_404(post_id)\n",
    "    comment = Comment(\n",
    "        authorName=request.authorization.username,\n",
    "        postedDate=datetime.utcnow(),\n",
    "        #post_id=post_id,\n",
    "        content=request.json['content'],\n",
    "    )\n",
    "    post.comments.append(comment)\n",
    "    #db.session.add(comment)\n",
    "    db.session.commit()\n",
    "    result = jsonify_comment(comment)\n",
    "    result.headers['Location'] = url_for('get_comment', post_id=post_id, comment_id=comment.id, _external=True)\n",
    "    return result, 201\n",
    "\n",
    "@app.route('/post/<int:post_id>/comment/<int:comment_id>')\n",
    "def get_comment(post_id, comment_id):\n",
    "    comment = get_comment_or_404(post_id, comment_id)\n",
    "    return jsonify_comment(comment)\n",
    "    \n",
    "@app.route('/post/<int:post_id>/comment/<int:comment_id>', methods=['PUT'])\n",
    "def update_comment(post_id, comment_id):\n",
    "    comment = get_comment_or_404(post_id, comment_id)\n",
    "    comment.postedDate = datetime.utcnow()\n",
    "    comment.authorName = request.authorization.username\n",
    "    comment.content = request.json['content']\n",
    "    db.session.commit()\n",
    "    return jsonify_comment(comment)\n",
    "\n",
    "@app.route('/post/<int:post_id>/comment/<int:comment_id>', methods=['DELETE'])\n",
    "def delete_comment(post_id, comment_id):\n",
    "    comment = get_comment_or_404(post_id, comment_id)\n",
    "    db.session.delete(comment)\n",
    "    db.session.commit()\n",
    "    return '', 204\n",
    "\n",
    "def get_post_or_404(post_id):\n",
    "    post = Post.query.get(post_id)\n",
    "    if not post:\n",
    "        abort(404)\n",
    "    return post\n",
    "    \n",
    "def get_comment_or_404(post_id, comment_id):\n",
    "    comment = Comment.query.filter_by(id=comment_id).first()\n",
    "    if not comment:\n",
    "        abort(404)\n",
    "    if comment.post_id != post_id:\n",
    "        abort(404)\n",
    "    return comment\n",
    "\n",
    "def jsonify_comment(comment):\n",
    "    return jsonify(\n",
    "        _links={\n",
    "            'self': url_for('get_comment', post_id=comment.post_id, comment_id=comment.id, _external=True),\n",
    "            'post': url_for('get_post', post_id=comment.post_id, _external=True),\n",
    "        },\n",
    "        postedDate=comment.postedDate.isoformat(),\n",
    "        authorName=comment.authorName,\n",
    "        content=comment.content,\n",
    "    )\n",
    "\n",
    "def jsonify_post(post):\n",
    "    return jsonify(\n",
    "        _links={\n",
    "            'self': url_for('get_post', post_id=post.id, _external=True),\n",
    "            'comments': url_for('get_comments', post_id=post.id, _external=True)\n",
    "        },\n",
    "        postedDate=post.postedDate.isoformat(),\n",
    "        authorName=post.authorName,\n",
    "        title=post.title,\n",
    "        content=post.content,\n",
    "    )"
   ]
  },
  {
   "cell_type": "code",
   "execution_count": 3,
   "metadata": {},
   "outputs": [],
   "source": [
    "import requests\n",
    "sess = requests.Session()\n",
    "sess.headers['Content-Type'] = 'application/json'\n",
    "sess.auth = ('rick', 'password')"
   ]
  },
  {
   "cell_type": "code",
   "execution_count": 4,
   "metadata": {},
   "outputs": [],
   "source": [
    "import sys\n",
    "sys.path.append('data/flask-examples')"
   ]
  },
  {
   "cell_type": "code",
   "execution_count": 5,
   "metadata": {},
   "outputs": [
    {
     "data": {
      "text/plain": [
       "{'_links': {'comments': 'http://localhost:5012/post/1/comment',\n",
       "  'self': 'http://localhost:5012/post/1'},\n",
       " 'authorName': 'rick',\n",
       " 'content': 'Some content',\n",
       " 'postedDate': '2021-11-03T16:27:39.842853',\n",
       " 'title': 'Post with comments'}"
      ]
     },
     "execution_count": 5,
     "metadata": {},
     "output_type": "execute_result"
    }
   ],
   "source": [
    "resp = sess.post('http://localhost:5012/post', json={\n",
    "    'title': 'Post with comments',\n",
    "    'content': 'Some content',\n",
    "})\n",
    "resp.raise_for_status()\n",
    "resp.json()"
   ]
  },
  {
   "cell_type": "code",
   "execution_count": 6,
   "metadata": {},
   "outputs": [
    {
     "name": "stdout",
     "output_type": "stream",
     "text": [
      "Posting comments\n",
      "{'_links': {'post': 'http://localhost:5012/post/1', 'self': 'http://localhost:5012/post/1/comment/1'}, 'authorName': 'rick', 'content': 'Comment #0', 'postedDate': '2021-11-03T16:27:40.999332'}\n",
      "{'_links': {'post': 'http://localhost:5012/post/1', 'self': 'http://localhost:5012/post/1/comment/2'}, 'authorName': 'rick', 'content': 'Comment #1', 'postedDate': '2021-11-03T16:27:41.019456'}\n",
      "{'_links': {'post': 'http://localhost:5012/post/1', 'self': 'http://localhost:5012/post/1/comment/3'}, 'authorName': 'rick', 'content': 'Comment #2', 'postedDate': '2021-11-03T16:27:41.032789'}\n",
      "{'_links': {'post': 'http://localhost:5012/post/1', 'self': 'http://localhost:5012/post/1/comment/4'}, 'authorName': 'rick', 'content': 'Comment #3', 'postedDate': '2021-11-03T16:27:41.050704'}\n"
     ]
    }
   ],
   "source": [
    "comments_url = resp.json()['_links']['comments']\n",
    "print('Posting comments')\n",
    "for i in range(4):\n",
    "    r = sess.post(comments_url, json={'content': f'Comment #{i}'})\n",
    "    r.raise_for_status()\n",
    "    print(r.json())"
   ]
  },
  {
   "cell_type": "code",
   "execution_count": 7,
   "metadata": {},
   "outputs": [
    {
     "data": {
      "text/plain": [
       "{'_links': {'self': 'http://localhost:5012/post/1/comment'},\n",
       " 'comments': [{'_links': {'self': 'http://localhost:5012/post/1/comment/1'}},\n",
       "  {'_links': {'self': 'http://localhost:5012/post/1/comment/2'}},\n",
       "  {'_links': {'self': 'http://localhost:5012/post/1/comment/3'}},\n",
       "  {'_links': {'self': 'http://localhost:5012/post/1/comment/4'}}]}"
      ]
     },
     "execution_count": 7,
     "metadata": {},
     "output_type": "execute_result"
    }
   ],
   "source": [
    "resp = sess.get(comments_url)\n",
    "resp.raise_for_status()\n",
    "resp.json()"
   ]
  },
  {
   "cell_type": "code",
   "execution_count": 8,
   "metadata": {},
   "outputs": [
    {
     "name": "stdout",
     "output_type": "stream",
     "text": [
      "{'_links': {'post': 'http://localhost:5012/post/1', 'self': 'http://localhost:5012/post/1/comment/1'}, 'authorName': 'rick', 'content': 'Comment #0', 'postedDate': '2021-11-03T16:27:40.999332'}\n",
      "{'_links': {'post': 'http://localhost:5012/post/1', 'self': 'http://localhost:5012/post/1/comment/2'}, 'authorName': 'rick', 'content': 'Comment #1', 'postedDate': '2021-11-03T16:27:41.019456'}\n",
      "{'_links': {'post': 'http://localhost:5012/post/1', 'self': 'http://localhost:5012/post/1/comment/3'}, 'authorName': 'rick', 'content': 'Comment #2', 'postedDate': '2021-11-03T16:27:41.032789'}\n",
      "{'_links': {'post': 'http://localhost:5012/post/1', 'self': 'http://localhost:5012/post/1/comment/4'}, 'authorName': 'rick', 'content': 'Comment #3', 'postedDate': '2021-11-03T16:27:41.050704'}\n"
     ]
    }
   ],
   "source": [
    "for c in resp.json()['comments']:\n",
    "    r = sess.get(c['_links']['self'])\n",
    "    r.raise_for_status()\n",
    "    print(r.json())"
   ]
  },
  {
   "cell_type": "code",
   "execution_count": 9,
   "metadata": {},
   "outputs": [],
   "source": [
    "import sqlite3\n",
    "conn = sqlite3.connect('./data/flask-examples/blog.db')"
   ]
  },
  {
   "cell_type": "code",
   "execution_count": 10,
   "metadata": {},
   "outputs": [
    {
     "name": "stdout",
     "output_type": "stream",
     "text": [
      "(1, '2021-11-03 16:27:39.842853', 'rick', 'Post with comments', 'Some content')\n",
      "(1, 1, '2021-11-03 16:27:40.999332', 'rick', 'Comment #0')\n",
      "(2, 1, '2021-11-03 16:27:41.019456', 'rick', 'Comment #1')\n",
      "(3, 1, '2021-11-03 16:27:41.032789', 'rick', 'Comment #2')\n",
      "(4, 1, '2021-11-03 16:27:41.050704', 'rick', 'Comment #3')\n"
     ]
    }
   ],
   "source": [
    "with conn as c:\n",
    "    for row in c.execute('SELECT * FROM post'):\n",
    "        print(row)\n",
    "    for row in c.execute('SELECT * FROM comment'):\n",
    "        print(row)"
   ]
  },
  {
   "cell_type": "code",
   "execution_count": null,
   "metadata": {},
   "outputs": [],
   "source": []
  }
 ],
 "metadata": {
  "kernelspec": {
   "display_name": "Python 3",
   "language": "python",
   "name": "python3"
  },
  "language_info": {
   "codemirror_mode": {
    "name": "ipython",
    "version": 3
   },
   "file_extension": ".py",
   "mimetype": "text/x-python",
   "name": "python",
   "nbconvert_exporter": "python",
   "pygments_lexer": "ipython3",
   "version": "3.8.5"
  }
 },
 "nbformat": 4,
 "nbformat_minor": 2
}
