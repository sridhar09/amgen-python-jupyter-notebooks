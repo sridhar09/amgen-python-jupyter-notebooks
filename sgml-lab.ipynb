{
 "cells": [
  {
   "cell_type": "markdown",
   "metadata": {},
   "source": [
    "# Lab: Parsing HTML\n",
    "\n",
    "Using the HTML parser of your choice, print a list of all the third-party links on the DevelopIntelligence home page (i.e. links that do not refer to developintelligence.com servers *and* are not relative links).\n",
    "\n",
    "\n",
    "## https://www.developintelligence.com/"
   ]
  },
  {
   "cell_type": "code",
   "execution_count": null,
   "metadata": {},
   "outputs": [],
   "source": []
  },
  {
   "cell_type": "markdown",
   "metadata": {},
   "source": [
    "# Lab: Parsing XML\n",
    "\n",
    "Using the XML parser of your choice, write a function that will fetch an RSS feed and print out the title, timestamp, and link for each item in the feed."
   ]
  },
  {
   "cell_type": "code",
   "execution_count": null,
   "metadata": {},
   "outputs": [],
   "source": []
  }
 ],
 "metadata": {
  "kernelspec": {
   "display_name": "Python 3",
   "language": "python",
   "name": "python3"
  },
  "language_info": {
   "codemirror_mode": {
    "name": "ipython",
    "version": 3
   },
   "file_extension": ".py",
   "mimetype": "text/x-python",
   "name": "python",
   "nbconvert_exporter": "python",
   "pygments_lexer": "ipython3",
   "version": "3.8.5"
  }
 },
 "nbformat": 4,
 "nbformat_minor": 2
}
