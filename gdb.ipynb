{
 "cells": [
  {
   "cell_type": "markdown",
   "metadata": {},
   "source": [
    "# Debugging with GDB\n",
    "\n",
    "## Get GDB Running\n",
    "\n",
    "Install gdb using homebrew\n",
    "\n",
    "On Mac, we must follow the directions at https://sourceware.org/gdb/wiki/PermissionsDarwin to sign the gdb app"
   ]
  },
  {
   "cell_type": "markdown",
   "metadata": {},
   "source": [
    "## Install Python extensions\n",
    "\n",
    "http://droettboom.com/blog/2015/11/20/gdb-python-extensions/"
   ]
  },
  {
   "cell_type": "markdown",
   "metadata": {},
   "source": [
    "# Install a Python with debug symbols\n",
    "\n",
    "Probably easiest to do this with [pyenv](https://github.com/pyenv/pyenv):"
   ]
  },
  {
   "cell_type": "code",
   "execution_count": 1,
   "metadata": {},
   "outputs": [
    {
     "name": "stdout",
     "output_type": "stream",
     "text": [
      "/bin/bash: pyenv: command not found\n"
     ]
    }
   ],
   "source": [
    "!pyenv install --debug --keep 3.8.2"
   ]
  },
  {
   "cell_type": "code",
   "execution_count": 1,
   "metadata": {},
   "outputs": [
    {
     "data": {
      "text/plain": [
       "'/Users/rick446/src/arborian-classes/src'"
      ]
     },
     "execution_count": 1,
     "metadata": {},
     "output_type": "execute_result"
    }
   ],
   "source": [
    "pwd"
   ]
  },
  {
   "cell_type": "code",
   "execution_count": 2,
   "metadata": {},
   "outputs": [],
   "source": [
    "!pyenv local 3.8.2-debug"
   ]
  },
  {
   "cell_type": "markdown",
   "metadata": {},
   "source": [
    "# Running inside docker\n",
    "\n",
    "From https://github.com/tonyOreglia/argument-counter/wiki/How-to-use-GDB-within-Docker-Container\n",
    "\n",
    "```bash\n",
    "docker run --name gdb-example -it --cap-add=SYS_PTRACE --security-opt \\\n",
    "    seccomp=unconfined \\\n",
    "    -v $(pwd):/root/app ubuntu\n",
    "```\n",
    "\n",
    "```bash\n",
    "# apt update && apt install python3-dbg gdb\n",
    "```"
   ]
  },
  {
   "cell_type": "markdown",
   "metadata": {},
   "source": [
    "# Starting a multithreaded program"
   ]
  },
  {
   "cell_type": "markdown",
   "metadata": {},
   "source": [
    "To attach to a running Python program:\n",
    "\n",
    "```bash\n",
    "$ PYTHON=$(python -c 'import sys; print(sys.executable)')\n",
    "$ gdb $PYTHON $PID\n",
    "\n",
    "(gdb) source /usr/share/gdb/auto-load/usr/bin/python3.8-gdb.py\n",
    "```\n",
    "\n",
    "in Docker, we can start the program with \n",
    "\n",
    "```bash\n",
    "$ python3-dbg gdb-example.py &\n",
    "$ gdb python3-dbg $!\n",
    "```\n",
    "\n",
    "You *may* need to enable the Python extensions:\n",
    "\n",
    "```bash\n",
    "(gdb) source /usr/share/gdb/auto-load/usr/bin/python3.8-gdb.py\n",
    "```\n",
    "\n",
    "You can also debug with core dumps (if enabled) using the following\n",
    "\n",
    "```bash\n",
    "$ ulimit -c unlimited\n",
    "$ python3 gdb-example.py &\n",
    "$ kill -6 $!\n",
    "$ gdb python3 core\n",
    "```\n",
    "\n",
    "(You must ensure that the source files can be found if debugging a core dump)"
   ]
  },
  {
   "cell_type": "code",
   "execution_count": 1,
   "metadata": {},
   "outputs": [
    {
     "name": "stdout",
     "output_type": "stream",
     "text": [
      "Overwriting data/gdb-example/gdb-example.py\n"
     ]
    }
   ],
   "source": [
    "%%file data/gdb-example/gdb-example.py\n",
    "import time\n",
    "import random\n",
    "import threading\n",
    "\n",
    "def main():\n",
    "    threads = [\n",
    "        threading.Thread(target=target, args=(f'T{i}',))\n",
    "        for i in range(8)\n",
    "    ]\n",
    "    for t in threads:\n",
    "        t.setDaemon(True)\n",
    "        t.start()\n",
    "    while True:\n",
    "        time.sleep(10)\n",
    "        print(f'Main thread, checking in...')\n",
    "    \n",
    "\n",
    "def target(name):\n",
    "    print(f'Starting thread {name}')\n",
    "    while True:\n",
    "        time.sleep(30 * random.random())\n",
    "        print(f'Thread {name}, checking in')\n",
    "    \n",
    "if __name__ == '__main__':\n",
    "    main()"
   ]
  },
  {
   "cell_type": "markdown",
   "metadata": {},
   "source": [
    "Other interesting tool(s)\n",
    "\n",
    "- https://pyrasite.readthedocs.io/en/latest/index.html"
   ]
  },
  {
   "cell_type": "code",
   "execution_count": null,
   "metadata": {},
   "outputs": [],
   "source": []
  }
 ],
 "metadata": {
  "kernelspec": {
   "display_name": "Python 3 (ipykernel)",
   "language": "python",
   "name": "python3"
  },
  "language_info": {
   "codemirror_mode": {
    "name": "ipython",
    "version": 3
   },
   "file_extension": ".py",
   "mimetype": "text/x-python",
   "name": "python",
   "nbconvert_exporter": "python",
   "pygments_lexer": "ipython3",
   "version": "3.10.8"
  }
 },
 "nbformat": 4,
 "nbformat_minor": 4
}
