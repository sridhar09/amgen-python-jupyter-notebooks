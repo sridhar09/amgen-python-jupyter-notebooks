{
 "cells": [
  {
   "cell_type": "markdown",
   "metadata": {},
   "source": [
    "# Lab\n",
    "\n",
    "Using the following code as a basis, use async methods to fetch the temperatures in the given cities:"
   ]
  },
  {
   "cell_type": "code",
   "execution_count": 1,
   "metadata": {},
   "outputs": [],
   "source": [
    "APPID = '10d4440bbaa8581bb8da9bd1fbea5617'\n",
    "# UNITS = 'metric'\n",
    "UNITS = 'imperial'\n",
    "cities = [\n",
    "    'Boulder', 'Atlanta', 'San Francisco',\n",
    "    'Reno', 'Honolulu', 'Zurich', 'Dubai',\n",
    "    'Dublin','Stuttgart', 'Rome', 'Singapore', \n",
    "    'Bangalore', 'Hyderabad', 'Seattle',\n",
    "]\n",
    "\n",
    "from aiohttp_requests import requests\n",
    "\n",
    "async def get_temp(city, units=UNITS, appid=APPID):\n",
    "    url = 'http://api.openweathermap.org/data/2.5/weather'\n",
    "    resp = await requests.get(url, params={\n",
    "        'q': city,\n",
    "        'units': units,\n",
    "        'appid': appid,        \n",
    "    })\n",
    "    resp.raise_for_status()\n",
    "    json_data = await resp.json()\n",
    "    temp = json_data['main']['temp']\n",
    "    return temp"
   ]
  },
  {
   "cell_type": "code",
   "execution_count": 13,
   "metadata": {},
   "outputs": [
    {
     "data": {
      "text/plain": [
       "[<coroutine object get_temp at 0x7f1092b0fe40>,\n",
       " <coroutine object get_temp at 0x7f1092b0fdc0>,\n",
       " <coroutine object get_temp at 0x7f1092b0f340>,\n",
       " <coroutine object get_temp at 0x7f1092b0fec0>,\n",
       " <coroutine object get_temp at 0x7f1092b0ff40>,\n",
       " <coroutine object get_temp at 0x7f1092b19040>,\n",
       " <coroutine object get_temp at 0x7f1092b190c0>,\n",
       " <coroutine object get_temp at 0x7f1092b19140>,\n",
       " <coroutine object get_temp at 0x7f1092b191c0>,\n",
       " <coroutine object get_temp at 0x7f1092b192c0>,\n",
       " <coroutine object get_temp at 0x7f1092b19340>,\n",
       " <coroutine object get_temp at 0x7f1092b193c0>,\n",
       " <coroutine object get_temp at 0x7f1092b19440>,\n",
       " <coroutine object get_temp at 0x7f1092b194c0>]"
      ]
     },
     "execution_count": 13,
     "metadata": {},
     "output_type": "execute_result"
    }
   ],
   "source": [
    "import asyncio\n",
    "\n",
    "coroutines = [get_temp(city) for city in cities]\n",
    "\n",
    "coroutines"
   ]
  },
  {
   "cell_type": "code",
   "execution_count": 14,
   "metadata": {},
   "outputs": [],
   "source": [
    "result = await asyncio.gather(*coroutines)\n",
    "# result = await asyncio.gather(coroutines[0], coroutines[1], ...)"
   ]
  },
  {
   "cell_type": "code",
   "execution_count": 4,
   "metadata": {},
   "outputs": [
    {
     "data": {
      "text/plain": [
       "[36.55,\n",
       " 68.49,\n",
       " 60.55,\n",
       " 57.18,\n",
       " 80.73,\n",
       " 45.73,\n",
       " 82.15,\n",
       " 60.49,\n",
       " 46.09,\n",
       " 68.54,\n",
       " 77,\n",
       " 67.82,\n",
       " 72.91,\n",
       " 53.78]"
      ]
     },
     "execution_count": 4,
     "metadata": {},
     "output_type": "execute_result"
    }
   ],
   "source": [
    "result"
   ]
  },
  {
   "cell_type": "code",
   "execution_count": 5,
   "metadata": {},
   "outputs": [
    {
     "data": {
      "text/plain": [
       "['Boulder',\n",
       " 'Atlanta',\n",
       " 'San Francisco',\n",
       " 'Reno',\n",
       " 'Honolulu',\n",
       " 'Zurich',\n",
       " 'Dubai',\n",
       " 'Dublin',\n",
       " 'Stuttgart',\n",
       " 'Rome',\n",
       " 'Singapore',\n",
       " 'Bangalore',\n",
       " 'Hyderabad',\n",
       " 'Seattle']"
      ]
     },
     "execution_count": 5,
     "metadata": {},
     "output_type": "execute_result"
    }
   ],
   "source": [
    "cities"
   ]
  },
  {
   "cell_type": "code",
   "execution_count": 6,
   "metadata": {
    "collapsed": true
   },
   "outputs": [
    {
     "data": {
      "text/plain": [
       "{'Boulder': 36.55,\n",
       " 'Atlanta': 68.49,\n",
       " 'San Francisco': 60.55,\n",
       " 'Reno': 57.18,\n",
       " 'Honolulu': 80.73,\n",
       " 'Zurich': 45.73,\n",
       " 'Dubai': 82.15,\n",
       " 'Dublin': 60.49,\n",
       " 'Stuttgart': 46.09,\n",
       " 'Rome': 68.54,\n",
       " 'Singapore': 77,\n",
       " 'Bangalore': 67.82,\n",
       " 'Hyderabad': 72.91,\n",
       " 'Seattle': 53.78}"
      ]
     },
     "execution_count": 6,
     "metadata": {},
     "output_type": "execute_result"
    }
   ],
   "source": [
    "dict(zip(cities, result))"
   ]
  },
  {
   "cell_type": "code",
   "execution_count": 7,
   "metadata": {},
   "outputs": [],
   "source": [
    "async def serialized():\n",
    "    result = []\n",
    "    for city in cities:\n",
    "        result.append(await get_temp(city))\n",
    "    return result"
   ]
  },
  {
   "cell_type": "code",
   "execution_count": 11,
   "metadata": {},
   "outputs": [],
   "source": [
    "result = await serialized()"
   ]
  },
  {
   "cell_type": "code",
   "execution_count": 9,
   "metadata": {},
   "outputs": [
    {
     "data": {
      "text/plain": [
       "[36.55,\n",
       " 68.56,\n",
       " 60.57,\n",
       " 57.18,\n",
       " 80.29,\n",
       " 45.61,\n",
       " 82.15,\n",
       " 60.19,\n",
       " 46.71,\n",
       " 68.45,\n",
       " 77.04,\n",
       " 67.82,\n",
       " 72.91,\n",
       " 53.51]"
      ]
     },
     "execution_count": 9,
     "metadata": {},
     "output_type": "execute_result"
    }
   ],
   "source": [
    "result"
   ]
  },
  {
   "cell_type": "markdown",
   "metadata": {},
   "source": [
    "How about queues?"
   ]
  },
  {
   "cell_type": "code",
   "execution_count": 15,
   "metadata": {},
   "outputs": [],
   "source": [
    "from asyncio import Queue"
   ]
  },
  {
   "cell_type": "code",
   "execution_count": 23,
   "metadata": {},
   "outputs": [],
   "source": [
    "q = Queue()\n",
    "\n",
    "async def worker(i, q):\n",
    "    while True:\n",
    "        city = await q.get()\n",
    "        temp = await get_temp(city)\n",
    "        print(i, city, temp)"
   ]
  },
  {
   "cell_type": "code",
   "execution_count": 24,
   "metadata": {},
   "outputs": [],
   "source": [
    "for city in cities:\n",
    "    await q.put(city)"
   ]
  },
  {
   "cell_type": "code",
   "execution_count": 25,
   "metadata": {},
   "outputs": [],
   "source": [
    "workers = [worker(i, q) for i in range(4)]"
   ]
  },
  {
   "cell_type": "code",
   "execution_count": 26,
   "metadata": {},
   "outputs": [
    {
     "name": "stdout",
     "output_type": "stream",
     "text": [
      "0 Boulder 37.76\n",
      "2 San Francisco 60.55\n",
      "1 Atlanta 68.52\n",
      "3 Reno 57.15\n",
      "0 Honolulu 80.38\n",
      "2 Zurich 45.73\n",
      "1 Dubai 82.15\n",
      "3 Dublin 60.58\n",
      "2 Rome 68.47\n",
      "1 Singapore 77\n",
      "1 Seattle 53.78\n",
      "2 Hyderabad 72.91\n",
      "0 Stuttgart 46.69\n",
      "3 Bangalore 67.82\n"
     ]
    },
    {
     "ename": "CancelledError",
     "evalue": "",
     "output_type": "error",
     "traceback": [
      "\u001b[0;31m---------------------------------------------------------------------------\u001b[0m",
      "\u001b[0;31mCancelledError\u001b[0m                            Traceback (most recent call last)",
      "\u001b[0;32m<ipython-input-26-a81b9fffe565>\u001b[0m in \u001b[0;36m<module>\u001b[0;34m\u001b[0m\n\u001b[0;32m----> 1\u001b[0;31m \u001b[0;32mawait\u001b[0m \u001b[0masyncio\u001b[0m\u001b[0;34m.\u001b[0m\u001b[0mgather\u001b[0m\u001b[0;34m(\u001b[0m\u001b[0;34m*\u001b[0m\u001b[0mworkers\u001b[0m\u001b[0;34m)\u001b[0m\u001b[0;34m\u001b[0m\u001b[0;34m\u001b[0m\u001b[0m\n\u001b[0m",
      "\u001b[0;31mCancelledError\u001b[0m: "
     ]
    }
   ],
   "source": [
    "await asyncio.gather(*workers)"
   ]
  },
  {
   "cell_type": "code",
   "execution_count": null,
   "metadata": {},
   "outputs": [],
   "source": []
  }
 ],
 "metadata": {
  "kernelspec": {
   "display_name": "Python 3",
   "language": "python",
   "name": "python3"
  },
  "language_info": {
   "codemirror_mode": {
    "name": "ipython",
    "version": 3
   },
   "file_extension": ".py",
   "mimetype": "text/x-python",
   "name": "python",
   "nbconvert_exporter": "python",
   "pygments_lexer": "ipython3",
   "version": "3.8.5"
  }
 },
 "nbformat": 4,
 "nbformat_minor": 2
}
