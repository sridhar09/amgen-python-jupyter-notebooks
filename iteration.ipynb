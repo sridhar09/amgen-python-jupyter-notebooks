{
 "cells": [
  {
   "cell_type": "markdown",
   "metadata": {},
   "source": [
    "# Generators and Iterators\n",
    "\n",
    "![Iterables and Iterators](./data/img/Iterable.png)"
   ]
  },
  {
   "cell_type": "code",
   "execution_count": 1,
   "metadata": {},
   "outputs": [],
   "source": [
    "lst = [3,2,1]"
   ]
  },
  {
   "cell_type": "code",
   "execution_count": 7,
   "metadata": {},
   "outputs": [
    {
     "data": {
      "text/plain": [
       "<list_iterator at 0x1086ed000>"
      ]
     },
     "execution_count": 7,
     "metadata": {},
     "output_type": "execute_result"
    }
   ],
   "source": [
    "lst_iter = iter(lst)\n",
    "lst_iter\n"
   ]
  },
  {
   "cell_type": "code",
   "execution_count": 8,
   "metadata": {},
   "outputs": [
    {
     "data": {
      "text/plain": [
       "3"
      ]
     },
     "execution_count": 8,
     "metadata": {},
     "output_type": "execute_result"
    }
   ],
   "source": [
    "next(lst_iter)"
   ]
  },
  {
   "cell_type": "code",
   "execution_count": 9,
   "metadata": {},
   "outputs": [
    {
     "data": {
      "text/plain": [
       "2"
      ]
     },
     "execution_count": 9,
     "metadata": {},
     "output_type": "execute_result"
    }
   ],
   "source": [
    "next(lst_iter)"
   ]
  },
  {
   "cell_type": "markdown",
   "metadata": {
    "tags": []
   },
   "source": [
    "## Building your own iterators with `yield`"
   ]
  },
  {
   "cell_type": "code",
   "execution_count": 6,
   "metadata": {},
   "outputs": [],
   "source": [
    "def counter(start, end):\n",
    "    print('Entering counter generator')\n",
    "    current = start\n",
    "    while current < end:\n",
    "        yield current\n",
    "        current += 1"
   ]
  },
  {
   "cell_type": "code",
   "execution_count": 7,
   "metadata": {},
   "outputs": [
    {
     "data": {
      "text/plain": [
       "<generator object counter at 0x7f85d0150890>"
      ]
     },
     "execution_count": 7,
     "metadata": {},
     "output_type": "execute_result"
    }
   ],
   "source": [
    "counter(1, 10)"
   ]
  },
  {
   "cell_type": "code",
   "execution_count": 8,
   "metadata": {},
   "outputs": [
    {
     "name": "stdout",
     "output_type": "stream",
     "text": [
      "Entering counter generator\n"
     ]
    },
    {
     "data": {
      "text/plain": [
       "1"
      ]
     },
     "execution_count": 8,
     "metadata": {},
     "output_type": "execute_result"
    }
   ],
   "source": [
    "x = counter(1,10)\n",
    "next(x)"
   ]
  },
  {
   "cell_type": "code",
   "execution_count": 9,
   "metadata": {},
   "outputs": [
    {
     "data": {
      "text/plain": [
       "2"
      ]
     },
     "execution_count": 9,
     "metadata": {},
     "output_type": "execute_result"
    }
   ],
   "source": [
    "next(x)"
   ]
  },
  {
   "cell_type": "code",
   "execution_count": 10,
   "metadata": {},
   "outputs": [
    {
     "data": {
      "text/plain": [
       "3"
      ]
     },
     "execution_count": 10,
     "metadata": {},
     "output_type": "execute_result"
    }
   ],
   "source": [
    "next(x)"
   ]
  },
  {
   "cell_type": "markdown",
   "metadata": {},
   "source": [
    "Equivalent list code:"
   ]
  },
  {
   "cell_type": "code",
   "execution_count": 11,
   "metadata": {},
   "outputs": [],
   "source": [
    "def counter_list(start, end):\n",
    "    print('Entering counter function')\n",
    "    result = []\n",
    "    current = start\n",
    "    while current < end:\n",
    "        #yield current\n",
    "        result.append(current)\n",
    "        current += 1\n",
    "    return result"
   ]
  },
  {
   "cell_type": "code",
   "execution_count": 12,
   "metadata": {},
   "outputs": [
    {
     "name": "stdout",
     "output_type": "stream",
     "text": [
      "Entering counter function\n"
     ]
    },
    {
     "data": {
      "text/plain": [
       "[1, 2, 3, 4, 5, 6, 7, 8, 9]"
      ]
     },
     "execution_count": 12,
     "metadata": {},
     "output_type": "execute_result"
    }
   ],
   "source": [
    "counter_list(1, 10)"
   ]
  },
  {
   "cell_type": "code",
   "execution_count": 13,
   "metadata": {},
   "outputs": [],
   "source": [
    "def counter(start, end):\n",
    "    print('Entering counter generator')\n",
    "    current = start\n",
    "    while current < end:\n",
    "        print('Generate the value', current)\n",
    "        yield current\n",
    "        current += 1"
   ]
  },
  {
   "cell_type": "code",
   "execution_count": 14,
   "metadata": {},
   "outputs": [
    {
     "name": "stdout",
     "output_type": "stream",
     "text": [
      "Entering counter generator\n",
      "Generate the value 1\n",
      "Use the value 1\n",
      "Generate the value 2\n",
      "Use the value 2\n",
      "Generate the value 3\n",
      "Use the value 3\n",
      "Generate the value 4\n",
      "Use the value 4\n"
     ]
    }
   ],
   "source": [
    "for x in counter(1, 10_000):\n",
    "    print('Use the value', x)\n",
    "    if x > 3:\n",
    "        break"
   ]
  },
  {
   "cell_type": "code",
   "execution_count": 15,
   "metadata": {},
   "outputs": [],
   "source": [
    "def counter_list(start, end):\n",
    "    print('Entering counter function')\n",
    "    result = []\n",
    "    current = start\n",
    "    while current < end:\n",
    "        #yield current\n",
    "        print('Generate the value', current)\n",
    "        result.append(current)\n",
    "        current += 1\n",
    "    return result"
   ]
  },
  {
   "cell_type": "code",
   "execution_count": 16,
   "metadata": {},
   "outputs": [
    {
     "name": "stdout",
     "output_type": "stream",
     "text": [
      "Entering counter function\n",
      "Generate the value 1\n",
      "Generate the value 2\n",
      "Generate the value 3\n",
      "Generate the value 4\n",
      "Generate the value 5\n",
      "Generate the value 6\n",
      "Generate the value 7\n",
      "Generate the value 8\n",
      "Generate the value 9\n",
      "Use the value 1\n",
      "Use the value 2\n",
      "Use the value 3\n",
      "Use the value 4\n"
     ]
    }
   ],
   "source": [
    "for x in counter_list(1, 10):\n",
    "    print('Use the value', x)\n",
    "    if x > 3:\n",
    "        break"
   ]
  },
  {
   "cell_type": "markdown",
   "metadata": {},
   "source": [
    "(Back to the generator version)"
   ]
  },
  {
   "cell_type": "code",
   "execution_count": 17,
   "metadata": {},
   "outputs": [],
   "source": [
    "def counter(start, end):\n",
    "    print('Entering counter generator')\n",
    "    current = start\n",
    "    while current < end:\n",
    "        yield current\n",
    "        current += 1"
   ]
  },
  {
   "cell_type": "code",
   "execution_count": 18,
   "metadata": {},
   "outputs": [
    {
     "name": "stdout",
     "output_type": "stream",
     "text": [
      "Entering counter generator\n"
     ]
    },
    {
     "data": {
      "text/plain": [
       "[1, 2, 3, 4, 5, 6, 7, 8, 9]"
      ]
     },
     "execution_count": 18,
     "metadata": {},
     "output_type": "execute_result"
    }
   ],
   "source": [
    "x = counter(1,10)\n",
    "list(x)"
   ]
  },
  {
   "cell_type": "code",
   "execution_count": 19,
   "metadata": {},
   "outputs": [
    {
     "data": {
      "text/plain": [
       "function"
      ]
     },
     "execution_count": 19,
     "metadata": {},
     "output_type": "execute_result"
    }
   ],
   "source": [
    "type(counter)"
   ]
  },
  {
   "cell_type": "code",
   "execution_count": 20,
   "metadata": {},
   "outputs": [
    {
     "data": {
      "text/plain": [
       "generator"
      ]
     },
     "execution_count": 20,
     "metadata": {},
     "output_type": "execute_result"
    }
   ],
   "source": [
    "type(counter(1, 10))"
   ]
  },
  {
   "cell_type": "code",
   "execution_count": 21,
   "metadata": {},
   "outputs": [
    {
     "ename": "StopIteration",
     "evalue": "",
     "output_type": "error",
     "traceback": [
      "\u001b[0;31m---------------------------------------------------------------------------\u001b[0m",
      "\u001b[0;31mStopIteration\u001b[0m                             Traceback (most recent call last)",
      "\u001b[0;32m<ipython-input-21-92de4e9f6b1e>\u001b[0m in \u001b[0;36m<module>\u001b[0;34m\u001b[0m\n\u001b[0;32m----> 1\u001b[0;31m \u001b[0mnext\u001b[0m\u001b[0;34m(\u001b[0m\u001b[0mx\u001b[0m\u001b[0;34m)\u001b[0m\u001b[0;34m\u001b[0m\u001b[0;34m\u001b[0m\u001b[0m\n\u001b[0m",
      "\u001b[0;31mStopIteration\u001b[0m: "
     ]
    }
   ],
   "source": [
    "next(x)"
   ]
  },
  {
   "cell_type": "code",
   "execution_count": 22,
   "metadata": {},
   "outputs": [
    {
     "name": "stdout",
     "output_type": "stream",
     "text": [
      "Entering counter generator\n",
      "1 2 3 4 5 6 7 8 9 "
     ]
    }
   ],
   "source": [
    "for item in counter(1, 10):\n",
    "    print(item, end=' ')"
   ]
  },
  {
   "cell_type": "code",
   "execution_count": 23,
   "metadata": {},
   "outputs": [],
   "source": [
    "def short_gen():\n",
    "    if False:\n",
    "        yield\n",
    "    return 'The return value'"
   ]
  },
  {
   "cell_type": "code",
   "execution_count": 24,
   "metadata": {},
   "outputs": [],
   "source": [
    "g = short_gen()"
   ]
  },
  {
   "cell_type": "code",
   "execution_count": 25,
   "metadata": {},
   "outputs": [
    {
     "data": {
      "text/plain": [
       "<generator object short_gen at 0x7f85d00dbe40>"
      ]
     },
     "execution_count": 25,
     "metadata": {},
     "output_type": "execute_result"
    }
   ],
   "source": [
    "g"
   ]
  },
  {
   "cell_type": "code",
   "execution_count": 26,
   "metadata": {},
   "outputs": [
    {
     "ename": "StopIteration",
     "evalue": "The return value",
     "output_type": "error",
     "traceback": [
      "\u001b[0;31m---------------------------------------------------------------------------\u001b[0m",
      "\u001b[0;31mStopIteration\u001b[0m                             Traceback (most recent call last)",
      "\u001b[0;32m<ipython-input-26-e734f8aca5ac>\u001b[0m in \u001b[0;36m<module>\u001b[0;34m\u001b[0m\n\u001b[0;32m----> 1\u001b[0;31m \u001b[0mnext\u001b[0m\u001b[0;34m(\u001b[0m\u001b[0mg\u001b[0m\u001b[0;34m)\u001b[0m\u001b[0;34m\u001b[0m\u001b[0;34m\u001b[0m\u001b[0m\n\u001b[0m",
      "\u001b[0;31mStopIteration\u001b[0m: The return value"
     ]
    }
   ],
   "source": [
    "next(g)"
   ]
  },
  {
   "cell_type": "markdown",
   "metadata": {},
   "source": [
    "```python\n",
    "def build_my_list():\n",
    "    lst = []\n",
    "    for something in something_else:\n",
    "        lst.append(something)\n",
    "    return lst\n",
    " \n",
    "def build_my_gen():\n",
    "    for something in something_else:\n",
    "        yield something\n",
    "```\n",
    "        \n",
    "`list(build_my_gen())`  is equivalent to  `build_my_list()`\n",
    "\n",
    "Generators only use enough memory to produce a single value at time\n",
    "\n",
    "Lists have all the values present in memory at once"
   ]
  },
  {
   "cell_type": "markdown",
   "metadata": {},
   "source": [
    "`yield` can also be used as a expression, along with the `send()` method"
   ]
  },
  {
   "cell_type": "code",
   "execution_count": 36,
   "metadata": {},
   "outputs": [],
   "source": [
    "def accumulator(start=0):\n",
    "    current = start\n",
    "    while True:\n",
    "        current += (yield current)\n",
    "#         output(current)\n",
    "#         suspend the generator\n",
    "#         tmp = input()\n",
    "#         current += tmp"
   ]
  },
  {
   "cell_type": "code",
   "execution_count": 44,
   "metadata": {},
   "outputs": [],
   "source": [
    "x = accumulator()"
   ]
  },
  {
   "cell_type": "code",
   "execution_count": 45,
   "metadata": {},
   "outputs": [
    {
     "data": {
      "text/plain": [
       "0"
      ]
     },
     "execution_count": 45,
     "metadata": {},
     "output_type": "execute_result"
    }
   ],
   "source": [
    "next(x)  # equivalent to x.send(None)"
   ]
  },
  {
   "cell_type": "code",
   "execution_count": 46,
   "metadata": {},
   "outputs": [
    {
     "data": {
      "text/plain": [
       "1"
      ]
     },
     "execution_count": 46,
     "metadata": {},
     "output_type": "execute_result"
    }
   ],
   "source": [
    "x.send(1)"
   ]
  },
  {
   "cell_type": "code",
   "execution_count": 47,
   "metadata": {},
   "outputs": [
    {
     "data": {
      "text/plain": [
       "2"
      ]
     },
     "execution_count": 47,
     "metadata": {},
     "output_type": "execute_result"
    }
   ],
   "source": [
    "x.send(1)"
   ]
  },
  {
   "cell_type": "code",
   "execution_count": 48,
   "metadata": {},
   "outputs": [
    {
     "data": {
      "text/plain": [
       "12"
      ]
     },
     "execution_count": 48,
     "metadata": {},
     "output_type": "execute_result"
    }
   ],
   "source": [
    "x.send(10)"
   ]
  },
  {
   "cell_type": "markdown",
   "metadata": {},
   "source": [
    "Illustration of memory advantage of using iterators/generators"
   ]
  },
  {
   "cell_type": "code",
   "execution_count": 49,
   "metadata": {},
   "outputs": [
    {
     "name": "stdout",
     "output_type": "stream",
     "text": [
      "124\n"
     ]
    }
   ],
   "source": [
    "import sys\n",
    "max_mem_usage = 0\n",
    "\n",
    "for line in open('./data/hamlet.txt'):\n",
    "    max_mem_usage = max(\n",
    "        max_mem_usage,\n",
    "        sys.getsizeof(line)\n",
    "    )\n",
    "print(max_mem_usage)"
   ]
  },
  {
   "cell_type": "code",
   "execution_count": 50,
   "metadata": {},
   "outputs": [
    {
     "name": "stdout",
     "output_type": "stream",
     "text": [
      "-rw-r--r-- 1 rick446 rick446 173K Sep 11  2020 ./data/hamlet.txt\n"
     ]
    }
   ],
   "source": [
    "!ls -lh ./data/hamlet.txt"
   ]
  },
  {
   "cell_type": "code",
   "execution_count": 51,
   "metadata": {},
   "outputs": [],
   "source": [
    "hamlet_lines = open('./data/hamlet.txt').readlines()"
   ]
  },
  {
   "cell_type": "code",
   "execution_count": 52,
   "metadata": {},
   "outputs": [],
   "source": [
    "total_mem_usage = sum([\n",
    "    sys.getsizeof(line) for line in hamlet_lines\n",
    "]) + sys.getsizeof(hamlet_lines)"
   ]
  },
  {
   "cell_type": "code",
   "execution_count": 53,
   "metadata": {},
   "outputs": [
    {
     "data": {
      "text/plain": [
       "347341"
      ]
     },
     "execution_count": 53,
     "metadata": {},
     "output_type": "execute_result"
    }
   ],
   "source": [
    "total_mem_usage"
   ]
  },
  {
   "cell_type": "markdown",
   "metadata": {},
   "source": [
    "### Composition of generators"
   ]
  },
  {
   "cell_type": "code",
   "execution_count": 57,
   "metadata": {},
   "outputs": [
    {
     "name": "stdout",
     "output_type": "stream",
     "text": [
      "('a-prefix', 0)\n",
      "('a-prefix', 1)\n",
      "('a-prefix', 2)\n",
      "('a-prefix', 3)\n",
      "('a-prefix', 4)\n",
      "('b-prefix', 0)\n",
      "('b-prefix', 1)\n",
      "('b-prefix', 2)\n"
     ]
    }
   ],
   "source": [
    "def gen1(prefix, n):\n",
    "    for i in range(n):\n",
    "        yield prefix, i\n",
    "        \n",
    "def gen2(a, b):\n",
    "# # this is _Very_ wrong\n",
    "#     gen1('a-prefix', a)\n",
    "#     gen1('b-prefix', b)\n",
    "\n",
    "# #     this is wrong, but better\n",
    "#     yield gen1('a-prefix', a)\n",
    "#     yield gen1('b-prefix', b)\n",
    "\n",
    "# #     This is right, but ugly\n",
    "#     for carrot in gen1('a-prefix', a):\n",
    "#         yield carrot\n",
    "#     for cabbage in gen1('b-prefix', b):\n",
    "#         yield cabbage\n",
    "    \n",
    "    # Preferred way to delegate to sub-generators\n",
    "    yield from gen1('a-prefix', a)\n",
    "    yield from gen1('b-prefix', b)\n",
    "    \n",
    "for item in gen2(5, 3):\n",
    "    print(item)"
   ]
  },
  {
   "cell_type": "markdown",
   "metadata": {},
   "source": [
    "You can `yield from` any iterable object"
   ]
  },
  {
   "cell_type": "code",
   "execution_count": 58,
   "metadata": {},
   "outputs": [],
   "source": [
    "def mycat(filename1, filename2):\n",
    "    with open(filename1) as f1:\n",
    "        for line in f1:\n",
    "            yield line\n",
    "    with open(filename2) as f2:\n",
    "        yield from f2\n",
    "        "
   ]
  },
  {
   "cell_type": "code",
   "execution_count": 59,
   "metadata": {},
   "outputs": [],
   "source": [
    "lines = list(mycat('./data/hamlet.txt', './data/poem.txt'))"
   ]
  },
  {
   "cell_type": "code",
   "execution_count": 60,
   "metadata": {},
   "outputs": [
    {
     "data": {
      "text/plain": [
       "['I took the one less traveled by,\\t\\n',\n",
       " 'And that has made all the difference.\\n']"
      ]
     },
     "execution_count": 60,
     "metadata": {},
     "output_type": "execute_result"
    }
   ],
   "source": [
    "lines[-2:]"
   ]
  },
  {
   "cell_type": "markdown",
   "metadata": {},
   "source": [
    "What about return?"
   ]
  },
  {
   "cell_type": "code",
   "execution_count": 61,
   "metadata": {},
   "outputs": [],
   "source": [
    "def producing_return_value():\n",
    "    yield 1\n",
    "    yield 2\n",
    "    return 'return value'"
   ]
  },
  {
   "cell_type": "code",
   "execution_count": 62,
   "metadata": {},
   "outputs": [
    {
     "data": {
      "text/plain": [
       "[1, 2]"
      ]
     },
     "execution_count": 62,
     "metadata": {},
     "output_type": "execute_result"
    }
   ],
   "source": [
    "list(producing_return_value())"
   ]
  },
  {
   "cell_type": "code",
   "execution_count": 63,
   "metadata": {},
   "outputs": [],
   "source": [
    "def using_return_value():\n",
    "    rv = yield from producing_return_value()\n",
    "    print('I got the return value', rv)"
   ]
  },
  {
   "cell_type": "code",
   "execution_count": 64,
   "metadata": {},
   "outputs": [
    {
     "name": "stdout",
     "output_type": "stream",
     "text": [
      "I got the return value return value\n"
     ]
    },
    {
     "data": {
      "text/plain": [
       "[1, 2]"
      ]
     },
     "execution_count": 64,
     "metadata": {},
     "output_type": "execute_result"
    }
   ],
   "source": [
    "list(using_return_value())"
   ]
  },
  {
   "cell_type": "code",
   "execution_count": 65,
   "metadata": {},
   "outputs": [
    {
     "name": "stdout",
     "output_type": "stream",
     "text": [
      "StopIteration.value = 'return value'\n"
     ]
    }
   ],
   "source": [
    "x = producing_return_value()\n",
    "next(x)\n",
    "next(x)\n",
    "try:\n",
    "    next(x)\n",
    "except StopIteration as si:\n",
    "    print(f'StopIteration.value = {si.value!r}')"
   ]
  },
  {
   "cell_type": "markdown",
   "metadata": {},
   "source": [
    "```python\n",
    "data = yield from socket.recv_async_data()\n",
    "```"
   ]
  },
  {
   "cell_type": "markdown",
   "metadata": {},
   "source": [
    "## The iterator protocol\n",
    "\n",
    "What does `for x in sequence:` *really* do?"
   ]
  },
  {
   "cell_type": "code",
   "execution_count": 67,
   "metadata": {},
   "outputs": [
    {
     "name": "stdout",
     "output_type": "stream",
     "text": [
      "0\n",
      "1\n",
      "2\n",
      "3\n"
     ]
    }
   ],
   "source": [
    "seq = range(4)\n",
    "for x in seq: \n",
    "    print(x)"
   ]
  },
  {
   "cell_type": "code",
   "execution_count": 68,
   "metadata": {},
   "outputs": [
    {
     "data": {
      "text/plain": [
       "range(0, 4)"
      ]
     },
     "execution_count": 68,
     "metadata": {},
     "output_type": "execute_result"
    }
   ],
   "source": [
    "seq"
   ]
  },
  {
   "cell_type": "code",
   "execution_count": 69,
   "metadata": {},
   "outputs": [
    {
     "name": "stdout",
     "output_type": "stream",
     "text": [
      "<range_iterator object at 0x7f85d010a240>\n"
     ]
    }
   ],
   "source": [
    "iter_seq = iter(seq)\n",
    "print(iter_seq)"
   ]
  },
  {
   "cell_type": "code",
   "execution_count": 70,
   "metadata": {},
   "outputs": [
    {
     "name": "stdout",
     "output_type": "stream",
     "text": [
      "0\n",
      "1\n",
      "2\n",
      "3\n"
     ]
    }
   ],
   "source": [
    "iter_seq = iter(seq)         # __iter__\n",
    "while True:\n",
    "    try:\n",
    "        x = next(iter_seq)   # __next__\n",
    "    except StopIteration:\n",
    "        break\n",
    "    print(x)  # loop body"
   ]
  },
  {
   "cell_type": "code",
   "execution_count": 72,
   "metadata": {},
   "outputs": [
    {
     "data": {
      "text/plain": [
       "<list_reverseiterator at 0x7f85d01747f0>"
      ]
     },
     "execution_count": 72,
     "metadata": {},
     "output_type": "execute_result"
    }
   ],
   "source": [
    "x = reversed([1,2,3])  # __reversed__ (?)\n",
    "x"
   ]
  },
  {
   "cell_type": "code",
   "execution_count": 75,
   "metadata": {},
   "outputs": [
    {
     "data": {
      "text/plain": [
       "3"
      ]
     },
     "execution_count": 75,
     "metadata": {},
     "output_type": "execute_result"
    }
   ],
   "source": [
    "x.__next__()   # this is what Python calls when you say next(x)"
   ]
  },
  {
   "cell_type": "code",
   "execution_count": 76,
   "metadata": {},
   "outputs": [
    {
     "data": {
      "text/plain": [
       "2"
      ]
     },
     "execution_count": 76,
     "metadata": {},
     "output_type": "execute_result"
    }
   ],
   "source": [
    "next(x)"
   ]
  },
  {
   "cell_type": "markdown",
   "metadata": {},
   "source": [
    "Generators are their own iterators (which are also iterable):"
   ]
  },
  {
   "cell_type": "code",
   "execution_count": 77,
   "metadata": {},
   "outputs": [
    {
     "name": "stdout",
     "output_type": "stream",
     "text": [
      "<generator object counter at 0x7f85c97f2430>\n"
     ]
    }
   ],
   "source": [
    "x = counter(0, 4)\n",
    "print(x)"
   ]
  },
  {
   "cell_type": "code",
   "execution_count": 78,
   "metadata": {},
   "outputs": [
    {
     "name": "stdout",
     "output_type": "stream",
     "text": [
      "<generator object counter at 0x7f85c97f2430>\n"
     ]
    }
   ],
   "source": [
    "print(iter(x))"
   ]
  },
  {
   "cell_type": "code",
   "execution_count": 79,
   "metadata": {},
   "outputs": [
    {
     "data": {
      "text/plain": [
       "True"
      ]
     },
     "execution_count": 79,
     "metadata": {},
     "output_type": "execute_result"
    }
   ],
   "source": [
    "x is iter(x)  #"
   ]
  },
  {
   "cell_type": "code",
   "execution_count": 80,
   "metadata": {},
   "outputs": [],
   "source": [
    "def isiterator(x):\n",
    "    try:\n",
    "        return x is iter(x)\n",
    "    except:\n",
    "        return False"
   ]
  },
  {
   "cell_type": "code",
   "execution_count": 81,
   "metadata": {},
   "outputs": [
    {
     "name": "stdout",
     "output_type": "stream",
     "text": [
      "Entering counter generator\n",
      "0\n",
      "1\n",
      "2\n",
      "3\n"
     ]
    }
   ],
   "source": [
    "for item in counter(0, 4): \n",
    "    print(item)"
   ]
  },
  {
   "cell_type": "code",
   "execution_count": 82,
   "metadata": {},
   "outputs": [
    {
     "name": "stdout",
     "output_type": "stream",
     "text": [
      "Entering counter generator\n"
     ]
    },
    {
     "ename": "StopIteration",
     "evalue": "",
     "output_type": "error",
     "traceback": [
      "\u001b[0;31m---------------------------------------------------------------------------\u001b[0m",
      "\u001b[0;31mStopIteration\u001b[0m                             Traceback (most recent call last)",
      "\u001b[0;32m<ipython-input-82-b1b414e633b5>\u001b[0m in \u001b[0;36m<module>\u001b[0;34m\u001b[0m\n\u001b[1;32m      1\u001b[0m \u001b[0mx\u001b[0m \u001b[0;34m=\u001b[0m \u001b[0mcounter\u001b[0m\u001b[0;34m(\u001b[0m\u001b[0;36m0\u001b[0m\u001b[0;34m,\u001b[0m \u001b[0;36m4\u001b[0m\u001b[0;34m)\u001b[0m\u001b[0;34m\u001b[0m\u001b[0;34m\u001b[0m\u001b[0m\n\u001b[1;32m      2\u001b[0m \u001b[0;32mwhile\u001b[0m \u001b[0;32mTrue\u001b[0m\u001b[0;34m:\u001b[0m\u001b[0;34m\u001b[0m\u001b[0;34m\u001b[0m\u001b[0m\n\u001b[0;32m----> 3\u001b[0;31m     \u001b[0mnext\u001b[0m\u001b[0;34m(\u001b[0m\u001b[0mx\u001b[0m\u001b[0;34m)\u001b[0m\u001b[0;34m\u001b[0m\u001b[0;34m\u001b[0m\u001b[0m\n\u001b[0m",
      "\u001b[0;31mStopIteration\u001b[0m: "
     ]
    }
   ],
   "source": [
    "x = counter(0, 4)\n",
    "while True:\n",
    "    next(x)"
   ]
  },
  {
   "cell_type": "markdown",
   "metadata": {},
   "source": [
    "We can also define our own iterator classes (though generators are usually more readable):"
   ]
  },
  {
   "cell_type": "code",
   "execution_count": 83,
   "metadata": {},
   "outputs": [],
   "source": [
    "class Counter:\n",
    "    \"\"\"This is the 'iterable' object\"\"\"\n",
    "    def __init__(self, start, end):\n",
    "        self._start = start\n",
    "        self._end = end\n",
    "        \n",
    "    def __iter__(self):\n",
    "        return CounterIterator(self._start, self._end)\n",
    "    \n",
    "class CounterIterator:\n",
    "    \"\"\"This is the iterator\"\"\"\n",
    "    def __init__(self, start, end):\n",
    "        self._cur = start\n",
    "        self._end = end\n",
    "        \n",
    "    def __iter__(self):\n",
    "        return self\n",
    "    \n",
    "    def __next__(self):\n",
    "        if self._cur >= self._end:\n",
    "            raise StopIteration\n",
    "        result = self._cur\n",
    "        self._cur += 1\n",
    "        return result\n"
   ]
  },
  {
   "cell_type": "code",
   "execution_count": 84,
   "metadata": {},
   "outputs": [
    {
     "name": "stdout",
     "output_type": "stream",
     "text": [
      "[0, 1, 2, 3, 4]\n"
     ]
    }
   ],
   "source": [
    "ctr = Counter(0, 5)\n",
    "print(list(ctr))"
   ]
  },
  {
   "cell_type": "code",
   "execution_count": 85,
   "metadata": {},
   "outputs": [],
   "source": [
    "class Counter:\n",
    "    \n",
    "    def __init__(self, start, end):\n",
    "        self._start = start\n",
    "        self._end = end\n",
    "\n",
    "    def __iter__(self):\n",
    "        \"\"\"iter(Counter(...)) returns a generator (which is also an iterator)\"\"\"\n",
    "        cur = self._start\n",
    "        while cur < self._end:\n",
    "            yield cur\n",
    "            cur += 1"
   ]
  },
  {
   "cell_type": "code",
   "execution_count": 86,
   "metadata": {},
   "outputs": [
    {
     "name": "stdout",
     "output_type": "stream",
     "text": [
      "[0, 1, 2, 3, 4]\n"
     ]
    }
   ],
   "source": [
    "ctr = Counter(0, 5)\n",
    "print(list(ctr))"
   ]
  },
  {
   "cell_type": "code",
   "execution_count": 87,
   "metadata": {},
   "outputs": [],
   "source": [
    "class TreeNode:\n",
    "    def __init__(self, value, left=None, right=None):\n",
    "        self.value = value\n",
    "        self.left = left\n",
    "        self.right = right\n",
    "        \n",
    "    def __repr__(self):\n",
    "        return f'<TreeNode {self.value}>'\n",
    "    \n",
    "    def preOrder(self):\n",
    "        yield self\n",
    "        if self.left:\n",
    "            yield from self.left.preOrder()\n",
    "        if self.right:\n",
    "            yield from self.right.preOrder()\n",
    "\n",
    "    def inOrder(self):\n",
    "        if self.left:\n",
    "            yield from self.left.inOrder()\n",
    "        yield self\n",
    "        if self.right:\n",
    "            yield from self.right.inOrder()\n",
    "\n",
    "    def postOrder(self):\n",
    "        if self.left:\n",
    "            yield from self.left.postOrder()\n",
    "        if self.right:\n",
    "            yield from self.right.postOrder()\n",
    "        yield self   \n"
   ]
  },
  {
   "cell_type": "code",
   "execution_count": 88,
   "metadata": {},
   "outputs": [
    {
     "name": "stdout",
     "output_type": "stream",
     "text": [
      "[<TreeNode root>, <TreeNode left>, <TreeNode left-1>, <TreeNode right>]\n",
      "[<TreeNode left-1>, <TreeNode left>, <TreeNode root>, <TreeNode right>]\n",
      "[<TreeNode left-1>, <TreeNode left>, <TreeNode right>, <TreeNode root>]\n"
     ]
    }
   ],
   "source": [
    "tree = TreeNode('root', \n",
    "                TreeNode('left',\n",
    "                         TreeNode('left-1'),\n",
    "                        ), \n",
    "                TreeNode('right')\n",
    "               )\n",
    "print(list(tree.preOrder()))\n",
    "print(list(tree.inOrder()))\n",
    "print(list(tree.postOrder()))"
   ]
  },
  {
   "cell_type": "markdown",
   "metadata": {},
   "source": [
    "# List, set and dict comprehensions"
   ]
  },
  {
   "cell_type": "code",
   "execution_count": 89,
   "metadata": {},
   "outputs": [
    {
     "data": {
      "text/plain": [
       "[0, 2, 4, 6]"
      ]
     },
     "execution_count": 89,
     "metadata": {},
     "output_type": "execute_result"
    }
   ],
   "source": [
    "[2*x for x in range(4)]"
   ]
  },
  {
   "cell_type": "code",
   "execution_count": 90,
   "metadata": {},
   "outputs": [
    {
     "data": {
      "text/plain": [
       "{0, 2, 4, 6}"
      ]
     },
     "execution_count": 90,
     "metadata": {},
     "output_type": "execute_result"
    }
   ],
   "source": [
    "{2*x for x in range(4)}"
   ]
  },
  {
   "cell_type": "code",
   "execution_count": 91,
   "metadata": {},
   "outputs": [
    {
     "data": {
      "text/plain": [
       "{0: 'y', 2: 'y', 4: 'y', 6: 'y'}"
      ]
     },
     "execution_count": 91,
     "metadata": {},
     "output_type": "execute_result"
    }
   ],
   "source": [
    "{2*x:'y' for x in range(4)}"
   ]
  },
  {
   "cell_type": "markdown",
   "metadata": {},
   "source": [
    "## Generator expressions"
   ]
  },
  {
   "cell_type": "code",
   "execution_count": 92,
   "metadata": {},
   "outputs": [
    {
     "data": {
      "text/plain": [
       "<generator object <genexpr> at 0x7f85d01842e0>"
      ]
     },
     "execution_count": 92,
     "metadata": {},
     "output_type": "execute_result"
    }
   ],
   "source": [
    "(x for x in range(10) if x % 2 == 0)"
   ]
  },
  {
   "cell_type": "code",
   "execution_count": 93,
   "metadata": {},
   "outputs": [],
   "source": [
    "gen = ( x \n",
    "       for x in range(10) \n",
    "       if x % 2 == 0 \n",
    "      )"
   ]
  },
  {
   "cell_type": "code",
   "execution_count": 94,
   "metadata": {},
   "outputs": [
    {
     "data": {
      "text/plain": [
       "0"
      ]
     },
     "execution_count": 94,
     "metadata": {},
     "output_type": "execute_result"
    }
   ],
   "source": [
    "next(gen)"
   ]
  },
  {
   "cell_type": "code",
   "execution_count": 95,
   "metadata": {},
   "outputs": [
    {
     "data": {
      "text/plain": [
       "2"
      ]
     },
     "execution_count": 95,
     "metadata": {},
     "output_type": "execute_result"
    }
   ],
   "source": [
    "next(gen)"
   ]
  },
  {
   "cell_type": "code",
   "execution_count": 96,
   "metadata": {},
   "outputs": [
    {
     "data": {
      "text/plain": [
       "[4, 6, 8]"
      ]
     },
     "execution_count": 96,
     "metadata": {},
     "output_type": "execute_result"
    }
   ],
   "source": [
    "list(gen)"
   ]
  },
  {
   "cell_type": "code",
   "execution_count": 99,
   "metadata": {},
   "outputs": [
    {
     "data": {
      "text/plain": [
       "'1-4-7-10-13-16-19'"
      ]
     },
     "execution_count": 99,
     "metadata": {},
     "output_type": "execute_result"
    }
   ],
   "source": [
    "'-'.join(str(x) for x in range(1, 20, 3))"
   ]
  },
  {
   "cell_type": "code",
   "execution_count": 100,
   "metadata": {},
   "outputs": [
    {
     "data": {
      "text/plain": [
       "[0, 4, 8, 12, 16]"
      ]
     },
     "execution_count": 100,
     "metadata": {},
     "output_type": "execute_result"
    }
   ],
   "source": [
    "gen = range(10)\n",
    "gen = ( x for x in gen if x % 2 == 0 )  # filter\n",
    "gen = ( x * 2 for x in gen )            # map\n",
    "list(gen)"
   ]
  },
  {
   "cell_type": "code",
   "execution_count": 101,
   "metadata": {},
   "outputs": [
    {
     "data": {
      "text/plain": [
       "[1, 2, 4, 8, 16, 32, 64, 128, 256, 512]"
      ]
     },
     "execution_count": 101,
     "metadata": {},
     "output_type": "execute_result"
    }
   ],
   "source": [
    "pow2 = [2 ** i for i in range(10)]\n",
    "pow2"
   ]
  },
  {
   "cell_type": "code",
   "execution_count": 102,
   "metadata": {},
   "outputs": [
    {
     "data": {
      "text/plain": [
       "[1, 2, 4, 8, 16, 32, 64, 128, 256, 512]"
      ]
     },
     "execution_count": 102,
     "metadata": {},
     "output_type": "execute_result"
    }
   ],
   "source": [
    "pow2 = list(2 ** i for i in range(10))\n",
    "pow2"
   ]
  },
  {
   "cell_type": "code",
   "execution_count": 103,
   "metadata": {},
   "outputs": [
    {
     "data": {
      "text/plain": [
       "(1, 2, 4, 8, 16, 32, 64, 128, 256, 512)"
      ]
     },
     "execution_count": 103,
     "metadata": {},
     "output_type": "execute_result"
    }
   ],
   "source": [
    "pow2 = tuple(2 ** i for i in range(10))\n",
    "pow2\n"
   ]
  },
  {
   "cell_type": "markdown",
   "metadata": {},
   "source": [
    "## Builtin iterator functions"
   ]
  },
  {
   "cell_type": "code",
   "execution_count": 104,
   "metadata": {},
   "outputs": [
    {
     "data": {
      "text/plain": [
       "['a', 'b', 'c', 'd', 'e', 'f', 'g', 'h', 'i', 'j']"
      ]
     },
     "execution_count": 104,
     "metadata": {},
     "output_type": "execute_result"
    }
   ],
   "source": [
    "lst = list('abcdefghijklmnopqrstuvwxyz')\n",
    "lst[:10]"
   ]
  },
  {
   "cell_type": "code",
   "execution_count": 105,
   "metadata": {},
   "outputs": [
    {
     "name": "stdout",
     "output_type": "stream",
     "text": [
      "0 a\n",
      "1 b\n",
      "2 c\n",
      "3 d\n",
      "4 e\n",
      "5 f\n",
      "6 g\n",
      "7 h\n",
      "8 i\n",
      "9 j\n"
     ]
    }
   ],
   "source": [
    "for position, value in enumerate(lst[:10]):\n",
    "    print(position, value)"
   ]
  },
  {
   "cell_type": "code",
   "execution_count": 106,
   "metadata": {},
   "outputs": [],
   "source": [
    "stooges = 'Larry Moe Curley'.split()"
   ]
  },
  {
   "cell_type": "code",
   "execution_count": 107,
   "metadata": {},
   "outputs": [
    {
     "name": "stdout",
     "output_type": "stream",
     "text": [
      "0 Larry\n",
      "1 Moe\n",
      "2 Curley\n"
     ]
    }
   ],
   "source": [
    "for i in range(len(stooges)):\n",
    "    print(i, stooges[i])"
   ]
  },
  {
   "cell_type": "code",
   "execution_count": 108,
   "metadata": {},
   "outputs": [
    {
     "name": "stdout",
     "output_type": "stream",
     "text": [
      "0 Larry\n",
      "1 Moe\n",
      "2 Curley\n"
     ]
    }
   ],
   "source": [
    "for i, stooge in enumerate(stooges):\n",
    "    print(i, stooge)"
   ]
  },
  {
   "cell_type": "code",
   "execution_count": 109,
   "metadata": {},
   "outputs": [
    {
     "name": "stdout",
     "output_type": "stream",
     "text": [
      "a f - b g - c h - d i - e j - f k - g l - h m - i n - j o - k p - l q - m r - n s - o t - p u - q v - r w - s x - t y - u z - "
     ]
    }
   ],
   "source": [
    "lst1 = lst[5:]\n",
    "for x, y in zip(lst, lst1):\n",
    "    print(x, y, end=' - ')"
   ]
  },
  {
   "cell_type": "code",
   "execution_count": 110,
   "metadata": {},
   "outputs": [
    {
     "name": "stdout",
     "output_type": "stream",
     "text": [
      "0 a f - 1 b g - 2 c h - 3 d i - 4 e j - 5 f k - 6 g l - 7 h m - 8 i n - 9 j o - 10 k p - 11 l q - 12 m r - 13 n s - 14 o t - 15 p u - 16 q v - 17 r w - 18 s x - 19 t y - 20 u z - "
     ]
    }
   ],
   "source": [
    "lst1 = lst[5:]\n",
    "for i, (x, y) in enumerate(zip(lst, lst1)):\n",
    "    print(i, x, y, end=' - ')"
   ]
  },
  {
   "cell_type": "code",
   "execution_count": 111,
   "metadata": {},
   "outputs": [
    {
     "name": "stdout",
     "output_type": "stream",
     "text": [
      "a f f - b g g - c h h - d i i - e j j - f k k - g l l - h m m - i n n - j o o - k p p - l q q - m r r - n s s - o t t - p u u - q v v - r w w - s x x - t y y - u z z - "
     ]
    }
   ],
   "source": [
    "lst1 = lst[5:]\n",
    "for x, y, z in zip(lst, lst1, lst1):\n",
    "    print(x, y, z, end=' - ')"
   ]
  },
  {
   "cell_type": "markdown",
   "metadata": {},
   "source": [
    "## The `itertools` module\n",
    "\n",
    "`itertools` provides a number of \"higher-order iterators\" that allow you to combine iterators in interesting ways."
   ]
  },
  {
   "cell_type": "code",
   "execution_count": 112,
   "metadata": {},
   "outputs": [],
   "source": [
    "import itertools\n",
    "itertools?"
   ]
  },
  {
   "cell_type": "code",
   "execution_count": 113,
   "metadata": {},
   "outputs": [],
   "source": [
    "ranks = '2 3 4 5 6 7 8 9 10 J Q K A'.split()\n",
    "suits = 'diamonds hearts spades clubs'.split()"
   ]
  },
  {
   "cell_type": "code",
   "execution_count": 114,
   "metadata": {},
   "outputs": [
    {
     "data": {
      "text/plain": [
       "['2', '3', '4', '5', '6', '7', '8', '9', '10', 'J', 'Q', 'K', 'A']"
      ]
     },
     "execution_count": 114,
     "metadata": {},
     "output_type": "execute_result"
    }
   ],
   "source": [
    "ranks"
   ]
  },
  {
   "cell_type": "code",
   "execution_count": 115,
   "metadata": {
    "scrolled": true
   },
   "outputs": [
    {
     "data": {
      "text/plain": [
       "[('diamonds', '2'),\n",
       " ('diamonds', '3'),\n",
       " ('diamonds', '4'),\n",
       " ('diamonds', '5'),\n",
       " ('diamonds', '6'),\n",
       " ('diamonds', '7'),\n",
       " ('diamonds', '8'),\n",
       " ('diamonds', '9'),\n",
       " ('diamonds', '10'),\n",
       " ('diamonds', 'J'),\n",
       " ('diamonds', 'Q'),\n",
       " ('diamonds', 'K'),\n",
       " ('diamonds', 'A'),\n",
       " ('hearts', '2'),\n",
       " ('hearts', '3'),\n",
       " ('hearts', '4'),\n",
       " ('hearts', '5'),\n",
       " ('hearts', '6'),\n",
       " ('hearts', '7'),\n",
       " ('hearts', '8'),\n",
       " ('hearts', '9'),\n",
       " ('hearts', '10'),\n",
       " ('hearts', 'J'),\n",
       " ('hearts', 'Q'),\n",
       " ('hearts', 'K'),\n",
       " ('hearts', 'A'),\n",
       " ('spades', '2'),\n",
       " ('spades', '3'),\n",
       " ('spades', '4'),\n",
       " ('spades', '5'),\n",
       " ('spades', '6'),\n",
       " ('spades', '7'),\n",
       " ('spades', '8'),\n",
       " ('spades', '9'),\n",
       " ('spades', '10'),\n",
       " ('spades', 'J'),\n",
       " ('spades', 'Q'),\n",
       " ('spades', 'K'),\n",
       " ('spades', 'A'),\n",
       " ('clubs', '2'),\n",
       " ('clubs', '3'),\n",
       " ('clubs', '4'),\n",
       " ('clubs', '5'),\n",
       " ('clubs', '6'),\n",
       " ('clubs', '7'),\n",
       " ('clubs', '8'),\n",
       " ('clubs', '9'),\n",
       " ('clubs', '10'),\n",
       " ('clubs', 'J'),\n",
       " ('clubs', 'Q'),\n",
       " ('clubs', 'K'),\n",
       " ('clubs', 'A')]"
      ]
     },
     "execution_count": 115,
     "metadata": {},
     "output_type": "execute_result"
    }
   ],
   "source": [
    "list(itertools.product(suits, ranks))"
   ]
  },
  {
   "cell_type": "code",
   "execution_count": 116,
   "metadata": {
    "scrolled": true
   },
   "outputs": [
    {
     "data": {
      "text/plain": [
       "[('diamonds', '2'),\n",
       " ('diamonds', '3'),\n",
       " ('diamonds', '4'),\n",
       " ('diamonds', '5'),\n",
       " ('diamonds', '6'),\n",
       " ('diamonds', '7'),\n",
       " ('diamonds', '8'),\n",
       " ('diamonds', '9'),\n",
       " ('diamonds', '10'),\n",
       " ('diamonds', 'J'),\n",
       " ('diamonds', 'Q'),\n",
       " ('diamonds', 'K'),\n",
       " ('diamonds', 'A'),\n",
       " ('hearts', '2'),\n",
       " ('hearts', '3'),\n",
       " ('hearts', '4'),\n",
       " ('hearts', '5'),\n",
       " ('hearts', '6'),\n",
       " ('hearts', '7'),\n",
       " ('hearts', '8'),\n",
       " ('hearts', '9'),\n",
       " ('hearts', '10'),\n",
       " ('hearts', 'J'),\n",
       " ('hearts', 'Q'),\n",
       " ('hearts', 'K'),\n",
       " ('hearts', 'A'),\n",
       " ('spades', '2'),\n",
       " ('spades', '3'),\n",
       " ('spades', '4'),\n",
       " ('spades', '5'),\n",
       " ('spades', '6'),\n",
       " ('spades', '7'),\n",
       " ('spades', '8'),\n",
       " ('spades', '9'),\n",
       " ('spades', '10'),\n",
       " ('spades', 'J'),\n",
       " ('spades', 'Q'),\n",
       " ('spades', 'K'),\n",
       " ('spades', 'A'),\n",
       " ('clubs', '2'),\n",
       " ('clubs', '3'),\n",
       " ('clubs', '4'),\n",
       " ('clubs', '5'),\n",
       " ('clubs', '6'),\n",
       " ('clubs', '7'),\n",
       " ('clubs', '8'),\n",
       " ('clubs', '9'),\n",
       " ('clubs', '10'),\n",
       " ('clubs', 'J'),\n",
       " ('clubs', 'Q'),\n",
       " ('clubs', 'K'),\n",
       " ('clubs', 'A')]"
      ]
     },
     "execution_count": 116,
     "metadata": {},
     "output_type": "execute_result"
    }
   ],
   "source": [
    "dimensions = [suits, ranks]\n",
    "list(itertools.product(*dimensions))"
   ]
  },
  {
   "cell_type": "code",
   "execution_count": 117,
   "metadata": {},
   "outputs": [],
   "source": [
    "from itertools import chain, count, groupby"
   ]
  },
  {
   "cell_type": "code",
   "execution_count": 118,
   "metadata": {},
   "outputs": [
    {
     "data": {
      "text/plain": [
       "[0, 1, 2, 3, 4, 5, 6, 7, 8, 9, 'a', 'b', 'c', 'd', 'e', 'f']"
      ]
     },
     "execution_count": 118,
     "metadata": {},
     "output_type": "execute_result"
    }
   ],
   "source": [
    "# chain links multiple iterators end-to-end\n",
    "xs = range(10)\n",
    "ys = 'abcdef'\n",
    "\n",
    "list(chain(xs, ys))"
   ]
  },
  {
   "cell_type": "code",
   "execution_count": 119,
   "metadata": {},
   "outputs": [],
   "source": [
    "def mycat(filenames):\n",
    "    files = (open(fn) for fn in filenames)\n",
    "    return chain.from_iterable(files)\n"
   ]
  },
  {
   "cell_type": "code",
   "execution_count": 120,
   "metadata": {},
   "outputs": [
    {
     "name": "stdout",
     "output_type": "stream",
     "text": [
      "\n",
      "\n",
      "The Tragedy of Hamlet, Prince of Denmark Shakespeare homepage |\n",
      "Hamlet | Entire play ACT I\n",
      "\n",
      "SCENE I. Elsinore. A platform before the castle.\n",
      "\n",
      "FRANCISCO at his post. Enter to him BERNARDO BERNARDO Who's there?\n",
      "FRANCISCO Nay, answer me: stand, and unfold yourself.  BERNARDO\n",
      "Long live the king!  FRANCISCO Bernardo?  BERNARDO He.  FRANCISCO\n",
      "You come most carefully upon your hour.  BERNARDO 'Tis now struck\n",
      "twelve; get thee to bed, Francisco.  FRANCISCO For this relief much\n",
      "thanks: 'tis bitter cold, And I am sick at heart.  BERNARDO Have\n",
      "you had quiet guard?  FRANCISCO Not a mouse stirring.  BERNARDO\n",
      "Well, good night.  If you do meet Horatio and Marcellus, The rivals\n",
      "of my watch, bid them make haste.  FRANCISCO I think I hear them.\n",
      "Stand, ho! Who's there?  Enter HORATIO and MARCELLUS\n",
      "\n",
      "HORATIO Friends to this ground.  MARCELLUS And liegemen to the Dane.\n",
      "FRANCISCO Give you good night.  MARCELLUS O, farewell, honest\n",
      "soldier: Who hath relieved you?  FRANCISCO Bernardo has my place.\n",
      "Give you good night.  Exit\n",
      "\n",
      "MARCELLUS Holla! Bernardo!  BERNARDO Say, What, is Horatio there?\n",
      "HORATIO A piece of him.  BERNARDO Welcome, Horatio: welcome, good\n",
      "Marcellus.  MARCELLUS What, has this thing appear'd again to-night?\n",
      "BERNARDO I have seen nothing.  MARCELLUS Horatio says 'tis but our\n",
      "fantasy, And will not let belief take hold of him Touching this\n",
      "dreaded sight, twice seen of us: Therefore I have entreated him\n",
      "along With us to watch the minutes of this night; That if again\n",
      "this apparition come, He may approve our eyes and speak to it.\n",
      "HORATIO Tush, tush, 'twill not appear.  BERNARDO Sit down awhile;\n",
      "And let us once again assail your ears, That are so fortified against\n",
      "our story What we have two nights seen.  HORATIO Well, sit we down,\n",
      "And let us hear Bernardo speak of this.  BERNARDO Last night of\n",
      "all, When yond same star that's westward from the pole Had made his\n",
      "course to illume that part of heaven Where now it burns, Marcellus\n",
      "and myself, The bell then beating one,-- Enter Ghost\n",
      "\n",
      "MARCELLUS Peace, break thee off; look, where it comes again!  BERNARDO\n",
      "In the same figure, like the king that's dead.  MARCELLUS Thou art\n",
      "a scholar; speak to it, Horatio.  BERNARDO Looks it not like the\n",
      "king? mark it, Horatio.  HORATIO Most like: it harrows me with fear\n",
      "and wonder.  BERNARDO It would be spoke to.  MARCELLUS Question it,\n",
      "Horatio.  HORATIO What art thou that usurp'st this time of night,\n",
      "Together with that fair and warlike form In which the majesty of\n",
      "buried Denmark Did sometimes march? by heaven I charge thee, speak!\n",
      "MARCELLUS It is offended.  BERNARDO See, it stalks away!  HORATIO\n",
      "Stay! speak, speak! I charge thee, speak!  Exit Ghost\n",
      "\n",
      "MARCELLUS 'Tis gone, and will not answer.  BERNARDO How now, Horatio!\n",
      "you tremble and look pale: Is not this something more than fantasy?\n",
      "What think you on't?  HORATIO Before my God, I might not this believe\n",
      "Without the sensible and true avouch Of mine own eyes.  MARCELLUS\n",
      "Is it not like the king?  HORATIO As thou art to thyself: Such was\n",
      "the very armour he had on When he the ambitious Norway combated;\n",
      "So frown'd he once, when, in an angry parle, He smote the sledded\n",
      "Polacks on the ice.  'Tis strange.  MARCELLUS Thus twice before,\n",
      "and jump at this dead hour, With martial stalk hath he gone by our\n",
      "watch.  HORATIO In what particular thought to work I know not; But\n",
      "in the gross and scope of my opinion, This bodes some strange\n",
      "eruption to our state.  MARCELLUS Good now, sit down, and tell me,\n",
      "he that knows, Why this same strict and most observant watch So\n",
      "nightly toils the subject of the land, And why such daily cast of\n",
      "brazen cannon, And foreign mart for implements of war; Why such\n",
      "impress of shipwrights, whose sore task Does not divide the Sunday\n",
      "from the week; What might be toward, that this sweaty haste Doth\n",
      "make the night joint-labourer with the day: Who is't that can inform\n",
      "me?  HORATIO That can I; At least, the whisper goes so. Our last\n",
      "king, Whose image even but now appear'd to us, Was, as you know,\n",
      "by Fortinbras of Norway, Thereto prick'd on by a most emulate pride,\n",
      "Dared to the combat; in which our valiant Hamlet-- For so this side\n",
      "of our known world esteem'd him-- Did slay this Fortinbras; who by\n",
      "a seal'd compact, Well ratified by law and heraldry, Did forfeit,\n",
      "with his life, all those his lands Which he stood seized of, to the\n",
      "conqueror: Against the which, a moiety competent Was gaged by our\n",
      "king; which had return'd To the inheritance of Fortinbras, Had he\n",
      "been vanquisher; as, by the same covenant, And carriage of the\n",
      "article design'd, His fell to Hamlet. Now, sir, young Fortinbras,\n",
      "Of unimproved mettle hot and full, Hath in the skirts of Norway\n",
      "here and there Shark'd up a list of lawless resolutes, For food and\n",
      "diet, to some enterprise That hath a stomach in't; which is no\n",
      "other-- As it doth well appear unto our state-- But to recover of\n",
      "us, by strong hand And terms compulsatory, those foresaid lands So\n",
      "by his father lost: and this, I take it, Is the main motive of our\n",
      "preparations, The source of this our watch and the chief head Of\n",
      "this post-haste and romage in the land.  BERNARDO I think it be no\n",
      "other but e'en so: Well may it sort that this portentous figure\n",
      "Comes armed through our watch; so like the king That was and is the\n",
      "question of these wars.  HORATIO A mote it is to trouble the mind's\n",
      "eye.  In the most high and palmy state of Rome, A little ere the\n",
      "mightiest Julius fell, The graves stood tenantless and the sheeted\n",
      "dead Did squeak and gibber in the Roman streets: As stars with\n",
      "trains of fire and dews of blood, Disasters in the sun; and the\n",
      "moist star Upon whose influence Neptune's empire stands Was sick\n",
      "almost to doomsday with eclipse: And even the like precurse of\n",
      "fierce events, As harbingers preceding still the fates And prologue\n",
      "to the omen coming on, Have heaven and earth together demonstrated\n",
      "Unto our climatures and countrymen.-- But soft, behold! lo, where\n",
      "it comes again!  Re-enter Ghost\n",
      "\n",
      "I'll cross it, though it blast me. Stay, illusion!  If thou hast\n",
      "any sound, or use of voice, Speak to me: If there be any good thing\n",
      "to be done, That may to thee do ease and grace to me, Speak to me:\n",
      "Cock crows\n",
      "\n",
      "If thou art privy to thy country's fate, Which, happily, foreknowing\n",
      "may avoid, O, speak!  Or if thou hast uphoarded in thy life Extorted\n",
      "treasure in the womb of earth, For which, they say, you spirits oft\n",
      "walk in death, Speak of it: stay, and speak! Stop it, Marcellus.\n",
      "MARCELLUS Shall I strike at it with my partisan?  HORATIO Do, if\n",
      "it will not stand.  BERNARDO 'Tis here!  HORATIO 'Tis here!  MARCELLUS\n",
      "'Tis gone!  Exit Ghost\n",
      "\n",
      "We do it wrong, being so majestical, To offer it the show of violence;\n",
      "For it is, as the air, invulnerable, And our vain blows malicious\n",
      "mockery.  BERNARDO It was about to speak, when the cock crew.\n",
      "HORATIO And then it started like a guilty thing Upon a fearful\n",
      "summons. I have heard, The cock, that is the trumpet to the morn,\n",
      "Doth with his lofty and shrill-sounding throat Awake the god of\n",
      "day; and, at his warning, Whether in sea or fire, in earth or air,\n",
      "The extravagant and erring spirit hies To his confine: and of the\n",
      "truth herein This present object made probation.  MARCELLUS It faded\n",
      "on the crowing of the cock.  Some say that ever 'gainst that season\n",
      "comes Wherein our Saviour's birth is celebrated, The bird of dawning\n",
      "singeth all night long: And then, they say, no spirit dares stir\n",
      "abroad; The nights are wholesome; then no planets strike, No fairy\n",
      "takes, nor witch hath power to charm, So hallow'd and so gracious\n",
      "is the time.  HORATIO So have I heard and do in part believe it.\n",
      "But, look, the morn, in russet mantle clad, Walks o'er the dew of\n",
      "yon high eastward hill: Break we our watch up; and by my advice,\n",
      "Let us impart what we have seen to-night Unto young Hamlet; for,\n",
      "upon my life, This spirit, dumb to us, will speak to him.  Do you\n",
      "consent we shall acquaint him with it, As needful in our loves,\n",
      "fitting our duty?  MARCELLUS Let's do't, I pray; and I this morning\n",
      "know Where we shall find him most conveniently.  Exeunt\n",
      "\n",
      "SCENE II. A room of state in the castle.\n",
      "\n",
      "Enter KING CLAUDIUS, QUEEN GERTRUDE, HAMLET, POLONIUS, LAERTES,\n",
      "VOLTIMAND, CORNELIUS, Lords, and Attendants KING CLAUDIUS Though\n",
      "yet of Hamlet our dear brother's death The memory be green, and\n",
      "that it us befitted To bear our hearts in grief and our whole kingdom\n",
      "To be contracted in one brow of woe, Yet so far hath discretion\n",
      "fought with nature That we with wisest sorrow think on him, Together\n",
      "with remembrance of ourselves.  Therefore our sometime sister, now\n",
      "our queen, The imperial jointress to this warlike state, Have we,\n",
      "as 'twere with a defeated joy,-- With an auspicious and a dropping\n",
      "eye, With mirth in funeral and with dirge in marriage, In equal\n",
      "scale weighing delight and dole,-- Taken to wife: nor have we herein\n",
      "barr'd Your better wisdoms, which have freely gone With this affair\n",
      "along. For all, our thanks.  Now follows, that you know, young\n",
      "Fortinbras, Holding a weak supposal of our worth, Or thinking by\n",
      "our late dear brother's death Our state to be disjoint and out of\n",
      "frame, Colleagued with the dream of his advantage, He hath not\n",
      "fail'd to pester us with message, Importing the surrender of those\n",
      "lands Lost by his father, with all bonds of law, To our most valiant\n",
      "brother. So much for him.  Now for ourself and for this time of\n",
      "meeting: Thus much the business is: we have here writ To Norway,\n",
      "uncle of young Fortinbras,-- Who, impotent and bed-rid, scarcely\n",
      "hears Of this his nephew's purpose,--to suppress His further gait\n",
      "herein; in that the levies, The lists and full proportions, are all\n",
      "made Out of his subject: and we here dispatch You, good Cornelius,\n",
      "and you, Voltimand, For bearers of this greeting to old Norway;\n",
      "Giving to you no further personal power To business with the king,\n",
      "more than the scope Of these delated articles allow.  Farewell, and\n",
      "let your haste commend your duty.  CORNELIUS VOLTIMAND In that and\n",
      "all things will we show our duty.  KING CLAUDIUS We doubt it nothing:\n",
      "heartily farewell.  Exeunt VOLTIMAND and CORNELIUS\n",
      "\n",
      "And now, Laertes, what's the news with you?  You told us of some\n",
      "suit; what is't, Laertes?  You cannot speak of reason to the Dane,\n",
      "And loose your voice: what wouldst thou beg, Laertes, That shall\n",
      "not be my offer, not thy asking?  The head is not more native to\n",
      "the heart, The hand more instrumental to the mouth, Than is the\n",
      "throne of Denmark to thy father.  What wouldst thou have, Laertes?\n",
      "LAERTES My dread lord, Your leave and favour to return to France;\n",
      "From whence though willingly I came to Denmark, To show my duty in\n",
      "your coronation, Yet now, I must confess, that duty done, My thoughts\n",
      "and wishes bend again toward France And bow them to your gracious\n",
      "leave and pardon.  KING CLAUDIUS Have you your father's leave? What\n",
      "says Polonius?  LORD POLONIUS He hath, my lord, wrung from me my\n",
      "slow leave By laboursome petition, and at last Upon his will I\n",
      "seal'd my hard consent: I do beseech you, give him leave to go.\n",
      "KING CLAUDIUS Take thy fair hour, Laertes; time be thine, And thy\n",
      "best graces spend it at thy will!  But now, my cousin Hamlet, and\n",
      "my son,-- HAMLET [Aside] A little more than kin, and less than kind.\n",
      "KING CLAUDIUS How is it that the clouds still hang on you?  HAMLET\n",
      "Not so, my lord; I am too much i' the sun.  QUEEN GERTRUDE Good\n",
      "Hamlet, cast thy nighted colour off, And let thine eye look like a\n",
      "friend on Denmark.  Do not for ever with thy vailed lids Seek for\n",
      "thy noble father in the dust: Thou know'st 'tis common; all that\n",
      "lives must die, Passing through nature to eternity.  HAMLET Ay,\n",
      "madam, it is common.  QUEEN GERTRUDE If it be, Why seems it so\n",
      "particular with thee?  HAMLET Seems, madam! nay it is; I know not\n",
      "'seems.' 'Tis not alone my inky cloak, good mother, Nor customary\n",
      "suits of solemn black, Nor windy suspiration of forced breath, No,\n",
      "nor the fruitful river in the eye, Nor the dejected 'havior of the\n",
      "visage, Together with all forms, moods, shapes of grief, That can\n",
      "denote me truly: these indeed seem, For they are actions that a man\n",
      "might play: But I have that within which passeth show; These but\n",
      "the trappings and the suits of woe.  KING CLAUDIUS 'Tis sweet and\n",
      "commendable in your nature, Hamlet, To give these mourning duties\n",
      "to your father: But, you must know, your father lost a father; That\n",
      "father lost, lost his, and the survivor bound In filial obligation\n",
      "for some term To do obsequious sorrow: but to persever In obstinate\n",
      "condolement is a course Of impious stubbornness; 'tis unmanly grief;\n",
      "It shows a will most incorrect to heaven, A heart unfortified, a\n",
      "mind impatient, An understanding simple and unschool'd: For what\n",
      "we know must be and is as common As any the most vulgar thing to\n",
      "sense, Why should we in our peevish opposition Take it to heart?\n",
      "Fie! 'tis a fault to heaven, A fault against the dead, a fault to\n",
      "nature, To reason most absurd: whose common theme Is death of\n",
      "fathers, and who still hath cried, From the first corse till he\n",
      "that died to-day, 'This must be so.' We pray you, throw to earth\n",
      "This unprevailing woe, and think of us As of a father: for let the\n",
      "world take note, You are the most immediate to our throne; And with\n",
      "no less nobility of love Than that which dearest father bears his\n",
      "son, Do I impart toward you. For your intent In going back to school\n",
      "in Wittenberg, It is most retrograde to our desire: And we beseech\n",
      "you, bend you to remain Here, in the cheer and comfort of our eye,\n",
      "Our chiefest courtier, cousin, and our son.  QUEEN GERTRUDE Let not\n",
      "thy mother lose her prayers, Hamlet: I pray thee, stay with us; go\n",
      "not to Wittenberg.  HAMLET I shall in all my best obey you, madam.\n",
      "KING CLAUDIUS Why, 'tis a loving and a fair reply: Be as ourself\n",
      "in Denmark. Madam, come; This gentle and unforced accord of Hamlet\n",
      "Sits smiling to my heart: in grace whereof, No jocund health that\n",
      "Denmark drinks to-day, But the great cannon to the clouds shall\n",
      "tell, And the king's rouse the heavens all bruit again, Re-speaking\n",
      "earthly thunder. Come away.  Exeunt all but HAMLET\n",
      "\n",
      "HAMLET O, that this too too solid flesh would melt Thaw and resolve\n",
      "itself into a dew!  Or that the Everlasting had not fix'd His canon\n",
      "'gainst self-slaughter! O God! God!  How weary, stale, flat and\n",
      "unprofitable, Seem to me all the uses of this world!  Fie on't! ah\n",
      "fie! 'tis an unweeded garden, That grows to seed; things rank and\n",
      "gross in nature Possess it merely. That it should come to this!\n",
      "But two months dead: nay, not so much, not two: So excellent a king;\n",
      "that was, to this, Hyperion to a satyr; so loving to my mother That\n",
      "he might not beteem the winds of heaven Visit her face too roughly.\n",
      "Heaven and earth!  Must I remember? why, she would hang on him, As\n",
      "if increase of appetite had grown By what it fed on: and yet, within\n",
      "a month-- Let me not think on't--Frailty, thy name is woman!-- A\n",
      "little month, or ere those shoes were old With which she follow'd\n",
      "my poor father's body, Like Niobe, all tears:--why she, even she--\n",
      "O, God! a beast, that wants discourse of reason, Would have mourn'd\n",
      "longer--married with my uncle, My father's brother, but no more\n",
      "like my father Than I to Hercules: within a month: Ere yet the salt\n",
      "of most unrighteous tears Had left the flushing in her galled eyes,\n",
      "She married. O, most wicked speed, to post With such dexterity to\n",
      "incestuous sheets!  It is not nor it cannot come to good: But break,\n",
      "my heart; for I must hold my tongue.  Enter HORATIO, MARCELLUS, and\n",
      "BERNARDO\n",
      "\n",
      "HORATIO Hail to your lordship!  HAMLET I am glad to see you well:\n",
      "Horatio,--or I do forget myself.  HORATIO The same, my lord, and\n",
      "your poor servant ever.  HAMLET Sir, my good friend; I'll change\n",
      "that name with you: And what make you from Wittenberg, Horatio?\n",
      "Marcellus?  MARCELLUS My good lord-- HAMLET I am very glad to see\n",
      "you. Good even, sir.  But what, in faith, make you from Wittenberg?\n",
      "HORATIO A truant disposition, good my lord.  HAMLET I would not\n",
      "hear your enemy say so, Nor shall you do mine ear that violence,\n",
      "To make it truster of your own report Against yourself: I know you\n",
      "are no truant.  But what is your affair in Elsinore?  We'll teach\n",
      "you to drink deep ere you depart.  HORATIO My lord, I came to see\n",
      "your father's funeral.  HAMLET I pray thee, do not mock me,\n",
      "fellow-student; I think it was to see my mother's wedding.  HORATIO\n",
      "Indeed, my lord, it follow'd hard upon.  HAMLET Thrift, thrift,\n",
      "Horatio! the funeral baked meats Did coldly furnish forth the\n",
      "marriage tables.  Would I had met my dearest foe in heaven Or ever\n",
      "I had seen that day, Horatio!  My father!--methinks I see my father.\n",
      "HORATIO Where, my lord?  HAMLET In my mind's eye, Horatio.  HORATIO\n",
      "I saw him once; he was a goodly king.  HAMLET He was a man, take\n",
      "him for all in all, I shall not look upon his like again.  HORATIO\n",
      "My lord, I think I saw him yesternight.  HAMLET Saw? who?  HORATIO\n",
      "My lord, the king your father.  HAMLET The king my father!  HORATIO\n",
      "Season your admiration for awhile With an attent ear, till I may\n",
      "deliver, Upon the witness of these gentlemen, This marvel to you.\n",
      "HAMLET For God's love, let me hear.  HORATIO Two nights together\n",
      "had these gentlemen, Marcellus and Bernardo, on their watch, In the\n",
      "dead vast and middle of the night, Been thus encounter'd. A figure\n",
      "like your father, Armed at point exactly, cap-a-pe, Appears before\n",
      "them, and with solemn march Goes slow and stately by them: thrice\n",
      "he walk'd By their oppress'd and fear-surprised eyes, Within his\n",
      "truncheon's length; whilst they, distilled Almost to jelly with the\n",
      "act of fear, Stand dumb and speak not to him. This to me In dreadful\n",
      "secrecy impart they did; And I with them the third night kept the\n",
      "watch; Where, as they had deliver'd, both in time, Form of the\n",
      "thing, each word made true and good, The apparition comes: I knew\n",
      "your father; These hands are not more like.  HAMLET But where was\n",
      "this?  MARCELLUS My lord, upon the platform where we watch'd.  HAMLET\n",
      "Did you not speak to it?  HORATIO My lord, I did; But answer made\n",
      "it none: yet once methought It lifted up its head and did address\n",
      "Itself to motion, like as it would speak; But even then the morning\n",
      "cock crew loud, And at the sound it shrunk in haste away, And\n",
      "vanish'd from our sight.  HAMLET 'Tis very strange.  HORATIO As I\n",
      "do live, my honour'd lord, 'tis true; And we did think it writ down\n",
      "in our duty To let you know of it.  HAMLET Indeed, indeed, sirs,\n",
      "but this troubles me.  Hold you the watch to-night?  MARCELLUS\n",
      "BERNARDO We do, my lord.  HAMLET Arm'd, say you?  MARCELLUS BERNARDO\n",
      "Arm'd, my lord.  HAMLET From top to toe?  MARCELLUS BERNARDO My\n",
      "lord, from head to foot.  HAMLET Then saw you not his face?  HORATIO\n",
      "O, yes, my lord; he wore his beaver up.  HAMLET What, look'd he\n",
      "frowningly?  HORATIO A countenance more in sorrow than in anger.\n",
      "HAMLET Pale or red?  HORATIO Nay, very pale.  HAMLET And fix'd his\n",
      "eyes upon you?  HORATIO Most constantly.  HAMLET I would I had been\n",
      "there.  HORATIO It would have much amazed you.  HAMLET Very like,\n",
      "very like. Stay'd it long?  HORATIO While one with moderate haste\n",
      "might tell a hundred.  MARCELLUS BERNARDO Longer, longer.  HORATIO\n",
      "Not when I saw't.  HAMLET His beard was grizzled--no?  HORATIO It\n",
      "was, as I have seen it in his life, A sable silver'd.  HAMLET I\n",
      "will watch to-night; Perchance 'twill walk again.  HORATIO I warrant\n",
      "it will.  HAMLET If it assume my noble father's person, I'll speak\n",
      "to it, though hell itself should gape And bid me hold my peace. I\n",
      "pray you all, If you have hitherto conceal'd this sight, Let it be\n",
      "tenable in your silence still; And whatsoever else shall hap to-night,\n",
      "Give it an understanding, but no tongue: I will requite your loves.\n",
      "So, fare you well: Upon the platform, 'twixt eleven and twelve,\n",
      "I'll visit you.  All Our duty to your honour.  HAMLET Your loves,\n",
      "as mine to you: farewell.  Exeunt all but HAMLET\n",
      "\n",
      "My father's spirit in arms! all is not well; I doubt some foul play:\n",
      "would the night were come!  Till then sit still, my soul: foul deeds\n",
      "will rise, Though all the earth o'erwhelm them, to men's eyes.  Exit\n",
      "\n",
      "SCENE III. A room in Polonius' house.\n",
      "\n",
      "Enter LAERTES and OPHELIA LAERTES My necessaries are embark'd:\n",
      "farewell: And, sister, as the winds give benefit And convoy is\n",
      "assistant, do not sleep, But let me hear from you.  OPHELIA Do you\n",
      "doubt that?  LAERTES For Hamlet and the trifling of his favour,\n",
      "Hold it a fashion and a toy in blood, A violet in the youth of primy\n",
      "nature, Forward, not permanent, sweet, not lasting, The perfume and\n",
      "suppliance of a minute; No more.  OPHELIA No more but so?  LAERTES\n",
      "Think it no more; For nature, crescent, does not grow alone In thews\n",
      "and bulk, but, as this temple waxes, The inward service of the mind\n",
      "and soul Grows wide withal. Perhaps he loves you now, And now no\n",
      "soil nor cautel doth besmirch The virtue of his will: but you must\n",
      "fear, His greatness weigh'd, his will is not his own; For he himself\n",
      "is subject to his birth: He may not, as unvalued persons do, Carve\n",
      "for himself; for on his choice depends The safety and health of\n",
      "this whole state; And therefore must his choice be circumscribed\n",
      "Unto the voice and yielding of that body Whereof he is the head.\n",
      "Then if he says he loves you, It fits your wisdom so far to believe\n",
      "it As he in his particular act and place May give his saying deed;\n",
      "which is no further Than the main voice of Denmark goes withal.\n",
      "Then weigh what loss your honour may sustain, If with too credent\n",
      "ear you list his songs, Or lose your heart, or your chaste treasure\n",
      "open To his unmaster'd importunity.  Fear it, Ophelia, fear it, my\n",
      "dear sister, And keep you in the rear of your affection, Out of the\n",
      "shot and danger of desire.  The chariest maid is prodigal enough,\n",
      "If she unmask her beauty to the moon: Virtue itself 'scapes not\n",
      "calumnious strokes: The canker galls the infants of the spring, Too\n",
      "oft before their buttons be disclosed, And in the morn and liquid\n",
      "dew of youth Contagious blastments are most imminent.  Be wary then;\n",
      "best safety lies in fear: Youth to itself rebels, though none else\n",
      "near.  OPHELIA I shall the effect of this good lesson keep, As\n",
      "watchman to my heart. But, good my brother, Do not, as some ungracious\n",
      "pastors do, Show me the steep and thorny way to heaven; Whiles,\n",
      "like a puff'd and reckless libertine, Himself the primrose path of\n",
      "dalliance treads, And recks not his own rede.  LAERTES O, fear me\n",
      "not.  I stay too long: but here my father comes.  Enter POLONIUS\n",
      "\n",
      "A double blessing is a double grace, Occasion smiles upon a second\n",
      "leave.  LORD POLONIUS Yet here, Laertes! aboard, aboard, for shame!\n",
      "The wind sits in the shoulder of your sail, And you are stay'd for.\n",
      "There; my blessing with thee!  And these few precepts in thy memory\n",
      "See thou character. Give thy thoughts no tongue, Nor any unproportioned\n",
      "thought his act.  Be thou familiar, but by no means vulgar.  Those\n",
      "friends thou hast, and their adoption tried, Grapple them to thy\n",
      "soul with hoops of steel; But do not dull thy palm with entertainment\n",
      "Of each new-hatch'd, unfledged comrade. Beware Of entrance to a\n",
      "quarrel, but being in, Bear't that the opposed may beware of thee.\n",
      "Give every man thy ear, but few thy voice; Take each man's censure,\n",
      "but reserve thy judgment.  Costly thy habit as thy purse can buy,\n",
      "But not express'd in fancy; rich, not gaudy; For the apparel oft\n",
      "proclaims the man, And they in France of the best rank and station\n",
      "Are of a most select and generous chief in that.  Neither a borrower\n",
      "nor a lender be; For loan oft loses both itself and friend, And\n",
      "borrowing dulls the edge of husbandry.  This above all: to thine\n",
      "ownself be true, And it must follow, as the night the day, Thou\n",
      "canst not then be false to any man.  Farewell: my blessing season\n",
      "this in thee!  LAERTES Most humbly do I take my leave, my lord.\n",
      "LORD POLONIUS The time invites you; go; your servants tend.  LAERTES\n",
      "Farewell, Ophelia; and remember well What I have said to you.\n",
      "OPHELIA 'Tis in my memory lock'd, And you yourself shall keep the\n",
      "key of it.  LAERTES Farewell.  Exit\n",
      "\n",
      "LORD POLONIUS What is't, Ophelia, be hath said to you?  OPHELIA So\n",
      "please you, something touching the Lord Hamlet.  LORD POLONIUS\n",
      "Marry, well bethought: 'Tis told me, he hath very oft of late Given\n",
      "private time to you; and you yourself Have of your audience been\n",
      "most free and bounteous: If it be so, as so 'tis put on me, And\n",
      "that in way of caution, I must tell you, You do not understand\n",
      "yourself so clearly As it behoves my daughter and your honour.  What\n",
      "is between you? give me up the truth.  OPHELIA He hath, my lord,\n",
      "of late made many tenders Of his affection to me.  LORD POLONIUS\n",
      "Affection! pooh! you speak like a green girl, Unsifted in such\n",
      "perilous circumstance.  Do you believe his tenders, as you call\n",
      "them?  OPHELIA I do not know, my lord, what I should think.  LORD\n",
      "POLONIUS Marry, I'll teach you: think yourself a baby; That you\n",
      "have ta'en these tenders for true pay, Which are not sterling.\n",
      "Tender yourself more dearly; Or--not to crack the wind of the poor\n",
      "phrase, Running it thus--you'll tender me a fool.  OPHELIA My lord,\n",
      "he hath importuned me with love In honourable fashion.  LORD POLONIUS\n",
      "Ay, fashion you may call it; go to, go to.  OPHELIA And hath given\n",
      "countenance to his speech, my lord, With almost all the holy vows\n",
      "of heaven.  LORD POLONIUS Ay, springes to catch woodcocks. I do\n",
      "know, When the blood burns, how prodigal the soul Lends the tongue\n",
      "vows: these blazes, daughter, Giving more light than heat, extinct\n",
      "in both, Even in their promise, as it is a-making, You must not\n",
      "take for fire. From this time Be somewhat scanter of your maiden\n",
      "presence; Set your entreatments at a higher rate Than a command to\n",
      "parley. For Lord Hamlet, Believe so much in him, that he is young\n",
      "And with a larger tether may he walk Than may be given you: in few,\n",
      "Ophelia, Do not believe his vows; for they are brokers, Not of that\n",
      "dye which their investments show, But mere implorators of unholy\n",
      "suits, Breathing like sanctified and pious bawds, The better to\n",
      "beguile. This is for all: I would not, in plain terms, from this\n",
      "time forth, Have you so slander any moment leisure, As to give words\n",
      "or talk with the Lord Hamlet.  Look to't, I charge you: come your\n",
      "ways.  OPHELIA I shall obey, my lord.  Exeunt\n",
      "\n",
      "SCENE IV. The platform.\n",
      "\n",
      "Enter HAMLET, HORATIO, and MARCELLUS HAMLET The air bites shrewdly;\n",
      "it is very cold.  HORATIO It is a nipping and an eager air.  HAMLET\n",
      "What hour now?  HORATIO I think it lacks of twelve.  HAMLET No, it\n",
      "is struck.  HORATIO Indeed? I heard it not: then it draws near the\n",
      "season Wherein the spirit held his wont to walk.  A flourish of\n",
      "trumpets, and ordnance shot off, within\n",
      "\n",
      "What does this mean, my lord?  HAMLET The king doth wake to-night\n",
      "and takes his rouse, Keeps wassail, and the swaggering up-spring\n",
      "reels; And, as he drains his draughts of Rhenish down, The kettle-drum\n",
      "and trumpet thus bray out The triumph of his pledge.  HORATIO Is\n",
      "it a custom?  HAMLET Ay, marry, is't: But to my mind, though I am\n",
      "native here And to the manner born, it is a custom More honour'd\n",
      "in the breach than the observance.  This heavy-headed revel east\n",
      "and west Makes us traduced and tax'd of other nations: They clepe\n",
      "us drunkards, and with swinish phrase Soil our addition; and indeed\n",
      "it takes From our achievements, though perform'd at height, The\n",
      "pith and marrow of our attribute.  So, oft it chances in particular\n",
      "men, That for some vicious mole of nature in them, As, in their\n",
      "birth--wherein they are not guilty, Since nature cannot choose his\n",
      "origin-- By the o'ergrowth of some complexion, Oft breaking down\n",
      "the pales and forts of reason, Or by some habit that too much\n",
      "o'er-leavens The form of plausive manners, that these men, Carrying,\n",
      "I say, the stamp of one defect, Being nature's livery, or fortune's\n",
      "star,-- Their virtues else--be they as pure as grace, As infinite\n",
      "as man may undergo-- Shall in the general censure take corruption\n",
      "From that particular fault: the dram of eale Doth all the noble\n",
      "substance of a doubt To his own scandal.  HORATIO Look, my lord,\n",
      "it comes!  Enter Ghost\n",
      "\n",
      "HAMLET Angels and ministers of grace defend us!  Be thou a spirit\n",
      "of health or goblin damn'd, Bring with thee airs from heaven or\n",
      "blasts from hell, Be thy intents wicked or charitable, Thou comest\n",
      "in such a questionable shape That I will speak to thee: I'll call\n",
      "thee Hamlet, King, father, royal Dane: O, answer me!  Let me not\n",
      "burst in ignorance; but tell Why thy canonized bones, hearsed in\n",
      "death, Have burst their cerements; why the sepulchre, Wherein we\n",
      "saw thee quietly inurn'd, Hath oped his ponderous and marble jaws,\n",
      "To cast thee up again. What may this mean, That thou, dead corse,\n",
      "again in complete steel Revisit'st thus the glimpses of the moon,\n",
      "Making night hideous; and we fools of nature So horridly to shake\n",
      "our disposition With thoughts beyond the reaches of our souls?  Say,\n",
      "why is this? wherefore? what should we do?  Ghost beckons HAMLET\n",
      "\n",
      "HORATIO It beckons you to go away with it, As if it some impartment\n",
      "did desire To you alone.  MARCELLUS Look, with what courteous action\n",
      "It waves you to a more removed ground: But do not go with it.\n",
      "HORATIO No, by no means.  HAMLET It will not speak; then I will\n",
      "follow it.  HORATIO Do not, my lord.  HAMLET Why, what should be\n",
      "the fear?  I do not set my life in a pin's fee; And for my soul,\n",
      "what can it do to that, Being a thing immortal as itself?  It waves\n",
      "me forth again: I'll follow it.  HORATIO What if it tempt you toward\n",
      "the flood, my lord, Or to the dreadful summit of the cliff That\n",
      "beetles o'er his base into the sea, And there assume some other\n",
      "horrible form, Which might deprive your sovereignty of reason And\n",
      "draw you into madness? think of it: The very place puts toys of\n",
      "desperation, Without more motive, into every brain That looks so\n",
      "many fathoms to the sea And hears it roar beneath.  HAMLET It waves\n",
      "me still.  Go on; I'll follow thee.  MARCELLUS You shall not go,\n",
      "my lord.  HAMLET Hold off your hands.  HORATIO Be ruled; you shall\n",
      "not go.  HAMLET My fate cries out, And makes each petty artery in\n",
      "this body As hardy as the Nemean lion's nerve.  Still am I call'd.\n",
      "Unhand me, gentlemen.  By heaven, I'll make a ghost of him that\n",
      "lets me!  I say, away! Go on; I'll follow thee.  Exeunt Ghost and\n",
      "HAMLET\n",
      "\n",
      "HORATIO He waxes desperate with imagination.  MARCELLUS Let's follow;\n",
      "'tis not fit thus to obey him.  HORATIO Have after. To what issue\n",
      "will this come?  MARCELLUS Something is rotten in the state of\n",
      "Denmark.  HORATIO Heaven will direct it.  MARCELLUS Nay, let's\n",
      "follow him.  Exeunt\n",
      "\n",
      "SCENE V. Another part of the platform.\n",
      "\n",
      "Enter GHOST and HAMLET HAMLET Where wilt thou lead me? speak; I'll\n",
      "go no further.  Ghost Mark me.  HAMLET I will.  Ghost My hour is\n",
      "almost come, When I to sulphurous and tormenting flames Must render\n",
      "up myself.  HAMLET Alas, poor ghost!  Ghost Pity me not, but lend\n",
      "thy serious hearing To what I shall unfold.  HAMLET Speak; I am\n",
      "bound to hear.  Ghost So art thou to revenge, when thou shalt hear.\n",
      "HAMLET What?  Ghost I am thy father's spirit, Doom'd for a certain\n",
      "term to walk the night, And for the day confined to fast in fires,\n",
      "Till the foul crimes done in my days of nature Are burnt and purged\n",
      "away. But that I am forbid To tell the secrets of my prison-house,\n",
      "I could a tale unfold whose lightest word Would harrow up thy soul,\n",
      "freeze thy young blood, Make thy two eyes, like stars, start from\n",
      "their spheres, Thy knotted and combined locks to part And each\n",
      "particular hair to stand on end, Like quills upon the fretful\n",
      "porpentine: But this eternal blazon must not be To ears of flesh\n",
      "and blood. List, list, O, list!  If thou didst ever thy dear father\n",
      "love-- HAMLET O God!  Ghost Revenge his foul and most unnatural\n",
      "murder.  HAMLET Murder!  Ghost Murder most foul, as in the best it\n",
      "is; But this most foul, strange and unnatural.  HAMLET Haste me to\n",
      "know't, that I, with wings as swift As meditation or the thoughts\n",
      "of love, May sweep to my revenge.  Ghost I find thee apt; And duller\n",
      "shouldst thou be than the fat weed That roots itself in ease on\n",
      "Lethe wharf, Wouldst thou not stir in this. Now, Hamlet, hear: 'Tis\n",
      "given out that, sleeping in my orchard, A serpent stung me; so the\n",
      "whole ear of Denmark Is by a forged process of my death Rankly\n",
      "abused: but know, thou noble youth, The serpent that did sting thy\n",
      "father's life Now wears his crown.  HAMLET O my prophetic soul! My\n",
      "uncle!  Ghost Ay, that incestuous, that adulterate beast, With\n",
      "witchcraft of his wit, with traitorous gifts,-- O wicked wit and\n",
      "gifts, that have the power So to seduce!--won to his shameful lust\n",
      "The will of my most seeming-virtuous queen: O Hamlet, what a\n",
      "falling-off was there!  From me, whose love was of that dignity\n",
      "That it went hand in hand even with the vow I made to her in marriage,\n",
      "and to decline Upon a wretch whose natural gifts were poor To those\n",
      "of mine!  But virtue, as it never will be moved, Though lewdness\n",
      "court it in a shape of heaven, So lust, though to a radiant angel\n",
      "link'd, Will sate itself in a celestial bed, And prey on garbage.\n",
      "But, soft! methinks I scent the morning air; Brief let me be.\n",
      "Sleeping within my orchard, My custom always of the afternoon, Upon\n",
      "my secure hour thy uncle stole, With juice of cursed hebenon in a\n",
      "vial, And in the porches of my ears did pour The leperous distilment;\n",
      "whose effect Holds such an enmity with blood of man That swift as\n",
      "quicksilver it courses through The natural gates and alleys of the\n",
      "body, And with a sudden vigour doth posset And curd, like eager\n",
      "droppings into milk, The thin and wholesome blood: so did it mine;\n",
      "And a most instant tetter bark'd about, Most lazar-like, with vile\n",
      "and loathsome crust, All my smooth body.  Thus was I, sleeping, by\n",
      "a brother's hand Of life, of crown, of queen, at once dispatch'd:\n",
      "Cut off even in the blossoms of my sin, Unhousel'd, disappointed,\n",
      "unanel'd, No reckoning made, but sent to my account With all my\n",
      "imperfections on my head: O, horrible! O, horrible! most horrible!\n",
      "If thou hast nature in thee, bear it not; Let not the royal bed of\n",
      "Denmark be A couch for luxury and damned incest.  But, howsoever\n",
      "thou pursuest this act, Taint not thy mind, nor let thy soul contrive\n",
      "Against thy mother aught: leave her to heaven And to those thorns\n",
      "that in her bosom lodge, To prick and sting her. Fare thee well at\n",
      "once!  The glow-worm shows the matin to be near, And 'gins to pale\n",
      "his uneffectual fire: Adieu, adieu! Hamlet, remember me.  Exit\n",
      "\n",
      "HAMLET O all you host of heaven! O earth! what else?  And shall I\n",
      "couple hell? O, fie! Hold, hold, my heart; And you, my sinews, grow\n",
      "not instant old, But bear me stiffly up. Remember thee!  Ay, thou\n",
      "poor ghost, while memory holds a seat In this distracted globe.\n",
      "Remember thee!  Yea, from the table of my memory I'll wipe away all\n",
      "trivial fond records, All saws of books, all forms, all pressures\n",
      "past, That youth and observation copied there; And thy commandment\n",
      "all alone shall live Within the book and volume of my brain, Unmix'd\n",
      "with baser matter: yes, by heaven!  O most pernicious woman!  O\n",
      "villain, villain, smiling, damned villain!  My tables,--meet it is\n",
      "I set it down, That one may smile, and smile, and be a villain; At\n",
      "least I'm sure it may be so in Denmark: Writing\n",
      "\n",
      "So, uncle, there you are. Now to my word; It is 'Adieu, adieu!\n",
      "remember me.' I have sworn 't.  MARCELLUS HORATIO [Within] My lord,\n",
      "my lord,-- MARCELLUS [Within]        Lord Hamlet,-- HORATIO [Within]\n",
      "Heaven secure him!  HAMLET So be it!  HORATIO [Within] Hillo, ho,\n",
      "ho, my lord!  HAMLET Hillo, ho, ho, boy! come, bird, come.  Enter\n",
      "HORATIO and MARCELLUS\n",
      "\n",
      "MARCELLUS How is't, my noble lord?  HORATIO What news, my lord?\n",
      "HAMLET O, wonderful!  HORATIO Good my lord, tell it.  HAMLET No;\n",
      "you'll reveal it.  HORATIO Not I, my lord, by heaven.  MARCELLUS\n",
      "Nor I, my lord.  HAMLET How say you, then; would heart of man once\n",
      "think it?  But you'll be secret?  HORATIO MARCELLUS Ay, by heaven,\n",
      "my lord.  HAMLET There's ne'er a villain dwelling in all Denmark\n",
      "But he's an arrant knave.  HORATIO There needs no ghost, my lord,\n",
      "come from the grave To tell us this.  HAMLET Why, right; you are\n",
      "i' the right; And so, without more circumstance at all, I hold it\n",
      "fit that we shake hands and part: You, as your business and desire\n",
      "shall point you; For every man has business and desire, Such as it\n",
      "is; and for mine own poor part, Look you, I'll go pray.  HORATIO\n",
      "These are but wild and whirling words, my lord.  HAMLET I'm sorry\n",
      "they offend you, heartily; Yes, 'faith heartily.  HORATIO There's\n",
      "no offence, my lord.  HAMLET Yes, by Saint Patrick, but there is,\n",
      "Horatio, And much offence too. Touching this vision here, It is an\n",
      "honest ghost, that let me tell you: For your desire to know what\n",
      "is between us, O'ermaster 't as you may. And now, good friends, As\n",
      "you are friends, scholars and soldiers, Give me one poor request.\n",
      "HORATIO What is't, my lord? we will.  HAMLET Never make known what\n",
      "you have seen to-night.  HORATIO MARCELLUS My lord, we will not.\n",
      "HAMLET Nay, but swear't.  HORATIO In faith, My lord, not I.  MARCELLUS\n",
      "Nor I, my lord, in faith.  HAMLET Upon my sword.  MARCELLUS We have\n",
      "sworn, my lord, already.  HAMLET Indeed, upon my sword, indeed.\n",
      "Ghost [Beneath] Swear.  HAMLET Ah, ha, boy! say'st thou so? art\n",
      "thou there, truepenny?  Come on--you hear this fellow in the\n",
      "cellarage-- Consent to swear.  HORATIO Propose the oath, my lord.\n",
      "HAMLET Never to speak of this that you have seen, Swear by my sword.\n",
      "Ghost [Beneath] Swear.  HAMLET Hic et ubique? then we'll shift our\n",
      "ground.  Come hither, gentlemen, And lay your hands again upon my\n",
      "sword: Never to speak of this that you have heard, Swear by my\n",
      "sword.  Ghost [Beneath] Swear.  HAMLET Well said, old mole! canst\n",
      "work i' the earth so fast?  A worthy pioner! Once more remove, good\n",
      "friends.  HORATIO O day and night, but this is wondrous strange!\n",
      "HAMLET And therefore as a stranger give it welcome.  There are more\n",
      "things in heaven and earth, Horatio, Than are dreamt of in your\n",
      "philosophy. But come; Here, as before, never, so help you mercy,\n",
      "How strange or odd soe'er I bear myself, As I perchance hereafter\n",
      "shall think meet To put an antic disposition on, That you, at such\n",
      "times seeing me, never shall, With arms encumber'd thus, or this\n",
      "headshake, Or by pronouncing of some doubtful phrase, As 'Well,\n",
      "well, we know,' or 'We could, an if we would,' Or 'If we list to\n",
      "speak,' or 'There be, an if they might,' Or such ambiguous giving\n",
      "out, to note That you know aught of me: this not to do, So grace\n",
      "and mercy at your most need help you, Swear.  Ghost [Beneath] Swear.\n",
      "HAMLET Rest, rest, perturbed spirit!  They swear\n",
      "\n",
      "So, gentlemen, With all my love I do commend me to you: And what\n",
      "so poor a man as Hamlet is May do, to express his love and friending\n",
      "to you, God willing, shall not lack. Let us go in together; And\n",
      "still your fingers on your lips, I pray.  The time is out of joint:\n",
      "O cursed spite, That ever I was born to set it right!  Nay, come,\n",
      "let's go together.  Exeunt\n",
      "\n",
      "ACT II\n",
      "\n",
      "SCENE I. A room in POLONIUS' house.\n",
      "\n",
      "Enter POLONIUS and REYNALDO LORD POLONIUS Give him this money and\n",
      "these notes, Reynaldo.  REYNALDO I will, my lord.  LORD POLONIUS\n",
      "You shall do marvellous wisely, good Reynaldo, Before you visit\n",
      "him, to make inquire Of his behavior.  REYNALDO My lord, I did\n",
      "intend it.  LORD POLONIUS Marry, well said; very well said. Look\n",
      "you, sir, Inquire me first what Danskers are in Paris; And how, and\n",
      "who, what means, and where they keep, What company, at what expense;\n",
      "and finding By this encompassment and drift of question That they\n",
      "do know my son, come you more nearer Than your particular demands\n",
      "will touch it: Take you, as 'twere, some distant knowledge of him;\n",
      "As thus, 'I know his father and his friends, And in part him: ' do\n",
      "you mark this, Reynaldo?  REYNALDO Ay, very well, my lord.  LORD\n",
      "POLONIUS 'And in part him; but' you may say 'not well: But, if't\n",
      "be he I mean, he's very wild; Addicted so and so:' and there put\n",
      "on him What forgeries you please; marry, none so rank As may dishonour\n",
      "him; take heed of that; But, sir, such wanton, wild and usual slips\n",
      "As are companions noted and most known To youth and liberty.  REYNALDO\n",
      "As gaming, my lord.  LORD POLONIUS Ay, or drinking, fencing, swearing,\n",
      "quarrelling, Drabbing: you may go so far.  REYNALDO My lord, that\n",
      "would dishonour him.  LORD POLONIUS 'Faith, no; as you may season\n",
      "it in the charge You must not put another scandal on him, That he\n",
      "is open to incontinency; That's not my meaning: but breathe his\n",
      "faults so quaintly That they may seem the taints of liberty, The\n",
      "flash and outbreak of a fiery mind, A savageness in unreclaimed\n",
      "blood, Of general assault.  REYNALDO But, my good lord,-- LORD\n",
      "POLONIUS Wherefore should you do this?  REYNALDO Ay, my lord, I\n",
      "would know that.  LORD POLONIUS Marry, sir, here's my drift; And I\n",
      "believe, it is a fetch of wit: You laying these slight sullies on\n",
      "my son, As 'twere a thing a little soil'd i' the working, Mark you,\n",
      "Your party in converse, him you would sound, Having ever seen in\n",
      "the prenominate crimes The youth you breathe of guilty, be assured\n",
      "He closes with you in this consequence; 'Good sir,' or so, or\n",
      "'friend,' or 'gentleman,' According to the phrase or the addition\n",
      "Of man and country.  REYNALDO Very good, my lord.  LORD POLONIUS\n",
      "And then, sir, does he this--he does--what was I about to say? By\n",
      "the mass, I was about to say something: where did I leave?  REYNALDO\n",
      "At 'closes in the consequence,' at 'friend or so,' and 'gentleman.'\n",
      "LORD POLONIUS At 'closes in the consequence,' ay, marry; He closes\n",
      "thus: 'I know the gentleman; I saw him yesterday, or t' other day,\n",
      "Or then, or then; with such, or such; and, as you say, There was\n",
      "a' gaming; there o'ertook in's rouse; There falling out at tennis:'\n",
      "or perchance, 'I saw him enter such a house of sale,' Videlicet, a\n",
      "brothel, or so forth.  See you now; Your bait of falsehood takes\n",
      "this carp of truth: And thus do we of wisdom and of reach, With\n",
      "windlasses and with assays of bias, By indirections find directions\n",
      "out: So by my former lecture and advice, Shall you my son. You have\n",
      "me, have you not?  REYNALDO My lord, I have.  LORD POLONIUS God be\n",
      "wi' you; fare you well.  REYNALDO Good my lord!  LORD POLONIUS\n",
      "Observe his inclination in yourself.  REYNALDO I shall, my lord.\n",
      "LORD POLONIUS And let him ply his music.  REYNALDO Well, my lord.\n",
      "LORD POLONIUS Farewell!  Exit REYNALDO\n",
      "\n",
      "Enter OPHELIA\n",
      "\n",
      "How now, Ophelia! what's the matter?  OPHELIA O, my lord, my lord,\n",
      "I have been so affrighted!  LORD POLONIUS With what, i' the name\n",
      "of God?  OPHELIA My lord, as I was sewing in my closet, Lord Hamlet,\n",
      "with his doublet all unbraced; No hat upon his head; his stockings\n",
      "foul'd, Ungarter'd, and down-gyved to his ancle; Pale as his shirt;\n",
      "his knees knocking each other; And with a look so piteous in purport\n",
      "As if he had been loosed out of hell To speak of horrors,--he comes\n",
      "before me.  LORD POLONIUS Mad for thy love?  OPHELIA My lord, I do\n",
      "not know; But truly, I do fear it.  LORD POLONIUS What said he?\n",
      "OPHELIA He took me by the wrist and held me hard; Then goes he to\n",
      "the length of all his arm; And, with his other hand thus o'er his\n",
      "brow, He falls to such perusal of my face As he would draw it. Long\n",
      "stay'd he so; At last, a little shaking of mine arm And thrice his\n",
      "head thus waving up and down, He raised a sigh so piteous and\n",
      "profound As it did seem to shatter all his bulk And end his being:\n",
      "that done, he lets me go: And, with his head over his shoulder\n",
      "turn'd, He seem'd to find his way without his eyes; For out o' doors\n",
      "he went without their helps, And, to the last, bended their light\n",
      "on me.  LORD POLONIUS Come, go with me: I will go seek the king.\n",
      "This is the very ecstasy of love, Whose violent property fordoes\n",
      "itself And leads the will to desperate undertakings As oft as any\n",
      "passion under heaven That does afflict our natures. I am sorry.\n",
      "What, have you given him any hard words of late?  OPHELIA No, my\n",
      "good lord, but, as you did command, I did repel his fetters and\n",
      "denied His access to me.  LORD POLONIUS That hath made him mad.  I\n",
      "am sorry that with better heed and judgment I had not quoted him:\n",
      "I fear'd he did but trifle, And meant to wreck thee; but, beshrew\n",
      "my jealousy!  By heaven, it is as proper to our age To cast beyond\n",
      "ourselves in our opinions As it is common for the younger sort To\n",
      "lack discretion. Come, go we to the king: This must be known; which,\n",
      "being kept close, might move More grief to hide than hate to utter\n",
      "love.  Exeunt\n",
      "\n",
      "SCENE II. A room in the castle.\n",
      "\n",
      "Enter KING CLAUDIUS, QUEEN GERTRUDE, ROSENCRANTZ, GUILDENSTERN, and\n",
      "Attendants KING CLAUDIUS Welcome, dear Rosencrantz and Guildenstern!\n",
      "Moreover that we much did long to see you, The need we have to use\n",
      "you did provoke Our hasty sending. Something have you heard Of\n",
      "Hamlet's transformation; so call it, Sith nor the exterior nor the\n",
      "inward man Resembles that it was. What it should be, More than his\n",
      "father's death, that thus hath put him So much from the understanding\n",
      "of himself, I cannot dream of: I entreat you both, That, being of\n",
      "so young days brought up with him, And sith so neighbour'd to his\n",
      "youth and havior, That you vouchsafe your rest here in our court\n",
      "Some little time: so by your companies To draw him on to pleasures,\n",
      "and to gather, So much as from occasion you may glean, Whether\n",
      "aught, to us unknown, afflicts him thus, That, open'd, lies within\n",
      "our remedy.  QUEEN GERTRUDE Good gentlemen, he hath much talk'd of\n",
      "you; And sure I am two men there are not living To whom he more\n",
      "adheres. If it will please you To show us so much gentry and good\n",
      "will As to expend your time with us awhile, For the supply and\n",
      "profit of our hope, Your visitation shall receive such thanks As\n",
      "fits a king's remembrance.  ROSENCRANTZ Both your majesties Might,\n",
      "by the sovereign power you have of us, Put your dread pleasures\n",
      "more into command Than to entreaty.  GUILDENSTERN But we both obey,\n",
      "And here give up ourselves, in the full bent To lay our service\n",
      "freely at your feet, To be commanded.  KING CLAUDIUS Thanks,\n",
      "Rosencrantz and gentle Guildenstern.  QUEEN GERTRUDE Thanks,\n",
      "Guildenstern and gentle Rosencrantz: And I beseech you instantly\n",
      "to visit My too much changed son. Go, some of you, And bring these\n",
      "gentlemen where Hamlet is.  GUILDENSTERN Heavens make our presence\n",
      "and our practises Pleasant and helpful to him!  QUEEN GERTRUDE Ay,\n",
      "amen!  Exeunt ROSENCRANTZ, GUILDENSTERN, and some Attendants\n",
      "\n",
      "Enter POLONIUS\n",
      "\n",
      "LORD POLONIUS The ambassadors from Norway, my good lord, Are joyfully\n",
      "return'd.  KING CLAUDIUS Thou still hast been the father of good\n",
      "news.  LORD POLONIUS Have I, my lord? I assure my good liege, I\n",
      "hold my duty, as I hold my soul, Both to my God and to my gracious\n",
      "king: And I do think, or else this brain of mine Hunts not the trail\n",
      "of policy so sure As it hath used to do, that I have found The very\n",
      "cause of Hamlet's lunacy.  KING CLAUDIUS O, speak of that; that do\n",
      "I long to hear.  LORD POLONIUS Give first admittance to the\n",
      "ambassadors; My news shall be the fruit to that great feast.  KING\n",
      "CLAUDIUS Thyself do grace to them, and bring them in.  Exit POLONIUS\n",
      "\n",
      "He tells me, my dear Gertrude, he hath found The head and source\n",
      "of all your son's distemper.  QUEEN GERTRUDE I doubt it is no other\n",
      "but the main; His father's death, and our o'erhasty marriage.  KING\n",
      "CLAUDIUS Well, we shall sift him.  Re-enter POLONIUS, with VOLTIMAND\n",
      "and CORNELIUS\n",
      "\n",
      "Welcome, my good friends!  Say, Voltimand, what from our brother\n",
      "Norway?  VOLTIMAND Most fair return of greetings and desires.  Upon\n",
      "our first, he sent out to suppress His nephew's levies; which to\n",
      "him appear'd To be a preparation 'gainst the Polack; But, better\n",
      "look'd into, he truly found It was against your highness: whereat\n",
      "grieved, That so his sickness, age and impotence Was falsely borne\n",
      "in hand, sends out arrests On Fortinbras; which he, in brief, obeys;\n",
      "Receives rebuke from Norway, and in fine Makes vow before his uncle\n",
      "never more To give the assay of arms against your majesty.  Whereon\n",
      "old Norway, overcome with joy, Gives him three thousand crowns in\n",
      "annual fee, And his commission to employ those soldiers, So levied\n",
      "as before, against the Polack: With an entreaty, herein further\n",
      "shown, Giving a paper\n",
      "\n",
      "That it might please you to give quiet pass Through your dominions\n",
      "for this enterprise, On such regards of safety and allowance As\n",
      "therein are set down.  KING CLAUDIUS It likes us well; And at our\n",
      "more consider'd time well read, Answer, and think upon this business.\n",
      "Meantime we thank you for your well-took labour: Go to your rest;\n",
      "at night we'll feast together: Most welcome home!  Exeunt VOLTIMAND\n",
      "and CORNELIUS\n",
      "\n",
      "LORD POLONIUS This business is well ended.  My liege, and madam,\n",
      "to expostulate What majesty should be, what duty is, Why day is\n",
      "day, night night, and time is time, Were nothing but to waste night,\n",
      "day and time.  Therefore, since brevity is the soul of wit, And\n",
      "tediousness the limbs and outward flourishes, I will be brief: your\n",
      "noble son is mad: Mad call I it; for, to define true madness, What\n",
      "is't but to be nothing else but mad?  But let that go.  QUEEN\n",
      "GERTRUDE More matter, with less art.  LORD POLONIUS Madam, I swear\n",
      "I use no art at all.  That he is mad, 'tis true: 'tis true 'tis\n",
      "pity; And pity 'tis 'tis true: a foolish figure; But farewell it,\n",
      "for I will use no art.  Mad let us grant him, then: and now remains\n",
      "That we find out the cause of this effect, Or rather say, the cause\n",
      "of this defect, For this effect defective comes by cause: Thus it\n",
      "remains, and the remainder thus. Perpend.  I have a daughter--have\n",
      "while she is mine-- Who, in her duty and obedience, mark, Hath given\n",
      "me this: now gather, and surmise.  Reads\n",
      "\n",
      "'To the celestial and my soul's idol, the most beautified Ophelia,'--\n",
      "That's an ill phrase, a vile phrase; 'beautified' is a vile phrase:\n",
      "but you shall hear. Thus: Reads\n",
      "\n",
      "'In her excellent white bosom, these, & c.' QUEEN GERTRUDE Came\n",
      "this from Hamlet to her?  LORD POLONIUS Good madam, stay awhile; I\n",
      "will be faithful.  Reads\n",
      "\n",
      "'Doubt thou the stars are fire; Doubt that the sun doth move; Doubt\n",
      "truth to be a liar; But never doubt I love.  'O dear Ophelia, I am\n",
      "ill at these numbers; I have not art to reckon my groans: but that\n",
      "I love thee best, O most best, believe it. Adieu.  'Thine evermore\n",
      "most dear lady, whilst this machine is to him, HAMLET.' This, in\n",
      "obedience, hath my daughter shown me, And more above, hath his\n",
      "solicitings, As they fell out by time, by means and place, All given\n",
      "to mine ear.  KING CLAUDIUS But how hath she Received his love?\n",
      "LORD POLONIUS What do you think of me?  KING CLAUDIUS As of a man\n",
      "faithful and honourable.  LORD POLONIUS I would fain prove so. But\n",
      "what might you think, When I had seen this hot love on the wing--\n",
      "As I perceived it, I must tell you that, Before my daughter told\n",
      "me--what might you, Or my dear majesty your queen here, think, If\n",
      "I had play'd the desk or table-book, Or given my heart a winking,\n",
      "mute and dumb, Or look'd upon this love with idle sight; What might\n",
      "you think? No, I went round to work, And my young mistress thus I\n",
      "did bespeak: 'Lord Hamlet is a prince, out of thy star; This must\n",
      "not be:' and then I precepts gave her, That she should lock herself\n",
      "from his resort, Admit no messengers, receive no tokens.  Which\n",
      "done, she took the fruits of my advice; And he, repulsed--a short\n",
      "tale to make-- Fell into a sadness, then into a fast, Thence to a\n",
      "watch, thence into a weakness, Thence to a lightness, and, by this\n",
      "declension, Into the madness wherein now he raves, And all we mourn\n",
      "for.  KING CLAUDIUS Do you think 'tis this?  QUEEN GERTRUDE It may\n",
      "be, very likely.  LORD POLONIUS Hath there been such a time--I'd\n",
      "fain know that-- That I have positively said 'Tis so,' When it\n",
      "proved otherwise?  KING CLAUDIUS Not that I know.  LORD POLONIUS\n",
      "[Pointing to his head and shoulder] Take this from this, if this\n",
      "be otherwise: If circumstances lead me, I will find Where truth is\n",
      "hid, though it were hid indeed Within the centre.  KING CLAUDIUS\n",
      "How may we try it further?  LORD POLONIUS You know, sometimes he\n",
      "walks four hours together Here in the lobby.  QUEEN GERTRUDE So he\n",
      "does indeed.  LORD POLONIUS At such a time I'll loose my daughter\n",
      "to him: Be you and I behind an arras then; Mark the encounter: if\n",
      "he love her not And be not from his reason fall'n thereon, Let me\n",
      "be no assistant for a state, But keep a farm and carters.  KING\n",
      "CLAUDIUS We will try it.  QUEEN GERTRUDE But, look, where sadly the\n",
      "poor wretch comes reading.  LORD POLONIUS Away, I do beseech you,\n",
      "both away: I'll board him presently.  Exeunt KING CLAUDIUS, QUEEN\n",
      "GERTRUDE, and Attendants\n",
      "\n",
      "Enter HAMLET, reading\n",
      "\n",
      "O, give me leave: How does my good Lord Hamlet?  HAMLET Well,\n",
      "God-a-mercy.  LORD POLONIUS Do you know me, my lord?  HAMLET Excellent\n",
      "well; you are a fishmonger.  LORD POLONIUS Not I, my lord.  HAMLET\n",
      "Then I would you were so honest a man.  LORD POLONIUS Honest, my\n",
      "lord!  HAMLET Ay, sir; to be honest, as this world goes, is to be\n",
      "one man picked out of ten thousand.  LORD POLONIUS That's very true,\n",
      "my lord.  HAMLET For if the sun breed maggots in a dead dog, being\n",
      "a god kissing carrion,--Have you a daughter?  LORD POLONIUS I have,\n",
      "my lord.  HAMLET Let her not walk i' the sun: conception is a\n",
      "blessing: but not as your daughter may conceive.  Friend, look to\n",
      "'t.  LORD POLONIUS [Aside] How say you by that? Still harping on\n",
      "my daughter: yet he knew me not at first; he said I was a fishmonger:\n",
      "he is far gone, far gone: and truly in my youth I suffered much\n",
      "extremity for love; very near this. I'll speak to him again.  What\n",
      "do you read, my lord?  HAMLET Words, words, words.  LORD POLONIUS\n",
      "What is the matter, my lord?  HAMLET Between who?  LORD POLONIUS I\n",
      "mean, the matter that you read, my lord.  HAMLET Slanders, sir: for\n",
      "the satirical rogue says here that old men have grey beards, that\n",
      "their faces are wrinkled, their eyes purging thick amber and plum-tree\n",
      "gum and that they have a plentiful lack of wit, together with most\n",
      "weak hams: all which, sir, though I most powerfully and potently\n",
      "believe, yet I hold it not honesty to have it thus set down, for\n",
      "yourself, sir, should be old as I am, if like a crab you could go\n",
      "backward.  LORD POLONIUS [Aside] Though this be madness, yet there\n",
      "is method in 't. Will you walk out of the air, my lord?  HAMLET\n",
      "Into my grave.  LORD POLONIUS Indeed, that is out o' the air.  Aside\n",
      "\n",
      "How pregnant sometimes his replies are! a happiness that often\n",
      "madness hits on, which reason and sanity could not so prosperously\n",
      "be delivered of. I will leave him, and suddenly contrive the means\n",
      "of meeting between him and my daughter.--My honourable lord, I will\n",
      "most humbly take my leave of you.  HAMLET You cannot, sir, take\n",
      "from me any thing that I will more willingly part withal: except\n",
      "my life, except my life, except my life.  LORD POLONIUS Fare you\n",
      "well, my lord.  HAMLET These tedious old fools!  Enter ROSENCRANTZ\n",
      "and GUILDENSTERN\n",
      "\n",
      "LORD POLONIUS You go to seek the Lord Hamlet; there he is.  ROSENCRANTZ\n",
      "[To POLONIUS] God save you, sir!  Exit POLONIUS\n",
      "\n",
      "GUILDENSTERN My honoured lord!  ROSENCRANTZ My most dear lord!\n",
      "HAMLET My excellent good friends! How dost thou, Guildenstern? Ah,\n",
      "Rosencrantz! Good lads, how do ye both?  ROSENCRANTZ As the indifferent\n",
      "children of the earth.  GUILDENSTERN Happy, in that we are not\n",
      "over-happy; On fortune's cap we are not the very button.  HAMLET\n",
      "Nor the soles of her shoe?  ROSENCRANTZ Neither, my lord.  HAMLET\n",
      "Then you live about her waist, or in the middle of her favours?\n",
      "GUILDENSTERN 'Faith, her privates we.  HAMLET In the secret parts\n",
      "of fortune? O, most true; she is a strumpet. What's the news?\n",
      "ROSENCRANTZ None, my lord, but that the world's grown honest.  HAMLET\n",
      "Then is doomsday near: but your news is not true.  Let me question\n",
      "more in particular: what have you, my good friends, deserved at the\n",
      "hands of fortune, that she sends you to prison hither?  GUILDENSTERN\n",
      "Prison, my lord!  HAMLET Denmark's a prison.  ROSENCRANTZ Then is\n",
      "the world one.  HAMLET A goodly one; in which there are many confines,\n",
      "wards and dungeons, Denmark being one o' the worst.  ROSENCRANTZ\n",
      "We think not so, my lord.  HAMLET Why, then, 'tis none to you; for\n",
      "there is nothing either good or bad, but thinking makes it so: to\n",
      "me it is a prison.  ROSENCRANTZ Why then, your ambition makes it\n",
      "one; 'tis too narrow for your mind.  HAMLET O God, I could be bounded\n",
      "in a nut shell and count myself a king of infinite space, were it\n",
      "not that I have bad dreams.  GUILDENSTERN Which dreams indeed are\n",
      "ambition, for the very substance of the ambitious is merely the\n",
      "shadow of a dream.  HAMLET A dream itself is but a shadow.  ROSENCRANTZ\n",
      "Truly, and I hold ambition of so airy and light a quality that it\n",
      "is but a shadow's shadow.  HAMLET Then are our beggars bodies, and\n",
      "our monarchs and outstretched heroes the beggars' shadows. Shall\n",
      "we to the court? for, by my fay, I cannot reason.  ROSENCRANTZ\n",
      "GUILDENSTERN We'll wait upon you.  HAMLET No such matter: I will\n",
      "not sort you with the rest of my servants, for, to speak to you\n",
      "like an honest man, I am most dreadfully attended. But, in the\n",
      "beaten way of friendship, what make you at Elsinore?  ROSENCRANTZ\n",
      "To visit you, my lord; no other occasion.  HAMLET Beggar that I am,\n",
      "I am even poor in thanks; but I thank you: and sure, dear friends,\n",
      "my thanks are too dear a halfpenny. Were you not sent for? Is it\n",
      "your own inclining? Is it a free visitation? Come, deal justly with\n",
      "me: come, come; nay, speak.  GUILDENSTERN What should we say, my\n",
      "lord?  HAMLET Why, any thing, but to the purpose. You were sent\n",
      "for; and there is a kind of confession in your looks which your\n",
      "modesties have not craft enough to colour: I know the good king and\n",
      "queen have sent for you.  ROSENCRANTZ To what end, my lord?  HAMLET\n",
      "That you must teach me. But let me conjure you, by the rights of\n",
      "our fellowship, by the consonancy of our youth, by the obligation\n",
      "of our ever-preserved love, and by what more dear a better proposer\n",
      "could charge you withal, be even and direct with me, whether you\n",
      "were sent for, or no?  ROSENCRANTZ [Aside to GUILDENSTERN] What say\n",
      "you?  HAMLET [Aside] Nay, then, I have an eye of you.--If you love\n",
      "me, hold not off.  GUILDENSTERN My lord, we were sent for.  HAMLET\n",
      "I will tell you why; so shall my anticipation prevent your discovery,\n",
      "and your secrecy to the king and queen moult no feather. I have of\n",
      "late--but wherefore I know not--lost all my mirth, forgone all\n",
      "custom of exercises; and indeed it goes so heavily with my disposition\n",
      "that this goodly frame, the earth, seems to me a sterile promontory,\n",
      "this most excellent canopy, the air, look you, this brave o'erhanging\n",
      "firmament, this majestical roof fretted with golden fire, why, it\n",
      "appears no other thing to me than a foul and pestilent congregation\n",
      "of vapours.  What a piece of work is a man! how noble in reason!\n",
      "how infinite in faculty! in form and moving how express and admirable!\n",
      "in action how like an angel!  in apprehension how like a god! the\n",
      "beauty of the world! the paragon of animals! And yet, to me, what\n",
      "is this quintessence of dust? man delights not me: no, nor woman\n",
      "neither, though by your smiling you seem to say so.  ROSENCRANTZ\n",
      "My lord, there was no such stuff in my thoughts.  HAMLET Why did\n",
      "you laugh then, when I said 'man delights not me'?  ROSENCRANTZ To\n",
      "think, my lord, if you delight not in man, what lenten entertainment\n",
      "the players shall receive from you: we coted them on the way; and\n",
      "hither are they coming, to offer you service.  HAMLET He that plays\n",
      "the king shall be welcome; his majesty shall have tribute of me;\n",
      "the adventurous knight shall use his foil and target; the lover\n",
      "shall not sigh gratis; the humourous man shall end his part in\n",
      "peace; the clown shall make those laugh whose lungs are tickled o'\n",
      "the sere; and the lady shall say her mind freely, or the blank verse\n",
      "shall halt for't. What players are they?  ROSENCRANTZ Even those\n",
      "you were wont to take delight in, the tragedians of the city.  HAMLET\n",
      "How chances it they travel? their residence, both in reputation and\n",
      "profit, was better both ways.  ROSENCRANTZ I think their inhibition\n",
      "comes by the means of the late innovation.  HAMLET Do they hold the\n",
      "same estimation they did when I was in the city? are they so followed?\n",
      "ROSENCRANTZ No, indeed, are they not.  HAMLET How comes it? do they\n",
      "grow rusty?  ROSENCRANTZ Nay, their endeavour keeps in the wonted\n",
      "pace: but there is, sir, an aery of children, little eyases, that\n",
      "cry out on the top of question, and are most tyrannically clapped\n",
      "for't: these are now the fashion, and so berattle the common\n",
      "stages--so they call them--that many wearing rapiers are afraid of\n",
      "goose-quills and dare scarce come thither.  HAMLET What, are they\n",
      "children? who maintains 'em? how are they escoted? Will they pursue\n",
      "the quality no longer than they can sing? will they not say afterwards,\n",
      "if they should grow themselves to common players--as it is most\n",
      "like, if their means are no better--their writers do them wrong,\n",
      "to make them exclaim against their own succession?  ROSENCRANTZ\n",
      "'Faith, there has been much to do on both sides; and the nation\n",
      "holds it no sin to tarre them to controversy: there was, for a\n",
      "while, no money bid for argument, unless the poet and the player\n",
      "went to cuffs in the question.  HAMLET Is't possible?  GUILDENSTERN\n",
      "O, there has been much throwing about of brains.  HAMLET Do the\n",
      "boys carry it away?  ROSENCRANTZ Ay, that they do, my lord; Hercules\n",
      "and his load too.  HAMLET It is not very strange; for mine uncle\n",
      "is king of Denmark, and those that would make mows at him while my\n",
      "father lived, give twenty, forty, fifty, an hundred ducats a-piece\n",
      "for his picture in little.  'Sblood, there is something in this\n",
      "more than natural, if philosophy could find it out.  Flourish of\n",
      "trumpets within\n",
      "\n",
      "GUILDENSTERN There are the players.  HAMLET Gentlemen, you are\n",
      "welcome to Elsinore. Your hands, come then: the appurtenance of\n",
      "welcome is fashion and ceremony: let me comply with you in this\n",
      "garb, lest my extent to the players, which, I tell you, must show\n",
      "fairly outward, should more appear like entertainment than yours.\n",
      "You are welcome: but my uncle-father and aunt-mother are deceived.\n",
      "GUILDENSTERN In what, my dear lord?  HAMLET I am but mad north-north-west:\n",
      "when the wind is southerly I know a hawk from a handsaw.  Enter\n",
      "POLONIUS\n",
      "\n",
      "LORD POLONIUS Well be with you, gentlemen!  HAMLET Hark you,\n",
      "Guildenstern; and you too: at each ear a hearer: that great baby\n",
      "you see there is not yet out of his swaddling-clouts.  ROSENCRANTZ\n",
      "Happily he's the second time come to them; for they say an old man\n",
      "is twice a child.  HAMLET I will prophesy he comes to tell me of\n",
      "the players; mark it. You say right, sir: o' Monday morning; 'twas\n",
      "so indeed.  LORD POLONIUS My lord, I have news to tell you.  HAMLET\n",
      "My lord, I have news to tell you.  When Roscius was an actor in\n",
      "Rome,-- LORD POLONIUS The actors are come hither, my lord.  HAMLET\n",
      "Buz, buz!  LORD POLONIUS Upon mine honour,-- HAMLET Then came each\n",
      "actor on his ass,-- LORD POLONIUS The best actors in the world,\n",
      "either for tragedy, comedy, history, pastoral, pastoral-comical,\n",
      "historical-pastoral, tragical-historical, tragical-\n",
      "comical-historical-pastoral, scene individable, or poem unlimited:\n",
      "Seneca cannot be too heavy, nor Plautus too light. For the law of\n",
      "writ and the liberty, these are the only men.  HAMLET O Jephthah,\n",
      "judge of Israel, what a treasure hadst thou!  LORD POLONIUS What a\n",
      "treasure had he, my lord?  HAMLET Why, 'One fair daughter and no\n",
      "more, The which he loved passing well.' LORD POLONIUS [Aside] Still\n",
      "on my daughter.  HAMLET Am I not i' the right, old Jephthah?  LORD\n",
      "POLONIUS If you call me Jephthah, my lord, I have a daughter that\n",
      "I love passing well.  HAMLET Nay, that follows not.  LORD POLONIUS\n",
      "What follows, then, my lord?  HAMLET Why, 'As by lot, God wot,' and\n",
      "then, you know, 'It came to pass, as most like it was,'-- the first\n",
      "row of the pious chanson will show you more; for look, where my\n",
      "abridgement comes.  Enter four or five Players\n",
      "\n",
      "You are welcome, masters; welcome, all. I am glad to see thee well.\n",
      "Welcome, good friends. O, my old friend! thy face is valenced since\n",
      "I saw thee last: comest thou to beard me in Denmark? What, my young\n",
      "lady and mistress! By'r lady, your ladyship is nearer to heaven\n",
      "than when I saw you last, by the altitude of a chopine. Pray God,\n",
      "your voice, like apiece of uncurrent gold, be not cracked within\n",
      "the ring. Masters, you are all welcome. We'll e'en to't like French\n",
      "falconers, fly at any thing we see: we'll have a speech straight:\n",
      "come, give us a taste of your quality; come, a passionate speech.\n",
      "First Player What speech, my lord?  HAMLET I heard thee speak me a\n",
      "speech once, but it was never acted; or, if it was, not above once;\n",
      "for the play, I remember, pleased not the million; 'twas caviare\n",
      "to the general: but it was--as I received it, and others, whose\n",
      "judgments in such matters cried in the top of mine--an excellent\n",
      "play, well digested in the scenes, set down with as much modesty\n",
      "as cunning. I remember, one said there were no sallets in the lines\n",
      "to make the matter savoury, nor no matter in the phrase that might\n",
      "indict the author of affectation; but called it an honest method,\n",
      "as wholesome as sweet, and by very much more handsome than fine.\n",
      "One speech in it I chiefly loved: 'twas Aeneas' tale to Dido; and\n",
      "thereabout of it especially, where he speaks of Priam's slaughter:\n",
      "if it live in your memory, begin at this line: let me see, let me\n",
      "see-- 'The rugged Pyrrhus, like the Hyrcanian beast,'-- it is not\n",
      "so:--it begins with Pyrrhus:-- 'The rugged Pyrrhus, he whose sable\n",
      "arms, Black as his purpose, did the night resemble When he lay\n",
      "couched in the ominous horse, Hath now this dread and black complexion\n",
      "smear'd With heraldry more dismal; head to foot Now is he total\n",
      "gules; horridly trick'd With blood of fathers, mothers, daughters,\n",
      "sons, Baked and impasted with the parching streets, That lend a\n",
      "tyrannous and damned light To their lord's murder: roasted in wrath\n",
      "and fire, And thus o'er-sized with coagulate gore, With eyes like\n",
      "carbuncles, the hellish Pyrrhus Old grandsire Priam seeks.' So,\n",
      "proceed you.  LORD POLONIUS 'Fore God, my lord, well spoken, with\n",
      "good accent and good discretion.  First Player 'Anon he finds him\n",
      "Striking too short at Greeks; his antique sword, Rebellious to his\n",
      "arm, lies where it falls, Repugnant to command: unequal match'd,\n",
      "Pyrrhus at Priam drives; in rage strikes wide; But with the whiff\n",
      "and wind of his fell sword The unnerved father falls. Then senseless\n",
      "Ilium, Seeming to feel this blow, with flaming top Stoops to his\n",
      "base, and with a hideous crash Takes prisoner Pyrrhus' ear: for,\n",
      "lo! his sword, Which was declining on the milky head Of reverend\n",
      "Priam, seem'd i' the air to stick: So, as a painted tyrant, Pyrrhus\n",
      "stood, And like a neutral to his will and matter, Did nothing.  But,\n",
      "as we often see, against some storm, A silence in the heavens, the\n",
      "rack stand still, The bold winds speechless and the orb below As\n",
      "hush as death, anon the dreadful thunder Doth rend the region, so,\n",
      "after Pyrrhus' pause, Aroused vengeance sets him new a-work; And\n",
      "never did the Cyclops' hammers fall On Mars's armour forged for\n",
      "proof eterne With less remorse than Pyrrhus' bleeding sword Now\n",
      "falls on Priam.  Out, out, thou strumpet, Fortune! All you gods,\n",
      "In general synod 'take away her power; Break all the spokes and\n",
      "fellies from her wheel, And bowl the round nave down the hill of\n",
      "heaven, As low as to the fiends!' LORD POLONIUS This is too long.\n",
      "HAMLET It shall to the barber's, with your beard. Prithee, say on:\n",
      "he's for a jig or a tale of bawdry, or he sleeps: say on: come to\n",
      "Hecuba.  First Player 'But who, O, who had seen the mobled queen--'\n",
      "HAMLET 'The mobled queen?' LORD POLONIUS That's good; 'mobled queen'\n",
      "is good.  First Player 'Run barefoot up and down, threatening the\n",
      "flames With bisson rheum; a clout upon that head Where late the\n",
      "diadem stood, and for a robe, About her lank and all o'er-teemed\n",
      "loins, A blanket, in the alarm of fear caught up; Who this had seen,\n",
      "with tongue in venom steep'd, 'Gainst Fortune's state would treason\n",
      "have pronounced: But if the gods themselves did see her then When\n",
      "she saw Pyrrhus make malicious sport In mincing with his sword her\n",
      "husband's limbs, The instant burst of clamour that she made, Unless\n",
      "things mortal move them not at all, Would have made milch the burning\n",
      "eyes of heaven, And passion in the gods.' LORD POLONIUS Look, whether\n",
      "he has not turned his colour and has tears in's eyes. Pray you, no\n",
      "more.  HAMLET 'Tis well: I'll have thee speak out the rest soon.\n",
      "Good my lord, will you see the players well bestowed? Do you hear,\n",
      "let them be well used; for they are the abstract and brief chronicles\n",
      "of the time: after your death you were better have a bad epitaph\n",
      "than their ill report while you live.  LORD POLONIUS My lord, I\n",
      "will use them according to their desert.  HAMLET God's bodykins,\n",
      "man, much better: use every man after his desert, and who should\n",
      "'scape whipping?  Use them after your own honour and dignity: the\n",
      "less they deserve, the more merit is in your bounty.  Take them in.\n",
      "LORD POLONIUS Come, sirs.  HAMLET Follow him, friends: we'll hear\n",
      "a play to-morrow.  Exit POLONIUS with all the Players but the First\n",
      "\n",
      "Dost thou hear me, old friend; can you play the Murder of Gonzago?\n",
      "First Player Ay, my lord.  HAMLET We'll ha't to-morrow night. You\n",
      "could, for a need, study a speech of some dozen or sixteen lines,\n",
      "which I would set down and insert in't, could you not?  First Player\n",
      "Ay, my lord.  HAMLET Very well. Follow that lord; and look you mock\n",
      "him not.  Exit First Player\n",
      "\n",
      "My good friends, I'll leave you till night: you are welcome to\n",
      "Elsinore.  ROSENCRANTZ Good my lord!  HAMLET Ay, so, God be wi' ye;\n",
      "Exeunt ROSENCRANTZ and GUILDENSTERN\n",
      "\n",
      "Now I am alone.  O, what a rogue and peasant slave am I!  Is it not\n",
      "monstrous that this player here, But in a fiction, in a dream of\n",
      "passion, Could force his soul so to his own conceit That from her\n",
      "working all his visage wann'd, Tears in his eyes, distraction in's\n",
      "aspect, A broken voice, and his whole function suiting With forms\n",
      "to his conceit? and all for nothing!  For Hecuba!  What's Hecuba\n",
      "to him, or he to Hecuba, That he should weep for her? What would\n",
      "he do, Had he the motive and the cue for passion That I have? He\n",
      "would drown the stage with tears And cleave the general ear with\n",
      "horrid speech, Make mad the guilty and appal the free, Confound the\n",
      "ignorant, and amaze indeed The very faculties of eyes and ears. Yet\n",
      "I, A dull and muddy-mettled rascal, peak, Like John-a-dreams,\n",
      "unpregnant of my cause, And can say nothing; no, not for a king,\n",
      "Upon whose property and most dear life A damn'd defeat was made.\n",
      "Am I a coward?  Who calls me villain? breaks my pate across?  Plucks\n",
      "off my beard, and blows it in my face?  Tweaks me by the nose? gives\n",
      "me the lie i' the throat, As deep as to the lungs? who does me this?\n",
      "Ha!  'Swounds, I should take it: for it cannot be But I am\n",
      "pigeon-liver'd and lack gall To make oppression bitter, or ere this\n",
      "I should have fatted all the region kites With this slave's offal:\n",
      "bloody, bawdy villain!  Remorseless, treacherous, lecherous, kindless\n",
      "villain!  O, vengeance!  Why, what an ass am I! This is most brave,\n",
      "That I, the son of a dear father murder'd, Prompted to my revenge\n",
      "by heaven and hell, Must, like a whore, unpack my heart with words,\n",
      "And fall a-cursing, like a very drab, A scullion!  Fie upon't! foh!\n",
      "About, my brain! I have heard That guilty creatures sitting at a\n",
      "play Have by the very cunning of the scene Been struck so to the\n",
      "soul that presently They have proclaim'd their malefactions; For\n",
      "murder, though it have no tongue, will speak With most miraculous\n",
      "organ. I'll have these players Play something like the murder of\n",
      "my father Before mine uncle: I'll observe his looks; I'll tent him\n",
      "to the quick: if he but blench, I know my course. The spirit that\n",
      "I have seen May be the devil: and the devil hath power To assume a\n",
      "pleasing shape; yea, and perhaps Out of my weakness and my melancholy,\n",
      "As he is very potent with such spirits, Abuses me to damn me: I'll\n",
      "have grounds More relative than this: the play 's the thing Wherein\n",
      "I'll catch the conscience of the king.  Exit\n",
      "\n",
      "ACT III\n",
      "\n",
      "SCENE I. A room in the castle.\n",
      "\n",
      "Enter KING CLAUDIUS, QUEEN GERTRUDE, POLONIUS, OPHELIA, ROSENCRANTZ,\n",
      "and GUILDENSTERN KING CLAUDIUS And can you, by no drift of circumstance,\n",
      "Get from him why he puts on this confusion, Grating so harshly all\n",
      "his days of quiet With turbulent and dangerous lunacy?  ROSENCRANTZ\n",
      "He does confess he feels himself distracted; But from what cause\n",
      "he will by no means speak.  GUILDENSTERN Nor do we find him forward\n",
      "to be sounded, But, with a crafty madness, keeps aloof, When we\n",
      "would bring him on to some confession Of his true state.  QUEEN\n",
      "GERTRUDE Did he receive you well?  ROSENCRANTZ Most like a gentleman.\n",
      "GUILDENSTERN But with much forcing of his disposition.  ROSENCRANTZ\n",
      "Niggard of question; but, of our demands, Most free in his reply.\n",
      "QUEEN GERTRUDE Did you assay him?  To any pastime?  ROSENCRANTZ\n",
      "Madam, it so fell out, that certain players We o'er-raught on the\n",
      "way: of these we told him; And there did seem in him a kind of joy\n",
      "To hear of it: they are about the court, And, as I think, they have\n",
      "already order This night to play before him.  LORD POLONIUS 'Tis\n",
      "most true: And he beseech'd me to entreat your majesties To hear\n",
      "and see the matter.  KING CLAUDIUS With all my heart; and it doth\n",
      "much content me To hear him so inclined.  Good gentlemen, give him\n",
      "a further edge, And drive his purpose on to these delights.\n",
      "ROSENCRANTZ We shall, my lord.  Exeunt ROSENCRANTZ and GUILDENSTERN\n",
      "\n",
      "KING CLAUDIUS Sweet Gertrude, leave us too; For we have closely\n",
      "sent for Hamlet hither, That he, as 'twere by accident, may here\n",
      "Affront Ophelia: Her father and myself, lawful espials, Will so\n",
      "bestow ourselves that, seeing, unseen, We may of their encounter\n",
      "frankly judge, And gather by him, as he is behaved, If 't be the\n",
      "affliction of his love or no That thus he suffers for.  QUEEN\n",
      "GERTRUDE I shall obey you.  And for your part, Ophelia, I do wish\n",
      "That your good beauties be the happy cause Of Hamlet's wildness:\n",
      "so shall I hope your virtues Will bring him to his wonted way again,\n",
      "To both your honours.  OPHELIA Madam, I wish it may.  Exit QUEEN\n",
      "GERTRUDE\n",
      "\n",
      "LORD POLONIUS Ophelia, walk you here. Gracious, so please you, We\n",
      "will bestow ourselves.  To OPHELIA\n",
      "\n",
      "Read on this book; That show of such an exercise may colour Your\n",
      "loneliness. We are oft to blame in this,-- 'Tis too much proved--that\n",
      "with devotion's visage And pious action we do sugar o'er The devil\n",
      "himself.  KING CLAUDIUS [Aside] O, 'tis too true!  How smart a lash\n",
      "that speech doth give my conscience!  The harlot's cheek, beautied\n",
      "with plastering art, Is not more ugly to the thing that helps it\n",
      "Than is my deed to my most painted word: O heavy burthen!  LORD\n",
      "POLONIUS I hear him coming: let's withdraw, my lord.  Exeunt KING\n",
      "CLAUDIUS and POLONIUS\n",
      "\n",
      "Enter HAMLET\n",
      "\n",
      "HAMLET To be, or not to be: that is the question: Whether 'tis\n",
      "nobler in the mind to suffer The slings and arrows of outrageous\n",
      "fortune, Or to take arms against a sea of troubles, And by opposing\n",
      "end them? To die: to sleep; No more; and by a sleep to say we end\n",
      "The heart-ache and the thousand natural shocks That flesh is heir\n",
      "to, 'tis a consummation Devoutly to be wish'd. To die, to sleep;\n",
      "To sleep: perchance to dream: ay, there's the rub; For in that sleep\n",
      "of death what dreams may come When we have shuffled off this mortal\n",
      "coil, Must give us pause: there's the respect That makes calamity\n",
      "of so long life; For who would bear the whips and scorns of time,\n",
      "The oppressor's wrong, the proud man's contumely, The pangs of\n",
      "despised love, the law's delay, The insolence of office and the\n",
      "spurns That patient merit of the unworthy takes, When he himself\n",
      "might his quietus make With a bare bodkin? who would fardels bear,\n",
      "To grunt and sweat under a weary life, But that the dread of something\n",
      "after death, The undiscover'd country from whose bourn No traveller\n",
      "returns, puzzles the will And makes us rather bear those ills we\n",
      "have Than fly to others that we know not of?  Thus conscience does\n",
      "make cowards of us all; And thus the native hue of resolution Is\n",
      "sicklied o'er with the pale cast of thought, And enterprises of\n",
      "great pith and moment With this regard their currents turn awry,\n",
      "And lose the name of action.--Soft you now!  The fair Ophelia!\n",
      "Nymph, in thy orisons Be all my sins remember'd.  OPHELIA Good my\n",
      "lord, How does your honour for this many a day?  HAMLET I humbly\n",
      "thank you; well, well, well.  OPHELIA My lord, I have remembrances\n",
      "of yours, That I have longed long to re-deliver; I pray you, now\n",
      "receive them.  HAMLET No, not I; I never gave you aught.  OPHELIA\n",
      "My honour'd lord, you know right well you did; And, with them, words\n",
      "of so sweet breath composed As made the things more rich: their\n",
      "perfume lost, Take these again; for to the noble mind Rich gifts\n",
      "wax poor when givers prove unkind.  There, my lord.  HAMLET Ha, ha!\n",
      "are you honest?  OPHELIA My lord?  HAMLET Are you fair?  OPHELIA\n",
      "What means your lordship?  HAMLET That if you be honest and fair,\n",
      "your honesty should admit no discourse to your beauty.  OPHELIA\n",
      "Could beauty, my lord, have better commerce than with honesty?\n",
      "HAMLET Ay, truly; for the power of beauty will sooner transform\n",
      "honesty from what it is to a bawd than the force of honesty can\n",
      "translate beauty into his likeness: this was sometime a paradox,\n",
      "but now the time gives it proof. I did love you once.  OPHELIA\n",
      "Indeed, my lord, you made me believe so.  HAMLET You should not\n",
      "have believed me; for virtue cannot so inoculate our old stock but\n",
      "we shall relish of it: I loved you not.  OPHELIA I was the more\n",
      "deceived.  HAMLET Get thee to a nunnery: why wouldst thou be a\n",
      "breeder of sinners? I am myself indifferent honest; but yet I could\n",
      "accuse me of such things that it were better my mother had not borne\n",
      "me: I am very proud, revengeful, ambitious, with more offences at\n",
      "my beck than I have thoughts to put them in, imagination to give\n",
      "them shape, or time to act them in. What should such fellows as I\n",
      "do crawling between earth and heaven? We are arrant knaves, all;\n",
      "believe none of us. Go thy ways to a nunnery.  Where's your father?\n",
      "OPHELIA At home, my lord.  HAMLET Let the doors be shut upon him,\n",
      "that he may play the fool no where but in's own house. Farewell.\n",
      "OPHELIA O, help him, you sweet heavens!  HAMLET If thou dost marry,\n",
      "I'll give thee this plague for thy dowry: be thou as chaste as ice,\n",
      "as pure as snow, thou shalt not escape calumny. Get thee to a\n",
      "nunnery, go: farewell. Or, if thou wilt needs marry, marry a fool;\n",
      "for wise men know well enough what monsters you make of them. To a\n",
      "nunnery, go, and quickly too. Farewell.  OPHELIA O heavenly powers,\n",
      "restore him!  HAMLET I have heard of your paintings too, well enough;\n",
      "God has given you one face, and you make yourselves another: you\n",
      "jig, you amble, and you lisp, and nick-name God's creatures, and\n",
      "make your wantonness your ignorance. Go to, I'll no more on't; it\n",
      "hath made me mad. I say, we will have no more marriages: those that\n",
      "are married already, all but one, shall live; the rest shall keep\n",
      "as they are. To a nunnery, go.  Exit\n",
      "\n",
      "OPHELIA O, what a noble mind is here o'erthrown!  The courtier's,\n",
      "soldier's, scholar's, eye, tongue, sword; The expectancy and rose\n",
      "of the fair state, The glass of fashion and the mould of form, The\n",
      "observed of all observers, quite, quite down!  And I, of ladies\n",
      "most deject and wretched, That suck'd the honey of his music vows,\n",
      "Now see that noble and most sovereign reason, Like sweet bells\n",
      "jangled, out of tune and harsh; That unmatch'd form and feature of\n",
      "blown youth Blasted with ecstasy: O, woe is me, To have seen what\n",
      "I have seen, see what I see!  Re-enter KING CLAUDIUS and POLONIUS\n",
      "\n",
      "KING CLAUDIUS Love! his affections do not that way tend; Nor what\n",
      "he spake, though it lack'd form a little, Was not like madness.\n",
      "There's something in his soul, O'er which his melancholy sits on\n",
      "brood; And I do doubt the hatch and the disclose Will be some danger:\n",
      "which for to prevent, I have in quick determination Thus set it\n",
      "down: he shall with speed to England, For the demand of our neglected\n",
      "tribute Haply the seas and countries different With variable objects\n",
      "shall expel This something-settled matter in his heart, Whereon his\n",
      "brains still beating puts him thus From fashion of himself. What\n",
      "think you on't?  LORD POLONIUS It shall do well: but yet do I believe\n",
      "The origin and commencement of his grief Sprung from neglected love.\n",
      "How now, Ophelia!  You need not tell us what Lord Hamlet said; We\n",
      "heard it all. My lord, do as you please; But, if you hold it fit,\n",
      "after the play Let his queen mother all alone entreat him To show\n",
      "his grief: let her be round with him; And I'll be placed, so please\n",
      "you, in the ear Of all their conference. If she find him not, To\n",
      "England send him, or confine him where Your wisdom best shall think.\n",
      "KING CLAUDIUS It shall be so: Madness in great ones must not unwatch'd\n",
      "go.  Exeunt\n",
      "\n",
      "SCENE II. A hall in the castle.\n",
      "\n",
      "Enter HAMLET and Players HAMLET Speak the speech, I pray you, as I\n",
      "pronounced it to you, trippingly on the tongue: but if you mouth\n",
      "it, as many of your players do, I had as lief the town-crier spoke\n",
      "my lines. Nor do not saw the air too much with your hand, thus, but\n",
      "use all gently; for in the very torrent, tempest, and, as I may\n",
      "say, the whirlwind of passion, you must acquire and beget a temperance\n",
      "that may give it smoothness. O, it offends me to the soul to hear\n",
      "a robustious periwig-pated fellow tear a passion to tatters, to\n",
      "very rags, to split the ears of the groundlings, who for the most\n",
      "part are capable of nothing but inexplicable dumbshows and noise:\n",
      "I would have such a fellow whipped for o'erdoing Termagant; it\n",
      "out-herods Herod: pray you, avoid it.  First Player I warrant your\n",
      "honour.  HAMLET Be not too tame neither, but let your own discretion\n",
      "be your tutor: suit the action to the word, the word to the action;\n",
      "with this special o'erstep not the modesty of nature: for any thing\n",
      "so overdone is from the purpose of playing, whose end, both at the\n",
      "first and now, was and is, to hold, as 'twere, the mirror up to\n",
      "nature; to show virtue her own feature, scorn her own image, and\n",
      "the very age and body of the time his form and pressure. Now this\n",
      "overdone, or come tardy off, though it make the unskilful laugh,\n",
      "cannot but make the judicious grieve; the censure of the which one\n",
      "must in your allowance o'erweigh a whole theatre of others. O, there\n",
      "be players that I have seen play, and heard others praise, and that\n",
      "highly, not to speak it profanely, that, neither having the accent\n",
      "of Christians nor the gait of Christian, pagan, nor man, have so\n",
      "strutted and bellowed that I have thought some of nature's journeymen\n",
      "had made men and not made them well, they imitated humanity so\n",
      "abominably.  First Player I hope we have reformed that indifferently\n",
      "with us, sir.  HAMLET O, reform it altogether. And let those that\n",
      "play your clowns speak no more than is set down for them; for there\n",
      "be of them that will themselves laugh, to set on some quantity of\n",
      "barren spectators to laugh too; though, in the mean time, some\n",
      "necessary question of the play be then to be considered: that's\n",
      "villanous, and shows a most pitiful ambition in the fool that uses\n",
      "it. Go, make you ready.  Exeunt Players\n",
      "\n",
      "Enter POLONIUS, ROSENCRANTZ, and GUILDENSTERN\n",
      "\n",
      "How now, my lord! I will the king hear this piece of work?  LORD\n",
      "POLONIUS And the queen too, and that presently.  HAMLET Bid the\n",
      "players make haste.  Exit POLONIUS\n",
      "\n",
      "Will you two help to hasten them?  ROSENCRANTZ GUILDENSTERN We will,\n",
      "my lord.  Exeunt ROSENCRANTZ and GUILDENSTERN\n",
      "\n",
      "HAMLET What ho! Horatio!  Enter HORATIO\n",
      "\n",
      "HORATIO Here, sweet lord, at your service.  HAMLET Horatio, thou\n",
      "art e'en as just a man As e'er my conversation coped withal.  HORATIO\n",
      "O, my dear lord,-- HAMLET Nay, do not think I flatter; For what\n",
      "advancement may I hope from thee That no revenue hast but thy good\n",
      "spirits, To feed and clothe thee? Why should the poor be flatter'd?\n",
      "No, let the candied tongue lick absurd pomp, And crook the pregnant\n",
      "hinges of the knee Where thrift may follow fawning. Dost thou hear?\n",
      "Since my dear soul was mistress of her choice And could of men\n",
      "distinguish, her election Hath seal'd thee for herself; for thou\n",
      "hast been As one, in suffering all, that suffers nothing, A man\n",
      "that fortune's buffets and rewards Hast ta'en with equal thanks:\n",
      "and blest are those Whose blood and judgment are so well commingled,\n",
      "That they are not a pipe for fortune's finger To sound what stop\n",
      "she please. Give me that man That is not passion's slave, and I\n",
      "will wear him In my heart's core, ay, in my heart of heart, As I\n",
      "do thee.--Something too much of this.-- There is a play to-night\n",
      "before the king; One scene of it comes near the circumstance Which\n",
      "I have told thee of my father's death: I prithee, when thou seest\n",
      "that act afoot, Even with the very comment of thy soul Observe mine\n",
      "uncle: if his occulted guilt Do not itself unkennel in one speech,\n",
      "It is a damned ghost that we have seen, And my imaginations are as\n",
      "foul As Vulcan's stithy. Give him heedful note; For I mine eyes\n",
      "will rivet to his face, And after we will both our judgments join\n",
      "In censure of his seeming.  HORATIO Well, my lord: If he steal aught\n",
      "the whilst this play is playing, And 'scape detecting, I will pay\n",
      "the theft.  HAMLET They are coming to the play; I must be idle: Get\n",
      "you a place.  Danish march. A flourish. Enter KING CLAUDIUS, QUEEN\n",
      "GERTRUDE, POLONIUS, OPHELIA, ROSENCRANTZ, GUILDENSTERN, and others\n",
      "\n",
      "KING CLAUDIUS How fares our cousin Hamlet?  HAMLET Excellent, i'\n",
      "faith; of the chameleon's dish: I eat the air, promise-crammed: you\n",
      "cannot feed capons so.  KING CLAUDIUS I have nothing with this\n",
      "answer, Hamlet; these words are not mine.  HAMLET No, nor mine now.\n",
      "To POLONIUS\n",
      "\n",
      "My lord, you played once i' the university, you say?  LORD POLONIUS\n",
      "That did I, my lord; and was accounted a good actor.  HAMLET What\n",
      "did you enact?  LORD POLONIUS I did enact Julius Caesar: I was\n",
      "killed i' the Capitol; Brutus killed me.  HAMLET It was a brute\n",
      "part of him to kill so capital a calf there. Be the players ready?\n",
      "ROSENCRANTZ Ay, my lord; they stay upon your patience.  QUEEN\n",
      "GERTRUDE Come hither, my dear Hamlet, sit by me.  HAMLET No, good\n",
      "mother, here's metal more attractive.  LORD POLONIUS [To KING\n",
      "CLAUDIUS] O, ho! do you mark that?  HAMLET Lady, shall I lie in\n",
      "your lap?  Lying down at OPHELIA's feet\n",
      "\n",
      "OPHELIA No, my lord.  HAMLET I mean, my head upon your lap?  OPHELIA\n",
      "Ay, my lord.  HAMLET Do you think I meant country matters?  OPHELIA\n",
      "I think nothing, my lord.  HAMLET That's a fair thought to lie\n",
      "between maids' legs.  OPHELIA What is, my lord?  HAMLET Nothing.\n",
      "OPHELIA You are merry, my lord.  HAMLET Who, I?  OPHELIA Ay, my\n",
      "lord.  HAMLET O God, your only jig-maker. What should a man do but\n",
      "be merry? for, look you, how cheerfully my mother looks, and my\n",
      "father died within these two hours.  OPHELIA Nay, 'tis twice two\n",
      "months, my lord.  HAMLET So long? Nay then, let the devil wear\n",
      "black, for I'll have a suit of sables. O heavens! die two months\n",
      "ago, and not forgotten yet? Then there's hope a great man's memory\n",
      "may outlive his life half a year: but, by'r lady, he must build\n",
      "churches, then; or else shall he suffer not thinking on, with the\n",
      "hobby-horse, whose epitaph is 'For, O, for, O, the hobby-horse is\n",
      "forgot.' Hautboys play. The dumb-show enters\n",
      "\n",
      "Enter a King and a Queen very lovingly; the Queen embracing him,\n",
      "and he her. She kneels, and makes show of protestation unto him.\n",
      "He takes her up, and declines his head upon her neck: lays him down\n",
      "upon a bank of flowers: she, seeing him asleep, leaves him. Anon\n",
      "comes in a fellow, takes off his crown, kisses it, and pours poison\n",
      "in the King's ears, and exit. The Queen returns; finds the King\n",
      "dead, and makes passionate action. The Poisoner, with some two or\n",
      "three Mutes, comes in again, seeming to lament with her. The dead\n",
      "body is carried away. The Poisoner wooes the Queen with gifts: she\n",
      "seems loath and unwilling awhile, but in the end accepts his love\n",
      "\n",
      "Exeunt\n",
      "\n",
      "OPHELIA What means this, my lord?  HAMLET Marry, this is miching\n",
      "mallecho; it means mischief.  OPHELIA Belike this show imports the\n",
      "argument of the play.  Enter Prologue\n",
      "\n",
      "HAMLET We shall know by this fellow: the players cannot keep counsel;\n",
      "they'll tell all.  OPHELIA Will he tell us what this show meant?\n",
      "HAMLET Ay, or any show that you'll show him: be not you ashamed to\n",
      "show, he'll not shame to tell you what it means.  OPHELIA You are\n",
      "naught, you are naught: I'll mark the play.  Prologue For us, and\n",
      "for our tragedy, Here stooping to your clemency, We beg your hearing\n",
      "patiently.  Exit\n",
      "\n",
      "HAMLET Is this a prologue, or the posy of a ring?  OPHELIA 'Tis\n",
      "brief, my lord.  HAMLET As woman's love.  Enter two Players, King\n",
      "and Queen\n",
      "\n",
      "Player King Full thirty times hath Phoebus' cart gone round Neptune's\n",
      "salt wash and Tellus' orbed ground, And thirty dozen moons with\n",
      "borrow'd sheen About the world have times twelve thirties been,\n",
      "Since love our hearts and Hymen did our hands Unite commutual in\n",
      "most sacred bands.  Player Queen So many journeys may the sun and\n",
      "moon Make us again count o'er ere love be done!  But, woe is me,\n",
      "you are so sick of late, So far from cheer and from your former\n",
      "state, That I distrust you. Yet, though I distrust, Discomfort you,\n",
      "my lord, it nothing must: For women's fear and love holds quantity;\n",
      "In neither aught, or in extremity.  Now, what my love is, proof\n",
      "hath made you know; And as my love is sized, my fear is so: Where\n",
      "love is great, the littlest doubts are fear; Where little fears\n",
      "grow great, great love grows there.  Player King 'Faith, I must\n",
      "leave thee, love, and shortly too; My operant powers their functions\n",
      "leave to do: And thou shalt live in this fair world behind, Honour'd,\n",
      "beloved; and haply one as kind For husband shalt thou-- Player Queen\n",
      "O, confound the rest!  Such love must needs be treason in my breast:\n",
      "In second husband let me be accurst!  None wed the second but who\n",
      "kill'd the first.  HAMLET [Aside] Wormwood, wormwood.  Player Queen\n",
      "The instances that second marriage move Are base respects of thrift,\n",
      "but none of love: A second time I kill my husband dead, When second\n",
      "husband kisses me in bed.  Player King I do believe you think what\n",
      "now you speak; But what we do determine oft we break.  Purpose is\n",
      "but the slave to memory, Of violent birth, but poor validity; Which\n",
      "now, like fruit unripe, sticks on the tree; But fall, unshaken,\n",
      "when they mellow be.  Most necessary 'tis that we forget To pay\n",
      "ourselves what to ourselves is debt: What to ourselves in passion\n",
      "we propose, The passion ending, doth the purpose lose.  The violence\n",
      "of either grief or joy Their own enactures with themselves destroy:\n",
      "Where joy most revels, grief doth most lament; Grief joys, joy\n",
      "grieves, on slender accident.  This world is not for aye, nor 'tis\n",
      "not strange That even our loves should with our fortunes change;\n",
      "For 'tis a question left us yet to prove, Whether love lead fortune,\n",
      "or else fortune love.  The great man down, you mark his favourite\n",
      "flies; The poor advanced makes friends of enemies.  And hitherto\n",
      "doth love on fortune tend; For who not needs shall never lack a\n",
      "friend, And who in want a hollow friend doth try, Directly seasons\n",
      "him his enemy.  But, orderly to end where I begun, Our wills and\n",
      "fates do so contrary run That our devices still are overthrown; Our\n",
      "thoughts are ours, their ends none of our own: So think thou wilt\n",
      "no second husband wed; But die thy thoughts when thy first lord is\n",
      "dead.  Player Queen Nor earth to me give food, nor heaven light!\n",
      "Sport and repose lock from me day and night!  To desperation turn\n",
      "my trust and hope!  An anchor's cheer in prison be my scope!  Each\n",
      "opposite that blanks the face of joy Meet what I would have well\n",
      "and it destroy!  Both here and hence pursue me lasting strife, If,\n",
      "once a widow, ever I be wife!  HAMLET If she should break it now!\n",
      "Player King 'Tis deeply sworn. Sweet, leave me here awhile; My\n",
      "spirits grow dull, and fain I would beguile The tedious day with\n",
      "sleep.  Sleeps\n",
      "\n",
      "Player Queen Sleep rock thy brain, And never come mischance between\n",
      "us twain!  Exit\n",
      "\n",
      "HAMLET Madam, how like you this play?  QUEEN GERTRUDE The lady\n",
      "protests too much, methinks.  HAMLET O, but she'll keep her word.\n",
      "KING CLAUDIUS Have you heard the argument? Is there no offence in\n",
      "'t?  HAMLET No, no, they do but jest, poison in jest; no offence\n",
      "i' the world.  KING CLAUDIUS What do you call the play?  HAMLET The\n",
      "Mouse-trap. Marry, how? Tropically. This play is the image of a\n",
      "murder done in Vienna: Gonzago is the duke's name; his wife, Baptista:\n",
      "you shall see anon; 'tis a knavish piece of work: but what o' that?\n",
      "your majesty and we that have free souls, it touches us not: let\n",
      "the galled jade wince, our withers are unwrung.  Enter LUCIANUS\n",
      "\n",
      "This is one Lucianus, nephew to the king.  OPHELIA You are as good\n",
      "as a chorus, my lord.  HAMLET I could interpret between you and\n",
      "your love, if I could see the puppets dallying.  OPHELIA You are\n",
      "keen, my lord, you are keen.  HAMLET It would cost you a groaning\n",
      "to take off my edge.  OPHELIA Still better, and worse.  HAMLET So\n",
      "you must take your husbands. Begin, murderer; pox, leave thy damnable\n",
      "faces, and begin. Come: 'the croaking raven doth bellow for revenge.'\n",
      "LUCIANUS Thoughts black, hands apt, drugs fit, and time agreeing;\n",
      "Confederate season, else no creature seeing; Thou mixture rank, of\n",
      "midnight weeds collected, With Hecate's ban thrice blasted, thrice\n",
      "infected, Thy natural magic and dire property, On wholesome life\n",
      "usurp immediately.  Pours the poison into the sleeper's ears\n",
      "\n",
      "HAMLET He poisons him i' the garden for's estate. His name's Gonzago:\n",
      "the story is extant, and writ in choice Italian: you shall see anon\n",
      "how the murderer gets the love of Gonzago's wife.  OPHELIA The king\n",
      "rises.  HAMLET What, frighted with false fire!  QUEEN GERTRUDE How\n",
      "fares my lord?  LORD POLONIUS Give o'er the play.  KING CLAUDIUS\n",
      "Give me some light: away!  All Lights, lights, lights!  Exeunt all\n",
      "but HAMLET and HORATIO\n",
      "\n",
      "HAMLET Why, let the stricken deer go weep, The hart ungalled play;\n",
      "For some must watch, while some must sleep: So runs the world away.\n",
      "Would not this, sir, and a forest of feathers-- if the rest of my\n",
      "fortunes turn Turk with me--with two Provincial roses on my razed\n",
      "shoes, get me a fellowship in a cry of players, sir?  HORATIO Half\n",
      "a share.  HAMLET A whole one, I.  For thou dost know, O Damon dear,\n",
      "This realm dismantled was Of Jove himself; and now reigns here A\n",
      "very, very--pajock.  HORATIO You might have rhymed.  HAMLET O good\n",
      "Horatio, I'll take the ghost's word for a thousand pound. Didst\n",
      "perceive?  HORATIO Very well, my lord.  HAMLET Upon the talk of the\n",
      "poisoning?  HORATIO I did very well note him.  HAMLET Ah, ha! Come,\n",
      "some music! come, the recorders!  For if the king like not the\n",
      "comedy, Why then, belike, he likes it not, perdy.  Come, some music!\n",
      "Re-enter ROSENCRANTZ and GUILDENSTERN\n",
      "\n",
      "GUILDENSTERN Good my lord, vouchsafe me a word with you.  HAMLET\n",
      "Sir, a whole history.  GUILDENSTERN The king, sir,-- HAMLET Ay,\n",
      "sir, what of him?  GUILDENSTERN Is in his retirement marvellous\n",
      "distempered.  HAMLET With drink, sir?  GUILDENSTERN No, my lord,\n",
      "rather with choler.  HAMLET Your wisdom should show itself more\n",
      "richer to signify this to his doctor; for, for me to put him to his\n",
      "purgation would perhaps plunge him into far more choler.  GUILDENSTERN\n",
      "Good my lord, put your discourse into some frame and start not so\n",
      "wildly from my affair.  HAMLET I am tame, sir: pronounce.  GUILDENSTERN\n",
      "The queen, your mother, in most great affliction of spirit, hath\n",
      "sent me to you.  HAMLET You are welcome.  GUILDENSTERN Nay, good\n",
      "my lord, this courtesy is not of the right breed. If it shall please\n",
      "you to make me a wholesome answer, I will do your mother's commandment:\n",
      "if not, your pardon and my return shall be the end of my business.\n",
      "HAMLET Sir, I cannot.  GUILDENSTERN What, my lord?  HAMLET Make you\n",
      "a wholesome answer; my wit's diseased: but, sir, such answer as I\n",
      "can make, you shall command; or, rather, as you say, my mother:\n",
      "therefore no more, but to the matter: my mother, you say,-- ROSENCRANTZ\n",
      "Then thus she says; your behavior hath struck her into amazement\n",
      "and admiration.  HAMLET O wonderful son, that can so astonish a\n",
      "mother! But is there no sequel at the heels of this mother's\n",
      "admiration? Impart.  ROSENCRANTZ She desires to speak with you in\n",
      "her closet, ere you go to bed.  HAMLET We shall obey, were she ten\n",
      "times our mother. Have you any further trade with us?  ROSENCRANTZ\n",
      "My lord, you once did love me.  HAMLET So I do still, by these\n",
      "pickers and stealers.  ROSENCRANTZ Good my lord, what is your cause\n",
      "of distemper? you do, surely, bar the door upon your own liberty,\n",
      "if you deny your griefs to your friend.  HAMLET Sir, I lack\n",
      "advancement.  ROSENCRANTZ How can that be, when you have the voice\n",
      "of the king himself for your succession in Denmark?  HAMLET Ay, but\n",
      "sir, 'While the grass grows,'--the proverb is something musty.\n",
      "Re-enter Players with recorders\n",
      "\n",
      "O, the recorders! let me see one. To withdraw with you:--why do you\n",
      "go about to recover the wind of me, as if you would drive me into\n",
      "a toil?  GUILDENSTERN O, my lord, if my duty be too bold, my love\n",
      "is too unmannerly.  HAMLET I do not well understand that. Will you\n",
      "play upon this pipe?  GUILDENSTERN My lord, I cannot.  HAMLET I\n",
      "pray you.  GUILDENSTERN Believe me, I cannot.  HAMLET I do beseech\n",
      "you.  GUILDENSTERN I know no touch of it, my lord.  HAMLET 'Tis as\n",
      "easy as lying: govern these ventages with your lingers and thumb,\n",
      "give it breath with your mouth, and it will discourse most eloquent\n",
      "music.  Look you, these are the stops.  GUILDENSTERN But these\n",
      "cannot I command to any utterance of harmony; I have not the skill.\n",
      "HAMLET Why, look you now, how unworthy a thing you make of me! You\n",
      "would play upon me; you would seem to know my stops; you would pluck\n",
      "out the heart of my mystery; you would sound me from my lowest note\n",
      "to the top of my compass: and there is much music, excellent voice,\n",
      "in this little organ; yet cannot you make it speak. 'Sblood, do you\n",
      "think I am easier to be played on than a pipe? Call me what instrument\n",
      "you will, though you can fret me, yet you cannot play upon me.\n",
      "Enter POLONIUS\n",
      "\n",
      "God bless you, sir!  LORD POLONIUS My lord, the queen would speak\n",
      "with you, and presently.  HAMLET Do you see yonder cloud that's\n",
      "almost in shape of a camel?  LORD POLONIUS By the mass, and 'tis\n",
      "like a camel, indeed.  HAMLET Methinks it is like a weasel.  LORD\n",
      "POLONIUS It is backed like a weasel.  HAMLET Or like a whale?  LORD\n",
      "POLONIUS Very like a whale.  HAMLET Then I will come to my mother\n",
      "by and by. They fool me to the top of my bent. I will come by and\n",
      "by.  LORD POLONIUS I will say so.  HAMLET By and by is easily said.\n",
      "Exit POLONIUS\n",
      "\n",
      "Leave me, friends.  Exeunt all but HAMLET\n",
      "\n",
      "Tis now the very witching time of night, When churchyards yawn and\n",
      "hell itself breathes out Contagion to this world: now could I drink\n",
      "hot blood, And do such bitter business as the day Would quake to\n",
      "look on. Soft! now to my mother.  O heart, lose not thy nature; let\n",
      "not ever The soul of Nero enter this firm bosom: Let me be cruel,\n",
      "not unnatural: I will speak daggers to her, but use none; My tongue\n",
      "and soul in this be hypocrites; How in my words soever she be shent,\n",
      "To give them seals never, my soul, consent!  Exit\n",
      "\n",
      "SCENE III. A room in the castle.\n",
      "\n",
      "Enter KING CLAUDIUS, ROSENCRANTZ, and GUILDENSTERN KING CLAUDIUS I\n",
      "like him not, nor stands it safe with us To let his madness range.\n",
      "Therefore prepare you; I your commission will forthwith dispatch,\n",
      "And he to England shall along with you: The terms of our estate may\n",
      "not endure Hazard so dangerous as doth hourly grow Out of his\n",
      "lunacies.  GUILDENSTERN We will ourselves provide: Most holy and\n",
      "religious fear it is To keep those many many bodies safe That live\n",
      "and feed upon your majesty.  ROSENCRANTZ The single and peculiar\n",
      "life is bound, With all the strength and armour of the mind, To\n",
      "keep itself from noyance; but much more That spirit upon whose weal\n",
      "depend and rest The lives of many. The cease of majesty Dies not\n",
      "alone; but, like a gulf, doth draw What's near it with it: it is a\n",
      "massy wheel, Fix'd on the summit of the highest mount, To whose\n",
      "huge spokes ten thousand lesser things Are mortised and adjoin'd;\n",
      "which, when it falls, Each small annexment, petty consequence,\n",
      "Attends the boisterous ruin. Never alone Did the king sigh, but\n",
      "with a general groan.  KING CLAUDIUS Arm you, I pray you, to this\n",
      "speedy voyage; For we will fetters put upon this fear, Which now\n",
      "goes too free-footed.  ROSENCRANTZ GUILDENSTERN We will haste us.\n",
      "Exeunt ROSENCRANTZ and GUILDENSTERN\n",
      "\n",
      "Enter POLONIUS\n",
      "\n",
      "LORD POLONIUS My lord, he's going to his mother's closet: Behind\n",
      "the arras I'll convey myself, To hear the process; and warrant\n",
      "she'll tax him home: And, as you said, and wisely was it said, 'Tis\n",
      "meet that some more audience than a mother, Since nature makes them\n",
      "partial, should o'erhear The speech, of vantage. Fare you well, my\n",
      "liege: I'll call upon you ere you go to bed, And tell you what I\n",
      "know.  KING CLAUDIUS Thanks, dear my lord.  Exit POLONIUS\n",
      "\n",
      "O, my offence is rank it smells to heaven; It hath the primal eldest\n",
      "curse upon't, A brother's murder. Pray can I not, Though inclination\n",
      "be as sharp as will: My stronger guilt defeats my strong intent;\n",
      "And, like a man to double business bound, I stand in pause where I\n",
      "shall first begin, And both neglect. What if this cursed hand Were\n",
      "thicker than itself with brother's blood, Is there not rain enough\n",
      "in the sweet heavens To wash it white as snow? Whereto serves mercy\n",
      "But to confront the visage of offence?  And what's in prayer but\n",
      "this two-fold force, To be forestalled ere we come to fall, Or\n",
      "pardon'd being down? Then I'll look up; My fault is past. But, O,\n",
      "what form of prayer Can serve my turn? 'Forgive me my foul murder'?\n",
      "That cannot be; since I am still possess'd Of those effects for\n",
      "which I did the murder, My crown, mine own ambition and my queen.\n",
      "May one be pardon'd and retain the offence?  In the corrupted\n",
      "currents of this world Offence's gilded hand may shove by justice,\n",
      "And oft 'tis seen the wicked prize itself Buys out the law: but\n",
      "'tis not so above; There is no shuffling, there the action lies In\n",
      "his true nature; and we ourselves compell'd, Even to the teeth and\n",
      "forehead of our faults, To give in evidence. What then? what rests?\n",
      "Try what repentance can: what can it not?  Yet what can it when one\n",
      "can not repent?  O wretched state! O bosom black as death!  O limed\n",
      "soul, that, struggling to be free, Art more engaged! Help, angels!\n",
      "Make assay!  Bow, stubborn knees; and, heart with strings of steel,\n",
      "Be soft as sinews of the newborn babe!  All may be well.  Retires\n",
      "and kneels\n",
      "\n",
      "Enter HAMLET\n",
      "\n",
      "HAMLET Now might I do it pat, now he is praying; And now I'll do't.\n",
      "And so he goes to heaven; And so am I revenged. That would be\n",
      "scann'd: A villain kills my father; and for that, I, his sole son,\n",
      "do this same villain send To heaven.  O, this is hire and salary,\n",
      "not revenge.  He took my father grossly, full of bread; With all\n",
      "his crimes broad blown, as flush as May; And how his audit stands\n",
      "who knows save heaven?  But in our circumstance and course of\n",
      "thought, 'Tis heavy with him: and am I then revenged, To take him\n",
      "in the purging of his soul, When he is fit and season'd for his\n",
      "passage?  No!  Up, sword; and know thou a more horrid hent: When\n",
      "he is drunk asleep, or in his rage, Or in the incestuous pleasure\n",
      "of his bed; At gaming, swearing, or about some act That has no\n",
      "relish of salvation in't; Then trip him, that his heels may kick\n",
      "at heaven, And that his soul may be as damn'd and black As hell,\n",
      "whereto it goes. My mother stays: This physic but prolongs thy\n",
      "sickly days.  Exit\n",
      "\n",
      "KING CLAUDIUS [Rising] My words fly up, my thoughts remain below:\n",
      "Words without thoughts never to heaven go.  Exit\n",
      "\n",
      "SCENE IV. The Queen's closet.\n",
      "\n",
      "Enter QUEEN GERTRUDE and POLONIUS LORD POLONIUS He will come straight.\n",
      "Look you lay home to him: Tell him his pranks have been too broad\n",
      "to bear with, And that your grace hath screen'd and stood between\n",
      "Much heat and him. I'll sconce me even here.  Pray you, be round\n",
      "with him.  HAMLET [Within] Mother, mother, mother!  QUEEN GERTRUDE\n",
      "I'll warrant you, Fear me not: withdraw, I hear him coming.  POLONIUS\n",
      "hides behind the arras\n",
      "\n",
      "Enter HAMLET\n",
      "\n",
      "HAMLET Now, mother, what's the matter?  QUEEN GERTRUDE Hamlet, thou\n",
      "hast thy father much offended.  HAMLET Mother, you have my father\n",
      "much offended.  QUEEN GERTRUDE Come, come, you answer with an idle\n",
      "tongue.  HAMLET Go, go, you question with a wicked tongue.  QUEEN\n",
      "GERTRUDE Why, how now, Hamlet!  HAMLET What's the matter now?  QUEEN\n",
      "GERTRUDE Have you forgot me?  HAMLET No, by the rood, not so: You\n",
      "are the queen, your husband's brother's wife; And--would it were\n",
      "not so!--you are my mother.  QUEEN GERTRUDE Nay, then, I'll set\n",
      "those to you that can speak.  HAMLET Come, come, and sit you down;\n",
      "you shall not budge; You go not till I set you up a glass Where you\n",
      "may see the inmost part of you.  QUEEN GERTRUDE What wilt thou do?\n",
      "thou wilt not murder me?  Help, help, ho!  LORD POLONIUS [Behind]\n",
      "What, ho! help, help, help!  HAMLET [Drawing] How now! a rat? Dead,\n",
      "for a ducat, dead!  Makes a pass through the arras\n",
      "\n",
      "LORD POLONIUS [Behind] O, I am slain!  Falls and dies\n",
      "\n",
      "QUEEN GERTRUDE O me, what hast thou done?  HAMLET Nay, I know not:\n",
      "Is it the king?  QUEEN GERTRUDE O, what a rash and bloody deed is\n",
      "this!  HAMLET A bloody deed! almost as bad, good mother, As kill a\n",
      "king, and marry with his brother.  QUEEN GERTRUDE As kill a king!\n",
      "HAMLET Ay, lady, 'twas my word.  Lifts up the array and discovers\n",
      "POLONIUS\n",
      "\n",
      "Thou wretched, rash, intruding fool, farewell!  I took thee for thy\n",
      "better: take thy fortune; Thou find'st to be too busy is some danger.\n",
      "Leave wringing of your hands: peace! sit you down, And let me wring\n",
      "your heart; for so I shall, If it be made of penetrable stuff, If\n",
      "damned custom have not brass'd it so That it is proof and bulwark\n",
      "against sense.  QUEEN GERTRUDE What have I done, that thou darest\n",
      "wag thy tongue In noise so rude against me?  HAMLET Such an act\n",
      "That blurs the grace and blush of modesty, Calls virtue hypocrite,\n",
      "takes off the rose From the fair forehead of an innocent love And\n",
      "sets a blister there, makes marriage-vows As false as dicers' oaths:\n",
      "O, such a deed As from the body of contraction plucks The very soul,\n",
      "and sweet religion makes A rhapsody of words: heaven's face doth\n",
      "glow: Yea, this solidity and compound mass, With tristful visage,\n",
      "as against the doom, Is thought-sick at the act.  QUEEN GERTRUDE\n",
      "Ay me, what act, That roars so loud, and thunders in the index?\n",
      "HAMLET Look here, upon this picture, and on this, The counterfeit\n",
      "presentment of two brothers.  See, what a grace was seated on this\n",
      "brow; Hyperion's curls; the front of Jove himself; An eye like Mars,\n",
      "to threaten and command; A station like the herald Mercury New-lighted\n",
      "on a heaven-kissing hill; A combination and a form indeed, Where\n",
      "every god did seem to set his seal, To give the world assurance of\n",
      "a man: This was your husband. Look you now, what follows: Here is\n",
      "your husband; like a mildew'd ear, Blasting his wholesome brother.\n",
      "Have you eyes?  Could you on this fair mountain leave to feed, And\n",
      "batten on this moor? Ha! have you eyes?  You cannot call it love;\n",
      "for at your age The hey-day in the blood is tame, it's humble, And\n",
      "waits upon the judgment: and what judgment Would step from this to\n",
      "this? Sense, sure, you have, Else could you not have motion; but\n",
      "sure, that sense Is apoplex'd; for madness would not err, Nor sense\n",
      "to ecstasy was ne'er so thrall'd But it reserved some quantity of\n",
      "choice, To serve in such a difference. What devil was't That thus\n",
      "hath cozen'd you at hoodman-blind?  Eyes without feeling, feeling\n",
      "without sight, Ears without hands or eyes, smelling sans all, Or\n",
      "but a sickly part of one true sense Could not so mope.  O shame!\n",
      "where is thy blush? Rebellious hell, If thou canst mutine in a\n",
      "matron's bones, To flaming youth let virtue be as wax, And melt in\n",
      "her own fire: proclaim no shame When the compulsive ardour gives\n",
      "the charge, Since frost itself as actively doth burn And reason\n",
      "panders will.  QUEEN GERTRUDE O Hamlet, speak no more: Thou turn'st\n",
      "mine eyes into my very soul; And there I see such black and grained\n",
      "spots As will not leave their tinct.  HAMLET Nay, but to live In\n",
      "the rank sweat of an enseamed bed, Stew'd in corruption, honeying\n",
      "and making love Over the nasty sty,-- QUEEN GERTRUDE O, speak to\n",
      "me no more; These words, like daggers, enter in mine ears; No more,\n",
      "sweet Hamlet!  HAMLET A murderer and a villain; A slave that is not\n",
      "twentieth part the tithe Of your precedent lord; a vice of kings;\n",
      "A cutpurse of the empire and the rule, That from a shelf the precious\n",
      "diadem stole, And put it in his pocket!  QUEEN GERTRUDE No more!\n",
      "HAMLET A king of shreds and patches,-- Enter Ghost\n",
      "\n",
      "Save me, and hover o'er me with your wings, You heavenly guards!\n",
      "What would your gracious figure?  QUEEN GERTRUDE Alas, he's mad!\n",
      "HAMLET Do you not come your tardy son to chide, That, lapsed in\n",
      "time and passion, lets go by The important acting of your dread\n",
      "command? O, say!  Ghost Do not forget: this visitation Is but to\n",
      "whet thy almost blunted purpose.  But, look, amazement on thy mother\n",
      "sits: O, step between her and her fighting soul: Conceit in weakest\n",
      "bodies strongest works: Speak to her, Hamlet.  HAMLET How is it\n",
      "with you, lady?  QUEEN GERTRUDE Alas, how is't with you, That you\n",
      "do bend your eye on vacancy And with the incorporal air do hold\n",
      "discourse?  Forth at your eyes your spirits wildly peep; And, as\n",
      "the sleeping soldiers in the alarm, Your bedded hair, like life in\n",
      "excrements, Starts up, and stands on end. O gentle son, Upon the\n",
      "heat and flame of thy distemper Sprinkle cool patience. Whereon do\n",
      "you look?  HAMLET On him, on him! Look you, how pale he glares!\n",
      "His form and cause conjoin'd, preaching to stones, Would make them\n",
      "capable. Do not look upon me; Lest with this piteous action you\n",
      "convert My stern effects: then what I have to do Will want true\n",
      "colour; tears perchance for blood.  QUEEN GERTRUDE To whom do you\n",
      "speak this?  HAMLET Do you see nothing there?  QUEEN GERTRUDE Nothing\n",
      "at all; yet all that is I see.  HAMLET Nor did you nothing hear?\n",
      "QUEEN GERTRUDE No, nothing but ourselves.  HAMLET Why, look you\n",
      "there! look, how it steals away!  My father, in his habit as he\n",
      "lived!  Look, where he goes, even now, out at the portal!  Exit\n",
      "Ghost\n",
      "\n",
      "QUEEN GERTRUDE This the very coinage of your brain: This bodiless\n",
      "creation ecstasy Is very cunning in.  HAMLET Ecstasy!  My pulse,\n",
      "as yours, doth temperately keep time, And makes as healthful music:\n",
      "it is not madness That I have utter'd: bring me to the test, And I\n",
      "the matter will re-word; which madness Would gambol from. Mother,\n",
      "for love of grace, Lay not that mattering unction to your soul,\n",
      "That not your trespass, but my madness speaks: It will but skin and\n",
      "film the ulcerous place, Whilst rank corruption, mining all within,\n",
      "Infects unseen. Confess yourself to heaven; Repent what's past;\n",
      "avoid what is to come; And do not spread the compost on the weeds,\n",
      "To make them ranker. Forgive me this my virtue; For in the fatness\n",
      "of these pursy times Virtue itself of vice must pardon beg, Yea,\n",
      "curb and woo for leave to do him good.  QUEEN GERTRUDE O Hamlet,\n",
      "thou hast cleft my heart in twain.  HAMLET O, throw away the worser\n",
      "part of it, And live the purer with the other half.  Good night:\n",
      "but go not to mine uncle's bed; Assume a virtue, if you have it\n",
      "not.  That monster, custom, who all sense doth eat, Of habits devil,\n",
      "is angel yet in this, That to the use of actions fair and good He\n",
      "likewise gives a frock or livery, That aptly is put on. Refrain\n",
      "to-night, And that shall lend a kind of easiness To the next\n",
      "abstinence: the next more easy; For use almost can change the stamp\n",
      "of nature, And either [ ] the devil, or throw him out With wondrous\n",
      "potency. Once more, good night: And when you are desirous to be\n",
      "bless'd, I'll blessing beg of you. For this same lord, Pointing to\n",
      "POLONIUS\n",
      "\n",
      "I do repent: but heaven hath pleased it so, To punish me with this\n",
      "and this with me, That I must be their scourge and minister.  I\n",
      "will bestow him, and will answer well The death I gave him. So,\n",
      "again, good night.  I must be cruel, only to be kind: Thus bad\n",
      "begins and worse remains behind.  One word more, good lady.  QUEEN\n",
      "GERTRUDE What shall I do?  HAMLET Not this, by no means, that I bid\n",
      "you do: Let the bloat king tempt you again to bed; Pinch wanton on\n",
      "your cheek; call you his mouse; And let him, for a pair of reechy\n",
      "kisses, Or paddling in your neck with his damn'd fingers, Make you\n",
      "to ravel all this matter out, That I essentially am not in madness,\n",
      "But mad in craft. 'Twere good you let him know; For who, that's but\n",
      "a queen, fair, sober, wise, Would from a paddock, from a bat, a\n",
      "gib, Such dear concernings hide? who would do so?  No, in despite\n",
      "of sense and secrecy, Unpeg the basket on the house's top.  Let the\n",
      "birds fly, and, like the famous ape, To try conclusions, in the\n",
      "basket creep, And break your own neck down.  QUEEN GERTRUDE Be thou\n",
      "assured, if words be made of breath, And breath of life, I have no\n",
      "life to breathe What thou hast said to me.  HAMLET I must to England;\n",
      "you know that?  QUEEN GERTRUDE Alack, I had forgot: 'tis so concluded\n",
      "on.  HAMLET There's letters seal'd: and my two schoolfellows, Whom\n",
      "I will trust as I will adders fang'd, They bear the mandate; they\n",
      "must sweep my way, And marshal me to knavery. Let it work; For 'tis\n",
      "the sport to have the engineer Hoist with his own petard: and 't\n",
      "shall go hard But I will delve one yard below their mines, And blow\n",
      "them at the moon: O, 'tis most sweet, When in one line two crafts\n",
      "directly meet.  This man shall set me packing: I'll lug the guts\n",
      "into the neighbour room.  Mother, good night. Indeed this counsellor\n",
      "Is now most still, most secret and most grave, Who was in life a\n",
      "foolish prating knave.  Come, sir, to draw toward an end with you.\n",
      "Good night, mother.  Exeunt severally; HAMLET dragging in POLONIUS\n",
      "\n",
      "ACT IV\n",
      "\n",
      "SCENE I. A room in the castle.\n",
      "\n",
      "Enter KING CLAUDIUS, QUEEN GERTRUDE, ROSENCRANTZ, and GUILDENSTERN\n",
      "KING CLAUDIUS There's matter in these sighs, these profound heaves:\n",
      "You must translate: 'tis fit we understand them.  Where is your\n",
      "son?  QUEEN GERTRUDE Bestow this place on us a little while.  Exeunt\n",
      "ROSENCRANTZ and GUILDENSTERN\n",
      "\n",
      "Ah, my good lord, what have I seen to-night!  KING CLAUDIUS What,\n",
      "Gertrude? How does Hamlet?  QUEEN GERTRUDE Mad as the sea and wind,\n",
      "when both contend Which is the mightier: in his lawless fit, Behind\n",
      "the arras hearing something stir, Whips out his rapier, cries, 'A\n",
      "rat, a rat!' And, in this brainish apprehension, kills The unseen\n",
      "good old man.  KING CLAUDIUS O heavy deed!  It had been so with us,\n",
      "had we been there: His liberty is full of threats to all; To you\n",
      "yourself, to us, to every one.  Alas, how shall this bloody deed\n",
      "be answer'd?  It will be laid to us, whose providence Should have\n",
      "kept short, restrain'd and out of haunt, This mad young man: but\n",
      "so much was our love, We would not understand what was most fit;\n",
      "But, like the owner of a foul disease, To keep it from divulging,\n",
      "let it feed Even on the pith of Life. Where is he gone?  QUEEN\n",
      "GERTRUDE To draw apart the body he hath kill'd: O'er whom his very\n",
      "madness, like some ore Among a mineral of metals base, Shows itself\n",
      "pure; he weeps for what is done.  KING CLAUDIUS O Gertrude, come\n",
      "away!  The sun no sooner shall the mountains touch, But we will\n",
      "ship him hence: and this vile deed We must, with all our majesty\n",
      "and skill, Both countenance and excuse. Ho, Guildenstern!  Re-enter\n",
      "ROSENCRANTZ and GUILDENSTERN\n",
      "\n",
      "Friends both, go join you with some further aid: Hamlet in madness\n",
      "hath Polonius slain, And from his mother's closet hath he dragg'd\n",
      "him: Go seek him out; speak fair, and bring the body Into the chapel.\n",
      "I pray you, haste in this.  Exeunt ROSENCRANTZ and GUILDENSTERN\n",
      "\n",
      "Come, Gertrude, we'll call up our wisest friends; And let them know,\n",
      "both what we mean to do, And what's untimely done. O, come away!\n",
      "My soul is full of discord and dismay.  Exeunt\n",
      "\n",
      "SCENE II. Another room in the castle.\n",
      "\n",
      "Enter HAMLET HAMLET Safely stowed.  ROSENCRANTZ: GUILDENSTERN:\n",
      "[Within] Hamlet! Lord Hamlet!  HAMLET What noise? who calls on\n",
      "Hamlet?  O, here they come.  Enter ROSENCRANTZ and GUILDENSTERN\n",
      "\n",
      "ROSENCRANTZ What have you done, my lord, with the dead body?  HAMLET\n",
      "Compounded it with dust, whereto 'tis kin.  ROSENCRANTZ Tell us\n",
      "where 'tis, that we may take it thence And bear it to the chapel.\n",
      "HAMLET Do not believe it.  ROSENCRANTZ Believe what?  HAMLET That\n",
      "I can keep your counsel and not mine own.  Besides, to be demanded\n",
      "of a sponge! what replication should be made by the son of a king?\n",
      "ROSENCRANTZ Take you me for a sponge, my lord?  HAMLET Ay, sir,\n",
      "that soaks up the king's countenance, his rewards, his authorities.\n",
      "But such officers do the king best service in the end: he keeps\n",
      "them, like an ape, in the corner of his jaw; first mouthed, to be\n",
      "last swallowed: when he needs what you have gleaned, it is but\n",
      "squeezing you, and, sponge, you shall be dry again.  ROSENCRANTZ I\n",
      "understand you not, my lord.  HAMLET I am glad of it: a knavish\n",
      "speech sleeps in a foolish ear.  ROSENCRANTZ My lord, you must tell\n",
      "us where the body is, and go with us to the king.  HAMLET The body\n",
      "is with the king, but the king is not with the body. The king is a\n",
      "thing-- GUILDENSTERN A thing, my lord!  HAMLET Of nothing: bring\n",
      "me to him. Hide fox, and all after.  Exeunt\n",
      "\n",
      "SCENE III. Another room in the castle.\n",
      "\n",
      "Enter KING CLAUDIUS, attended KING CLAUDIUS I have sent to seek\n",
      "him, and to find the body.  How dangerous is it that this man goes\n",
      "loose!  Yet must not we put the strong law on him: He's loved of\n",
      "the distracted multitude, Who like not in their judgment, but their\n",
      "eyes; And where tis so, the offender's scourge is weigh'd, But never\n",
      "the offence. To bear all smooth and even, This sudden sending him\n",
      "away must seem Deliberate pause: diseases desperate grown By desperate\n",
      "appliance are relieved, Or not at all.  Enter ROSENCRANTZ\n",
      "\n",
      "How now! what hath befall'n?  ROSENCRANTZ Where the dead body is\n",
      "bestow'd, my lord, We cannot get from him.  KING CLAUDIUS But where\n",
      "is he?  ROSENCRANTZ Without, my lord; guarded, to know your pleasure.\n",
      "KING CLAUDIUS Bring him before us.  ROSENCRANTZ Ho, Guildenstern!\n",
      "bring in my lord.  Enter HAMLET and GUILDENSTERN\n",
      "\n",
      "KING CLAUDIUS Now, Hamlet, where's Polonius?  HAMLET At supper.\n",
      "KING CLAUDIUS At supper! where?  HAMLET Not where he eats, but where\n",
      "he is eaten: a certain convocation of politic worms are e'en at\n",
      "him. Your worm is your only emperor for diet: we fat all creatures\n",
      "else to fat us, and we fat ourselves for maggots: your fat king and\n",
      "your lean beggar is but variable service, two dishes, but to one\n",
      "table: that's the end.  KING CLAUDIUS Alas, alas!  HAMLET A man may\n",
      "fish with the worm that hath eat of a king, and cat of the fish\n",
      "that hath fed of that worm.  KING CLAUDIUS What dost you mean by\n",
      "this?  HAMLET Nothing but to show you how a king may go a progress\n",
      "through the guts of a beggar.  KING CLAUDIUS Where is Polonius?\n",
      "HAMLET In heaven; send hither to see: if your messenger find him\n",
      "not there, seek him i' the other place yourself. But indeed, if you\n",
      "find him not within this month, you shall nose him as you go up the\n",
      "stairs into the lobby.  KING CLAUDIUS Go seek him there.  To some\n",
      "Attendants\n",
      "\n",
      "HAMLET He will stay till ye come.  Exeunt Attendants\n",
      "\n",
      "KING CLAUDIUS Hamlet, this deed, for thine especial safety,-- Which\n",
      "we do tender, as we dearly grieve For that which thou hast done,--must\n",
      "send thee hence With fiery quickness: therefore prepare thyself;\n",
      "The bark is ready, and the wind at help, The associates tend, and\n",
      "every thing is bent For England.  HAMLET For England!  KING CLAUDIUS\n",
      "Ay, Hamlet.  HAMLET Good.  KING CLAUDIUS So is it, if thou knew'st\n",
      "our purposes.  HAMLET I see a cherub that sees them. But, come; for\n",
      "England! Farewell, dear mother.  KING CLAUDIUS Thy loving father,\n",
      "Hamlet.  HAMLET My mother: father and mother is man and wife; man\n",
      "and wife is one flesh; and so, my mother. Come, for England!  Exit\n",
      "\n",
      "KING CLAUDIUS Follow him at foot; tempt him with speed aboard; Delay\n",
      "it not; I'll have him hence to-night: Away! for every thing is\n",
      "seal'd and done That else leans on the affair: pray you, make haste.\n",
      "Exeunt ROSENCRANTZ and GUILDENSTERN\n",
      "\n",
      "And, England, if my love thou hold'st at aught-- As my great power\n",
      "thereof may give thee sense, Since yet thy cicatrice looks raw and\n",
      "red After the Danish sword, and thy free awe Pays homage to us--thou\n",
      "mayst not coldly set Our sovereign process; which imports at full,\n",
      "By letters congruing to that effect, The present death of Hamlet.\n",
      "Do it, England; For like the hectic in my blood he rages, And thou\n",
      "must cure me: till I know 'tis done, Howe'er my haps, my joys were\n",
      "ne'er begun.  Exit\n",
      "\n",
      "SCENE IV. A plain in Denmark.\n",
      "\n",
      "Enter FORTINBRAS, a Captain, and Soldiers, marching PRINCE FORTINBRAS\n",
      "Go, captain, from me greet the Danish king; Tell him that, by his\n",
      "licence, Fortinbras Craves the conveyance of a promised march Over\n",
      "his kingdom. You know the rendezvous.  If that his majesty would\n",
      "aught with us, We shall express our duty in his eye; And let him\n",
      "know so.  Captain I will do't, my lord.  PRINCE FORTINBRAS Go softly\n",
      "on.  Exeunt FORTINBRAS and Soldiers\n",
      "\n",
      "Enter HAMLET, ROSENCRANTZ, GUILDENSTERN, and others\n",
      "\n",
      "HAMLET Good sir, whose powers are these?  Captain They are of Norway,\n",
      "sir.  HAMLET How purposed, sir, I pray you?  Captain Against some\n",
      "part of Poland.  HAMLET Who commands them, sir?  Captain The nephews\n",
      "to old Norway, Fortinbras.  HAMLET Goes it against the main of\n",
      "Poland, sir, Or for some frontier?  Captain Truly to speak, and\n",
      "with no addition, We go to gain a little patch of ground That hath\n",
      "in it no profit but the name.  To pay five ducats, five, I would\n",
      "not farm it; Nor will it yield to Norway or the Pole A ranker rate,\n",
      "should it be sold in fee.  HAMLET Why, then the Polack never will\n",
      "defend it.  Captain Yes, it is already garrison'd.  HAMLET Two\n",
      "thousand souls and twenty thousand ducats Will not debate the\n",
      "question of this straw: This is the imposthume of much wealth and\n",
      "peace, That inward breaks, and shows no cause without Why the man\n",
      "dies. I humbly thank you, sir.  Captain God be wi' you, sir.  Exit\n",
      "\n",
      "ROSENCRANTZ Wilt please you go, my lord?  HAMLET I'll be with you\n",
      "straight go a little before.  Exeunt all except HAMLET\n",
      "\n",
      "How all occasions do inform against me, And spur my dull revenge!\n",
      "What is a man, If his chief good and market of his time Be but to\n",
      "sleep and feed? a beast, no more.  Sure, he that made us with such\n",
      "large discourse, Looking before and after, gave us not That capability\n",
      "and god-like reason To fust in us unused. Now, whether it be Bestial\n",
      "oblivion, or some craven scruple Of thinking too precisely on the\n",
      "event, A thought which, quarter'd, hath but one part wisdom And\n",
      "ever three parts coward, I do not know Why yet I live to say 'This\n",
      "thing's to do;' Sith I have cause and will and strength and means\n",
      "To do't. Examples gross as earth exhort me: Witness this army of\n",
      "such mass and charge Led by a delicate and tender prince, Whose\n",
      "spirit with divine ambition puff'd Makes mouths at the invisible\n",
      "event, Exposing what is mortal and unsure To all that fortune, death\n",
      "and danger dare, Even for an egg-shell. Rightly to be great Is not\n",
      "to stir without great argument, But greatly to find quarrel in a\n",
      "straw When honour's at the stake. How stand I then, That have a\n",
      "father kill'd, a mother stain'd, Excitements of my reason and my\n",
      "blood, And let all sleep? while, to my shame, I see The imminent\n",
      "death of twenty thousand men, That, for a fantasy and trick of fame,\n",
      "Go to their graves like beds, fight for a plot Whereon the numbers\n",
      "cannot try the cause, Which is not tomb enough and continent To\n",
      "hide the slain? O, from this time forth, My thoughts be bloody, or\n",
      "be nothing worth!  Exit\n",
      "\n",
      "SCENE V. Elsinore. A room in the castle.\n",
      "\n",
      "Enter QUEEN GERTRUDE, HORATIO, and a Gentleman QUEEN GERTRUDE I\n",
      "will not speak with her.  Gentleman She is importunate, indeed\n",
      "distract: Her mood will needs be pitied.  QUEEN GERTRUDE What would\n",
      "she have?  Gentleman She speaks much of her father; says she hears\n",
      "There's tricks i' the world; and hems, and beats her heart; Spurns\n",
      "enviously at straws; speaks things in doubt, That carry but half\n",
      "sense: her speech is nothing, Yet the unshaped use of it doth move\n",
      "The hearers to collection; they aim at it, And botch the words up\n",
      "fit to their own thoughts; Which, as her winks, and nods, and\n",
      "gestures yield them, Indeed would make one think there might be\n",
      "thought, Though nothing sure, yet much unhappily.  HORATIO 'Twere\n",
      "good she were spoken with; for she may strew Dangerous conjectures\n",
      "in ill-breeding minds.  QUEEN GERTRUDE Let her come in.  Exit HORATIO\n",
      "\n",
      "To my sick soul, as sin's true nature is, Each toy seems prologue\n",
      "to some great amiss: So full of artless jealousy is guilt, It spills\n",
      "itself in fearing to be spilt.  Re-enter HORATIO, with OPHELIA\n",
      "\n",
      "OPHELIA Where is the beauteous majesty of Denmark?  QUEEN GERTRUDE\n",
      "How now, Ophelia!  OPHELIA [Sings] How should I your true love know\n",
      "From another one?  By his cockle hat and staff, And his sandal\n",
      "shoon.  QUEEN GERTRUDE Alas, sweet lady, what imports this song?\n",
      "OPHELIA Say you? nay, pray you, mark.  Sings\n",
      "\n",
      "He is dead and gone, lady, He is dead and gone; At his head a\n",
      "grass-green turf, At his heels a stone.  QUEEN GERTRUDE Nay, but,\n",
      "Ophelia,-- OPHELIA Pray you, mark.  Sings\n",
      "\n",
      "White his shroud as the mountain snow,-- Enter KING CLAUDIUS\n",
      "\n",
      "QUEEN GERTRUDE Alas, look here, my lord.  OPHELIA [Sings] Larded\n",
      "with sweet flowers Which bewept to the grave did go With true-love\n",
      "showers.  KING CLAUDIUS How do you, pretty lady?  OPHELIA Well, God\n",
      "'ild you! They say the owl was a baker's daughter. Lord, we know\n",
      "what we are, but know not what we may be. God be at your table!\n",
      "KING CLAUDIUS Conceit upon her father.  OPHELIA Pray you, let's\n",
      "have no words of this; but when they ask you what it means, say you\n",
      "this: Sings\n",
      "\n",
      "To-morrow is Saint Valentine's day, All in the morning betime, And\n",
      "I a maid at your window, To be your Valentine.  Then up he rose,\n",
      "and donn'd his clothes, And dupp'd the chamber-door; Let in the\n",
      "maid, that out a maid Never departed more.  KING CLAUDIUS Pretty\n",
      "Ophelia!  OPHELIA Indeed, la, without an oath, I'll make an end\n",
      "on't: Sings\n",
      "\n",
      "By Gis and by Saint Charity, Alack, and fie for shame!  Young men\n",
      "will do't, if they come to't; By cock, they are to blame.  Quoth\n",
      "she, before you tumbled me, You promised me to wed.  So would I ha'\n",
      "done, by yonder sun, An thou hadst not come to my bed.  KING CLAUDIUS\n",
      "How long hath she been thus?  OPHELIA I hope all will be well. We\n",
      "must be patient: but I cannot choose but weep, to think they should\n",
      "lay him i' the cold ground. My brother shall know of it: and so I\n",
      "thank you for your good counsel. Come, my coach! Good night, ladies;\n",
      "good night, sweet ladies; good night, good night.  Exit\n",
      "\n",
      "KING CLAUDIUS Follow her close; give her good watch, I pray you.\n",
      "Exit HORATIO\n",
      "\n",
      "O, this is the poison of deep grief; it springs All from her father's\n",
      "death. O Gertrude, Gertrude, When sorrows come, they come not single\n",
      "spies But in battalions. First, her father slain: Next, your son\n",
      "gone; and he most violent author Of his own just remove: the people\n",
      "muddied, Thick and unwholesome in their thoughts and whispers, For\n",
      "good Polonius' death; and we have done but greenly, In hugger-mugger\n",
      "to inter him: poor Ophelia Divided from herself and her fair judgment,\n",
      "Without the which we are pictures, or mere beasts: Last, and as\n",
      "much containing as all these, Her brother is in secret come from\n",
      "France; Feeds on his wonder, keeps himself in clouds, And wants not\n",
      "buzzers to infect his ear With pestilent speeches of his father's\n",
      "death; Wherein necessity, of matter beggar'd, Will nothing stick\n",
      "our person to arraign In ear and ear. O my dear Gertrude, this,\n",
      "Like to a murdering-piece, in many places Gives me superfluous\n",
      "death.  A noise within\n",
      "\n",
      "QUEEN GERTRUDE Alack, what noise is this?  KING CLAUDIUS Where are\n",
      "my Switzers? Let them guard the door.  Enter another Gentleman\n",
      "\n",
      "What is the matter?  Gentleman Save yourself, my lord: The ocean,\n",
      "overpeering of his list, Eats not the flats with more impetuous\n",
      "haste Than young Laertes, in a riotous head, O'erbears your officers.\n",
      "The rabble call him lord; And, as the world were now but to begin,\n",
      "Antiquity forgot, custom not known, The ratifiers and props of every\n",
      "word, They cry 'Choose we: Laertes shall be king:' Caps, hands, and\n",
      "tongues, applaud it to the clouds: 'Laertes shall be king, Laertes\n",
      "king!' QUEEN GERTRUDE How cheerfully on the false trail they cry!\n",
      "O, this is counter, you false Danish dogs!  KING CLAUDIUS The doors\n",
      "are broke.  Noise within\n",
      "\n",
      "Enter LAERTES, armed; Danes following\n",
      "\n",
      "LAERTES Where is this king? Sirs, stand you all without.  Danes No,\n",
      "let's come in.  LAERTES I pray you, give me leave.  Danes We will,\n",
      "we will.  They retire without the door\n",
      "\n",
      "LAERTES I thank you: keep the door. O thou vile king, Give me my\n",
      "father!  QUEEN GERTRUDE Calmly, good Laertes.  LAERTES That drop\n",
      "of blood that's calm proclaims me bastard, Cries cuckold to my\n",
      "father, brands the harlot Even here, between the chaste unsmirched\n",
      "brow Of my true mother.  KING CLAUDIUS What is the cause, Laertes,\n",
      "That thy rebellion looks so giant-like?  Let him go, Gertrude; do\n",
      "not fear our person: There's such divinity doth hedge a king, That\n",
      "treason can but peep to what it would, Acts little of his will.\n",
      "Tell me, Laertes, Why thou art thus incensed. Let him go, Gertrude.\n",
      "Speak, man.  LAERTES Where is my father?  KING CLAUDIUS Dead.  QUEEN\n",
      "GERTRUDE But not by him.  KING CLAUDIUS Let him demand his fill.\n",
      "LAERTES How came he dead? I'll not be juggled with: To hell,\n",
      "allegiance! vows, to the blackest devil!  Conscience and grace, to\n",
      "the profoundest pit!  I dare damnation. To this point I stand, That\n",
      "both the worlds I give to negligence, Let come what comes; only\n",
      "I'll be revenged Most thoroughly for my father.  KING CLAUDIUS Who\n",
      "shall stay you?  LAERTES My will, not all the world: And for my\n",
      "means, I'll husband them so well, They shall go far with little.\n",
      "KING CLAUDIUS Good Laertes, If you desire to know the certainty Of\n",
      "your dear father's death, is't writ in your revenge, That, swoopstake,\n",
      "you will draw both friend and foe, Winner and loser?  LAERTES None\n",
      "but his enemies.  KING CLAUDIUS Will you know them then?  LAERTES\n",
      "To his good friends thus wide I'll ope my arms; And like the kind\n",
      "life-rendering pelican, Repast them with my blood.  KING CLAUDIUS\n",
      "Why, now you speak Like a good child and a true gentleman.  That I\n",
      "am guiltless of your father's death, And am most sensible in grief\n",
      "for it, It shall as level to your judgment pierce As day does to\n",
      "your eye.  Danes [Within] Let her come in.  LAERTES How now! what\n",
      "noise is that?  Re-enter OPHELIA\n",
      "\n",
      "O heat, dry up my brains! tears seven times salt, Burn out the sense\n",
      "and virtue of mine eye!  By heaven, thy madness shall be paid by\n",
      "weight, Till our scale turn the beam. O rose of May!  Dear maid,\n",
      "kind sister, sweet Ophelia!  O heavens! is't possible, a young\n",
      "maid's wits Should be as moral as an old man's life?  Nature is\n",
      "fine in love, and where 'tis fine, It sends some precious instance\n",
      "of itself After the thing it loves.  OPHELIA [Sings] They bore him\n",
      "barefaced on the bier; Hey non nonny, nonny, hey nonny; And in his\n",
      "grave rain'd many a tear:-- Fare you well, my dove!  LAERTES Hadst\n",
      "thou thy wits, and didst persuade revenge, It could not move thus.\n",
      "OPHELIA [Sings] You must sing a-down a-down, An you call him a-down-a.\n",
      "O, how the wheel becomes it! It is the false steward, that stole\n",
      "his master's daughter.  LAERTES This nothing's more than matter.\n",
      "OPHELIA There's rosemary, that's for remembrance; pray, love,\n",
      "remember: and there is pansies. that's for thoughts.  LAERTES A\n",
      "document in madness, thoughts and remembrance fitted.  OPHELIA\n",
      "There's fennel for you, and columbines: there's rue for you; and\n",
      "here's some for me: we may call it herb-grace o' Sundays: O you\n",
      "must wear your rue with a difference. There's a daisy: I would give\n",
      "you some violets, but they withered all when my father died: they\n",
      "say he made a good end,-- Sings\n",
      "\n",
      "For bonny sweet Robin is all my joy.  LAERTES Thought and affliction,\n",
      "passion, hell itself, She turns to favour and to prettiness.  OPHELIA\n",
      "[Sings] And will he not come again?  And will he not come again?\n",
      "No, no, he is dead: Go to thy death-bed: He never will come again.\n",
      "His beard was as white as snow, All flaxen was his poll: He is gone,\n",
      "he is gone, And we cast away moan: God ha' mercy on his soul!  And\n",
      "of all Christian souls, I pray God. God be wi' ye.  Exit\n",
      "\n",
      "LAERTES Do you see this, O God?  KING CLAUDIUS Laertes, I must\n",
      "commune with your grief, Or you deny me right. Go but apart, Make\n",
      "choice of whom your wisest friends you will.  And they shall hear\n",
      "and judge 'twixt you and me: If by direct or by collateral hand\n",
      "They find us touch'd, we will our kingdom give, Our crown, our life,\n",
      "and all that we can ours, To you in satisfaction; but if not, Be\n",
      "you content to lend your patience to us, And we shall jointly labour\n",
      "with your soul To give it due content.  LAERTES Let this be so; His\n",
      "means of death, his obscure funeral-- No trophy, sword, nor hatchment\n",
      "o'er his bones, No noble rite nor formal ostentation-- Cry to be\n",
      "heard, as 'twere from heaven to earth, That I must call't in question.\n",
      "KING CLAUDIUS So you shall; And where the offence is let the great\n",
      "axe fall.  I pray you, go with me.  Exeunt\n",
      "\n",
      "SCENE VI. Another room in the castle.\n",
      "\n",
      "Enter HORATIO and a Servant HORATIO What are they that would speak\n",
      "with me?  Servant Sailors, sir: they say they have letters for you.\n",
      "HORATIO Let them come in.  Exit Servant\n",
      "\n",
      "I do not know from what part of the world I should be greeted, if\n",
      "not from Lord Hamlet.  Enter Sailors\n",
      "\n",
      "First Sailor God bless you, sir.  HORATIO Let him bless thee too.\n",
      "First Sailor He shall, sir, an't please him. There's a letter for\n",
      "you, sir; it comes from the ambassador that was bound for England;\n",
      "if your name be Horatio, as I am let to know it is.  HORATIO [Reads]\n",
      "'Horatio, when thou shalt have overlooked this, give these fellows\n",
      "some means to the king: they have letters for him. Ere we were two\n",
      "days old at sea, a pirate of very warlike appointment gave us chase.\n",
      "Finding ourselves too slow of sail, we put on a compelled valour,\n",
      "and in the grapple I boarded them: on the instant they got clear\n",
      "of our ship; so I alone became their prisoner. They have dealt with\n",
      "me like thieves of mercy: but they knew what they did; I am to do\n",
      "a good turn for them. Let the king have the letters I have sent;\n",
      "and repair thou to me with as much speed as thou wouldst fly death.\n",
      "I have words to speak in thine ear will make thee dumb; yet are\n",
      "they much too light for the bore of the matter. These good fellows\n",
      "will bring thee where I am. Rosencrantz and Guildenstern hold their\n",
      "course for England: of them I have much to tell thee. Farewell.\n",
      "'He that thou knowest thine, HAMLET.' Come, I will make you way for\n",
      "these your letters; And do't the speedier, that you may direct me\n",
      "To him from whom you brought them.  Exeunt\n",
      "\n",
      "SCENE VII. Another room in the castle.\n",
      "\n",
      "Enter KING CLAUDIUS and LAERTES KING CLAUDIUS Now must your conscience\n",
      "my acquaintance seal, And you must put me in your heart for friend,\n",
      "Sith you have heard, and with a knowing ear, That he which hath\n",
      "your noble father slain Pursued my life.  LAERTES It well appears:\n",
      "but tell me Why you proceeded not against these feats, So crimeful\n",
      "and so capital in nature, As by your safety, wisdom, all things\n",
      "else, You mainly were stirr'd up.  KING CLAUDIUS O, for two special\n",
      "reasons; Which may to you, perhaps, seem much unsinew'd, But yet\n",
      "to me they are strong. The queen his mother Lives almost by his\n",
      "looks; and for myself-- My virtue or my plague, be it either which--\n",
      "She's so conjunctive to my life and soul, That, as the star moves\n",
      "not but in his sphere, I could not but by her. The other motive,\n",
      "Why to a public count I might not go, Is the great love the general\n",
      "gender bear him; Who, dipping all his faults in their affection,\n",
      "Would, like the spring that turneth wood to stone, Convert his gyves\n",
      "to graces; so that my arrows, Too slightly timber'd for so loud a\n",
      "wind, Would have reverted to my bow again, And not where I had aim'd\n",
      "them.  LAERTES And so have I a noble father lost; A sister driven\n",
      "into desperate terms, Whose worth, if praises may go back again,\n",
      "Stood challenger on mount of all the age For her perfections: but\n",
      "my revenge will come.  KING CLAUDIUS Break not your sleeps for that:\n",
      "you must not think That we are made of stuff so flat and dull That\n",
      "we can let our beard be shook with danger And think it pastime. You\n",
      "shortly shall hear more: I loved your father, and we love ourself;\n",
      "And that, I hope, will teach you to imagine-- Enter a Messenger\n",
      "\n",
      "How now! what news?  Messenger Letters, my lord, from Hamlet: This\n",
      "to your majesty; this to the queen.  KING CLAUDIUS From Hamlet! who\n",
      "brought them?  Messenger Sailors, my lord, they say; I saw them\n",
      "not: They were given me by Claudio; he received them Of him that\n",
      "brought them.  KING CLAUDIUS Laertes, you shall hear them. Leave\n",
      "us.  Exit Messenger\n",
      "\n",
      "Reads\n",
      "\n",
      "'High and mighty, You shall know I am set naked on your kingdom.\n",
      "To-morrow shall I beg leave to see your kingly eyes: when I shall,\n",
      "first asking your pardon thereunto, recount the occasion of my\n",
      "sudden and more strange return. 'HAMLET.' What should this mean?\n",
      "Are all the rest come back?  Or is it some abuse, and no such thing?\n",
      "LAERTES Know you the hand?  KING CLAUDIUS 'Tis Hamlets character.\n",
      "'Naked!  And in a postscript here, he says 'alone.' Can you advise\n",
      "me?  LAERTES I'm lost in it, my lord. But let him come; It warms\n",
      "the very sickness in my heart, That I shall live and tell him to\n",
      "his teeth, 'Thus didest thou.' KING CLAUDIUS If it be so, Laertes--\n",
      "As how should it be so? how otherwise?-- Will you be ruled by me?\n",
      "LAERTES Ay, my lord; So you will not o'errule me to a peace.  KING\n",
      "CLAUDIUS To thine own peace. If he be now return'd, As checking at\n",
      "his voyage, and that he means No more to undertake it, I will work\n",
      "him To an exploit, now ripe in my device, Under the which he shall\n",
      "not choose but fall: And for his death no wind of blame shall\n",
      "breathe, But even his mother shall uncharge the practise And call\n",
      "it accident.  LAERTES My lord, I will be ruled; The rather, if you\n",
      "could devise it so That I might be the organ.  KING CLAUDIUS It\n",
      "falls right.  You have been talk'd of since your travel much, And\n",
      "that in Hamlet's hearing, for a quality Wherein, they say, you\n",
      "shine: your sum of parts Did not together pluck such envy from him\n",
      "As did that one, and that, in my regard, Of the unworthiest siege.\n",
      "LAERTES What part is that, my lord?  KING CLAUDIUS A very riband\n",
      "in the cap of youth, Yet needful too; for youth no less becomes The\n",
      "light and careless livery that it wears Than settled age his sables\n",
      "and his weeds, Importing health and graveness. Two months since,\n",
      "Here was a gentleman of Normandy:-- I've seen myself, and served\n",
      "against, the French, And they can well on horseback: but this gallant\n",
      "Had witchcraft in't; he grew unto his seat; And to such wondrous\n",
      "doing brought his horse, As he had been incorpsed and demi-natured\n",
      "With the brave beast: so far he topp'd my thought, That I, in forgery\n",
      "of shapes and tricks, Come short of what he did.  LAERTES A Norman\n",
      "was't?  KING CLAUDIUS A Norman.  LAERTES Upon my life, Lamond.  KING\n",
      "CLAUDIUS The very same.  LAERTES I know him well: he is the brooch\n",
      "indeed And gem of all the nation.  KING CLAUDIUS He made confession\n",
      "of you, And gave you such a masterly report For art and exercise\n",
      "in your defence And for your rapier most especially, That he cried\n",
      "out, 'twould be a sight indeed, If one could match you: the scrimers\n",
      "of their nation, He swore, had had neither motion, guard, nor eye,\n",
      "If you opposed them. Sir, this report of his Did Hamlet so envenom\n",
      "with his envy That he could nothing do but wish and beg Your sudden\n",
      "coming o'er, to play with him.  Now, out of this,-- LAERTES What\n",
      "out of this, my lord?  KING CLAUDIUS Laertes, was your father dear\n",
      "to you?  Or are you like the painting of a sorrow, A face without\n",
      "a heart?  LAERTES Why ask you this?  KING CLAUDIUS Not that I think\n",
      "you did not love your father; But that I know love is begun by time;\n",
      "And that I see, in passages of proof, Time qualifies the spark and\n",
      "fire of it.  There lives within the very flame of love A kind of\n",
      "wick or snuff that will abate it; And nothing is at a like goodness\n",
      "still; For goodness, growing to a plurisy, Dies in his own too much:\n",
      "that we would do We should do when we would; for this 'would' changes\n",
      "And hath abatements and delays as many As there are tongues, are\n",
      "hands, are accidents; And then this 'should' is like a spendthrift\n",
      "sigh, That hurts by easing. But, to the quick o' the ulcer:-- Hamlet\n",
      "comes back: what would you undertake, To show yourself your father's\n",
      "son in deed More than in words?  LAERTES To cut his throat i' the\n",
      "church.  KING CLAUDIUS No place, indeed, should murder sanctuarize;\n",
      "Revenge should have no bounds. But, good Laertes, Will you do this,\n",
      "keep close within your chamber.  Hamlet return'd shall know you are\n",
      "come home: We'll put on those shall praise your excellence And set\n",
      "a double varnish on the fame The Frenchman gave you, bring you in\n",
      "fine together And wager on your heads: he, being remiss, Most\n",
      "generous and free from all contriving, Will not peruse the foils;\n",
      "so that, with ease, Or with a little shuffling, you may choose A\n",
      "sword unbated, and in a pass of practise Requite him for your father.\n",
      "LAERTES I will do't: And, for that purpose, I'll anoint my sword.\n",
      "I bought an unction of a mountebank, So mortal that, but dip a knife\n",
      "in it, Where it draws blood no cataplasm so rare, Collected from\n",
      "all simples that have virtue Under the moon, can save the thing\n",
      "from death That is but scratch'd withal: I'll touch my point With\n",
      "this contagion, that, if I gall him slightly, It may be death.  KING\n",
      "CLAUDIUS Let's further think of this; Weigh what convenience both\n",
      "of time and means May fit us to our shape: if this should fail, And\n",
      "that our drift look through our bad performance, 'Twere better not\n",
      "assay'd: therefore this project Should have a back or second, that\n",
      "might hold, If this should blast in proof. Soft! let me see: We'll\n",
      "make a solemn wager on your cunnings: I ha't.  When in your motion\n",
      "you are hot and dry-- As make your bouts more violent to that end--\n",
      "And that he calls for drink, I'll have prepared him A chalice for\n",
      "the nonce, whereon but sipping, If he by chance escape your venom'd\n",
      "stuck, Our purpose may hold there.  Enter QUEEN GERTRUDE\n",
      "\n",
      "How now, sweet queen!  QUEEN GERTRUDE One woe doth tread upon\n",
      "another's heel, So fast they follow; your sister's drown'd, Laertes.\n",
      "LAERTES Drown'd! O, where?  QUEEN GERTRUDE There is a willow grows\n",
      "aslant a brook, That shows his hoar leaves in the glassy stream;\n",
      "There with fantastic garlands did she come Of crow-flowers, nettles,\n",
      "daisies, and long purples That liberal shepherds give a grosser\n",
      "name, But our cold maids do dead men's fingers call them: There,\n",
      "on the pendent boughs her coronet weeds Clambering to hang, an\n",
      "envious sliver broke; When down her weedy trophies and herself Fell\n",
      "in the weeping brook. Her clothes spread wide; And, mermaid-like,\n",
      "awhile they bore her up: Which time she chanted snatches of old\n",
      "tunes; As one incapable of her own distress, Or like a creature\n",
      "native and indued Unto that element: but long it could not be Till\n",
      "that her garments, heavy with their drink, Pull'd the poor wretch\n",
      "from her melodious lay To muddy death.  LAERTES Alas, then, she is\n",
      "drown'd?  QUEEN GERTRUDE Drown'd, drown'd.  LAERTES Too much of\n",
      "water hast thou, poor Ophelia, And therefore I forbid my tears: but\n",
      "yet It is our trick; nature her custom holds, Let shame say what\n",
      "it will: when these are gone, The woman will be out. Adieu, my lord:\n",
      "I have a speech of fire, that fain would blaze, But that this folly\n",
      "douts it.  Exit\n",
      "\n",
      "KING CLAUDIUS Let's follow, Gertrude: How much I had to do to calm\n",
      "his rage!  Now fear I this will give it start again; Therefore let's\n",
      "follow.  Exeunt\n",
      "\n",
      "ACT V\n",
      "\n",
      "SCENE I. A churchyard.\n",
      "\n",
      "Enter two Clowns, with spades, & c First Clown Is she to be buried\n",
      "in Christian burial that wilfully seeks her own salvation?  Second\n",
      "Clown I tell thee she is: and therefore make her grave straight:\n",
      "the crowner hath sat on her, and finds it Christian burial.  First\n",
      "Clown How can that be, unless she drowned herself in her own defence?\n",
      "Second Clown Why, 'tis found so.  First Clown It must be 'se\n",
      "offendendo;' it cannot be else. For here lies the point: if I drown\n",
      "myself wittingly, it argues an act: and an act hath three branches:\n",
      "it is, to act, to do, to perform: argal, she drowned herself\n",
      "wittingly.  Second Clown Nay, but hear you, goodman delver,-- First\n",
      "Clown Give me leave. Here lies the water; good: here stands the\n",
      "man; good; if the man go to this water, and drown himself, it is,\n",
      "will he, nill he, he goes,--mark you that; but if the water come\n",
      "to him and drown him, he drowns not himself: argal, he that is not\n",
      "guilty of his own death shortens not his own life.  Second Clown\n",
      "But is this law?  First Clown Ay, marry, is't; crowner's quest law.\n",
      "Second Clown Will you ha' the truth on't? If this had not been a\n",
      "gentlewoman, she should have been buried out o' Christian burial.\n",
      "First Clown Why, there thou say'st: and the more pity that great\n",
      "folk should have countenance in this world to drown or hang themselves,\n",
      "more than their even Christian. Come, my spade. There is no ancient\n",
      "gentleman but gardeners, ditchers, and grave-makers: they hold up\n",
      "Adam's profession.  Second Clown Was he a gentleman?  First Clown\n",
      "He was the first that ever bore arms.  Second Clown Why, he had\n",
      "none.  First Clown What, art a heathen? How dost thou understand\n",
      "the Scripture? The Scripture says 'Adam digged:' could he dig without\n",
      "arms? I'll put another question to thee: if thou answerest me not\n",
      "to the purpose, confess thyself-- Second Clown Go to.  First Clown\n",
      "What is he that builds stronger than either the mason, the shipwright,\n",
      "or the carpenter?  Second Clown The gallows-maker; for that frame\n",
      "outlives a thousand tenants.  First Clown I like thy wit well, in\n",
      "good faith: the gallows does well; but how does it well? it does\n",
      "well to those that do in: now thou dost ill to say the gallows is\n",
      "built stronger than the church: argal, the gallows may do well to\n",
      "thee. To't again, come.  Second Clown 'Who builds stronger than a\n",
      "mason, a shipwright, or a carpenter?' First Clown Ay, tell me that,\n",
      "and unyoke.  Second Clown Marry, now I can tell.  First Clown To't.\n",
      "Second Clown Mass, I cannot tell.  Enter HAMLET and HORATIO, at a\n",
      "distance\n",
      "\n",
      "First Clown Cudgel thy brains no more about it, for your dull ass\n",
      "will not mend his pace with beating; and, when you are asked this\n",
      "question next, say 'a grave-maker: 'the houses that he makes last\n",
      "till doomsday. Go, get thee to Yaughan: fetch me a stoup of liquor.\n",
      "Exit Second Clown\n",
      "\n",
      "He digs and sings\n",
      "\n",
      "In youth, when I did love, did love, Methought it was very sweet,\n",
      "To contract, O, the time, for, ah, my behove, O, methought, there\n",
      "was nothing meet.  HAMLET Has this fellow no feeling of his business,\n",
      "that he sings at grave-making?  HORATIO Custom hath made it in him\n",
      "a property of easiness.  HAMLET 'Tis e'en so: the hand of little\n",
      "employment hath the daintier sense.  First Clown [Sings] But age,\n",
      "with his stealing steps, Hath claw'd me in his clutch, And hath\n",
      "shipped me intil the land, As if I had never been such.  Throws up\n",
      "a skull\n",
      "\n",
      "HAMLET That skull had a tongue in it, and could sing once: how the\n",
      "knave jowls it to the ground, as if it were Cain's jaw-bone, that\n",
      "did the first murder! It might be the pate of a politician, which\n",
      "this ass now o'er-reaches; one that would circumvent God, might it\n",
      "not?  HORATIO It might, my lord.  HAMLET Or of a courtier; which\n",
      "could say 'Good morrow, sweet lord! How dost thou, good lord?' This\n",
      "might be my lord such-a-one, that praised my lord such-a-one's\n",
      "horse, when he meant to beg it; might it not?  HORATIO Ay, my lord.\n",
      "HAMLET Why, e'en so: and now my Lady Worm's; chapless, and knocked\n",
      "about the mazzard with a sexton's spade: here's fine revolution,\n",
      "an we had the trick to see't. Did these bones cost no more the\n",
      "breeding, but to play at loggats with 'em? mine ache to think on't.\n",
      "First Clown [Sings] A pick-axe, and a spade, a spade, For and a\n",
      "shrouding sheet: O, a pit of clay for to be made For such a guest\n",
      "is meet.  Throws up another skull\n",
      "\n",
      "HAMLET There's another: why may not that be the skull of a lawyer?\n",
      "Where be his quiddities now, his quillets, his cases, his tenures,\n",
      "and his tricks? why does he suffer this rude knave now to knock him\n",
      "about the sconce with a dirty shovel, and will not tell him of his\n",
      "action of battery? Hum! This fellow might be in's time a great buyer\n",
      "of land, with his statutes, his recognizances, his fines, his double\n",
      "vouchers, his recoveries: is this the fine of his fines, and the\n",
      "recovery of his recoveries, to have his fine pate full of fine dirt?\n",
      "will his vouchers vouch him no more of his purchases, and double\n",
      "ones too, than the length and breadth of a pair of indentures? The\n",
      "very conveyances of his lands will hardly lie in this box; and must\n",
      "the inheritor himself have no more, ha?  HORATIO Not a jot more,\n",
      "my lord.  HAMLET Is not parchment made of sheepskins?  HORATIO Ay,\n",
      "my lord, and of calf-skins too.  HAMLET They are sheep and calves\n",
      "which seek out assurance in that. I will speak to this fellow. Whose\n",
      "grave's this, sirrah?  First Clown Mine, sir.  Sings\n",
      "\n",
      "O, a pit of clay for to be made For such a guest is meet.  HAMLET\n",
      "I think it be thine, indeed; for thou liest in't.  First Clown You\n",
      "lie out on't, sir, and therefore it is not yours: for my part, I\n",
      "do not lie in't, and yet it is mine.  HAMLET 'Thou dost lie in't,\n",
      "to be in't and say it is thine: 'tis for the dead, not for the\n",
      "quick; therefore thou liest.  First Clown 'Tis a quick lie, sir;\n",
      "'twill away gain, from me to you.  HAMLET What man dost thou dig\n",
      "it for?  First Clown For no man, sir.  HAMLET What woman, then?\n",
      "First Clown For none, neither.  HAMLET Who is to be buried in't?\n",
      "First Clown One that was a woman, sir; but, rest her soul, she's\n",
      "dead.  HAMLET How absolute the knave is! we must speak by the card,\n",
      "or equivocation will undo us. By the Lord, Horatio, these three\n",
      "years I have taken a note of it; the age is grown so picked that\n",
      "the toe of the peasant comes so near the heel of the courtier, he\n",
      "gaffs his kibe. How long hast thou been a grave-maker?  First Clown\n",
      "Of all the days i' the year, I came to't that day that our last\n",
      "king Hamlet overcame Fortinbras.  HAMLET How long is that since?\n",
      "First Clown Cannot you tell that? every fool can tell that: it was\n",
      "the very day that young Hamlet was born; he that is mad, and sent\n",
      "into England.  HAMLET Ay, marry, why was he sent into England?\n",
      "First Clown Why, because he was mad: he shall recover his wits\n",
      "there; or, if he do not, it's no great matter there.  HAMLET Why?\n",
      "First Clown 'Twill, a not be seen in him there; there the men are\n",
      "as mad as he.  HAMLET How came he mad?  First Clown Very strangely,\n",
      "they say.  HAMLET How strangely?  First Clown Faith, e'en with\n",
      "losing his wits.  HAMLET Upon what ground?  First Clown Why, here\n",
      "in Denmark: I have been sexton here, man and boy, thirty years.\n",
      "HAMLET How long will a man lie i' the earth ere he rot?  First Clown\n",
      "I' faith, if he be not rotten before he die--as we have many pocky\n",
      "corses now-a-days, that will scarce hold the laying in--he will\n",
      "last you some eight year or nine year: a tanner will last you nine\n",
      "year.  HAMLET Why he more than another?  First Clown Why, sir, his\n",
      "hide is so tanned with his trade, that he will keep out water a\n",
      "great while; and your water is a sore decayer of your whoreson dead\n",
      "body.  Here's a skull now; this skull has lain in the earth three\n",
      "and twenty years.  HAMLET Whose was it?  First Clown A whoreson mad\n",
      "fellow's it was: whose do you think it was?  HAMLET Nay, I know\n",
      "not.  First Clown A pestilence on him for a mad rogue! a' poured a\n",
      "flagon of Rhenish on my head once. This same skull, sir, was Yorick's\n",
      "skull, the king's jester.  HAMLET This?  First Clown E'en that.\n",
      "HAMLET Let me see.  Takes the skull\n",
      "\n",
      "Alas, poor Yorick! I knew him, Horatio: a fellow of infinite jest,\n",
      "of most excellent fancy: he hath borne me on his back a thousand\n",
      "times; and now, how abhorred in my imagination it is! my gorge rims\n",
      "at it. Here hung those lips that I have kissed I know not how oft.\n",
      "Where be your gibes now? your gambols? your songs? your flashes of\n",
      "merriment, that were wont to set the table on a roar? Not one now,\n",
      "to mock your own grinning? quite chap-fallen?  Now get you to my\n",
      "lady's chamber, and tell her, let her paint an inch thick, to this\n",
      "favour she must come; make her laugh at that. Prithee, Horatio,\n",
      "tell me one thing.  HORATIO What's that, my lord?  HAMLET Dost thou\n",
      "think Alexander looked o' this fashion i' the earth?  HORATIO E'en\n",
      "so.  HAMLET And smelt so? pah!  Puts down the skull\n",
      "\n",
      "HORATIO E'en so, my lord.  HAMLET To what base uses we may return,\n",
      "Horatio! Why may not imagination trace the noble dust of Alexander,\n",
      "till he find it stopping a bung-hole?  HORATIO 'Twere to consider\n",
      "too curiously, to consider so.  HAMLET No, faith, not a jot; but\n",
      "to follow him thither with modesty enough, and likelihood to lead\n",
      "it: as thus: Alexander died, Alexander was buried, Alexander returneth\n",
      "into dust; the dust is earth; of earth we make loam; and why of\n",
      "that loam, whereto he was converted, might they not stop a beer-barrel?\n",
      "Imperious Caesar, dead and turn'd to clay, Might stop a hole to\n",
      "keep the wind away: O, that that earth, which kept the world in\n",
      "awe, Should patch a wall to expel the winter flaw!  But soft! but\n",
      "soft! aside: here comes the king.  Enter Priest, & c. in procession;\n",
      "the Corpse of OPHELIA, LAERTES and Mourners following; KING CLAUDIUS,\n",
      "QUEEN GERTRUDE, their trains, & c\n",
      "\n",
      "The queen, the courtiers: who is this they follow?  And with such\n",
      "maimed rites? This doth betoken The corse they follow did with\n",
      "desperate hand Fordo its own life: 'twas of some estate.  Couch we\n",
      "awhile, and mark.  Retiring with HORATIO\n",
      "\n",
      "LAERTES What ceremony else?  HAMLET That is Laertes, A very noble\n",
      "youth: mark.  LAERTES What ceremony else?  First Priest Her obsequies\n",
      "have been as far enlarged As we have warrantise: her death was\n",
      "doubtful; And, but that great command o'ersways the order, She\n",
      "should in ground unsanctified have lodged Till the last trumpet:\n",
      "for charitable prayers, Shards, flints and pebbles should be thrown\n",
      "on her; Yet here she is allow'd her virgin crants, Her maiden\n",
      "strewments and the bringing home Of bell and burial.  LAERTES Must\n",
      "there no more be done?  First Priest No more be done: We should\n",
      "profane the service of the dead To sing a requiem and such rest to\n",
      "her As to peace-parted souls.  LAERTES Lay her i' the earth: And\n",
      "from her fair and unpolluted flesh May violets spring! I tell thee,\n",
      "churlish priest, A ministering angel shall my sister be, When thou\n",
      "liest howling.  HAMLET What, the fair Ophelia!  QUEEN GERTRUDE\n",
      "Sweets to the sweet: farewell!  Scattering flowers\n",
      "\n",
      "I hoped thou shouldst have been my Hamlet's wife; I thought thy\n",
      "bride-bed to have deck'd, sweet maid, And not have strew'd thy\n",
      "grave.  LAERTES O, treble woe Fall ten times treble on that cursed\n",
      "head, Whose wicked deed thy most ingenious sense Deprived thee of!\n",
      "Hold off the earth awhile, Till I have caught her once more in mine\n",
      "arms: Leaps into the grave\n",
      "\n",
      "Now pile your dust upon the quick and dead, Till of this flat a\n",
      "mountain you have made, To o'ertop old Pelion, or the skyish head\n",
      "Of blue Olympus.  HAMLET [Advancing] What is he whose grief Bears\n",
      "such an emphasis? whose phrase of sorrow Conjures the wandering\n",
      "stars, and makes them stand Like wonder-wounded hearers? This is\n",
      "I, Hamlet the Dane.  Leaps into the grave\n",
      "\n",
      "LAERTES The devil take thy soul!  Grappling with him\n",
      "\n",
      "HAMLET Thou pray'st not well.  I prithee, take thy fingers from my\n",
      "throat; For, though I am not splenitive and rash, Yet have I something\n",
      "in me dangerous, Which let thy wiseness fear: hold off thy hand.\n",
      "KING CLAUDIUS Pluck them asunder.  QUEEN GERTRUDE Hamlet, Hamlet!\n",
      "All Gentlemen,-- HORATIO Good my lord, be quiet.  The Attendants\n",
      "part them, and they come out of the grave\n",
      "\n",
      "HAMLET Why I will fight with him upon this theme Until my eyelids\n",
      "will no longer wag.  QUEEN GERTRUDE O my son, what theme?  HAMLET\n",
      "I loved Ophelia: forty thousand brothers Could not, with all their\n",
      "quantity of love, Make up my sum. What wilt thou do for her?  KING\n",
      "CLAUDIUS O, he is mad, Laertes.  QUEEN GERTRUDE For love of God,\n",
      "forbear him.  HAMLET 'Swounds, show me what thou'lt do: Woo't weep?\n",
      "woo't fight? woo't fast? woo't tear thyself?  Woo't drink up eisel?\n",
      "eat a crocodile?  I'll do't. Dost thou come here to whine?  To\n",
      "outface me with leaping in her grave?  Be buried quick with her,\n",
      "and so will I: And, if thou prate of mountains, let them throw\n",
      "Millions of acres on us, till our ground, Singeing his pate against\n",
      "the burning zone, Make Ossa like a wart! Nay, an thou'lt mouth,\n",
      "I'll rant as well as thou.  QUEEN GERTRUDE This is mere madness:\n",
      "And thus awhile the fit will work on him; Anon, as patient as the\n",
      "female dove, When that her golden couplets are disclosed, His silence\n",
      "will sit drooping.  HAMLET Hear you, sir; What is the reason that\n",
      "you use me thus?  I loved you ever: but it is no matter; Let Hercules\n",
      "himself do what he may, The cat will mew and dog will have his day.\n",
      "Exit\n",
      "\n",
      "KING CLAUDIUS I pray you, good Horatio, wait upon him.  Exit HORATIO\n",
      "\n",
      "To LAERTES\n",
      "\n",
      "Strengthen your patience in our last night's speech; We'll put the\n",
      "matter to the present push.  Good Gertrude, set some watch over\n",
      "your son.  This grave shall have a living monument: An hour of quiet\n",
      "shortly shall we see; Till then, in patience our proceeding be.\n",
      "Exeunt\n",
      "\n",
      "SCENE II. A hall in the castle.\n",
      "\n",
      "Enter HAMLET and HORATIO HAMLET So much for this, sir: now shall\n",
      "you see the other; You do remember all the circumstance?  HORATIO\n",
      "Remember it, my lord?  HAMLET Sir, in my heart there was a kind of\n",
      "fighting, That would not let me sleep: methought I lay Worse than\n",
      "the mutines in the bilboes. Rashly, And praised be rashness for it,\n",
      "let us know, Our indiscretion sometimes serves us well, When our\n",
      "deep plots do pall: and that should teach us There's a divinity\n",
      "that shapes our ends, Rough-hew them how we will,-- HORATIO That\n",
      "is most certain.  HAMLET Up from my cabin, My sea-gown scarf'd about\n",
      "me, in the dark Groped I to find out them; had my desire.  Finger'd\n",
      "their packet, and in fine withdrew To mine own room again; making\n",
      "so bold, My fears forgetting manners, to unseal Their grand commission;\n",
      "where I found, Horatio,-- O royal knavery!--an exact command, Larded\n",
      "with many several sorts of reasons Importing Denmark's health and\n",
      "England's too, With, ho! such bugs and goblins in my life, That,\n",
      "on the supervise, no leisure bated, No, not to stay the grinding\n",
      "of the axe, My head should be struck off.  HORATIO Is't possible?\n",
      "HAMLET Here's the commission: read it at more leisure.  But wilt\n",
      "thou hear me how I did proceed?  HORATIO I beseech you.  HAMLET\n",
      "Being thus be-netted round with villanies,-- Ere I could make a\n",
      "prologue to my brains, They had begun the play--I sat me down,\n",
      "Devised a new commission, wrote it fair: I once did hold it, as our\n",
      "statists do, A baseness to write fair and labour'd much How to\n",
      "forget that learning, but, sir, now It did me yeoman's service:\n",
      "wilt thou know The effect of what I wrote?  HORATIO Ay, good my\n",
      "lord.  HAMLET An earnest conjuration from the king, As England was\n",
      "his faithful tributary, As love between them like the palm might\n",
      "flourish, As peace should stiff her wheaten garland wear And stand\n",
      "a comma 'tween their amities, And many such-like 'As'es of great\n",
      "charge, That, on the view and knowing of these contents, Without\n",
      "debatement further, more or less, He should the bearers put to\n",
      "sudden death, Not shriving-time allow'd.  HORATIO How was this\n",
      "seal'd?  HAMLET Why, even in that was heaven ordinant.  I had my\n",
      "father's signet in my purse, Which was the model of that Danish\n",
      "seal; Folded the writ up in form of the other, Subscribed it, gave't\n",
      "the impression, placed it safely, The changeling never known. Now,\n",
      "the next day Was our sea-fight; and what to this was sequent Thou\n",
      "know'st already.  HORATIO So Guildenstern and Rosencrantz go to't.\n",
      "HAMLET Why, man, they did make love to this employment; They are\n",
      "not near my conscience; their defeat Does by their own insinuation\n",
      "grow: 'Tis dangerous when the baser nature comes Between the pass\n",
      "and fell incensed points Of mighty opposites.  HORATIO Why, what a\n",
      "king is this!  HAMLET Does it not, think'st thee, stand me now\n",
      "upon-- He that hath kill'd my king and whored my mother, Popp'd in\n",
      "between the election and my hopes, Thrown out his angle for my\n",
      "proper life, And with such cozenage--is't not perfect conscience,\n",
      "To quit him with this arm? and is't not to be damn'd, To let this\n",
      "canker of our nature come In further evil?  HORATIO It must be\n",
      "shortly known to him from England What is the issue of the business\n",
      "there.  HAMLET It will be short: the interim is mine; And a man's\n",
      "life's no more than to say 'One.' But I am very sorry, good Horatio,\n",
      "That to Laertes I forgot myself; For, by the image of my cause, I\n",
      "see The portraiture of his: I'll court his favours.  But, sure, the\n",
      "bravery of his grief did put me Into a towering passion.  HORATIO\n",
      "Peace! who comes here?  Enter OSRIC\n",
      "\n",
      "OSRIC Your lordship is right welcome back to Denmark.  HAMLET I\n",
      "humbly thank you, sir. Dost know this water-fly?  HORATIO No, my\n",
      "good lord.  HAMLET Thy state is the more gracious; for 'tis a vice\n",
      "to know him. He hath much land, and fertile: let a beast be lord\n",
      "of beasts, and his crib shall stand at the king's mess: 'tis a\n",
      "chough; but, as I say, spacious in the possession of dirt.  OSRIC\n",
      "Sweet lord, if your lordship were at leisure, I should impart a\n",
      "thing to you from his majesty.  HAMLET I will receive it, sir, with\n",
      "all diligence of spirit. Put your bonnet to his right use; 'tis for\n",
      "the head.  OSRIC I thank your lordship, it is very hot.  HAMLET No,\n",
      "believe me, 'tis very cold; the wind is northerly.  OSRIC It is\n",
      "indifferent cold, my lord, indeed.  HAMLET But yet methinks it is\n",
      "very sultry and hot for my complexion.  OSRIC Exceedingly, my lord;\n",
      "it is very sultry,--as 'twere,--I cannot tell how. But, my lord,\n",
      "his majesty bade me signify to you that he has laid a great wager\n",
      "on your head: sir, this is the matter,-- HAMLET I beseech you,\n",
      "remember-- HAMLET moves him to put on his hat\n",
      "\n",
      "OSRIC Nay, good my lord; for mine ease, in good faith.  Sir, here\n",
      "is newly come to court Laertes; believe me, an absolute gentleman,\n",
      "full of most excellent differences, of very soft society and great\n",
      "showing: indeed, to speak feelingly of him, he is the card or\n",
      "calendar of gentry, for you shall find in him the continent of what\n",
      "part a gentleman would see.  HAMLET Sir, his definement suffers no\n",
      "perdition in you; though, I know, to divide him inventorially would\n",
      "dizzy the arithmetic of memory, and yet but yaw neither, in respect\n",
      "of his quick sail. But, in the verity of extolment, I take him to\n",
      "be a soul of great article; and his infusion of such dearth and\n",
      "rareness, as, to make true diction of him, his semblable is his\n",
      "mirror; and who else would trace him, his umbrage, nothing more.\n",
      "OSRIC Your lordship speaks most infallibly of him.  HAMLET The\n",
      "concernancy, sir? why do we wrap the gentleman in our more rawer\n",
      "breath?  OSRIC Sir?  HORATIO Is't not possible to understand in\n",
      "another tongue?  You will do't, sir, really.  HAMLET What imports\n",
      "the nomination of this gentleman?  OSRIC Of Laertes?  HORATIO His\n",
      "purse is empty already; all's golden words are spent.  HAMLET Of\n",
      "him, sir.  OSRIC I know you are not ignorant-- HAMLET I would you\n",
      "did, sir; yet, in faith, if you did, it would not much approve me.\n",
      "Well, sir?  OSRIC You are not ignorant of what excellence Laertes\n",
      "is-- HAMLET I dare not confess that, lest I should compare with him\n",
      "in excellence; but, to know a man well, were to know himself.  OSRIC\n",
      "I mean, sir, for his weapon; but in the imputation laid on him by\n",
      "them, in his meed he's unfellowed.  HAMLET What's his weapon?  OSRIC\n",
      "Rapier and dagger.  HAMLET That's two of his weapons: but, well.\n",
      "OSRIC The king, sir, hath wagered with him six Barbary horses:\n",
      "against the which he has imponed, as I take it, six French rapiers\n",
      "and poniards, with their assigns, as girdle, hangers, and so: three\n",
      "of the carriages, in faith, are very dear to fancy, very responsive\n",
      "to the hilts, most delicate carriages, and of very liberal conceit.\n",
      "HAMLET What call you the carriages?  HORATIO I knew you must be\n",
      "edified by the margent ere you had done.  OSRIC The carriages, sir,\n",
      "are the hangers.  HAMLET The phrase would be more german to the\n",
      "matter, if we could carry cannon by our sides: I would it might be\n",
      "hangers till then. But, on: six Barbary horses against six French\n",
      "swords, their assigns, and three liberal-conceited carriages; that's\n",
      "the French bet against the Danish. Why is this 'imponed,' as you\n",
      "call it?  OSRIC The king, sir, hath laid, that in a dozen passes\n",
      "between yourself and him, he shall not exceed you three hits: he\n",
      "hath laid on twelve for nine; and it would come to immediate trial,\n",
      "if your lordship would vouchsafe the answer.  HAMLET How if I answer\n",
      "'no'?  OSRIC I mean, my lord, the opposition of your person in\n",
      "trial.  HAMLET Sir, I will walk here in the hall: if it please his\n",
      "majesty, 'tis the breathing time of day with me; let the foils be\n",
      "brought, the gentleman willing, and the king hold his purpose, I\n",
      "will win for him an I can; if not, I will gain nothing but my shame\n",
      "and the odd hits.  OSRIC Shall I re-deliver you e'en so?  HAMLET\n",
      "To this effect, sir; after what flourish your nature will.  OSRIC\n",
      "I commend my duty to your lordship.  HAMLET Yours, yours.  Exit\n",
      "OSRIC\n",
      "\n",
      "He does well to commend it himself; there are no tongues else for's\n",
      "turn.  HORATIO This lapwing runs away with the shell on his head.\n",
      "HAMLET He did comply with his dug, before he sucked it.  Thus has\n",
      "he--and many more of the same bevy that I know the dressy age dotes\n",
      "on--only got the tune of the time and outward habit of encounter;\n",
      "a kind of yesty collection, which carries them through and through\n",
      "the most fond and winnowed opinions; and do but blow them to their\n",
      "trial, the bubbles are out.  Enter a Lord\n",
      "\n",
      "Lord My lord, his majesty commended him to you by young Osric, who\n",
      "brings back to him that you attend him in the hall: he sends to\n",
      "know if your pleasure hold to play with Laertes, or that you will\n",
      "take longer time.  HAMLET I am constant to my purpose; they follow\n",
      "the king's pleasure: if his fitness speaks, mine is ready; now or\n",
      "whensoever, provided I be so able as now.  Lord The king and queen\n",
      "and all are coming down.  HAMLET In happy time.  Lord The queen\n",
      "desires you to use some gentle entertainment to Laertes before you\n",
      "fall to play.  HAMLET She well instructs me.  Exit Lord\n",
      "\n",
      "HORATIO You will lose this wager, my lord.  HAMLET I do not think\n",
      "so: since he went into France, I have been in continual practise:\n",
      "I shall win at the odds. But thou wouldst not think how ill all's\n",
      "here about my heart: but it is no matter.  HORATIO Nay, good my\n",
      "lord,-- HAMLET It is but foolery; but it is such a kind of gain-giving,\n",
      "as would perhaps trouble a woman.  HORATIO If your mind dislike any\n",
      "thing, obey it: I will forestall their repair hither, and say you\n",
      "are not fit.  HAMLET Not a whit, we defy augury: there's a special\n",
      "providence in the fall of a sparrow. If it be now, 'tis not to come;\n",
      "if it be not to come, it will be now; if it be not now, yet it will\n",
      "come: the readiness is all: since no man has aught of what he leaves,\n",
      "what is't to leave betimes?  Enter KING CLAUDIUS, QUEEN GERTRUDE,\n",
      "LAERTES, Lords, OSRIC, and Attendants with foils, & c\n",
      "\n",
      "KING CLAUDIUS Come, Hamlet, come, and take this hand from me.  KING\n",
      "CLAUDIUS puts LAERTES' hand into HAMLET's\n",
      "\n",
      "HAMLET Give me your pardon, sir: I've done you wrong; But pardon't,\n",
      "as you are a gentleman.  This presence knows, And you must needs\n",
      "have heard, how I am punish'd With sore distraction. What I have\n",
      "done, That might your nature, honour and exception Roughly awake,\n",
      "I here proclaim was madness.  Was't Hamlet wrong'd Laertes? Never\n",
      "Hamlet: If Hamlet from himself be ta'en away, And when he's not\n",
      "himself does wrong Laertes, Then Hamlet does it not, Hamlet denies\n",
      "it.  Who does it, then? His madness: if't be so, Hamlet is of the\n",
      "faction that is wrong'd; His madness is poor Hamlet's enemy.  Sir,\n",
      "in this audience, Let my disclaiming from a purposed evil Free me\n",
      "so far in your most generous thoughts, That I have shot mine arrow\n",
      "o'er the house, And hurt my brother.  LAERTES I am satisfied in\n",
      "nature, Whose motive, in this case, should stir me most To my\n",
      "revenge: but in my terms of honour I stand aloof; and will no\n",
      "reconcilement, Till by some elder masters, of known honour, I have\n",
      "a voice and precedent of peace, To keep my name ungored. But till\n",
      "that time, I do receive your offer'd love like love, And will not\n",
      "wrong it.  HAMLET I embrace it freely; And will this brother's wager\n",
      "frankly play.  Give us the foils. Come on.  LAERTES Come, one for\n",
      "me.  HAMLET I'll be your foil, Laertes: in mine ignorance Your skill\n",
      "shall, like a star i' the darkest night, Stick fiery off indeed.\n",
      "LAERTES You mock me, sir.  HAMLET No, by this hand.  KING CLAUDIUS\n",
      "Give them the foils, young Osric. Cousin Hamlet, You know the wager?\n",
      "HAMLET Very well, my lord Your grace hath laid the odds o' the\n",
      "weaker side.  KING CLAUDIUS I do not fear it; I have seen you both:\n",
      "But since he is better'd, we have therefore odds.  LAERTES This is\n",
      "too heavy, let me see another.  HAMLET This likes me well. These\n",
      "foils have all a length?  They prepare to play\n",
      "\n",
      "OSRIC Ay, my good lord.  KING CLAUDIUS Set me the stoops of wine\n",
      "upon that table.  If Hamlet give the first or second hit, Or quit\n",
      "in answer of the third exchange, Let all the battlements their\n",
      "ordnance fire: The king shall drink to Hamlet's better breath; And\n",
      "in the cup an union shall he throw, Richer than that which four\n",
      "successive kings In Denmark's crown have worn. Give me the cups;\n",
      "And let the kettle to the trumpet speak, The trumpet to the cannoneer\n",
      "without, The cannons to the heavens, the heavens to earth, 'Now the\n",
      "king dunks to Hamlet.' Come, begin: And you, the judges, bear a\n",
      "wary eye.  HAMLET Come on, sir.  LAERTES Come, my lord.  They play\n",
      "\n",
      "HAMLET One.  LAERTES No.  HAMLET Judgment.  OSRIC A hit, a very\n",
      "palpable hit.  LAERTES Well; again.  KING CLAUDIUS Stay; give me\n",
      "drink. Hamlet, this pearl is thine; Here's to thy health.  Trumpets\n",
      "sound, and cannon shot off within\n",
      "\n",
      "Give him the cup.  HAMLET I'll play this bout first; set it by\n",
      "awhile. Come.  They play\n",
      "\n",
      "Another hit; what say you?  LAERTES A touch, a touch, I do confess.\n",
      "KING CLAUDIUS Our son shall win.  QUEEN GERTRUDE He's fat, and scant\n",
      "of breath.  Here, Hamlet, take my napkin, rub thy brows; The queen\n",
      "carouses to thy fortune, Hamlet.  HAMLET Good madam!  KING CLAUDIUS\n",
      "Gertrude, do not drink.  QUEEN GERTRUDE I will, my lord; I pray\n",
      "you, pardon me.  KING CLAUDIUS [Aside] It is the poison'd cup: it\n",
      "is too late.  HAMLET I dare not drink yet, madam; by and by.  QUEEN\n",
      "GERTRUDE Come, let me wipe thy face.  LAERTES My lord, I'll hit him\n",
      "now.  KING CLAUDIUS I do not think't.  LAERTES [Aside] And yet 'tis\n",
      "almost 'gainst my conscience.  HAMLET Come, for the third, Laertes:\n",
      "you but dally; I pray you, pass with your best violence; I am afeard\n",
      "you make a wanton of me.  LAERTES Say you so? come on.  They play\n",
      "\n",
      "OSRIC Nothing, neither way.  LAERTES Have at you now!  LAERTES\n",
      "wounds HAMLET; then in scuffling, they change rapiers, and HAMLET\n",
      "wounds LAERTES\n",
      "\n",
      "KING CLAUDIUS Part them; they are incensed.  HAMLET Nay, come,\n",
      "again.  QUEEN GERTRUDE falls\n",
      "\n",
      "OSRIC Look to the queen there, ho!  HORATIO They bleed on both\n",
      "sides. How is it, my lord?  OSRIC How is't, Laertes?  LAERTES Why,\n",
      "as a woodcock to mine own springe, Osric; I am justly kill'd with\n",
      "mine own treachery.  HAMLET How does the queen?  KING CLAUDIUS She\n",
      "swounds to see them bleed.  QUEEN GERTRUDE No, no, the drink, the\n",
      "drink,--O my dear Hamlet,-- The drink, the drink! I am poison'd.\n",
      "Dies\n",
      "\n",
      "HAMLET O villany! Ho! let the door be lock'd: Treachery! Seek it\n",
      "out.  LAERTES It is here, Hamlet: Hamlet, thou art slain; No medicine\n",
      "in the world can do thee good; In thee there is not half an hour\n",
      "of life; The treacherous instrument is in thy hand, Unbated and\n",
      "envenom'd: the foul practise Hath turn'd itself on me lo, here I\n",
      "lie, Never to rise again: thy mother's poison'd: I can no more: the\n",
      "king, the king's to blame.  HAMLET The point!--envenom'd too!  Then,\n",
      "venom, to thy work.  Stabs KING CLAUDIUS\n",
      "\n",
      "All Treason! treason!  KING CLAUDIUS O, yet defend me, friends; I\n",
      "am but hurt.  HAMLET Here, thou incestuous, murderous, damned Dane,\n",
      "Drink off this potion. Is thy union here?  Follow my mother.  KING\n",
      "CLAUDIUS dies\n",
      "\n",
      "LAERTES He is justly served; It is a poison temper'd by himself.\n",
      "Exchange forgiveness with me, noble Hamlet: Mine and my father's\n",
      "death come not upon thee, Nor thine on me.  Dies\n",
      "\n",
      "HAMLET Heaven make thee free of it! I follow thee.  I am dead,\n",
      "Horatio. Wretched queen, adieu!  You that look pale and tremble at\n",
      "this chance, That are but mutes or audience to this act, Had I but\n",
      "time--as this fell sergeant, death, Is strict in his arrest--O, I\n",
      "could tell you-- But let it be. Horatio, I am dead; Thou livest;\n",
      "report me and my cause aright To the unsatisfied.  HORATIO Never\n",
      "believe it: I am more an antique Roman than a Dane: Here's yet some\n",
      "liquor left.  HAMLET As thou'rt a man, Give me the cup: let go; by\n",
      "heaven, I'll have't.  O good Horatio, what a wounded name, Things\n",
      "standing thus unknown, shall live behind me!  If thou didst ever\n",
      "hold me in thy heart Absent thee from felicity awhile, And in this\n",
      "harsh world draw thy breath in pain, To tell my story.  March afar\n",
      "off, and shot within\n",
      "\n",
      "What warlike noise is this?  OSRIC Young Fortinbras, with conquest\n",
      "come from Poland, To the ambassadors of England gives This warlike\n",
      "volley.  HAMLET O, I die, Horatio; The potent poison quite o'er-crows\n",
      "my spirit: I cannot live to hear the news from England; But I do\n",
      "prophesy the election lights On Fortinbras: he has my dying voice;\n",
      "So tell him, with the occurrents, more and less, Which have solicited.\n",
      "The rest is silence.  Dies\n",
      "\n",
      "HORATIO Now cracks a noble heart. Good night sweet prince: And\n",
      "flights of angels sing thee to thy rest!  Why does the drum come\n",
      "hither?  March within\n",
      "\n",
      "Enter FORTINBRAS, the English Ambassadors, and others\n",
      "\n",
      "PRINCE FORTINBRAS Where is this sight?  HORATIO What is it ye would\n",
      "see?  If aught of woe or wonder, cease your search.  PRINCE FORTINBRAS\n",
      "This quarry cries on havoc. O proud death, What feast is toward in\n",
      "thine eternal cell, That thou so many princes at a shot So bloodily\n",
      "hast struck?  First Ambassador The sight is dismal; And our affairs\n",
      "from England come too late: The ears are senseless that should give\n",
      "us hearing, To tell him his commandment is fulfill'd, That Rosencrantz\n",
      "and Guildenstern are dead: Where should we have our thanks?  HORATIO\n",
      "Not from his mouth, Had it the ability of life to thank you: He\n",
      "never gave commandment for their death.  But since, so jump upon\n",
      "this bloody question, You from the Polack wars, and you from England,\n",
      "Are here arrived give order that these bodies High on a stage be\n",
      "placed to the view; And let me speak to the yet unknowing world How\n",
      "these things came about: so shall you hear Of carnal, bloody, and\n",
      "unnatural acts, Of accidental judgments, casual slaughters, Of\n",
      "deaths put on by cunning and forced cause, And, in this upshot,\n",
      "purposes mistook Fall'n on the inventors' reads: all this can I\n",
      "Truly deliver.  PRINCE FORTINBRAS Let us haste to hear it, And call\n",
      "the noblest to the audience.  For me, with sorrow I embrace my\n",
      "fortune: I have some rights of memory in this kingdom, Which now\n",
      "to claim my vantage doth invite me.  HORATIO Of that I shall have\n",
      "also cause to speak, And from his mouth whose voice will draw on\n",
      "more; But let this same be presently perform'd, Even while men's\n",
      "minds are wild; lest more mischance On plots and errors, happen.\n",
      "PRINCE FORTINBRAS Let four captains Bear Hamlet, like a soldier,\n",
      "to the stage; For he was likely, had he been put on, To have proved\n",
      "most royally: and, for his passage, The soldiers' music and the\n",
      "rites of war Speak loudly for him.  Take up the bodies: such a sight\n",
      "as this Becomes the field, but here shows much amiss.  Go, bid the\n",
      "soldiers shoot.  A dead march. Exeunt, bearing off the dead bodies;\n",
      "after which a peal of ordnance is shot off\n",
      "TWO roads diverged in a yellow wood,\t\n",
      "And sorry I could not travel both\t\n",
      "And be one traveler, long I stood\t\n",
      "And looked down one as far as I could\t\n",
      "To where it bent in the undergrowth;\n",
      " \n",
      "Then took the other, as just as fair,\t\n",
      "And having perhaps the better claim,\t\n",
      "Because it was grassy and wanted wear;\t\n",
      "Though as for that the passing there\t\n",
      "Had worn them really about the same,\n",
      " \n",
      "And both that morning equally lay\t\n",
      "In leaves no step had trodden black.\t\n",
      "Oh, I kept the first for another day!\t\n",
      "Yet knowing how way leads on to way,\t\n",
      "I doubted if I should ever come back.\n",
      " \n",
      "I shall be telling this with a sigh\t\n",
      "Somewhere ages and ages hence:\t\n",
      "Two roads diverged in a wood, and I—\t\n",
      "I took the one less traveled by,\t\n",
      "And that has made all the difference.\n"
     ]
    }
   ],
   "source": [
    "for line in mycat(['./data/hamlet.txt', './data/poem.txt']):\n",
    "    print(line, end='')"
   ]
  },
  {
   "cell_type": "code",
   "execution_count": 121,
   "metadata": {},
   "outputs": [
    {
     "data": {
      "text/plain": [
       "{'a': 'A',\n",
       " 'b': 'B',\n",
       " 'c': 'C',\n",
       " 'd': 'D',\n",
       " 'e': 'E',\n",
       " 'f': 'F',\n",
       " 'g': 'G',\n",
       " 'h': 'H',\n",
       " 'i': 'I',\n",
       " 'j': 'J'}"
      ]
     },
     "execution_count": 121,
     "metadata": {},
     "output_type": "execute_result"
    }
   ],
   "source": [
    "# The Python 3 built-in \"zip\" lets us iteratively zip multiple iterators. \n",
    "#  Useful when building a giant dictionary:\n",
    "import string\n",
    "dict(zip(string.ascii_lowercase, string.ascii_uppercase[:10]))"
   ]
  },
  {
   "cell_type": "code",
   "execution_count": 122,
   "metadata": {},
   "outputs": [
    {
     "data": {
      "text/plain": [
       "('a', 'A')"
      ]
     },
     "execution_count": 122,
     "metadata": {},
     "output_type": "execute_result"
    }
   ],
   "source": [
    "z = zip(string.ascii_lowercase, string.ascii_uppercase)\n",
    "next(z)"
   ]
  },
  {
   "cell_type": "code",
   "execution_count": 123,
   "metadata": {},
   "outputs": [
    {
     "data": {
      "text/plain": [
       "('b', 'B')"
      ]
     },
     "execution_count": 123,
     "metadata": {},
     "output_type": "execute_result"
    }
   ],
   "source": [
    "next(z)"
   ]
  },
  {
   "cell_type": "code",
   "execution_count": 125,
   "metadata": {},
   "outputs": [],
   "source": [
    "from itertools import zip_longest"
   ]
  },
  {
   "cell_type": "code",
   "execution_count": 126,
   "metadata": {
    "scrolled": true
   },
   "outputs": [
    {
     "data": {
      "text/plain": [
       "{'a': 'A',\n",
       " 'b': 'B',\n",
       " 'c': 'C',\n",
       " 'd': 'D',\n",
       " 'e': 'E',\n",
       " 'f': 'F',\n",
       " 'g': 'G',\n",
       " 'h': 'H',\n",
       " 'i': 'I',\n",
       " 'j': 'J',\n",
       " 'k': None,\n",
       " 'l': None,\n",
       " 'm': None,\n",
       " 'n': None,\n",
       " 'o': None,\n",
       " 'p': None,\n",
       " 'q': None,\n",
       " 'r': None,\n",
       " 's': None,\n",
       " 't': None,\n",
       " 'u': None,\n",
       " 'v': None,\n",
       " 'w': None,\n",
       " 'x': None,\n",
       " 'y': None,\n",
       " 'z': None}"
      ]
     },
     "execution_count": 126,
     "metadata": {},
     "output_type": "execute_result"
    }
   ],
   "source": [
    "dict(zip_longest(\n",
    "    string.ascii_lowercase, \n",
    "    string.ascii_uppercase[:10]\n",
    "))"
   ]
  },
  {
   "cell_type": "code",
   "execution_count": 127,
   "metadata": {
    "scrolled": true
   },
   "outputs": [
    {
     "data": {
      "text/plain": [
       "{'a': 'A',\n",
       " 'b': 'B',\n",
       " 'c': 'C',\n",
       " 'd': 'D',\n",
       " 'e': 'E',\n",
       " 'f': 'F',\n",
       " 'g': 'G',\n",
       " 'h': 'H',\n",
       " 'i': 'I',\n",
       " 'j': 'J',\n",
       " 'k': '---',\n",
       " 'l': '---',\n",
       " 'm': '---',\n",
       " 'n': '---',\n",
       " 'o': '---',\n",
       " 'p': '---',\n",
       " 'q': '---',\n",
       " 'r': '---',\n",
       " 's': '---',\n",
       " 't': '---',\n",
       " 'u': '---',\n",
       " 'v': '---',\n",
       " 'w': '---',\n",
       " 'x': '---',\n",
       " 'y': '---',\n",
       " 'z': '---'}"
      ]
     },
     "execution_count": 127,
     "metadata": {},
     "output_type": "execute_result"
    }
   ],
   "source": [
    "dict(zip_longest(\n",
    "    string.ascii_lowercase, \n",
    "    string.ascii_uppercase[:10],\n",
    "    fillvalue='---'\n",
    "))"
   ]
  },
  {
   "cell_type": "code",
   "execution_count": 128,
   "metadata": {},
   "outputs": [
    {
     "name": "stdout",
     "output_type": "stream",
     "text": [
      "0 a\n",
      "1 b\n",
      "2 c\n",
      "3 d\n",
      "4 e\n",
      "5 f\n",
      "6 g\n",
      "7 h\n",
      "8 i\n",
      "9 j\n"
     ]
    }
   ],
   "source": [
    "# count() gives us a simple iterator of consecutive values\n",
    "\n",
    "for i, letter in zip(count(), string.ascii_letters[:10]):\n",
    "    print(i, letter)"
   ]
  },
  {
   "cell_type": "code",
   "execution_count": 129,
   "metadata": {},
   "outputs": [
    {
     "name": "stdout",
     "output_type": "stream",
     "text": [
      "0 a\n",
      "1 b\n",
      "2 c\n",
      "3 d\n",
      "4 e\n",
      "5 f\n",
      "6 g\n",
      "7 h\n",
      "8 i\n",
      "9 j\n"
     ]
    }
   ],
   "source": [
    "for i, letter in enumerate(string.ascii_letters[:10]):\n",
    "    print(i, letter)"
   ]
  },
  {
   "cell_type": "markdown",
   "metadata": {},
   "source": [
    "`groupby()` allows us to efficiently group values from an iterator into sub-iterators. For instance, we might have \n",
    "some datetime-based data that we wish to convert to date-based data:"
   ]
  },
  {
   "cell_type": "code",
   "execution_count": 130,
   "metadata": {
    "scrolled": true
   },
   "outputs": [
    {
     "name": "stdout",
     "output_type": "stream",
     "text": [
      "72\n"
     ]
    }
   ],
   "source": [
    "from random import random\n",
    "from datetime import datetime, timedelta\n",
    "\n",
    "trades = []\n",
    "dt = datetime(2016, 4, 24)\n",
    "while dt < datetime(2016,4,27):\n",
    "    trades.append((dt, random()))\n",
    "    dt += timedelta(hours=1)\n",
    "    \n",
    "print(len(trades))"
   ]
  },
  {
   "cell_type": "code",
   "execution_count": 131,
   "metadata": {},
   "outputs": [
    {
     "data": {
      "text/plain": [
       "[(datetime.datetime(2016, 4, 24, 0, 0), 0.4965480338504109),\n",
       " (datetime.datetime(2016, 4, 24, 1, 0), 0.5082207971758307),\n",
       " (datetime.datetime(2016, 4, 24, 2, 0), 0.2450234498883369),\n",
       " (datetime.datetime(2016, 4, 24, 3, 0), 0.838297546710035),\n",
       " (datetime.datetime(2016, 4, 24, 4, 0), 0.6786330193227134),\n",
       " (datetime.datetime(2016, 4, 24, 5, 0), 0.25430592781025063),\n",
       " (datetime.datetime(2016, 4, 24, 6, 0), 0.9676748178083329),\n",
       " (datetime.datetime(2016, 4, 24, 7, 0), 0.9713942585612562),\n",
       " (datetime.datetime(2016, 4, 24, 8, 0), 0.816414189896801),\n",
       " (datetime.datetime(2016, 4, 24, 9, 0), 0.5462580824553875)]"
      ]
     },
     "execution_count": 131,
     "metadata": {},
     "output_type": "execute_result"
    }
   ],
   "source": [
    "trades[:10]"
   ]
  },
  {
   "cell_type": "code",
   "execution_count": 132,
   "metadata": {},
   "outputs": [],
   "source": [
    "def day_of_trade(item):\n",
    "    dt, value = item\n",
    "    return dt.date()"
   ]
  },
  {
   "cell_type": "code",
   "execution_count": 133,
   "metadata": {},
   "outputs": [
    {
     "data": {
      "text/plain": [
       "datetime.date(2016, 4, 24)"
      ]
     },
     "execution_count": 133,
     "metadata": {},
     "output_type": "execute_result"
    }
   ],
   "source": [
    "day_of_trade(trades[12])"
   ]
  },
  {
   "cell_type": "code",
   "execution_count": 134,
   "metadata": {},
   "outputs": [
    {
     "name": "stdout",
     "output_type": "stream",
     "text": [
      "2016-04-24 <itertools._grouper object at 0x7f85d019e5b0>\n",
      "2016-04-25 <itertools._grouper object at 0x7f85c97b7460>\n",
      "2016-04-26 <itertools._grouper object at 0x7f85d019e6d0>\n"
     ]
    }
   ],
   "source": [
    "for date, date_trades in groupby(trades, key=day_of_trade):\n",
    "    print(date, date_trades)"
   ]
  },
  {
   "cell_type": "code",
   "execution_count": 135,
   "metadata": {},
   "outputs": [
    {
     "name": "stdout",
     "output_type": "stream",
     "text": [
      "2016-04-24 24\n",
      "2016-04-25 24\n",
      "2016-04-26 24\n"
     ]
    }
   ],
   "source": [
    "for date, date_trades in groupby(trades, key=day_of_trade):\n",
    "    print(date, len(list(date_trades)))"
   ]
  },
  {
   "cell_type": "code",
   "execution_count": 136,
   "metadata": {},
   "outputs": [
    {
     "name": "stdout",
     "output_type": "stream",
     "text": [
      "2016-04-24 0.5415627081912705\n",
      "2016-04-25 0.41307765853079337\n",
      "2016-04-26 0.449290561822655\n"
     ]
    }
   ],
   "source": [
    "for date, date_trades in groupby(trades, key=day_of_trade):\n",
    "    date_trades = list(date_trades)\n",
    "    #print(date, sum(v for dt, v in date_trades) / len(date_trades))\n",
    "    print(date, sum(t[1] for t in date_trades) / len(date_trades))\n"
   ]
  },
  {
   "cell_type": "code",
   "execution_count": 137,
   "metadata": {},
   "outputs": [
    {
     "name": "stdout",
     "output_type": "stream",
     "text": [
      "2969\n"
     ]
    }
   ],
   "source": [
    "!cat data/hamlet.txt | uniq | wc -l"
   ]
  },
  {
   "cell_type": "code",
   "execution_count": 138,
   "metadata": {},
   "outputs": [
    {
     "name": "stdout",
     "output_type": "stream",
     "text": [
      "2746\n"
     ]
    }
   ],
   "source": [
    "!cat data/hamlet.txt | sort | uniq | wc -l"
   ]
  },
  {
   "cell_type": "code",
   "execution_count": 139,
   "metadata": {
    "scrolled": true
   },
   "outputs": [
    {
     "name": "stdout",
     "output_type": "stream",
     "text": [
      "2016-04-24 2 0.5920590226694341\n",
      "2016-04-26 1 0.7135468530186728\n",
      "2016-04-25 1 0.038578336192201634\n",
      "2016-04-24 1 0.5082207971758307\n",
      "2016-04-25 3 0.26502214631305093\n",
      "2016-04-26 2 0.8049065528203363\n",
      "2016-04-24 1 0.651734644583197\n",
      "2016-04-25 1 0.6491482368586244\n",
      "2016-04-26 1 0.5229336201489253\n",
      "2016-04-25 2 0.48180896683541335\n",
      "2016-04-26 2 0.13796322529305965\n",
      "2016-04-25 2 0.6048998846618946\n",
      "2016-04-24 1 0.739350066725017\n",
      "2016-04-26 2 0.3234764396724436\n",
      "2016-04-24 2 0.16972029857938653\n",
      "2016-04-26 2 0.06094892609449376\n",
      "2016-04-24 1 0.9713942585612562\n",
      "2016-04-26 1 0.35410235582699223\n",
      "2016-04-25 1 0.02034726730174863\n",
      "2016-04-24 1 0.08309889934144354\n",
      "2016-04-25 2 0.4226954160951453\n",
      "2016-04-24 1 0.4524470824604008\n",
      "2016-04-25 2 0.6664468376898474\n",
      "2016-04-24 2 0.31326126321810815\n",
      "2016-04-25 1 0.14119039322046545\n",
      "2016-04-26 1 0.8086068040674569\n",
      "2016-04-25 1 0.14593175504784228\n",
      "2016-04-26 1 0.6407205093040631\n",
      "2016-04-24 1 0.9038686056972837\n",
      "2016-04-25 1 0.038303183838007904\n",
      "2016-04-24 1 0.5965083365407692\n",
      "2016-04-25 1 0.8974415650829001\n",
      "2016-04-24 1 0.5503474170147661\n",
      "2016-04-26 1 0.5118448666217515\n",
      "2016-04-25 1 0.042443786968032526\n",
      "2016-04-26 1 0.4978333835879254\n",
      "2016-04-24 1 0.4965480338504109\n",
      "2016-04-26 1 0.9455978456521078\n",
      "2016-04-24 1 0.25430592781025063\n",
      "2016-04-25 1 0.8938212607468963\n",
      "2016-04-26 1 0.5986791289930499\n",
      "2016-04-25 1 0.28889367370231755\n",
      "2016-04-24 1 0.6786330193227134\n",
      "2016-04-25 1 0.6437857092362355\n",
      "2016-04-26 2 0.6455970573114602\n",
      "2016-04-24 1 0.7727820743750725\n",
      "2016-04-26 3 0.12423558475822372\n",
      "2016-04-24 1 0.816414189896801\n",
      "2016-04-25 1 0.5797059910328711\n",
      "2016-04-24 2 0.6226475299292832\n",
      "2016-04-26 2 0.435308479932258\n",
      "2016-04-25 1 0.38750399600714447\n",
      "2016-04-24 2 0.5632377072214267\n"
     ]
    }
   ],
   "source": [
    "import random\n",
    "random.shuffle(trades)\n",
    "\n",
    "for date, date_trades in groupby(trades, key=day_of_trade):\n",
    "    date_trades = list(date_trades)\n",
    "    print(date, len(date_trades), sum(v for dt, v in date_trades) / len(list(date_trades)))\n"
   ]
  },
  {
   "cell_type": "markdown",
   "metadata": {},
   "source": [
    "### If you wish to group *unsorted* data, you should use a `defaultdict` instead."
   ]
  },
  {
   "cell_type": "code",
   "execution_count": 140,
   "metadata": {},
   "outputs": [],
   "source": [
    "from collections import defaultdict\n",
    "\n",
    "date_trades = defaultdict(list)\n",
    "for dt, value in trades:\n",
    "    day = dt.date()\n",
    "    date_trades[day].append(value)"
   ]
  },
  {
   "cell_type": "code",
   "execution_count": 141,
   "metadata": {},
   "outputs": [
    {
     "data": {
      "text/plain": [
       "3"
      ]
     },
     "execution_count": 141,
     "metadata": {},
     "output_type": "execute_result"
    }
   ],
   "source": [
    "len(date_trades)"
   ]
  },
  {
   "cell_type": "code",
   "execution_count": 142,
   "metadata": {},
   "outputs": [
    {
     "data": {
      "text/plain": [
       "{datetime.date(2016, 4, 24): 24,\n",
       " datetime.date(2016, 4, 26): 24,\n",
       " datetime.date(2016, 4, 25): 24}"
      ]
     },
     "execution_count": 142,
     "metadata": {},
     "output_type": "execute_result"
    }
   ],
   "source": [
    "{day: len(values) for day, values in date_trades.items()}"
   ]
  },
  {
   "cell_type": "markdown",
   "metadata": {},
   "source": [
    "This is the one place where itertools can use *lots* of memory:"
   ]
  },
  {
   "cell_type": "code",
   "execution_count": 143,
   "metadata": {},
   "outputs": [],
   "source": [
    "import itertools \n",
    "itertools.tee?"
   ]
  },
  {
   "cell_type": "code",
   "execution_count": 144,
   "metadata": {
    "scrolled": true
   },
   "outputs": [
    {
     "name": "stdout",
     "output_type": "stream",
     "text": [
      "\n",
      "\n",
      "The Tragedy of Hamlet, Prince of Denmark Shakespeare homepage |\n"
     ]
    }
   ],
   "source": [
    "with open('./data/hamlet.txt') as f:\n",
    "    (it1, it2) = itertools.tee(f)\n",
    "    for line in it2:\n",
    "        pass\n",
    "    print(next(it1), end='')    \n",
    "    print(next(it1), end='')    \n",
    "    print(next(it1), end='')"
   ]
  },
  {
   "cell_type": "code",
   "execution_count": 145,
   "metadata": {},
   "outputs": [],
   "source": [
    "def uniq_line_count(filename):\n",
    "    count = 0\n",
    "    with open(filename) as f:\n",
    "        cur, prev = itertools.tee(f)\n",
    "        first_line = next(cur)\n",
    "        count = 1\n",
    "        for c, p in zip(cur, prev):\n",
    "            if c != p:\n",
    "                count += 1\n",
    "    return count\n",
    "                "
   ]
  },
  {
   "cell_type": "code",
   "execution_count": 146,
   "metadata": {},
   "outputs": [
    {
     "data": {
      "text/plain": [
       "2969"
      ]
     },
     "execution_count": 146,
     "metadata": {},
     "output_type": "execute_result"
    }
   ],
   "source": [
    "uniq_line_count('./data/hamlet.txt')"
   ]
  },
  {
   "cell_type": "markdown",
   "metadata": {},
   "source": [
    "# Lab\n",
    "\n",
    "Open [Generators and Iterators Lab][iteration-lab]\n",
    "\n",
    "[iteration-lab]: ./iteration-lab.ipynb"
   ]
  },
  {
   "cell_type": "code",
   "execution_count": null,
   "metadata": {},
   "outputs": [],
   "source": []
  }
 ],
 "metadata": {
  "kernelspec": {
   "display_name": "Python 3 (ipykernel)",
   "language": "python",
   "name": "python3"
  },
  "language_info": {
   "codemirror_mode": {
    "name": "ipython",
    "version": 3
   },
   "file_extension": ".py",
   "mimetype": "text/x-python",
   "name": "python",
   "nbconvert_exporter": "python",
   "pygments_lexer": "ipython3",
   "version": "3.10.8"
  }
 },
 "nbformat": 4,
 "nbformat_minor": 4
}
