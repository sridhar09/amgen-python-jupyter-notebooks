{
 "cells": [
  {
   "cell_type": "markdown",
   "metadata": {},
   "source": [
    "# Flask API Lab\n",
    "\n",
    "First, make sure you can run the existing app (do this in a terminal window):\n",
    "\n",
    "```bash\n",
    "(env) $ cd data\n",
    "(env) $ export FLASK_APP=flask-examples.app7\n",
    "(env) $ export FLASK_ENV=development \n",
    "(env) $ flask run\n",
    "```\n",
    "\n",
    "- Create views for commenting on the blog (use the existing BASIC authorization header)\n",
    "- Create a blueprint 'authors' which will allow a user to update data about themselves, in particular `fullName` \n",
    "  and `password`. \n",
    "- Update the post and comment resources to return author information\n",
    "- Update your views to verify that the user's password matches the password passed in the authorization header"
   ]
  },
  {
   "cell_type": "code",
   "execution_count": null,
   "metadata": {},
   "outputs": [],
   "source": []
  }
 ],
 "metadata": {
  "kernelspec": {
   "display_name": "Python 3",
   "language": "python",
   "name": "python3"
  },
  "language_info": {
   "codemirror_mode": {
    "name": "ipython",
    "version": 3
   },
   "file_extension": ".py",
   "mimetype": "text/x-python",
   "name": "python",
   "nbconvert_exporter": "python",
   "pygments_lexer": "ipython3",
   "version": "3.8.5"
  }
 },
 "nbformat": 4,
 "nbformat_minor": 2
}
