{
 "cells": [
  {
   "cell_type": "markdown",
   "metadata": {
    "slideshow": {
     "slide_type": "slide"
    }
   },
   "source": [
    "# Lab for generators and Iterators\n",
    "\n",
    "Assume we have a tree structure represented with nested tuples:"
   ]
  },
  {
   "cell_type": "code",
   "execution_count": 1,
   "metadata": {},
   "outputs": [],
   "source": [
    "mytree = ('root',\n",
    "          ('child-L',\n",
    "           ('child-LL', (), ()),\n",
    "           ('child-LR', (), ())),\n",
    "          ('child-R',\n",
    "           ('child-RL', (), ()),\n",
    "           ('child-RR', (), ())))\n"
   ]
  },
  {
   "cell_type": "code",
   "execution_count": 2,
   "metadata": {},
   "outputs": [
    {
     "data": {
      "text/plain": [
       "('root',\n",
       " ('child-L', ('child-LL', (), ()), ('child-LR', (), ())),\n",
       " ('child-R', ('child-RL', (), ()), ('child-RR', (), ())))"
      ]
     },
     "execution_count": 2,
     "metadata": {},
     "output_type": "execute_result"
    }
   ],
   "source": [
    "mytree"
   ]
  },
  {
   "cell_type": "markdown",
   "metadata": {
    "slideshow": {
     "slide_type": "slide"
    }
   },
   "source": [
    "Write a generator that will yield the nodes of a tree and their depth in post-order:\n",
    "\n",
    "```python \n",
    "('child-LL', 2)\n",
    "('child-LR', 2)\n",
    "('child-L', 1)\n",
    "('child-RL', 2)\n",
    "...\n",
    "```"
   ]
  },
  {
   "cell_type": "code",
   "execution_count": 3,
   "metadata": {},
   "outputs": [],
   "source": [
    "# incorrect\n",
    "def postorder(node, depth=0):\n",
    "    if not node:\n",
    "        return\n",
    "    name, lchild, rchild = node\n",
    "    yield postorder(lchild, depth + 1)\n",
    "    yield postorder(rchild, depth + 1)\n",
    "    yield name, depth\n",
    "    "
   ]
  },
  {
   "cell_type": "code",
   "execution_count": 4,
   "metadata": {},
   "outputs": [
    {
     "name": "stdout",
     "output_type": "stream",
     "text": [
      "<generator object postorder at 0x7f2acc453740>\n",
      "<generator object postorder at 0x7f2acc4537b0>\n",
      "('root', 0)\n"
     ]
    }
   ],
   "source": [
    "for x in postorder(mytree):\n",
    "    print(x)"
   ]
  },
  {
   "cell_type": "code",
   "execution_count": 5,
   "metadata": {},
   "outputs": [],
   "source": [
    "def postorder(node, depth=0):\n",
    "    if not node:\n",
    "        return\n",
    "    name, lchild, rchild = node\n",
    "    for n in postorder(lchild, depth + 1):\n",
    "        yield n\n",
    "    for n in postorder(rchild, depth + 1):\n",
    "        yield n\n",
    "    yield name, depth\n",
    "    "
   ]
  },
  {
   "cell_type": "code",
   "execution_count": 6,
   "metadata": {},
   "outputs": [
    {
     "name": "stdout",
     "output_type": "stream",
     "text": [
      "('child-LL', 2)\n",
      "('child-LR', 2)\n",
      "('child-L', 1)\n",
      "('child-RL', 2)\n",
      "('child-RR', 2)\n",
      "('child-R', 1)\n",
      "('root', 0)\n"
     ]
    }
   ],
   "source": [
    "for x in postorder(mytree):\n",
    "    print(x)"
   ]
  },
  {
   "cell_type": "code",
   "execution_count": 7,
   "metadata": {},
   "outputs": [],
   "source": [
    "def postorder(node, depth=0):\n",
    "    #print(node)\n",
    "    if not node:\n",
    "        return\n",
    "    name, lchild, rchild = node\n",
    "    yield from postorder(lchild, depth + 1)   # analagous to list.extend or list += \n",
    "    yield from postorder(rchild, depth + 1)\n",
    "    yield name, depth                         # analagous to list.append\n",
    "    "
   ]
  },
  {
   "cell_type": "code",
   "execution_count": 8,
   "metadata": {},
   "outputs": [
    {
     "name": "stdout",
     "output_type": "stream",
     "text": [
      "('child-LL', 2)\n",
      "('child-LR', 2)\n",
      "('child-L', 1)\n",
      "('child-RL', 2)\n",
      "('child-RR', 2)\n",
      "('child-R', 1)\n",
      "('root', 0)\n"
     ]
    }
   ],
   "source": [
    "for x in postorder(mytree):\n",
    "    print(x)"
   ]
  },
  {
   "cell_type": "markdown",
   "metadata": {
    "slideshow": {
     "slide_type": "slide"
    }
   },
   "source": [
    "Write a loop that uses that generator to *print* the nodes of a tree in post-order"
   ]
  },
  {
   "cell_type": "code",
   "execution_count": 9,
   "metadata": {},
   "outputs": [
    {
     "name": "stdout",
     "output_type": "stream",
     "text": [
      "child-LL 2\n",
      "child-LR 2\n",
      "child-L 1\n",
      "child-RL 2\n",
      "child-RR 2\n",
      "child-R 1\n",
      "root 0\n"
     ]
    }
   ],
   "source": [
    "for name, depth in postorder(mytree):\n",
    "    print(name, depth)"
   ]
  },
  {
   "cell_type": "markdown",
   "metadata": {},
   "source": [
    "# (Using Lists)"
   ]
  },
  {
   "cell_type": "code",
   "execution_count": 14,
   "metadata": {},
   "outputs": [],
   "source": [
    "def postorder(node, depth=0):\n",
    "    if not node:\n",
    "        return []\n",
    "    name, lchild, rchild = node\n",
    "    lst = []\n",
    "#     lst.append(postorder(lchild, depth+1))\n",
    "#     lst.append(postorder(rchild, depth+1))\n",
    "\n",
    "    lst += postorder(lchild, depth + 1)       # like 'yield from'\n",
    "    lst += postorder(rchild, depth + 1)       # like 'yield from'\n",
    "    lst.append((name, depth))                 # like 'yield'\n",
    "    return lst\n",
    "    "
   ]
  },
  {
   "cell_type": "code",
   "execution_count": 15,
   "metadata": {},
   "outputs": [
    {
     "name": "stdout",
     "output_type": "stream",
     "text": [
      "('child-LL', 2)\n",
      "('child-LR', 2)\n",
      "('child-L', 1)\n",
      "('child-RL', 2)\n",
      "('child-RR', 2)\n",
      "('child-R', 1)\n",
      "('root', 0)\n"
     ]
    }
   ],
   "source": [
    "for x in postorder(mytree):\n",
    "    print(x)"
   ]
  },
  {
   "cell_type": "code",
   "execution_count": 16,
   "metadata": {},
   "outputs": [],
   "source": [
    "def postorder(node, depth=0):\n",
    "    if not node:\n",
    "        # return []\n",
    "        return\n",
    "    name, lchild, rchild = node\n",
    "    # lst = []\n",
    "    # lst += postorder(lchild, depth + 1)       # like 'yield from'\n",
    "    yield from postorder(lchild, depth + 1)\n",
    "    # lst += postorder(rchild, depth + 1)       # like 'yield from'\n",
    "    yield from postorder(rchild, depth + 1)\n",
    "    # lst.append((name, depth))                 # like 'yield'\n",
    "    yield name, depth\n",
    "    # return lst\n",
    "    "
   ]
  },
  {
   "cell_type": "code",
   "execution_count": 17,
   "metadata": {
    "scrolled": true
   },
   "outputs": [
    {
     "name": "stdout",
     "output_type": "stream",
     "text": [
      "         child-LL\n",
      "         child-LR\n",
      "     child-L\n",
      "         child-RL\n",
      "         child-RR\n",
      "     child-R\n",
      " root\n"
     ]
    }
   ],
   "source": [
    "for name, depth in postorder(mytree):\n",
    "    print('    ' * depth, name)"
   ]
  },
  {
   "cell_type": "code",
   "execution_count": 18,
   "metadata": {},
   "outputs": [],
   "source": [
    "def preorder(node, depth=0):\n",
    "    if not node:\n",
    "        return\n",
    "    name, lchild, rchild = node\n",
    "    yield name, depth    \n",
    "    yield from preorder(lchild, depth + 1)\n",
    "    yield from preorder(rchild, depth + 1)\n"
   ]
  },
  {
   "cell_type": "code",
   "execution_count": 19,
   "metadata": {},
   "outputs": [
    {
     "name": "stdout",
     "output_type": "stream",
     "text": [
      " root\n",
      "     child-L\n",
      "         child-LL\n",
      "         child-LR\n",
      "     child-R\n",
      "         child-RL\n",
      "         child-RR\n"
     ]
    }
   ],
   "source": [
    "for name, depth in preorder(mytree):\n",
    "    print('    ' * depth, name)"
   ]
  },
  {
   "cell_type": "code",
   "execution_count": 20,
   "metadata": {},
   "outputs": [],
   "source": [
    "def inorder(node, depth=0):\n",
    "    if not node:\n",
    "        return\n",
    "    name, lchild, rchild = node\n",
    "    yield from inorder(lchild, depth + 1)\n",
    "    yield name, depth    \n",
    "    yield from inorder(rchild, depth + 1)\n",
    "\n"
   ]
  },
  {
   "cell_type": "code",
   "execution_count": 21,
   "metadata": {},
   "outputs": [
    {
     "name": "stdout",
     "output_type": "stream",
     "text": [
      "         0 child-LL\n",
      "     1 child-L\n",
      "         2 child-LR\n",
      " 3 root\n",
      "         4 child-RL\n",
      "     5 child-R\n",
      "         6 child-RR\n"
     ]
    }
   ],
   "source": [
    "for i, (name, depth) in enumerate(inorder(mytree)):\n",
    "    print('    ' * depth, i, name)"
   ]
  },
  {
   "cell_type": "code",
   "execution_count": null,
   "metadata": {},
   "outputs": [],
   "source": []
  }
 ],
 "metadata": {
  "kernelspec": {
   "display_name": "Python 3",
   "language": "python",
   "name": "python3"
  },
  "language_info": {
   "codemirror_mode": {
    "name": "ipython",
    "version": 3
   },
   "file_extension": ".py",
   "mimetype": "text/x-python",
   "name": "python",
   "nbconvert_exporter": "python",
   "pygments_lexer": "ipython3",
   "version": "3.8.5"
  }
 },
 "nbformat": 4,
 "nbformat_minor": 1
}
